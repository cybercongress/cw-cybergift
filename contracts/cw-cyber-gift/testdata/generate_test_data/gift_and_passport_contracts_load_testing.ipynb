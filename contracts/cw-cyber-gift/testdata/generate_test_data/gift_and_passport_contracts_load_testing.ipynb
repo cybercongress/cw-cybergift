{
 "cells": [
  {
   "cell_type": "markdown",
   "source": [
    "## Gift Contract Testing"
   ],
   "metadata": {
    "collapsed": false
   }
  },
  {
   "cell_type": "code",
   "execution_count": 1,
   "outputs": [
    {
     "name": "stderr",
     "output_type": "stream",
     "text": [
      "/home/grovybear/.local/lib/python3.9/site-packages/ipfshttpclient/client/__init__.py:75: VersionMismatch: Unsupported daemon version '0.12.2' (not in range: 0.5.0 ≤ … < 0.9.0)\n",
      "  warnings.warn(exceptions.VersionMismatch(version, minimum, maximum))\n"
     ]
    }
   ],
   "source": [
    "from web3.auto import w3\n",
    "import pandas as pd\n",
    "from cyberpy import generate_wallet, address_to_address\n",
    "from cyberpy._message_signer import Message\n",
    "from cyberpy._wallet import seed_to_privkey\n",
    "from eth_account.messages import encode_defunct\n",
    "import json\n",
    "import random\n",
    "from time import time, sleep\n",
    "import ipfshttpclient\n",
    "from tqdm.notebook import tqdm\n",
    "from base64 import b64encode\n",
    "from multiprocess import Pool\n",
    "from math import ceil\n",
    "from dotenv import dotenv_values\n",
    "from itertools import chain\n",
    "\n",
    "from contract_utils import execute_bash, instantiate_contract, execute_contract_bash, query_contract, get_ipfs_cid_from_str, get_proofs, ContractUtils\n",
    "\n",
    "\n",
    "ipfs_client = ipfshttpclient.connect()\n",
    "\n",
    "NUMBER_OF_PARTICIPANTS = 100\n",
    "NUMBER_OF_ACTIVATED_PARTICIPANTS = 20\n",
    "INITIAL_BALANCE = str(110_000_000)\n",
    "COEF_UP = str(13)\n",
    "COEF_DOWN = str(7)\n",
    "TARGET_CLAIM = str(2)\n",
    "CLAIM_AMOUNT_LIST = [int(round(20_000 * random.random(), -3)) + 20_000 for _ in range(NUMBER_OF_PARTICIPANTS)]\n",
    "\n",
    "NUMBER_OF_THREADS = 100\n",
    "KEY_PHRASE = 'KEY PHRASE'\n",
    "NICKNAME_LIST = [f'john{round(time())}{number}' for number in range(NUMBER_OF_PARTICIPANTS)]\n",
    "AVATAR_CID_LIST = [get_ipfs_cid_from_str(_nickname + '_avatar') for _nickname in NICKNAME_LIST]\n",
    "PREFIXES = ['cosmos', 'osmo', 'terra']\n",
    "\n",
    "WALLET_ADDRESS = dotenv_values('.env')['WALLET_ADDRESS']\n",
    "WALLET_SEED = dotenv_values('.env')['WALLET_SEED']\n",
    "PYTHON_PATH = dotenv_values('.env')['PYTHON_PATH']\n",
    "\n",
    "DISPLAY_TX_EXECUTION = False\n",
    "CALCULATE_ADDRESS_SET = True\n",
    "CALCULATE_PROOFS = True\n",
    "SEND_COINS = True\n",
    "\n",
    "INIT_SUBGRAPH_CONTRACTS = False\n",
    "SUBGRAPH_CODE_ID = str(3)\n",
    "NAME_SUBGRAPH_CONTRACT_ADDRESS = 'bostrom1qg5ega6dykkxc307y25pecuufrjkxkaggkkxh7nad0vhyhtuhw3sp98tza'\n",
    "AVATAR_SUBGRAPH_CONTRACT_ADDRESS = 'bostrom17p9rzwnnfxcjp32un9ug7yhhzgtkhvl9jfksztgw5uh69wac2pgs6qwudf'\n",
    "PROOF_SUBGRAPH_CONTRACT_ADDRESS = 'bostrom1unyuj8qnmygvzuex3dwmg9yzt9alhvyeat0uu0jedg2wj33efl5qpj0rgp'\n",
    "\n",
    "INIT_PASSPORT_CONTRACT = False\n",
    "PASSPORT_CODE_ID = str(2)\n",
    "PASSPORT_CONTRACT_ADDRESS = 'bostrom1hulx7cgvpfcvg83wk5h96sedqgn72n026w6nl47uht554xhvj9nsjxcwgf'\n",
    "\n",
    "INIT_TREASURY_CONTRACT = True\n",
    "TREASURY_CODE_ID = str(4)\n",
    "TREASURY_CONTRACT_ADDRESS = 'bostrom18cszlvm6pze0x9sz32qnjq4vtd45xehqs8dq7cwy8yhq35wfnn3q9u647v'\n",
    "\n",
    "INIT_GIFT_CONTRACT = True\n",
    "GIFT_CODE_ID = str(1)\n",
    "GIFT_CONTRACT_ADDRESS = 'bostrom14swjuycwxmvghd9hgr3f3755388g6xkaqpn2dxcf700fzcwdm2nqum7453'\n",
    "\n",
    "PARTICIPANTS_FILE_NAME = 'temp/participants_test_data_' + str(NUMBER_OF_PARTICIPANTS) + '_addresses.csv'\n",
    "ROOT_SOURCE_FILE_NAME = 'temp/root_testing_source_' + str(NUMBER_OF_PARTICIPANTS) + '_addresses.json'\n",
    "PROOF_FILE_NAME = 'temp/proof_testing_' + str(NUMBER_OF_PARTICIPANTS) + '_addresses.json'\n",
    "ROOT_FILE_NAME = 'temp/root_testing_' + str(NUMBER_OF_PARTICIPANTS) + '_addresses'"
   ],
   "metadata": {
    "collapsed": false,
    "pycharm": {
     "name": "#%%\n"
    }
   }
  },
  {
   "cell_type": "markdown",
   "source": [
    "### Generate addresses and sign messages"
   ],
   "metadata": {
    "collapsed": false
   }
  },
  {
   "cell_type": "code",
   "execution_count": 2,
   "outputs": [
    {
     "name": "stdout",
     "output_type": "stream",
     "text": [
      "Number of tasks: 100\n",
      "Number of threads: 100\n"
     ]
    },
    {
     "data": {
      "text/plain": "  0%|          | 0/100 [00:00<?, ?it/s]",
      "application/vnd.jupyter.widget-view+json": {
       "version_major": 2,
       "version_minor": 0,
       "model_id": "5d27fa2e28744f63af34e4d9b419eada"
      }
     },
     "metadata": {},
     "output_type": "display_data"
    },
    {
     "data": {
      "text/plain": "   amount         nickname                                          avatar  \\\n0   37000  john16524556460  QmWjoa15st7pQdqCuo5vKMrpKMjXroJyCXB3Nm148kBpNm   \n1   28000  john16524556461  QmfQCwumjRNJ99K2nNHu3w4ofG9cCmfgYK6oan8TLUoVFU   \n2   37000  john16524556462  QmVBCneexAk5YwqgmZpK9uLJ7Yp3ztHPSuEhNf4SLwN6RY   \n3   28000  john16524556463  QmNbbs86trP1bDhZmnehdhgmAug7sJqwZkAJYzaq4vqDJN   \n4   31000  john16524556464  QmRa7u7C9KJc5Hq1xVo5kTFwiFtZzSguoAd6uW9QmrwvF7   \n\n                             ethereum_address  \\\n0  0xa46c3429e76d1fe548dada6de8ad4b34b51c7a9b   \n1  0x22ee476481e69175a6aa699bd2cf243a502d32c0   \n2  0x2e17b2d8622154f6cc672eed556f5dc063fc0cd1   \n3  0x6898679f8eb22714a6a6007f5698ca03d989aba0   \n4  0xd0c078c04bc16329e6ad0f9660b604d815526215   \n\n                                ethereum_private_key  \\\n0  0x16413d97eafd10e2dba139df366f2000ce6715a2688d...   \n1  0x59cd4a1e2c24acc5b624b6393b1adb5cf9e98e510670...   \n2  0xad915cbf7122fec8901fc75f8c70cf1f40f19f6c7c3d...   \n3  0x76d74947ea7c816b275cdc2dc4d070c3e5fde17b4bbe...   \n4  0xd5ee3986f420f753690313e7ad986125b290f7af5f45...   \n\n                                  bostrom_address  \\\n0  bostrom1gsdle3czkc5gr25yykd2f5jjrh623nmkl90jqv   \n1  bostrom12fqp8lu305fm6jmuahl337eruln9c78apphyqz   \n2  bostrom1nk8lxsa7c5fg4hrtgemrjhtmv2j8fcddwhkzd6   \n3  bostrom1xd76dswkdt2vl3fr9eh9g5rjymx9yjdn2vr4w2   \n4  bostrom1zyuzqfq8raq8fss7jvt9w8gxsrz4y96zfez3zc   \n\n                                  cosmos_address  \\\n0  cosmos1gsdle3czkc5gr25yykd2f5jjrh623nmkukmp7t   \n1  cosmos12fqp8lu305fm6jmuahl337eruln9c78azjrh79   \n2    osmo1nk8lxsa7c5fg4hrtgemrjhtmv2j8fcdd9l3p90   \n3  cosmos1xd76dswkdt2vl3fr9eh9g5rjymx9yjdnflhxsd   \n4  cosmos1zyuzqfq8raq8fss7jvt9w8gxsrz4y96z22kzul   \n\n                                         cosmos_seed  \\\n0  there admit toy stairs tree breeze taxi dress ...   \n1  version giggle fruit orchard man royal false w...   \n2  napkin program tiny demise young cousin extend...   \n3  alpha concert boil hip polar outdoor remember ...   \n4  royal memory element nurse tiny brand expand c...   \n\n                                             message  \\\n0  bostrom1gsdle3czkc5gr25yykd2f5jjrh623nmkl90jqv...   \n1  bostrom12fqp8lu305fm6jmuahl337eruln9c78apphyqz...   \n2  bostrom1nk8lxsa7c5fg4hrtgemrjhtmv2j8fcddwhkzd6...   \n3  bostrom1xd76dswkdt2vl3fr9eh9g5rjymx9yjdn2vr4w2...   \n4  bostrom1zyuzqfq8raq8fss7jvt9w8gxsrz4y96zfez3zc...   \n\n                          ethereum_message_signature  \\\n0  0x7b31050cea96cb12eac7b3d4008b44cbf88a70ced847...   \n1  0x1aeb731b6fc6f1082d9168644dd66cc493b469bf6954...   \n2  0x0be441a65c38e3edb63dca9b46419ec14d8a9bd8ddea...   \n3  0x329e5ba1786a7d1163bb297862a8e0bae468e0904ffe...   \n4  0x48d9bbdbb64db41baccba500163e3741ac3e857886da...   \n\n                           cosmos_message_signed_row  \\\n0  {'pub_key': 'A2b4HMzGa4a5dMbgTlrQkXQLvFIOFeLW8...   \n1  {'pub_key': 'AnVFAajCMBRdW1/vKKzDaND5ilo+pnp5g...   \n2  {'pub_key': 'AxEjEV43UTJBvprmwk3LMwM0hvwhguiSS...   \n3  {'pub_key': 'AnEN0gpvotvXcDI3vB3RzWQypvoPovFya...   \n4  {'pub_key': 'A186S7pWxo+VUTKbL9sZY4J+TOKAm4qrj...   \n\n                            cosmos_message_signature  \n0  eyJwdWJfa2V5IjoiQTJiNEhNekdhNGE1ZE1iZ1RsclFrWF...  \n1  eyJwdWJfa2V5IjoiQW5WRkFhakNNQlJkVzEvdktLekRhTk...  \n2  eyJwdWJfa2V5IjoiQXhFakVWNDNVVEpCdnBybXdrM0xNd0...  \n3  eyJwdWJfa2V5IjoiQW5FTjBncHZvdHZYY0RJM3ZCM1J6V1...  \n4  eyJwdWJfa2V5IjoiQTE4NlM3cFd4bytWVVRLYkw5c1pZNE...  ",
      "text/html": "<div>\n<style scoped>\n    .dataframe tbody tr th:only-of-type {\n        vertical-align: middle;\n    }\n\n    .dataframe tbody tr th {\n        vertical-align: top;\n    }\n\n    .dataframe thead th {\n        text-align: right;\n    }\n</style>\n<table border=\"1\" class=\"dataframe\">\n  <thead>\n    <tr style=\"text-align: right;\">\n      <th></th>\n      <th>amount</th>\n      <th>nickname</th>\n      <th>avatar</th>\n      <th>ethereum_address</th>\n      <th>ethereum_private_key</th>\n      <th>bostrom_address</th>\n      <th>cosmos_address</th>\n      <th>cosmos_seed</th>\n      <th>message</th>\n      <th>ethereum_message_signature</th>\n      <th>cosmos_message_signed_row</th>\n      <th>cosmos_message_signature</th>\n    </tr>\n  </thead>\n  <tbody>\n    <tr>\n      <th>0</th>\n      <td>37000</td>\n      <td>john16524556460</td>\n      <td>QmWjoa15st7pQdqCuo5vKMrpKMjXroJyCXB3Nm148kBpNm</td>\n      <td>0xa46c3429e76d1fe548dada6de8ad4b34b51c7a9b</td>\n      <td>0x16413d97eafd10e2dba139df366f2000ce6715a2688d...</td>\n      <td>bostrom1gsdle3czkc5gr25yykd2f5jjrh623nmkl90jqv</td>\n      <td>cosmos1gsdle3czkc5gr25yykd2f5jjrh623nmkukmp7t</td>\n      <td>there admit toy stairs tree breeze taxi dress ...</td>\n      <td>bostrom1gsdle3czkc5gr25yykd2f5jjrh623nmkl90jqv...</td>\n      <td>0x7b31050cea96cb12eac7b3d4008b44cbf88a70ced847...</td>\n      <td>{'pub_key': 'A2b4HMzGa4a5dMbgTlrQkXQLvFIOFeLW8...</td>\n      <td>eyJwdWJfa2V5IjoiQTJiNEhNekdhNGE1ZE1iZ1RsclFrWF...</td>\n    </tr>\n    <tr>\n      <th>1</th>\n      <td>28000</td>\n      <td>john16524556461</td>\n      <td>QmfQCwumjRNJ99K2nNHu3w4ofG9cCmfgYK6oan8TLUoVFU</td>\n      <td>0x22ee476481e69175a6aa699bd2cf243a502d32c0</td>\n      <td>0x59cd4a1e2c24acc5b624b6393b1adb5cf9e98e510670...</td>\n      <td>bostrom12fqp8lu305fm6jmuahl337eruln9c78apphyqz</td>\n      <td>cosmos12fqp8lu305fm6jmuahl337eruln9c78azjrh79</td>\n      <td>version giggle fruit orchard man royal false w...</td>\n      <td>bostrom12fqp8lu305fm6jmuahl337eruln9c78apphyqz...</td>\n      <td>0x1aeb731b6fc6f1082d9168644dd66cc493b469bf6954...</td>\n      <td>{'pub_key': 'AnVFAajCMBRdW1/vKKzDaND5ilo+pnp5g...</td>\n      <td>eyJwdWJfa2V5IjoiQW5WRkFhakNNQlJkVzEvdktLekRhTk...</td>\n    </tr>\n    <tr>\n      <th>2</th>\n      <td>37000</td>\n      <td>john16524556462</td>\n      <td>QmVBCneexAk5YwqgmZpK9uLJ7Yp3ztHPSuEhNf4SLwN6RY</td>\n      <td>0x2e17b2d8622154f6cc672eed556f5dc063fc0cd1</td>\n      <td>0xad915cbf7122fec8901fc75f8c70cf1f40f19f6c7c3d...</td>\n      <td>bostrom1nk8lxsa7c5fg4hrtgemrjhtmv2j8fcddwhkzd6</td>\n      <td>osmo1nk8lxsa7c5fg4hrtgemrjhtmv2j8fcdd9l3p90</td>\n      <td>napkin program tiny demise young cousin extend...</td>\n      <td>bostrom1nk8lxsa7c5fg4hrtgemrjhtmv2j8fcddwhkzd6...</td>\n      <td>0x0be441a65c38e3edb63dca9b46419ec14d8a9bd8ddea...</td>\n      <td>{'pub_key': 'AxEjEV43UTJBvprmwk3LMwM0hvwhguiSS...</td>\n      <td>eyJwdWJfa2V5IjoiQXhFakVWNDNVVEpCdnBybXdrM0xNd0...</td>\n    </tr>\n    <tr>\n      <th>3</th>\n      <td>28000</td>\n      <td>john16524556463</td>\n      <td>QmNbbs86trP1bDhZmnehdhgmAug7sJqwZkAJYzaq4vqDJN</td>\n      <td>0x6898679f8eb22714a6a6007f5698ca03d989aba0</td>\n      <td>0x76d74947ea7c816b275cdc2dc4d070c3e5fde17b4bbe...</td>\n      <td>bostrom1xd76dswkdt2vl3fr9eh9g5rjymx9yjdn2vr4w2</td>\n      <td>cosmos1xd76dswkdt2vl3fr9eh9g5rjymx9yjdnflhxsd</td>\n      <td>alpha concert boil hip polar outdoor remember ...</td>\n      <td>bostrom1xd76dswkdt2vl3fr9eh9g5rjymx9yjdn2vr4w2...</td>\n      <td>0x329e5ba1786a7d1163bb297862a8e0bae468e0904ffe...</td>\n      <td>{'pub_key': 'AnEN0gpvotvXcDI3vB3RzWQypvoPovFya...</td>\n      <td>eyJwdWJfa2V5IjoiQW5FTjBncHZvdHZYY0RJM3ZCM1J6V1...</td>\n    </tr>\n    <tr>\n      <th>4</th>\n      <td>31000</td>\n      <td>john16524556464</td>\n      <td>QmRa7u7C9KJc5Hq1xVo5kTFwiFtZzSguoAd6uW9QmrwvF7</td>\n      <td>0xd0c078c04bc16329e6ad0f9660b604d815526215</td>\n      <td>0xd5ee3986f420f753690313e7ad986125b290f7af5f45...</td>\n      <td>bostrom1zyuzqfq8raq8fss7jvt9w8gxsrz4y96zfez3zc</td>\n      <td>cosmos1zyuzqfq8raq8fss7jvt9w8gxsrz4y96z22kzul</td>\n      <td>royal memory element nurse tiny brand expand c...</td>\n      <td>bostrom1zyuzqfq8raq8fss7jvt9w8gxsrz4y96zfez3zc...</td>\n      <td>0x48d9bbdbb64db41baccba500163e3741ac3e857886da...</td>\n      <td>{'pub_key': 'A186S7pWxo+VUTKbL9sZY4J+TOKAm4qrj...</td>\n      <td>eyJwdWJfa2V5IjoiQTE4NlM3cFd4bytWVVRLYkw5c1pZNE...</td>\n    </tr>\n  </tbody>\n</table>\n</div>"
     },
     "execution_count": 2,
     "metadata": {},
     "output_type": "execute_result"
    }
   ],
   "source": [
    "def generate_wallet_data(i: int, prefixes: list = PREFIXES) -> dict:\n",
    "\n",
    "    prefix = random.choice(prefixes)\n",
    "\n",
    "    claim_item = {'amount': CLAIM_AMOUNT_LIST[i],\n",
    "              'nickname': NICKNAME_LIST[i],\n",
    "              'avatar': AVATAR_CID_LIST[i]}\n",
    "\n",
    "    # Generate Ethereum wallet\n",
    "    ethereum_wallet = w3.eth.account.create(KEY_PHRASE)\n",
    "    claim_item['ethereum_address'] = ethereum_wallet.address.lower()\n",
    "    claim_item['ethereum_private_key'] = ethereum_wallet.privateKey.hex()\n",
    "\n",
    "    # Generate Bostrom and Cosmos wallet\n",
    "    bostrom_wallet = generate_wallet()\n",
    "    claim_item['bostrom_address'] = bostrom_wallet['address']\n",
    "    claim_item['cosmos_address'] = address_to_address(bostrom_wallet['address'], prefix)\n",
    "    claim_item['cosmos_seed'] = bostrom_wallet['seed']\n",
    "\n",
    "    # Create message\n",
    "    claim_item['message'] = f\"{claim_item['bostrom_address']}:QmRX8qYgeZoYM3M5zzQaWEpVFdpin6FvVXvp6RPQK3oufV\"\n",
    "\n",
    "    # Sign message form Ethereum address\n",
    "    ethereum_signed_message = \\\n",
    "        w3.eth.account.sign_message(\n",
    "            signable_message=encode_defunct(text=claim_item['message']),\n",
    "            private_key=ethereum_wallet.privateKey)\n",
    "    claim_item['ethereum_message_signature'] = ethereum_signed_message.signature.hex()\n",
    "\n",
    "    # Sign message form Cosmos address\n",
    "    cosmos_msg = Message(privkey=seed_to_privkey(seed=claim_item['cosmos_seed']))\n",
    "    cosmos_msg.add_message(signing_message=claim_item['message'], signer_prefix=prefix)\n",
    "    claim_item['cosmos_message_signed_row'] = cosmos_msg.get_signed_message()\n",
    "    claim_item['cosmos_message_signature'] = b64encode(json.dumps(claim_item['cosmos_message_signed_row']).replace('\\n', '').replace(' ', '').encode('utf-8')).decode(\"utf-8\")\n",
    "\n",
    "    # Verify message\n",
    "    assert claim_item['ethereum_address'] == w3.eth.account.recover_message(\n",
    "        signable_message=encode_defunct(text=claim_item['message']),\n",
    "        signature=claim_item['ethereum_message_signature']).lower()\n",
    "\n",
    "    return claim_item\n",
    "\n",
    "\n",
    "if CALCULATE_ADDRESS_SET:\n",
    "\n",
    "    tasks = list(range(NUMBER_OF_PARTICIPANTS))\n",
    "    print(f'Number of tasks: {len(tasks)}')\n",
    "    print(f'Number of threads: {NUMBER_OF_THREADS}')\n",
    "    with Pool(processes=NUMBER_OF_THREADS) as pool:\n",
    "        claims_list = list(tqdm(pool.imap(generate_wallet_data, tasks), total=len(tasks)))\n",
    "\n",
    "    claims_df = pd.DataFrame(claims_list)\n",
    "    claims_df.to_csv('temp/claims_ethereum_test_data_without_proof_' + str(NUMBER_OF_PARTICIPANTS) + '_addresses.csv')\n",
    "else:\n",
    "    claims_df = pd.read_csv('temp/claims_ethereum_test_data_without_proof_' + str(NUMBER_OF_PARTICIPANTS) + '_addresses.csv')\n",
    "claims_df.head()"
   ],
   "metadata": {
    "collapsed": false,
    "pycharm": {
     "name": "#%%\n"
    }
   }
  },
  {
   "cell_type": "markdown",
   "source": [
    "### Create Merkle Tree, Get Root and Proofs"
   ],
   "metadata": {
    "collapsed": false,
    "pycharm": {
     "name": "#%% md\n"
    }
   }
  },
  {
   "cell_type": "code",
   "execution_count": 3,
   "outputs": [],
   "source": [
    "root_source_list_ethereum = \\\n",
    "    [{'address': _item[0],\n",
    "      'amount': str(_item[1])}\n",
    "     for _item in claims_df.loc[:, ['ethereum_address', 'amount']].values.tolist()]\n",
    "root_source_list_cosmos = \\\n",
    "    [{'address': _item[0],\n",
    "      'amount': str(_item[1])}\n",
    "     for _item in claims_df.loc[:, ['cosmos_address', 'amount']].values.tolist()]\n",
    "root_source_list = list(chain.from_iterable(zip(root_source_list_ethereum, root_source_list_cosmos)))\n",
    "\n",
    "with open(ROOT_SOURCE_FILE_NAME, 'w') as outfile:\n",
    "    outfile.write(str(root_source_list).replace(\"'\", '\"'))"
   ],
   "metadata": {
    "collapsed": false,
    "pycharm": {
     "name": "#%%\n"
    }
   }
  },
  {
   "cell_type": "code",
   "execution_count": 4,
   "outputs": [
    {
     "name": "stdout",
     "output_type": "stream",
     "text": [
      "Number of addresses: 200\n",
      "Number of activated participants: 20\n",
      "Number of threads: 30\n",
      "Bash size: 2,000\n",
      "Number of tasks: 1\n"
     ]
    },
    {
     "data": {
      "text/plain": "  0%|          | 0/1 [00:00<?, ?it/s]",
      "application/vnd.jupyter.widget-view+json": {
       "version_major": 2,
       "version_minor": 0,
       "model_id": "c859f1ded7c44c698849b67356929deb"
      }
     },
     "metadata": {},
     "output_type": "display_data"
    },
    {
     "name": "stdout",
     "output_type": "stream",
     "text": [
      "yarn run v1.22.18\n",
      "$ ts-node index.ts --input temp/root_testing_source_100_addresses.json --output temp/proofs_0.json --start_index 0 --end_index 41\n",
      "Merkle root: 9cd04665a7e1232d6af027e7890cb5b043a694d5272ec74931a37bb825054c37\n",
      "Number of addresses in the Merkle tree: 41\n",
      "Done in 1.18s.\n",
      "\n"
     ]
    }
   ],
   "source": [
    "NUMBER_OF_THREADS = 30\n",
    "BASH_SIZE = 2000\n",
    "\n",
    "tasks = set(\n",
    "    (\n",
    "        (ROOT_SOURCE_FILE_NAME,\n",
    "         f'temp/proofs_{i}.json',\n",
    "         i * BASH_SIZE,\n",
    "         min(NUMBER_OF_ACTIVATED_PARTICIPANTS * 2 + 1, (i + 1) * BASH_SIZE + 1))\n",
    "        for i in range(ceil(2 * NUMBER_OF_ACTIVATED_PARTICIPANTS/BASH_SIZE))\n",
    "    )\n",
    ")\n",
    "if CALCULATE_PROOFS:\n",
    "    print(f'Number of addresses: {2 * NUMBER_OF_PARTICIPANTS:>,}\\nNumber of activated participants: {NUMBER_OF_ACTIVATED_PARTICIPANTS:>,}\\nNumber of threads: {NUMBER_OF_THREADS:>,}\\nBash size: {BASH_SIZE:>,}\\nNumber of tasks: {len(tasks):>,}')\n",
    "    with Pool(processes=NUMBER_OF_THREADS) as pool:\n",
    "        res = pool.starmap(get_proofs, tqdm(tasks, total=len(tasks)))\n",
    "    assert res == [True] * len(res)"
   ],
   "metadata": {
    "collapsed": false,
    "pycharm": {
     "name": "#%%\n"
    }
   }
  },
  {
   "cell_type": "code",
   "execution_count": 5,
   "outputs": [
    {
     "data": {
      "text/plain": "   amount         nickname                                          avatar  \\\n0   37000  john16524556460  QmWjoa15st7pQdqCuo5vKMrpKMjXroJyCXB3Nm148kBpNm   \n1   28000  john16524556461  QmfQCwumjRNJ99K2nNHu3w4ofG9cCmfgYK6oan8TLUoVFU   \n2   37000  john16524556462  QmVBCneexAk5YwqgmZpK9uLJ7Yp3ztHPSuEhNf4SLwN6RY   \n3   28000  john16524556463  QmNbbs86trP1bDhZmnehdhgmAug7sJqwZkAJYzaq4vqDJN   \n4   31000  john16524556464  QmRa7u7C9KJc5Hq1xVo5kTFwiFtZzSguoAd6uW9QmrwvF7   \n\n                             ethereum_address  \\\n0  0xa46c3429e76d1fe548dada6de8ad4b34b51c7a9b   \n1  0x22ee476481e69175a6aa699bd2cf243a502d32c0   \n2  0x2e17b2d8622154f6cc672eed556f5dc063fc0cd1   \n3  0x6898679f8eb22714a6a6007f5698ca03d989aba0   \n4  0xd0c078c04bc16329e6ad0f9660b604d815526215   \n\n                                ethereum_private_key  \\\n0  0x16413d97eafd10e2dba139df366f2000ce6715a2688d...   \n1  0x59cd4a1e2c24acc5b624b6393b1adb5cf9e98e510670...   \n2  0xad915cbf7122fec8901fc75f8c70cf1f40f19f6c7c3d...   \n3  0x76d74947ea7c816b275cdc2dc4d070c3e5fde17b4bbe...   \n4  0xd5ee3986f420f753690313e7ad986125b290f7af5f45...   \n\n                                  bostrom_address  \\\n0  bostrom1gsdle3czkc5gr25yykd2f5jjrh623nmkl90jqv   \n1  bostrom12fqp8lu305fm6jmuahl337eruln9c78apphyqz   \n2  bostrom1nk8lxsa7c5fg4hrtgemrjhtmv2j8fcddwhkzd6   \n3  bostrom1xd76dswkdt2vl3fr9eh9g5rjymx9yjdn2vr4w2   \n4  bostrom1zyuzqfq8raq8fss7jvt9w8gxsrz4y96zfez3zc   \n\n                                  cosmos_address  \\\n0  cosmos1gsdle3czkc5gr25yykd2f5jjrh623nmkukmp7t   \n1  cosmos12fqp8lu305fm6jmuahl337eruln9c78azjrh79   \n2    osmo1nk8lxsa7c5fg4hrtgemrjhtmv2j8fcdd9l3p90   \n3  cosmos1xd76dswkdt2vl3fr9eh9g5rjymx9yjdnflhxsd   \n4  cosmos1zyuzqfq8raq8fss7jvt9w8gxsrz4y96z22kzul   \n\n                                         cosmos_seed  \\\n0  there admit toy stairs tree breeze taxi dress ...   \n1  version giggle fruit orchard man royal false w...   \n2  napkin program tiny demise young cousin extend...   \n3  alpha concert boil hip polar outdoor remember ...   \n4  royal memory element nurse tiny brand expand c...   \n\n                                             message  \\\n0  bostrom1gsdle3czkc5gr25yykd2f5jjrh623nmkl90jqv...   \n1  bostrom12fqp8lu305fm6jmuahl337eruln9c78apphyqz...   \n2  bostrom1nk8lxsa7c5fg4hrtgemrjhtmv2j8fcddwhkzd6...   \n3  bostrom1xd76dswkdt2vl3fr9eh9g5rjymx9yjdn2vr4w2...   \n4  bostrom1zyuzqfq8raq8fss7jvt9w8gxsrz4y96zfez3zc...   \n\n                          ethereum_message_signature  \\\n0  0x7b31050cea96cb12eac7b3d4008b44cbf88a70ced847...   \n1  0x1aeb731b6fc6f1082d9168644dd66cc493b469bf6954...   \n2  0x0be441a65c38e3edb63dca9b46419ec14d8a9bd8ddea...   \n3  0x329e5ba1786a7d1163bb297862a8e0bae468e0904ffe...   \n4  0x48d9bbdbb64db41baccba500163e3741ac3e857886da...   \n\n                           cosmos_message_signed_row  \\\n0  {'pub_key': 'A2b4HMzGa4a5dMbgTlrQkXQLvFIOFeLW8...   \n1  {'pub_key': 'AnVFAajCMBRdW1/vKKzDaND5ilo+pnp5g...   \n2  {'pub_key': 'AxEjEV43UTJBvprmwk3LMwM0hvwhguiSS...   \n3  {'pub_key': 'AnEN0gpvotvXcDI3vB3RzWQypvoPovFya...   \n4  {'pub_key': 'A186S7pWxo+VUTKbL9sZY4J+TOKAm4qrj...   \n\n                            cosmos_message_signature  \\\n0  eyJwdWJfa2V5IjoiQTJiNEhNekdhNGE1ZE1iZ1RsclFrWF...   \n1  eyJwdWJfa2V5IjoiQW5WRkFhakNNQlJkVzEvdktLekRhTk...   \n2  eyJwdWJfa2V5IjoiQXhFakVWNDNVVEpCdnBybXdrM0xNd0...   \n3  eyJwdWJfa2V5IjoiQW5FTjBncHZvdHZYY0RJM3ZCM1J6V1...   \n4  eyJwdWJfa2V5IjoiQTE4NlM3cFd4bytWVVRLYkw5c1pZNE...   \n\n                                      ethereum_proof  \\\n0  [70a9a5e7aa10854e6f167eda7b352b64b24a562ca26eb...   \n1  [399a98cd3d212979c91bc8d9ad03060e824f9435af263...   \n2  [dad8722f9cd38c8d3c4cc8d93fb93f2dcb065836c27ea...   \n3  [72ab4c77c67b75ed61e371b80c3e14f572b119cb33371...   \n4  [422b95ce4a98d42b8004f37d4d762f381aaa271d6eca5...   \n\n                                        cosmos_proof  \n0  [7dcd5af93f173319c6c356493b959cde219bc13ae38a9...  \n1  [fc56c0bfb765e57ca284837bbff37e6e61780dce7e258...  \n2  [d2ba1908f7c1f342ab59767a448b04f2b810c4b6826d8...  \n3  [9e9b246ea79f0d400d03ce1e6f02a8c7be784f8090563...  \n4  [0c48f41cd026f7f611d08ff3e0001096f3c29e271ca1d...  ",
      "text/html": "<div>\n<style scoped>\n    .dataframe tbody tr th:only-of-type {\n        vertical-align: middle;\n    }\n\n    .dataframe tbody tr th {\n        vertical-align: top;\n    }\n\n    .dataframe thead th {\n        text-align: right;\n    }\n</style>\n<table border=\"1\" class=\"dataframe\">\n  <thead>\n    <tr style=\"text-align: right;\">\n      <th></th>\n      <th>amount</th>\n      <th>nickname</th>\n      <th>avatar</th>\n      <th>ethereum_address</th>\n      <th>ethereum_private_key</th>\n      <th>bostrom_address</th>\n      <th>cosmos_address</th>\n      <th>cosmos_seed</th>\n      <th>message</th>\n      <th>ethereum_message_signature</th>\n      <th>cosmos_message_signed_row</th>\n      <th>cosmos_message_signature</th>\n      <th>ethereum_proof</th>\n      <th>cosmos_proof</th>\n    </tr>\n  </thead>\n  <tbody>\n    <tr>\n      <th>0</th>\n      <td>37000</td>\n      <td>john16524556460</td>\n      <td>QmWjoa15st7pQdqCuo5vKMrpKMjXroJyCXB3Nm148kBpNm</td>\n      <td>0xa46c3429e76d1fe548dada6de8ad4b34b51c7a9b</td>\n      <td>0x16413d97eafd10e2dba139df366f2000ce6715a2688d...</td>\n      <td>bostrom1gsdle3czkc5gr25yykd2f5jjrh623nmkl90jqv</td>\n      <td>cosmos1gsdle3czkc5gr25yykd2f5jjrh623nmkukmp7t</td>\n      <td>there admit toy stairs tree breeze taxi dress ...</td>\n      <td>bostrom1gsdle3czkc5gr25yykd2f5jjrh623nmkl90jqv...</td>\n      <td>0x7b31050cea96cb12eac7b3d4008b44cbf88a70ced847...</td>\n      <td>{'pub_key': 'A2b4HMzGa4a5dMbgTlrQkXQLvFIOFeLW8...</td>\n      <td>eyJwdWJfa2V5IjoiQTJiNEhNekdhNGE1ZE1iZ1RsclFrWF...</td>\n      <td>[70a9a5e7aa10854e6f167eda7b352b64b24a562ca26eb...</td>\n      <td>[7dcd5af93f173319c6c356493b959cde219bc13ae38a9...</td>\n    </tr>\n    <tr>\n      <th>1</th>\n      <td>28000</td>\n      <td>john16524556461</td>\n      <td>QmfQCwumjRNJ99K2nNHu3w4ofG9cCmfgYK6oan8TLUoVFU</td>\n      <td>0x22ee476481e69175a6aa699bd2cf243a502d32c0</td>\n      <td>0x59cd4a1e2c24acc5b624b6393b1adb5cf9e98e510670...</td>\n      <td>bostrom12fqp8lu305fm6jmuahl337eruln9c78apphyqz</td>\n      <td>cosmos12fqp8lu305fm6jmuahl337eruln9c78azjrh79</td>\n      <td>version giggle fruit orchard man royal false w...</td>\n      <td>bostrom12fqp8lu305fm6jmuahl337eruln9c78apphyqz...</td>\n      <td>0x1aeb731b6fc6f1082d9168644dd66cc493b469bf6954...</td>\n      <td>{'pub_key': 'AnVFAajCMBRdW1/vKKzDaND5ilo+pnp5g...</td>\n      <td>eyJwdWJfa2V5IjoiQW5WRkFhakNNQlJkVzEvdktLekRhTk...</td>\n      <td>[399a98cd3d212979c91bc8d9ad03060e824f9435af263...</td>\n      <td>[fc56c0bfb765e57ca284837bbff37e6e61780dce7e258...</td>\n    </tr>\n    <tr>\n      <th>2</th>\n      <td>37000</td>\n      <td>john16524556462</td>\n      <td>QmVBCneexAk5YwqgmZpK9uLJ7Yp3ztHPSuEhNf4SLwN6RY</td>\n      <td>0x2e17b2d8622154f6cc672eed556f5dc063fc0cd1</td>\n      <td>0xad915cbf7122fec8901fc75f8c70cf1f40f19f6c7c3d...</td>\n      <td>bostrom1nk8lxsa7c5fg4hrtgemrjhtmv2j8fcddwhkzd6</td>\n      <td>osmo1nk8lxsa7c5fg4hrtgemrjhtmv2j8fcdd9l3p90</td>\n      <td>napkin program tiny demise young cousin extend...</td>\n      <td>bostrom1nk8lxsa7c5fg4hrtgemrjhtmv2j8fcddwhkzd6...</td>\n      <td>0x0be441a65c38e3edb63dca9b46419ec14d8a9bd8ddea...</td>\n      <td>{'pub_key': 'AxEjEV43UTJBvprmwk3LMwM0hvwhguiSS...</td>\n      <td>eyJwdWJfa2V5IjoiQXhFakVWNDNVVEpCdnBybXdrM0xNd0...</td>\n      <td>[dad8722f9cd38c8d3c4cc8d93fb93f2dcb065836c27ea...</td>\n      <td>[d2ba1908f7c1f342ab59767a448b04f2b810c4b6826d8...</td>\n    </tr>\n    <tr>\n      <th>3</th>\n      <td>28000</td>\n      <td>john16524556463</td>\n      <td>QmNbbs86trP1bDhZmnehdhgmAug7sJqwZkAJYzaq4vqDJN</td>\n      <td>0x6898679f8eb22714a6a6007f5698ca03d989aba0</td>\n      <td>0x76d74947ea7c816b275cdc2dc4d070c3e5fde17b4bbe...</td>\n      <td>bostrom1xd76dswkdt2vl3fr9eh9g5rjymx9yjdn2vr4w2</td>\n      <td>cosmos1xd76dswkdt2vl3fr9eh9g5rjymx9yjdnflhxsd</td>\n      <td>alpha concert boil hip polar outdoor remember ...</td>\n      <td>bostrom1xd76dswkdt2vl3fr9eh9g5rjymx9yjdn2vr4w2...</td>\n      <td>0x329e5ba1786a7d1163bb297862a8e0bae468e0904ffe...</td>\n      <td>{'pub_key': 'AnEN0gpvotvXcDI3vB3RzWQypvoPovFya...</td>\n      <td>eyJwdWJfa2V5IjoiQW5FTjBncHZvdHZYY0RJM3ZCM1J6V1...</td>\n      <td>[72ab4c77c67b75ed61e371b80c3e14f572b119cb33371...</td>\n      <td>[9e9b246ea79f0d400d03ce1e6f02a8c7be784f8090563...</td>\n    </tr>\n    <tr>\n      <th>4</th>\n      <td>31000</td>\n      <td>john16524556464</td>\n      <td>QmRa7u7C9KJc5Hq1xVo5kTFwiFtZzSguoAd6uW9QmrwvF7</td>\n      <td>0xd0c078c04bc16329e6ad0f9660b604d815526215</td>\n      <td>0xd5ee3986f420f753690313e7ad986125b290f7af5f45...</td>\n      <td>bostrom1zyuzqfq8raq8fss7jvt9w8gxsrz4y96zfez3zc</td>\n      <td>cosmos1zyuzqfq8raq8fss7jvt9w8gxsrz4y96z22kzul</td>\n      <td>royal memory element nurse tiny brand expand c...</td>\n      <td>bostrom1zyuzqfq8raq8fss7jvt9w8gxsrz4y96zfez3zc...</td>\n      <td>0x48d9bbdbb64db41baccba500163e3741ac3e857886da...</td>\n      <td>{'pub_key': 'A186S7pWxo+VUTKbL9sZY4J+TOKAm4qrj...</td>\n      <td>eyJwdWJfa2V5IjoiQTE4NlM3cFd4bytWVVRLYkw5c1pZNE...</td>\n      <td>[422b95ce4a98d42b8004f37d4d762f381aaa271d6eca5...</td>\n      <td>[0c48f41cd026f7f611d08ff3e0001096f3c29e271ca1d...</td>\n    </tr>\n  </tbody>\n</table>\n</div>"
     },
     "execution_count": 5,
     "metadata": {},
     "output_type": "execute_result"
    }
   ],
   "source": [
    "if CALCULATE_PROOFS:\n",
    "    roots = []\n",
    "    proofs_df = pd.DataFrame(columns=['address', 'amount', 'proof'])\n",
    "    for task in tasks:\n",
    "        with open(task[1], 'r') as proof_file:\n",
    "            root_and_proof_json = json.load(proof_file)\n",
    "        roots.append(root_and_proof_json['merkle_root'])\n",
    "        proofs_df = pd.concat([proofs_df, pd.DataFrame(root_and_proof_json['proofs'])], ignore_index=True)\n",
    "    assert roots == [roots[0]] * len(roots)\n",
    "    root = roots[0]\n",
    "\n",
    "    cosmos_proofs_df = proofs_df[~proofs_df.address.str.startswith('0x')][['address', 'proof']]\n",
    "    ethereum_proofs_df = proofs_df[proofs_df.address.str.startswith('0x')][['address', 'proof']]\n",
    "\n",
    "    claims_with_proofs_df = claims_df\\\n",
    "        .merge(\n",
    "            ethereum_proofs_df.rename(columns={'address': 'ethereum_address', 'proof': 'ethereum_proof'}),\n",
    "            how='inner',\n",
    "            on='ethereum_address')\\\n",
    "        .merge(\n",
    "            cosmos_proofs_df.rename(columns={'address': 'cosmos_address', 'proof': 'cosmos_proof'}),\n",
    "            how='inner',\n",
    "            on='cosmos_address')\n",
    "\n",
    "    claims_with_proofs_df.to_csv(PARTICIPANTS_FILE_NAME)\n",
    "else:\n",
    "    claims_with_proofs_df = pd.read_csv(PARTICIPANTS_FILE_NAME)\n",
    "    claims_with_proofs_df.loc[:, 'ethereum_proof'] = claims_with_proofs_df['ethereum_proof'].map(lambda x: x.replace('\\'', '').replace('[', '').replace(']', '').split(', '))\n",
    "    claims_with_proofs_df.loc[:, 'cosmos_proof'] = claims_with_proofs_df['cosmos_proof'].map(lambda x: x.replace('\\'', '').replace('[', '').replace(']', '').split(', '))\n",
    "    with open('temp/proofs_1.json', 'r') as proof_file:\n",
    "        root_and_proof_json = json.load(proof_file)\n",
    "    root = root_and_proof_json['merkle_root']\n",
    "claims_with_proofs_df.head()"
   ],
   "metadata": {
    "collapsed": false,
    "pycharm": {
     "name": "#%%\n"
    }
   }
  },
  {
   "cell_type": "code",
   "execution_count": 6,
   "outputs": [],
   "source": [
    "for i in range(ceil(NUMBER_OF_ACTIVATED_PARTICIPANTS/10_000)):\n",
    "    claims_with_proofs_df.loc[i*10_000:(i+1)*10_000,:].to_csv(f'temp/{i}_{PARTICIPANTS_FILE_NAME.split(\"/\")[1]}')"
   ],
   "metadata": {
    "collapsed": false,
    "pycharm": {
     "name": "#%%\n"
    }
   }
  },
  {
   "cell_type": "markdown",
   "source": [
    "## Instantiate Contracts\n",
    "### Instantiate SUBGRAPH Contracts"
   ],
   "metadata": {
    "collapsed": false,
    "pycharm": {
     "name": "#%% md\n"
    }
   }
  },
  {
   "cell_type": "code",
   "execution_count": 7,
   "outputs": [
    {
     "name": "stdout",
     "output_type": "stream",
     "text": [
      "Name subgraph contract address: bostrom1qg5ega6dykkxc307y25pecuufrjkxkaggkkxh7nad0vhyhtuhw3sp98tza\n",
      "Avatar subgraph contract address: bostrom17p9rzwnnfxcjp32un9ug7yhhzgtkhvl9jfksztgw5uh69wac2pgs6qwudf\n",
      "Proof subgraph contract address: bostrom1unyuj8qnmygvzuex3dwmg9yzt9alhvyeat0uu0jedg2wj33efl5qpj0rgp\n"
     ]
    }
   ],
   "source": [
    "if INIT_SUBGRAPH_CONTRACTS:\n",
    "    name_subgraph_contract_address = \\\n",
    "        instantiate_contract(\n",
    "            init_query=f'''{{\"owner\":\"{WALLET_ADDRESS}\", \"executer\":\"{WALLET_ADDRESS}\"}}''',\n",
    "            contract_code_id=SUBGRAPH_CODE_ID,\n",
    "            contract_label='test name subgraph')\n",
    "    avatar_subgraph_contract_address = \\\n",
    "        instantiate_contract(\n",
    "            init_query=f'''{{\"owner\":\"{WALLET_ADDRESS}\", \"executer\":\"{WALLET_ADDRESS}\"}}''',\n",
    "            contract_code_id=SUBGRAPH_CODE_ID,\n",
    "            contract_label='test avatar subgraph',\n",
    "            from_address=WALLET_ADDRESS)\n",
    "    proof_subgraph_contract_address = \\\n",
    "        instantiate_contract(\n",
    "            init_query=f'''{{\"owner\":\"{WALLET_ADDRESS}\", \"executer\":\"{WALLET_ADDRESS}\"}}''',\n",
    "            contract_code_id=SUBGRAPH_CODE_ID,\n",
    "            contract_label='test proof subgraph',\n",
    "            from_address=WALLET_ADDRESS)\n",
    "else:\n",
    "    name_subgraph_contract_address = NAME_SUBGRAPH_CONTRACT_ADDRESS\n",
    "    avatar_subgraph_contract_address = AVATAR_SUBGRAPH_CONTRACT_ADDRESS\n",
    "    proof_subgraph_contract_address = PROOF_SUBGRAPH_CONTRACT_ADDRESS\n",
    "print(f'Name subgraph contract address: {name_subgraph_contract_address}\\n'\n",
    "      f'Avatar subgraph contract address: {avatar_subgraph_contract_address}\\n'\n",
    "      f'Proof subgraph contract address: {proof_subgraph_contract_address}')"
   ],
   "metadata": {
    "collapsed": false,
    "pycharm": {
     "name": "#%%\n"
    }
   }
  },
  {
   "cell_type": "markdown",
   "source": [
    "### Instantiate Passport Contract"
   ],
   "metadata": {
    "collapsed": false,
    "pycharm": {
     "name": "#%% md\n"
    }
   }
  },
  {
   "cell_type": "code",
   "execution_count": 8,
   "outputs": [
    {
     "name": "stdout",
     "output_type": "stream",
     "text": [
      "Passport contract address: bostrom1hulx7cgvpfcvg83wk5h96sedqgn72n026w6nl47uht554xhvj9nsjxcwgf\n"
     ]
    }
   ],
   "source": [
    "if INIT_PASSPORT_CONTRACT:\n",
    "    passport_contract_address = \\\n",
    "        instantiate_contract(\n",
    "            init_query=f'''{{\"name\":\"CPT\", \"minter\":\"{WALLET_ADDRESS}\", \"owner\":\"{WALLET_ADDRESS}\", \"symbol\":\"CPT\", \"avatar_subgraph\": \"{avatar_subgraph_contract_address}\", \"name_subgraph\": \"{name_subgraph_contract_address}\", \"proof_subgraph\": \"{proof_subgraph_contract_address}\"}}''',\n",
    "            contract_code_id=PASSPORT_CODE_ID,\n",
    "            contract_label='test passport',\n",
    "            from_address=WALLET_ADDRESS)\n",
    "else:\n",
    "    passport_contract_address = PASSPORT_CONTRACT_ADDRESS\n",
    "print(f'Passport contract address: {passport_contract_address}')"
   ],
   "metadata": {
    "collapsed": false,
    "pycharm": {
     "name": "#%%\n"
    }
   }
  },
  {
   "cell_type": "markdown",
   "source": [
    "### Set executor in the Subgraph Contracts"
   ],
   "metadata": {
    "collapsed": false,
    "pycharm": {
     "name": "#%% md\n"
    }
   }
  },
  {
   "cell_type": "code",
   "execution_count": 9,
   "outputs": [],
   "source": [
    "def set_executor_subgraph(subgraph_contract_address: str, new_executor_address: str, display_data: bool = False):\n",
    "    return execute_contract_bash(execute_query=f'''{{\"update_executer\":{{\"new_executer\":\"{new_executor_address}\"}}}}''',\n",
    "                                 contract_address=subgraph_contract_address,\n",
    "                                 gas=600000,\n",
    "                                 display_data=display_data)\n",
    "\n",
    "if INIT_PASSPORT_CONTRACT or INIT_SUBGRAPH_CONTRACTS:\n",
    "    set_executor_subgraph(subgraph_contract_address=name_subgraph_contract_address, new_executor_address=passport_contract_address)\n",
    "    set_executor_subgraph(subgraph_contract_address=avatar_subgraph_contract_address, new_executor_address=passport_contract_address)\n",
    "    set_executor_subgraph(subgraph_contract_address=proof_subgraph_contract_address, new_executor_address=passport_contract_address)"
   ],
   "metadata": {
    "collapsed": false,
    "pycharm": {
     "name": "#%%\n"
    }
   }
  },
  {
   "cell_type": "markdown",
   "source": [
    "### Instantiate Treasury Contract"
   ],
   "metadata": {
    "collapsed": false,
    "pycharm": {
     "name": "#%% md\n"
    }
   }
  },
  {
   "cell_type": "code",
   "execution_count": 10,
   "outputs": [
    {
     "name": "stdout",
     "output_type": "stream",
     "text": [
      "Treasury contract address: bostrom1rpxf55u22q2tly9y8rgdrjgx9p52sus7jugaevj3hdt0z7sgvkcs4cmls6\n"
     ]
    }
   ],
   "source": [
    "if INIT_TREASURY_CONTRACT:\n",
    "    treasury_contract_address = \\\n",
    "        instantiate_contract(\n",
    "            init_query=f'''{{\"admins\": [\"{WALLET_ADDRESS}\"], \"mutable\": true}}''',\n",
    "            contract_code_id=TREASURY_CODE_ID,\n",
    "            amount=INITIAL_BALANCE,\n",
    "            contract_label='test treasury',\n",
    "            from_address=WALLET_ADDRESS,\n",
    "            display_data=False)\n",
    "else:\n",
    "    treasury_contract_address = TREASURY_CONTRACT_ADDRESS\n",
    "print(f'Treasury contract address: {treasury_contract_address}')"
   ],
   "metadata": {
    "collapsed": false,
    "pycharm": {
     "name": "#%%\n"
    }
   }
  },
  {
   "cell_type": "markdown",
   "source": [
    "### Instantiate Gift Contract"
   ],
   "metadata": {
    "collapsed": false,
    "pycharm": {
     "name": "#%% md\n"
    }
   }
  },
  {
   "cell_type": "code",
   "execution_count": 11,
   "outputs": [
    {
     "name": "stdout",
     "output_type": "stream",
     "text": [
      "Gift contract address: bostrom17s8kkfm5lf8lacz704f4fjmfxzuvyqd8cksakrlhnrass4yacvxqhu673c\n"
     ]
    }
   ],
   "source": [
    "if INIT_GIFT_CONTRACT:\n",
    "    gift_contract_address = \\\n",
    "        instantiate_contract(\n",
    "            init_query=f'''{{\"owner\":\"{WALLET_ADDRESS}\", \"passport\":\"{passport_contract_address}\", \"treasury\":\"{treasury_contract_address}\", \"allowed_native\":\"boot\", \"initial_balance\":\"{INITIAL_BALANCE}\", \"coefficient_up\":\"{COEF_UP}\", \"coefficient_down\":\"{COEF_DOWN}\", \"coefficient\":\"{COEF_UP}\", \"target_claim\":\"{TARGET_CLAIM}\"}}''',\n",
    "            contract_code_id=GIFT_CODE_ID,\n",
    "            contract_label='test gift',\n",
    "            from_address=WALLET_ADDRESS,\n",
    "            display_data=False)\n",
    "else:\n",
    "    gift_contract_address = GIFT_CONTRACT_ADDRESS\n",
    "print(f'Gift contract address: {gift_contract_address}')"
   ],
   "metadata": {
    "collapsed": false,
    "pycharm": {
     "name": "#%%\n"
    }
   }
  },
  {
   "cell_type": "markdown",
   "source": [
    "### Initiate Class of Output Parsing"
   ],
   "metadata": {
    "collapsed": false,
    "pycharm": {
     "name": "#%% md\n"
    }
   }
  },
  {
   "cell_type": "code",
   "execution_count": 12,
   "outputs": [],
   "source": [
    "contract_utils = ContractUtils(ipfs_client=ipfs_client,\n",
    "                               address_dict= {\n",
    "                                   gift_contract_address: 'Gift Contract',\n",
    "                                   passport_contract_address: 'Passport Contract',\n",
    "                                   treasury_contract_address: 'Treasury Contract',\n",
    "                                   WALLET_ADDRESS: 'Passport Owner Address',\n",
    "                                   name_subgraph_contract_address: 'Name Subgraph Contract',\n",
    "                                   avatar_subgraph_contract_address: 'Avatar Subgraph Contract',\n",
    "                                   proof_subgraph_contract_address: 'Proof Subgraph Contract'})"
   ],
   "metadata": {
    "collapsed": false,
    "pycharm": {
     "name": "#%%\n"
    }
   }
  },
  {
   "cell_type": "markdown",
   "source": [
    "### Set Allowance in Treasury contract"
   ],
   "metadata": {
    "collapsed": false,
    "pycharm": {
     "name": "#%% md\n"
    }
   }
  },
  {
   "cell_type": "code",
   "execution_count": 13,
   "outputs": [
    {
     "name": "stdout",
     "output_type": "stream",
     "text": [
      "\n",
      "Events\n",
      "\n",
      "coin received\n",
      "\treceiver: Treasury Contract\n",
      "\tamount: 110000000boot\n",
      "\n",
      "coin spent\n",
      "\tspender: Passport Owner Address\n",
      "\tamount: 110000000boot\n",
      "\n",
      "message from bank bostrom1mxdtr8lruutugqtxgpw2sf2tl2mhzlq5fd2du0 /cosmos.bank.v1beta1.MsgMultiSend\n",
      "\n",
      "transfer\n",
      "\trecipient: Treasury Contract\n",
      "\tamount: 110000000boot\n",
      "Gas used: 73,150\n",
      "Tx hash: B5DBA805FBE8E9882A7D2094273924DAA72402C2778E684F74F2A6F59F7F9D87\n"
     ]
    }
   ],
   "source": [
    "contract_utils.parse_contract_execution_json(\n",
    "    contract_utils.send_coins(\n",
    "        from_seed=WALLET_SEED,\n",
    "        to_addresses=[treasury_contract_address],\n",
    "        amounts=[INITIAL_BALANCE],\n",
    "        gas=min(100_000 + 25_000, int(20e6)),\n",
    "        display_data=DISPLAY_TX_EXECUTION))"
   ],
   "metadata": {
    "collapsed": false,
    "pycharm": {
     "name": "#%%\n"
    }
   }
  },
  {
   "cell_type": "code",
   "execution_count": 14,
   "outputs": [
    {
     "name": "stdout",
     "output_type": "stream",
     "text": [
      "\n",
      "Events\n",
      "\n",
      "execute\n",
      "\texecute contract: Treasury Contract\n",
      "\n",
      "message from Passport Owner Address wasm /cosmwasm.wasm.v1.MsgExecuteContract\n",
      "\n",
      "wasm\n",
      "\t_contract_address: Treasury Contract\n",
      "\taction: increase_allowance\n",
      "\towner: Passport Owner Address\n",
      "\tspender: Gift Contract\n",
      "\tdenomination: boot\n",
      "\tamount: 110,000,000\n",
      "Gas used: 135,284\n",
      "Tx hash: DDD2E9063B7140FD3A9D63E92B230C750B93A78C915CE6725C04D8E76FF17839\n"
     ]
    }
   ],
   "source": [
    "def set_allowance(amount: str = INITIAL_BALANCE, display_data: bool = False):\n",
    "    return contract_utils.execute_contract(\n",
    "        execute_msg={\"increase_allowance\": {\"spender\": gift_contract_address, \"amount\": {\"amount\": amount, \"denom\": 'boot'}}},\n",
    "        contract_address=treasury_contract_address,\n",
    "        mnemonic=WALLET_SEED,\n",
    "        gas=600000,\n",
    "        display_data=display_data)\n",
    "\n",
    "contract_utils.parse_contract_execution_json(\n",
    "    set_allowance(display_data=False))"
   ],
   "metadata": {
    "collapsed": false,
    "pycharm": {
     "name": "#%%\n"
    }
   }
  },
  {
   "cell_type": "markdown",
   "source": [],
   "metadata": {
    "collapsed": false,
    "pycharm": {
     "name": "#%% md\n"
    }
   }
  },
  {
   "cell_type": "markdown",
   "source": [
    "### Register Merkle Root"
   ],
   "metadata": {
    "collapsed": false,
    "pycharm": {
     "name": "#%% md\n"
    }
   }
  },
  {
   "cell_type": "code",
   "execution_count": 15,
   "outputs": [
    {
     "name": "stdout",
     "output_type": "stream",
     "text": [
      "\n",
      "Events\n",
      "\n",
      "execute\n",
      "\texecute contract: Gift Contract\n",
      "\n",
      "message from Passport Owner Address wasm /cosmwasm.wasm.v1.MsgExecuteContract\n",
      "\n",
      "wasm\n",
      "\t_contract_address: Gift Contract\n",
      "\taction: register_merkle_root\n",
      "\tmerkle_root: 9cd04665a7e1232d6af027e7890cb5b043a694d5272ec74931a37bb825054c37\n",
      "Gas used: 131,251\n",
      "Tx hash: 47FDA80F5D2E56E1D2C567341ABFF9028663FB6EC0906E95C19F9C0DA77FE465\n"
     ]
    }
   ],
   "source": [
    "root_register_output = contract_utils.execute_contract(\n",
    "    execute_msg={\"register_merkle_root\": {\"merkle_root\": root}},\n",
    "    mnemonic=WALLET_SEED,\n",
    "    contract_address=gift_contract_address)\n",
    "contract_utils.parse_contract_execution_json(root_register_output)"
   ],
   "metadata": {
    "collapsed": false,
    "pycharm": {
     "name": "#%%\n"
    }
   }
  },
  {
   "cell_type": "markdown",
   "source": [
    "#### Get Merkle Root form the Gift Contract"
   ],
   "metadata": {
    "collapsed": false,
    "pycharm": {
     "name": "#%% md\n"
    }
   },
   "execution_count": 156
  },
  {
   "cell_type": "code",
   "execution_count": 16,
   "outputs": [
    {
     "name": "stdout",
     "output_type": "stream",
     "text": [
      "Gift contract bostrom17s8kkfm5lf8lacz704f4fjmfxzuvyqd8cksakrlhnrass4yacvxqhu673c\n",
      "{'data': {'merkle_root': '9cd04665a7e1232d6af027e7890cb5b043a694d5272ec74931a37bb825054c37'}}\n"
     ]
    }
   ],
   "source": [
    "print(f'Gift contract {gift_contract_address}')\n",
    "print(query_contract(query='''{\"merkle_root\": {}}''',\n",
    "                     contract_address=gift_contract_address))"
   ],
   "metadata": {
    "collapsed": false,
    "pycharm": {
     "name": "#%%\n"
    }
   }
  },
  {
   "cell_type": "markdown",
   "source": [],
   "metadata": {
    "collapsed": false,
    "pycharm": {
     "name": "#%% md\n"
    }
   }
  },
  {
   "cell_type": "markdown",
   "source": [
    "### Send coins to new addresses"
   ],
   "metadata": {
    "collapsed": false,
    "pycharm": {
     "name": "#%% md\n"
    }
   }
  },
  {
   "cell_type": "code",
   "execution_count": 17,
   "outputs": [
    {
     "data": {
      "text/plain": "0it [00:00, ?it/s]",
      "application/vnd.jupyter.widget-view+json": {
       "version_major": 2,
       "version_minor": 0,
       "model_id": "6b1152631b8f45b0a24c0fe24a12faaa"
      }
     },
     "metadata": {},
     "output_type": "display_data"
    }
   ],
   "source": [
    "NUMBER_ADDRESSES_IN_SENDING_CHUNK = 900\n",
    "\n",
    "bostrom_addresses = claims_with_proofs_df.bostrom_address.to_list()\n",
    "bostrom_addresses_chunks = [bostrom_addresses[i: i+ NUMBER_ADDRESSES_IN_SENDING_CHUNK] for i in range(0, len(bostrom_addresses), NUMBER_ADDRESSES_IN_SENDING_CHUNK)]\n",
    "\n",
    "send_output = []\n",
    "for i, bostrom_addresses_item in tqdm(enumerate(bostrom_addresses_chunks)):\n",
    "    try:\n",
    "        send_output.append(\n",
    "            contract_utils.send_coins(\n",
    "                from_seed=WALLET_SEED,\n",
    "                to_addresses=bostrom_addresses_item,\n",
    "                amounts=[1] * len(bostrom_addresses_item),\n",
    "                gas=min(150_000 + 30_000 * len(bostrom_addresses_item), int(24e6)),\n",
    "                display_data=DISPLAY_TX_EXECUTION))\n",
    "    except Exception as e:\n",
    "        print(f'Error in the {i} chunk: {e}')\n",
    "        sleep(15)"
   ],
   "metadata": {
    "collapsed": false,
    "pycharm": {
     "name": "#%%\n"
    }
   }
  },
  {
   "cell_type": "code",
   "execution_count": 18,
   "outputs": [
    {
     "name": "stdout",
     "output_type": "stream",
     "text": [
      "\n",
      "Events\n",
      "\n",
      "coin received\n",
      "\treceiver: bostrom1gsdle3czkc5gr25yykd2f5jjrh623nmkl90jqv\n",
      "\tamount: 1boot\n",
      "\treceiver: bostrom12fqp8lu305fm6jmuahl337eruln9c78apphyqz\n",
      "\tamount: 1boot\n",
      "\treceiver: bostrom1nk8lxsa7c5fg4hrtgemrjhtmv2j8fcddwhkzd6\n",
      "\tamount: 1boot\n",
      "\treceiver: bostrom1xd76dswkdt2vl3fr9eh9g5rjymx9yjdn2vr4w2\n",
      "\tamount: 1boot\n",
      "\treceiver: bostrom1zyuzqfq8raq8fss7jvt9w8gxsrz4y96zfez3zc\n",
      "\tamount: 1boot\n",
      "\treceiver: bostrom10usrwj4knqraus5wcek7a8yxxk9n7yh47u6m0c\n",
      "\tamount: 1boot\n",
      "\treceiver: bostrom1qvpwm6a2e0asksgr0qysu29v42gwvgrhrrl3n5\n",
      "\tamount: 1boot\n",
      "\treceiver: bostrom1c7s7rxtm7wucxv00uldyxp3cu9jp9yfsd4hlw9\n",
      "\tamount: 1boot\n",
      "\treceiver: bostrom1exwwe53ev75afrhgrcguh8dchq3v3836ul0ndp\n",
      "\tamount: 1boot\n",
      "\treceiver: bostrom1y0fyp8mrmjnj8mup6tlz857hu3atuqmypljdux\n",
      "\tamount: 1boot\n",
      "\treceiver: bostrom155ckth72jne85wf5z7ly62qgct4d2sy68sazmq\n",
      "\tamount: 1boot\n",
      "\treceiver: bostrom1lzdt4wdzrrf9rgc2sr6kt8dez2exfl6u4jquex\n",
      "\tamount: 1boot\n",
      "\treceiver: bostrom12ghyly4gvdnkaj6apqnjadczmejp2x27kw2pku\n",
      "\tamount: 1boot\n",
      "\treceiver: bostrom1y49f2ja6kjfmdqyvd8dmd8gmgpctl3mzk29ma5\n",
      "\tamount: 1boot\n",
      "\treceiver: bostrom1glz3832qtlc9kx5mu652yclz090yjadpy352ad\n",
      "\tamount: 1boot\n",
      "\treceiver: bostrom17fadfef3kgjvgvzsn7cq2frwa43wft2rvcwrwy\n",
      "\tamount: 1boot\n",
      "\treceiver: bostrom1eky6aqsgac5xasmh67fwg67y626dv4c3a77lqp\n",
      "\tamount: 1boot\n",
      "\treceiver: bostrom1809tax5g8prmdljgmhxvav5x99a3hf28874xrp\n",
      "\tamount: 1boot\n",
      "\treceiver: bostrom1fklqnt78adke0ttgamla85xesjamu8jw4qc4fm\n",
      "\tamount: 1boot\n",
      "\treceiver: bostrom1v0lzvpq7n5jrw4wwx9zna0gmerx2gpc32f6tsu\n",
      "\tamount: 1boot\n",
      "\n",
      "coin spent\n",
      "\tspender: Passport Owner Address\n",
      "\tamount: 1boot\n",
      "\tspender: Passport Owner Address\n",
      "\tamount: 1boot\n",
      "\tspender: Passport Owner Address\n",
      "\tamount: 1boot\n",
      "\tspender: Passport Owner Address\n",
      "\tamount: 1boot\n",
      "\tspender: Passport Owner Address\n",
      "\tamount: 1boot\n",
      "\tspender: Passport Owner Address\n",
      "\tamount: 1boot\n",
      "\tspender: Passport Owner Address\n",
      "\tamount: 1boot\n",
      "\tspender: Passport Owner Address\n",
      "\tamount: 1boot\n",
      "\tspender: Passport Owner Address\n",
      "\tamount: 1boot\n",
      "\tspender: Passport Owner Address\n",
      "\tamount: 1boot\n",
      "\tspender: Passport Owner Address\n",
      "\tamount: 1boot\n",
      "\tspender: Passport Owner Address\n",
      "\tamount: 1boot\n",
      "\tspender: Passport Owner Address\n",
      "\tamount: 1boot\n",
      "\tspender: Passport Owner Address\n",
      "\tamount: 1boot\n",
      "\tspender: Passport Owner Address\n",
      "\tamount: 1boot\n",
      "\tspender: Passport Owner Address\n",
      "\tamount: 1boot\n",
      "\tspender: Passport Owner Address\n",
      "\tamount: 1boot\n",
      "\tspender: Passport Owner Address\n",
      "\tamount: 1boot\n",
      "\tspender: Passport Owner Address\n",
      "\tamount: 1boot\n",
      "\tspender: Passport Owner Address\n",
      "\tamount: 1boot\n",
      "\n",
      "{'attributes': [{'key': 'action', 'value': '/cosmos.bank.v1beta1.MsgMultiSend'}, {'key': 'sender', 'value': 'bostrom1mxdtr8lruutugqtxgpw2sf2tl2mhzlq5fd2du0'}, {'key': 'sender', 'value': 'bostrom1mxdtr8lruutugqtxgpw2sf2tl2mhzlq5fd2du0'}, {'key': 'sender', 'value': 'bostrom1mxdtr8lruutugqtxgpw2sf2tl2mhzlq5fd2du0'}, {'key': 'sender', 'value': 'bostrom1mxdtr8lruutugqtxgpw2sf2tl2mhzlq5fd2du0'}, {'key': 'sender', 'value': 'bostrom1mxdtr8lruutugqtxgpw2sf2tl2mhzlq5fd2du0'}, {'key': 'sender', 'value': 'bostrom1mxdtr8lruutugqtxgpw2sf2tl2mhzlq5fd2du0'}, {'key': 'sender', 'value': 'bostrom1mxdtr8lruutugqtxgpw2sf2tl2mhzlq5fd2du0'}, {'key': 'sender', 'value': 'bostrom1mxdtr8lruutugqtxgpw2sf2tl2mhzlq5fd2du0'}, {'key': 'sender', 'value': 'bostrom1mxdtr8lruutugqtxgpw2sf2tl2mhzlq5fd2du0'}, {'key': 'sender', 'value': 'bostrom1mxdtr8lruutugqtxgpw2sf2tl2mhzlq5fd2du0'}, {'key': 'sender', 'value': 'bostrom1mxdtr8lruutugqtxgpw2sf2tl2mhzlq5fd2du0'}, {'key': 'sender', 'value': 'bostrom1mxdtr8lruutugqtxgpw2sf2tl2mhzlq5fd2du0'}, {'key': 'sender', 'value': 'bostrom1mxdtr8lruutugqtxgpw2sf2tl2mhzlq5fd2du0'}, {'key': 'sender', 'value': 'bostrom1mxdtr8lruutugqtxgpw2sf2tl2mhzlq5fd2du0'}, {'key': 'sender', 'value': 'bostrom1mxdtr8lruutugqtxgpw2sf2tl2mhzlq5fd2du0'}, {'key': 'sender', 'value': 'bostrom1mxdtr8lruutugqtxgpw2sf2tl2mhzlq5fd2du0'}, {'key': 'sender', 'value': 'bostrom1mxdtr8lruutugqtxgpw2sf2tl2mhzlq5fd2du0'}, {'key': 'sender', 'value': 'bostrom1mxdtr8lruutugqtxgpw2sf2tl2mhzlq5fd2du0'}, {'key': 'sender', 'value': 'bostrom1mxdtr8lruutugqtxgpw2sf2tl2mhzlq5fd2du0'}, {'key': 'sender', 'value': 'bostrom1mxdtr8lruutugqtxgpw2sf2tl2mhzlq5fd2du0'}, {'key': 'module', 'value': 'bank'}], 'type': 'message'}\n",
      "\n",
      "transfer\n",
      "\trecipient: bostrom1gsdle3czkc5gr25yykd2f5jjrh623nmkl90jqv\n",
      "\tamount: 1boot\n",
      "\trecipient: bostrom12fqp8lu305fm6jmuahl337eruln9c78apphyqz\n",
      "\tamount: 1boot\n",
      "\trecipient: bostrom1nk8lxsa7c5fg4hrtgemrjhtmv2j8fcddwhkzd6\n",
      "\tamount: 1boot\n",
      "\trecipient: bostrom1xd76dswkdt2vl3fr9eh9g5rjymx9yjdn2vr4w2\n",
      "\tamount: 1boot\n",
      "\trecipient: bostrom1zyuzqfq8raq8fss7jvt9w8gxsrz4y96zfez3zc\n",
      "\tamount: 1boot\n",
      "\trecipient: bostrom10usrwj4knqraus5wcek7a8yxxk9n7yh47u6m0c\n",
      "\tamount: 1boot\n",
      "\trecipient: bostrom1qvpwm6a2e0asksgr0qysu29v42gwvgrhrrl3n5\n",
      "\tamount: 1boot\n",
      "\trecipient: bostrom1c7s7rxtm7wucxv00uldyxp3cu9jp9yfsd4hlw9\n",
      "\tamount: 1boot\n",
      "\trecipient: bostrom1exwwe53ev75afrhgrcguh8dchq3v3836ul0ndp\n",
      "\tamount: 1boot\n",
      "\trecipient: bostrom1y0fyp8mrmjnj8mup6tlz857hu3atuqmypljdux\n",
      "\tamount: 1boot\n",
      "\trecipient: bostrom155ckth72jne85wf5z7ly62qgct4d2sy68sazmq\n",
      "\tamount: 1boot\n",
      "\trecipient: bostrom1lzdt4wdzrrf9rgc2sr6kt8dez2exfl6u4jquex\n",
      "\tamount: 1boot\n",
      "\trecipient: bostrom12ghyly4gvdnkaj6apqnjadczmejp2x27kw2pku\n",
      "\tamount: 1boot\n",
      "\trecipient: bostrom1y49f2ja6kjfmdqyvd8dmd8gmgpctl3mzk29ma5\n",
      "\tamount: 1boot\n",
      "\trecipient: bostrom1glz3832qtlc9kx5mu652yclz090yjadpy352ad\n",
      "\tamount: 1boot\n",
      "\trecipient: bostrom17fadfef3kgjvgvzsn7cq2frwa43wft2rvcwrwy\n",
      "\tamount: 1boot\n",
      "\trecipient: bostrom1eky6aqsgac5xasmh67fwg67y626dv4c3a77lqp\n",
      "\tamount: 1boot\n",
      "\trecipient: bostrom1809tax5g8prmdljgmhxvav5x99a3hf28874xrp\n",
      "\tamount: 1boot\n",
      "\trecipient: bostrom1fklqnt78adke0ttgamla85xesjamu8jw4qc4fm\n",
      "\tamount: 1boot\n",
      "\trecipient: bostrom1v0lzvpq7n5jrw4wwx9zna0gmerx2gpc32f6tsu\n",
      "\tamount: 1boot\n",
      "Gas used: 564,949\n",
      "Tx hash: 702F9CC6E07293D2CCB69CB629E77C95099CEF0556750C81EC1FF3054A565003\n"
     ]
    }
   ],
   "source": [
    "contract_utils.parse_contract_execution_json(contract_execution_json=send_output[0])"
   ],
   "metadata": {
    "collapsed": false,
    "pycharm": {
     "name": "#%%\n"
    }
   }
  },
  {
   "cell_type": "markdown",
   "source": [
    "### Create Passports, Proof Addresses and Claim Gift"
   ],
   "metadata": {
    "collapsed": false,
    "pycharm": {
     "name": "#%% md\n"
    }
   }
  },
  {
   "cell_type": "code",
   "execution_count": 19,
   "outputs": [
    {
     "name": "stdout",
     "output_type": "stream",
     "text": [
      "Number of tasks: 20\n",
      "Number of threads: 100\n"
     ]
    },
    {
     "data": {
      "text/plain": "  0%|          | 0/20 [00:00<?, ?it/s]",
      "application/vnd.jupyter.widget-view+json": {
       "version_major": 2,
       "version_minor": 0,
       "model_id": "cfafada46a8a48c2921611e7de1ace41"
      }
     },
     "metadata": {},
     "output_type": "display_data"
    }
   ],
   "source": [
    "def execute_participation(row_index: int) -> bool:\n",
    "    _output, _error = execute_bash(bash_command=f'{PYTHON_PATH} create_passport_and_claim_job.py temp/{row_index//10_000}_{PARTICIPANTS_FILE_NAME.split(\"/\")[1]} {row_index} {gift_contract_address}')\n",
    "    if _output:\n",
    "        return _output\n",
    "    else:\n",
    "        return _error\n",
    "\n",
    "NUMBER_OF_THREADS = 100\n",
    "\n",
    "tasks = list(range(NUMBER_OF_ACTIVATED_PARTICIPANTS))\n",
    "print(f'Number of tasks: {len(tasks):>,}')\n",
    "print(f'Number of threads: {NUMBER_OF_THREADS:>,}')\n",
    "\n",
    "\n",
    "with Pool(processes=NUMBER_OF_THREADS) as pool:\n",
    "    res_participation = list(tqdm(pool.imap(execute_participation, tasks), total=len(tasks)))"
   ],
   "metadata": {
    "collapsed": false,
    "pycharm": {
     "name": "#%%\n"
    }
   }
  },
  {
   "cell_type": "code",
   "execution_count": 20,
   "outputs": [],
   "source": [
    "with open('temp/contract_participation_execution_log_10000.txt', 'r') as f:\n",
    "    data = json.load(f)"
   ],
   "metadata": {
    "collapsed": false,
    "pycharm": {
     "name": "#%%\n"
    }
   }
  },
  {
   "cell_type": "code",
   "execution_count": 21,
   "outputs": [
    {
     "name": "stdout",
     "output_type": "stream",
     "text": [
      "\n",
      "Events\n",
      "\n",
      "execute\n",
      "\texecute contract: Passport Contract\n",
      "\texecute contract: Name Subgraph Contract\n",
      "\texecute contract: Avatar Subgraph Contract\n",
      "\n",
      "message from bostrom18x96qyxfj9kxnqerj5ye4430gl4mdm00jecv9n wasm /cosmwasm.wasm.v1.MsgExecuteContract\n",
      "\n",
      "reply\n",
      "\treply contract: Name Subgraph Contract\n",
      "\treply contract: Avatar Subgraph Contract\n",
      "\n",
      "wasm\n",
      "\t_contract_address: Passport Contract\n",
      "\taction: mint\n",
      "\tminter: Passport Contract\n",
      "\towner: bostrom18x96qyxfj9kxnqerj5ye4430gl4mdm00jecv9n\n",
      "\ttoken_id: 518458\n",
      "Gas used: 342,373\n",
      "Tx hash: 5828264EA6AB3B89BFDDB4BDD9F93B97D3AB52DF0C7715712C73044D3864B339\n"
     ]
    }
   ],
   "source": [
    "contract_utils.parse_contract_execution_json(data['create'], row=claims_with_proofs_df.loc[1,:])"
   ],
   "metadata": {
    "collapsed": false,
    "pycharm": {
     "name": "#%%\n"
    }
   }
  },
  {
   "cell_type": "code",
   "execution_count": 22,
   "outputs": [
    {
     "name": "stdout",
     "output_type": "stream",
     "text": [
      "\n",
      "Events\n",
      "\n",
      "execute\n",
      "\texecute contract: Passport Contract\n",
      "\texecute contract: Proof Subgraph Contract\n",
      "\n",
      "message from bostrom18x96qyxfj9kxnqerj5ye4430gl4mdm00jecv9n wasm /cosmwasm.wasm.v1.MsgExecuteContract\n",
      "\n",
      "reply\n",
      "\treply contract: Proof Subgraph Contract\n",
      "\n",
      "wasm\n",
      "\t_contract_address: Passport Contract\n",
      "\taction: proof_address\n",
      "\tnickname: john16524182639991\n",
      "\taddress: 0x18fb581ee5d55bdbb4628490fcc323a8683e0182\n",
      "Gas used: 237,523\n",
      "Tx hash: 2487472AC6E27B38D36E7488464426BD4E606C06CF6393D2E3EE072A8C441043\n"
     ]
    }
   ],
   "source": [
    "contract_utils.parse_contract_execution_json(data['proof_ethereum'], row=claims_with_proofs_df.loc[1,:])"
   ],
   "metadata": {
    "collapsed": false,
    "pycharm": {
     "name": "#%%\n"
    }
   }
  },
  {
   "cell_type": "code",
   "execution_count": 23,
   "outputs": [
    {
     "name": "stdout",
     "output_type": "stream",
     "text": [
      "\n",
      "Events\n",
      "\n",
      "execute\n",
      "\texecute contract: Passport Contract\n",
      "\texecute contract: Proof Subgraph Contract\n",
      "\n",
      "message from bostrom18x96qyxfj9kxnqerj5ye4430gl4mdm00jecv9n wasm /cosmwasm.wasm.v1.MsgExecuteContract\n",
      "\n",
      "reply\n",
      "\treply contract: Proof Subgraph Contract\n",
      "\n",
      "wasm\n",
      "\t_contract_address: Passport Contract\n",
      "\taction: proof_address\n",
      "\tnickname: john16524182639991\n",
      "\taddress: cosmos18x96qyxfj9kxnqerj5ye4430gl4mdm0032vlm5\n",
      "Gas used: 240,955\n",
      "Tx hash: 17522237555D106CABA1FB0E454803AB674B8C7A408CC6BC36907254841DE6ED\n"
     ]
    }
   ],
   "source": [
    "contract_utils.parse_contract_execution_json(data['proof_cosmos'], row=claims_with_proofs_df.loc[1,:])"
   ],
   "metadata": {
    "collapsed": false,
    "pycharm": {
     "name": "#%%\n"
    }
   }
  },
  {
   "cell_type": "code",
   "execution_count": 24,
   "outputs": [
    {
     "name": "stdout",
     "output_type": "stream",
     "text": [
      "\n",
      "Events\n",
      "\n",
      "coin received\n",
      "\treceiver: bostrom18x96qyxfj9kxnqerj5ye4430gl4mdm00jecv9n\n",
      "\tamount: 100000boot\n",
      "\n",
      "coin spent\n",
      "\tspender: bostrom1nfktgkcdysf38rx6wcycfwz5yhuw6cq9el970p845sj9nm5c99sq6qs023\n",
      "\tamount: 100000boot\n",
      "\n",
      "execute\n",
      "\texecute contract: bostrom1zvjnc08uy0zz43m0nlh9f5aetpa3amn6a034yqvmsgvzshk9cldsqf2n5c\n",
      "\texecute contract: bostrom1nfktgkcdysf38rx6wcycfwz5yhuw6cq9el970p845sj9nm5c99sq6qs023\n",
      "\n",
      "message from bostrom18x96qyxfj9kxnqerj5ye4430gl4mdm00jecv9n wasm /cosmwasm.wasm.v1.MsgExecuteContract\n",
      "\n",
      "transfer\n",
      "\trecipient: bostrom18x96qyxfj9kxnqerj5ye4430gl4mdm00jecv9n\n",
      "\tsender: bostrom1nfktgkcdysf38rx6wcycfwz5yhuw6cq9el970p845sj9nm5c99sq6qs023\n",
      "\tamount: 100000boot\n",
      "\n",
      "wasm\n",
      "\t_contract_address: bostrom1zvjnc08uy0zz43m0nlh9f5aetpa3amn6a034yqvmsgvzshk9cldsqf2n5c\n",
      "\taction: claim\n",
      "\toriginal: cosmos18x96qyxfj9kxnqerj5ye4430gl4mdm0032vlm5\n",
      "\ttarget: bostrom18x96qyxfj9kxnqerj5ye4430gl4mdm00jecv9n\n",
      "\tamount: 264,200\n",
      "\t_contract_address: bostrom1nfktgkcdysf38rx6wcycfwz5yhuw6cq9el970p845sj9nm5c99sq6qs023\n",
      "\taction: execute\n",
      "\towner: bostrom1zvjnc08uy0zz43m0nlh9f5aetpa3amn6a034yqvmsgvzshk9cldsqf2n5c\n",
      "Gas used: 397,959\n",
      "Tx hash: 959556655E6A91D3F40FB4E25EC3CB0E642F39D31460AB686E5DBA075CF2F255\n"
     ]
    }
   ],
   "source": [
    "contract_utils.parse_contract_execution_json(data['claim_cosmos'], row=claims_with_proofs_df.loc[1,:])"
   ],
   "metadata": {
    "collapsed": false,
    "pycharm": {
     "name": "#%%\n"
    }
   }
  },
  {
   "cell_type": "markdown",
   "source": [
    "### Release Gift"
   ],
   "metadata": {
    "collapsed": false,
    "pycharm": {
     "name": "#%% md\n"
    }
   }
  },
  {
   "cell_type": "code",
   "execution_count": 25,
   "outputs": [
    {
     "name": "stdout",
     "output_type": "stream",
     "text": [
      "Number of tasks: 20\n",
      "Number of threads: 100\n"
     ]
    },
    {
     "data": {
      "text/plain": "  0%|          | 0/20 [00:00<?, ?it/s]",
      "application/vnd.jupyter.widget-view+json": {
       "version_major": 2,
       "version_minor": 0,
       "model_id": "b7bfed96b7674e1e95337253c99156fc"
      }
     },
     "metadata": {},
     "output_type": "display_data"
    }
   ],
   "source": [
    "def execute_release(row_index: int) -> bool:\n",
    "    _output, _error = execute_bash(bash_command=f'{PYTHON_PATH} create_passport_and_claim_job.py temp/{row_index//10_000}_{PARTICIPANTS_FILE_NAME.split(\"/\")[1]} {row_index} {gift_contract_address} True')\n",
    "    if _output:\n",
    "        return _output\n",
    "    else:\n",
    "        return _error\n",
    "\n",
    "\n",
    "NUMBER_OF_THREADS = 100\n",
    "\n",
    "tasks = list(range(NUMBER_OF_ACTIVATED_PARTICIPANTS))\n",
    "print(f'Number of tasks: {len(tasks):>,}')\n",
    "print(f'Number of threads: {NUMBER_OF_THREADS:>,}')\n",
    "\n",
    "\n",
    "with Pool(processes=NUMBER_OF_THREADS) as pool:\n",
    "    res_release = list(tqdm(pool.imap(execute_release, tasks), total=len(tasks)))"
   ],
   "metadata": {
    "collapsed": false,
    "pycharm": {
     "name": "#%%\n"
    }
   }
  },
  {
   "cell_type": "code",
   "execution_count": 26,
   "outputs": [],
   "source": [
    "with open('temp/contract_release_execution_log_1.txt', 'r') as f:\n",
    "    release_data = json.load(f)"
   ],
   "metadata": {
    "collapsed": false,
    "pycharm": {
     "name": "#%%\n"
    }
   }
  },
  {
   "cell_type": "code",
   "execution_count": 27,
   "outputs": [
    {
     "name": "stdout",
     "output_type": "stream",
     "text": [
      "\n",
      "Events\n",
      "\n",
      "coin received\n",
      "\treceiver: bostrom12fqp8lu305fm6jmuahl337eruln9c78apphyqz\n",
      "\tamount: 25923boot\n",
      "\n",
      "coin spent\n",
      "\tspender: Treasury Contract\n",
      "\tamount: 25923boot\n",
      "\n",
      "execute\n",
      "\texecute contract: Gift Contract\n",
      "\texecute contract: Treasury Contract\n",
      "\n",
      "message from bostrom12fqp8lu305fm6jmuahl337eruln9c78apphyqz wasm /cosmwasm.wasm.v1.MsgExecuteContract\n",
      "\n",
      "transfer\n",
      "\trecipient: bostrom12fqp8lu305fm6jmuahl337eruln9c78apphyqz\n",
      "\tsender: Treasury Contract\n",
      "\tamount: 25923boot\n",
      "\n",
      "wasm\n",
      "\t_contract_address: Gift Contract\n",
      "\taction: release\n",
      "\taddress: bostrom12fqp8lu305fm6jmuahl337eruln9c78apphyqz\n",
      "\tgift_address: 0x22ee476481e69175a6aa699bd2cf243a502d32c0\n",
      "\tstage: 9\n",
      "\tamount: 25,923\n",
      "\t_contract_address: Treasury Contract\n",
      "\taction: execute\n",
      "\towner: Gift Contract\n",
      "Gas used: 230,340\n",
      "Tx hash: 2BA167AF9F3EAB825D3129E06AECD13352548BD65C17DF0B55DDF60F17DDD0A6\n"
     ]
    }
   ],
   "source": [
    "contract_utils.parse_contract_execution_json(release_data['release_ethereum'], row=claims_with_proofs_df.loc[1,:])"
   ],
   "metadata": {
    "collapsed": false,
    "pycharm": {
     "name": "#%%\n"
    }
   }
  },
  {
   "cell_type": "code",
   "execution_count": 28,
   "outputs": [
    {
     "name": "stdout",
     "output_type": "stream",
     "text": [
      "\n",
      "Events\n",
      "\n",
      "coin received\n",
      "\treceiver: bostrom12fqp8lu305fm6jmuahl337eruln9c78apphyqz\n",
      "\tamount: 25188boot\n",
      "\n",
      "coin spent\n",
      "\tspender: Treasury Contract\n",
      "\tamount: 25188boot\n",
      "\n",
      "execute\n",
      "\texecute contract: Gift Contract\n",
      "\texecute contract: Treasury Contract\n",
      "\n",
      "message from bostrom12fqp8lu305fm6jmuahl337eruln9c78apphyqz wasm /cosmwasm.wasm.v1.MsgExecuteContract\n",
      "\n",
      "transfer\n",
      "\trecipient: bostrom12fqp8lu305fm6jmuahl337eruln9c78apphyqz\n",
      "\tsender: Treasury Contract\n",
      "\tamount: 25188boot\n",
      "\n",
      "wasm\n",
      "\t_contract_address: Gift Contract\n",
      "\taction: release\n",
      "\taddress: bostrom12fqp8lu305fm6jmuahl337eruln9c78apphyqz\n",
      "\tgift_address: cosmos12fqp8lu305fm6jmuahl337eruln9c78azjrh79\n",
      "\tstage: 9\n",
      "\tamount: 25,188\n",
      "\t_contract_address: Treasury Contract\n",
      "\taction: execute\n",
      "\towner: Gift Contract\n",
      "Gas used: 230,516\n",
      "Tx hash: EC5C49AFACF28C287FC771A20EB98EBEA7E546FE65807066989D5E836B6A1265\n"
     ]
    }
   ],
   "source": [
    "contract_utils.parse_contract_execution_json(release_data['release_cosmos'], row=claims_with_proofs_df.loc[1,:])"
   ],
   "metadata": {
    "collapsed": false,
    "pycharm": {
     "name": "#%%\n"
    }
   }
  },
  {
   "cell_type": "markdown",
   "source": [
    "## Passport NFT testing"
   ],
   "metadata": {
    "collapsed": false,
    "pycharm": {
     "name": "#%% md\n"
    }
   }
  },
  {
   "cell_type": "code",
   "execution_count": 29,
   "outputs": [],
   "source": [
    "def get_passport_id(bostrom_address: str) -> str:\n",
    "    return query_contract(query=f'''{{\"tokens\": {{\"owner\": \"{bostrom_address}\"}}}}''',\n",
    "                          contract_address=passport_contract_address)['data']['tokens'][0]"
   ],
   "metadata": {
    "collapsed": false,
    "pycharm": {
     "name": "#%%\n"
    }
   }
  },
  {
   "cell_type": "code",
   "execution_count": 30,
   "outputs": [
    {
     "data": {
      "text/plain": "0it [00:00, ?it/s]",
      "application/vnd.jupyter.widget-view+json": {
       "version_major": 2,
       "version_minor": 0,
       "model_id": "f7b13e5d0db6418381a00835c2f5aeba"
      }
     },
     "metadata": {},
     "output_type": "display_data"
    },
    {
     "name": "stdout",
     "output_type": "stream",
     "text": [
      "\n",
      "TRANSFER\n",
      "\n",
      "Events\n",
      "\n",
      "cyberlinks\n",
      "\tQmPcFZbajorUYkkdeowYUD1zJRAWA13N4Koy4rLeZ4cDji -> Nickname\n",
      "\tNickname -> QmPcFZbajorUYkkdeowYUD1zJRAWA13N4Koy4rLeZ4cDji\n",
      "\tneuron: Name Subgraph Contract\n",
      "\n",
      "\n",
      "execute\n",
      "\texecute contract: Passport Contract\n",
      "\texecute contract: Name Subgraph Contract\n",
      "\texecute contract: Avatar Subgraph Contract\n",
      "\n",
      "message from bostrom12fqp8lu305fm6jmuahl337eruln9c78apphyqz wasm /cosmwasm.wasm.v1.MsgExecuteContract\n",
      "\n",
      "reply\n",
      "\treply contract: Avatar Subgraph Contract\n",
      "\n",
      "wasm\n",
      "\t_contract_address: Passport Contract\n",
      "\taction: transfer_nft\n",
      "\tsender: bostrom12fqp8lu305fm6jmuahl337eruln9c78apphyqz\n",
      "\trecipient: Passport Owner Address\n",
      "\ttoken_id: 542556\n",
      "Gas used: 387,935\n",
      "Tx hash: 28B05249A624A1A96AA17BFB82A7E5F219E01FDE15D8915EC7AC13F36B6CF8E0\n",
      "\n",
      "BURN\n",
      "\n",
      "Events\n",
      "out of gas in location: WriteFlat; gasWanted: 400000, gasUsed: 401295: out of gas\n",
      "Gas used: 401,295\n",
      "Tx hash: 1632692CC26CE76A85036A9DE01BB460D5550CA6E906546DB4FD9B32A7E5FF5F\n",
      "\n",
      "UPDATE NAME\n",
      "\n",
      "Events\n",
      "\n",
      "cyberlinks\n",
      "\tPassport Owner Address -> QmdpqRUvVSJYU6vofSBP9axBSps8Pf1eUn9eSZEqnJouQd\n",
      "\tQmdpqRUvVSJYU6vofSBP9axBSps8Pf1eUn9eSZEqnJouQd -> Passport Owner Address\n",
      "\tneuron: Name Subgraph Contract\n",
      "\n",
      "\n",
      "execute\n",
      "\texecute contract: Passport Contract\n",
      "\texecute contract: Name Subgraph Contract\n",
      "\n",
      "message from bostrom1xd76dswkdt2vl3fr9eh9g5rjymx9yjdn2vr4w2 wasm /cosmwasm.wasm.v1.MsgExecuteContract\n",
      "\n",
      "wasm\n",
      "\t_contract_address: Passport Contract\n",
      "\taction: update_nickname\n",
      "\told_name: john16524556463\n",
      "\tnew_name: john16524556463_new\n",
      "Gas used: 296,307\n",
      "Tx hash: 0EBA79570CD0F19ECD034CC31582366E7F8B688556D06B8E16DAC8A25F8B027C\n",
      "\n",
      "UPDATE AVATAR\n",
      "\n",
      "Events\n",
      "\n",
      "cyberlinks\n",
      "\tNickname -> QmXnkwVZcnPuUse3B8KtzR2E1w7Rver8vvceTU3Z1V6a9A\n",
      "\tQmXnkwVZcnPuUse3B8KtzR2E1w7Rver8vvceTU3Z1V6a9A -> Nickname\n",
      "\tneuron: Avatar Subgraph Contract\n",
      "\n",
      "\n",
      "execute\n",
      "\texecute contract: Passport Contract\n",
      "\texecute contract: Avatar Subgraph Contract\n",
      "\n",
      "message from bostrom1zyuzqfq8raq8fss7jvt9w8gxsrz4y96zfez3zc wasm /cosmwasm.wasm.v1.MsgExecuteContract\n",
      "\n",
      "wasm\n",
      "\t_contract_address: Passport Contract\n",
      "\taction: update_avatar\n",
      "\tnickname: john16524556464\n",
      "\tnew_avatar: QmXnkwVZcnPuUse3B8KtzR2E1w7Rver8vvceTU3Z1V6a9A\n",
      "Gas used: 288,250\n",
      "Tx hash: A0F942FA09D292D44F567DB13E4CC6E9DDAF1FC0E9FFDE379253DD1D39A6E7DD\n",
      "\n",
      "REMOVE ADDRESS\n",
      "\n",
      "Events\n",
      "\n",
      "execute\n",
      "\texecute contract: Passport Contract\n",
      "\n",
      "message from bostrom10usrwj4knqraus5wcek7a8yxxk9n7yh47u6m0c wasm /cosmwasm.wasm.v1.MsgExecuteContract\n",
      "\n",
      "wasm\n",
      "\t_contract_address: Passport Contract\n",
      "\taction: remove_address\n",
      "\tnickname: john16524556465\n",
      "\taddress: terra10usrwj4knqraus5wcek7a8yxxk9n7yh4mt5gnl\n",
      "Gas used: 139,666\n",
      "Tx hash: B2C1C74D5C62FE670147E080BD36CA24F7302EDEB1AEB10EEADA71034D004FE0\n"
     ]
    }
   ],
   "source": [
    "for index, row in tqdm(claims_with_proofs_df[:10].iterrows()):\n",
    "    if index == 1:\n",
    "        transfer_passport_json = contract_utils.transfer_passport(\n",
    "            row,\n",
    "            token_id=get_passport_id(row['bostrom_address']),\n",
    "            to_address=WALLET_ADDRESS,\n",
    "            display_data=DISPLAY_TX_EXECUTION)\n",
    "        print('\\nTRANSFER')\n",
    "        contract_utils.parse_contract_execution_json(transfer_passport_json, row=row)\n",
    "    elif index == 2:\n",
    "        burn_passport_json = contract_utils.burn_passport(\n",
    "            row,\n",
    "            token_id=get_passport_id(row['bostrom_address']),\n",
    "            display_data=DISPLAY_TX_EXECUTION)\n",
    "        print('\\nBURN')\n",
    "        contract_utils.parse_contract_execution_json(burn_passport_json, row=row)\n",
    "    elif index == 3:\n",
    "        update_name_json = contract_utils.update_name(\n",
    "            row,\n",
    "            new_nickname=row['nickname'] + '_new',\n",
    "            display_data=DISPLAY_TX_EXECUTION)\n",
    "        print('\\nUPDATE NAME')\n",
    "        contract_utils.parse_contract_execution_json(update_name_json, row=row)\n",
    "    elif index == 4:\n",
    "        update_avatar_json = contract_utils.update_avatar(\n",
    "            row,\n",
    "            new_avatar=get_ipfs_cid_from_str(row['nickname'] + '_new_avatar'),\n",
    "            display_data=DISPLAY_TX_EXECUTION)\n",
    "        print('\\nUPDATE AVATAR')\n",
    "        contract_utils.parse_contract_execution_json(update_avatar_json, row=row)\n",
    "    elif index == 5:\n",
    "       remove_address_json = contract_utils.remove_address(\n",
    "            row,\n",
    "            removed_address=row['cosmos_address'],\n",
    "            display_data=DISPLAY_TX_EXECUTION)\n",
    "       print('\\nREMOVE ADDRESS')\n",
    "       contract_utils.parse_contract_execution_json(remove_address_json, row=row)"
   ],
   "metadata": {
    "collapsed": false,
    "pycharm": {
     "name": "#%%\n"
    }
   }
  },
  {
   "cell_type": "markdown",
   "source": [],
   "metadata": {
    "collapsed": false,
    "pycharm": {
     "name": "#%% md\n"
    }
   }
  },
  {
   "cell_type": "markdown",
   "source": [
    "### Add tests for Passport contract\n",
    "#### create_passport +\n",
    "#### update_name +\n",
    "#### update_avatar +\n",
    "#### proof_address +\n",
    "#### remove_address +\n",
    "#### set_minter\n",
    "#### set_owner\n",
    "#### set_active\n",
    "#### set_subgraphs +\n",
    "#### transfer_nft +\n",
    "#### send_nft\n",
    "#### mint\n",
    "#### burn +\n",
    "#### approve\n",
    "#### approve_all\n",
    "#### revoke\n",
    "#### revoke_all\n",
    "#### Expirations\n",
    "##### at_height\n",
    "##### at_time\n",
    "##### never\n",
    "\n",
    "### Add tests for Gift contract\n",
    "#### update_owner\n",
    "#### update_passport_addr\n",
    "#### update_target\n",
    "#### register_merkle_root +\n",
    "#### claim +\n",
    "#### release +\n",
    "\n",
    "### Add tests for subgraph contract\n",
    "#### update_owner\n",
    "#### update_executer +"
   ],
   "metadata": {
    "collapsed": false,
    "pycharm": {
     "name": "#%% md\n"
    }
   }
  },
  {
   "cell_type": "code",
   "execution_count": 30,
   "outputs": [],
   "source": [],
   "metadata": {
    "collapsed": false,
    "pycharm": {
     "name": "#%%\n"
    }
   }
  }
 ],
 "metadata": {
  "kernelspec": {
   "display_name": "Python 3",
   "language": "python",
   "name": "python3"
  },
  "language_info": {
   "codemirror_mode": {
    "name": "ipython",
    "version": 2
   },
   "file_extension": ".py",
   "mimetype": "text/x-python",
   "name": "python",
   "nbconvert_exporter": "python",
   "pygments_lexer": "ipython2",
   "version": "2.7.6"
  }
 },
 "nbformat": 4,
 "nbformat_minor": 0
}