{
 "cells": [
  {
   "cell_type": "markdown",
   "metadata": {
    "collapsed": true,
    "pycharm": {
     "name": "#%% md\n"
    }
   },
   "source": [
    "## Gift Contract Testing\n",
    "### Sign message by Ethereum address"
   ]
  },
  {
   "cell_type": "code",
   "execution_count": 1,
   "outputs": [
    {
     "data": {
      "text/plain": "       amount                            ethereum_address  \\\n0  1477000000  0x2bfe53b0b377cdf2c603f7d221feb9f3c1d7ecd1   \n1  1477000000  0xe2a52413bd9e440d1b0b5eb81fea2c5106cc7521   \n2  1477000000  0x8d6fe30bb2409dc36166236c05b2d3818f9a9686   \n3  1477000000  0x922bac049290ef02eb2651bbd703cbc66af131d0   \n4  1477000000  0x77eb8667279364b8360595fcd5b8ad6006f978ad   \n5  1477000000  0x296680f700465a64cd92708ab45d42b5312405ce   \n6  1477000000  0x2389cdb0db1a07f1b97678a27ce3a7b5ed0c7f1b   \n7  1477000000  0x0d1d9cd875448cef18c7924e04dac4fd8807fa80   \n8  1477000000  0xa58ebe0beaaed9efae699323c25ae2a1a800661a   \n9  1477000000  0x169eac8150e050bf548bef2a658cc936dbcd4b00   \n\n                                ethereum_private_key  \\\n0  0x45be96b69de4ea8cc7cfa6e02d5b36ec262cafd54895...   \n1  0x4acc7775bd496b0ca2eebea731091242094dc7eef125...   \n2  0xb92491e731124282d8fbed7c6951b7043538f9ce5776...   \n3  0x01a4bfccd78ca2b9c39dccdd9686c1e9f2c1d268cb16...   \n4  0xc7bcdf751eac7520a7cb09f46ec7a1ac6a9c5055a1d8...   \n5  0x6fdc169a509ee721d8f9b788a94fa2acd8c0e9be58d5...   \n6  0x3f73d11fb1a35cfce6db583585ca1749dfd04ad58a38...   \n7  0x2993e82c28b3a873e28d60e4af79855bbd22d34ebf91...   \n8  0xcdc6f87c630aedceb7a5d977d4dbb91e2a38f7b499a2...   \n9  0x826f371ade2880433b76fdc2d3b772840610d4838806...   \n\n                                  bostrom_address  \\\n0  bostrom1gpcxup6j30akmp583h7yw6sdhj0uerxfu68w63   \n1  bostrom167hjy7mq6v8u09aa4qxczmj8gea42eu8me37e7   \n2  bostrom1h8ffjuc0pq5cfa5c8ws5tt4cug57ed80shgaze   \n3  bostrom1qx3rcpzhfag7n63qcmpjdzw3kcgtkh2w3686cr   \n4  bostrom1l8uar2fk4n88y3yfxdq47ll2m92j8a57w8z674   \n5  bostrom186hnt6az9jcjgpmwzc8avtqc0993auhzzjx28z   \n6  bostrom17zmth6ttym5fq6f78urxm3mqnhpsske5ylpag9   \n7  bostrom1nfh0602jjwhwtq4848jafnng800h4prvyj3h9m   \n8  bostrom12jalux75962rg7n48vahev5z7u8jnh4e05fh24   \n9  bostrom18qr2aycn463xhxhlzhn65tsrus8hdklfd4z2v5   \n\n                                  cosmos_address  \\\n0  cosmos1gpcxup6j30akmp583h7yw6sdhj0uerxflfnayk   \n1  cosmos167hjy7mq6v8u09aa4qxczmj8gea42eu8c29d8e   \n2  cosmos1h8ffjuc0pq5cfa5c8ws5tt4cug57ed80nyuwu7   \n3  cosmos1qx3rcpzhfag7n63qcmpjdzw3kcgtkh2wjfnfxy   \n4  cosmos1l8uar2fk4n88y3yfxdq47ll2m92j8a57d5kfqj   \n5  cosmos186hnt6az9jcjgpmwzc8avtqc0993auhzppjee9   \n6  cosmos17zmth6ttym5fq6f78urxm3mqnhpsske58v4wkz   \n7  cosmos1nfh0602jjwhwtq4848jafnng800h4prv8p9ymu   \n8  cosmos12jalux75962rg7n48vahev5z7u8jnh4ev8ay5j   \n9  cosmos18qr2aycn463xhxhlzhn65tsrus8hdklfwxkejn   \n\n                                         cosmos_seed  \\\n0  silly used brick stock couch lazy provide onio...   \n1  various cupboard useful unveil quote travel ra...   \n2  language lunch suspect stock inside episode vo...   \n3  health play detail census come stairs ship tra...   \n4  rich riot hollow fish loud print shine daughte...   \n5  actual settle survey lottery execute enable go...   \n6  inch screen lion solve allow crucial mule arre...   \n7  coconut inch property minute property notice r...   \n8  fish duty van alley sheriff purpose collect se...   \n9  rug wrap random help one renew warfare goddess...   \n\n                                             message  \\\n0  {\"nickname\": \"john\", \"avatar_cid\": \"QmNqdEgYJw...   \n1  {\"nickname\": \"john\", \"avatar_cid\": \"QmNqdEgYJw...   \n2  {\"nickname\": \"john\", \"avatar_cid\": \"QmNqdEgYJw...   \n3  {\"nickname\": \"john\", \"avatar_cid\": \"QmNqdEgYJw...   \n4  {\"nickname\": \"john\", \"avatar_cid\": \"QmNqdEgYJw...   \n5  {\"nickname\": \"john\", \"avatar_cid\": \"QmNqdEgYJw...   \n6  {\"nickname\": \"john\", \"avatar_cid\": \"QmNqdEgYJw...   \n7  {\"nickname\": \"john\", \"avatar_cid\": \"QmNqdEgYJw...   \n8  {\"nickname\": \"john\", \"avatar_cid\": \"QmNqdEgYJw...   \n9  {\"nickname\": \"john\", \"avatar_cid\": \"QmNqdEgYJw...   \n\n                                   message_signature  \n0  0xd5c7d02abb82e4068bd8574201adb23b498209ee570d...  \n1  0x2fb6e30e7fc1133062662d3af756d21833edea0f1b15...  \n2  0x31e8fd8eb15a289c0e8ef3061e6551396d944834773c...  \n3  0xc74b9153dac3f8d69b2f5ee8a37b873900a375fa8045...  \n4  0xb07f21df92360f9c3580e4b8cdfced1b0c60b95a8e1e...  \n5  0x3fd0b3e6d2c1087421c32261b3e01fa0840966816498...  \n6  0x0bb9e31cd312b15b1e87917415266679e6f797148406...  \n7  0x6336a4ed74bcc2aa6d8b99df143a0253e523609fb260...  \n8  0x886f8f3d248124ace3d648fc9a386e5609b887870275...  \n9  0xbcd228bfbbf0908f20d13fff5a6212807f103e43d84e...  ",
      "text/html": "<div>\n<style scoped>\n    .dataframe tbody tr th:only-of-type {\n        vertical-align: middle;\n    }\n\n    .dataframe tbody tr th {\n        vertical-align: top;\n    }\n\n    .dataframe thead th {\n        text-align: right;\n    }\n</style>\n<table border=\"1\" class=\"dataframe\">\n  <thead>\n    <tr style=\"text-align: right;\">\n      <th></th>\n      <th>amount</th>\n      <th>ethereum_address</th>\n      <th>ethereum_private_key</th>\n      <th>bostrom_address</th>\n      <th>cosmos_address</th>\n      <th>cosmos_seed</th>\n      <th>message</th>\n      <th>message_signature</th>\n    </tr>\n  </thead>\n  <tbody>\n    <tr>\n      <th>0</th>\n      <td>1477000000</td>\n      <td>0x2bfe53b0b377cdf2c603f7d221feb9f3c1d7ecd1</td>\n      <td>0x45be96b69de4ea8cc7cfa6e02d5b36ec262cafd54895...</td>\n      <td>bostrom1gpcxup6j30akmp583h7yw6sdhj0uerxfu68w63</td>\n      <td>cosmos1gpcxup6j30akmp583h7yw6sdhj0uerxflfnayk</td>\n      <td>silly used brick stock couch lazy provide onio...</td>\n      <td>{\"nickname\": \"john\", \"avatar_cid\": \"QmNqdEgYJw...</td>\n      <td>0xd5c7d02abb82e4068bd8574201adb23b498209ee570d...</td>\n    </tr>\n    <tr>\n      <th>1</th>\n      <td>1477000000</td>\n      <td>0xe2a52413bd9e440d1b0b5eb81fea2c5106cc7521</td>\n      <td>0x4acc7775bd496b0ca2eebea731091242094dc7eef125...</td>\n      <td>bostrom167hjy7mq6v8u09aa4qxczmj8gea42eu8me37e7</td>\n      <td>cosmos167hjy7mq6v8u09aa4qxczmj8gea42eu8c29d8e</td>\n      <td>various cupboard useful unveil quote travel ra...</td>\n      <td>{\"nickname\": \"john\", \"avatar_cid\": \"QmNqdEgYJw...</td>\n      <td>0x2fb6e30e7fc1133062662d3af756d21833edea0f1b15...</td>\n    </tr>\n    <tr>\n      <th>2</th>\n      <td>1477000000</td>\n      <td>0x8d6fe30bb2409dc36166236c05b2d3818f9a9686</td>\n      <td>0xb92491e731124282d8fbed7c6951b7043538f9ce5776...</td>\n      <td>bostrom1h8ffjuc0pq5cfa5c8ws5tt4cug57ed80shgaze</td>\n      <td>cosmos1h8ffjuc0pq5cfa5c8ws5tt4cug57ed80nyuwu7</td>\n      <td>language lunch suspect stock inside episode vo...</td>\n      <td>{\"nickname\": \"john\", \"avatar_cid\": \"QmNqdEgYJw...</td>\n      <td>0x31e8fd8eb15a289c0e8ef3061e6551396d944834773c...</td>\n    </tr>\n    <tr>\n      <th>3</th>\n      <td>1477000000</td>\n      <td>0x922bac049290ef02eb2651bbd703cbc66af131d0</td>\n      <td>0x01a4bfccd78ca2b9c39dccdd9686c1e9f2c1d268cb16...</td>\n      <td>bostrom1qx3rcpzhfag7n63qcmpjdzw3kcgtkh2w3686cr</td>\n      <td>cosmos1qx3rcpzhfag7n63qcmpjdzw3kcgtkh2wjfnfxy</td>\n      <td>health play detail census come stairs ship tra...</td>\n      <td>{\"nickname\": \"john\", \"avatar_cid\": \"QmNqdEgYJw...</td>\n      <td>0xc74b9153dac3f8d69b2f5ee8a37b873900a375fa8045...</td>\n    </tr>\n    <tr>\n      <th>4</th>\n      <td>1477000000</td>\n      <td>0x77eb8667279364b8360595fcd5b8ad6006f978ad</td>\n      <td>0xc7bcdf751eac7520a7cb09f46ec7a1ac6a9c5055a1d8...</td>\n      <td>bostrom1l8uar2fk4n88y3yfxdq47ll2m92j8a57w8z674</td>\n      <td>cosmos1l8uar2fk4n88y3yfxdq47ll2m92j8a57d5kfqj</td>\n      <td>rich riot hollow fish loud print shine daughte...</td>\n      <td>{\"nickname\": \"john\", \"avatar_cid\": \"QmNqdEgYJw...</td>\n      <td>0xb07f21df92360f9c3580e4b8cdfced1b0c60b95a8e1e...</td>\n    </tr>\n    <tr>\n      <th>5</th>\n      <td>1477000000</td>\n      <td>0x296680f700465a64cd92708ab45d42b5312405ce</td>\n      <td>0x6fdc169a509ee721d8f9b788a94fa2acd8c0e9be58d5...</td>\n      <td>bostrom186hnt6az9jcjgpmwzc8avtqc0993auhzzjx28z</td>\n      <td>cosmos186hnt6az9jcjgpmwzc8avtqc0993auhzppjee9</td>\n      <td>actual settle survey lottery execute enable go...</td>\n      <td>{\"nickname\": \"john\", \"avatar_cid\": \"QmNqdEgYJw...</td>\n      <td>0x3fd0b3e6d2c1087421c32261b3e01fa0840966816498...</td>\n    </tr>\n    <tr>\n      <th>6</th>\n      <td>1477000000</td>\n      <td>0x2389cdb0db1a07f1b97678a27ce3a7b5ed0c7f1b</td>\n      <td>0x3f73d11fb1a35cfce6db583585ca1749dfd04ad58a38...</td>\n      <td>bostrom17zmth6ttym5fq6f78urxm3mqnhpsske5ylpag9</td>\n      <td>cosmos17zmth6ttym5fq6f78urxm3mqnhpsske58v4wkz</td>\n      <td>inch screen lion solve allow crucial mule arre...</td>\n      <td>{\"nickname\": \"john\", \"avatar_cid\": \"QmNqdEgYJw...</td>\n      <td>0x0bb9e31cd312b15b1e87917415266679e6f797148406...</td>\n    </tr>\n    <tr>\n      <th>7</th>\n      <td>1477000000</td>\n      <td>0x0d1d9cd875448cef18c7924e04dac4fd8807fa80</td>\n      <td>0x2993e82c28b3a873e28d60e4af79855bbd22d34ebf91...</td>\n      <td>bostrom1nfh0602jjwhwtq4848jafnng800h4prvyj3h9m</td>\n      <td>cosmos1nfh0602jjwhwtq4848jafnng800h4prv8p9ymu</td>\n      <td>coconut inch property minute property notice r...</td>\n      <td>{\"nickname\": \"john\", \"avatar_cid\": \"QmNqdEgYJw...</td>\n      <td>0x6336a4ed74bcc2aa6d8b99df143a0253e523609fb260...</td>\n    </tr>\n    <tr>\n      <th>8</th>\n      <td>1477000000</td>\n      <td>0xa58ebe0beaaed9efae699323c25ae2a1a800661a</td>\n      <td>0xcdc6f87c630aedceb7a5d977d4dbb91e2a38f7b499a2...</td>\n      <td>bostrom12jalux75962rg7n48vahev5z7u8jnh4e05fh24</td>\n      <td>cosmos12jalux75962rg7n48vahev5z7u8jnh4ev8ay5j</td>\n      <td>fish duty van alley sheriff purpose collect se...</td>\n      <td>{\"nickname\": \"john\", \"avatar_cid\": \"QmNqdEgYJw...</td>\n      <td>0x886f8f3d248124ace3d648fc9a386e5609b887870275...</td>\n    </tr>\n    <tr>\n      <th>9</th>\n      <td>1477000000</td>\n      <td>0x169eac8150e050bf548bef2a658cc936dbcd4b00</td>\n      <td>0x826f371ade2880433b76fdc2d3b772840610d4838806...</td>\n      <td>bostrom18qr2aycn463xhxhlzhn65tsrus8hdklfd4z2v5</td>\n      <td>cosmos18qr2aycn463xhxhlzhn65tsrus8hdklfwxkejn</td>\n      <td>rug wrap random help one renew warfare goddess...</td>\n      <td>{\"nickname\": \"john\", \"avatar_cid\": \"QmNqdEgYJw...</td>\n      <td>0xbcd228bfbbf0908f20d13fff5a6212807f103e43d84e...</td>\n    </tr>\n  </tbody>\n</table>\n</div>"
     },
     "execution_count": 1,
     "metadata": {},
     "output_type": "execute_result"
    }
   ],
   "source": [
    "from web3.auto import w3\n",
    "import pandas as pd\n",
    "from cyberpy import generate_wallet, address_to_address\n",
    "from eth_account.messages import encode_defunct\n",
    "import json\n",
    "from subprocess import Popen, PIPE\n",
    "import os\n",
    "\n",
    "KEY_PHRASE = 'KEY PHRASE'\n",
    "NUMBER_OF_PARTICIPANTS = 10\n",
    "NICKNAME_LIST = [\"john\"]\n",
    "AVATAR_CID_LIST = [\"QmNqdEgYJwe8QSZvcpBXqcNoG9BRoSf71q6mJLe3aRhZAW\"]\n",
    "CLAIM_AMOUNT_LIST = [1477000000]\n",
    "ROOT_SOURCE_FILE_NAME = 'root_testing_source_' + str(NUMBER_OF_PARTICIPANTS) + '_addresses.json'\n",
    "ROOT_FILE_NAME = 'root_testing_' + str(NUMBER_OF_PARTICIPANTS) + '_addresses'\n",
    "\n",
    "PASSPORT_CONTRACT_ADDRESS = \"bostrom1nfmvw8x37w00p3geuu8lrt3vt5kadxa5xd9us7\"\n",
    "INITIAL_BALANCE = str(1_000_000_000)\n",
    "COEF_UP = str(20)\n",
    "COEF_DOWN = str(5)\n",
    "COEF = str(0)\n",
    "TARGET_CLAIM = str(100_000)\n",
    "\n",
    "\n",
    "def execute_bash(bash_command: str):\n",
    "    _output, _error = Popen(bash_command, shell=True, stdout=PIPE, stderr=PIPE).communicate()\n",
    "    return _output.decode(\"utf-8\"), _error.decode(\"utf-8\")\n",
    "\n",
    "\n",
    "claims_list = []\n",
    "for _ in range(NUMBER_OF_PARTICIPANTS):\n",
    "    claim_item = {'amount': CLAIM_AMOUNT_LIST[0]}\n",
    "\n",
    "    # Generate Ethereum wallet\n",
    "    ethereum_wallet = w3.eth.account.create(KEY_PHRASE)\n",
    "    claim_item['ethereum_address'] = ethereum_wallet.address.lower()\n",
    "    claim_item['ethereum_private_key'] = ethereum_wallet.privateKey.hex()\n",
    "\n",
    "    # Generate Bostrom and Cosmos wallet\n",
    "    bostrom_wallet = generate_wallet()\n",
    "    claim_item['bostrom_address'] = bostrom_wallet['address']\n",
    "    claim_item['cosmos_address'] = address_to_address(bostrom_wallet['address'], 'cosmos')\n",
    "    claim_item['cosmos_seed'] = bostrom_wallet['seed']\n",
    "\n",
    "    # Create message\n",
    "    message_json = {\n",
    "        \"nickname\": NICKNAME_LIST[0],\n",
    "        \"avatar_cid\": AVATAR_CID_LIST[0],\n",
    "        \"gift_claiming_address_type\": \"ethereum\",\n",
    "        \"gift_claiming_address\": claim_item['ethereum_address'],\n",
    "        \"target_address\": claim_item['bostrom_address'],\n",
    "        \"relay_reward\": \"0.01\"\n",
    "    }\n",
    "    claim_item['message'] = json.dumps(message_json)\n",
    "\n",
    "    # Sign message form Ethereum address\n",
    "    signed_message = \\\n",
    "        w3.eth.account.sign_message(\n",
    "            signable_message=encode_defunct(text=claim_item['message']),\n",
    "            private_key=ethereum_wallet.privateKey)\n",
    "    claim_item['message_signature'] = signed_message.signature.hex()\n",
    "\n",
    "    # Verify message\n",
    "    assert claim_item['ethereum_address'] == w3.eth.account.recover_message(\n",
    "        signable_message=encode_defunct(text=claim_item['message']),\n",
    "        signature=claim_item['message_signature']).lower()\n",
    "\n",
    "    claims_list.append(claim_item)\n",
    "\n",
    "claims_df = pd.DataFrame(claims_list)\n",
    "claims_df.to_csv('claims_ethereum_test_data_' + str(NUMBER_OF_PARTICIPANTS) + '_addresses.csv')\n",
    "claims_df"
   ],
   "metadata": {
    "collapsed": false,
    "pycharm": {
     "name": "#%%\n"
    }
   }
  },
  {
   "cell_type": "markdown",
   "source": [
    "### Instantiate Gift Contract"
   ],
   "metadata": {
    "collapsed": false,
    "pycharm": {
     "name": "#%% md\n"
    }
   }
  },
  {
   "cell_type": "code",
   "execution_count": 2,
   "outputs": [
    {
     "name": "stdout",
     "output_type": "stream",
     "text": [
      "Contract address: bostrom1gu70g4jnj93k6uq77mc450mvz5780zqy22526e2l4yhehcgawy0qe2dqnq\n"
     ]
    }
   ],
   "source": [
    "init_output, init_error = execute_bash(\n",
    "    f'''INIT='{{\"owner\":\"{os.getenv('WALLET_ADDRESS')}\", \"passport\":\"{PASSPORT_CONTRACT_ADDRESS}\", \"allowed_native\":\"boot\", \"initial_balance\":\"{INITIAL_BALANCE}\", \"coefficient_up\":\"{COEF_UP}\", \"coefficient_down\":\"{COEF_DOWN}\", \"coefficient\":\"{COEF}\", \"target_claim\":\"{TARGET_CLAIM}\"}}' \\\n",
    "           && cyber tx wasm instantiate 9 \"$INIT\" --from $WALLET --amount 1000000000boot --label \"cybergift test\" -y --chain-id=space-pussy-1 --gas 3500000 --broadcast-mode block -o json --node=https://rpc.space-pussy-1.cybernode.ai:443''')\n",
    "if init_error:\n",
    "    print(init_error)\n",
    "init_json = json.loads(init_output)\n",
    "contract_address = \\\n",
    "    [event['attributes'][0]['value'] for event in init_json['logs'][0]['events'] if event['type'] == 'instantiate'][0]\n",
    "print(f'Contract address: {contract_address}')"
   ],
   "metadata": {
    "collapsed": false,
    "pycharm": {
     "name": "#%%\n"
    }
   }
  },
  {
   "cell_type": "markdown",
   "source": [
    "### Create Merkle Root"
   ],
   "metadata": {
    "collapsed": false,
    "pycharm": {
     "name": "#%% md\n"
    }
   }
  },
  {
   "cell_type": "code",
   "execution_count": 4,
   "outputs": [],
   "source": [
    "root_source_list = [{'address': item['ethereum_address'],\n",
    "                     'amount': str(claim_item['amount'])} for item in claims_list]\n",
    "\n",
    "with open(ROOT_SOURCE_FILE_NAME, 'w') as outfile:\n",
    "    outfile.write(str(root_source_list).replace(\"'\", '\"'))"
   ],
   "metadata": {
    "collapsed": false,
    "pycharm": {
     "name": "#%%\n"
    }
   }
  },
  {
   "cell_type": "code",
   "execution_count": 5,
   "outputs": [
    {
     "name": "stdout",
     "output_type": "stream",
     "text": [
      "Merkle root: 0bd17d307080b54a0034fc0e33d246556ae6d15ccf5d97d6238824f23e55c4a2\n"
     ]
    }
   ],
   "source": [
    "execute_bash(f'rm {ROOT_FILE_NAME}')\n",
    "root_output, root_error = execute_bash(\n",
    "    f'merkle-airdrop-cli generateRoot --file {ROOT_SOURCE_FILE_NAME} >> {ROOT_FILE_NAME} && cat {ROOT_FILE_NAME}')\n",
    "root = root_output.replace('\\n', '')\n",
    "print(f'Merkle root: {root}')"
   ],
   "metadata": {
    "collapsed": false,
    "pycharm": {
     "name": "#%%\n"
    }
   }
  },
  {
   "cell_type": "code",
   "execution_count": 6,
   "outputs": [],
   "source": [
    "root_register_output, root_register_error = \\\n",
    "    execute_bash(\n",
    "        f'''REGISTER='{{\"register_merkle_root\":{{\"merkle_root\":\"{root}\"}}}}' \\\n",
    "            && CONTRACT=\"{contract_address}\" \\\n",
    "            && cyber tx wasm execute $CONTRACT \"$REGISTER\" --from $WALLET --broadcast-mode block -y --chain-id=space-pussy-1 --node=https://rpc.space-pussy-1.cybernode.ai:443''')"
   ],
   "metadata": {
    "collapsed": false,
    "pycharm": {
     "name": "#%%\n"
    }
   }
  },
  {
   "cell_type": "markdown",
   "source": [
    "#### Get Merkle Root form the Gift Contract"
   ],
   "metadata": {
    "collapsed": false,
    "pycharm": {
     "name": "#%% md\n"
    }
   },
   "execution_count": 156
  },
  {
   "cell_type": "code",
   "execution_count": 7,
   "outputs": [
    {
     "name": "stdout",
     "output_type": "stream",
     "text": [
      "data:\n",
      "  merkle_root: 0bd17d307080b54a0034fc0e33d246556ae6d15ccf5d97d6238824f23e55c4a2\n",
      "\n"
     ]
    }
   ],
   "source": [
    "print(\n",
    "    execute_bash(\n",
    "        f'''QUERY='{{\"merkle_root\": {{}}}}' \\\n",
    "            && cyber query wasm contract-state smart {contract_address} \"$QUERY\" --chain-id=space-pussy-1 --node=https://rpc.space-pussy-1.cybernode.ai:443''')[\n",
    "        0])"
   ],
   "metadata": {
    "collapsed": false,
    "pycharm": {
     "name": "#%%\n"
    }
   }
  },
  {
   "cell_type": "markdown",
   "source": [
    "### Generate Proofs"
   ],
   "metadata": {
    "collapsed": false,
    "pycharm": {
     "name": "#%% md\n"
    }
   }
  },
  {
   "cell_type": "code",
   "execution_count": 21,
   "outputs": [
    {
     "data": {
      "text/plain": "['c14b9d3c4d5f343f0a383a8b22afd273ce235576c0eb55c0d887ebc117a6a43e',\n 'a69216a64da01cb8bb89585646f86bb306a2333a1852cf9c166d5873c644edfa',\n '3f7f3d34e3c87a42a1748a74ca6442e20c2d245d6593144075a65f7378e135b2',\n 'a821f581bad8a673b1d1f72f4577d8bf4ddecebf0db948231d1a75f0af203bc6']"
     },
     "execution_count": 21,
     "metadata": {},
     "output_type": "execute_result"
    }
   ],
   "source": [
    "proof_output, proof_error = execute_bash(f'merkle-airdrop-cli generateProofs --file {ROOT_SOURCE_FILE_NAME} --address {claims_df.ethereum_address[0]} --amount {claims_df.amount[0]}')\n",
    "proof = proof_output.strip('][').replace('\\n','').replace(\" \",'').replace(\"'\",'').replace(\"]\",'').split(',')\n",
    "proof"
   ],
   "metadata": {
    "collapsed": false,
    "pycharm": {
     "name": "#%%\n"
    }
   }
  },
  {
   "cell_type": "markdown",
   "source": [
    "### Claim"
   ],
   "metadata": {
    "collapsed": false,
    "pycharm": {
     "name": "#%% md\n"
    }
   }
  },
  {
   "cell_type": "code",
   "execution_count": 22,
   "outputs": [
    {
     "name": "stdout",
     "output_type": "stream",
     "text": [
      "code: 5\n",
      "codespace: wasm\n",
      "data: \"\"\n",
      "gas_used: \"124255\"\n",
      "gas_wanted: \"200000\"\n",
      "height: \"800540\"\n",
      "info: \"\"\n",
      "logs: []\n",
      "raw_log: 'failed to execute message; message index: 0: Error parsing into type cw_cyber_airdrop::msg::ExecuteMsg:\n",
      "  Invalid type: execute wasm contract failed'\n",
      "timestamp: \"\"\n",
      "tx: null\n",
      "txhash: 32E4F626BDEF0ADD5683D70AD38197370D4471617F11158C37900F5AD3F705A0\n",
      "\n"
     ]
    }
   ],
   "source": [
    "print(\n",
    "    execute_bash(\n",
    "        f'''CLAIM='{{\"claim\":{{\"claim_msg\":{{\"nickname\":\"{json.loads(claims_df.message[0])['nickname']}\", \"avatar_cid\": \"{json.loads(claims_df.message[0])['avatar_cid']}\", \"gift_claiming_address_type\":\"ethereum\", \"gift_claiming_address\":\"{claims_df.ethereum_address[0]}\", \"target_address\":\"{claims_df.bostrom_address[0]}\", \"relay_reward\":\"{json.loads(claims_df.message[0])['relay_reward']}\"}}, \"signature\":\"{claims_df.message_signature[0]}\", \"claim_amount\":\"{claims_df.amount[0]}\", \"proof\":\"{proof}\"}}}}' \\\n",
    "            && cyber tx wasm execute {contract_address} \"$CLAIM\" --from $WALLET --broadcast-mode block -y --chain-id=space-pussy-1 --node=https://rpc.space-pussy-1.cybernode.ai:443''')[0]\n",
    ")"
   ],
   "metadata": {
    "collapsed": false,
    "pycharm": {
     "name": "#%%\n"
    }
   }
  },
  {
   "cell_type": "markdown",
   "source": [
    "### Sign message by Cosmos address\n",
    "*TODO: add script for signature generation. You can sign a message only in the Keplr extension now*\n",
    "\n",
    "\n",
    "message:\n",
    "```json\n",
    "{\"nickname\":\"bob-cosmos\",\"avatar_cid\":\"QmU1Nf2opJGZGNWmqxAa9bb8X6wVSHRBDCY6nbm3RmVXGb\",\"gift_claiming_address_type\":\"cosmos\",\"gift_claiming_address\":\"cosmos1qjjjur5et06eszh82pfv7kvdnu3sur23x00t3g\",\"target_address\":\"bostrom1qjjjur5et06eszh82pfv7kvdnu3sur239umc00\",\"relay_reward\":\"0.01\"}\n",
    "```\n",
    "signature:\n",
    "`CvMkqkQHVPV3DTyVErth16OdTjAwqQD6t+r9ImSpdwUZFin+UPeGSfH9hhuAmqYAp4CffhNNSEisdfzwwvlN/w==`\n"
   ],
   "metadata": {
    "collapsed": false,
    "pycharm": {
     "name": "#%% md\n"
    }
   }
  }
 ],
 "metadata": {
  "kernelspec": {
   "display_name": "Python 3",
   "language": "python",
   "name": "python3"
  },
  "language_info": {
   "codemirror_mode": {
    "name": "ipython",
    "version": 2
   },
   "file_extension": ".py",
   "mimetype": "text/x-python",
   "name": "python",
   "nbconvert_exporter": "python",
   "pygments_lexer": "ipython2",
   "version": "2.7.6"
  }
 },
 "nbformat": 4,
 "nbformat_minor": 0
}