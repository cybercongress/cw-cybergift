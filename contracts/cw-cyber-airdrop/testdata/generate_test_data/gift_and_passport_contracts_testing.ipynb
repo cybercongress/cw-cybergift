{
 "cells": [
  {
   "cell_type": "markdown",
   "metadata": {
    "collapsed": true,
    "pycharm": {
     "name": "#%% md\n"
    }
   },
   "source": [
    "## Gift Contract Testing"
   ]
  },
  {
   "cell_type": "code",
   "source": [
    "from web3.auto import w3\n",
    "import pandas as pd\n",
    "from cyberpy import generate_wallet, address_to_address\n",
    "from cyberpy._message_signer import Message\n",
    "from cyberpy._wallet import seed_to_privkey\n",
    "from eth_account.messages import encode_defunct\n",
    "import json\n",
    "from subprocess import Popen, PIPE\n",
    "import os\n",
    "from time import time\n",
    "import ipfshttpclient\n",
    "from tqdm.notebook import tqdm\n",
    "from base64 import b64encode\n",
    "\n",
    "client = ipfshttpclient.connect()\n",
    "\n",
    "NUMBER_OF_PARTICIPANTS = 2\n",
    "KEY_PHRASE = 'KEY PHRASE'\n",
    "NICKNAME_LIST = [f'john{round(time())}{number}' for number in range(NUMBER_OF_PARTICIPANTS)]\n",
    "AVATAR_CID_LIST = [client.add_str(_nickname + 'avatar') for _nickname in NICKNAME_LIST]\n",
    "CLAIM_AMOUNT_LIST = [1_477_000] * NUMBER_OF_PARTICIPANTS\n",
    "\n",
    "INITIAL_BALANCE = str(1_000_000_000)\n",
    "COEF_UP = str(20)\n",
    "COEF_DOWN = str(5)\n",
    "TARGET_CLAIM = str(2)\n",
    "\n",
    "NODE_URL = 'https://rpc.space-pussy-1.cybernode.ai:443'\n",
    "NETWORK = 'space-pussy-1'\n",
    "\n",
    "INIT_PASSPORT_CONTRACT = False\n",
    "PASSPORT_CODE_ID = str(23)\n",
    "PASSPORT_CONTRACT_ADDRESS = 'bostrom1ttftq90jgl6cms2y0awsatx8rnf99m2u2l6cmdtd427yg6g3myvqgsm4nu'\n",
    "\n",
    "INIT_GIFT_CONTRACT = False\n",
    "GIFT_CODE_ID = str(20)\n",
    "GIFT_CONTRACT_ADDRESS = 'bostrom1rt2acjyhs4jfjdq56pftpu7762hy9gfl63je6fnhwrc5p5y4kmuqxg0262'\n",
    "\n",
    "ROOT_SOURCE_FILE_NAME = 'root_testing_source_' + str(NUMBER_OF_PARTICIPANTS) + '_addresses.json'\n",
    "ROOT_FILE_NAME = 'root_testing_' + str(NUMBER_OF_PARTICIPANTS) + '_addresses'\n",
    "\n",
    "\n",
    "def execute_bash(bash_command: str, display_data: bool = False) -> [str, str]:\n",
    "    _output, _error = Popen(bash_command, shell=True, stdout=PIPE, stderr=PIPE).communicate()\n",
    "    if _error:\n",
    "        display_data = True\n",
    "    if display_data:\n",
    "        print(bash_command)\n",
    "        if _output:\n",
    "            try:\n",
    "                print(json.dumps(json.loads(_output.decode('utf-8')), indent=4, sort_keys=True))\n",
    "            except json.JSONDecodeError:\n",
    "                print(_output)\n",
    "        if _error:\n",
    "            print(json.dumps(json.loads(_error.decode('utf-8')), indent=4, sort_keys=True))\n",
    "    return _output.decode('utf-8'), _error.decode('utf-8')"
   ],
   "metadata": {
    "collapsed": false,
    "pycharm": {
     "name": "#%%\n"
    }
   },
   "execution_count": 1,
   "outputs": [
    {
     "name": "stderr",
     "output_type": "stream",
     "text": [
      "/Users/sergenedashkovsky/Library/Python/3.8/lib/python/site-packages/ipfshttpclient/client/__init__.py:75: VersionMismatch: Unsupported daemon version '0.10.0' (not in range: 0.5.0 ≤ … < 0.9.0)\n",
      "  warnings.warn(exceptions.VersionMismatch(version, minimum, maximum))\n"
     ]
    }
   ]
  },
  {
   "cell_type": "markdown",
   "source": [
    "### Generate addresses and sign messages"
   ],
   "metadata": {
    "collapsed": false,
    "pycharm": {
     "name": "#%% md\n"
    }
   }
  },
  {
   "cell_type": "code",
   "execution_count": 2,
   "outputs": [
    {
     "data": {
      "text/plain": "    amount         nickname                                          avatar  \\\n0  1477000  john16445669770  QmeubEhpA6e8bV8P2Q9fmpcQrkVNcSHYFszcunconYm58v   \n1  1477000  john16445669771  QmS4pvkZzQcJMDYrMCZKDpBNoWc7HWJnFKHi1dRhmjRrLy   \n\n                             ethereum_address  \\\n0  0x31419fd3943c05836fc708ba6e5b7353accdcc82   \n1  0x42931499d6d14a05fb312808123a564e30a66a0c   \n\n                                ethereum_private_key  \\\n0  0xb5327df33d01f31e0573c5a4484ac6d6313a3e185c40...   \n1  0x578a91df8f628383aa92ae7d2a05a0e557c72672e6cf...   \n\n                                  bostrom_address  \\\n0  bostrom1t6hlkgpkwgx4qx2qjctd6hnzj6emn77zq7ttxs   \n1  bostrom12h0p07w95x5r3xjr03999pvx8535vnemk9d7v3   \n\n                                  cosmos_address  \\\n0  cosmos1t6hlkgpkwgx4qx2qjctd6hnzj6emn77zrdlcch   \n1  cosmos12h0p07w95x5r3xjr03999pvx8535vnem4kedjk   \n\n                                         cosmos_seed  \\\n0  layer below poem mom print hidden allow povert...   \n1  lunar calm pond lizard want mobile purpose pat...   \n\n                                          message  \\\n0  QmRX8qYgeZoYM3M5zzQaWEpVFdpin6FvVXvp6RPQK3oufV   \n1  QmRX8qYgeZoYM3M5zzQaWEpVFdpin6FvVXvp6RPQK3oufV   \n\n                          ethereum_message_signature  \\\n0  0xbaf8c4a43f098c1c2a35ea0513edb361c93ef0113f14...   \n1  0xc37be3a26e4add0a57fde48d3ba130a126e1195350f0...   \n\n                           cosmos_message_signed_row  \\\n0  {'pub_key': 'AiWoSSCPapVl5ob/LHjlQzQkw+kSLTHbc...   \n1  {'pub_key': 'A1QeouLqZzeXmOicT59AYajB0ynmteSes...   \n\n                            cosmos_message_signature  \n0  eyJwdWJfa2V5IjoiQWlXb1NTQ1BhcFZsNW9iL0xIamxRel...  \n1  eyJwdWJfa2V5IjoiQTFRZW91THFaemVYbU9pY1Q1OUFZYW...  ",
      "text/html": "<div>\n<style scoped>\n    .dataframe tbody tr th:only-of-type {\n        vertical-align: middle;\n    }\n\n    .dataframe tbody tr th {\n        vertical-align: top;\n    }\n\n    .dataframe thead th {\n        text-align: right;\n    }\n</style>\n<table border=\"1\" class=\"dataframe\">\n  <thead>\n    <tr style=\"text-align: right;\">\n      <th></th>\n      <th>amount</th>\n      <th>nickname</th>\n      <th>avatar</th>\n      <th>ethereum_address</th>\n      <th>ethereum_private_key</th>\n      <th>bostrom_address</th>\n      <th>cosmos_address</th>\n      <th>cosmos_seed</th>\n      <th>message</th>\n      <th>ethereum_message_signature</th>\n      <th>cosmos_message_signed_row</th>\n      <th>cosmos_message_signature</th>\n    </tr>\n  </thead>\n  <tbody>\n    <tr>\n      <th>0</th>\n      <td>1477000</td>\n      <td>john16445669770</td>\n      <td>QmeubEhpA6e8bV8P2Q9fmpcQrkVNcSHYFszcunconYm58v</td>\n      <td>0x31419fd3943c05836fc708ba6e5b7353accdcc82</td>\n      <td>0xb5327df33d01f31e0573c5a4484ac6d6313a3e185c40...</td>\n      <td>bostrom1t6hlkgpkwgx4qx2qjctd6hnzj6emn77zq7ttxs</td>\n      <td>cosmos1t6hlkgpkwgx4qx2qjctd6hnzj6emn77zrdlcch</td>\n      <td>layer below poem mom print hidden allow povert...</td>\n      <td>QmRX8qYgeZoYM3M5zzQaWEpVFdpin6FvVXvp6RPQK3oufV</td>\n      <td>0xbaf8c4a43f098c1c2a35ea0513edb361c93ef0113f14...</td>\n      <td>{'pub_key': 'AiWoSSCPapVl5ob/LHjlQzQkw+kSLTHbc...</td>\n      <td>eyJwdWJfa2V5IjoiQWlXb1NTQ1BhcFZsNW9iL0xIamxRel...</td>\n    </tr>\n    <tr>\n      <th>1</th>\n      <td>1477000</td>\n      <td>john16445669771</td>\n      <td>QmS4pvkZzQcJMDYrMCZKDpBNoWc7HWJnFKHi1dRhmjRrLy</td>\n      <td>0x42931499d6d14a05fb312808123a564e30a66a0c</td>\n      <td>0x578a91df8f628383aa92ae7d2a05a0e557c72672e6cf...</td>\n      <td>bostrom12h0p07w95x5r3xjr03999pvx8535vnemk9d7v3</td>\n      <td>cosmos12h0p07w95x5r3xjr03999pvx8535vnem4kedjk</td>\n      <td>lunar calm pond lizard want mobile purpose pat...</td>\n      <td>QmRX8qYgeZoYM3M5zzQaWEpVFdpin6FvVXvp6RPQK3oufV</td>\n      <td>0xc37be3a26e4add0a57fde48d3ba130a126e1195350f0...</td>\n      <td>{'pub_key': 'A1QeouLqZzeXmOicT59AYajB0ynmteSes...</td>\n      <td>eyJwdWJfa2V5IjoiQTFRZW91THFaemVYbU9pY1Q1OUFZYW...</td>\n    </tr>\n  </tbody>\n</table>\n</div>"
     },
     "execution_count": 2,
     "metadata": {},
     "output_type": "execute_result"
    }
   ],
   "source": [
    "claims_list = []\n",
    "for i in range(NUMBER_OF_PARTICIPANTS):\n",
    "    claim_item = {'amount': CLAIM_AMOUNT_LIST[i],\n",
    "                  'nickname': NICKNAME_LIST[i],\n",
    "                  'avatar': AVATAR_CID_LIST[i]}\n",
    "\n",
    "    # Generate Ethereum wallet\n",
    "    ethereum_wallet = w3.eth.account.create(KEY_PHRASE)\n",
    "    claim_item['ethereum_address'] = ethereum_wallet.address.lower()\n",
    "    claim_item['ethereum_private_key'] = ethereum_wallet.privateKey.hex()\n",
    "\n",
    "    # Generate Bostrom and Cosmos wallet\n",
    "    bostrom_wallet = generate_wallet()\n",
    "    claim_item['bostrom_address'] = bostrom_wallet['address']\n",
    "    claim_item['cosmos_address'] = address_to_address(bostrom_wallet['address'], 'cosmos')\n",
    "    claim_item['cosmos_seed'] = bostrom_wallet['seed']\n",
    "\n",
    "    # Create message\n",
    "    # message_json = {\n",
    "    #     \"nickname\": claim_item['nickname'],\n",
    "    #     \"gift_claiming_address\": claim_item['ethereum_address'],\n",
    "    #     \"gift_amount\": claim_item['amount'],\n",
    "    #     \"target_address\": claim_item['bostrom_address']\n",
    "    # }\n",
    "    # claim_item['message'] = json.dumps(message_json)\n",
    "    claim_item['message'] = 'QmRX8qYgeZoYM3M5zzQaWEpVFdpin6FvVXvp6RPQK3oufV'\n",
    "\n",
    "    # Sign message form Ethereum address\n",
    "    ethereum_signed_message = \\\n",
    "        w3.eth.account.sign_message(\n",
    "            signable_message=encode_defunct(text=claim_item['message']),\n",
    "            private_key=ethereum_wallet.privateKey)\n",
    "    # print(signed_message.signature)\n",
    "    claim_item['ethereum_message_signature'] = ethereum_signed_message.signature.hex()\n",
    "\n",
    "    # Sign message form Cosmos address\n",
    "    cosmos_msg = Message(privkey=seed_to_privkey(seed=claim_item['cosmos_seed']))\n",
    "    cosmos_msg.add_message(signing_message=claim_item['message'], signer_prefix='cosmos')\n",
    "    claim_item['cosmos_message_signed_row'] = cosmos_msg.get_signed_message()\n",
    "    claim_item['cosmos_message_signature'] = b64encode(json.dumps(claim_item['cosmos_message_signed_row']).replace('\\n', '').replace(' ', '').encode('utf-8')).decode(\"utf-8\")\n",
    "\n",
    "    # Verify message\n",
    "    assert claim_item['ethereum_address'] == w3.eth.account.recover_message(\n",
    "        signable_message=encode_defunct(text=claim_item['message']),\n",
    "        signature=claim_item['ethereum_message_signature']).lower()\n",
    "\n",
    "    claims_list.append(claim_item)\n",
    "\n",
    "claims_df = pd.DataFrame(claims_list)\n",
    "claims_df.to_csv('claims_ethereum_test_data_' + str(NUMBER_OF_PARTICIPANTS) + '_addresses.csv')\n",
    "claims_df"
   ],
   "metadata": {
    "collapsed": false,
    "pycharm": {
     "name": "#%%\n"
    }
   }
  },
  {
   "cell_type": "markdown",
   "source": [
    "### Instantiate Passport Contract"
   ],
   "metadata": {
    "collapsed": false,
    "pycharm": {
     "name": "#%% md\n"
    }
   }
  },
  {
   "cell_type": "code",
   "execution_count": 3,
   "outputs": [
    {
     "name": "stdout",
     "output_type": "stream",
     "text": [
      "Passport contract address: bostrom1ttftq90jgl6cms2y0awsatx8rnf99m2u2l6cmdtd427yg6g3myvqgsm4nu\n"
     ]
    }
   ],
   "source": [
    "if INIT_PASSPORT_CONTRACT:\n",
    "    init_output, init_error = execute_bash(\n",
    "        f'''INIT='{{\"name\":\"CPT\", \"minter\":\"{os.getenv('WALLET_ADDRESS')}\", \"owner\":\"{os.getenv('WALLET_ADDRESS')}\", \"symbol\":\"CPT\"}}' \\\n",
    "               && cyber tx wasm instantiate {PASSPORT_CODE_ID} \"$INIT\" --from $WALLET --label \"cybergift passport test\" -y --gas 3500000 --broadcast-mode block -o json --chain-id={NETWORK} --node={NODE_URL}''')\n",
    "    if init_error:\n",
    "        print(init_error)\n",
    "    init_json = json.loads(init_output)\n",
    "    passport_contract_address = \\\n",
    "        [event['attributes'][0]['value'] for event in init_json['logs'][0]['events'] if event['type'] == 'instantiate'][0]\n",
    "else:\n",
    "    passport_contract_address = PASSPORT_CONTRACT_ADDRESS\n",
    "print(f'Passport contract address: {passport_contract_address}')"
   ],
   "metadata": {
    "collapsed": false,
    "pycharm": {
     "name": "#%%\n"
    }
   }
  },
  {
   "cell_type": "markdown",
   "source": [
    "### Instantiate Gift Contract"
   ],
   "metadata": {
    "collapsed": false,
    "pycharm": {
     "name": "#%% md\n"
    }
   }
  },
  {
   "cell_type": "code",
   "execution_count": 4,
   "outputs": [
    {
     "name": "stdout",
     "output_type": "stream",
     "text": [
      "Gift contract address: bostrom1rt2acjyhs4jfjdq56pftpu7762hy9gfl63je6fnhwrc5p5y4kmuqxg0262\n"
     ]
    }
   ],
   "source": [
    "if INIT_GIFT_CONTRACT:\n",
    "    init_output, init_error = execute_bash(\n",
    "        f'''INIT='{{\"owner\":\"{os.getenv('WALLET_ADDRESS')}\", \"passport\":\"{passport_contract_address}\", \"allowed_native\":\"boot\", \"initial_balance\":\"{INITIAL_BALANCE}\", \"coefficient_up\":\"{COEF_UP}\", \"coefficient_down\":\"{COEF_DOWN}\", \"coefficient\":\"{COEF_UP}\", \"target_claim\":\"{TARGET_CLAIM}\"}}' \\\n",
    "               && cyber tx wasm instantiate {GIFT_CODE_ID} \"$INIT\" --from $WALLET --amount {INITIAL_BALANCE}boot --label \"cybergift test\" -y --gas 3500000 --broadcast-mode block -o json --chain-id={NETWORK} --node={NODE_URL}''')\n",
    "    if init_error:\n",
    "        print(init_error)\n",
    "    init_json = json.loads(init_output)\n",
    "    gift_contract_address = \\\n",
    "        [event['attributes'][0]['value'] for event in init_json['logs'][0]['events'] if event['type'] == 'instantiate'][0]\n",
    "else:\n",
    "    gift_contract_address = GIFT_CONTRACT_ADDRESS\n",
    "print(f'Gift contract address: {gift_contract_address}')"
   ],
   "metadata": {
    "collapsed": false,
    "pycharm": {
     "name": "#%%\n"
    }
   }
  },
  {
   "cell_type": "code",
   "execution_count": 26,
   "outputs": [],
   "source": [
    "def get_contract_name(contract_address: str) -> str:\n",
    "    if contract_address == gift_contract_address:\n",
    "        return 'Gift Contract'\n",
    "    elif contract_address == passport_contract_address:\n",
    "        return 'Passport Contract'\n",
    "    elif contract_address == os.getenv('WALLET_ADDRESS'):\n",
    "        return 'Wallet'\n",
    "    else:\n",
    "        return contract_address\n",
    "\n",
    "\n",
    "def parse_contract_execution_json(contract_execution_json: str) -> None:\n",
    "    for log_item in json.loads(contract_execution_json)['logs']:\n",
    "        for event_item in log_item['events']:\n",
    "            print('')\n",
    "            if event_item['type'] == 'message':\n",
    "                if len(event_item[\"attributes\"]) == 3:\n",
    "                    print(f'message from {get_contract_name(event_item[\"attributes\"][-1][\"value\"])} {event_item[\"attributes\"][1][\"value\"]} {event_item[\"attributes\"][0][\"value\"]}')\n",
    "                else:\n",
    "                    print(event_item)\n",
    "            elif event_item['type'] == 'execute':\n",
    "                if len(event_item[\"attributes\"]) == 1:\n",
    "                    print(f'execute contract: {get_contract_name(event_item[\"attributes\"][0][\"value\"])}')\n",
    "                else:\n",
    "                    print(event_item)\n",
    "            elif event_item['type'] == 'cyberlink':\n",
    "                print('cyberlinks')\n",
    "                for i in range(len(event_item['attributes'])//2):\n",
    "                    print(f'\\t{event_item[\"attributes\"][i * 2][\"value\"]} -> {event_item[\"attributes\"][i * 2 + 1][\"value\"]}')\n",
    "                print(f'\\tneuron: {get_contract_name(event_item[\"attributes\"][-1][\"value\"])}')\n",
    "            elif event_item['type'] == 'coin_received':\n",
    "                print('coin_received')\n",
    "                for attr_item in event_item[\"attributes\"]:\n",
    "                    print(f'\\t{attr_item[\"key\"]}: {get_contract_name(attr_item[\"value\"])}')\n",
    "            elif event_item['type'] == 'coin_spent':\n",
    "                print('coin_spent')\n",
    "                for attr_item in event_item[\"attributes\"]:\n",
    "                    print(f'\\t{attr_item[\"key\"]}: {get_contract_name(attr_item[\"value\"])}')\n",
    "            elif event_item['type'] == 'wasm':\n",
    "                print('wasm')\n",
    "                for attr_item in event_item[\"attributes\"]:\n",
    "                    print(f'\\t{attr_item[\"key\"]}: {get_contract_name(attr_item[\"value\"])}')\n",
    "            elif event_item['type'] == 'transfer':\n",
    "                print('transfer')\n",
    "                for attr_item in event_item[\"attributes\"]:\n",
    "                    print(f'\\t{attr_item[\"key\"]}: {get_contract_name(attr_item[\"value\"])}')\n",
    "            else:\n",
    "                print(event_item)"
   ],
   "metadata": {
    "collapsed": false,
    "pycharm": {
     "name": "#%%\n"
    }
   }
  },
  {
   "cell_type": "markdown",
   "source": [],
   "metadata": {
    "collapsed": false,
    "pycharm": {
     "name": "#%% md\n"
    }
   }
  },
  {
   "cell_type": "markdown",
   "source": [
    "### Create Merkle Root"
   ],
   "metadata": {
    "collapsed": false,
    "pycharm": {
     "name": "#%% md\n"
    }
   }
  },
  {
   "cell_type": "code",
   "execution_count": 6,
   "outputs": [],
   "source": [
    "root_source_list = [{'address': _item['ethereum_address'],\n",
    "                     'amount': str(_item['amount'])} for _item in claims_list]+ \\\n",
    "                    [{'address': _item['cosmos_address'],\n",
    "                      'amount': str(_item['amount'])} for _item in claims_list]\n",
    "\n",
    "with open(ROOT_SOURCE_FILE_NAME, 'w') as outfile:\n",
    "    outfile.write(str(root_source_list).replace(\"'\", '\"'))"
   ],
   "metadata": {
    "collapsed": false,
    "pycharm": {
     "name": "#%%\n"
    }
   }
  },
  {
   "cell_type": "code",
   "execution_count": 7,
   "outputs": [
    {
     "name": "stdout",
     "output_type": "stream",
     "text": [
      "Merkle root: cec353c5df0b490ab2679ce623deda7205e73280f54a8aaf90e840ba22b1b1c8\n"
     ]
    }
   ],
   "source": [
    "execute_bash(f'rm {ROOT_FILE_NAME}')\n",
    "root_output, root_error = execute_bash(\n",
    "    f'merkle-airdrop-cli generateRoot --file {ROOT_SOURCE_FILE_NAME} >> {ROOT_FILE_NAME} && cat {ROOT_FILE_NAME}')\n",
    "root = root_output.replace('\\n', '')\n",
    "print(f'Merkle root: {root}')"
   ],
   "metadata": {
    "collapsed": false,
    "pycharm": {
     "name": "#%%\n"
    }
   }
  },
  {
   "cell_type": "code",
   "execution_count": 8,
   "outputs": [],
   "source": [
    "root_register_output, root_register_error = \\\n",
    "    execute_bash(\n",
    "        f'''REGISTER='{{\"register_merkle_root\":{{\"merkle_root\":\"{root}\"}}}}' \\\n",
    "            && CONTRACT=\"{gift_contract_address}\" \\\n",
    "            && cyber tx wasm execute $CONTRACT \"$REGISTER\" --from $WALLET --broadcast-mode block -y --chain-id={NETWORK} --node={NODE_URL}''')"
   ],
   "metadata": {
    "collapsed": false,
    "pycharm": {
     "name": "#%%\n"
    }
   }
  },
  {
   "cell_type": "markdown",
   "source": [
    "#### Get Merkle Root form the Gift Contract"
   ],
   "metadata": {
    "collapsed": false,
    "pycharm": {
     "name": "#%% md\n"
    }
   },
   "execution_count": 156
  },
  {
   "cell_type": "code",
   "execution_count": 9,
   "outputs": [
    {
     "name": "stdout",
     "output_type": "stream",
     "text": [
      "data:\n",
      "  merkle_root: cec353c5df0b490ab2679ce623deda7205e73280f54a8aaf90e840ba22b1b1c8\n",
      "\n"
     ]
    }
   ],
   "source": [
    "print(\n",
    "    execute_bash(\n",
    "        f'''QUERY='{{\"merkle_root\": {{}}}}' \\\n",
    "            && cyber query wasm contract-state smart {gift_contract_address} \"$QUERY\" --chain-id={NETWORK} --node={NODE_URL}''')[0]\n",
    ")"
   ],
   "metadata": {
    "collapsed": false,
    "pycharm": {
     "name": "#%%\n"
    }
   }
  },
  {
   "cell_type": "markdown",
   "source": [
    "### Create Passports"
   ],
   "metadata": {
    "collapsed": false,
    "pycharm": {
     "name": "#%% md\n"
    }
   }
  },
  {
   "cell_type": "code",
   "execution_count": 10,
   "outputs": [
    {
     "data": {
      "text/plain": "0it [00:00, ?it/s]",
      "application/vnd.jupyter.widget-view+json": {
       "version_major": 2,
       "version_minor": 0,
       "model_id": "e03630b3a83a42fdb5df85519fdb03b8"
      }
     },
     "metadata": {},
     "output_type": "display_data"
    },
    {
     "name": "stdout",
     "output_type": "stream",
     "text": [
      "REGISTER='{\"create_passport\":{\"avatar\":\"QmeubEhpA6e8bV8P2Q9fmpcQrkVNcSHYFszcunconYm58v\", \"nickname\":\"john16445669770\"}}'                     && CONTRACT=\"bostrom1ttftq90jgl6cms2y0awsatx8rnf99m2u2l6cmdtd427yg6g3myvqgsm4nu\"                     && cyber tx wasm execute $CONTRACT \"$REGISTER\" --from $WALLET -o json --broadcast-mode block -y --gas=400000 --chain-id=space-pussy-1 --node=https://rpc.space-pussy-1.cybernode.ai:443\n",
      "{\n",
      "    \"code\": 0,\n",
      "    \"codespace\": \"\",\n",
      "    \"data\": \"0A260A242F636F736D7761736D2E7761736D2E76312E4D736745786563757465436F6E7472616374\",\n",
      "    \"gas_used\": \"237661\",\n",
      "    \"gas_wanted\": \"400000\",\n",
      "    \"height\": \"1224329\",\n",
      "    \"info\": \"\",\n",
      "    \"logs\": [\n",
      "        {\n",
      "            \"events\": [\n",
      "                {\n",
      "                    \"attributes\": [\n",
      "                        {\n",
      "                            \"key\": \"particleFrom\",\n",
      "                            \"value\": \"QmNbQbcUooRXS5gepU1M78qGUKE25x7aJfo6GKTEWn9amf\"\n",
      "                        },\n",
      "                        {\n",
      "                            \"key\": \"particleTo\",\n",
      "                            \"value\": \"QmeT4VmXf4nP2i5UJ9K54HbGr5ZTH3rZnW7bwtmuNrsqkX\"\n",
      "                        },\n",
      "                        {\n",
      "                            \"key\": \"particleFrom\",\n",
      "                            \"value\": \"QmNbQbcUooRXS5gepU1M78qGUKE25x7aJfo6GKTEWn9amf\"\n",
      "                        },\n",
      "                        {\n",
      "                            \"key\": \"particleTo\",\n",
      "                            \"value\": \"QmeubEhpA6e8bV8P2Q9fmpcQrkVNcSHYFszcunconYm58v\"\n",
      "                        },\n",
      "                        {\n",
      "                            \"key\": \"particleFrom\",\n",
      "                            \"value\": \"QmeT4VmXf4nP2i5UJ9K54HbGr5ZTH3rZnW7bwtmuNrsqkX\"\n",
      "                        },\n",
      "                        {\n",
      "                            \"key\": \"particleTo\",\n",
      "                            \"value\": \"QmNbQbcUooRXS5gepU1M78qGUKE25x7aJfo6GKTEWn9amf\"\n",
      "                        },\n",
      "                        {\n",
      "                            \"key\": \"particleFrom\",\n",
      "                            \"value\": \"QmeubEhpA6e8bV8P2Q9fmpcQrkVNcSHYFszcunconYm58v\"\n",
      "                        },\n",
      "                        {\n",
      "                            \"key\": \"particleTo\",\n",
      "                            \"value\": \"QmNbQbcUooRXS5gepU1M78qGUKE25x7aJfo6GKTEWn9amf\"\n",
      "                        },\n",
      "                        {\n",
      "                            \"key\": \"neuron\",\n",
      "                            \"value\": \"bostrom1ttftq90jgl6cms2y0awsatx8rnf99m2u2l6cmdtd427yg6g3myvqgsm4nu\"\n",
      "                        }\n",
      "                    ],\n",
      "                    \"type\": \"cyberlink\"\n",
      "                },\n",
      "                {\n",
      "                    \"attributes\": [\n",
      "                        {\n",
      "                            \"key\": \"_contract_address\",\n",
      "                            \"value\": \"bostrom1ttftq90jgl6cms2y0awsatx8rnf99m2u2l6cmdtd427yg6g3myvqgsm4nu\"\n",
      "                        }\n",
      "                    ],\n",
      "                    \"type\": \"execute\"\n",
      "                },\n",
      "                {\n",
      "                    \"attributes\": [\n",
      "                        {\n",
      "                            \"key\": \"action\",\n",
      "                            \"value\": \"/cosmwasm.wasm.v1.MsgExecuteContract\"\n",
      "                        },\n",
      "                        {\n",
      "                            \"key\": \"module\",\n",
      "                            \"value\": \"wasm\"\n",
      "                        },\n",
      "                        {\n",
      "                            \"key\": \"sender\",\n",
      "                            \"value\": \"bostrom135ca8hdpy9sk0ntwqzpzsvatyl48ptx5j359lz\"\n",
      "                        }\n",
      "                    ],\n",
      "                    \"type\": \"message\"\n",
      "                },\n",
      "                {\n",
      "                    \"attributes\": [\n",
      "                        {\n",
      "                            \"key\": \"_contract_address\",\n",
      "                            \"value\": \"bostrom1ttftq90jgl6cms2y0awsatx8rnf99m2u2l6cmdtd427yg6g3myvqgsm4nu\"\n",
      "                        },\n",
      "                        {\n",
      "                            \"key\": \"action\",\n",
      "                            \"value\": \"mint\"\n",
      "                        },\n",
      "                        {\n",
      "                            \"key\": \"minter\",\n",
      "                            \"value\": \"bostrom1ttftq90jgl6cms2y0awsatx8rnf99m2u2l6cmdtd427yg6g3myvqgsm4nu\"\n",
      "                        },\n",
      "                        {\n",
      "                            \"key\": \"token_id\",\n",
      "                            \"value\": \"11\"\n",
      "                        }\n",
      "                    ],\n",
      "                    \"type\": \"wasm\"\n",
      "                }\n",
      "            ],\n",
      "            \"log\": \"\",\n",
      "            \"msg_index\": 0\n",
      "        }\n",
      "    ],\n",
      "    \"raw_log\": \"[{\\\"events\\\":[{\\\"type\\\":\\\"cyberlink\\\",\\\"attributes\\\":[{\\\"key\\\":\\\"particleFrom\\\",\\\"value\\\":\\\"QmNbQbcUooRXS5gepU1M78qGUKE25x7aJfo6GKTEWn9amf\\\"},{\\\"key\\\":\\\"particleTo\\\",\\\"value\\\":\\\"QmeT4VmXf4nP2i5UJ9K54HbGr5ZTH3rZnW7bwtmuNrsqkX\\\"},{\\\"key\\\":\\\"particleFrom\\\",\\\"value\\\":\\\"QmNbQbcUooRXS5gepU1M78qGUKE25x7aJfo6GKTEWn9amf\\\"},{\\\"key\\\":\\\"particleTo\\\",\\\"value\\\":\\\"QmeubEhpA6e8bV8P2Q9fmpcQrkVNcSHYFszcunconYm58v\\\"},{\\\"key\\\":\\\"particleFrom\\\",\\\"value\\\":\\\"QmeT4VmXf4nP2i5UJ9K54HbGr5ZTH3rZnW7bwtmuNrsqkX\\\"},{\\\"key\\\":\\\"particleTo\\\",\\\"value\\\":\\\"QmNbQbcUooRXS5gepU1M78qGUKE25x7aJfo6GKTEWn9amf\\\"},{\\\"key\\\":\\\"particleFrom\\\",\\\"value\\\":\\\"QmeubEhpA6e8bV8P2Q9fmpcQrkVNcSHYFszcunconYm58v\\\"},{\\\"key\\\":\\\"particleTo\\\",\\\"value\\\":\\\"QmNbQbcUooRXS5gepU1M78qGUKE25x7aJfo6GKTEWn9amf\\\"},{\\\"key\\\":\\\"neuron\\\",\\\"value\\\":\\\"bostrom1ttftq90jgl6cms2y0awsatx8rnf99m2u2l6cmdtd427yg6g3myvqgsm4nu\\\"}]},{\\\"type\\\":\\\"execute\\\",\\\"attributes\\\":[{\\\"key\\\":\\\"_contract_address\\\",\\\"value\\\":\\\"bostrom1ttftq90jgl6cms2y0awsatx8rnf99m2u2l6cmdtd427yg6g3myvqgsm4nu\\\"}]},{\\\"type\\\":\\\"message\\\",\\\"attributes\\\":[{\\\"key\\\":\\\"action\\\",\\\"value\\\":\\\"/cosmwasm.wasm.v1.MsgExecuteContract\\\"},{\\\"key\\\":\\\"module\\\",\\\"value\\\":\\\"wasm\\\"},{\\\"key\\\":\\\"sender\\\",\\\"value\\\":\\\"bostrom135ca8hdpy9sk0ntwqzpzsvatyl48ptx5j359lz\\\"}]},{\\\"type\\\":\\\"wasm\\\",\\\"attributes\\\":[{\\\"key\\\":\\\"_contract_address\\\",\\\"value\\\":\\\"bostrom1ttftq90jgl6cms2y0awsatx8rnf99m2u2l6cmdtd427yg6g3myvqgsm4nu\\\"},{\\\"key\\\":\\\"action\\\",\\\"value\\\":\\\"mint\\\"},{\\\"key\\\":\\\"minter\\\",\\\"value\\\":\\\"bostrom1ttftq90jgl6cms2y0awsatx8rnf99m2u2l6cmdtd427yg6g3myvqgsm4nu\\\"},{\\\"key\\\":\\\"token_id\\\",\\\"value\\\":\\\"11\\\"}]}]}]\",\n",
      "    \"timestamp\": \"\",\n",
      "    \"tx\": null,\n",
      "    \"txhash\": \"9F8DBAE2338C4594A11B5A71CBEAC2DDFA7BE9EB0D782C7BF0CC397E1665B1FD\"\n",
      "}\n"
     ]
    }
   ],
   "source": [
    "def create_passport(claim_row: pd.Series, display_data: bool = False):\n",
    "    return execute_bash(\n",
    "                f'''REGISTER='{{\"create_passport\":{{\"avatar\":\"{claim_row[\"avatar\"]}\", \"nickname\":\"{claim_row[\"nickname\"]}\"}}}}' \\\n",
    "                    && CONTRACT=\"{passport_contract_address}\" \\\n",
    "                    && cyber tx wasm execute $CONTRACT \"$REGISTER\" --from $WALLET -o json --broadcast-mode block -y --gas=400000 --chain-id={NETWORK} --node={NODE_URL}''',\n",
    "                display_data=display_data)\n",
    "\n",
    "for index, row in tqdm(claims_df.iterrows()):\n",
    "    if index == 0:\n",
    "        create_passport_json, _ = create_passport(row, display_data=True)\n",
    "    else:\n",
    "        create_passport(row)"
   ],
   "metadata": {
    "collapsed": false,
    "pycharm": {
     "name": "#%%\n"
    }
   }
  },
  {
   "cell_type": "code",
   "execution_count": 27,
   "outputs": [
    {
     "name": "stdout",
     "output_type": "stream",
     "text": [
      "\n",
      "cyberlinks\n",
      "\tQmNbQbcUooRXS5gepU1M78qGUKE25x7aJfo6GKTEWn9amf -> QmeT4VmXf4nP2i5UJ9K54HbGr5ZTH3rZnW7bwtmuNrsqkX\n",
      "\tQmNbQbcUooRXS5gepU1M78qGUKE25x7aJfo6GKTEWn9amf -> QmeubEhpA6e8bV8P2Q9fmpcQrkVNcSHYFszcunconYm58v\n",
      "\tQmeT4VmXf4nP2i5UJ9K54HbGr5ZTH3rZnW7bwtmuNrsqkX -> QmNbQbcUooRXS5gepU1M78qGUKE25x7aJfo6GKTEWn9amf\n",
      "\tQmeubEhpA6e8bV8P2Q9fmpcQrkVNcSHYFszcunconYm58v -> QmNbQbcUooRXS5gepU1M78qGUKE25x7aJfo6GKTEWn9amf\n",
      "\tneuron: Passport Contract\n",
      "\n",
      "execute contract: Passport Contract\n",
      "\n",
      "message from Wallet wasm /cosmwasm.wasm.v1.MsgExecuteContract\n",
      "\n",
      "wasm\n",
      "\t_contract_address: Passport Contract\n",
      "\taction: mint\n",
      "\tminter: Passport Contract\n",
      "\ttoken_id: 11\n"
     ]
    }
   ],
   "source": [
    "parse_contract_execution_json(create_passport_json)"
   ],
   "metadata": {
    "collapsed": false,
    "pycharm": {
     "name": "#%%\n"
    }
   }
  },
  {
   "cell_type": "markdown",
   "source": [
    "### Proof (Add) Address to Passports"
   ],
   "metadata": {
    "collapsed": false,
    "pycharm": {
     "name": "#%% md\n"
    }
   }
  },
  {
   "cell_type": "code",
   "execution_count": 12,
   "outputs": [
    {
     "data": {
      "text/plain": "0it [00:00, ?it/s]",
      "application/vnd.jupyter.widget-view+json": {
       "version_major": 2,
       "version_minor": 0,
       "model_id": "91cc53b2e0754ccb9e032c03b38d4c46"
      }
     },
     "metadata": {},
     "output_type": "display_data"
    },
    {
     "name": "stdout",
     "output_type": "stream",
     "text": [
      "REGISTER='{\"proof_address\":{\"nickname\":\"john16445669770\", \"address\":\"cosmos1t6hlkgpkwgx4qx2qjctd6hnzj6emn77zrdlcch\", \"signature\":\"eyJwdWJfa2V5IjoiQWlXb1NTQ1BhcFZsNW9iL0xIamxRelFrdytrU0xUSGJjdVR2emp5TStTVUsiLCJzaWduYXR1cmUiOiJJZUt0WmRLSE1uKy9uV0V5YkVLWjBTbS8yL0x0YVIzNGFaQzY2emZ1Q1hBTW5mN1pYV2hXUlgzYWNEbkNFVk1jVEZYVUQ2Z2NqdnNZdndCeG95NFN5QT09In0=\"}}'                 && CONTRACT=\"bostrom1ttftq90jgl6cms2y0awsatx8rnf99m2u2l6cmdtd427yg6g3myvqgsm4nu\"                 && cyber tx wasm execute $CONTRACT \"$REGISTER\" --from $WALLET -o json --broadcast-mode block -y --gas=400000 --chain-id=space-pussy-1 --node=https://rpc.space-pussy-1.cybernode.ai:443\n",
      "{\n",
      "    \"code\": 0,\n",
      "    \"codespace\": \"\",\n",
      "    \"data\": \"0A260A242F636F736D7761736D2E7761736D2E76312E4D736745786563757465436F6E7472616374\",\n",
      "    \"gas_used\": \"206533\",\n",
      "    \"gas_wanted\": \"400000\",\n",
      "    \"height\": \"1224332\",\n",
      "    \"info\": \"\",\n",
      "    \"logs\": [\n",
      "        {\n",
      "            \"events\": [\n",
      "                {\n",
      "                    \"attributes\": [\n",
      "                        {\n",
      "                            \"key\": \"particleFrom\",\n",
      "                            \"value\": \"QmNbQbcUooRXS5gepU1M78qGUKE25x7aJfo6GKTEWn9amf\"\n",
      "                        },\n",
      "                        {\n",
      "                            \"key\": \"particleTo\",\n",
      "                            \"value\": \"QmW3UBwP6ZvfqcZ787RuioE5fWWXm9mqKapK1Z7gchjT1T\"\n",
      "                        },\n",
      "                        {\n",
      "                            \"key\": \"particleFrom\",\n",
      "                            \"value\": \"QmW3UBwP6ZvfqcZ787RuioE5fWWXm9mqKapK1Z7gchjT1T\"\n",
      "                        },\n",
      "                        {\n",
      "                            \"key\": \"particleTo\",\n",
      "                            \"value\": \"QmNbQbcUooRXS5gepU1M78qGUKE25x7aJfo6GKTEWn9amf\"\n",
      "                        },\n",
      "                        {\n",
      "                            \"key\": \"neuron\",\n",
      "                            \"value\": \"bostrom1ttftq90jgl6cms2y0awsatx8rnf99m2u2l6cmdtd427yg6g3myvqgsm4nu\"\n",
      "                        }\n",
      "                    ],\n",
      "                    \"type\": \"cyberlink\"\n",
      "                },\n",
      "                {\n",
      "                    \"attributes\": [\n",
      "                        {\n",
      "                            \"key\": \"_contract_address\",\n",
      "                            \"value\": \"bostrom1ttftq90jgl6cms2y0awsatx8rnf99m2u2l6cmdtd427yg6g3myvqgsm4nu\"\n",
      "                        }\n",
      "                    ],\n",
      "                    \"type\": \"execute\"\n",
      "                },\n",
      "                {\n",
      "                    \"attributes\": [\n",
      "                        {\n",
      "                            \"key\": \"action\",\n",
      "                            \"value\": \"/cosmwasm.wasm.v1.MsgExecuteContract\"\n",
      "                        },\n",
      "                        {\n",
      "                            \"key\": \"module\",\n",
      "                            \"value\": \"wasm\"\n",
      "                        },\n",
      "                        {\n",
      "                            \"key\": \"sender\",\n",
      "                            \"value\": \"bostrom135ca8hdpy9sk0ntwqzpzsvatyl48ptx5j359lz\"\n",
      "                        }\n",
      "                    ],\n",
      "                    \"type\": \"message\"\n",
      "                },\n",
      "                {\n",
      "                    \"attributes\": [\n",
      "                        {\n",
      "                            \"key\": \"_contract_address\",\n",
      "                            \"value\": \"bostrom1ttftq90jgl6cms2y0awsatx8rnf99m2u2l6cmdtd427yg6g3myvqgsm4nu\"\n",
      "                        },\n",
      "                        {\n",
      "                            \"key\": \"action\",\n",
      "                            \"value\": \"proof_address\"\n",
      "                        },\n",
      "                        {\n",
      "                            \"key\": \"nickname\",\n",
      "                            \"value\": \"john16445669770\"\n",
      "                        },\n",
      "                        {\n",
      "                            \"key\": \"address\",\n",
      "                            \"value\": \"cosmos1t6hlkgpkwgx4qx2qjctd6hnzj6emn77zrdlcch\"\n",
      "                        }\n",
      "                    ],\n",
      "                    \"type\": \"wasm\"\n",
      "                }\n",
      "            ],\n",
      "            \"log\": \"\",\n",
      "            \"msg_index\": 0\n",
      "        }\n",
      "    ],\n",
      "    \"raw_log\": \"[{\\\"events\\\":[{\\\"type\\\":\\\"cyberlink\\\",\\\"attributes\\\":[{\\\"key\\\":\\\"particleFrom\\\",\\\"value\\\":\\\"QmNbQbcUooRXS5gepU1M78qGUKE25x7aJfo6GKTEWn9amf\\\"},{\\\"key\\\":\\\"particleTo\\\",\\\"value\\\":\\\"QmW3UBwP6ZvfqcZ787RuioE5fWWXm9mqKapK1Z7gchjT1T\\\"},{\\\"key\\\":\\\"particleFrom\\\",\\\"value\\\":\\\"QmW3UBwP6ZvfqcZ787RuioE5fWWXm9mqKapK1Z7gchjT1T\\\"},{\\\"key\\\":\\\"particleTo\\\",\\\"value\\\":\\\"QmNbQbcUooRXS5gepU1M78qGUKE25x7aJfo6GKTEWn9amf\\\"},{\\\"key\\\":\\\"neuron\\\",\\\"value\\\":\\\"bostrom1ttftq90jgl6cms2y0awsatx8rnf99m2u2l6cmdtd427yg6g3myvqgsm4nu\\\"}]},{\\\"type\\\":\\\"execute\\\",\\\"attributes\\\":[{\\\"key\\\":\\\"_contract_address\\\",\\\"value\\\":\\\"bostrom1ttftq90jgl6cms2y0awsatx8rnf99m2u2l6cmdtd427yg6g3myvqgsm4nu\\\"}]},{\\\"type\\\":\\\"message\\\",\\\"attributes\\\":[{\\\"key\\\":\\\"action\\\",\\\"value\\\":\\\"/cosmwasm.wasm.v1.MsgExecuteContract\\\"},{\\\"key\\\":\\\"module\\\",\\\"value\\\":\\\"wasm\\\"},{\\\"key\\\":\\\"sender\\\",\\\"value\\\":\\\"bostrom135ca8hdpy9sk0ntwqzpzsvatyl48ptx5j359lz\\\"}]},{\\\"type\\\":\\\"wasm\\\",\\\"attributes\\\":[{\\\"key\\\":\\\"_contract_address\\\",\\\"value\\\":\\\"bostrom1ttftq90jgl6cms2y0awsatx8rnf99m2u2l6cmdtd427yg6g3myvqgsm4nu\\\"},{\\\"key\\\":\\\"action\\\",\\\"value\\\":\\\"proof_address\\\"},{\\\"key\\\":\\\"nickname\\\",\\\"value\\\":\\\"john16445669770\\\"},{\\\"key\\\":\\\"address\\\",\\\"value\\\":\\\"cosmos1t6hlkgpkwgx4qx2qjctd6hnzj6emn77zrdlcch\\\"}]}]}]\",\n",
      "    \"timestamp\": \"\",\n",
      "    \"tx\": null,\n",
      "    \"txhash\": \"43A6ED5B08EAC2D508376660D8F2BF8E58F642271FC7E2B91B1A85ACD4CBDD78\"\n",
      "}\n",
      "REGISTER='{\"proof_address\":{\"nickname\":\"john16445669771\", \"address\":\"0x42931499d6d14a05fb312808123a564e30a66a0c\", \"signature\":\"0xc37be3a26e4add0a57fde48d3ba130a126e1195350f03354b4f989960eb3e3196f272979d3da106b731fa38e3a12572ecae121fdc3899ecf846819d04b94b0b51b\"}}'                 && CONTRACT=\"bostrom1ttftq90jgl6cms2y0awsatx8rnf99m2u2l6cmdtd427yg6g3myvqgsm4nu\"                 && cyber tx wasm execute $CONTRACT \"$REGISTER\" --from $WALLET -o json --broadcast-mode block -y --gas=400000 --chain-id=space-pussy-1 --node=https://rpc.space-pussy-1.cybernode.ai:443\n",
      "{\n",
      "    \"code\": 0,\n",
      "    \"codespace\": \"\",\n",
      "    \"data\": \"0A260A242F636F736D7761736D2E7761736D2E76312E4D736745786563757465436F6E7472616374\",\n",
      "    \"gas_used\": \"204108\",\n",
      "    \"gas_wanted\": \"400000\",\n",
      "    \"height\": \"1224333\",\n",
      "    \"info\": \"\",\n",
      "    \"logs\": [\n",
      "        {\n",
      "            \"events\": [\n",
      "                {\n",
      "                    \"attributes\": [\n",
      "                        {\n",
      "                            \"key\": \"particleFrom\",\n",
      "                            \"value\": \"QmNbQbcUooRXS5gepU1M78qGUKE25x7aJfo6GKTEWn9amf\"\n",
      "                        },\n",
      "                        {\n",
      "                            \"key\": \"particleTo\",\n",
      "                            \"value\": \"QmPbwkom19D6txb69sfz2x4UznTYnJ8jKxqFhwUPnXeMri\"\n",
      "                        },\n",
      "                        {\n",
      "                            \"key\": \"particleFrom\",\n",
      "                            \"value\": \"QmPbwkom19D6txb69sfz2x4UznTYnJ8jKxqFhwUPnXeMri\"\n",
      "                        },\n",
      "                        {\n",
      "                            \"key\": \"particleTo\",\n",
      "                            \"value\": \"QmNbQbcUooRXS5gepU1M78qGUKE25x7aJfo6GKTEWn9amf\"\n",
      "                        },\n",
      "                        {\n",
      "                            \"key\": \"neuron\",\n",
      "                            \"value\": \"bostrom1ttftq90jgl6cms2y0awsatx8rnf99m2u2l6cmdtd427yg6g3myvqgsm4nu\"\n",
      "                        }\n",
      "                    ],\n",
      "                    \"type\": \"cyberlink\"\n",
      "                },\n",
      "                {\n",
      "                    \"attributes\": [\n",
      "                        {\n",
      "                            \"key\": \"_contract_address\",\n",
      "                            \"value\": \"bostrom1ttftq90jgl6cms2y0awsatx8rnf99m2u2l6cmdtd427yg6g3myvqgsm4nu\"\n",
      "                        }\n",
      "                    ],\n",
      "                    \"type\": \"execute\"\n",
      "                },\n",
      "                {\n",
      "                    \"attributes\": [\n",
      "                        {\n",
      "                            \"key\": \"action\",\n",
      "                            \"value\": \"/cosmwasm.wasm.v1.MsgExecuteContract\"\n",
      "                        },\n",
      "                        {\n",
      "                            \"key\": \"module\",\n",
      "                            \"value\": \"wasm\"\n",
      "                        },\n",
      "                        {\n",
      "                            \"key\": \"sender\",\n",
      "                            \"value\": \"bostrom135ca8hdpy9sk0ntwqzpzsvatyl48ptx5j359lz\"\n",
      "                        }\n",
      "                    ],\n",
      "                    \"type\": \"message\"\n",
      "                },\n",
      "                {\n",
      "                    \"attributes\": [\n",
      "                        {\n",
      "                            \"key\": \"_contract_address\",\n",
      "                            \"value\": \"bostrom1ttftq90jgl6cms2y0awsatx8rnf99m2u2l6cmdtd427yg6g3myvqgsm4nu\"\n",
      "                        },\n",
      "                        {\n",
      "                            \"key\": \"action\",\n",
      "                            \"value\": \"proof_address\"\n",
      "                        },\n",
      "                        {\n",
      "                            \"key\": \"nickname\",\n",
      "                            \"value\": \"john16445669771\"\n",
      "                        },\n",
      "                        {\n",
      "                            \"key\": \"address\",\n",
      "                            \"value\": \"0x42931499d6d14a05fb312808123a564e30a66a0c\"\n",
      "                        }\n",
      "                    ],\n",
      "                    \"type\": \"wasm\"\n",
      "                }\n",
      "            ],\n",
      "            \"log\": \"\",\n",
      "            \"msg_index\": 0\n",
      "        }\n",
      "    ],\n",
      "    \"raw_log\": \"[{\\\"events\\\":[{\\\"type\\\":\\\"cyberlink\\\",\\\"attributes\\\":[{\\\"key\\\":\\\"particleFrom\\\",\\\"value\\\":\\\"QmNbQbcUooRXS5gepU1M78qGUKE25x7aJfo6GKTEWn9amf\\\"},{\\\"key\\\":\\\"particleTo\\\",\\\"value\\\":\\\"QmPbwkom19D6txb69sfz2x4UznTYnJ8jKxqFhwUPnXeMri\\\"},{\\\"key\\\":\\\"particleFrom\\\",\\\"value\\\":\\\"QmPbwkom19D6txb69sfz2x4UznTYnJ8jKxqFhwUPnXeMri\\\"},{\\\"key\\\":\\\"particleTo\\\",\\\"value\\\":\\\"QmNbQbcUooRXS5gepU1M78qGUKE25x7aJfo6GKTEWn9amf\\\"},{\\\"key\\\":\\\"neuron\\\",\\\"value\\\":\\\"bostrom1ttftq90jgl6cms2y0awsatx8rnf99m2u2l6cmdtd427yg6g3myvqgsm4nu\\\"}]},{\\\"type\\\":\\\"execute\\\",\\\"attributes\\\":[{\\\"key\\\":\\\"_contract_address\\\",\\\"value\\\":\\\"bostrom1ttftq90jgl6cms2y0awsatx8rnf99m2u2l6cmdtd427yg6g3myvqgsm4nu\\\"}]},{\\\"type\\\":\\\"message\\\",\\\"attributes\\\":[{\\\"key\\\":\\\"action\\\",\\\"value\\\":\\\"/cosmwasm.wasm.v1.MsgExecuteContract\\\"},{\\\"key\\\":\\\"module\\\",\\\"value\\\":\\\"wasm\\\"},{\\\"key\\\":\\\"sender\\\",\\\"value\\\":\\\"bostrom135ca8hdpy9sk0ntwqzpzsvatyl48ptx5j359lz\\\"}]},{\\\"type\\\":\\\"wasm\\\",\\\"attributes\\\":[{\\\"key\\\":\\\"_contract_address\\\",\\\"value\\\":\\\"bostrom1ttftq90jgl6cms2y0awsatx8rnf99m2u2l6cmdtd427yg6g3myvqgsm4nu\\\"},{\\\"key\\\":\\\"action\\\",\\\"value\\\":\\\"proof_address\\\"},{\\\"key\\\":\\\"nickname\\\",\\\"value\\\":\\\"john16445669771\\\"},{\\\"key\\\":\\\"address\\\",\\\"value\\\":\\\"0x42931499d6d14a05fb312808123a564e30a66a0c\\\"}]}]}]\",\n",
      "    \"timestamp\": \"\",\n",
      "    \"tx\": null,\n",
      "    \"txhash\": \"F98E65A9189B34C22B362D1CE4A7E2BAB6BC896C1E31B1CEA938FBFCE8225A4A\"\n",
      "}\n",
      "REGISTER='{\"proof_address\":{\"nickname\":\"john16445669771\", \"address\":\"cosmos12h0p07w95x5r3xjr03999pvx8535vnem4kedjk\", \"signature\":\"eyJwdWJfa2V5IjoiQTFRZW91THFaemVYbU9pY1Q1OUFZYWpCMHlubXRlU2VzUnVNK3E3MHl5ckYiLCJzaWduYXR1cmUiOiJibzJQWGMxNmZRTW9JTUxmM0FWWGhKcWc0TGdFMWc5SVZtdUxQN2RqWnRKM0FUa0VvTzVlckxNUjZtNXYyY3ZENEU1NDd2RE9sU1M3aCtQa3pWWDhJZz09In0=\"}}'                 && CONTRACT=\"bostrom1ttftq90jgl6cms2y0awsatx8rnf99m2u2l6cmdtd427yg6g3myvqgsm4nu\"                 && cyber tx wasm execute $CONTRACT \"$REGISTER\" --from $WALLET -o json --broadcast-mode block -y --gas=400000 --chain-id=space-pussy-1 --node=https://rpc.space-pussy-1.cybernode.ai:443\n",
      "{\n",
      "    \"code\": 0,\n",
      "    \"codespace\": \"\",\n",
      "    \"data\": \"0A260A242F636F736D7761736D2E7761736D2E76312E4D736745786563757465436F6E7472616374\",\n",
      "    \"gas_used\": \"206533\",\n",
      "    \"gas_wanted\": \"400000\",\n",
      "    \"height\": \"1224334\",\n",
      "    \"info\": \"\",\n",
      "    \"logs\": [\n",
      "        {\n",
      "            \"events\": [\n",
      "                {\n",
      "                    \"attributes\": [\n",
      "                        {\n",
      "                            \"key\": \"particleFrom\",\n",
      "                            \"value\": \"QmNbQbcUooRXS5gepU1M78qGUKE25x7aJfo6GKTEWn9amf\"\n",
      "                        },\n",
      "                        {\n",
      "                            \"key\": \"particleTo\",\n",
      "                            \"value\": \"QmWJy7gCB6qp1YcsJLaY8PbodwnQvVXjGmSAedNJdEB6uR\"\n",
      "                        },\n",
      "                        {\n",
      "                            \"key\": \"particleFrom\",\n",
      "                            \"value\": \"QmWJy7gCB6qp1YcsJLaY8PbodwnQvVXjGmSAedNJdEB6uR\"\n",
      "                        },\n",
      "                        {\n",
      "                            \"key\": \"particleTo\",\n",
      "                            \"value\": \"QmNbQbcUooRXS5gepU1M78qGUKE25x7aJfo6GKTEWn9amf\"\n",
      "                        },\n",
      "                        {\n",
      "                            \"key\": \"neuron\",\n",
      "                            \"value\": \"bostrom1ttftq90jgl6cms2y0awsatx8rnf99m2u2l6cmdtd427yg6g3myvqgsm4nu\"\n",
      "                        }\n",
      "                    ],\n",
      "                    \"type\": \"cyberlink\"\n",
      "                },\n",
      "                {\n",
      "                    \"attributes\": [\n",
      "                        {\n",
      "                            \"key\": \"_contract_address\",\n",
      "                            \"value\": \"bostrom1ttftq90jgl6cms2y0awsatx8rnf99m2u2l6cmdtd427yg6g3myvqgsm4nu\"\n",
      "                        }\n",
      "                    ],\n",
      "                    \"type\": \"execute\"\n",
      "                },\n",
      "                {\n",
      "                    \"attributes\": [\n",
      "                        {\n",
      "                            \"key\": \"action\",\n",
      "                            \"value\": \"/cosmwasm.wasm.v1.MsgExecuteContract\"\n",
      "                        },\n",
      "                        {\n",
      "                            \"key\": \"module\",\n",
      "                            \"value\": \"wasm\"\n",
      "                        },\n",
      "                        {\n",
      "                            \"key\": \"sender\",\n",
      "                            \"value\": \"bostrom135ca8hdpy9sk0ntwqzpzsvatyl48ptx5j359lz\"\n",
      "                        }\n",
      "                    ],\n",
      "                    \"type\": \"message\"\n",
      "                },\n",
      "                {\n",
      "                    \"attributes\": [\n",
      "                        {\n",
      "                            \"key\": \"_contract_address\",\n",
      "                            \"value\": \"bostrom1ttftq90jgl6cms2y0awsatx8rnf99m2u2l6cmdtd427yg6g3myvqgsm4nu\"\n",
      "                        },\n",
      "                        {\n",
      "                            \"key\": \"action\",\n",
      "                            \"value\": \"proof_address\"\n",
      "                        },\n",
      "                        {\n",
      "                            \"key\": \"nickname\",\n",
      "                            \"value\": \"john16445669771\"\n",
      "                        },\n",
      "                        {\n",
      "                            \"key\": \"address\",\n",
      "                            \"value\": \"cosmos12h0p07w95x5r3xjr03999pvx8535vnem4kedjk\"\n",
      "                        }\n",
      "                    ],\n",
      "                    \"type\": \"wasm\"\n",
      "                }\n",
      "            ],\n",
      "            \"log\": \"\",\n",
      "            \"msg_index\": 0\n",
      "        }\n",
      "    ],\n",
      "    \"raw_log\": \"[{\\\"events\\\":[{\\\"type\\\":\\\"cyberlink\\\",\\\"attributes\\\":[{\\\"key\\\":\\\"particleFrom\\\",\\\"value\\\":\\\"QmNbQbcUooRXS5gepU1M78qGUKE25x7aJfo6GKTEWn9amf\\\"},{\\\"key\\\":\\\"particleTo\\\",\\\"value\\\":\\\"QmWJy7gCB6qp1YcsJLaY8PbodwnQvVXjGmSAedNJdEB6uR\\\"},{\\\"key\\\":\\\"particleFrom\\\",\\\"value\\\":\\\"QmWJy7gCB6qp1YcsJLaY8PbodwnQvVXjGmSAedNJdEB6uR\\\"},{\\\"key\\\":\\\"particleTo\\\",\\\"value\\\":\\\"QmNbQbcUooRXS5gepU1M78qGUKE25x7aJfo6GKTEWn9amf\\\"},{\\\"key\\\":\\\"neuron\\\",\\\"value\\\":\\\"bostrom1ttftq90jgl6cms2y0awsatx8rnf99m2u2l6cmdtd427yg6g3myvqgsm4nu\\\"}]},{\\\"type\\\":\\\"execute\\\",\\\"attributes\\\":[{\\\"key\\\":\\\"_contract_address\\\",\\\"value\\\":\\\"bostrom1ttftq90jgl6cms2y0awsatx8rnf99m2u2l6cmdtd427yg6g3myvqgsm4nu\\\"}]},{\\\"type\\\":\\\"message\\\",\\\"attributes\\\":[{\\\"key\\\":\\\"action\\\",\\\"value\\\":\\\"/cosmwasm.wasm.v1.MsgExecuteContract\\\"},{\\\"key\\\":\\\"module\\\",\\\"value\\\":\\\"wasm\\\"},{\\\"key\\\":\\\"sender\\\",\\\"value\\\":\\\"bostrom135ca8hdpy9sk0ntwqzpzsvatyl48ptx5j359lz\\\"}]},{\\\"type\\\":\\\"wasm\\\",\\\"attributes\\\":[{\\\"key\\\":\\\"_contract_address\\\",\\\"value\\\":\\\"bostrom1ttftq90jgl6cms2y0awsatx8rnf99m2u2l6cmdtd427yg6g3myvqgsm4nu\\\"},{\\\"key\\\":\\\"action\\\",\\\"value\\\":\\\"proof_address\\\"},{\\\"key\\\":\\\"nickname\\\",\\\"value\\\":\\\"john16445669771\\\"},{\\\"key\\\":\\\"address\\\",\\\"value\\\":\\\"cosmos12h0p07w95x5r3xjr03999pvx8535vnem4kedjk\\\"}]}]}]\",\n",
      "    \"timestamp\": \"\",\n",
      "    \"tx\": null,\n",
      "    \"txhash\": \"9C6A4995EEEE4201DA9F4137DFBC5EEEF4847A673AB8AC83E155813DD0F3AE49\"\n",
      "}\n"
     ]
    }
   ],
   "source": [
    "def proof_address(claim_row: pd.Series, network: str = 'ethereum', display_data: bool = False):\n",
    "    return execute_bash(\n",
    "            f'''REGISTER='{{\"proof_address\":{{\"nickname\":\"{claim_row[\"nickname\"]}\", \"address\":\"{claim_row[network + \"_address\"]}\", \"signature\":\"{claim_row[network + \"_message_signature\"]}\"}}}}' \\\n",
    "                && CONTRACT=\"{passport_contract_address}\" \\\n",
    "                && cyber tx wasm execute $CONTRACT \"$REGISTER\" --from $WALLET -o json --broadcast-mode block -y --gas=400000 --chain-id={NETWORK} --node={NODE_URL}''',\n",
    "            display_data=display_data)\n",
    "\n",
    "for index, row in tqdm(claims_df.iterrows()):\n",
    "    if index == 1:\n",
    "        proof_ethereum_address_json, _ = proof_address(row, display_data=True)\n",
    "        proof_cosmos_address_json, _ = proof_address(row, network='cosmos', display_data=True)\n",
    "    else:\n",
    "        proof_address(row)\n",
    "        proof_address(row, network='cosmos', display_data=True)"
   ],
   "metadata": {
    "collapsed": false,
    "pycharm": {
     "name": "#%%\n"
    }
   }
  },
  {
   "cell_type": "code",
   "execution_count": 28,
   "outputs": [
    {
     "name": "stdout",
     "output_type": "stream",
     "text": [
      "\n",
      "cyberlinks\n",
      "\tQmNbQbcUooRXS5gepU1M78qGUKE25x7aJfo6GKTEWn9amf -> QmPbwkom19D6txb69sfz2x4UznTYnJ8jKxqFhwUPnXeMri\n",
      "\tQmPbwkom19D6txb69sfz2x4UznTYnJ8jKxqFhwUPnXeMri -> QmNbQbcUooRXS5gepU1M78qGUKE25x7aJfo6GKTEWn9amf\n",
      "\tneuron: Passport Contract\n",
      "\n",
      "execute contract: Passport Contract\n",
      "\n",
      "message from Wallet wasm /cosmwasm.wasm.v1.MsgExecuteContract\n",
      "\n",
      "wasm\n",
      "\t_contract_address: Passport Contract\n",
      "\taction: proof_address\n",
      "\tnickname: john16445669771\n",
      "\taddress: 0x42931499d6d14a05fb312808123a564e30a66a0c\n"
     ]
    }
   ],
   "source": [
    "parse_contract_execution_json(proof_ethereum_address_json)"
   ],
   "metadata": {
    "collapsed": false,
    "pycharm": {
     "name": "#%%\n"
    }
   }
  },
  {
   "cell_type": "code",
   "execution_count": 29,
   "outputs": [
    {
     "name": "stdout",
     "output_type": "stream",
     "text": [
      "\n",
      "cyberlinks\n",
      "\tQmNbQbcUooRXS5gepU1M78qGUKE25x7aJfo6GKTEWn9amf -> QmWJy7gCB6qp1YcsJLaY8PbodwnQvVXjGmSAedNJdEB6uR\n",
      "\tQmWJy7gCB6qp1YcsJLaY8PbodwnQvVXjGmSAedNJdEB6uR -> QmNbQbcUooRXS5gepU1M78qGUKE25x7aJfo6GKTEWn9amf\n",
      "\tneuron: Passport Contract\n",
      "\n",
      "execute contract: Passport Contract\n",
      "\n",
      "message from Wallet wasm /cosmwasm.wasm.v1.MsgExecuteContract\n",
      "\n",
      "wasm\n",
      "\t_contract_address: Passport Contract\n",
      "\taction: proof_address\n",
      "\tnickname: john16445669771\n",
      "\taddress: cosmos12h0p07w95x5r3xjr03999pvx8535vnem4kedjk\n"
     ]
    }
   ],
   "source": [
    "parse_contract_execution_json(proof_cosmos_address_json)"
   ],
   "metadata": {
    "collapsed": false,
    "pycharm": {
     "name": "#%%\n"
    }
   }
  },
  {
   "cell_type": "markdown",
   "source": [
    "### Generate Proofs and Claim"
   ],
   "metadata": {
    "collapsed": false,
    "pycharm": {
     "name": "#%% md\n"
    }
   }
  },
  {
   "cell_type": "code",
   "execution_count": 15,
   "outputs": [
    {
     "data": {
      "text/plain": "0it [00:00, ?it/s]",
      "application/vnd.jupyter.widget-view+json": {
       "version_major": 2,
       "version_minor": 0,
       "model_id": "0f9fede9ba2145a4b04246aac54c4303"
      }
     },
     "metadata": {},
     "output_type": "display_data"
    },
    {
     "name": "stdout",
     "output_type": "stream",
     "text": [
      "merkle-airdrop-cli generateProofs --file root_testing_source_2_addresses.json --address 0x42931499d6d14a05fb312808123a564e30a66a0c --amount 1477000\n",
      "b\"[\\n  'b9bf7453f7b3442c281fd3c3ffa2aec387395682c0d16cb6800f8ca06c407e44',\\n  '8b39367c8d583dc84ff9adf8dc57424b28520bb7dfd3e2b001370c22b5d12626'\\n]\\n\"\n",
      "CLAIM='{\"claim\":{\"nickname\":\"john16445669771\", \"gift_claiming_address\":\"0x42931499d6d14a05fb312808123a564e30a66a0c\", \"gift_amount\":\"1477000\", \"proof\":[\"b9bf7453f7b3442c281fd3c3ffa2aec387395682c0d16cb6800f8ca06c407e44\",\"8b39367c8d583dc84ff9adf8dc57424b28520bb7dfd3e2b001370c22b5d12626\"]}}'                     && cyber tx wasm execute bostrom1rt2acjyhs4jfjdq56pftpu7762hy9gfl63je6fnhwrc5p5y4kmuqxg0262 \"$CLAIM\" --from $WALLET -o json --broadcast-mode block -y --gas 400000 --chain-id=space-pussy-1 --node=https://rpc.space-pussy-1.cybernode.ai:443\n",
      "{\n",
      "    \"code\": 0,\n",
      "    \"codespace\": \"\",\n",
      "    \"data\": \"0A260A242F636F736D7761736D2E7761736D2E76312E4D736745786563757465436F6E7472616374\",\n",
      "    \"gas_used\": \"308419\",\n",
      "    \"gas_wanted\": \"400000\",\n",
      "    \"height\": \"1224337\",\n",
      "    \"info\": \"\",\n",
      "    \"logs\": [\n",
      "        {\n",
      "            \"events\": [\n",
      "                {\n",
      "                    \"attributes\": [\n",
      "                        {\n",
      "                            \"key\": \"receiver\",\n",
      "                            \"value\": \"bostrom135ca8hdpy9sk0ntwqzpzsvatyl48ptx5j359lz\"\n",
      "                        },\n",
      "                        {\n",
      "                            \"key\": \"amount\",\n",
      "                            \"value\": \"100000boot\"\n",
      "                        }\n",
      "                    ],\n",
      "                    \"type\": \"coin_received\"\n",
      "                },\n",
      "                {\n",
      "                    \"attributes\": [\n",
      "                        {\n",
      "                            \"key\": \"spender\",\n",
      "                            \"value\": \"bostrom1rt2acjyhs4jfjdq56pftpu7762hy9gfl63je6fnhwrc5p5y4kmuqxg0262\"\n",
      "                        },\n",
      "                        {\n",
      "                            \"key\": \"amount\",\n",
      "                            \"value\": \"100000boot\"\n",
      "                        }\n",
      "                    ],\n",
      "                    \"type\": \"coin_spent\"\n",
      "                },\n",
      "                {\n",
      "                    \"attributes\": [\n",
      "                        {\n",
      "                            \"key\": \"_contract_address\",\n",
      "                            \"value\": \"bostrom1rt2acjyhs4jfjdq56pftpu7762hy9gfl63je6fnhwrc5p5y4kmuqxg0262\"\n",
      "                        }\n",
      "                    ],\n",
      "                    \"type\": \"execute\"\n",
      "                },\n",
      "                {\n",
      "                    \"attributes\": [\n",
      "                        {\n",
      "                            \"key\": \"action\",\n",
      "                            \"value\": \"/cosmwasm.wasm.v1.MsgExecuteContract\"\n",
      "                        },\n",
      "                        {\n",
      "                            \"key\": \"module\",\n",
      "                            \"value\": \"wasm\"\n",
      "                        },\n",
      "                        {\n",
      "                            \"key\": \"sender\",\n",
      "                            \"value\": \"bostrom135ca8hdpy9sk0ntwqzpzsvatyl48ptx5j359lz\"\n",
      "                        }\n",
      "                    ],\n",
      "                    \"type\": \"message\"\n",
      "                },\n",
      "                {\n",
      "                    \"attributes\": [\n",
      "                        {\n",
      "                            \"key\": \"recipient\",\n",
      "                            \"value\": \"bostrom135ca8hdpy9sk0ntwqzpzsvatyl48ptx5j359lz\"\n",
      "                        },\n",
      "                        {\n",
      "                            \"key\": \"sender\",\n",
      "                            \"value\": \"bostrom1rt2acjyhs4jfjdq56pftpu7762hy9gfl63je6fnhwrc5p5y4kmuqxg0262\"\n",
      "                        },\n",
      "                        {\n",
      "                            \"key\": \"amount\",\n",
      "                            \"value\": \"100000boot\"\n",
      "                        }\n",
      "                    ],\n",
      "                    \"type\": \"transfer\"\n",
      "                },\n",
      "                {\n",
      "                    \"attributes\": [\n",
      "                        {\n",
      "                            \"key\": \"_contract_address\",\n",
      "                            \"value\": \"bostrom1rt2acjyhs4jfjdq56pftpu7762hy9gfl63je6fnhwrc5p5y4kmuqxg0262\"\n",
      "                        },\n",
      "                        {\n",
      "                            \"key\": \"action\",\n",
      "                            \"value\": \"claim\"\n",
      "                        },\n",
      "                        {\n",
      "                            \"key\": \"original\",\n",
      "                            \"value\": \"0x42931499d6d14a05fb312808123a564e30a66a0c\"\n",
      "                        },\n",
      "                        {\n",
      "                            \"key\": \"target\",\n",
      "                            \"value\": \"bostrom135ca8hdpy9sk0ntwqzpzsvatyl48ptx5j359lz\"\n",
      "                        },\n",
      "                        {\n",
      "                            \"key\": \"amount\",\n",
      "                            \"value\": \"28885541\"\n",
      "                        }\n",
      "                    ],\n",
      "                    \"type\": \"wasm\"\n",
      "                }\n",
      "            ],\n",
      "            \"log\": \"\",\n",
      "            \"msg_index\": 0\n",
      "        }\n",
      "    ],\n",
      "    \"raw_log\": \"[{\\\"events\\\":[{\\\"type\\\":\\\"coin_received\\\",\\\"attributes\\\":[{\\\"key\\\":\\\"receiver\\\",\\\"value\\\":\\\"bostrom135ca8hdpy9sk0ntwqzpzsvatyl48ptx5j359lz\\\"},{\\\"key\\\":\\\"amount\\\",\\\"value\\\":\\\"100000boot\\\"}]},{\\\"type\\\":\\\"coin_spent\\\",\\\"attributes\\\":[{\\\"key\\\":\\\"spender\\\",\\\"value\\\":\\\"bostrom1rt2acjyhs4jfjdq56pftpu7762hy9gfl63je6fnhwrc5p5y4kmuqxg0262\\\"},{\\\"key\\\":\\\"amount\\\",\\\"value\\\":\\\"100000boot\\\"}]},{\\\"type\\\":\\\"execute\\\",\\\"attributes\\\":[{\\\"key\\\":\\\"_contract_address\\\",\\\"value\\\":\\\"bostrom1rt2acjyhs4jfjdq56pftpu7762hy9gfl63je6fnhwrc5p5y4kmuqxg0262\\\"}]},{\\\"type\\\":\\\"message\\\",\\\"attributes\\\":[{\\\"key\\\":\\\"action\\\",\\\"value\\\":\\\"/cosmwasm.wasm.v1.MsgExecuteContract\\\"},{\\\"key\\\":\\\"module\\\",\\\"value\\\":\\\"wasm\\\"},{\\\"key\\\":\\\"sender\\\",\\\"value\\\":\\\"bostrom135ca8hdpy9sk0ntwqzpzsvatyl48ptx5j359lz\\\"}]},{\\\"type\\\":\\\"transfer\\\",\\\"attributes\\\":[{\\\"key\\\":\\\"recipient\\\",\\\"value\\\":\\\"bostrom135ca8hdpy9sk0ntwqzpzsvatyl48ptx5j359lz\\\"},{\\\"key\\\":\\\"sender\\\",\\\"value\\\":\\\"bostrom1rt2acjyhs4jfjdq56pftpu7762hy9gfl63je6fnhwrc5p5y4kmuqxg0262\\\"},{\\\"key\\\":\\\"amount\\\",\\\"value\\\":\\\"100000boot\\\"}]},{\\\"type\\\":\\\"wasm\\\",\\\"attributes\\\":[{\\\"key\\\":\\\"_contract_address\\\",\\\"value\\\":\\\"bostrom1rt2acjyhs4jfjdq56pftpu7762hy9gfl63je6fnhwrc5p5y4kmuqxg0262\\\"},{\\\"key\\\":\\\"action\\\",\\\"value\\\":\\\"claim\\\"},{\\\"key\\\":\\\"original\\\",\\\"value\\\":\\\"0x42931499d6d14a05fb312808123a564e30a66a0c\\\"},{\\\"key\\\":\\\"target\\\",\\\"value\\\":\\\"bostrom135ca8hdpy9sk0ntwqzpzsvatyl48ptx5j359lz\\\"},{\\\"key\\\":\\\"amount\\\",\\\"value\\\":\\\"28885541\\\"}]}]}]\",\n",
      "    \"timestamp\": \"\",\n",
      "    \"tx\": null,\n",
      "    \"txhash\": \"3F3C36A7051F081F668E69C878654A731DB657A3E0EF973DB55BF9A58CA33EE6\"\n",
      "}\n",
      "merkle-airdrop-cli generateProofs --file root_testing_source_2_addresses.json --address cosmos12h0p07w95x5r3xjr03999pvx8535vnem4kedjk --amount 1477000\n",
      "b\"[\\n  '6cd0edca780f0eaa32b8def55e83445bc56381aa2a7bac2d08680a7318c1fc88',\\n  '3ffd6f13d7134caab82a3a5bade2fb3f22d6c40153d7ee1560b6a458b70f3bc1'\\n]\\n\"\n",
      "CLAIM='{\"claim\":{\"nickname\":\"john16445669771\", \"gift_claiming_address\":\"cosmos12h0p07w95x5r3xjr03999pvx8535vnem4kedjk\", \"gift_amount\":\"1477000\", \"proof\":[\"6cd0edca780f0eaa32b8def55e83445bc56381aa2a7bac2d08680a7318c1fc88\",\"3ffd6f13d7134caab82a3a5bade2fb3f22d6c40153d7ee1560b6a458b70f3bc1\"]}}'                     && cyber tx wasm execute bostrom1rt2acjyhs4jfjdq56pftpu7762hy9gfl63je6fnhwrc5p5y4kmuqxg0262 \"$CLAIM\" --from $WALLET -o json --broadcast-mode block -y --gas 400000 --chain-id=space-pussy-1 --node=https://rpc.space-pussy-1.cybernode.ai:443\n",
      "{\n",
      "    \"code\": 0,\n",
      "    \"codespace\": \"\",\n",
      "    \"data\": \"0A260A242F636F736D7761736D2E7761736D2E76312E4D736745786563757465436F6E7472616374\",\n",
      "    \"gas_used\": \"308810\",\n",
      "    \"gas_wanted\": \"400000\",\n",
      "    \"height\": \"1224338\",\n",
      "    \"info\": \"\",\n",
      "    \"logs\": [\n",
      "        {\n",
      "            \"events\": [\n",
      "                {\n",
      "                    \"attributes\": [\n",
      "                        {\n",
      "                            \"key\": \"receiver\",\n",
      "                            \"value\": \"bostrom135ca8hdpy9sk0ntwqzpzsvatyl48ptx5j359lz\"\n",
      "                        },\n",
      "                        {\n",
      "                            \"key\": \"amount\",\n",
      "                            \"value\": \"100000boot\"\n",
      "                        }\n",
      "                    ],\n",
      "                    \"type\": \"coin_received\"\n",
      "                },\n",
      "                {\n",
      "                    \"attributes\": [\n",
      "                        {\n",
      "                            \"key\": \"spender\",\n",
      "                            \"value\": \"bostrom1rt2acjyhs4jfjdq56pftpu7762hy9gfl63je6fnhwrc5p5y4kmuqxg0262\"\n",
      "                        },\n",
      "                        {\n",
      "                            \"key\": \"amount\",\n",
      "                            \"value\": \"100000boot\"\n",
      "                        }\n",
      "                    ],\n",
      "                    \"type\": \"coin_spent\"\n",
      "                },\n",
      "                {\n",
      "                    \"attributes\": [\n",
      "                        {\n",
      "                            \"key\": \"_contract_address\",\n",
      "                            \"value\": \"bostrom1rt2acjyhs4jfjdq56pftpu7762hy9gfl63je6fnhwrc5p5y4kmuqxg0262\"\n",
      "                        }\n",
      "                    ],\n",
      "                    \"type\": \"execute\"\n",
      "                },\n",
      "                {\n",
      "                    \"attributes\": [\n",
      "                        {\n",
      "                            \"key\": \"action\",\n",
      "                            \"value\": \"/cosmwasm.wasm.v1.MsgExecuteContract\"\n",
      "                        },\n",
      "                        {\n",
      "                            \"key\": \"module\",\n",
      "                            \"value\": \"wasm\"\n",
      "                        },\n",
      "                        {\n",
      "                            \"key\": \"sender\",\n",
      "                            \"value\": \"bostrom135ca8hdpy9sk0ntwqzpzsvatyl48ptx5j359lz\"\n",
      "                        }\n",
      "                    ],\n",
      "                    \"type\": \"message\"\n",
      "                },\n",
      "                {\n",
      "                    \"attributes\": [\n",
      "                        {\n",
      "                            \"key\": \"recipient\",\n",
      "                            \"value\": \"bostrom135ca8hdpy9sk0ntwqzpzsvatyl48ptx5j359lz\"\n",
      "                        },\n",
      "                        {\n",
      "                            \"key\": \"sender\",\n",
      "                            \"value\": \"bostrom1rt2acjyhs4jfjdq56pftpu7762hy9gfl63je6fnhwrc5p5y4kmuqxg0262\"\n",
      "                        },\n",
      "                        {\n",
      "                            \"key\": \"amount\",\n",
      "                            \"value\": \"100000boot\"\n",
      "                        }\n",
      "                    ],\n",
      "                    \"type\": \"transfer\"\n",
      "                },\n",
      "                {\n",
      "                    \"attributes\": [\n",
      "                        {\n",
      "                            \"key\": \"_contract_address\",\n",
      "                            \"value\": \"bostrom1rt2acjyhs4jfjdq56pftpu7762hy9gfl63je6fnhwrc5p5y4kmuqxg0262\"\n",
      "                        },\n",
      "                        {\n",
      "                            \"key\": \"action\",\n",
      "                            \"value\": \"claim\"\n",
      "                        },\n",
      "                        {\n",
      "                            \"key\": \"original\",\n",
      "                            \"value\": \"cosmos12h0p07w95x5r3xjr03999pvx8535vnem4kedjk\"\n",
      "                        },\n",
      "                        {\n",
      "                            \"key\": \"target\",\n",
      "                            \"value\": \"bostrom135ca8hdpy9sk0ntwqzpzsvatyl48ptx5j359lz\"\n",
      "                        },\n",
      "                        {\n",
      "                            \"key\": \"amount\",\n",
      "                            \"value\": \"28231082\"\n",
      "                        }\n",
      "                    ],\n",
      "                    \"type\": \"wasm\"\n",
      "                }\n",
      "            ],\n",
      "            \"log\": \"\",\n",
      "            \"msg_index\": 0\n",
      "        }\n",
      "    ],\n",
      "    \"raw_log\": \"[{\\\"events\\\":[{\\\"type\\\":\\\"coin_received\\\",\\\"attributes\\\":[{\\\"key\\\":\\\"receiver\\\",\\\"value\\\":\\\"bostrom135ca8hdpy9sk0ntwqzpzsvatyl48ptx5j359lz\\\"},{\\\"key\\\":\\\"amount\\\",\\\"value\\\":\\\"100000boot\\\"}]},{\\\"type\\\":\\\"coin_spent\\\",\\\"attributes\\\":[{\\\"key\\\":\\\"spender\\\",\\\"value\\\":\\\"bostrom1rt2acjyhs4jfjdq56pftpu7762hy9gfl63je6fnhwrc5p5y4kmuqxg0262\\\"},{\\\"key\\\":\\\"amount\\\",\\\"value\\\":\\\"100000boot\\\"}]},{\\\"type\\\":\\\"execute\\\",\\\"attributes\\\":[{\\\"key\\\":\\\"_contract_address\\\",\\\"value\\\":\\\"bostrom1rt2acjyhs4jfjdq56pftpu7762hy9gfl63je6fnhwrc5p5y4kmuqxg0262\\\"}]},{\\\"type\\\":\\\"message\\\",\\\"attributes\\\":[{\\\"key\\\":\\\"action\\\",\\\"value\\\":\\\"/cosmwasm.wasm.v1.MsgExecuteContract\\\"},{\\\"key\\\":\\\"module\\\",\\\"value\\\":\\\"wasm\\\"},{\\\"key\\\":\\\"sender\\\",\\\"value\\\":\\\"bostrom135ca8hdpy9sk0ntwqzpzsvatyl48ptx5j359lz\\\"}]},{\\\"type\\\":\\\"transfer\\\",\\\"attributes\\\":[{\\\"key\\\":\\\"recipient\\\",\\\"value\\\":\\\"bostrom135ca8hdpy9sk0ntwqzpzsvatyl48ptx5j359lz\\\"},{\\\"key\\\":\\\"sender\\\",\\\"value\\\":\\\"bostrom1rt2acjyhs4jfjdq56pftpu7762hy9gfl63je6fnhwrc5p5y4kmuqxg0262\\\"},{\\\"key\\\":\\\"amount\\\",\\\"value\\\":\\\"100000boot\\\"}]},{\\\"type\\\":\\\"wasm\\\",\\\"attributes\\\":[{\\\"key\\\":\\\"_contract_address\\\",\\\"value\\\":\\\"bostrom1rt2acjyhs4jfjdq56pftpu7762hy9gfl63je6fnhwrc5p5y4kmuqxg0262\\\"},{\\\"key\\\":\\\"action\\\",\\\"value\\\":\\\"claim\\\"},{\\\"key\\\":\\\"original\\\",\\\"value\\\":\\\"cosmos12h0p07w95x5r3xjr03999pvx8535vnem4kedjk\\\"},{\\\"key\\\":\\\"target\\\",\\\"value\\\":\\\"bostrom135ca8hdpy9sk0ntwqzpzsvatyl48ptx5j359lz\\\"},{\\\"key\\\":\\\"amount\\\",\\\"value\\\":\\\"28231082\\\"}]}]}]\",\n",
      "    \"timestamp\": \"\",\n",
      "    \"tx\": null,\n",
      "    \"txhash\": \"4CE9DC78AEA4A566A60884AF618CFAFE5FF1C3B9804354603E9C2BE2623EA574\"\n",
      "}\n"
     ]
    }
   ],
   "source": [
    "def generate_proof_and_claim(claim_row: pd.Series, network: str = 'ethereum', display_data: bool = False):\n",
    "    proof_output, _ = execute_bash(f'merkle-airdrop-cli generateProofs --file {ROOT_SOURCE_FILE_NAME} --address {claim_row[network + \"_address\"]} --amount {claim_row.amount}',\n",
    "                                   display_data=display_data)\n",
    "    proof = proof_output.replace('\\n','').replace(\" \",'').replace(\"'\", '\"')\n",
    "    return execute_bash(\n",
    "                f'''CLAIM='{{\"claim\":{{\"nickname\":\"{claim_row['nickname']}\", \"gift_claiming_address\":\"{claim_row[network + \"_address\"]}\", \"gift_amount\":\"{claim_row.amount}\", \"proof\":{proof}}}}}' \\\n",
    "                    && cyber tx wasm execute {gift_contract_address} \"$CLAIM\" --from $WALLET -o json --broadcast-mode block -y --gas 400000 --chain-id={NETWORK} --node={NODE_URL}''',\n",
    "                display_data=display_data)\n",
    "\n",
    "for index, row in tqdm(claims_df.iterrows()):\n",
    "    if index == 1:\n",
    "        claim_ethereum_json, _ = generate_proof_and_claim(row, display_data=True)\n",
    "        claim_cosmos_json, _ = generate_proof_and_claim(row, network='cosmos', display_data=True)\n",
    "    else:\n",
    "        generate_proof_and_claim(row)\n",
    "        generate_proof_and_claim(row, network='cosmos')"
   ],
   "metadata": {
    "collapsed": false,
    "pycharm": {
     "name": "#%%\n"
    }
   }
  },
  {
   "cell_type": "code",
   "execution_count": 30,
   "outputs": [
    {
     "name": "stdout",
     "output_type": "stream",
     "text": [
      "\n",
      "coin_received\n",
      "\treceiver: Wallet\n",
      "\tamount: 100000boot\n",
      "\n",
      "coin_spent\n",
      "\tspender: Gift Contract\n",
      "\tamount: 100000boot\n",
      "\n",
      "execute contract: Gift Contract\n",
      "\n",
      "message from Wallet wasm /cosmwasm.wasm.v1.MsgExecuteContract\n",
      "\n",
      "transfer\n",
      "\trecipient: Wallet\n",
      "\tsender: Gift Contract\n",
      "\tamount: 100000boot\n",
      "\n",
      "wasm\n",
      "\t_contract_address: Gift Contract\n",
      "\taction: claim\n",
      "\toriginal: 0x42931499d6d14a05fb312808123a564e30a66a0c\n",
      "\ttarget: Wallet\n",
      "\tamount: 28885541\n"
     ]
    }
   ],
   "source": [
    "parse_contract_execution_json(claim_ethereum_json)"
   ],
   "metadata": {
    "collapsed": false,
    "pycharm": {
     "name": "#%%\n"
    }
   }
  },
  {
   "cell_type": "code",
   "execution_count": 31,
   "outputs": [
    {
     "name": "stdout",
     "output_type": "stream",
     "text": [
      "\n",
      "coin_received\n",
      "\treceiver: Wallet\n",
      "\tamount: 100000boot\n",
      "\n",
      "coin_spent\n",
      "\tspender: Gift Contract\n",
      "\tamount: 100000boot\n",
      "\n",
      "execute contract: Gift Contract\n",
      "\n",
      "message from Wallet wasm /cosmwasm.wasm.v1.MsgExecuteContract\n",
      "\n",
      "transfer\n",
      "\trecipient: Wallet\n",
      "\tsender: Gift Contract\n",
      "\tamount: 100000boot\n",
      "\n",
      "wasm\n",
      "\t_contract_address: Gift Contract\n",
      "\taction: claim\n",
      "\toriginal: cosmos12h0p07w95x5r3xjr03999pvx8535vnem4kedjk\n",
      "\ttarget: Wallet\n",
      "\tamount: 28231082\n"
     ]
    }
   ],
   "source": [
    "parse_contract_execution_json(claim_cosmos_json)"
   ],
   "metadata": {
    "collapsed": false,
    "pycharm": {
     "name": "#%%\n"
    }
   }
  },
  {
   "cell_type": "markdown",
   "source": [
    "### Release Gift"
   ],
   "metadata": {
    "collapsed": false,
    "pycharm": {
     "name": "#%% md\n"
    }
   },
   "execution_count": 11
  },
  {
   "cell_type": "code",
   "execution_count": 18,
   "outputs": [
    {
     "data": {
      "text/plain": "0it [00:00, ?it/s]",
      "application/vnd.jupyter.widget-view+json": {
       "version_major": 2,
       "version_minor": 0,
       "model_id": "8de1eda2e0714816b3d244b1894c61d8"
      }
     },
     "metadata": {},
     "output_type": "display_data"
    },
    {
     "name": "stdout",
     "output_type": "stream",
     "text": [
      "CLAIM='{\"release\":{\"gift_address\":\"0x42931499d6d14a05fb312808123a564e30a66a0c\"}}'                     && cyber tx wasm execute bostrom1rt2acjyhs4jfjdq56pftpu7762hy9gfl63je6fnhwrc5p5y4kmuqxg0262 \"$CLAIM\" --from $WALLET -o json --broadcast-mode block -y --gas 400000 --chain-id=space-pussy-1 --node=https://rpc.space-pussy-1.cybernode.ai:443\n",
      "{\n",
      "    \"code\": 0,\n",
      "    \"codespace\": \"\",\n",
      "    \"data\": \"0A260A242F636F736D7761736D2E7761736D2E76312E4D736745786563757465436F6E7472616374\",\n",
      "    \"gas_used\": \"159137\",\n",
      "    \"gas_wanted\": \"400000\",\n",
      "    \"height\": \"1224341\",\n",
      "    \"info\": \"\",\n",
      "    \"logs\": [\n",
      "        {\n",
      "            \"events\": [\n",
      "                {\n",
      "                    \"attributes\": [\n",
      "                        {\n",
      "                            \"key\": \"receiver\",\n",
      "                            \"value\": \"bostrom135ca8hdpy9sk0ntwqzpzsvatyl48ptx5j359lz\"\n",
      "                        },\n",
      "                        {\n",
      "                            \"key\": \"amount\",\n",
      "                            \"value\": \"2878554boot\"\n",
      "                        }\n",
      "                    ],\n",
      "                    \"type\": \"coin_received\"\n",
      "                },\n",
      "                {\n",
      "                    \"attributes\": [\n",
      "                        {\n",
      "                            \"key\": \"spender\",\n",
      "                            \"value\": \"bostrom1rt2acjyhs4jfjdq56pftpu7762hy9gfl63je6fnhwrc5p5y4kmuqxg0262\"\n",
      "                        },\n",
      "                        {\n",
      "                            \"key\": \"amount\",\n",
      "                            \"value\": \"2878554boot\"\n",
      "                        }\n",
      "                    ],\n",
      "                    \"type\": \"coin_spent\"\n",
      "                },\n",
      "                {\n",
      "                    \"attributes\": [\n",
      "                        {\n",
      "                            \"key\": \"_contract_address\",\n",
      "                            \"value\": \"bostrom1rt2acjyhs4jfjdq56pftpu7762hy9gfl63je6fnhwrc5p5y4kmuqxg0262\"\n",
      "                        }\n",
      "                    ],\n",
      "                    \"type\": \"execute\"\n",
      "                },\n",
      "                {\n",
      "                    \"attributes\": [\n",
      "                        {\n",
      "                            \"key\": \"action\",\n",
      "                            \"value\": \"/cosmwasm.wasm.v1.MsgExecuteContract\"\n",
      "                        },\n",
      "                        {\n",
      "                            \"key\": \"module\",\n",
      "                            \"value\": \"wasm\"\n",
      "                        },\n",
      "                        {\n",
      "                            \"key\": \"sender\",\n",
      "                            \"value\": \"bostrom135ca8hdpy9sk0ntwqzpzsvatyl48ptx5j359lz\"\n",
      "                        }\n",
      "                    ],\n",
      "                    \"type\": \"message\"\n",
      "                },\n",
      "                {\n",
      "                    \"attributes\": [\n",
      "                        {\n",
      "                            \"key\": \"recipient\",\n",
      "                            \"value\": \"bostrom135ca8hdpy9sk0ntwqzpzsvatyl48ptx5j359lz\"\n",
      "                        },\n",
      "                        {\n",
      "                            \"key\": \"sender\",\n",
      "                            \"value\": \"bostrom1rt2acjyhs4jfjdq56pftpu7762hy9gfl63je6fnhwrc5p5y4kmuqxg0262\"\n",
      "                        },\n",
      "                        {\n",
      "                            \"key\": \"amount\",\n",
      "                            \"value\": \"2878554boot\"\n",
      "                        }\n",
      "                    ],\n",
      "                    \"type\": \"transfer\"\n",
      "                },\n",
      "                {\n",
      "                    \"attributes\": [\n",
      "                        {\n",
      "                            \"key\": \"_contract_address\",\n",
      "                            \"value\": \"bostrom1rt2acjyhs4jfjdq56pftpu7762hy9gfl63je6fnhwrc5p5y4kmuqxg0262\"\n",
      "                        },\n",
      "                        {\n",
      "                            \"key\": \"action\",\n",
      "                            \"value\": \"release\"\n",
      "                        },\n",
      "                        {\n",
      "                            \"key\": \"address\",\n",
      "                            \"value\": \"bostrom135ca8hdpy9sk0ntwqzpzsvatyl48ptx5j359lz\"\n",
      "                        },\n",
      "                        {\n",
      "                            \"key\": \"gift_address\",\n",
      "                            \"value\": \"0x42931499d6d14a05fb312808123a564e30a66a0c\"\n",
      "                        },\n",
      "                        {\n",
      "                            \"key\": \"stage\",\n",
      "                            \"value\": \"9\"\n",
      "                        },\n",
      "                        {\n",
      "                            \"key\": \"amount\",\n",
      "                            \"value\": \"2878554\"\n",
      "                        }\n",
      "                    ],\n",
      "                    \"type\": \"wasm\"\n",
      "                }\n",
      "            ],\n",
      "            \"log\": \"\",\n",
      "            \"msg_index\": 0\n",
      "        }\n",
      "    ],\n",
      "    \"raw_log\": \"[{\\\"events\\\":[{\\\"type\\\":\\\"coin_received\\\",\\\"attributes\\\":[{\\\"key\\\":\\\"receiver\\\",\\\"value\\\":\\\"bostrom135ca8hdpy9sk0ntwqzpzsvatyl48ptx5j359lz\\\"},{\\\"key\\\":\\\"amount\\\",\\\"value\\\":\\\"2878554boot\\\"}]},{\\\"type\\\":\\\"coin_spent\\\",\\\"attributes\\\":[{\\\"key\\\":\\\"spender\\\",\\\"value\\\":\\\"bostrom1rt2acjyhs4jfjdq56pftpu7762hy9gfl63je6fnhwrc5p5y4kmuqxg0262\\\"},{\\\"key\\\":\\\"amount\\\",\\\"value\\\":\\\"2878554boot\\\"}]},{\\\"type\\\":\\\"execute\\\",\\\"attributes\\\":[{\\\"key\\\":\\\"_contract_address\\\",\\\"value\\\":\\\"bostrom1rt2acjyhs4jfjdq56pftpu7762hy9gfl63je6fnhwrc5p5y4kmuqxg0262\\\"}]},{\\\"type\\\":\\\"message\\\",\\\"attributes\\\":[{\\\"key\\\":\\\"action\\\",\\\"value\\\":\\\"/cosmwasm.wasm.v1.MsgExecuteContract\\\"},{\\\"key\\\":\\\"module\\\",\\\"value\\\":\\\"wasm\\\"},{\\\"key\\\":\\\"sender\\\",\\\"value\\\":\\\"bostrom135ca8hdpy9sk0ntwqzpzsvatyl48ptx5j359lz\\\"}]},{\\\"type\\\":\\\"transfer\\\",\\\"attributes\\\":[{\\\"key\\\":\\\"recipient\\\",\\\"value\\\":\\\"bostrom135ca8hdpy9sk0ntwqzpzsvatyl48ptx5j359lz\\\"},{\\\"key\\\":\\\"sender\\\",\\\"value\\\":\\\"bostrom1rt2acjyhs4jfjdq56pftpu7762hy9gfl63je6fnhwrc5p5y4kmuqxg0262\\\"},{\\\"key\\\":\\\"amount\\\",\\\"value\\\":\\\"2878554boot\\\"}]},{\\\"type\\\":\\\"wasm\\\",\\\"attributes\\\":[{\\\"key\\\":\\\"_contract_address\\\",\\\"value\\\":\\\"bostrom1rt2acjyhs4jfjdq56pftpu7762hy9gfl63je6fnhwrc5p5y4kmuqxg0262\\\"},{\\\"key\\\":\\\"action\\\",\\\"value\\\":\\\"release\\\"},{\\\"key\\\":\\\"address\\\",\\\"value\\\":\\\"bostrom135ca8hdpy9sk0ntwqzpzsvatyl48ptx5j359lz\\\"},{\\\"key\\\":\\\"gift_address\\\",\\\"value\\\":\\\"0x42931499d6d14a05fb312808123a564e30a66a0c\\\"},{\\\"key\\\":\\\"stage\\\",\\\"value\\\":\\\"9\\\"},{\\\"key\\\":\\\"amount\\\",\\\"value\\\":\\\"2878554\\\"}]}]}]\",\n",
      "    \"timestamp\": \"\",\n",
      "    \"tx\": null,\n",
      "    \"txhash\": \"A1E6B341DB43CF410B32F31BC46EA6166E08D7F92CF7CC83A7F74DDC7FC48579\"\n",
      "}\n",
      "CLAIM='{\"release\":{\"gift_address\":\"cosmos12h0p07w95x5r3xjr03999pvx8535vnem4kedjk\"}}'                     && cyber tx wasm execute bostrom1rt2acjyhs4jfjdq56pftpu7762hy9gfl63je6fnhwrc5p5y4kmuqxg0262 \"$CLAIM\" --from $WALLET -o json --broadcast-mode block -y --gas 400000 --chain-id=space-pussy-1 --node=https://rpc.space-pussy-1.cybernode.ai:443\n",
      "{\n",
      "    \"code\": 0,\n",
      "    \"codespace\": \"\",\n",
      "    \"data\": \"0A260A242F636F736D7761736D2E7761736D2E76312E4D736745786563757465436F6E7472616374\",\n",
      "    \"gas_used\": \"159205\",\n",
      "    \"gas_wanted\": \"400000\",\n",
      "    \"height\": \"1224342\",\n",
      "    \"info\": \"\",\n",
      "    \"logs\": [\n",
      "        {\n",
      "            \"events\": [\n",
      "                {\n",
      "                    \"attributes\": [\n",
      "                        {\n",
      "                            \"key\": \"receiver\",\n",
      "                            \"value\": \"bostrom135ca8hdpy9sk0ntwqzpzsvatyl48ptx5j359lz\"\n",
      "                        },\n",
      "                        {\n",
      "                            \"key\": \"amount\",\n",
      "                            \"value\": \"2813108boot\"\n",
      "                        }\n",
      "                    ],\n",
      "                    \"type\": \"coin_received\"\n",
      "                },\n",
      "                {\n",
      "                    \"attributes\": [\n",
      "                        {\n",
      "                            \"key\": \"spender\",\n",
      "                            \"value\": \"bostrom1rt2acjyhs4jfjdq56pftpu7762hy9gfl63je6fnhwrc5p5y4kmuqxg0262\"\n",
      "                        },\n",
      "                        {\n",
      "                            \"key\": \"amount\",\n",
      "                            \"value\": \"2813108boot\"\n",
      "                        }\n",
      "                    ],\n",
      "                    \"type\": \"coin_spent\"\n",
      "                },\n",
      "                {\n",
      "                    \"attributes\": [\n",
      "                        {\n",
      "                            \"key\": \"_contract_address\",\n",
      "                            \"value\": \"bostrom1rt2acjyhs4jfjdq56pftpu7762hy9gfl63je6fnhwrc5p5y4kmuqxg0262\"\n",
      "                        }\n",
      "                    ],\n",
      "                    \"type\": \"execute\"\n",
      "                },\n",
      "                {\n",
      "                    \"attributes\": [\n",
      "                        {\n",
      "                            \"key\": \"action\",\n",
      "                            \"value\": \"/cosmwasm.wasm.v1.MsgExecuteContract\"\n",
      "                        },\n",
      "                        {\n",
      "                            \"key\": \"module\",\n",
      "                            \"value\": \"wasm\"\n",
      "                        },\n",
      "                        {\n",
      "                            \"key\": \"sender\",\n",
      "                            \"value\": \"bostrom135ca8hdpy9sk0ntwqzpzsvatyl48ptx5j359lz\"\n",
      "                        }\n",
      "                    ],\n",
      "                    \"type\": \"message\"\n",
      "                },\n",
      "                {\n",
      "                    \"attributes\": [\n",
      "                        {\n",
      "                            \"key\": \"recipient\",\n",
      "                            \"value\": \"bostrom135ca8hdpy9sk0ntwqzpzsvatyl48ptx5j359lz\"\n",
      "                        },\n",
      "                        {\n",
      "                            \"key\": \"sender\",\n",
      "                            \"value\": \"bostrom1rt2acjyhs4jfjdq56pftpu7762hy9gfl63je6fnhwrc5p5y4kmuqxg0262\"\n",
      "                        },\n",
      "                        {\n",
      "                            \"key\": \"amount\",\n",
      "                            \"value\": \"2813108boot\"\n",
      "                        }\n",
      "                    ],\n",
      "                    \"type\": \"transfer\"\n",
      "                },\n",
      "                {\n",
      "                    \"attributes\": [\n",
      "                        {\n",
      "                            \"key\": \"_contract_address\",\n",
      "                            \"value\": \"bostrom1rt2acjyhs4jfjdq56pftpu7762hy9gfl63je6fnhwrc5p5y4kmuqxg0262\"\n",
      "                        },\n",
      "                        {\n",
      "                            \"key\": \"action\",\n",
      "                            \"value\": \"release\"\n",
      "                        },\n",
      "                        {\n",
      "                            \"key\": \"address\",\n",
      "                            \"value\": \"bostrom135ca8hdpy9sk0ntwqzpzsvatyl48ptx5j359lz\"\n",
      "                        },\n",
      "                        {\n",
      "                            \"key\": \"gift_address\",\n",
      "                            \"value\": \"cosmos12h0p07w95x5r3xjr03999pvx8535vnem4kedjk\"\n",
      "                        },\n",
      "                        {\n",
      "                            \"key\": \"stage\",\n",
      "                            \"value\": \"9\"\n",
      "                        },\n",
      "                        {\n",
      "                            \"key\": \"amount\",\n",
      "                            \"value\": \"2813108\"\n",
      "                        }\n",
      "                    ],\n",
      "                    \"type\": \"wasm\"\n",
      "                }\n",
      "            ],\n",
      "            \"log\": \"\",\n",
      "            \"msg_index\": 0\n",
      "        }\n",
      "    ],\n",
      "    \"raw_log\": \"[{\\\"events\\\":[{\\\"type\\\":\\\"coin_received\\\",\\\"attributes\\\":[{\\\"key\\\":\\\"receiver\\\",\\\"value\\\":\\\"bostrom135ca8hdpy9sk0ntwqzpzsvatyl48ptx5j359lz\\\"},{\\\"key\\\":\\\"amount\\\",\\\"value\\\":\\\"2813108boot\\\"}]},{\\\"type\\\":\\\"coin_spent\\\",\\\"attributes\\\":[{\\\"key\\\":\\\"spender\\\",\\\"value\\\":\\\"bostrom1rt2acjyhs4jfjdq56pftpu7762hy9gfl63je6fnhwrc5p5y4kmuqxg0262\\\"},{\\\"key\\\":\\\"amount\\\",\\\"value\\\":\\\"2813108boot\\\"}]},{\\\"type\\\":\\\"execute\\\",\\\"attributes\\\":[{\\\"key\\\":\\\"_contract_address\\\",\\\"value\\\":\\\"bostrom1rt2acjyhs4jfjdq56pftpu7762hy9gfl63je6fnhwrc5p5y4kmuqxg0262\\\"}]},{\\\"type\\\":\\\"message\\\",\\\"attributes\\\":[{\\\"key\\\":\\\"action\\\",\\\"value\\\":\\\"/cosmwasm.wasm.v1.MsgExecuteContract\\\"},{\\\"key\\\":\\\"module\\\",\\\"value\\\":\\\"wasm\\\"},{\\\"key\\\":\\\"sender\\\",\\\"value\\\":\\\"bostrom135ca8hdpy9sk0ntwqzpzsvatyl48ptx5j359lz\\\"}]},{\\\"type\\\":\\\"transfer\\\",\\\"attributes\\\":[{\\\"key\\\":\\\"recipient\\\",\\\"value\\\":\\\"bostrom135ca8hdpy9sk0ntwqzpzsvatyl48ptx5j359lz\\\"},{\\\"key\\\":\\\"sender\\\",\\\"value\\\":\\\"bostrom1rt2acjyhs4jfjdq56pftpu7762hy9gfl63je6fnhwrc5p5y4kmuqxg0262\\\"},{\\\"key\\\":\\\"amount\\\",\\\"value\\\":\\\"2813108boot\\\"}]},{\\\"type\\\":\\\"wasm\\\",\\\"attributes\\\":[{\\\"key\\\":\\\"_contract_address\\\",\\\"value\\\":\\\"bostrom1rt2acjyhs4jfjdq56pftpu7762hy9gfl63je6fnhwrc5p5y4kmuqxg0262\\\"},{\\\"key\\\":\\\"action\\\",\\\"value\\\":\\\"release\\\"},{\\\"key\\\":\\\"address\\\",\\\"value\\\":\\\"bostrom135ca8hdpy9sk0ntwqzpzsvatyl48ptx5j359lz\\\"},{\\\"key\\\":\\\"gift_address\\\",\\\"value\\\":\\\"cosmos12h0p07w95x5r3xjr03999pvx8535vnem4kedjk\\\"},{\\\"key\\\":\\\"stage\\\",\\\"value\\\":\\\"9\\\"},{\\\"key\\\":\\\"amount\\\",\\\"value\\\":\\\"2813108\\\"}]}]}]\",\n",
      "    \"timestamp\": \"\",\n",
      "    \"tx\": null,\n",
      "    \"txhash\": \"53BE9FF78C682BD88B1808A7BC71B6B86B9A91BB2CF3F779CBD87EB65A98A293\"\n",
      "}\n"
     ]
    }
   ],
   "source": [
    "def release(claim_row: pd.Series, network: str = 'ethereum', display_data: bool = False):\n",
    "    return execute_bash(\n",
    "                f'''CLAIM='{{\"release\":{{\"gift_address\":\"{claim_row[network + \"_address\"]}\"}}}}' \\\n",
    "                    && cyber tx wasm execute {gift_contract_address} \"$CLAIM\" --from $WALLET -o json --broadcast-mode block -y --gas 400000 --chain-id={NETWORK} --node={NODE_URL}''',\n",
    "                display_data=display_data)\n",
    "\n",
    "for index, row in tqdm(claims_df.iterrows()):\n",
    "    if index == 1:\n",
    "        release_ethereum_json, _ = release(row, display_data=True)\n",
    "        release_cosmos_json, _ = release(row, network='cosmos', display_data=True)\n",
    "    else:\n",
    "        release(row)\n",
    "        release(row, network='cosmos')\n"
   ],
   "metadata": {
    "collapsed": false,
    "pycharm": {
     "name": "#%%\n"
    }
   }
  },
  {
   "cell_type": "code",
   "execution_count": 32,
   "outputs": [
    {
     "name": "stdout",
     "output_type": "stream",
     "text": [
      "\n",
      "coin_received\n",
      "\treceiver: Wallet\n",
      "\tamount: 2878554boot\n",
      "\n",
      "coin_spent\n",
      "\tspender: Gift Contract\n",
      "\tamount: 2878554boot\n",
      "\n",
      "execute contract: Gift Contract\n",
      "\n",
      "message from Wallet wasm /cosmwasm.wasm.v1.MsgExecuteContract\n",
      "\n",
      "transfer\n",
      "\trecipient: Wallet\n",
      "\tsender: Gift Contract\n",
      "\tamount: 2878554boot\n",
      "\n",
      "wasm\n",
      "\t_contract_address: Gift Contract\n",
      "\taction: release\n",
      "\taddress: Wallet\n",
      "\tgift_address: 0x42931499d6d14a05fb312808123a564e30a66a0c\n",
      "\tstage: 9\n",
      "\tamount: 2878554\n"
     ]
    }
   ],
   "source": [
    "parse_contract_execution_json(release_ethereum_json)"
   ],
   "metadata": {
    "collapsed": false,
    "pycharm": {
     "name": "#%%\n"
    }
   }
  },
  {
   "cell_type": "code",
   "execution_count": 33,
   "outputs": [
    {
     "name": "stdout",
     "output_type": "stream",
     "text": [
      "\n",
      "coin_received\n",
      "\treceiver: Wallet\n",
      "\tamount: 2813108boot\n",
      "\n",
      "coin_spent\n",
      "\tspender: Gift Contract\n",
      "\tamount: 2813108boot\n",
      "\n",
      "execute contract: Gift Contract\n",
      "\n",
      "message from Wallet wasm /cosmwasm.wasm.v1.MsgExecuteContract\n",
      "\n",
      "transfer\n",
      "\trecipient: Wallet\n",
      "\tsender: Gift Contract\n",
      "\tamount: 2813108boot\n",
      "\n",
      "wasm\n",
      "\t_contract_address: Gift Contract\n",
      "\taction: release\n",
      "\taddress: Wallet\n",
      "\tgift_address: cosmos12h0p07w95x5r3xjr03999pvx8535vnem4kedjk\n",
      "\tstage: 9\n",
      "\tamount: 2813108\n"
     ]
    }
   ],
   "source": [
    "parse_contract_execution_json(release_cosmos_json)"
   ],
   "metadata": {
    "collapsed": false,
    "pycharm": {
     "name": "#%%\n"
    }
   }
  },
  {
   "cell_type": "code",
   "execution_count": 34,
   "outputs": [
    {
     "name": "stdout",
     "output_type": "stream",
     "text": [
      "first release: 2_878_554\n",
      "coef: 19.56\n"
     ]
    }
   ],
   "source": [
    "# gift_address  0x30f99350a8b2e4acf87cdb197e347fb434fe0856\n",
    "# gift amount   1_477_000\n",
    "# first claim  28_885_541\n",
    "# claim transfer  100_000\n",
    "# first release 2_878_554\n",
    "\n",
    "print(f'first release: {int((28_885_541 - 100_000) * 0.1):>_}')\n",
    "print(f'first coef: {28_885_541 / 1_477_000:>,.2f}')\n"
   ],
   "metadata": {
    "collapsed": false,
    "pycharm": {
     "name": "#%%\n"
    }
   }
  },
  {
   "cell_type": "code",
   "execution_count": null,
   "outputs": [],
   "source": [],
   "metadata": {
    "collapsed": false,
    "pycharm": {
     "name": "#%%\n"
    }
   }
  }
 ],
 "metadata": {
  "kernelspec": {
   "display_name": "Python 3",
   "language": "python",
   "name": "python3"
  },
  "language_info": {
   "codemirror_mode": {
    "name": "ipython",
    "version": 2
   },
   "file_extension": ".py",
   "mimetype": "text/x-python",
   "name": "python",
   "nbconvert_exporter": "python",
   "pygments_lexer": "ipython2",
   "version": "2.7.6"
  }
 },
 "nbformat": 4,
 "nbformat_minor": 0
}