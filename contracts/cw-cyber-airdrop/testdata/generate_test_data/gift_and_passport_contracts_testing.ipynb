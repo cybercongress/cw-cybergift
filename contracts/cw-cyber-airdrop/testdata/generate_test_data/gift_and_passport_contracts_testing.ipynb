{
 "cells": [
  {
   "cell_type": "markdown",
   "metadata": {
    "collapsed": true,
    "pycharm": {
     "name": "#%% md\n"
    }
   },
   "source": [
    "## Gift Contract Testing"
   ]
  },
  {
   "cell_type": "code",
   "source": [
    "from web3.auto import w3\n",
    "import pandas as pd\n",
    "from cyberpy import generate_wallet, address_to_address\n",
    "from cyberpy._message_signer import Message\n",
    "from cyberpy._wallet import seed_to_privkey\n",
    "from eth_account.messages import encode_defunct\n",
    "import json\n",
    "from subprocess import Popen, PIPE\n",
    "import os\n",
    "from time import time\n",
    "import ipfshttpclient\n",
    "from tqdm.notebook import tqdm\n",
    "from base64 import b64encode\n",
    "\n",
    "client = ipfshttpclient.connect()\n",
    "\n",
    "NUMBER_OF_PARTICIPANTS = 2\n",
    "KEY_PHRASE = 'KEY PHRASE'\n",
    "NICKNAME_LIST = [f'john{round(time())}{number}' for number in range(NUMBER_OF_PARTICIPANTS)]\n",
    "AVATAR_CID_LIST = [client.add_str(_nickname + 'avatar') for _nickname in NICKNAME_LIST]\n",
    "CLAIM_AMOUNT_LIST = [10_000_000] * NUMBER_OF_PARTICIPANTS\n",
    "\n",
    "INITIAL_BALANCE = str(1_000_000_000)\n",
    "COEF_UP = str(20)\n",
    "COEF_DOWN = str(5)\n",
    "TARGET_CLAIM = str(2)\n",
    "\n",
    "WALLET_ADDRESS = os.getenv('WALLET_ADDRESS')\n",
    "NODE_URL = 'https://rpc.space-pussy-1.cybernode.ai:443'\n",
    "NETWORK = 'space-pussy-1'\n",
    "\n",
    "INIT_SUBSPACE_CONTRACTS = False\n",
    "SUBSPACE_CODE_ID = str(21)\n",
    "NAME_SUBSPACE_CONTRACT_ADDRESS = 'bostrom19zmt9dlz3wzu6jqgr9409el7nvxw66u8n67ta5424kwcg0qf269s6t03zt'\n",
    "AVATAR_SUBSPACE_CONTRACT_ADDRESS = 'bostrom16ulvzd0xp9g6wdhnnhz584ed8xzxm5wkmrsznnzk7qsskegkfutq5djtqs'\n",
    "PROOF_SUBSPACE_CONTRACT_ADDRESS = 'bostrom1ghwwe2nhxjfy7qulgu6zzmghmnjj3rx8xldr8aytghayxlftz6aqxy4c7k'\n",
    "\n",
    "INIT_PASSPORT_CONTRACT = False\n",
    "PASSPORT_CODE_ID = str(25)\n",
    "PASSPORT_CONTRACT_ADDRESS = 'bostrom15hzg7eaxgs6ecn46gmu4juc9tau2w45l9cnf8n0797nmmtkdv7jscv88ra'\n",
    "\n",
    "INIT_GIFT_CONTRACT = True\n",
    "GIFT_CODE_ID = str(20)\n",
    "GIFT_CONTRACT_ADDRESS = 'bostrom1rt2acjyhs4jfjdq56pftpu7762hy9gfl63je6fnhwrc5p5y4kmuqxg0262'\n",
    "\n",
    "ROOT_SOURCE_FILE_NAME = 'root_testing_source_' + str(NUMBER_OF_PARTICIPANTS) + '_addresses.json'\n",
    "ROOT_FILE_NAME = 'root_testing_' + str(NUMBER_OF_PARTICIPANTS) + '_addresses'\n",
    "\n",
    "\n",
    "def execute_bash(bash_command: str, display_data: bool = False) -> [str, str]:\n",
    "    _output, _error = Popen(bash_command, shell=True, stdout=PIPE, stderr=PIPE).communicate()\n",
    "    if _error:\n",
    "        display_data = True\n",
    "    if display_data:\n",
    "        print(bash_command)\n",
    "        if _output:\n",
    "            try:\n",
    "                print(json.dumps(json.loads(_output.decode('utf-8')), indent=4, sort_keys=True))\n",
    "            except json.JSONDecodeError:\n",
    "                print(_output)\n",
    "        if _error:\n",
    "            print(_error)\n",
    "    return _output.decode('utf-8'), _error.decode('utf-8')"
   ],
   "metadata": {
    "collapsed": false,
    "pycharm": {
     "name": "#%%\n"
    }
   },
   "execution_count": 1,
   "outputs": [
    {
     "name": "stderr",
     "output_type": "stream",
     "text": [
      "/Users/sergenedashkovsky/Library/Python/3.8/lib/python/site-packages/ipfshttpclient/client/__init__.py:75: VersionMismatch: Unsupported daemon version '0.10.0' (not in range: 0.5.0 ≤ … < 0.9.0)\n",
      "  warnings.warn(exceptions.VersionMismatch(version, minimum, maximum))\n"
     ]
    }
   ]
  },
  {
   "cell_type": "markdown",
   "source": [
    "### Generate addresses and sign messages"
   ],
   "metadata": {
    "collapsed": false,
    "pycharm": {
     "name": "#%% md\n"
    }
   }
  },
  {
   "cell_type": "code",
   "execution_count": 2,
   "outputs": [
    {
     "data": {
      "text/plain": "     amount         nickname                                          avatar  \\\n0  10000000  john16455994800  QmdftF8AWKtpqoC3MpNmrapVWiumGTdCPXrvYmz8V17ZVv   \n1  10000000  john16455994801  Qma6rDtCvYN6UWrUV978rmyZrxtKWWg8buYzy5H8Az3ux3   \n\n                             ethereum_address  \\\n0  0x4608e844331df74ca530e0b8cbb80057a8e8818a   \n1  0x9f791bd90b3b3a8f888a1414fba806d7aba85e97   \n\n                                ethereum_private_key  \\\n0  0x7299cd04965e71b84f0e944db69c4fef1e4fe4effcef...   \n1  0x7e461f3a4ea595abdbc47ea4385a1ef6d777175545d1...   \n\n                                  bostrom_address  \\\n0  bostrom1za5gkyfz5jp3vhm7lphwgfdvpud87p6m2dj0v9   \n1  bostrom120gnxgzj9hv53meq7h24jkgtfw8w2lh4awp2vp   \n\n                                  cosmos_address  \\\n0  cosmos1za5gkyfz5jp3vhm7lphwgfdvpud87p6mf7xujz   \n1  cosmos120gnxgzj9hv53meq7h24jkgtfw8w2lh47a4ejx   \n\n                                         cosmos_seed  \\\n0  finger never cheese neck squeeze license dawn ...   \n1  rookie library small humor execute antique tru...   \n\n                                             message  \\\n0  bostrom135ca8hdpy9sk0ntwqzpzsvatyl48ptx5j359lz...   \n1  bostrom135ca8hdpy9sk0ntwqzpzsvatyl48ptx5j359lz...   \n\n                          ethereum_message_signature  \\\n0  0xf533d1b1d62ec166b3a9c5663ee614323800eabecb84...   \n1  0x438ad98a4d25cf3780a67e1a55ade66f04a3ac529b14...   \n\n                           cosmos_message_signed_row  \\\n0  {'pub_key': 'AppIVn2o22irKU/GUchgMTturtT8BQ4Kt...   \n1  {'pub_key': 'AqhmlaczxtqDaBHBjhhtYS5AycZBqnfRG...   \n\n                            cosmos_message_signature  \n0  eyJwdWJfa2V5IjoiQXBwSVZuMm8yMmlyS1UvR1VjaGdNVH...  \n1  eyJwdWJfa2V5IjoiQXFobWxhY3p4dHFEYUJIQmpoaHRZUz...  ",
      "text/html": "<div>\n<style scoped>\n    .dataframe tbody tr th:only-of-type {\n        vertical-align: middle;\n    }\n\n    .dataframe tbody tr th {\n        vertical-align: top;\n    }\n\n    .dataframe thead th {\n        text-align: right;\n    }\n</style>\n<table border=\"1\" class=\"dataframe\">\n  <thead>\n    <tr style=\"text-align: right;\">\n      <th></th>\n      <th>amount</th>\n      <th>nickname</th>\n      <th>avatar</th>\n      <th>ethereum_address</th>\n      <th>ethereum_private_key</th>\n      <th>bostrom_address</th>\n      <th>cosmos_address</th>\n      <th>cosmos_seed</th>\n      <th>message</th>\n      <th>ethereum_message_signature</th>\n      <th>cosmos_message_signed_row</th>\n      <th>cosmos_message_signature</th>\n    </tr>\n  </thead>\n  <tbody>\n    <tr>\n      <th>0</th>\n      <td>10000000</td>\n      <td>john16455994800</td>\n      <td>QmdftF8AWKtpqoC3MpNmrapVWiumGTdCPXrvYmz8V17ZVv</td>\n      <td>0x4608e844331df74ca530e0b8cbb80057a8e8818a</td>\n      <td>0x7299cd04965e71b84f0e944db69c4fef1e4fe4effcef...</td>\n      <td>bostrom1za5gkyfz5jp3vhm7lphwgfdvpud87p6m2dj0v9</td>\n      <td>cosmos1za5gkyfz5jp3vhm7lphwgfdvpud87p6mf7xujz</td>\n      <td>finger never cheese neck squeeze license dawn ...</td>\n      <td>bostrom135ca8hdpy9sk0ntwqzpzsvatyl48ptx5j359lz...</td>\n      <td>0xf533d1b1d62ec166b3a9c5663ee614323800eabecb84...</td>\n      <td>{'pub_key': 'AppIVn2o22irKU/GUchgMTturtT8BQ4Kt...</td>\n      <td>eyJwdWJfa2V5IjoiQXBwSVZuMm8yMmlyS1UvR1VjaGdNVH...</td>\n    </tr>\n    <tr>\n      <th>1</th>\n      <td>10000000</td>\n      <td>john16455994801</td>\n      <td>Qma6rDtCvYN6UWrUV978rmyZrxtKWWg8buYzy5H8Az3ux3</td>\n      <td>0x9f791bd90b3b3a8f888a1414fba806d7aba85e97</td>\n      <td>0x7e461f3a4ea595abdbc47ea4385a1ef6d777175545d1...</td>\n      <td>bostrom120gnxgzj9hv53meq7h24jkgtfw8w2lh4awp2vp</td>\n      <td>cosmos120gnxgzj9hv53meq7h24jkgtfw8w2lh47a4ejx</td>\n      <td>rookie library small humor execute antique tru...</td>\n      <td>bostrom135ca8hdpy9sk0ntwqzpzsvatyl48ptx5j359lz...</td>\n      <td>0x438ad98a4d25cf3780a67e1a55ade66f04a3ac529b14...</td>\n      <td>{'pub_key': 'AqhmlaczxtqDaBHBjhhtYS5AycZBqnfRG...</td>\n      <td>eyJwdWJfa2V5IjoiQXFobWxhY3p4dHFEYUJIQmpoaHRZUz...</td>\n    </tr>\n  </tbody>\n</table>\n</div>"
     },
     "execution_count": 2,
     "metadata": {},
     "output_type": "execute_result"
    }
   ],
   "source": [
    "claims_list = []\n",
    "for i in range(NUMBER_OF_PARTICIPANTS):\n",
    "    claim_item = {'amount': CLAIM_AMOUNT_LIST[i],\n",
    "                  'nickname': NICKNAME_LIST[i],\n",
    "                  'avatar': AVATAR_CID_LIST[i]}\n",
    "\n",
    "    # Generate Ethereum wallet\n",
    "    ethereum_wallet = w3.eth.account.create(KEY_PHRASE)\n",
    "    claim_item['ethereum_address'] = ethereum_wallet.address.lower()\n",
    "    claim_item['ethereum_private_key'] = ethereum_wallet.privateKey.hex()\n",
    "\n",
    "    # Generate Bostrom and Cosmos wallet\n",
    "    bostrom_wallet = generate_wallet()\n",
    "    claim_item['bostrom_address'] = bostrom_wallet['address']\n",
    "    claim_item['cosmos_address'] = address_to_address(bostrom_wallet['address'], 'cosmos')\n",
    "    claim_item['cosmos_seed'] = bostrom_wallet['seed']\n",
    "\n",
    "    # Create message\n",
    "    # message_json = {\n",
    "    #     \"nickname\": claim_item['nickname'],\n",
    "    #     \"gift_claiming_address\": claim_item['ethereum_address'],\n",
    "    #     \"gift_amount\": claim_item['amount'],\n",
    "    #     \"target_address\": claim_item['bostrom_address']\n",
    "    # }\n",
    "    # claim_item['message'] = json.dumps(message_json)\n",
    "    claim_item['message'] = f\"{WALLET_ADDRESS}:QmRX8qYgeZoYM3M5zzQaWEpVFdpin6FvVXvp6RPQK3oufV\"\n",
    "\n",
    "    # Sign message form Ethereum address\n",
    "    ethereum_signed_message = \\\n",
    "        w3.eth.account.sign_message(\n",
    "            signable_message=encode_defunct(text=claim_item['message']),\n",
    "            private_key=ethereum_wallet.privateKey)\n",
    "    # print(signed_message.signature)\n",
    "    claim_item['ethereum_message_signature'] = ethereum_signed_message.signature.hex()\n",
    "\n",
    "    # Sign message form Cosmos address\n",
    "    cosmos_msg = Message(privkey=seed_to_privkey(seed=claim_item['cosmos_seed']))\n",
    "    cosmos_msg.add_message(signing_message=claim_item['message'], signer_prefix='cosmos')\n",
    "    claim_item['cosmos_message_signed_row'] = cosmos_msg.get_signed_message()\n",
    "    claim_item['cosmos_message_signature'] = b64encode(json.dumps(claim_item['cosmos_message_signed_row']).replace('\\n', '').replace(' ', '').encode('utf-8')).decode(\"utf-8\")\n",
    "\n",
    "    # Verify message\n",
    "    assert claim_item['ethereum_address'] == w3.eth.account.recover_message(\n",
    "        signable_message=encode_defunct(text=claim_item['message']),\n",
    "        signature=claim_item['ethereum_message_signature']).lower()\n",
    "\n",
    "    claims_list.append(claim_item)\n",
    "\n",
    "claims_df = pd.DataFrame(claims_list)\n",
    "claims_df.to_csv('claims_ethereum_test_data_' + str(NUMBER_OF_PARTICIPANTS) + '_addresses.csv')\n",
    "claims_df"
   ],
   "metadata": {
    "collapsed": false,
    "pycharm": {
     "name": "#%%\n"
    }
   }
  },
  {
   "cell_type": "markdown",
   "source": [
    "## Instantiate Contracts"
   ],
   "metadata": {
    "collapsed": false,
    "pycharm": {
     "name": "#%% md\n"
    }
   }
  },
  {
   "cell_type": "code",
   "execution_count": 3,
   "outputs": [],
   "source": [
    "def instantiate_contract(init_query: str, contract_code_id: str, contract_label: str, amount: str = '', display_data: bool = False) -> str:\n",
    "    _init_output, _init_error = execute_bash(\n",
    "        f'''INIT='{init_query}' \\\n",
    "            && cyber tx wasm instantiate {contract_code_id} \"$INIT\" --from $WALLET {'--amount ' + amount + 'boot' if amount else ''} --label \"{contract_label}\" \\\n",
    "            -y --gas 3500000 --broadcast-mode block -o json --chain-id={NETWORK} --node={NODE_URL}''')\n",
    "    if display_data:\n",
    "        try:\n",
    "            print(json.dumps(json.loads(_init_output.decode('utf-8')), indent=4, sort_keys=True))\n",
    "        except json.JSONDecodeError:\n",
    "            print(_init_output)\n",
    "    if _init_error:\n",
    "        print(_init_error)\n",
    "    _init_json = json.loads(_init_output)\n",
    "    return [event['attributes'][0]['value'] for event in _init_json['logs'][0]['events'] if event['type'] == 'instantiate'][0]"
   ],
   "metadata": {
    "collapsed": false,
    "pycharm": {
     "name": "#%%\n"
    }
   }
  },
  {
   "cell_type": "markdown",
   "source": [
    "### Instantiate Subspace Contracts"
   ],
   "metadata": {
    "collapsed": false,
    "pycharm": {
     "name": "#%% md\n"
    }
   }
  },
  {
   "cell_type": "code",
   "execution_count": 4,
   "outputs": [
    {
     "name": "stdout",
     "output_type": "stream",
     "text": [
      "Name subspace contract address: bostrom19zmt9dlz3wzu6jqgr9409el7nvxw66u8n67ta5424kwcg0qf269s6t03zt\n",
      "Avatar subspace contract address: bostrom16ulvzd0xp9g6wdhnnhz584ed8xzxm5wkmrsznnzk7qsskegkfutq5djtqs\n",
      "Proof subspace contract address: bostrom1ghwwe2nhxjfy7qulgu6zzmghmnjj3rx8xldr8aytghayxlftz6aqxy4c7k\n"
     ]
    }
   ],
   "source": [
    "if INIT_SUBSPACE_CONTRACTS:\n",
    "    name_subspace_contract_address = \\\n",
    "        instantiate_contract(\n",
    "            init_query=f'''{{\"owner\":\"{WALLET_ADDRESS}\", \"executer\":\"{WALLET_ADDRESS}\"}}''',\n",
    "            contract_code_id=SUBSPACE_CODE_ID,\n",
    "            contract_label='test name subspace')\n",
    "    avatar_subspace_contract_address = \\\n",
    "        instantiate_contract(\n",
    "            init_query=f'''{{\"owner\":\"{WALLET_ADDRESS}\", \"executer\":\"{WALLET_ADDRESS}\"}}''',\n",
    "            contract_code_id=SUBSPACE_CODE_ID,\n",
    "            contract_label='test avatar subspace')\n",
    "    proof_subspace_contract_address = \\\n",
    "        instantiate_contract(\n",
    "            init_query=f'''{{\"owner\":\"{WALLET_ADDRESS}\", \"executer\":\"{WALLET_ADDRESS}\"}}''',\n",
    "            contract_code_id=SUBSPACE_CODE_ID,\n",
    "            contract_label='test proof subspace')\n",
    "else:\n",
    "    name_subspace_contract_address = NAME_SUBSPACE_CONTRACT_ADDRESS\n",
    "    avatar_subspace_contract_address = AVATAR_SUBSPACE_CONTRACT_ADDRESS\n",
    "    proof_subspace_contract_address = PROOF_SUBSPACE_CONTRACT_ADDRESS\n",
    "print(f'Name subspace contract address: {name_subspace_contract_address}\\n'\n",
    "      f'Avatar subspace contract address: {avatar_subspace_contract_address}\\n'\n",
    "      f'Proof subspace contract address: {proof_subspace_contract_address}')"
   ],
   "metadata": {
    "collapsed": false,
    "pycharm": {
     "name": "#%%\n"
    }
   }
  },
  {
   "cell_type": "markdown",
   "source": [
    "### Instantiate Passport Contract"
   ],
   "metadata": {
    "collapsed": false,
    "pycharm": {
     "name": "#%% md\n"
    }
   }
  },
  {
   "cell_type": "code",
   "execution_count": 5,
   "outputs": [
    {
     "name": "stdout",
     "output_type": "stream",
     "text": [
      "Passport contract address: bostrom15hzg7eaxgs6ecn46gmu4juc9tau2w45l9cnf8n0797nmmtkdv7jscv88ra\n"
     ]
    }
   ],
   "source": [
    "if INIT_PASSPORT_CONTRACT:\n",
    "    passport_contract_address = \\\n",
    "        instantiate_contract(\n",
    "            init_query=f'''{{\"name\":\"CPT\", \"minter\":\"{WALLET_ADDRESS}\", \"owner\":\"{WALLET_ADDRESS}\", \"symbol\":\"CPT\", \"avatar_subspace\": \"{avatar_subspace_contract_address}\", \"name_subspace\": \"{name_subspace_contract_address}\", \"proof_subspace\": \"{proof_subspace_contract_address}\"}}''',\n",
    "            contract_code_id=PASSPORT_CODE_ID,\n",
    "            contract_label='test passport')\n",
    "else:\n",
    "    passport_contract_address = PASSPORT_CONTRACT_ADDRESS\n",
    "print(f'Passport contract address: {passport_contract_address}')"
   ],
   "metadata": {
    "collapsed": false,
    "pycharm": {
     "name": "#%%\n"
    }
   }
  },
  {
   "cell_type": "markdown",
   "source": [
    "### Set executor in the Subspace Contracts"
   ],
   "metadata": {
    "collapsed": false,
    "pycharm": {
     "name": "#%% md\n"
    }
   }
  },
  {
   "cell_type": "code",
   "execution_count": 6,
   "outputs": [],
   "source": [
    "def set_executor_subspace(subspace_contract_address: str, new_executor_address: str, display_data: bool = False):\n",
    "    return execute_bash(\n",
    "                f'''REGISTER='{{\"update_executer\":{{\"new_executer\":\"{new_executor_address}\"}}}}' \\\n",
    "                    && CONTRACT=\"{subspace_contract_address}\" \\\n",
    "                    && cyber tx wasm execute $CONTRACT \"$REGISTER\" --from $WALLET -o json --broadcast-mode block -y --gas=600000 --chain-id={NETWORK} --node={NODE_URL}''',\n",
    "                display_data=display_data)\n",
    "\n",
    "if INIT_PASSPORT_CONTRACT or INIT_SUBSPACE_CONTRACTS:\n",
    "    set_executor_subspace(subspace_contract_address=name_subspace_contract_address, new_executor_address=passport_contract_address)\n",
    "    set_executor_subspace(subspace_contract_address=avatar_subspace_contract_address, new_executor_address=passport_contract_address)\n",
    "    set_executor_subspace(subspace_contract_address=proof_subspace_contract_address, new_executor_address=passport_contract_address)"
   ],
   "metadata": {
    "collapsed": false,
    "pycharm": {
     "name": "#%%\n"
    }
   }
  },
  {
   "cell_type": "markdown",
   "source": [
    "### Instantiate Gift Contract"
   ],
   "metadata": {
    "collapsed": false,
    "pycharm": {
     "name": "#%% md\n"
    }
   }
  },
  {
   "cell_type": "code",
   "execution_count": 7,
   "outputs": [
    {
     "name": "stdout",
     "output_type": "stream",
     "text": [
      "Gift contract address: bostrom1xj68jgjr6u02njplhmkl2f4gg58uueayfrn99x2png87jpsvwx0sk58jjv\n"
     ]
    }
   ],
   "source": [
    "if INIT_GIFT_CONTRACT:\n",
    "    gift_contract_address = \\\n",
    "        instantiate_contract(\n",
    "            init_query=f'''{{\"owner\":\"{WALLET_ADDRESS}\", \"passport\":\"{passport_contract_address}\", \"allowed_native\":\"boot\", \"initial_balance\":\"{INITIAL_BALANCE}\", \"coefficient_up\":\"{COEF_UP}\", \"coefficient_down\":\"{COEF_DOWN}\", \"coefficient\":\"{COEF_UP}\", \"target_claim\":\"{TARGET_CLAIM}\"}}''',\n",
    "            contract_code_id=GIFT_CODE_ID,\n",
    "            amount=INITIAL_BALANCE,\n",
    "            contract_label='test gift')\n",
    "else:\n",
    "    gift_contract_address = GIFT_CONTRACT_ADDRESS\n",
    "print(f'Gift contract address: {gift_contract_address}')"
   ],
   "metadata": {
    "collapsed": false,
    "pycharm": {
     "name": "#%%\n"
    }
   }
  },
  {
   "cell_type": "code",
   "execution_count": 8,
   "outputs": [],
   "source": [
    "def get_contract_name(contract_address: str) -> str:\n",
    "    address_dict = {gift_contract_address: 'Gift Contract',\n",
    "                    passport_contract_address: 'Passport Contract',\n",
    "                    WALLET_ADDRESS: 'Wallet',\n",
    "                    name_subspace_contract_address: 'Name Subspace Contract',\n",
    "                    avatar_subspace_contract_address: 'Avatar Subspace Contract',\n",
    "                    proof_subspace_contract_address: 'Proof Subspace Contract'}\n",
    "    try:\n",
    "        return address_dict[contract_address]\n",
    "    except KeyError:\n",
    "        return contract_address\n",
    "\n",
    "\n",
    "def parse_contract_execution_json(contract_execution_json: str) -> None:\n",
    "    for log_item in json.loads(contract_execution_json)['logs']:\n",
    "        for event_item in log_item['events']:\n",
    "            print('')\n",
    "            if event_item['type'] == 'message':\n",
    "                if len(event_item[\"attributes\"]) == 3:\n",
    "                    print(f'message from {get_contract_name(event_item[\"attributes\"][-1][\"value\"])} {event_item[\"attributes\"][1][\"value\"]} {event_item[\"attributes\"][0][\"value\"]}')\n",
    "                else:\n",
    "                    print(event_item)\n",
    "            elif event_item['type'] == 'execute':\n",
    "                print('execute')\n",
    "                for attr_item in event_item[\"attributes\"]:\n",
    "                    if attr_item[\"key\"] == '_contract_address':\n",
    "                        print(f'\\texecute contract: {get_contract_name(attr_item[\"value\"])}')\n",
    "                    else:\n",
    "                        print(f'\\t{attr_item[\"key\"]}: {get_contract_name(attr_item[\"value\"])}')\n",
    "            elif event_item['type'] == 'reply':\n",
    "                print('reply')\n",
    "                for attr_item in event_item[\"attributes\"]:\n",
    "                    if attr_item[\"key\"] == '_contract_address':\n",
    "                        print(f'\\treply contract: {get_contract_name(attr_item[\"value\"])}')\n",
    "                    else:\n",
    "                        print(f'\\t{attr_item[\"key\"]}: {get_contract_name(attr_item[\"value\"])}')\n",
    "            elif event_item['type'] == 'cyberlink':\n",
    "                print('cyberlinks')\n",
    "                for i, attr_item in enumerate(event_item['attributes']):\n",
    "                    if attr_item['key'] == 'particleFrom':\n",
    "                        print(f'\\t{attr_item[\"value\"]} -> {event_item[\"attributes\"][i + 1][\"value\"]}')\n",
    "                    elif attr_item['key'] == 'particleTo':\n",
    "                        pass\n",
    "                    elif attr_item['key'] == 'neuron':\n",
    "                        print(f'\\tneuron: {get_contract_name(event_item[\"attributes\"][-1][\"value\"])}\\n')\n",
    "                    else:\n",
    "                        print(f'\\t{attr_item[\"key\"]}: {get_contract_name(attr_item[\"value\"])}')\n",
    "            elif event_item['type'] == 'coin_received':\n",
    "                print('coin received')\n",
    "                for attr_item in event_item[\"attributes\"]:\n",
    "                    print(f'\\t{attr_item[\"key\"]}: {get_contract_name(attr_item[\"value\"])}')\n",
    "            elif event_item['type'] == 'coin_spent':\n",
    "                print('coin spent')\n",
    "                for attr_item in event_item[\"attributes\"]:\n",
    "                    print(f'\\t{attr_item[\"key\"]}: {get_contract_name(attr_item[\"value\"])}')\n",
    "            elif event_item['type'] == 'wasm':\n",
    "                print('wasm')\n",
    "                for attr_item in event_item[\"attributes\"]:\n",
    "                    print(f'\\t{attr_item[\"key\"]}: {get_contract_name(attr_item[\"value\"])}')\n",
    "            elif event_item['type'] == 'transfer':\n",
    "                print('transfer')\n",
    "                for attr_item in event_item[\"attributes\"]:\n",
    "                    print(f'\\t{attr_item[\"key\"]}: {get_contract_name(attr_item[\"value\"])}')\n",
    "            else:\n",
    "                print(event_item)"
   ],
   "metadata": {
    "collapsed": false,
    "pycharm": {
     "name": "#%%\n"
    }
   }
  },
  {
   "cell_type": "markdown",
   "source": [],
   "metadata": {
    "collapsed": false,
    "pycharm": {
     "name": "#%% md\n"
    }
   }
  },
  {
   "cell_type": "markdown",
   "source": [
    "### Create Merkle Root"
   ],
   "metadata": {
    "collapsed": false,
    "pycharm": {
     "name": "#%% md\n"
    }
   }
  },
  {
   "cell_type": "code",
   "execution_count": 9,
   "outputs": [],
   "source": [
    "root_source_list = [{'address': _item['ethereum_address'],\n",
    "                     'amount': str(_item['amount'])} for _item in claims_list]+ \\\n",
    "                    [{'address': _item['cosmos_address'],\n",
    "                      'amount': str(_item['amount'])} for _item in claims_list]\n",
    "\n",
    "with open(ROOT_SOURCE_FILE_NAME, 'w') as outfile:\n",
    "    outfile.write(str(root_source_list).replace(\"'\", '\"'))"
   ],
   "metadata": {
    "collapsed": false,
    "pycharm": {
     "name": "#%%\n"
    }
   }
  },
  {
   "cell_type": "code",
   "execution_count": 10,
   "outputs": [
    {
     "name": "stdout",
     "output_type": "stream",
     "text": [
      "Merkle root: 75ba3c000160ea9239354e82806f1420ddd30b66c7132f4702849e5ae311eb12\n"
     ]
    }
   ],
   "source": [
    "execute_bash(f'rm {ROOT_FILE_NAME}')\n",
    "root_output, root_error = execute_bash(\n",
    "    f'merkle-airdrop-cli generateRoot --file {ROOT_SOURCE_FILE_NAME} >> {ROOT_FILE_NAME} && cat {ROOT_FILE_NAME}')\n",
    "root = root_output.replace('\\n', '')\n",
    "print(f'Merkle root: {root}')"
   ],
   "metadata": {
    "collapsed": false,
    "pycharm": {
     "name": "#%%\n"
    }
   }
  },
  {
   "cell_type": "code",
   "execution_count": 11,
   "outputs": [],
   "source": [
    "root_register_output, root_register_error = \\\n",
    "    execute_bash(\n",
    "        f'''REGISTER='{{\"register_merkle_root\":{{\"merkle_root\":\"{root}\"}}}}' \\\n",
    "            && CONTRACT=\"{gift_contract_address}\" \\\n",
    "            && cyber tx wasm execute $CONTRACT \"$REGISTER\" --from $WALLET --broadcast-mode block -y --chain-id={NETWORK} --node={NODE_URL}''')"
   ],
   "metadata": {
    "collapsed": false,
    "pycharm": {
     "name": "#%%\n"
    }
   }
  },
  {
   "cell_type": "markdown",
   "source": [
    "#### Get Merkle Root form the Gift Contract"
   ],
   "metadata": {
    "collapsed": false,
    "pycharm": {
     "name": "#%% md\n"
    }
   },
   "execution_count": 156
  },
  {
   "cell_type": "code",
   "execution_count": 12,
   "outputs": [
    {
     "name": "stdout",
     "output_type": "stream",
     "text": [
      "data:\n",
      "  merkle_root: 75ba3c000160ea9239354e82806f1420ddd30b66c7132f4702849e5ae311eb12\n",
      "\n"
     ]
    }
   ],
   "source": [
    "print(\n",
    "    execute_bash(\n",
    "        f'''QUERY='{{\"merkle_root\": {{}}}}' \\\n",
    "            && cyber query wasm contract-state smart {gift_contract_address} \"$QUERY\" --chain-id={NETWORK} --node={NODE_URL}''')[0]\n",
    ")"
   ],
   "metadata": {
    "collapsed": false,
    "pycharm": {
     "name": "#%%\n"
    }
   }
  },
  {
   "cell_type": "markdown",
   "source": [
    "### Create Passports"
   ],
   "metadata": {
    "collapsed": false,
    "pycharm": {
     "name": "#%% md\n"
    }
   }
  },
  {
   "cell_type": "code",
   "execution_count": 13,
   "outputs": [
    {
     "data": {
      "text/plain": "0it [00:00, ?it/s]",
      "application/vnd.jupyter.widget-view+json": {
       "version_major": 2,
       "version_minor": 0,
       "model_id": "78dcad791efb4dc09d9715cbc4a3d9c2"
      }
     },
     "metadata": {},
     "output_type": "display_data"
    },
    {
     "name": "stdout",
     "output_type": "stream",
     "text": [
      "REGISTER='{\"create_passport\":{\"avatar\":\"QmdftF8AWKtpqoC3MpNmrapVWiumGTdCPXrvYmz8V17ZVv\", \"nickname\":\"john16455994800\"}}'                     && CONTRACT=\"bostrom15hzg7eaxgs6ecn46gmu4juc9tau2w45l9cnf8n0797nmmtkdv7jscv88ra\"                     && cyber tx wasm execute $CONTRACT \"$REGISTER\" --from $WALLET -o json --broadcast-mode block -y --gas=600000 --chain-id=space-pussy-1 --node=https://rpc.space-pussy-1.cybernode.ai:443\n",
      "{\n",
      "    \"code\": 0,\n",
      "    \"codespace\": \"\",\n",
      "    \"data\": \"0A260A242F636F736D7761736D2E7761736D2E76312E4D736745786563757465436F6E7472616374\",\n",
      "    \"gas_used\": \"400125\",\n",
      "    \"gas_wanted\": \"600000\",\n",
      "    \"height\": \"1426977\",\n",
      "    \"info\": \"\",\n",
      "    \"logs\": [\n",
      "        {\n",
      "            \"events\": [\n",
      "                {\n",
      "                    \"attributes\": [\n",
      "                        {\n",
      "                            \"key\": \"particleFrom\",\n",
      "                            \"value\": \"Qmb6ckJ1zaYx2htqzsgJSK4D7QRbJesPtaL9zYHq5EVnkg\"\n",
      "                        },\n",
      "                        {\n",
      "                            \"key\": \"particleTo\",\n",
      "                            \"value\": \"Qmbf497dHw7PB5FwqcSTYzENkwCBSkvACi96hiZXuKcumm\"\n",
      "                        },\n",
      "                        {\n",
      "                            \"key\": \"particleFrom\",\n",
      "                            \"value\": \"Qmbf497dHw7PB5FwqcSTYzENkwCBSkvACi96hiZXuKcumm\"\n",
      "                        },\n",
      "                        {\n",
      "                            \"key\": \"particleTo\",\n",
      "                            \"value\": \"Qmb6ckJ1zaYx2htqzsgJSK4D7QRbJesPtaL9zYHq5EVnkg\"\n",
      "                        },\n",
      "                        {\n",
      "                            \"key\": \"neuron\",\n",
      "                            \"value\": \"bostrom19zmt9dlz3wzu6jqgr9409el7nvxw66u8n67ta5424kwcg0qf269s6t03zt\"\n",
      "                        },\n",
      "                        {\n",
      "                            \"key\": \"particleFrom\",\n",
      "                            \"value\": \"Qmb6ckJ1zaYx2htqzsgJSK4D7QRbJesPtaL9zYHq5EVnkg\"\n",
      "                        },\n",
      "                        {\n",
      "                            \"key\": \"particleTo\",\n",
      "                            \"value\": \"QmdftF8AWKtpqoC3MpNmrapVWiumGTdCPXrvYmz8V17ZVv\"\n",
      "                        },\n",
      "                        {\n",
      "                            \"key\": \"particleFrom\",\n",
      "                            \"value\": \"QmdftF8AWKtpqoC3MpNmrapVWiumGTdCPXrvYmz8V17ZVv\"\n",
      "                        },\n",
      "                        {\n",
      "                            \"key\": \"particleTo\",\n",
      "                            \"value\": \"Qmb6ckJ1zaYx2htqzsgJSK4D7QRbJesPtaL9zYHq5EVnkg\"\n",
      "                        },\n",
      "                        {\n",
      "                            \"key\": \"neuron\",\n",
      "                            \"value\": \"bostrom16ulvzd0xp9g6wdhnnhz584ed8xzxm5wkmrsznnzk7qsskegkfutq5djtqs\"\n",
      "                        }\n",
      "                    ],\n",
      "                    \"type\": \"cyberlink\"\n",
      "                },\n",
      "                {\n",
      "                    \"attributes\": [\n",
      "                        {\n",
      "                            \"key\": \"_contract_address\",\n",
      "                            \"value\": \"bostrom15hzg7eaxgs6ecn46gmu4juc9tau2w45l9cnf8n0797nmmtkdv7jscv88ra\"\n",
      "                        },\n",
      "                        {\n",
      "                            \"key\": \"_contract_address\",\n",
      "                            \"value\": \"bostrom19zmt9dlz3wzu6jqgr9409el7nvxw66u8n67ta5424kwcg0qf269s6t03zt\"\n",
      "                        },\n",
      "                        {\n",
      "                            \"key\": \"_contract_address\",\n",
      "                            \"value\": \"bostrom16ulvzd0xp9g6wdhnnhz584ed8xzxm5wkmrsznnzk7qsskegkfutq5djtqs\"\n",
      "                        }\n",
      "                    ],\n",
      "                    \"type\": \"execute\"\n",
      "                },\n",
      "                {\n",
      "                    \"attributes\": [\n",
      "                        {\n",
      "                            \"key\": \"action\",\n",
      "                            \"value\": \"/cosmwasm.wasm.v1.MsgExecuteContract\"\n",
      "                        },\n",
      "                        {\n",
      "                            \"key\": \"module\",\n",
      "                            \"value\": \"wasm\"\n",
      "                        },\n",
      "                        {\n",
      "                            \"key\": \"sender\",\n",
      "                            \"value\": \"bostrom135ca8hdpy9sk0ntwqzpzsvatyl48ptx5j359lz\"\n",
      "                        }\n",
      "                    ],\n",
      "                    \"type\": \"message\"\n",
      "                },\n",
      "                {\n",
      "                    \"attributes\": [\n",
      "                        {\n",
      "                            \"key\": \"_contract_address\",\n",
      "                            \"value\": \"bostrom15hzg7eaxgs6ecn46gmu4juc9tau2w45l9cnf8n0797nmmtkdv7jscv88ra\"\n",
      "                        },\n",
      "                        {\n",
      "                            \"key\": \"_contract_address\",\n",
      "                            \"value\": \"bostrom15hzg7eaxgs6ecn46gmu4juc9tau2w45l9cnf8n0797nmmtkdv7jscv88ra\"\n",
      "                        }\n",
      "                    ],\n",
      "                    \"type\": \"reply\"\n",
      "                },\n",
      "                {\n",
      "                    \"attributes\": [\n",
      "                        {\n",
      "                            \"key\": \"_contract_address\",\n",
      "                            \"value\": \"bostrom15hzg7eaxgs6ecn46gmu4juc9tau2w45l9cnf8n0797nmmtkdv7jscv88ra\"\n",
      "                        },\n",
      "                        {\n",
      "                            \"key\": \"action\",\n",
      "                            \"value\": \"mint\"\n",
      "                        },\n",
      "                        {\n",
      "                            \"key\": \"minter\",\n",
      "                            \"value\": \"bostrom15hzg7eaxgs6ecn46gmu4juc9tau2w45l9cnf8n0797nmmtkdv7jscv88ra\"\n",
      "                        },\n",
      "                        {\n",
      "                            \"key\": \"token_id\",\n",
      "                            \"value\": \"20\"\n",
      "                        }\n",
      "                    ],\n",
      "                    \"type\": \"wasm\"\n",
      "                }\n",
      "            ],\n",
      "            \"log\": \"\",\n",
      "            \"msg_index\": 0\n",
      "        }\n",
      "    ],\n",
      "    \"raw_log\": \"[{\\\"events\\\":[{\\\"type\\\":\\\"cyberlink\\\",\\\"attributes\\\":[{\\\"key\\\":\\\"particleFrom\\\",\\\"value\\\":\\\"Qmb6ckJ1zaYx2htqzsgJSK4D7QRbJesPtaL9zYHq5EVnkg\\\"},{\\\"key\\\":\\\"particleTo\\\",\\\"value\\\":\\\"Qmbf497dHw7PB5FwqcSTYzENkwCBSkvACi96hiZXuKcumm\\\"},{\\\"key\\\":\\\"particleFrom\\\",\\\"value\\\":\\\"Qmbf497dHw7PB5FwqcSTYzENkwCBSkvACi96hiZXuKcumm\\\"},{\\\"key\\\":\\\"particleTo\\\",\\\"value\\\":\\\"Qmb6ckJ1zaYx2htqzsgJSK4D7QRbJesPtaL9zYHq5EVnkg\\\"},{\\\"key\\\":\\\"neuron\\\",\\\"value\\\":\\\"bostrom19zmt9dlz3wzu6jqgr9409el7nvxw66u8n67ta5424kwcg0qf269s6t03zt\\\"},{\\\"key\\\":\\\"particleFrom\\\",\\\"value\\\":\\\"Qmb6ckJ1zaYx2htqzsgJSK4D7QRbJesPtaL9zYHq5EVnkg\\\"},{\\\"key\\\":\\\"particleTo\\\",\\\"value\\\":\\\"QmdftF8AWKtpqoC3MpNmrapVWiumGTdCPXrvYmz8V17ZVv\\\"},{\\\"key\\\":\\\"particleFrom\\\",\\\"value\\\":\\\"QmdftF8AWKtpqoC3MpNmrapVWiumGTdCPXrvYmz8V17ZVv\\\"},{\\\"key\\\":\\\"particleTo\\\",\\\"value\\\":\\\"Qmb6ckJ1zaYx2htqzsgJSK4D7QRbJesPtaL9zYHq5EVnkg\\\"},{\\\"key\\\":\\\"neuron\\\",\\\"value\\\":\\\"bostrom16ulvzd0xp9g6wdhnnhz584ed8xzxm5wkmrsznnzk7qsskegkfutq5djtqs\\\"}]},{\\\"type\\\":\\\"execute\\\",\\\"attributes\\\":[{\\\"key\\\":\\\"_contract_address\\\",\\\"value\\\":\\\"bostrom15hzg7eaxgs6ecn46gmu4juc9tau2w45l9cnf8n0797nmmtkdv7jscv88ra\\\"},{\\\"key\\\":\\\"_contract_address\\\",\\\"value\\\":\\\"bostrom19zmt9dlz3wzu6jqgr9409el7nvxw66u8n67ta5424kwcg0qf269s6t03zt\\\"},{\\\"key\\\":\\\"_contract_address\\\",\\\"value\\\":\\\"bostrom16ulvzd0xp9g6wdhnnhz584ed8xzxm5wkmrsznnzk7qsskegkfutq5djtqs\\\"}]},{\\\"type\\\":\\\"message\\\",\\\"attributes\\\":[{\\\"key\\\":\\\"action\\\",\\\"value\\\":\\\"/cosmwasm.wasm.v1.MsgExecuteContract\\\"},{\\\"key\\\":\\\"module\\\",\\\"value\\\":\\\"wasm\\\"},{\\\"key\\\":\\\"sender\\\",\\\"value\\\":\\\"bostrom135ca8hdpy9sk0ntwqzpzsvatyl48ptx5j359lz\\\"}]},{\\\"type\\\":\\\"reply\\\",\\\"attributes\\\":[{\\\"key\\\":\\\"_contract_address\\\",\\\"value\\\":\\\"bostrom15hzg7eaxgs6ecn46gmu4juc9tau2w45l9cnf8n0797nmmtkdv7jscv88ra\\\"},{\\\"key\\\":\\\"_contract_address\\\",\\\"value\\\":\\\"bostrom15hzg7eaxgs6ecn46gmu4juc9tau2w45l9cnf8n0797nmmtkdv7jscv88ra\\\"}]},{\\\"type\\\":\\\"wasm\\\",\\\"attributes\\\":[{\\\"key\\\":\\\"_contract_address\\\",\\\"value\\\":\\\"bostrom15hzg7eaxgs6ecn46gmu4juc9tau2w45l9cnf8n0797nmmtkdv7jscv88ra\\\"},{\\\"key\\\":\\\"action\\\",\\\"value\\\":\\\"mint\\\"},{\\\"key\\\":\\\"minter\\\",\\\"value\\\":\\\"bostrom15hzg7eaxgs6ecn46gmu4juc9tau2w45l9cnf8n0797nmmtkdv7jscv88ra\\\"},{\\\"key\\\":\\\"token_id\\\",\\\"value\\\":\\\"20\\\"}]}]}]\",\n",
      "    \"timestamp\": \"\",\n",
      "    \"tx\": null,\n",
      "    \"txhash\": \"A9FF237A151EAC1DD44541A828AFB6FEFB12EA5DC43E07C3B9D5DA505597B9ED\"\n",
      "}\n"
     ]
    }
   ],
   "source": [
    "def create_passport(claim_row: pd.Series, display_data: bool = False):\n",
    "    return execute_bash(\n",
    "                f'''REGISTER='{{\"create_passport\":{{\"avatar\":\"{claim_row[\"avatar\"]}\", \"nickname\":\"{claim_row[\"nickname\"]}\"}}}}' \\\n",
    "                    && CONTRACT=\"{passport_contract_address}\" \\\n",
    "                    && cyber tx wasm execute $CONTRACT \"$REGISTER\" --from $WALLET -o json --broadcast-mode block -y --gas=600000 --chain-id={NETWORK} --node={NODE_URL}''',\n",
    "                display_data=display_data)\n",
    "\n",
    "for index, row in tqdm(claims_df.iterrows()):\n",
    "    if index == 0:\n",
    "        create_passport_json, _ = create_passport(row, display_data=True)\n",
    "    else:\n",
    "        create_passport(row)"
   ],
   "metadata": {
    "collapsed": false,
    "pycharm": {
     "name": "#%%\n"
    }
   }
  },
  {
   "cell_type": "code",
   "execution_count": 14,
   "outputs": [
    {
     "name": "stdout",
     "output_type": "stream",
     "text": [
      "\n",
      "cyberlinks\n",
      "\tQmb6ckJ1zaYx2htqzsgJSK4D7QRbJesPtaL9zYHq5EVnkg -> Qmbf497dHw7PB5FwqcSTYzENkwCBSkvACi96hiZXuKcumm\n",
      "\tQmbf497dHw7PB5FwqcSTYzENkwCBSkvACi96hiZXuKcumm -> Qmb6ckJ1zaYx2htqzsgJSK4D7QRbJesPtaL9zYHq5EVnkg\n",
      "\tneuron: Avatar Subspace Contract\n",
      "\n",
      "\tQmb6ckJ1zaYx2htqzsgJSK4D7QRbJesPtaL9zYHq5EVnkg -> QmdftF8AWKtpqoC3MpNmrapVWiumGTdCPXrvYmz8V17ZVv\n",
      "\tQmdftF8AWKtpqoC3MpNmrapVWiumGTdCPXrvYmz8V17ZVv -> Qmb6ckJ1zaYx2htqzsgJSK4D7QRbJesPtaL9zYHq5EVnkg\n",
      "\tneuron: Avatar Subspace Contract\n",
      "\n",
      "\n",
      "execute\n",
      "\texecute contract: Passport Contract\n",
      "\texecute contract: Name Subspace Contract\n",
      "\texecute contract: Avatar Subspace Contract\n",
      "\n",
      "message from Wallet wasm /cosmwasm.wasm.v1.MsgExecuteContract\n",
      "\n",
      "reply\n",
      "\treply contract: Passport Contract\n",
      "\treply contract: Passport Contract\n",
      "\n",
      "wasm\n",
      "\t_contract_address: Passport Contract\n",
      "\taction: mint\n",
      "\tminter: Passport Contract\n",
      "\ttoken_id: 20\n"
     ]
    }
   ],
   "source": [
    "parse_contract_execution_json(create_passport_json)"
   ],
   "metadata": {
    "collapsed": false,
    "pycharm": {
     "name": "#%%\n"
    }
   }
  },
  {
   "cell_type": "markdown",
   "source": [
    "### Proof (Add) Address to Passports"
   ],
   "metadata": {
    "collapsed": false,
    "pycharm": {
     "name": "#%% md\n"
    }
   }
  },
  {
   "cell_type": "code",
   "execution_count": 15,
   "outputs": [
    {
     "data": {
      "text/plain": "0it [00:00, ?it/s]",
      "application/vnd.jupyter.widget-view+json": {
       "version_major": 2,
       "version_minor": 0,
       "model_id": "b1b18c10722845f0ace69b223b5a8438"
      }
     },
     "metadata": {},
     "output_type": "display_data"
    },
    {
     "name": "stdout",
     "output_type": "stream",
     "text": [
      "REGISTER='{\"proof_address\":{\"address\":\"cosmos1za5gkyfz5jp3vhm7lphwgfdvpud87p6mf7xujz\", \"nickname\":\"john16455994800\", \"signature\":\"eyJwdWJfa2V5IjoiQXBwSVZuMm8yMmlyS1UvR1VjaGdNVHR1cnRUOEJRNEt0bWo0YzhWTFFmbEsiLCJzaWduYXR1cmUiOiI5SHE5Mkl3eXFjZCtMSmsxWWZyNjJPc0txSkhxVVBNTi8wRFNSWEpib3dsK2VhQzVTeXBzZHF3K0NUaFVpY0FxZmpJd05kQ1kybGdIcHh5UEo0bGtQZz09In0=\"}}'                 && CONTRACT=\"bostrom15hzg7eaxgs6ecn46gmu4juc9tau2w45l9cnf8n0797nmmtkdv7jscv88ra\"                 && cyber tx wasm execute $CONTRACT \"$REGISTER\" --from $WALLET -o json --broadcast-mode block -y --gas=400000 --chain-id=space-pussy-1 --node=https://rpc.space-pussy-1.cybernode.ai:443\n",
      "{\n",
      "    \"code\": 0,\n",
      "    \"codespace\": \"\",\n",
      "    \"data\": \"0A260A242F636F736D7761736D2E7761736D2E76312E4D736745786563757465436F6E7472616374\",\n",
      "    \"gas_used\": \"276785\",\n",
      "    \"gas_wanted\": \"400000\",\n",
      "    \"height\": \"1426980\",\n",
      "    \"info\": \"\",\n",
      "    \"logs\": [\n",
      "        {\n",
      "            \"events\": [\n",
      "                {\n",
      "                    \"attributes\": [\n",
      "                        {\n",
      "                            \"key\": \"particleFrom\",\n",
      "                            \"value\": \"Qmb6ckJ1zaYx2htqzsgJSK4D7QRbJesPtaL9zYHq5EVnkg\"\n",
      "                        },\n",
      "                        {\n",
      "                            \"key\": \"particleTo\",\n",
      "                            \"value\": \"QmNa3FG9izJXJfBxmbu4R5sR14ii1H5UB7Le9h8EPHmK4W\"\n",
      "                        },\n",
      "                        {\n",
      "                            \"key\": \"particleFrom\",\n",
      "                            \"value\": \"QmNa3FG9izJXJfBxmbu4R5sR14ii1H5UB7Le9h8EPHmK4W\"\n",
      "                        },\n",
      "                        {\n",
      "                            \"key\": \"particleTo\",\n",
      "                            \"value\": \"Qmb6ckJ1zaYx2htqzsgJSK4D7QRbJesPtaL9zYHq5EVnkg\"\n",
      "                        },\n",
      "                        {\n",
      "                            \"key\": \"neuron\",\n",
      "                            \"value\": \"bostrom1ghwwe2nhxjfy7qulgu6zzmghmnjj3rx8xldr8aytghayxlftz6aqxy4c7k\"\n",
      "                        }\n",
      "                    ],\n",
      "                    \"type\": \"cyberlink\"\n",
      "                },\n",
      "                {\n",
      "                    \"attributes\": [\n",
      "                        {\n",
      "                            \"key\": \"_contract_address\",\n",
      "                            \"value\": \"bostrom15hzg7eaxgs6ecn46gmu4juc9tau2w45l9cnf8n0797nmmtkdv7jscv88ra\"\n",
      "                        },\n",
      "                        {\n",
      "                            \"key\": \"_contract_address\",\n",
      "                            \"value\": \"bostrom1ghwwe2nhxjfy7qulgu6zzmghmnjj3rx8xldr8aytghayxlftz6aqxy4c7k\"\n",
      "                        }\n",
      "                    ],\n",
      "                    \"type\": \"execute\"\n",
      "                },\n",
      "                {\n",
      "                    \"attributes\": [\n",
      "                        {\n",
      "                            \"key\": \"action\",\n",
      "                            \"value\": \"/cosmwasm.wasm.v1.MsgExecuteContract\"\n",
      "                        },\n",
      "                        {\n",
      "                            \"key\": \"module\",\n",
      "                            \"value\": \"wasm\"\n",
      "                        },\n",
      "                        {\n",
      "                            \"key\": \"sender\",\n",
      "                            \"value\": \"bostrom135ca8hdpy9sk0ntwqzpzsvatyl48ptx5j359lz\"\n",
      "                        }\n",
      "                    ],\n",
      "                    \"type\": \"message\"\n",
      "                },\n",
      "                {\n",
      "                    \"attributes\": [\n",
      "                        {\n",
      "                            \"key\": \"_contract_address\",\n",
      "                            \"value\": \"bostrom15hzg7eaxgs6ecn46gmu4juc9tau2w45l9cnf8n0797nmmtkdv7jscv88ra\"\n",
      "                        }\n",
      "                    ],\n",
      "                    \"type\": \"reply\"\n",
      "                },\n",
      "                {\n",
      "                    \"attributes\": [\n",
      "                        {\n",
      "                            \"key\": \"_contract_address\",\n",
      "                            \"value\": \"bostrom15hzg7eaxgs6ecn46gmu4juc9tau2w45l9cnf8n0797nmmtkdv7jscv88ra\"\n",
      "                        },\n",
      "                        {\n",
      "                            \"key\": \"action\",\n",
      "                            \"value\": \"proof_address\"\n",
      "                        },\n",
      "                        {\n",
      "                            \"key\": \"nickname\",\n",
      "                            \"value\": \"john16455994800\"\n",
      "                        },\n",
      "                        {\n",
      "                            \"key\": \"address\",\n",
      "                            \"value\": \"cosmos1za5gkyfz5jp3vhm7lphwgfdvpud87p6mf7xujz\"\n",
      "                        }\n",
      "                    ],\n",
      "                    \"type\": \"wasm\"\n",
      "                }\n",
      "            ],\n",
      "            \"log\": \"\",\n",
      "            \"msg_index\": 0\n",
      "        }\n",
      "    ],\n",
      "    \"raw_log\": \"[{\\\"events\\\":[{\\\"type\\\":\\\"cyberlink\\\",\\\"attributes\\\":[{\\\"key\\\":\\\"particleFrom\\\",\\\"value\\\":\\\"Qmb6ckJ1zaYx2htqzsgJSK4D7QRbJesPtaL9zYHq5EVnkg\\\"},{\\\"key\\\":\\\"particleTo\\\",\\\"value\\\":\\\"QmNa3FG9izJXJfBxmbu4R5sR14ii1H5UB7Le9h8EPHmK4W\\\"},{\\\"key\\\":\\\"particleFrom\\\",\\\"value\\\":\\\"QmNa3FG9izJXJfBxmbu4R5sR14ii1H5UB7Le9h8EPHmK4W\\\"},{\\\"key\\\":\\\"particleTo\\\",\\\"value\\\":\\\"Qmb6ckJ1zaYx2htqzsgJSK4D7QRbJesPtaL9zYHq5EVnkg\\\"},{\\\"key\\\":\\\"neuron\\\",\\\"value\\\":\\\"bostrom1ghwwe2nhxjfy7qulgu6zzmghmnjj3rx8xldr8aytghayxlftz6aqxy4c7k\\\"}]},{\\\"type\\\":\\\"execute\\\",\\\"attributes\\\":[{\\\"key\\\":\\\"_contract_address\\\",\\\"value\\\":\\\"bostrom15hzg7eaxgs6ecn46gmu4juc9tau2w45l9cnf8n0797nmmtkdv7jscv88ra\\\"},{\\\"key\\\":\\\"_contract_address\\\",\\\"value\\\":\\\"bostrom1ghwwe2nhxjfy7qulgu6zzmghmnjj3rx8xldr8aytghayxlftz6aqxy4c7k\\\"}]},{\\\"type\\\":\\\"message\\\",\\\"attributes\\\":[{\\\"key\\\":\\\"action\\\",\\\"value\\\":\\\"/cosmwasm.wasm.v1.MsgExecuteContract\\\"},{\\\"key\\\":\\\"module\\\",\\\"value\\\":\\\"wasm\\\"},{\\\"key\\\":\\\"sender\\\",\\\"value\\\":\\\"bostrom135ca8hdpy9sk0ntwqzpzsvatyl48ptx5j359lz\\\"}]},{\\\"type\\\":\\\"reply\\\",\\\"attributes\\\":[{\\\"key\\\":\\\"_contract_address\\\",\\\"value\\\":\\\"bostrom15hzg7eaxgs6ecn46gmu4juc9tau2w45l9cnf8n0797nmmtkdv7jscv88ra\\\"}]},{\\\"type\\\":\\\"wasm\\\",\\\"attributes\\\":[{\\\"key\\\":\\\"_contract_address\\\",\\\"value\\\":\\\"bostrom15hzg7eaxgs6ecn46gmu4juc9tau2w45l9cnf8n0797nmmtkdv7jscv88ra\\\"},{\\\"key\\\":\\\"action\\\",\\\"value\\\":\\\"proof_address\\\"},{\\\"key\\\":\\\"nickname\\\",\\\"value\\\":\\\"john16455994800\\\"},{\\\"key\\\":\\\"address\\\",\\\"value\\\":\\\"cosmos1za5gkyfz5jp3vhm7lphwgfdvpud87p6mf7xujz\\\"}]}]}]\",\n",
      "    \"timestamp\": \"\",\n",
      "    \"tx\": null,\n",
      "    \"txhash\": \"44C7017D0A84195DE29D890EE0468991CC3959AA0C5A91617B8C4414B3FBD22D\"\n",
      "}\n",
      "REGISTER='{\"proof_address\":{\"address\":\"0x9f791bd90b3b3a8f888a1414fba806d7aba85e97\", \"nickname\":\"john16455994801\", \"signature\":\"0x438ad98a4d25cf3780a67e1a55ade66f04a3ac529b1415f2ab2ea59c38ecdd3471dc05dd32a5b4d0f0924dbebc76d1938d9aab6f669a84dc2e95ea14dfdfa3541b\"}}'                 && CONTRACT=\"bostrom15hzg7eaxgs6ecn46gmu4juc9tau2w45l9cnf8n0797nmmtkdv7jscv88ra\"                 && cyber tx wasm execute $CONTRACT \"$REGISTER\" --from $WALLET -o json --broadcast-mode block -y --gas=400000 --chain-id=space-pussy-1 --node=https://rpc.space-pussy-1.cybernode.ai:443\n",
      "{\n",
      "    \"code\": 0,\n",
      "    \"codespace\": \"\",\n",
      "    \"data\": \"0A260A242F636F736D7761736D2E7761736D2E76312E4D736745786563757465436F6E7472616374\",\n",
      "    \"gas_used\": \"274336\",\n",
      "    \"gas_wanted\": \"400000\",\n",
      "    \"height\": \"1426981\",\n",
      "    \"info\": \"\",\n",
      "    \"logs\": [\n",
      "        {\n",
      "            \"events\": [\n",
      "                {\n",
      "                    \"attributes\": [\n",
      "                        {\n",
      "                            \"key\": \"particleFrom\",\n",
      "                            \"value\": \"Qmb6ckJ1zaYx2htqzsgJSK4D7QRbJesPtaL9zYHq5EVnkg\"\n",
      "                        },\n",
      "                        {\n",
      "                            \"key\": \"particleTo\",\n",
      "                            \"value\": \"QmQx7R3FJKfpmS2eJqaygJRz8y5BYNJbT6rkLbka8bYc4d\"\n",
      "                        },\n",
      "                        {\n",
      "                            \"key\": \"particleFrom\",\n",
      "                            \"value\": \"QmQx7R3FJKfpmS2eJqaygJRz8y5BYNJbT6rkLbka8bYc4d\"\n",
      "                        },\n",
      "                        {\n",
      "                            \"key\": \"particleTo\",\n",
      "                            \"value\": \"Qmb6ckJ1zaYx2htqzsgJSK4D7QRbJesPtaL9zYHq5EVnkg\"\n",
      "                        },\n",
      "                        {\n",
      "                            \"key\": \"neuron\",\n",
      "                            \"value\": \"bostrom1ghwwe2nhxjfy7qulgu6zzmghmnjj3rx8xldr8aytghayxlftz6aqxy4c7k\"\n",
      "                        }\n",
      "                    ],\n",
      "                    \"type\": \"cyberlink\"\n",
      "                },\n",
      "                {\n",
      "                    \"attributes\": [\n",
      "                        {\n",
      "                            \"key\": \"_contract_address\",\n",
      "                            \"value\": \"bostrom15hzg7eaxgs6ecn46gmu4juc9tau2w45l9cnf8n0797nmmtkdv7jscv88ra\"\n",
      "                        },\n",
      "                        {\n",
      "                            \"key\": \"_contract_address\",\n",
      "                            \"value\": \"bostrom1ghwwe2nhxjfy7qulgu6zzmghmnjj3rx8xldr8aytghayxlftz6aqxy4c7k\"\n",
      "                        }\n",
      "                    ],\n",
      "                    \"type\": \"execute\"\n",
      "                },\n",
      "                {\n",
      "                    \"attributes\": [\n",
      "                        {\n",
      "                            \"key\": \"action\",\n",
      "                            \"value\": \"/cosmwasm.wasm.v1.MsgExecuteContract\"\n",
      "                        },\n",
      "                        {\n",
      "                            \"key\": \"module\",\n",
      "                            \"value\": \"wasm\"\n",
      "                        },\n",
      "                        {\n",
      "                            \"key\": \"sender\",\n",
      "                            \"value\": \"bostrom135ca8hdpy9sk0ntwqzpzsvatyl48ptx5j359lz\"\n",
      "                        }\n",
      "                    ],\n",
      "                    \"type\": \"message\"\n",
      "                },\n",
      "                {\n",
      "                    \"attributes\": [\n",
      "                        {\n",
      "                            \"key\": \"_contract_address\",\n",
      "                            \"value\": \"bostrom15hzg7eaxgs6ecn46gmu4juc9tau2w45l9cnf8n0797nmmtkdv7jscv88ra\"\n",
      "                        }\n",
      "                    ],\n",
      "                    \"type\": \"reply\"\n",
      "                },\n",
      "                {\n",
      "                    \"attributes\": [\n",
      "                        {\n",
      "                            \"key\": \"_contract_address\",\n",
      "                            \"value\": \"bostrom15hzg7eaxgs6ecn46gmu4juc9tau2w45l9cnf8n0797nmmtkdv7jscv88ra\"\n",
      "                        },\n",
      "                        {\n",
      "                            \"key\": \"action\",\n",
      "                            \"value\": \"proof_address\"\n",
      "                        },\n",
      "                        {\n",
      "                            \"key\": \"nickname\",\n",
      "                            \"value\": \"john16455994801\"\n",
      "                        },\n",
      "                        {\n",
      "                            \"key\": \"address\",\n",
      "                            \"value\": \"0x9f791bd90b3b3a8f888a1414fba806d7aba85e97\"\n",
      "                        }\n",
      "                    ],\n",
      "                    \"type\": \"wasm\"\n",
      "                }\n",
      "            ],\n",
      "            \"log\": \"\",\n",
      "            \"msg_index\": 0\n",
      "        }\n",
      "    ],\n",
      "    \"raw_log\": \"[{\\\"events\\\":[{\\\"type\\\":\\\"cyberlink\\\",\\\"attributes\\\":[{\\\"key\\\":\\\"particleFrom\\\",\\\"value\\\":\\\"Qmb6ckJ1zaYx2htqzsgJSK4D7QRbJesPtaL9zYHq5EVnkg\\\"},{\\\"key\\\":\\\"particleTo\\\",\\\"value\\\":\\\"QmQx7R3FJKfpmS2eJqaygJRz8y5BYNJbT6rkLbka8bYc4d\\\"},{\\\"key\\\":\\\"particleFrom\\\",\\\"value\\\":\\\"QmQx7R3FJKfpmS2eJqaygJRz8y5BYNJbT6rkLbka8bYc4d\\\"},{\\\"key\\\":\\\"particleTo\\\",\\\"value\\\":\\\"Qmb6ckJ1zaYx2htqzsgJSK4D7QRbJesPtaL9zYHq5EVnkg\\\"},{\\\"key\\\":\\\"neuron\\\",\\\"value\\\":\\\"bostrom1ghwwe2nhxjfy7qulgu6zzmghmnjj3rx8xldr8aytghayxlftz6aqxy4c7k\\\"}]},{\\\"type\\\":\\\"execute\\\",\\\"attributes\\\":[{\\\"key\\\":\\\"_contract_address\\\",\\\"value\\\":\\\"bostrom15hzg7eaxgs6ecn46gmu4juc9tau2w45l9cnf8n0797nmmtkdv7jscv88ra\\\"},{\\\"key\\\":\\\"_contract_address\\\",\\\"value\\\":\\\"bostrom1ghwwe2nhxjfy7qulgu6zzmghmnjj3rx8xldr8aytghayxlftz6aqxy4c7k\\\"}]},{\\\"type\\\":\\\"message\\\",\\\"attributes\\\":[{\\\"key\\\":\\\"action\\\",\\\"value\\\":\\\"/cosmwasm.wasm.v1.MsgExecuteContract\\\"},{\\\"key\\\":\\\"module\\\",\\\"value\\\":\\\"wasm\\\"},{\\\"key\\\":\\\"sender\\\",\\\"value\\\":\\\"bostrom135ca8hdpy9sk0ntwqzpzsvatyl48ptx5j359lz\\\"}]},{\\\"type\\\":\\\"reply\\\",\\\"attributes\\\":[{\\\"key\\\":\\\"_contract_address\\\",\\\"value\\\":\\\"bostrom15hzg7eaxgs6ecn46gmu4juc9tau2w45l9cnf8n0797nmmtkdv7jscv88ra\\\"}]},{\\\"type\\\":\\\"wasm\\\",\\\"attributes\\\":[{\\\"key\\\":\\\"_contract_address\\\",\\\"value\\\":\\\"bostrom15hzg7eaxgs6ecn46gmu4juc9tau2w45l9cnf8n0797nmmtkdv7jscv88ra\\\"},{\\\"key\\\":\\\"action\\\",\\\"value\\\":\\\"proof_address\\\"},{\\\"key\\\":\\\"nickname\\\",\\\"value\\\":\\\"john16455994801\\\"},{\\\"key\\\":\\\"address\\\",\\\"value\\\":\\\"0x9f791bd90b3b3a8f888a1414fba806d7aba85e97\\\"}]}]}]\",\n",
      "    \"timestamp\": \"\",\n",
      "    \"tx\": null,\n",
      "    \"txhash\": \"F94BB502F3CD3312158CF573E3E7DDDFABC3676BF2E57AECE39761C1B91E65C6\"\n",
      "}\n",
      "REGISTER='{\"proof_address\":{\"address\":\"cosmos120gnxgzj9hv53meq7h24jkgtfw8w2lh47a4ejx\", \"nickname\":\"john16455994801\", \"signature\":\"eyJwdWJfa2V5IjoiQXFobWxhY3p4dHFEYUJIQmpoaHRZUzVBeWNaQnFuZlJHMXRDcVMwRDcwRUciLCJzaWduYXR1cmUiOiJzVVpCeVE5emorblh3UFdNdS9IVXdvL1Fid01ybnIwMUhtZzYzVHA4bytwdWc5c0gxWEFuSE9oR0hIaDRENjRnNVpIZXJDNkRZQUJuMStaYmlWZ1FOZz09In0=\"}}'                 && CONTRACT=\"bostrom15hzg7eaxgs6ecn46gmu4juc9tau2w45l9cnf8n0797nmmtkdv7jscv88ra\"                 && cyber tx wasm execute $CONTRACT \"$REGISTER\" --from $WALLET -o json --broadcast-mode block -y --gas=400000 --chain-id=space-pussy-1 --node=https://rpc.space-pussy-1.cybernode.ai:443\n",
      "{\n",
      "    \"code\": 0,\n",
      "    \"codespace\": \"\",\n",
      "    \"data\": \"0A260A242F636F736D7761736D2E7761736D2E76312E4D736745786563757465436F6E7472616374\",\n",
      "    \"gas_used\": \"276785\",\n",
      "    \"gas_wanted\": \"400000\",\n",
      "    \"height\": \"1426982\",\n",
      "    \"info\": \"\",\n",
      "    \"logs\": [\n",
      "        {\n",
      "            \"events\": [\n",
      "                {\n",
      "                    \"attributes\": [\n",
      "                        {\n",
      "                            \"key\": \"particleFrom\",\n",
      "                            \"value\": \"Qmb6ckJ1zaYx2htqzsgJSK4D7QRbJesPtaL9zYHq5EVnkg\"\n",
      "                        },\n",
      "                        {\n",
      "                            \"key\": \"particleTo\",\n",
      "                            \"value\": \"Qma4MTYZ9wQoRGUREU8ukrZkqrMVhYdStHKPwbSnDbtGqV\"\n",
      "                        },\n",
      "                        {\n",
      "                            \"key\": \"particleFrom\",\n",
      "                            \"value\": \"Qma4MTYZ9wQoRGUREU8ukrZkqrMVhYdStHKPwbSnDbtGqV\"\n",
      "                        },\n",
      "                        {\n",
      "                            \"key\": \"particleTo\",\n",
      "                            \"value\": \"Qmb6ckJ1zaYx2htqzsgJSK4D7QRbJesPtaL9zYHq5EVnkg\"\n",
      "                        },\n",
      "                        {\n",
      "                            \"key\": \"neuron\",\n",
      "                            \"value\": \"bostrom1ghwwe2nhxjfy7qulgu6zzmghmnjj3rx8xldr8aytghayxlftz6aqxy4c7k\"\n",
      "                        }\n",
      "                    ],\n",
      "                    \"type\": \"cyberlink\"\n",
      "                },\n",
      "                {\n",
      "                    \"attributes\": [\n",
      "                        {\n",
      "                            \"key\": \"_contract_address\",\n",
      "                            \"value\": \"bostrom15hzg7eaxgs6ecn46gmu4juc9tau2w45l9cnf8n0797nmmtkdv7jscv88ra\"\n",
      "                        },\n",
      "                        {\n",
      "                            \"key\": \"_contract_address\",\n",
      "                            \"value\": \"bostrom1ghwwe2nhxjfy7qulgu6zzmghmnjj3rx8xldr8aytghayxlftz6aqxy4c7k\"\n",
      "                        }\n",
      "                    ],\n",
      "                    \"type\": \"execute\"\n",
      "                },\n",
      "                {\n",
      "                    \"attributes\": [\n",
      "                        {\n",
      "                            \"key\": \"action\",\n",
      "                            \"value\": \"/cosmwasm.wasm.v1.MsgExecuteContract\"\n",
      "                        },\n",
      "                        {\n",
      "                            \"key\": \"module\",\n",
      "                            \"value\": \"wasm\"\n",
      "                        },\n",
      "                        {\n",
      "                            \"key\": \"sender\",\n",
      "                            \"value\": \"bostrom135ca8hdpy9sk0ntwqzpzsvatyl48ptx5j359lz\"\n",
      "                        }\n",
      "                    ],\n",
      "                    \"type\": \"message\"\n",
      "                },\n",
      "                {\n",
      "                    \"attributes\": [\n",
      "                        {\n",
      "                            \"key\": \"_contract_address\",\n",
      "                            \"value\": \"bostrom15hzg7eaxgs6ecn46gmu4juc9tau2w45l9cnf8n0797nmmtkdv7jscv88ra\"\n",
      "                        }\n",
      "                    ],\n",
      "                    \"type\": \"reply\"\n",
      "                },\n",
      "                {\n",
      "                    \"attributes\": [\n",
      "                        {\n",
      "                            \"key\": \"_contract_address\",\n",
      "                            \"value\": \"bostrom15hzg7eaxgs6ecn46gmu4juc9tau2w45l9cnf8n0797nmmtkdv7jscv88ra\"\n",
      "                        },\n",
      "                        {\n",
      "                            \"key\": \"action\",\n",
      "                            \"value\": \"proof_address\"\n",
      "                        },\n",
      "                        {\n",
      "                            \"key\": \"nickname\",\n",
      "                            \"value\": \"john16455994801\"\n",
      "                        },\n",
      "                        {\n",
      "                            \"key\": \"address\",\n",
      "                            \"value\": \"cosmos120gnxgzj9hv53meq7h24jkgtfw8w2lh47a4ejx\"\n",
      "                        }\n",
      "                    ],\n",
      "                    \"type\": \"wasm\"\n",
      "                }\n",
      "            ],\n",
      "            \"log\": \"\",\n",
      "            \"msg_index\": 0\n",
      "        }\n",
      "    ],\n",
      "    \"raw_log\": \"[{\\\"events\\\":[{\\\"type\\\":\\\"cyberlink\\\",\\\"attributes\\\":[{\\\"key\\\":\\\"particleFrom\\\",\\\"value\\\":\\\"Qmb6ckJ1zaYx2htqzsgJSK4D7QRbJesPtaL9zYHq5EVnkg\\\"},{\\\"key\\\":\\\"particleTo\\\",\\\"value\\\":\\\"Qma4MTYZ9wQoRGUREU8ukrZkqrMVhYdStHKPwbSnDbtGqV\\\"},{\\\"key\\\":\\\"particleFrom\\\",\\\"value\\\":\\\"Qma4MTYZ9wQoRGUREU8ukrZkqrMVhYdStHKPwbSnDbtGqV\\\"},{\\\"key\\\":\\\"particleTo\\\",\\\"value\\\":\\\"Qmb6ckJ1zaYx2htqzsgJSK4D7QRbJesPtaL9zYHq5EVnkg\\\"},{\\\"key\\\":\\\"neuron\\\",\\\"value\\\":\\\"bostrom1ghwwe2nhxjfy7qulgu6zzmghmnjj3rx8xldr8aytghayxlftz6aqxy4c7k\\\"}]},{\\\"type\\\":\\\"execute\\\",\\\"attributes\\\":[{\\\"key\\\":\\\"_contract_address\\\",\\\"value\\\":\\\"bostrom15hzg7eaxgs6ecn46gmu4juc9tau2w45l9cnf8n0797nmmtkdv7jscv88ra\\\"},{\\\"key\\\":\\\"_contract_address\\\",\\\"value\\\":\\\"bostrom1ghwwe2nhxjfy7qulgu6zzmghmnjj3rx8xldr8aytghayxlftz6aqxy4c7k\\\"}]},{\\\"type\\\":\\\"message\\\",\\\"attributes\\\":[{\\\"key\\\":\\\"action\\\",\\\"value\\\":\\\"/cosmwasm.wasm.v1.MsgExecuteContract\\\"},{\\\"key\\\":\\\"module\\\",\\\"value\\\":\\\"wasm\\\"},{\\\"key\\\":\\\"sender\\\",\\\"value\\\":\\\"bostrom135ca8hdpy9sk0ntwqzpzsvatyl48ptx5j359lz\\\"}]},{\\\"type\\\":\\\"reply\\\",\\\"attributes\\\":[{\\\"key\\\":\\\"_contract_address\\\",\\\"value\\\":\\\"bostrom15hzg7eaxgs6ecn46gmu4juc9tau2w45l9cnf8n0797nmmtkdv7jscv88ra\\\"}]},{\\\"type\\\":\\\"wasm\\\",\\\"attributes\\\":[{\\\"key\\\":\\\"_contract_address\\\",\\\"value\\\":\\\"bostrom15hzg7eaxgs6ecn46gmu4juc9tau2w45l9cnf8n0797nmmtkdv7jscv88ra\\\"},{\\\"key\\\":\\\"action\\\",\\\"value\\\":\\\"proof_address\\\"},{\\\"key\\\":\\\"nickname\\\",\\\"value\\\":\\\"john16455994801\\\"},{\\\"key\\\":\\\"address\\\",\\\"value\\\":\\\"cosmos120gnxgzj9hv53meq7h24jkgtfw8w2lh47a4ejx\\\"}]}]}]\",\n",
      "    \"timestamp\": \"\",\n",
      "    \"tx\": null,\n",
      "    \"txhash\": \"00AF6F1C5A5B966B422BE8B66000F7DEEEA1951314EF45062832B3F94057EB57\"\n",
      "}\n"
     ]
    }
   ],
   "source": [
    "def proof_address(claim_row: pd.Series, network: str = 'ethereum', display_data: bool = False):\n",
    "    return execute_bash(\n",
    "            f'''REGISTER='{{\"proof_address\":{{\"address\":\"{claim_row[network + \"_address\"]}\", \"nickname\":\"{claim_row[\"nickname\"]}\", \"signature\":\"{claim_row[network + \"_message_signature\"]}\"}}}}' \\\n",
    "                && CONTRACT=\"{passport_contract_address}\" \\\n",
    "                && cyber tx wasm execute $CONTRACT \"$REGISTER\" --from $WALLET -o json --broadcast-mode block -y --gas=400000 --chain-id={NETWORK} --node={NODE_URL}''',\n",
    "            display_data=display_data)\n",
    "\n",
    "for index, row in tqdm(claims_df.iterrows()):\n",
    "    if index == 1:\n",
    "        proof_ethereum_address_json, _ = proof_address(row, display_data=True)\n",
    "        proof_cosmos_address_json, _ = proof_address(row, network='cosmos', display_data=True)\n",
    "    else:\n",
    "        proof_address(row)\n",
    "        proof_address(row, network='cosmos', display_data=True)"
   ],
   "metadata": {
    "collapsed": false,
    "pycharm": {
     "name": "#%%\n"
    }
   }
  },
  {
   "cell_type": "code",
   "execution_count": 16,
   "outputs": [
    {
     "name": "stdout",
     "output_type": "stream",
     "text": [
      "\n",
      "cyberlinks\n",
      "\tQmb6ckJ1zaYx2htqzsgJSK4D7QRbJesPtaL9zYHq5EVnkg -> QmQx7R3FJKfpmS2eJqaygJRz8y5BYNJbT6rkLbka8bYc4d\n",
      "\tQmQx7R3FJKfpmS2eJqaygJRz8y5BYNJbT6rkLbka8bYc4d -> Qmb6ckJ1zaYx2htqzsgJSK4D7QRbJesPtaL9zYHq5EVnkg\n",
      "\tneuron: Proof Subspace Contract\n",
      "\n",
      "\n",
      "execute\n",
      "\texecute contract: Passport Contract\n",
      "\texecute contract: Proof Subspace Contract\n",
      "\n",
      "message from Wallet wasm /cosmwasm.wasm.v1.MsgExecuteContract\n",
      "\n",
      "reply\n",
      "\treply contract: Passport Contract\n",
      "\n",
      "wasm\n",
      "\t_contract_address: Passport Contract\n",
      "\taction: proof_address\n",
      "\tnickname: john16455994801\n",
      "\taddress: 0x9f791bd90b3b3a8f888a1414fba806d7aba85e97\n"
     ]
    }
   ],
   "source": [
    "parse_contract_execution_json(proof_ethereum_address_json)"
   ],
   "metadata": {
    "collapsed": false,
    "pycharm": {
     "name": "#%%\n"
    }
   }
  },
  {
   "cell_type": "code",
   "execution_count": 17,
   "outputs": [
    {
     "name": "stdout",
     "output_type": "stream",
     "text": [
      "\n",
      "cyberlinks\n",
      "\tQmb6ckJ1zaYx2htqzsgJSK4D7QRbJesPtaL9zYHq5EVnkg -> Qma4MTYZ9wQoRGUREU8ukrZkqrMVhYdStHKPwbSnDbtGqV\n",
      "\tQma4MTYZ9wQoRGUREU8ukrZkqrMVhYdStHKPwbSnDbtGqV -> Qmb6ckJ1zaYx2htqzsgJSK4D7QRbJesPtaL9zYHq5EVnkg\n",
      "\tneuron: Proof Subspace Contract\n",
      "\n",
      "\n",
      "execute\n",
      "\texecute contract: Passport Contract\n",
      "\texecute contract: Proof Subspace Contract\n",
      "\n",
      "message from Wallet wasm /cosmwasm.wasm.v1.MsgExecuteContract\n",
      "\n",
      "reply\n",
      "\treply contract: Passport Contract\n",
      "\n",
      "wasm\n",
      "\t_contract_address: Passport Contract\n",
      "\taction: proof_address\n",
      "\tnickname: john16455994801\n",
      "\taddress: cosmos120gnxgzj9hv53meq7h24jkgtfw8w2lh47a4ejx\n"
     ]
    }
   ],
   "source": [
    "parse_contract_execution_json(proof_cosmos_address_json)"
   ],
   "metadata": {
    "collapsed": false,
    "pycharm": {
     "name": "#%%\n"
    }
   }
  },
  {
   "cell_type": "markdown",
   "source": [
    "### Generate Proofs and Claim"
   ],
   "metadata": {
    "collapsed": false,
    "pycharm": {
     "name": "#%% md\n"
    }
   }
  },
  {
   "cell_type": "code",
   "execution_count": 18,
   "outputs": [
    {
     "data": {
      "text/plain": "0it [00:00, ?it/s]",
      "application/vnd.jupyter.widget-view+json": {
       "version_major": 2,
       "version_minor": 0,
       "model_id": "61d8bf35ef7e44a981bec566d4cc1566"
      }
     },
     "metadata": {},
     "output_type": "display_data"
    },
    {
     "name": "stdout",
     "output_type": "stream",
     "text": [
      "merkle-airdrop-cli generateProofs --file root_testing_source_2_addresses.json --address 0x4608e844331df74ca530e0b8cbb80057a8e8818a --amount 10000000\n",
      "b\"[\\n  '39203b498080d6acaf9b0973185ff5533bd0bf4609063fac1ea33231d373e19c',\\n  'd8338b0fb1d0e60e588200344cde167a9fa1fe6fcd60507811d91c276b335244'\\n]\\n\"\n",
      "CLAIM='{\"claim\":{\"nickname\":\"john16455994800\", \"gift_claiming_address\":\"0x4608e844331df74ca530e0b8cbb80057a8e8818a\", \"gift_amount\":\"10000000\", \"proof\":[\"39203b498080d6acaf9b0973185ff5533bd0bf4609063fac1ea33231d373e19c\",\"d8338b0fb1d0e60e588200344cde167a9fa1fe6fcd60507811d91c276b335244\"]}}'                     && cyber tx wasm execute bostrom1xj68jgjr6u02njplhmkl2f4gg58uueayfrn99x2png87jpsvwx0sk58jjv \"$CLAIM\" --from $WALLET -o json --broadcast-mode block -y --gas 400000 --chain-id=space-pussy-1 --node=https://rpc.space-pussy-1.cybernode.ai:443\n",
      "{\n",
      "    \"code\": 0,\n",
      "    \"codespace\": \"\",\n",
      "    \"data\": \"0A260A242F636F736D7761736D2E7761736D2E76312E4D736745786563757465436F6E7472616374\",\n",
      "    \"gas_used\": \"308120\",\n",
      "    \"gas_wanted\": \"400000\",\n",
      "    \"height\": \"1426983\",\n",
      "    \"info\": \"\",\n",
      "    \"logs\": [\n",
      "        {\n",
      "            \"events\": [\n",
      "                {\n",
      "                    \"attributes\": [\n",
      "                        {\n",
      "                            \"key\": \"receiver\",\n",
      "                            \"value\": \"bostrom135ca8hdpy9sk0ntwqzpzsvatyl48ptx5j359lz\"\n",
      "                        },\n",
      "                        {\n",
      "                            \"key\": \"amount\",\n",
      "                            \"value\": \"100000boot\"\n",
      "                        }\n",
      "                    ],\n",
      "                    \"type\": \"coin_received\"\n",
      "                },\n",
      "                {\n",
      "                    \"attributes\": [\n",
      "                        {\n",
      "                            \"key\": \"spender\",\n",
      "                            \"value\": \"bostrom1xj68jgjr6u02njplhmkl2f4gg58uueayfrn99x2png87jpsvwx0sk58jjv\"\n",
      "                        },\n",
      "                        {\n",
      "                            \"key\": \"amount\",\n",
      "                            \"value\": \"100000boot\"\n",
      "                        }\n",
      "                    ],\n",
      "                    \"type\": \"coin_spent\"\n",
      "                },\n",
      "                {\n",
      "                    \"attributes\": [\n",
      "                        {\n",
      "                            \"key\": \"_contract_address\",\n",
      "                            \"value\": \"bostrom1xj68jgjr6u02njplhmkl2f4gg58uueayfrn99x2png87jpsvwx0sk58jjv\"\n",
      "                        }\n",
      "                    ],\n",
      "                    \"type\": \"execute\"\n",
      "                },\n",
      "                {\n",
      "                    \"attributes\": [\n",
      "                        {\n",
      "                            \"key\": \"action\",\n",
      "                            \"value\": \"/cosmwasm.wasm.v1.MsgExecuteContract\"\n",
      "                        },\n",
      "                        {\n",
      "                            \"key\": \"module\",\n",
      "                            \"value\": \"wasm\"\n",
      "                        },\n",
      "                        {\n",
      "                            \"key\": \"sender\",\n",
      "                            \"value\": \"bostrom135ca8hdpy9sk0ntwqzpzsvatyl48ptx5j359lz\"\n",
      "                        }\n",
      "                    ],\n",
      "                    \"type\": \"message\"\n",
      "                },\n",
      "                {\n",
      "                    \"attributes\": [\n",
      "                        {\n",
      "                            \"key\": \"recipient\",\n",
      "                            \"value\": \"bostrom135ca8hdpy9sk0ntwqzpzsvatyl48ptx5j359lz\"\n",
      "                        },\n",
      "                        {\n",
      "                            \"key\": \"sender\",\n",
      "                            \"value\": \"bostrom1xj68jgjr6u02njplhmkl2f4gg58uueayfrn99x2png87jpsvwx0sk58jjv\"\n",
      "                        },\n",
      "                        {\n",
      "                            \"key\": \"amount\",\n",
      "                            \"value\": \"100000boot\"\n",
      "                        }\n",
      "                    ],\n",
      "                    \"type\": \"transfer\"\n",
      "                },\n",
      "                {\n",
      "                    \"attributes\": [\n",
      "                        {\n",
      "                            \"key\": \"_contract_address\",\n",
      "                            \"value\": \"bostrom1xj68jgjr6u02njplhmkl2f4gg58uueayfrn99x2png87jpsvwx0sk58jjv\"\n",
      "                        },\n",
      "                        {\n",
      "                            \"key\": \"action\",\n",
      "                            \"value\": \"claim\"\n",
      "                        },\n",
      "                        {\n",
      "                            \"key\": \"original\",\n",
      "                            \"value\": \"0x4608e844331df74ca530e0b8cbb80057a8e8818a\"\n",
      "                        },\n",
      "                        {\n",
      "                            \"key\": \"target\",\n",
      "                            \"value\": \"bostrom135ca8hdpy9sk0ntwqzpzsvatyl48ptx5j359lz\"\n",
      "                        },\n",
      "                        {\n",
      "                            \"key\": \"amount\",\n",
      "                            \"value\": \"200000000\"\n",
      "                        }\n",
      "                    ],\n",
      "                    \"type\": \"wasm\"\n",
      "                }\n",
      "            ],\n",
      "            \"log\": \"\",\n",
      "            \"msg_index\": 0\n",
      "        }\n",
      "    ],\n",
      "    \"raw_log\": \"[{\\\"events\\\":[{\\\"type\\\":\\\"coin_received\\\",\\\"attributes\\\":[{\\\"key\\\":\\\"receiver\\\",\\\"value\\\":\\\"bostrom135ca8hdpy9sk0ntwqzpzsvatyl48ptx5j359lz\\\"},{\\\"key\\\":\\\"amount\\\",\\\"value\\\":\\\"100000boot\\\"}]},{\\\"type\\\":\\\"coin_spent\\\",\\\"attributes\\\":[{\\\"key\\\":\\\"spender\\\",\\\"value\\\":\\\"bostrom1xj68jgjr6u02njplhmkl2f4gg58uueayfrn99x2png87jpsvwx0sk58jjv\\\"},{\\\"key\\\":\\\"amount\\\",\\\"value\\\":\\\"100000boot\\\"}]},{\\\"type\\\":\\\"execute\\\",\\\"attributes\\\":[{\\\"key\\\":\\\"_contract_address\\\",\\\"value\\\":\\\"bostrom1xj68jgjr6u02njplhmkl2f4gg58uueayfrn99x2png87jpsvwx0sk58jjv\\\"}]},{\\\"type\\\":\\\"message\\\",\\\"attributes\\\":[{\\\"key\\\":\\\"action\\\",\\\"value\\\":\\\"/cosmwasm.wasm.v1.MsgExecuteContract\\\"},{\\\"key\\\":\\\"module\\\",\\\"value\\\":\\\"wasm\\\"},{\\\"key\\\":\\\"sender\\\",\\\"value\\\":\\\"bostrom135ca8hdpy9sk0ntwqzpzsvatyl48ptx5j359lz\\\"}]},{\\\"type\\\":\\\"transfer\\\",\\\"attributes\\\":[{\\\"key\\\":\\\"recipient\\\",\\\"value\\\":\\\"bostrom135ca8hdpy9sk0ntwqzpzsvatyl48ptx5j359lz\\\"},{\\\"key\\\":\\\"sender\\\",\\\"value\\\":\\\"bostrom1xj68jgjr6u02njplhmkl2f4gg58uueayfrn99x2png87jpsvwx0sk58jjv\\\"},{\\\"key\\\":\\\"amount\\\",\\\"value\\\":\\\"100000boot\\\"}]},{\\\"type\\\":\\\"wasm\\\",\\\"attributes\\\":[{\\\"key\\\":\\\"_contract_address\\\",\\\"value\\\":\\\"bostrom1xj68jgjr6u02njplhmkl2f4gg58uueayfrn99x2png87jpsvwx0sk58jjv\\\"},{\\\"key\\\":\\\"action\\\",\\\"value\\\":\\\"claim\\\"},{\\\"key\\\":\\\"original\\\",\\\"value\\\":\\\"0x4608e844331df74ca530e0b8cbb80057a8e8818a\\\"},{\\\"key\\\":\\\"target\\\",\\\"value\\\":\\\"bostrom135ca8hdpy9sk0ntwqzpzsvatyl48ptx5j359lz\\\"},{\\\"key\\\":\\\"amount\\\",\\\"value\\\":\\\"200000000\\\"}]}]}]\",\n",
      "    \"timestamp\": \"\",\n",
      "    \"tx\": null,\n",
      "    \"txhash\": \"479A0AC63A33C7D88F8F427F90F289F359AAEA3D58C68DC06DB4E337D194D3F1\"\n",
      "}\n",
      "merkle-airdrop-cli generateProofs --file root_testing_source_2_addresses.json --address cosmos1za5gkyfz5jp3vhm7lphwgfdvpud87p6mf7xujz --amount 10000000\n",
      "b\"[\\n  '18806720ae2b9cc5497793a4251a77ab58e5dadfa702ead125f4ecc6113fab34',\\n  'd8338b0fb1d0e60e588200344cde167a9fa1fe6fcd60507811d91c276b335244'\\n]\\n\"\n",
      "CLAIM='{\"claim\":{\"nickname\":\"john16455994800\", \"gift_claiming_address\":\"cosmos1za5gkyfz5jp3vhm7lphwgfdvpud87p6mf7xujz\", \"gift_amount\":\"10000000\", \"proof\":[\"18806720ae2b9cc5497793a4251a77ab58e5dadfa702ead125f4ecc6113fab34\",\"d8338b0fb1d0e60e588200344cde167a9fa1fe6fcd60507811d91c276b335244\"]}}'                     && cyber tx wasm execute bostrom1xj68jgjr6u02njplhmkl2f4gg58uueayfrn99x2png87jpsvwx0sk58jjv \"$CLAIM\" --from $WALLET -o json --broadcast-mode block -y --gas 400000 --chain-id=space-pussy-1 --node=https://rpc.space-pussy-1.cybernode.ai:443\n",
      "{\n",
      "    \"code\": 0,\n",
      "    \"codespace\": \"\",\n",
      "    \"data\": \"0A260A242F636F736D7761736D2E7761736D2E76312E4D736745786563757465436F6E7472616374\",\n",
      "    \"gas_used\": \"308185\",\n",
      "    \"gas_wanted\": \"400000\",\n",
      "    \"height\": \"1426984\",\n",
      "    \"info\": \"\",\n",
      "    \"logs\": [\n",
      "        {\n",
      "            \"events\": [\n",
      "                {\n",
      "                    \"attributes\": [\n",
      "                        {\n",
      "                            \"key\": \"receiver\",\n",
      "                            \"value\": \"bostrom135ca8hdpy9sk0ntwqzpzsvatyl48ptx5j359lz\"\n",
      "                        },\n",
      "                        {\n",
      "                            \"key\": \"amount\",\n",
      "                            \"value\": \"100000boot\"\n",
      "                        }\n",
      "                    ],\n",
      "                    \"type\": \"coin_received\"\n",
      "                },\n",
      "                {\n",
      "                    \"attributes\": [\n",
      "                        {\n",
      "                            \"key\": \"spender\",\n",
      "                            \"value\": \"bostrom1xj68jgjr6u02njplhmkl2f4gg58uueayfrn99x2png87jpsvwx0sk58jjv\"\n",
      "                        },\n",
      "                        {\n",
      "                            \"key\": \"amount\",\n",
      "                            \"value\": \"100000boot\"\n",
      "                        }\n",
      "                    ],\n",
      "                    \"type\": \"coin_spent\"\n",
      "                },\n",
      "                {\n",
      "                    \"attributes\": [\n",
      "                        {\n",
      "                            \"key\": \"_contract_address\",\n",
      "                            \"value\": \"bostrom1xj68jgjr6u02njplhmkl2f4gg58uueayfrn99x2png87jpsvwx0sk58jjv\"\n",
      "                        }\n",
      "                    ],\n",
      "                    \"type\": \"execute\"\n",
      "                },\n",
      "                {\n",
      "                    \"attributes\": [\n",
      "                        {\n",
      "                            \"key\": \"action\",\n",
      "                            \"value\": \"/cosmwasm.wasm.v1.MsgExecuteContract\"\n",
      "                        },\n",
      "                        {\n",
      "                            \"key\": \"module\",\n",
      "                            \"value\": \"wasm\"\n",
      "                        },\n",
      "                        {\n",
      "                            \"key\": \"sender\",\n",
      "                            \"value\": \"bostrom135ca8hdpy9sk0ntwqzpzsvatyl48ptx5j359lz\"\n",
      "                        }\n",
      "                    ],\n",
      "                    \"type\": \"message\"\n",
      "                },\n",
      "                {\n",
      "                    \"attributes\": [\n",
      "                        {\n",
      "                            \"key\": \"recipient\",\n",
      "                            \"value\": \"bostrom135ca8hdpy9sk0ntwqzpzsvatyl48ptx5j359lz\"\n",
      "                        },\n",
      "                        {\n",
      "                            \"key\": \"sender\",\n",
      "                            \"value\": \"bostrom1xj68jgjr6u02njplhmkl2f4gg58uueayfrn99x2png87jpsvwx0sk58jjv\"\n",
      "                        },\n",
      "                        {\n",
      "                            \"key\": \"amount\",\n",
      "                            \"value\": \"100000boot\"\n",
      "                        }\n",
      "                    ],\n",
      "                    \"type\": \"transfer\"\n",
      "                },\n",
      "                {\n",
      "                    \"attributes\": [\n",
      "                        {\n",
      "                            \"key\": \"_contract_address\",\n",
      "                            \"value\": \"bostrom1xj68jgjr6u02njplhmkl2f4gg58uueayfrn99x2png87jpsvwx0sk58jjv\"\n",
      "                        },\n",
      "                        {\n",
      "                            \"key\": \"action\",\n",
      "                            \"value\": \"claim\"\n",
      "                        },\n",
      "                        {\n",
      "                            \"key\": \"original\",\n",
      "                            \"value\": \"cosmos1za5gkyfz5jp3vhm7lphwgfdvpud87p6mf7xujz\"\n",
      "                        },\n",
      "                        {\n",
      "                            \"key\": \"target\",\n",
      "                            \"value\": \"bostrom135ca8hdpy9sk0ntwqzpzsvatyl48ptx5j359lz\"\n",
      "                        },\n",
      "                        {\n",
      "                            \"key\": \"amount\",\n",
      "                            \"value\": \"200000000\"\n",
      "                        }\n",
      "                    ],\n",
      "                    \"type\": \"wasm\"\n",
      "                }\n",
      "            ],\n",
      "            \"log\": \"\",\n",
      "            \"msg_index\": 0\n",
      "        }\n",
      "    ],\n",
      "    \"raw_log\": \"[{\\\"events\\\":[{\\\"type\\\":\\\"coin_received\\\",\\\"attributes\\\":[{\\\"key\\\":\\\"receiver\\\",\\\"value\\\":\\\"bostrom135ca8hdpy9sk0ntwqzpzsvatyl48ptx5j359lz\\\"},{\\\"key\\\":\\\"amount\\\",\\\"value\\\":\\\"100000boot\\\"}]},{\\\"type\\\":\\\"coin_spent\\\",\\\"attributes\\\":[{\\\"key\\\":\\\"spender\\\",\\\"value\\\":\\\"bostrom1xj68jgjr6u02njplhmkl2f4gg58uueayfrn99x2png87jpsvwx0sk58jjv\\\"},{\\\"key\\\":\\\"amount\\\",\\\"value\\\":\\\"100000boot\\\"}]},{\\\"type\\\":\\\"execute\\\",\\\"attributes\\\":[{\\\"key\\\":\\\"_contract_address\\\",\\\"value\\\":\\\"bostrom1xj68jgjr6u02njplhmkl2f4gg58uueayfrn99x2png87jpsvwx0sk58jjv\\\"}]},{\\\"type\\\":\\\"message\\\",\\\"attributes\\\":[{\\\"key\\\":\\\"action\\\",\\\"value\\\":\\\"/cosmwasm.wasm.v1.MsgExecuteContract\\\"},{\\\"key\\\":\\\"module\\\",\\\"value\\\":\\\"wasm\\\"},{\\\"key\\\":\\\"sender\\\",\\\"value\\\":\\\"bostrom135ca8hdpy9sk0ntwqzpzsvatyl48ptx5j359lz\\\"}]},{\\\"type\\\":\\\"transfer\\\",\\\"attributes\\\":[{\\\"key\\\":\\\"recipient\\\",\\\"value\\\":\\\"bostrom135ca8hdpy9sk0ntwqzpzsvatyl48ptx5j359lz\\\"},{\\\"key\\\":\\\"sender\\\",\\\"value\\\":\\\"bostrom1xj68jgjr6u02njplhmkl2f4gg58uueayfrn99x2png87jpsvwx0sk58jjv\\\"},{\\\"key\\\":\\\"amount\\\",\\\"value\\\":\\\"100000boot\\\"}]},{\\\"type\\\":\\\"wasm\\\",\\\"attributes\\\":[{\\\"key\\\":\\\"_contract_address\\\",\\\"value\\\":\\\"bostrom1xj68jgjr6u02njplhmkl2f4gg58uueayfrn99x2png87jpsvwx0sk58jjv\\\"},{\\\"key\\\":\\\"action\\\",\\\"value\\\":\\\"claim\\\"},{\\\"key\\\":\\\"original\\\",\\\"value\\\":\\\"cosmos1za5gkyfz5jp3vhm7lphwgfdvpud87p6mf7xujz\\\"},{\\\"key\\\":\\\"target\\\",\\\"value\\\":\\\"bostrom135ca8hdpy9sk0ntwqzpzsvatyl48ptx5j359lz\\\"},{\\\"key\\\":\\\"amount\\\",\\\"value\\\":\\\"200000000\\\"}]}]}]\",\n",
      "    \"timestamp\": \"\",\n",
      "    \"tx\": null,\n",
      "    \"txhash\": \"AE9FFEAD5D4740225E94E4C1A8BC7941E25EFD776AC80BE0DED27EE9D32D9B6D\"\n",
      "}\n"
     ]
    }
   ],
   "source": [
    "def generate_proof_and_claim(claim_row: pd.Series, network: str = 'ethereum', display_data: bool = False):\n",
    "    proof_output, _ = execute_bash(f'merkle-airdrop-cli generateProofs --file {ROOT_SOURCE_FILE_NAME} --address {claim_row[network + \"_address\"]} --amount {claim_row.amount}',\n",
    "                                   display_data=display_data)\n",
    "    proof = proof_output.replace('\\n','').replace(\" \",'').replace(\"'\", '\"')\n",
    "    return execute_bash(\n",
    "                f'''CLAIM='{{\"claim\":{{\"nickname\":\"{claim_row['nickname']}\", \"gift_claiming_address\":\"{claim_row[network + \"_address\"]}\", \"gift_amount\":\"{claim_row.amount}\", \"proof\":{proof}}}}}' \\\n",
    "                    && cyber tx wasm execute {gift_contract_address} \"$CLAIM\" --from $WALLET -o json --broadcast-mode block -y --gas 400000 --chain-id={NETWORK} --node={NODE_URL}''',\n",
    "                display_data=display_data)\n",
    "\n",
    "for index, row in tqdm(claims_df.iterrows()):\n",
    "    if index == 0:\n",
    "        claim_ethereum_json, _ = generate_proof_and_claim(row, display_data=True)\n",
    "        claim_cosmos_json, _ = generate_proof_and_claim(row, network='cosmos', display_data=True)\n",
    "    else:\n",
    "        claim_ethereum_json_2, _ = generate_proof_and_claim(row)\n",
    "        claim_cosmos_json_2, _ = generate_proof_and_claim(row, network='cosmos')"
   ],
   "metadata": {
    "collapsed": false,
    "pycharm": {
     "name": "#%%\n"
    }
   }
  },
  {
   "cell_type": "code",
   "execution_count": 19,
   "outputs": [
    {
     "name": "stdout",
     "output_type": "stream",
     "text": [
      "\n",
      "coin received\n",
      "\treceiver: Wallet\n",
      "\tamount: 100000boot\n",
      "\n",
      "coin spent\n",
      "\tspender: Gift Contract\n",
      "\tamount: 100000boot\n",
      "\n",
      "execute\n",
      "\texecute contract: Gift Contract\n",
      "\n",
      "message from Wallet wasm /cosmwasm.wasm.v1.MsgExecuteContract\n",
      "\n",
      "transfer\n",
      "\trecipient: Wallet\n",
      "\tsender: Gift Contract\n",
      "\tamount: 100000boot\n",
      "\n",
      "wasm\n",
      "\t_contract_address: Gift Contract\n",
      "\taction: claim\n",
      "\toriginal: 0x4608e844331df74ca530e0b8cbb80057a8e8818a\n",
      "\ttarget: Wallet\n",
      "\tamount: 200000000\n"
     ]
    }
   ],
   "source": [
    "parse_contract_execution_json(claim_ethereum_json)"
   ],
   "metadata": {
    "collapsed": false,
    "pycharm": {
     "name": "#%%\n"
    }
   }
  },
  {
   "cell_type": "code",
   "execution_count": 20,
   "outputs": [
    {
     "name": "stdout",
     "output_type": "stream",
     "text": [
      "\n",
      "coin received\n",
      "\treceiver: Wallet\n",
      "\tamount: 100000boot\n",
      "\n",
      "coin spent\n",
      "\tspender: Gift Contract\n",
      "\tamount: 100000boot\n",
      "\n",
      "execute\n",
      "\texecute contract: Gift Contract\n",
      "\n",
      "message from Wallet wasm /cosmwasm.wasm.v1.MsgExecuteContract\n",
      "\n",
      "transfer\n",
      "\trecipient: Wallet\n",
      "\tsender: Gift Contract\n",
      "\tamount: 100000boot\n",
      "\n",
      "wasm\n",
      "\t_contract_address: Gift Contract\n",
      "\taction: claim\n",
      "\toriginal: cosmos1za5gkyfz5jp3vhm7lphwgfdvpud87p6mf7xujz\n",
      "\ttarget: Wallet\n",
      "\tamount: 200000000\n"
     ]
    }
   ],
   "source": [
    "parse_contract_execution_json(claim_cosmos_json)"
   ],
   "metadata": {
    "collapsed": false,
    "pycharm": {
     "name": "#%%\n"
    }
   }
  },
  {
   "cell_type": "code",
   "execution_count": 22,
   "outputs": [
    {
     "name": "stdout",
     "output_type": "stream",
     "text": [
      "\n",
      "coin received\n",
      "\treceiver: Wallet\n",
      "\tamount: 100000boot\n",
      "\n",
      "coin spent\n",
      "\tspender: Gift Contract\n",
      "\tamount: 100000boot\n",
      "\n",
      "execute\n",
      "\texecute contract: Gift Contract\n",
      "\n",
      "message from Wallet wasm /cosmwasm.wasm.v1.MsgExecuteContract\n",
      "\n",
      "transfer\n",
      "\trecipient: Wallet\n",
      "\tsender: Gift Contract\n",
      "\tamount: 100000boot\n",
      "\n",
      "wasm\n",
      "\t_contract_address: Gift Contract\n",
      "\taction: claim\n",
      "\toriginal: 0x9f791bd90b3b3a8f888a1414fba806d7aba85e97\n",
      "\ttarget: Wallet\n",
      "\tamount: 170000000\n"
     ]
    }
   ],
   "source": [
    "parse_contract_execution_json(claim_ethereum_json_2)"
   ],
   "metadata": {
    "collapsed": false,
    "pycharm": {
     "name": "#%%\n"
    }
   }
  },
  {
   "cell_type": "code",
   "execution_count": 23,
   "outputs": [
    {
     "name": "stdout",
     "output_type": "stream",
     "text": [
      "\n",
      "coin received\n",
      "\treceiver: Wallet\n",
      "\tamount: 100000boot\n",
      "\n",
      "coin spent\n",
      "\tspender: Gift Contract\n",
      "\tamount: 100000boot\n",
      "\n",
      "execute\n",
      "\texecute contract: Gift Contract\n",
      "\n",
      "message from Wallet wasm /cosmwasm.wasm.v1.MsgExecuteContract\n",
      "\n",
      "transfer\n",
      "\trecipient: Wallet\n",
      "\tsender: Gift Contract\n",
      "\tamount: 100000boot\n",
      "\n",
      "wasm\n",
      "\t_contract_address: Gift Contract\n",
      "\taction: claim\n",
      "\toriginal: cosmos120gnxgzj9hv53meq7h24jkgtfw8w2lh47a4ejx\n",
      "\ttarget: Wallet\n",
      "\tamount: 140000000\n"
     ]
    }
   ],
   "source": [
    "parse_contract_execution_json(claim_cosmos_json_2)"
   ],
   "metadata": {
    "collapsed": false,
    "pycharm": {
     "name": "#%%\n"
    }
   }
  },
  {
   "cell_type": "markdown",
   "source": [
    "### Release Gift"
   ],
   "metadata": {
    "collapsed": false,
    "pycharm": {
     "name": "#%% md\n"
    }
   },
   "execution_count": 11
  },
  {
   "cell_type": "code",
   "execution_count": 24,
   "outputs": [
    {
     "data": {
      "text/plain": "0it [00:00, ?it/s]",
      "application/vnd.jupyter.widget-view+json": {
       "version_major": 2,
       "version_minor": 0,
       "model_id": "0d01340b9af54e8bb9a8f3093816409e"
      }
     },
     "metadata": {},
     "output_type": "display_data"
    },
    {
     "name": "stdout",
     "output_type": "stream",
     "text": [
      "CLAIM='{\"release\":{\"gift_address\":\"0x4608e844331df74ca530e0b8cbb80057a8e8818a\"}}'                     && cyber tx wasm execute bostrom1xj68jgjr6u02njplhmkl2f4gg58uueayfrn99x2png87jpsvwx0sk58jjv \"$CLAIM\" --from $WALLET -o json --broadcast-mode block -y --gas 400000 --chain-id=space-pussy-1 --node=https://rpc.space-pussy-1.cybernode.ai:443\n",
      "{\n",
      "    \"code\": 0,\n",
      "    \"codespace\": \"\",\n",
      "    \"data\": \"0A260A242F636F736D7761736D2E7761736D2E76312E4D736745786563757465436F6E7472616374\",\n",
      "    \"gas_used\": \"158902\",\n",
      "    \"gas_wanted\": \"400000\",\n",
      "    \"height\": \"1426997\",\n",
      "    \"info\": \"\",\n",
      "    \"logs\": [\n",
      "        {\n",
      "            \"events\": [\n",
      "                {\n",
      "                    \"attributes\": [\n",
      "                        {\n",
      "                            \"key\": \"receiver\",\n",
      "                            \"value\": \"bostrom135ca8hdpy9sk0ntwqzpzsvatyl48ptx5j359lz\"\n",
      "                        },\n",
      "                        {\n",
      "                            \"key\": \"amount\",\n",
      "                            \"value\": \"19990000boot\"\n",
      "                        }\n",
      "                    ],\n",
      "                    \"type\": \"coin_received\"\n",
      "                },\n",
      "                {\n",
      "                    \"attributes\": [\n",
      "                        {\n",
      "                            \"key\": \"spender\",\n",
      "                            \"value\": \"bostrom1xj68jgjr6u02njplhmkl2f4gg58uueayfrn99x2png87jpsvwx0sk58jjv\"\n",
      "                        },\n",
      "                        {\n",
      "                            \"key\": \"amount\",\n",
      "                            \"value\": \"19990000boot\"\n",
      "                        }\n",
      "                    ],\n",
      "                    \"type\": \"coin_spent\"\n",
      "                },\n",
      "                {\n",
      "                    \"attributes\": [\n",
      "                        {\n",
      "                            \"key\": \"_contract_address\",\n",
      "                            \"value\": \"bostrom1xj68jgjr6u02njplhmkl2f4gg58uueayfrn99x2png87jpsvwx0sk58jjv\"\n",
      "                        }\n",
      "                    ],\n",
      "                    \"type\": \"execute\"\n",
      "                },\n",
      "                {\n",
      "                    \"attributes\": [\n",
      "                        {\n",
      "                            \"key\": \"action\",\n",
      "                            \"value\": \"/cosmwasm.wasm.v1.MsgExecuteContract\"\n",
      "                        },\n",
      "                        {\n",
      "                            \"key\": \"module\",\n",
      "                            \"value\": \"wasm\"\n",
      "                        },\n",
      "                        {\n",
      "                            \"key\": \"sender\",\n",
      "                            \"value\": \"bostrom135ca8hdpy9sk0ntwqzpzsvatyl48ptx5j359lz\"\n",
      "                        }\n",
      "                    ],\n",
      "                    \"type\": \"message\"\n",
      "                },\n",
      "                {\n",
      "                    \"attributes\": [\n",
      "                        {\n",
      "                            \"key\": \"recipient\",\n",
      "                            \"value\": \"bostrom135ca8hdpy9sk0ntwqzpzsvatyl48ptx5j359lz\"\n",
      "                        },\n",
      "                        {\n",
      "                            \"key\": \"sender\",\n",
      "                            \"value\": \"bostrom1xj68jgjr6u02njplhmkl2f4gg58uueayfrn99x2png87jpsvwx0sk58jjv\"\n",
      "                        },\n",
      "                        {\n",
      "                            \"key\": \"amount\",\n",
      "                            \"value\": \"19990000boot\"\n",
      "                        }\n",
      "                    ],\n",
      "                    \"type\": \"transfer\"\n",
      "                },\n",
      "                {\n",
      "                    \"attributes\": [\n",
      "                        {\n",
      "                            \"key\": \"_contract_address\",\n",
      "                            \"value\": \"bostrom1xj68jgjr6u02njplhmkl2f4gg58uueayfrn99x2png87jpsvwx0sk58jjv\"\n",
      "                        },\n",
      "                        {\n",
      "                            \"key\": \"action\",\n",
      "                            \"value\": \"release\"\n",
      "                        },\n",
      "                        {\n",
      "                            \"key\": \"address\",\n",
      "                            \"value\": \"bostrom135ca8hdpy9sk0ntwqzpzsvatyl48ptx5j359lz\"\n",
      "                        },\n",
      "                        {\n",
      "                            \"key\": \"gift_address\",\n",
      "                            \"value\": \"0x4608e844331df74ca530e0b8cbb80057a8e8818a\"\n",
      "                        },\n",
      "                        {\n",
      "                            \"key\": \"stage\",\n",
      "                            \"value\": \"9\"\n",
      "                        },\n",
      "                        {\n",
      "                            \"key\": \"amount\",\n",
      "                            \"value\": \"19990000\"\n",
      "                        }\n",
      "                    ],\n",
      "                    \"type\": \"wasm\"\n",
      "                }\n",
      "            ],\n",
      "            \"log\": \"\",\n",
      "            \"msg_index\": 0\n",
      "        }\n",
      "    ],\n",
      "    \"raw_log\": \"[{\\\"events\\\":[{\\\"type\\\":\\\"coin_received\\\",\\\"attributes\\\":[{\\\"key\\\":\\\"receiver\\\",\\\"value\\\":\\\"bostrom135ca8hdpy9sk0ntwqzpzsvatyl48ptx5j359lz\\\"},{\\\"key\\\":\\\"amount\\\",\\\"value\\\":\\\"19990000boot\\\"}]},{\\\"type\\\":\\\"coin_spent\\\",\\\"attributes\\\":[{\\\"key\\\":\\\"spender\\\",\\\"value\\\":\\\"bostrom1xj68jgjr6u02njplhmkl2f4gg58uueayfrn99x2png87jpsvwx0sk58jjv\\\"},{\\\"key\\\":\\\"amount\\\",\\\"value\\\":\\\"19990000boot\\\"}]},{\\\"type\\\":\\\"execute\\\",\\\"attributes\\\":[{\\\"key\\\":\\\"_contract_address\\\",\\\"value\\\":\\\"bostrom1xj68jgjr6u02njplhmkl2f4gg58uueayfrn99x2png87jpsvwx0sk58jjv\\\"}]},{\\\"type\\\":\\\"message\\\",\\\"attributes\\\":[{\\\"key\\\":\\\"action\\\",\\\"value\\\":\\\"/cosmwasm.wasm.v1.MsgExecuteContract\\\"},{\\\"key\\\":\\\"module\\\",\\\"value\\\":\\\"wasm\\\"},{\\\"key\\\":\\\"sender\\\",\\\"value\\\":\\\"bostrom135ca8hdpy9sk0ntwqzpzsvatyl48ptx5j359lz\\\"}]},{\\\"type\\\":\\\"transfer\\\",\\\"attributes\\\":[{\\\"key\\\":\\\"recipient\\\",\\\"value\\\":\\\"bostrom135ca8hdpy9sk0ntwqzpzsvatyl48ptx5j359lz\\\"},{\\\"key\\\":\\\"sender\\\",\\\"value\\\":\\\"bostrom1xj68jgjr6u02njplhmkl2f4gg58uueayfrn99x2png87jpsvwx0sk58jjv\\\"},{\\\"key\\\":\\\"amount\\\",\\\"value\\\":\\\"19990000boot\\\"}]},{\\\"type\\\":\\\"wasm\\\",\\\"attributes\\\":[{\\\"key\\\":\\\"_contract_address\\\",\\\"value\\\":\\\"bostrom1xj68jgjr6u02njplhmkl2f4gg58uueayfrn99x2png87jpsvwx0sk58jjv\\\"},{\\\"key\\\":\\\"action\\\",\\\"value\\\":\\\"release\\\"},{\\\"key\\\":\\\"address\\\",\\\"value\\\":\\\"bostrom135ca8hdpy9sk0ntwqzpzsvatyl48ptx5j359lz\\\"},{\\\"key\\\":\\\"gift_address\\\",\\\"value\\\":\\\"0x4608e844331df74ca530e0b8cbb80057a8e8818a\\\"},{\\\"key\\\":\\\"stage\\\",\\\"value\\\":\\\"9\\\"},{\\\"key\\\":\\\"amount\\\",\\\"value\\\":\\\"19990000\\\"}]}]}]\",\n",
      "    \"timestamp\": \"\",\n",
      "    \"tx\": null,\n",
      "    \"txhash\": \"87F3C0BB485B376A5E234D090D61FBEFA3BD81FE613DC9FA2C651208D5113BC0\"\n",
      "}\n",
      "CLAIM='{\"release\":{\"gift_address\":\"cosmos1za5gkyfz5jp3vhm7lphwgfdvpud87p6mf7xujz\"}}'                     && cyber tx wasm execute bostrom1xj68jgjr6u02njplhmkl2f4gg58uueayfrn99x2png87jpsvwx0sk58jjv \"$CLAIM\" --from $WALLET -o json --broadcast-mode block -y --gas 400000 --chain-id=space-pussy-1 --node=https://rpc.space-pussy-1.cybernode.ai:443\n",
      "{\n",
      "    \"code\": 0,\n",
      "    \"codespace\": \"\",\n",
      "    \"data\": \"0A260A242F636F736D7761736D2E7761736D2E76312E4D736745786563757465436F6E7472616374\",\n",
      "    \"gas_used\": \"158969\",\n",
      "    \"gas_wanted\": \"400000\",\n",
      "    \"height\": \"1426998\",\n",
      "    \"info\": \"\",\n",
      "    \"logs\": [\n",
      "        {\n",
      "            \"events\": [\n",
      "                {\n",
      "                    \"attributes\": [\n",
      "                        {\n",
      "                            \"key\": \"receiver\",\n",
      "                            \"value\": \"bostrom135ca8hdpy9sk0ntwqzpzsvatyl48ptx5j359lz\"\n",
      "                        },\n",
      "                        {\n",
      "                            \"key\": \"amount\",\n",
      "                            \"value\": \"19990000boot\"\n",
      "                        }\n",
      "                    ],\n",
      "                    \"type\": \"coin_received\"\n",
      "                },\n",
      "                {\n",
      "                    \"attributes\": [\n",
      "                        {\n",
      "                            \"key\": \"spender\",\n",
      "                            \"value\": \"bostrom1xj68jgjr6u02njplhmkl2f4gg58uueayfrn99x2png87jpsvwx0sk58jjv\"\n",
      "                        },\n",
      "                        {\n",
      "                            \"key\": \"amount\",\n",
      "                            \"value\": \"19990000boot\"\n",
      "                        }\n",
      "                    ],\n",
      "                    \"type\": \"coin_spent\"\n",
      "                },\n",
      "                {\n",
      "                    \"attributes\": [\n",
      "                        {\n",
      "                            \"key\": \"_contract_address\",\n",
      "                            \"value\": \"bostrom1xj68jgjr6u02njplhmkl2f4gg58uueayfrn99x2png87jpsvwx0sk58jjv\"\n",
      "                        }\n",
      "                    ],\n",
      "                    \"type\": \"execute\"\n",
      "                },\n",
      "                {\n",
      "                    \"attributes\": [\n",
      "                        {\n",
      "                            \"key\": \"action\",\n",
      "                            \"value\": \"/cosmwasm.wasm.v1.MsgExecuteContract\"\n",
      "                        },\n",
      "                        {\n",
      "                            \"key\": \"module\",\n",
      "                            \"value\": \"wasm\"\n",
      "                        },\n",
      "                        {\n",
      "                            \"key\": \"sender\",\n",
      "                            \"value\": \"bostrom135ca8hdpy9sk0ntwqzpzsvatyl48ptx5j359lz\"\n",
      "                        }\n",
      "                    ],\n",
      "                    \"type\": \"message\"\n",
      "                },\n",
      "                {\n",
      "                    \"attributes\": [\n",
      "                        {\n",
      "                            \"key\": \"recipient\",\n",
      "                            \"value\": \"bostrom135ca8hdpy9sk0ntwqzpzsvatyl48ptx5j359lz\"\n",
      "                        },\n",
      "                        {\n",
      "                            \"key\": \"sender\",\n",
      "                            \"value\": \"bostrom1xj68jgjr6u02njplhmkl2f4gg58uueayfrn99x2png87jpsvwx0sk58jjv\"\n",
      "                        },\n",
      "                        {\n",
      "                            \"key\": \"amount\",\n",
      "                            \"value\": \"19990000boot\"\n",
      "                        }\n",
      "                    ],\n",
      "                    \"type\": \"transfer\"\n",
      "                },\n",
      "                {\n",
      "                    \"attributes\": [\n",
      "                        {\n",
      "                            \"key\": \"_contract_address\",\n",
      "                            \"value\": \"bostrom1xj68jgjr6u02njplhmkl2f4gg58uueayfrn99x2png87jpsvwx0sk58jjv\"\n",
      "                        },\n",
      "                        {\n",
      "                            \"key\": \"action\",\n",
      "                            \"value\": \"release\"\n",
      "                        },\n",
      "                        {\n",
      "                            \"key\": \"address\",\n",
      "                            \"value\": \"bostrom135ca8hdpy9sk0ntwqzpzsvatyl48ptx5j359lz\"\n",
      "                        },\n",
      "                        {\n",
      "                            \"key\": \"gift_address\",\n",
      "                            \"value\": \"cosmos1za5gkyfz5jp3vhm7lphwgfdvpud87p6mf7xujz\"\n",
      "                        },\n",
      "                        {\n",
      "                            \"key\": \"stage\",\n",
      "                            \"value\": \"9\"\n",
      "                        },\n",
      "                        {\n",
      "                            \"key\": \"amount\",\n",
      "                            \"value\": \"19990000\"\n",
      "                        }\n",
      "                    ],\n",
      "                    \"type\": \"wasm\"\n",
      "                }\n",
      "            ],\n",
      "            \"log\": \"\",\n",
      "            \"msg_index\": 0\n",
      "        }\n",
      "    ],\n",
      "    \"raw_log\": \"[{\\\"events\\\":[{\\\"type\\\":\\\"coin_received\\\",\\\"attributes\\\":[{\\\"key\\\":\\\"receiver\\\",\\\"value\\\":\\\"bostrom135ca8hdpy9sk0ntwqzpzsvatyl48ptx5j359lz\\\"},{\\\"key\\\":\\\"amount\\\",\\\"value\\\":\\\"19990000boot\\\"}]},{\\\"type\\\":\\\"coin_spent\\\",\\\"attributes\\\":[{\\\"key\\\":\\\"spender\\\",\\\"value\\\":\\\"bostrom1xj68jgjr6u02njplhmkl2f4gg58uueayfrn99x2png87jpsvwx0sk58jjv\\\"},{\\\"key\\\":\\\"amount\\\",\\\"value\\\":\\\"19990000boot\\\"}]},{\\\"type\\\":\\\"execute\\\",\\\"attributes\\\":[{\\\"key\\\":\\\"_contract_address\\\",\\\"value\\\":\\\"bostrom1xj68jgjr6u02njplhmkl2f4gg58uueayfrn99x2png87jpsvwx0sk58jjv\\\"}]},{\\\"type\\\":\\\"message\\\",\\\"attributes\\\":[{\\\"key\\\":\\\"action\\\",\\\"value\\\":\\\"/cosmwasm.wasm.v1.MsgExecuteContract\\\"},{\\\"key\\\":\\\"module\\\",\\\"value\\\":\\\"wasm\\\"},{\\\"key\\\":\\\"sender\\\",\\\"value\\\":\\\"bostrom135ca8hdpy9sk0ntwqzpzsvatyl48ptx5j359lz\\\"}]},{\\\"type\\\":\\\"transfer\\\",\\\"attributes\\\":[{\\\"key\\\":\\\"recipient\\\",\\\"value\\\":\\\"bostrom135ca8hdpy9sk0ntwqzpzsvatyl48ptx5j359lz\\\"},{\\\"key\\\":\\\"sender\\\",\\\"value\\\":\\\"bostrom1xj68jgjr6u02njplhmkl2f4gg58uueayfrn99x2png87jpsvwx0sk58jjv\\\"},{\\\"key\\\":\\\"amount\\\",\\\"value\\\":\\\"19990000boot\\\"}]},{\\\"type\\\":\\\"wasm\\\",\\\"attributes\\\":[{\\\"key\\\":\\\"_contract_address\\\",\\\"value\\\":\\\"bostrom1xj68jgjr6u02njplhmkl2f4gg58uueayfrn99x2png87jpsvwx0sk58jjv\\\"},{\\\"key\\\":\\\"action\\\",\\\"value\\\":\\\"release\\\"},{\\\"key\\\":\\\"address\\\",\\\"value\\\":\\\"bostrom135ca8hdpy9sk0ntwqzpzsvatyl48ptx5j359lz\\\"},{\\\"key\\\":\\\"gift_address\\\",\\\"value\\\":\\\"cosmos1za5gkyfz5jp3vhm7lphwgfdvpud87p6mf7xujz\\\"},{\\\"key\\\":\\\"stage\\\",\\\"value\\\":\\\"9\\\"},{\\\"key\\\":\\\"amount\\\",\\\"value\\\":\\\"19990000\\\"}]}]}]\",\n",
      "    \"timestamp\": \"\",\n",
      "    \"tx\": null,\n",
      "    \"txhash\": \"17316AAF85873C64B9D1422F203A69446CD9F6EDD96B74DD6874AF9DCBEBC25A\"\n",
      "}\n"
     ]
    }
   ],
   "source": [
    "def release(claim_row: pd.Series, network: str = 'ethereum', display_data: bool = False):\n",
    "    return execute_bash(\n",
    "                f'''CLAIM='{{\"release\":{{\"gift_address\":\"{claim_row[network + \"_address\"]}\"}}}}' \\\n",
    "                    && cyber tx wasm execute {gift_contract_address} \"$CLAIM\" --from $WALLET -o json --broadcast-mode block -y --gas 400000 --chain-id={NETWORK} --node={NODE_URL}''',\n",
    "                display_data=display_data)\n",
    "\n",
    "for index, row in tqdm(claims_df.iterrows()):\n",
    "    if index == 0:\n",
    "        release_ethereum_json, _ = release(row, display_data=True)\n",
    "        release_cosmos_json, _ = release(row, network='cosmos', display_data=True)\n",
    "    else:\n",
    "        release(row)\n",
    "        release(row, network='cosmos')\n"
   ],
   "metadata": {
    "collapsed": false,
    "pycharm": {
     "name": "#%%\n"
    }
   }
  },
  {
   "cell_type": "code",
   "execution_count": 25,
   "outputs": [
    {
     "name": "stdout",
     "output_type": "stream",
     "text": [
      "\n",
      "coin received\n",
      "\treceiver: Wallet\n",
      "\tamount: 19990000boot\n",
      "\n",
      "coin spent\n",
      "\tspender: Gift Contract\n",
      "\tamount: 19990000boot\n",
      "\n",
      "execute\n",
      "\texecute contract: Gift Contract\n",
      "\n",
      "message from Wallet wasm /cosmwasm.wasm.v1.MsgExecuteContract\n",
      "\n",
      "transfer\n",
      "\trecipient: Wallet\n",
      "\tsender: Gift Contract\n",
      "\tamount: 19990000boot\n",
      "\n",
      "wasm\n",
      "\t_contract_address: Gift Contract\n",
      "\taction: release\n",
      "\taddress: Wallet\n",
      "\tgift_address: 0x4608e844331df74ca530e0b8cbb80057a8e8818a\n",
      "\tstage: 9\n",
      "\tamount: 19990000\n"
     ]
    }
   ],
   "source": [
    "parse_contract_execution_json(release_ethereum_json)"
   ],
   "metadata": {
    "collapsed": false,
    "pycharm": {
     "name": "#%%\n"
    }
   }
  },
  {
   "cell_type": "code",
   "execution_count": 26,
   "outputs": [
    {
     "name": "stdout",
     "output_type": "stream",
     "text": [
      "\n",
      "coin received\n",
      "\treceiver: Wallet\n",
      "\tamount: 19990000boot\n",
      "\n",
      "coin spent\n",
      "\tspender: Gift Contract\n",
      "\tamount: 19990000boot\n",
      "\n",
      "execute\n",
      "\texecute contract: Gift Contract\n",
      "\n",
      "message from Wallet wasm /cosmwasm.wasm.v1.MsgExecuteContract\n",
      "\n",
      "transfer\n",
      "\trecipient: Wallet\n",
      "\tsender: Gift Contract\n",
      "\tamount: 19990000boot\n",
      "\n",
      "wasm\n",
      "\t_contract_address: Gift Contract\n",
      "\taction: release\n",
      "\taddress: Wallet\n",
      "\tgift_address: cosmos1za5gkyfz5jp3vhm7lphwgfdvpud87p6mf7xujz\n",
      "\tstage: 9\n",
      "\tamount: 19990000\n"
     ]
    }
   ],
   "source": [
    "parse_contract_execution_json(release_cosmos_json)"
   ],
   "metadata": {
    "collapsed": false,
    "pycharm": {
     "name": "#%%\n"
    }
   }
  },
  {
   "cell_type": "markdown",
   "source": [
    "### Add tests for Passport contract\n",
    "#### create_passport +\n",
    "#### update_name\n",
    "#### update_avatar\n",
    "#### proof_address +\n",
    "#### remove_address\n",
    "#### set_minter\n",
    "#### set_owner\n",
    "#### set_active\n",
    "#### set_subspaces\n",
    "#### transfer_nft\n",
    "#### send_nft\n",
    "#### mint\n",
    "#### burn\n",
    "#### approve\n",
    "#### approve_all\n",
    "#### revoke\n",
    "#### revoke_all\n",
    "#### Expirations\n",
    "##### at_height\n",
    "##### at_time\n",
    "##### never\n",
    "\n",
    "### Add tests for Gift contract\n",
    "#### update_owner\n",
    "#### update_passport_addr\n",
    "#### update_target\n",
    "#### register_merkle_root +\n",
    "#### claim +\n",
    "#### release +\n",
    "\n",
    "### Add tests for Subspace contract\n",
    "#### update_owner\n",
    "#### update_executer +"
   ],
   "metadata": {
    "collapsed": false,
    "pycharm": {
     "name": "#%% md\n"
    }
   }
  },
  {
   "cell_type": "code",
   "execution_count": null,
   "outputs": [],
   "source": [],
   "metadata": {
    "collapsed": false,
    "pycharm": {
     "name": "#%%\n"
    }
   }
  }
 ],
 "metadata": {
  "kernelspec": {
   "display_name": "Python 3",
   "language": "python",
   "name": "python3"
  },
  "language_info": {
   "codemirror_mode": {
    "name": "ipython",
    "version": 2
   },
   "file_extension": ".py",
   "mimetype": "text/x-python",
   "name": "python",
   "nbconvert_exporter": "python",
   "pygments_lexer": "ipython2",
   "version": "2.7.6"
  }
 },
 "nbformat": 4,
 "nbformat_minor": 0
}