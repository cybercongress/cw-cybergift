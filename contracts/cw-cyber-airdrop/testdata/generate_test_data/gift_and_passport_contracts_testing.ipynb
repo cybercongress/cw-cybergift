{
 "cells": [
  {
   "cell_type": "markdown",
   "metadata": {
    "collapsed": true,
    "pycharm": {
     "name": "#%% md\n"
    }
   },
   "source": [
    "## Gift Contract Testing"
   ]
  },
  {
   "cell_type": "code",
   "source": [
    "from web3.auto import w3\n",
    "import pandas as pd\n",
    "from cyberpy import generate_wallet, address_to_address\n",
    "from cyberpy._message_signer import Message\n",
    "from cyberpy._wallet import seed_to_privkey\n",
    "from eth_account.messages import encode_defunct\n",
    "import json\n",
    "from subprocess import Popen, PIPE\n",
    "import os\n",
    "from time import time\n",
    "import ipfshttpclient\n",
    "from tqdm.notebook import tqdm\n",
    "from base64 import b64encode\n",
    "\n",
    "client = ipfshttpclient.connect()\n",
    "\n",
    "NUMBER_OF_PARTICIPANTS = 2\n",
    "KEY_PHRASE = 'KEY PHRASE'\n",
    "NICKNAME_LIST = [f'john{round(time())}{number}' for number in range(NUMBER_OF_PARTICIPANTS)]\n",
    "AVATAR_CID_LIST = [client.add_str(_nickname + 'avatar') for _nickname in NICKNAME_LIST]\n",
    "CLAIM_AMOUNT_LIST = [1_477_000] * NUMBER_OF_PARTICIPANTS\n",
    "\n",
    "INITIAL_BALANCE = str(1_000_000_000)\n",
    "COEF_UP = str(20)\n",
    "COEF_DOWN = str(5)\n",
    "TARGET_CLAIM = str(2)\n",
    "\n",
    "WALLET_ADDRESS = os.getenv('WALLET_ADDRESS')\n",
    "NODE_URL = 'https://rpc.space-pussy-1.cybernode.ai:443'\n",
    "NETWORK = 'space-pussy-1'\n",
    "\n",
    "INIT_SUBSPACE_CONTRACTS = False\n",
    "SUBSPACE_CODE_ID = str(21)\n",
    "NAME_SUBSPACE_CONTRACT_ADDRESS = 'bostrom19zmt9dlz3wzu6jqgr9409el7nvxw66u8n67ta5424kwcg0qf269s6t03zt'\n",
    "AVATAR_SUBSPACE_CONTRACT_ADDRESS = 'bostrom16ulvzd0xp9g6wdhnnhz584ed8xzxm5wkmrsznnzk7qsskegkfutq5djtqs'\n",
    "PROOF_SUBSPACE_CONTRACT_ADDRESS = 'bostrom1ghwwe2nhxjfy7qulgu6zzmghmnjj3rx8xldr8aytghayxlftz6aqxy4c7k'\n",
    "\n",
    "INIT_PASSPORT_CONTRACT = False\n",
    "PASSPORT_CODE_ID = str(25)\n",
    "PASSPORT_CONTRACT_ADDRESS = 'bostrom15hzg7eaxgs6ecn46gmu4juc9tau2w45l9cnf8n0797nmmtkdv7jscv88ra'\n",
    "\n",
    "INIT_GIFT_CONTRACT = False\n",
    "GIFT_CODE_ID = str(20)\n",
    "GIFT_CONTRACT_ADDRESS = 'bostrom1rt2acjyhs4jfjdq56pftpu7762hy9gfl63je6fnhwrc5p5y4kmuqxg0262'\n",
    "\n",
    "ROOT_SOURCE_FILE_NAME = 'root_testing_source_' + str(NUMBER_OF_PARTICIPANTS) + '_addresses.json'\n",
    "ROOT_FILE_NAME = 'root_testing_' + str(NUMBER_OF_PARTICIPANTS) + '_addresses'\n",
    "\n",
    "\n",
    "def execute_bash(bash_command: str, display_data: bool = False) -> [str, str]:\n",
    "    _output, _error = Popen(bash_command, shell=True, stdout=PIPE, stderr=PIPE).communicate()\n",
    "    if _error:\n",
    "        display_data = True\n",
    "    if display_data:\n",
    "        print(bash_command)\n",
    "        if _output:\n",
    "            try:\n",
    "                print(json.dumps(json.loads(_output.decode('utf-8')), indent=4, sort_keys=True))\n",
    "            except json.JSONDecodeError:\n",
    "                print(_output)\n",
    "        if _error:\n",
    "            print(_error)\n",
    "    return _output.decode('utf-8'), _error.decode('utf-8')"
   ],
   "metadata": {
    "collapsed": false,
    "pycharm": {
     "name": "#%%\n"
    }
   },
   "execution_count": 1,
   "outputs": [
    {
     "name": "stderr",
     "output_type": "stream",
     "text": [
      "/Users/sergenedashkovsky/Library/Python/3.8/lib/python/site-packages/ipfshttpclient/client/__init__.py:75: VersionMismatch: Unsupported daemon version '0.10.0' (not in range: 0.5.0 ≤ … < 0.9.0)\n",
      "  warnings.warn(exceptions.VersionMismatch(version, minimum, maximum))\n"
     ]
    }
   ]
  },
  {
   "cell_type": "markdown",
   "source": [
    "### Generate addresses and sign messages"
   ],
   "metadata": {
    "collapsed": false,
    "pycharm": {
     "name": "#%% md\n"
    }
   }
  },
  {
   "cell_type": "code",
   "execution_count": 2,
   "outputs": [
    {
     "data": {
      "text/plain": "    amount         nickname                                          avatar  \\\n0  1477000  john16454401280  QmZ25aauyVnCpowNxjDguFDfvR7d1VC3PaJ8rYWzLTusDz   \n1  1477000  john16454401281  QmewDbitR4GbP4bGZxhmc4oScmacHrbqPcy5e31EdjxrA2   \n\n                             ethereum_address  \\\n0  0x283b77504d598b68212770a164384e12bd9bc613   \n1  0x20c8c123253d9a8b4b5f5ace0940dfafbac91b61   \n\n                                ethereum_private_key  \\\n0  0x38d5c993de975c83a3b426b967f1cb92df7a55860422...   \n1  0xc183ee08ee21c4d39924d761eb68f58ddf9b86a10649...   \n\n                                  bostrom_address  \\\n0  bostrom1tfdl97t628y3dz8r3h43f9gacudrp83epw60c9   \n1  bostrom1cgzaccc6kxrppkuwt2qghg59qtwccpynxhts40   \n\n                                  cosmos_address  \\\n0  cosmos1tfdl97t628y3dz8r3h43f9gacudrp83ezawuxz   \n1  cosmos1cgzaccc6kxrppkuwt2qghg59qtwccpyn9ylrtg   \n\n                                         cosmos_seed  \\\n0  recall universe witness pelican enhance area m...   \n1  lumber treat phone smooth bulk legend crouch v...   \n\n                                          message  \\\n0  QmRX8qYgeZoYM3M5zzQaWEpVFdpin6FvVXvp6RPQK3oufV   \n1  QmRX8qYgeZoYM3M5zzQaWEpVFdpin6FvVXvp6RPQK3oufV   \n\n                          ethereum_message_signature  \\\n0  0xd864c46c4747cd572514378e17fd2fd3db3c62f11548...   \n1  0x1ff92ab0e76adaf3dd7d6a040e9ddbd3222238c8904a...   \n\n                           cosmos_message_signed_row  \\\n0  {'pub_key': 'Aw5rmcHTj1ZiJD7a9vuGJB9w0HZAGy33I...   \n1  {'pub_key': 'AyfqdmvZlb1jdmGHTu8fZiFaAkt3bZ6VF...   \n\n                            cosmos_message_signature  \n0  eyJwdWJfa2V5IjoiQXc1cm1jSFRqMVppSkQ3YTl2dUdKQj...  \n1  eyJwdWJfa2V5IjoiQXlmcWRtdlpsYjFqZG1HSFR1OGZaaU...  ",
      "text/html": "<div>\n<style scoped>\n    .dataframe tbody tr th:only-of-type {\n        vertical-align: middle;\n    }\n\n    .dataframe tbody tr th {\n        vertical-align: top;\n    }\n\n    .dataframe thead th {\n        text-align: right;\n    }\n</style>\n<table border=\"1\" class=\"dataframe\">\n  <thead>\n    <tr style=\"text-align: right;\">\n      <th></th>\n      <th>amount</th>\n      <th>nickname</th>\n      <th>avatar</th>\n      <th>ethereum_address</th>\n      <th>ethereum_private_key</th>\n      <th>bostrom_address</th>\n      <th>cosmos_address</th>\n      <th>cosmos_seed</th>\n      <th>message</th>\n      <th>ethereum_message_signature</th>\n      <th>cosmos_message_signed_row</th>\n      <th>cosmos_message_signature</th>\n    </tr>\n  </thead>\n  <tbody>\n    <tr>\n      <th>0</th>\n      <td>1477000</td>\n      <td>john16454401280</td>\n      <td>QmZ25aauyVnCpowNxjDguFDfvR7d1VC3PaJ8rYWzLTusDz</td>\n      <td>0x283b77504d598b68212770a164384e12bd9bc613</td>\n      <td>0x38d5c993de975c83a3b426b967f1cb92df7a55860422...</td>\n      <td>bostrom1tfdl97t628y3dz8r3h43f9gacudrp83epw60c9</td>\n      <td>cosmos1tfdl97t628y3dz8r3h43f9gacudrp83ezawuxz</td>\n      <td>recall universe witness pelican enhance area m...</td>\n      <td>QmRX8qYgeZoYM3M5zzQaWEpVFdpin6FvVXvp6RPQK3oufV</td>\n      <td>0xd864c46c4747cd572514378e17fd2fd3db3c62f11548...</td>\n      <td>{'pub_key': 'Aw5rmcHTj1ZiJD7a9vuGJB9w0HZAGy33I...</td>\n      <td>eyJwdWJfa2V5IjoiQXc1cm1jSFRqMVppSkQ3YTl2dUdKQj...</td>\n    </tr>\n    <tr>\n      <th>1</th>\n      <td>1477000</td>\n      <td>john16454401281</td>\n      <td>QmewDbitR4GbP4bGZxhmc4oScmacHrbqPcy5e31EdjxrA2</td>\n      <td>0x20c8c123253d9a8b4b5f5ace0940dfafbac91b61</td>\n      <td>0xc183ee08ee21c4d39924d761eb68f58ddf9b86a10649...</td>\n      <td>bostrom1cgzaccc6kxrppkuwt2qghg59qtwccpynxhts40</td>\n      <td>cosmos1cgzaccc6kxrppkuwt2qghg59qtwccpyn9ylrtg</td>\n      <td>lumber treat phone smooth bulk legend crouch v...</td>\n      <td>QmRX8qYgeZoYM3M5zzQaWEpVFdpin6FvVXvp6RPQK3oufV</td>\n      <td>0x1ff92ab0e76adaf3dd7d6a040e9ddbd3222238c8904a...</td>\n      <td>{'pub_key': 'AyfqdmvZlb1jdmGHTu8fZiFaAkt3bZ6VF...</td>\n      <td>eyJwdWJfa2V5IjoiQXlmcWRtdlpsYjFqZG1HSFR1OGZaaU...</td>\n    </tr>\n  </tbody>\n</table>\n</div>"
     },
     "execution_count": 2,
     "metadata": {},
     "output_type": "execute_result"
    }
   ],
   "source": [
    "claims_list = []\n",
    "for i in range(NUMBER_OF_PARTICIPANTS):\n",
    "    claim_item = {'amount': CLAIM_AMOUNT_LIST[i],\n",
    "                  'nickname': NICKNAME_LIST[i],\n",
    "                  'avatar': AVATAR_CID_LIST[i]}\n",
    "\n",
    "    # Generate Ethereum wallet\n",
    "    ethereum_wallet = w3.eth.account.create(KEY_PHRASE)\n",
    "    claim_item['ethereum_address'] = ethereum_wallet.address.lower()\n",
    "    claim_item['ethereum_private_key'] = ethereum_wallet.privateKey.hex()\n",
    "\n",
    "    # Generate Bostrom and Cosmos wallet\n",
    "    bostrom_wallet = generate_wallet()\n",
    "    claim_item['bostrom_address'] = bostrom_wallet['address']\n",
    "    claim_item['cosmos_address'] = address_to_address(bostrom_wallet['address'], 'cosmos')\n",
    "    claim_item['cosmos_seed'] = bostrom_wallet['seed']\n",
    "\n",
    "    # Create message\n",
    "    # message_json = {\n",
    "    #     \"nickname\": claim_item['nickname'],\n",
    "    #     \"gift_claiming_address\": claim_item['ethereum_address'],\n",
    "    #     \"gift_amount\": claim_item['amount'],\n",
    "    #     \"target_address\": claim_item['bostrom_address']\n",
    "    # }\n",
    "    # claim_item['message'] = json.dumps(message_json)\n",
    "    claim_item['message'] = 'QmRX8qYgeZoYM3M5zzQaWEpVFdpin6FvVXvp6RPQK3oufV'\n",
    "\n",
    "    # Sign message form Ethereum address\n",
    "    ethereum_signed_message = \\\n",
    "        w3.eth.account.sign_message(\n",
    "            signable_message=encode_defunct(text=claim_item['message']),\n",
    "            private_key=ethereum_wallet.privateKey)\n",
    "    # print(signed_message.signature)\n",
    "    claim_item['ethereum_message_signature'] = ethereum_signed_message.signature.hex()\n",
    "\n",
    "    # Sign message form Cosmos address\n",
    "    cosmos_msg = Message(privkey=seed_to_privkey(seed=claim_item['cosmos_seed']))\n",
    "    cosmos_msg.add_message(signing_message=claim_item['message'], signer_prefix='cosmos')\n",
    "    claim_item['cosmos_message_signed_row'] = cosmos_msg.get_signed_message()\n",
    "    claim_item['cosmos_message_signature'] = b64encode(json.dumps(claim_item['cosmos_message_signed_row']).replace('\\n', '').replace(' ', '').encode('utf-8')).decode(\"utf-8\")\n",
    "\n",
    "    # Verify message\n",
    "    assert claim_item['ethereum_address'] == w3.eth.account.recover_message(\n",
    "        signable_message=encode_defunct(text=claim_item['message']),\n",
    "        signature=claim_item['ethereum_message_signature']).lower()\n",
    "\n",
    "    claims_list.append(claim_item)\n",
    "\n",
    "claims_df = pd.DataFrame(claims_list)\n",
    "claims_df.to_csv('claims_ethereum_test_data_' + str(NUMBER_OF_PARTICIPANTS) + '_addresses.csv')\n",
    "claims_df"
   ],
   "metadata": {
    "collapsed": false,
    "pycharm": {
     "name": "#%%\n"
    }
   }
  },
  {
   "cell_type": "markdown",
   "source": [
    "## Instantiate Contracts"
   ],
   "metadata": {
    "collapsed": false,
    "pycharm": {
     "name": "#%% md\n"
    }
   }
  },
  {
   "cell_type": "code",
   "execution_count": 3,
   "outputs": [],
   "source": [
    "def instantiate_contract(init_query: str, contract_code_id: str, contract_label: str, amount: str = '', display_data: bool = False) -> str:\n",
    "    _init_output, _init_error = execute_bash(\n",
    "        f'''INIT='{init_query}' \\\n",
    "            && cyber tx wasm instantiate {contract_code_id} \"$INIT\" --from $WALLET {'--amount ' + amount + 'boot' if amount else ''} --label \"{contract_label}\" \\\n",
    "            -y --gas 3500000 --broadcast-mode block -o json --chain-id={NETWORK} --node={NODE_URL}''')\n",
    "    if display_data:\n",
    "        try:\n",
    "            print(json.dumps(json.loads(_init_output.decode('utf-8')), indent=4, sort_keys=True))\n",
    "        except json.JSONDecodeError:\n",
    "            print(_init_output)\n",
    "    if _init_error:\n",
    "        print(_init_error)\n",
    "    _init_json = json.loads(_init_output)\n",
    "    return [event['attributes'][0]['value'] for event in _init_json['logs'][0]['events'] if event['type'] == 'instantiate'][0]"
   ],
   "metadata": {
    "collapsed": false,
    "pycharm": {
     "name": "#%%\n"
    }
   }
  },
  {
   "cell_type": "markdown",
   "source": [
    "### Instantiate Subspace Contracts"
   ],
   "metadata": {
    "collapsed": false,
    "pycharm": {
     "name": "#%% md\n"
    }
   }
  },
  {
   "cell_type": "code",
   "execution_count": 4,
   "outputs": [
    {
     "name": "stdout",
     "output_type": "stream",
     "text": [
      "Name subspace contract address: bostrom19zmt9dlz3wzu6jqgr9409el7nvxw66u8n67ta5424kwcg0qf269s6t03zt\n",
      "Avatar subspace contract address: bostrom16ulvzd0xp9g6wdhnnhz584ed8xzxm5wkmrsznnzk7qsskegkfutq5djtqs\n",
      "Proof subspace contract address: bostrom1ghwwe2nhxjfy7qulgu6zzmghmnjj3rx8xldr8aytghayxlftz6aqxy4c7k\n"
     ]
    }
   ],
   "source": [
    "if INIT_SUBSPACE_CONTRACTS:\n",
    "    name_subspace_contract_address = \\\n",
    "        instantiate_contract(\n",
    "            init_query=f'''{{\"owner\":\"{WALLET_ADDRESS}\", \"executer\":\"{WALLET_ADDRESS}\"}}''',\n",
    "            contract_code_id=SUBSPACE_CODE_ID,\n",
    "            contract_label='test name subspace')\n",
    "    avatar_subspace_contract_address = \\\n",
    "        instantiate_contract(\n",
    "            init_query=f'''{{\"owner\":\"{WALLET_ADDRESS}\", \"executer\":\"{WALLET_ADDRESS}\"}}''',\n",
    "            contract_code_id=SUBSPACE_CODE_ID,\n",
    "            contract_label='test avatar subspace')\n",
    "    proof_subspace_contract_address = \\\n",
    "        instantiate_contract(\n",
    "            init_query=f'''{{\"owner\":\"{WALLET_ADDRESS}\", \"executer\":\"{WALLET_ADDRESS}\"}}''',\n",
    "            contract_code_id=SUBSPACE_CODE_ID,\n",
    "            contract_label='test proof subspace')\n",
    "else:\n",
    "    name_subspace_contract_address = NAME_SUBSPACE_CONTRACT_ADDRESS\n",
    "    avatar_subspace_contract_address = AVATAR_SUBSPACE_CONTRACT_ADDRESS\n",
    "    proof_subspace_contract_address = PROOF_SUBSPACE_CONTRACT_ADDRESS\n",
    "print(f'Name subspace contract address: {name_subspace_contract_address}\\n'\n",
    "      f'Avatar subspace contract address: {avatar_subspace_contract_address}\\n'\n",
    "      f'Proof subspace contract address: {proof_subspace_contract_address}')"
   ],
   "metadata": {
    "collapsed": false,
    "pycharm": {
     "name": "#%%\n"
    }
   }
  },
  {
   "cell_type": "markdown",
   "source": [
    "### Instantiate Passport Contract"
   ],
   "metadata": {
    "collapsed": false,
    "pycharm": {
     "name": "#%% md\n"
    }
   }
  },
  {
   "cell_type": "code",
   "execution_count": 5,
   "outputs": [
    {
     "name": "stdout",
     "output_type": "stream",
     "text": [
      "Passport contract address: bostrom15hzg7eaxgs6ecn46gmu4juc9tau2w45l9cnf8n0797nmmtkdv7jscv88ra\n"
     ]
    }
   ],
   "source": [
    "if INIT_PASSPORT_CONTRACT:\n",
    "    passport_contract_address = \\\n",
    "        instantiate_contract(\n",
    "            init_query=f'''{{\"name\":\"CPT\", \"minter\":\"{WALLET_ADDRESS}\", \"owner\":\"{WALLET_ADDRESS}\", \"symbol\":\"CPT\", \"avatar_subspace\": \"{avatar_subspace_contract_address}\", \"name_subspace\": \"{name_subspace_contract_address}\", \"proof_subspace\": \"{proof_subspace_contract_address}\"}}''',\n",
    "            contract_code_id=PASSPORT_CODE_ID,\n",
    "            contract_label='test passport')\n",
    "else:\n",
    "    passport_contract_address = PASSPORT_CONTRACT_ADDRESS\n",
    "print(f'Passport contract address: {passport_contract_address}')"
   ],
   "metadata": {
    "collapsed": false,
    "pycharm": {
     "name": "#%%\n"
    }
   }
  },
  {
   "cell_type": "markdown",
   "source": [
    "### Set executor in the Subspace Contracts"
   ],
   "metadata": {
    "collapsed": false,
    "pycharm": {
     "name": "#%% md\n"
    }
   }
  },
  {
   "cell_type": "code",
   "execution_count": 6,
   "outputs": [],
   "source": [
    "def set_executor_subspace(subspace_contract_address: str, new_executor_address: str, display_data: bool = False):\n",
    "    return execute_bash(\n",
    "                f'''REGISTER='{{\"update_executer\":{{\"new_executer\":\"{new_executor_address}\"}}}}' \\\n",
    "                    && CONTRACT=\"{subspace_contract_address}\" \\\n",
    "                    && cyber tx wasm execute $CONTRACT \"$REGISTER\" --from $WALLET -o json --broadcast-mode block -y --gas=600000 --chain-id={NETWORK} --node={NODE_URL}''',\n",
    "                display_data=display_data)\n",
    "\n",
    "if INIT_PASSPORT_CONTRACT or INIT_SUBSPACE_CONTRACTS:\n",
    "    set_executor_subspace(subspace_contract_address=name_subspace_contract_address, new_executor_address=passport_contract_address)\n",
    "    set_executor_subspace(subspace_contract_address=avatar_subspace_contract_address, new_executor_address=passport_contract_address)\n",
    "    set_executor_subspace(subspace_contract_address=proof_subspace_contract_address, new_executor_address=passport_contract_address)"
   ],
   "metadata": {
    "collapsed": false,
    "pycharm": {
     "name": "#%%\n"
    }
   }
  },
  {
   "cell_type": "markdown",
   "source": [
    "### Instantiate Gift Contract"
   ],
   "metadata": {
    "collapsed": false,
    "pycharm": {
     "name": "#%% md\n"
    }
   }
  },
  {
   "cell_type": "code",
   "execution_count": 7,
   "outputs": [
    {
     "name": "stdout",
     "output_type": "stream",
     "text": [
      "Gift contract address: bostrom1qydhnhax5sqn7n9syjvz90z2a24ja798nwgt0fuytx5j7ptkqrts6yjdf8\n"
     ]
    }
   ],
   "source": [
    "if INIT_GIFT_CONTRACT:\n",
    "    gift_contract_address = \\\n",
    "        instantiate_contract(\n",
    "            init_query=f'''{{\"owner\":\"{WALLET_ADDRESS}\", \"passport\":\"{passport_contract_address}\", \"allowed_native\":\"boot\", \"initial_balance\":\"{INITIAL_BALANCE}\", \"coefficient_up\":\"{COEF_UP}\", \"coefficient_down\":\"{COEF_DOWN}\", \"coefficient\":\"{COEF_UP}\", \"target_claim\":\"{TARGET_CLAIM}\"}}''',\n",
    "            contract_code_id=GIFT_CODE_ID,\n",
    "            amount=INITIAL_BALANCE,\n",
    "            contract_label='test gift')\n",
    "else:\n",
    "    gift_contract_address = GIFT_CONTRACT_ADDRESS\n",
    "print(f'Gift contract address: {gift_contract_address}')"
   ],
   "metadata": {
    "collapsed": false,
    "pycharm": {
     "name": "#%%\n"
    }
   }
  },
  {
   "cell_type": "code",
   "execution_count": 8,
   "outputs": [],
   "source": [
    "def get_contract_name(contract_address: str) -> str:\n",
    "    address_dict = {gift_contract_address: 'Gift Contract',\n",
    "                    passport_contract_address: 'Passport Contract',\n",
    "                    WALLET_ADDRESS: 'Wallet',\n",
    "                    name_subspace_contract_address: 'Name Subspace Contract',\n",
    "                    avatar_subspace_contract_address: 'Avatar Subspace Contract',\n",
    "                    proof_subspace_contract_address: 'Proof Subspace Contract'}\n",
    "    try:\n",
    "        return address_dict[contract_address]\n",
    "    except KeyError:\n",
    "        return contract_address\n",
    "\n",
    "\n",
    "def parse_contract_execution_json(contract_execution_json: str) -> None:\n",
    "    for log_item in json.loads(contract_execution_json)['logs']:\n",
    "        for event_item in log_item['events']:\n",
    "            print('')\n",
    "            if event_item['type'] == 'message':\n",
    "                if len(event_item[\"attributes\"]) == 3:\n",
    "                    print(f'message from {get_contract_name(event_item[\"attributes\"][-1][\"value\"])} {event_item[\"attributes\"][1][\"value\"]} {event_item[\"attributes\"][0][\"value\"]}')\n",
    "                else:\n",
    "                    print(event_item)\n",
    "            elif event_item['type'] == 'execute':\n",
    "                print('execute')\n",
    "                for attr_item in event_item[\"attributes\"]:\n",
    "                    if attr_item[\"key\"] == '_contract_address':\n",
    "                        print(f'\\texecute contract: {get_contract_name(attr_item[\"value\"])}')\n",
    "                    else:\n",
    "                        print(f'\\t{attr_item[\"key\"]}: {get_contract_name(attr_item[\"value\"])}')\n",
    "            elif event_item['type'] == 'reply':\n",
    "                print('reply')\n",
    "                for attr_item in event_item[\"attributes\"]:\n",
    "                    if attr_item[\"key\"] == '_contract_address':\n",
    "                        print(f'\\treply contract: {get_contract_name(attr_item[\"value\"])}')\n",
    "                    else:\n",
    "                        print(f'\\t{attr_item[\"key\"]}: {get_contract_name(attr_item[\"value\"])}')\n",
    "            elif event_item['type'] == 'cyberlink':\n",
    "                print('cyberlinks')\n",
    "                for i, attr_item in enumerate(event_item['attributes']):\n",
    "                    if attr_item['key'] == 'particleFrom':\n",
    "                        print(f'\\t{attr_item[\"value\"]} -> {event_item[\"attributes\"][i + 1][\"value\"]}')\n",
    "                    elif attr_item['key'] == 'particleTo':\n",
    "                        pass\n",
    "                    elif attr_item['key'] == 'neuron':\n",
    "                        print(f'\\tneuron: {get_contract_name(event_item[\"attributes\"][-1][\"value\"])}\\n')\n",
    "                    else:\n",
    "                        print(f'\\t{attr_item[\"key\"]}: {get_contract_name(attr_item[\"value\"])}')\n",
    "            elif event_item['type'] == 'coin_received':\n",
    "                print('coin received')\n",
    "                for attr_item in event_item[\"attributes\"]:\n",
    "                    print(f'\\t{attr_item[\"key\"]}: {get_contract_name(attr_item[\"value\"])}')\n",
    "            elif event_item['type'] == 'coin_spent':\n",
    "                print('coin spent')\n",
    "                for attr_item in event_item[\"attributes\"]:\n",
    "                    print(f'\\t{attr_item[\"key\"]}: {get_contract_name(attr_item[\"value\"])}')\n",
    "            elif event_item['type'] == 'wasm':\n",
    "                print('wasm')\n",
    "                for attr_item in event_item[\"attributes\"]:\n",
    "                    print(f'\\t{attr_item[\"key\"]}: {get_contract_name(attr_item[\"value\"])}')\n",
    "            elif event_item['type'] == 'transfer':\n",
    "                print('transfer')\n",
    "                for attr_item in event_item[\"attributes\"]:\n",
    "                    print(f'\\t{attr_item[\"key\"]}: {get_contract_name(attr_item[\"value\"])}')\n",
    "            else:\n",
    "                print(event_item)"
   ],
   "metadata": {
    "collapsed": false,
    "pycharm": {
     "name": "#%%\n"
    }
   }
  },
  {
   "cell_type": "markdown",
   "source": [],
   "metadata": {
    "collapsed": false,
    "pycharm": {
     "name": "#%% md\n"
    }
   }
  },
  {
   "cell_type": "markdown",
   "source": [
    "### Create Merkle Root"
   ],
   "metadata": {
    "collapsed": false,
    "pycharm": {
     "name": "#%% md\n"
    }
   }
  },
  {
   "cell_type": "code",
   "execution_count": 9,
   "outputs": [],
   "source": [
    "root_source_list = [{'address': _item['ethereum_address'],\n",
    "                     'amount': str(_item['amount'])} for _item in claims_list]+ \\\n",
    "                    [{'address': _item['cosmos_address'],\n",
    "                      'amount': str(_item['amount'])} for _item in claims_list]\n",
    "\n",
    "with open(ROOT_SOURCE_FILE_NAME, 'w') as outfile:\n",
    "    outfile.write(str(root_source_list).replace(\"'\", '\"'))"
   ],
   "metadata": {
    "collapsed": false,
    "pycharm": {
     "name": "#%%\n"
    }
   }
  },
  {
   "cell_type": "code",
   "execution_count": 10,
   "outputs": [
    {
     "name": "stdout",
     "output_type": "stream",
     "text": [
      "Merkle root: 3b777b20636ad732f97c83c6c5cbeab18d8e6a8a1bdc1ec7844b56ae0d8ea3bb\n"
     ]
    }
   ],
   "source": [
    "execute_bash(f'rm {ROOT_FILE_NAME}')\n",
    "root_output, root_error = execute_bash(\n",
    "    f'merkle-airdrop-cli generateRoot --file {ROOT_SOURCE_FILE_NAME} >> {ROOT_FILE_NAME} && cat {ROOT_FILE_NAME}')\n",
    "root = root_output.replace('\\n', '')\n",
    "print(f'Merkle root: {root}')"
   ],
   "metadata": {
    "collapsed": false,
    "pycharm": {
     "name": "#%%\n"
    }
   }
  },
  {
   "cell_type": "code",
   "execution_count": 11,
   "outputs": [],
   "source": [
    "root_register_output, root_register_error = \\\n",
    "    execute_bash(\n",
    "        f'''REGISTER='{{\"register_merkle_root\":{{\"merkle_root\":\"{root}\"}}}}' \\\n",
    "            && CONTRACT=\"{gift_contract_address}\" \\\n",
    "            && cyber tx wasm execute $CONTRACT \"$REGISTER\" --from $WALLET --broadcast-mode block -y --chain-id={NETWORK} --node={NODE_URL}''')"
   ],
   "metadata": {
    "collapsed": false,
    "pycharm": {
     "name": "#%%\n"
    }
   }
  },
  {
   "cell_type": "markdown",
   "source": [
    "#### Get Merkle Root form the Gift Contract"
   ],
   "metadata": {
    "collapsed": false,
    "pycharm": {
     "name": "#%% md\n"
    }
   },
   "execution_count": 156
  },
  {
   "cell_type": "code",
   "execution_count": 12,
   "outputs": [
    {
     "name": "stdout",
     "output_type": "stream",
     "text": [
      "data:\n",
      "  merkle_root: 3b777b20636ad732f97c83c6c5cbeab18d8e6a8a1bdc1ec7844b56ae0d8ea3bb\n",
      "\n"
     ]
    }
   ],
   "source": [
    "print(\n",
    "    execute_bash(\n",
    "        f'''QUERY='{{\"merkle_root\": {{}}}}' \\\n",
    "            && cyber query wasm contract-state smart {gift_contract_address} \"$QUERY\" --chain-id={NETWORK} --node={NODE_URL}''')[0]\n",
    ")"
   ],
   "metadata": {
    "collapsed": false,
    "pycharm": {
     "name": "#%%\n"
    }
   }
  },
  {
   "cell_type": "markdown",
   "source": [
    "### Create Passports"
   ],
   "metadata": {
    "collapsed": false,
    "pycharm": {
     "name": "#%% md\n"
    }
   }
  },
  {
   "cell_type": "code",
   "execution_count": 13,
   "outputs": [
    {
     "data": {
      "text/plain": "0it [00:00, ?it/s]",
      "application/vnd.jupyter.widget-view+json": {
       "version_major": 2,
       "version_minor": 0,
       "model_id": "c93a296093d64d9f9d0e0e6e29f511b7"
      }
     },
     "metadata": {},
     "output_type": "display_data"
    },
    {
     "name": "stdout",
     "output_type": "stream",
     "text": [
      "REGISTER='{\"create_passport\":{\"avatar\":\"QmZ25aauyVnCpowNxjDguFDfvR7d1VC3PaJ8rYWzLTusDz\", \"nickname\":\"john16454401280\"}}'                     && CONTRACT=\"bostrom15hzg7eaxgs6ecn46gmu4juc9tau2w45l9cnf8n0797nmmtkdv7jscv88ra\"                     && cyber tx wasm execute $CONTRACT \"$REGISTER\" --from $WALLET -o json --broadcast-mode block -y --gas=600000 --chain-id=space-pussy-1 --node=https://rpc.space-pussy-1.cybernode.ai:443\n",
      "{\n",
      "    \"code\": 0,\n",
      "    \"codespace\": \"\",\n",
      "    \"data\": \"0A260A242F636F736D7761736D2E7761736D2E76312E4D736745786563757465436F6E7472616374\",\n",
      "    \"gas_used\": \"400027\",\n",
      "    \"gas_wanted\": \"600000\",\n",
      "    \"height\": \"1395578\",\n",
      "    \"info\": \"\",\n",
      "    \"logs\": [\n",
      "        {\n",
      "            \"events\": [\n",
      "                {\n",
      "                    \"attributes\": [\n",
      "                        {\n",
      "                            \"key\": \"particleFrom\",\n",
      "                            \"value\": \"Qmb6ckJ1zaYx2htqzsgJSK4D7QRbJesPtaL9zYHq5EVnkg\"\n",
      "                        },\n",
      "                        {\n",
      "                            \"key\": \"particleTo\",\n",
      "                            \"value\": \"QmSdjD5LsmKVAhLH2EBWJYX1a94GSAhYJepRFcRFHtU5cP\"\n",
      "                        },\n",
      "                        {\n",
      "                            \"key\": \"particleFrom\",\n",
      "                            \"value\": \"QmSdjD5LsmKVAhLH2EBWJYX1a94GSAhYJepRFcRFHtU5cP\"\n",
      "                        },\n",
      "                        {\n",
      "                            \"key\": \"particleTo\",\n",
      "                            \"value\": \"Qmb6ckJ1zaYx2htqzsgJSK4D7QRbJesPtaL9zYHq5EVnkg\"\n",
      "                        },\n",
      "                        {\n",
      "                            \"key\": \"neuron\",\n",
      "                            \"value\": \"bostrom19zmt9dlz3wzu6jqgr9409el7nvxw66u8n67ta5424kwcg0qf269s6t03zt\"\n",
      "                        },\n",
      "                        {\n",
      "                            \"key\": \"particleFrom\",\n",
      "                            \"value\": \"Qmb6ckJ1zaYx2htqzsgJSK4D7QRbJesPtaL9zYHq5EVnkg\"\n",
      "                        },\n",
      "                        {\n",
      "                            \"key\": \"particleTo\",\n",
      "                            \"value\": \"QmZ25aauyVnCpowNxjDguFDfvR7d1VC3PaJ8rYWzLTusDz\"\n",
      "                        },\n",
      "                        {\n",
      "                            \"key\": \"particleFrom\",\n",
      "                            \"value\": \"QmZ25aauyVnCpowNxjDguFDfvR7d1VC3PaJ8rYWzLTusDz\"\n",
      "                        },\n",
      "                        {\n",
      "                            \"key\": \"particleTo\",\n",
      "                            \"value\": \"Qmb6ckJ1zaYx2htqzsgJSK4D7QRbJesPtaL9zYHq5EVnkg\"\n",
      "                        },\n",
      "                        {\n",
      "                            \"key\": \"neuron\",\n",
      "                            \"value\": \"bostrom16ulvzd0xp9g6wdhnnhz584ed8xzxm5wkmrsznnzk7qsskegkfutq5djtqs\"\n",
      "                        }\n",
      "                    ],\n",
      "                    \"type\": \"cyberlink\"\n",
      "                },\n",
      "                {\n",
      "                    \"attributes\": [\n",
      "                        {\n",
      "                            \"key\": \"_contract_address\",\n",
      "                            \"value\": \"bostrom15hzg7eaxgs6ecn46gmu4juc9tau2w45l9cnf8n0797nmmtkdv7jscv88ra\"\n",
      "                        },\n",
      "                        {\n",
      "                            \"key\": \"_contract_address\",\n",
      "                            \"value\": \"bostrom19zmt9dlz3wzu6jqgr9409el7nvxw66u8n67ta5424kwcg0qf269s6t03zt\"\n",
      "                        },\n",
      "                        {\n",
      "                            \"key\": \"_contract_address\",\n",
      "                            \"value\": \"bostrom16ulvzd0xp9g6wdhnnhz584ed8xzxm5wkmrsznnzk7qsskegkfutq5djtqs\"\n",
      "                        }\n",
      "                    ],\n",
      "                    \"type\": \"execute\"\n",
      "                },\n",
      "                {\n",
      "                    \"attributes\": [\n",
      "                        {\n",
      "                            \"key\": \"action\",\n",
      "                            \"value\": \"/cosmwasm.wasm.v1.MsgExecuteContract\"\n",
      "                        },\n",
      "                        {\n",
      "                            \"key\": \"module\",\n",
      "                            \"value\": \"wasm\"\n",
      "                        },\n",
      "                        {\n",
      "                            \"key\": \"sender\",\n",
      "                            \"value\": \"bostrom135ca8hdpy9sk0ntwqzpzsvatyl48ptx5j359lz\"\n",
      "                        }\n",
      "                    ],\n",
      "                    \"type\": \"message\"\n",
      "                },\n",
      "                {\n",
      "                    \"attributes\": [\n",
      "                        {\n",
      "                            \"key\": \"_contract_address\",\n",
      "                            \"value\": \"bostrom15hzg7eaxgs6ecn46gmu4juc9tau2w45l9cnf8n0797nmmtkdv7jscv88ra\"\n",
      "                        },\n",
      "                        {\n",
      "                            \"key\": \"_contract_address\",\n",
      "                            \"value\": \"bostrom15hzg7eaxgs6ecn46gmu4juc9tau2w45l9cnf8n0797nmmtkdv7jscv88ra\"\n",
      "                        }\n",
      "                    ],\n",
      "                    \"type\": \"reply\"\n",
      "                },\n",
      "                {\n",
      "                    \"attributes\": [\n",
      "                        {\n",
      "                            \"key\": \"_contract_address\",\n",
      "                            \"value\": \"bostrom15hzg7eaxgs6ecn46gmu4juc9tau2w45l9cnf8n0797nmmtkdv7jscv88ra\"\n",
      "                        },\n",
      "                        {\n",
      "                            \"key\": \"action\",\n",
      "                            \"value\": \"mint\"\n",
      "                        },\n",
      "                        {\n",
      "                            \"key\": \"minter\",\n",
      "                            \"value\": \"bostrom15hzg7eaxgs6ecn46gmu4juc9tau2w45l9cnf8n0797nmmtkdv7jscv88ra\"\n",
      "                        },\n",
      "                        {\n",
      "                            \"key\": \"token_id\",\n",
      "                            \"value\": \"6\"\n",
      "                        }\n",
      "                    ],\n",
      "                    \"type\": \"wasm\"\n",
      "                }\n",
      "            ],\n",
      "            \"log\": \"\",\n",
      "            \"msg_index\": 0\n",
      "        }\n",
      "    ],\n",
      "    \"raw_log\": \"[{\\\"events\\\":[{\\\"type\\\":\\\"cyberlink\\\",\\\"attributes\\\":[{\\\"key\\\":\\\"particleFrom\\\",\\\"value\\\":\\\"Qmb6ckJ1zaYx2htqzsgJSK4D7QRbJesPtaL9zYHq5EVnkg\\\"},{\\\"key\\\":\\\"particleTo\\\",\\\"value\\\":\\\"QmSdjD5LsmKVAhLH2EBWJYX1a94GSAhYJepRFcRFHtU5cP\\\"},{\\\"key\\\":\\\"particleFrom\\\",\\\"value\\\":\\\"QmSdjD5LsmKVAhLH2EBWJYX1a94GSAhYJepRFcRFHtU5cP\\\"},{\\\"key\\\":\\\"particleTo\\\",\\\"value\\\":\\\"Qmb6ckJ1zaYx2htqzsgJSK4D7QRbJesPtaL9zYHq5EVnkg\\\"},{\\\"key\\\":\\\"neuron\\\",\\\"value\\\":\\\"bostrom19zmt9dlz3wzu6jqgr9409el7nvxw66u8n67ta5424kwcg0qf269s6t03zt\\\"},{\\\"key\\\":\\\"particleFrom\\\",\\\"value\\\":\\\"Qmb6ckJ1zaYx2htqzsgJSK4D7QRbJesPtaL9zYHq5EVnkg\\\"},{\\\"key\\\":\\\"particleTo\\\",\\\"value\\\":\\\"QmZ25aauyVnCpowNxjDguFDfvR7d1VC3PaJ8rYWzLTusDz\\\"},{\\\"key\\\":\\\"particleFrom\\\",\\\"value\\\":\\\"QmZ25aauyVnCpowNxjDguFDfvR7d1VC3PaJ8rYWzLTusDz\\\"},{\\\"key\\\":\\\"particleTo\\\",\\\"value\\\":\\\"Qmb6ckJ1zaYx2htqzsgJSK4D7QRbJesPtaL9zYHq5EVnkg\\\"},{\\\"key\\\":\\\"neuron\\\",\\\"value\\\":\\\"bostrom16ulvzd0xp9g6wdhnnhz584ed8xzxm5wkmrsznnzk7qsskegkfutq5djtqs\\\"}]},{\\\"type\\\":\\\"execute\\\",\\\"attributes\\\":[{\\\"key\\\":\\\"_contract_address\\\",\\\"value\\\":\\\"bostrom15hzg7eaxgs6ecn46gmu4juc9tau2w45l9cnf8n0797nmmtkdv7jscv88ra\\\"},{\\\"key\\\":\\\"_contract_address\\\",\\\"value\\\":\\\"bostrom19zmt9dlz3wzu6jqgr9409el7nvxw66u8n67ta5424kwcg0qf269s6t03zt\\\"},{\\\"key\\\":\\\"_contract_address\\\",\\\"value\\\":\\\"bostrom16ulvzd0xp9g6wdhnnhz584ed8xzxm5wkmrsznnzk7qsskegkfutq5djtqs\\\"}]},{\\\"type\\\":\\\"message\\\",\\\"attributes\\\":[{\\\"key\\\":\\\"action\\\",\\\"value\\\":\\\"/cosmwasm.wasm.v1.MsgExecuteContract\\\"},{\\\"key\\\":\\\"module\\\",\\\"value\\\":\\\"wasm\\\"},{\\\"key\\\":\\\"sender\\\",\\\"value\\\":\\\"bostrom135ca8hdpy9sk0ntwqzpzsvatyl48ptx5j359lz\\\"}]},{\\\"type\\\":\\\"reply\\\",\\\"attributes\\\":[{\\\"key\\\":\\\"_contract_address\\\",\\\"value\\\":\\\"bostrom15hzg7eaxgs6ecn46gmu4juc9tau2w45l9cnf8n0797nmmtkdv7jscv88ra\\\"},{\\\"key\\\":\\\"_contract_address\\\",\\\"value\\\":\\\"bostrom15hzg7eaxgs6ecn46gmu4juc9tau2w45l9cnf8n0797nmmtkdv7jscv88ra\\\"}]},{\\\"type\\\":\\\"wasm\\\",\\\"attributes\\\":[{\\\"key\\\":\\\"_contract_address\\\",\\\"value\\\":\\\"bostrom15hzg7eaxgs6ecn46gmu4juc9tau2w45l9cnf8n0797nmmtkdv7jscv88ra\\\"},{\\\"key\\\":\\\"action\\\",\\\"value\\\":\\\"mint\\\"},{\\\"key\\\":\\\"minter\\\",\\\"value\\\":\\\"bostrom15hzg7eaxgs6ecn46gmu4juc9tau2w45l9cnf8n0797nmmtkdv7jscv88ra\\\"},{\\\"key\\\":\\\"token_id\\\",\\\"value\\\":\\\"6\\\"}]}]}]\",\n",
      "    \"timestamp\": \"\",\n",
      "    \"tx\": null,\n",
      "    \"txhash\": \"50E8E7FF5E06747A5A9240874529EFF177E42CEEEFDE864687EAB1A8ED278987\"\n",
      "}\n"
     ]
    }
   ],
   "source": [
    "def create_passport(claim_row: pd.Series, display_data: bool = False):\n",
    "    return execute_bash(\n",
    "                f'''REGISTER='{{\"create_passport\":{{\"avatar\":\"{claim_row[\"avatar\"]}\", \"nickname\":\"{claim_row[\"nickname\"]}\"}}}}' \\\n",
    "                    && CONTRACT=\"{passport_contract_address}\" \\\n",
    "                    && cyber tx wasm execute $CONTRACT \"$REGISTER\" --from $WALLET -o json --broadcast-mode block -y --gas=600000 --chain-id={NETWORK} --node={NODE_URL}''',\n",
    "                display_data=display_data)\n",
    "\n",
    "for index, row in tqdm(claims_df.iterrows()):\n",
    "    if index == 0:\n",
    "        create_passport_json, _ = create_passport(row, display_data=True)\n",
    "    else:\n",
    "        create_passport(row)"
   ],
   "metadata": {
    "collapsed": false,
    "pycharm": {
     "name": "#%%\n"
    }
   }
  },
  {
   "cell_type": "code",
   "execution_count": 14,
   "outputs": [
    {
     "name": "stdout",
     "output_type": "stream",
     "text": [
      "\n",
      "cyberlinks\n",
      "\tQmb6ckJ1zaYx2htqzsgJSK4D7QRbJesPtaL9zYHq5EVnkg -> QmSdjD5LsmKVAhLH2EBWJYX1a94GSAhYJepRFcRFHtU5cP\n",
      "\tQmSdjD5LsmKVAhLH2EBWJYX1a94GSAhYJepRFcRFHtU5cP -> Qmb6ckJ1zaYx2htqzsgJSK4D7QRbJesPtaL9zYHq5EVnkg\n",
      "\tneuron: Avatar Subspace Contract\n",
      "\n",
      "\tQmb6ckJ1zaYx2htqzsgJSK4D7QRbJesPtaL9zYHq5EVnkg -> QmZ25aauyVnCpowNxjDguFDfvR7d1VC3PaJ8rYWzLTusDz\n",
      "\tQmZ25aauyVnCpowNxjDguFDfvR7d1VC3PaJ8rYWzLTusDz -> Qmb6ckJ1zaYx2htqzsgJSK4D7QRbJesPtaL9zYHq5EVnkg\n",
      "\tneuron: Avatar Subspace Contract\n",
      "\n",
      "\n",
      "execute\n",
      "\texecute contract: Passport Contract\n",
      "\texecute contract: Name Subspace Contract\n",
      "\texecute contract: Avatar Subspace Contract\n",
      "\n",
      "message from Wallet wasm /cosmwasm.wasm.v1.MsgExecuteContract\n",
      "\n",
      "reply\n",
      "\treply contract: Passport Contract\n",
      "\treply contract: Passport Contract\n",
      "\n",
      "wasm\n",
      "\t_contract_address: Passport Contract\n",
      "\taction: mint\n",
      "\tminter: Passport Contract\n",
      "\ttoken_id: 6\n"
     ]
    }
   ],
   "source": [
    "parse_contract_execution_json(create_passport_json)"
   ],
   "metadata": {
    "collapsed": false,
    "pycharm": {
     "name": "#%%\n"
    }
   }
  },
  {
   "cell_type": "markdown",
   "source": [
    "### Proof (Add) Address to Passports"
   ],
   "metadata": {
    "collapsed": false,
    "pycharm": {
     "name": "#%% md\n"
    }
   }
  },
  {
   "cell_type": "code",
   "execution_count": 25,
   "outputs": [
    {
     "data": {
      "text/plain": "0it [00:00, ?it/s]",
      "application/vnd.jupyter.widget-view+json": {
       "version_major": 2,
       "version_minor": 0,
       "model_id": "48328c785f89496980d4128d7e369439"
      }
     },
     "metadata": {},
     "output_type": "display_data"
    },
    {
     "name": "stdout",
     "output_type": "stream",
     "text": [
      "REGISTER='{\"proof_address\":{\"address\":\"0x20c8c123253d9a8b4b5f5ace0940dfafbac91b61\", \"nickname\":\"john16454401281\", \"signature\":\"0x1ff92ab0e76adaf3dd7d6a040e9ddbd3222238c8904a84d4521cb6a01a5e655943f1a95166566d817f3f520b6a2dc7feb0b5e6832af460234d1c2672b468987b1b\"}}'                 && CONTRACT=\"bostrom15hzg7eaxgs6ecn46gmu4juc9tau2w45l9cnf8n0797nmmtkdv7jscv88ra\"                 && cyber tx wasm execute $CONTRACT \"$REGISTER\" --from $WALLET -o json --broadcast-mode block -y --gas=400000 --chain-id=space-pussy-1 --node=https://rpc.space-pussy-1.cybernode.ai:443\n",
      "{\n",
      "    \"code\": 5,\n",
      "    \"codespace\": \"wasm\",\n",
      "    \"data\": \"\",\n",
      "    \"gas_used\": \"129167\",\n",
      "    \"gas_wanted\": \"400000\",\n",
      "    \"height\": \"1395704\",\n",
      "    \"info\": \"\",\n",
      "    \"logs\": [],\n",
      "    \"raw_log\": \"failed to execute message; message index: 0: Address is not eligible to claim airdrop, Address is not eligible to claim airdrop, signer address is not calculated addr: execute wasm contract failed\",\n",
      "    \"timestamp\": \"\",\n",
      "    \"tx\": null,\n",
      "    \"txhash\": \"6807EF98848902D60ED97D26AF2AF1681E6AFC2E166E64BDF2D9FF0F92E855FF\"\n",
      "}\n",
      "REGISTER='{\"proof_address\":{\"address\":\"cosmos1cgzaccc6kxrppkuwt2qghg59qtwccpyn9ylrtg\", \"nickname\":\"john16454401281\", \"signature\":\"eyJwdWJfa2V5IjoiQXlmcWRtdlpsYjFqZG1HSFR1OGZaaUZhQWt0M2JaNlZGOVFpdVNqdE1UNU8iLCJzaWduYXR1cmUiOiJFWmNaNC9pYVF0TGw3NWlNOFNwWHBJNmovbnRoR3RFeEhnSURDd09xUFM0RS9wQ0RaOXh1cDJ0cGhNckZieFVjdmh0ZUY2NGQxV2o3WVBHeXJGUUVWQT09In0=\"}}'                 && CONTRACT=\"bostrom15hzg7eaxgs6ecn46gmu4juc9tau2w45l9cnf8n0797nmmtkdv7jscv88ra\"                 && cyber tx wasm execute $CONTRACT \"$REGISTER\" --from $WALLET -o json --broadcast-mode block -y --gas=400000 --chain-id=space-pussy-1 --node=https://rpc.space-pussy-1.cybernode.ai:443\n",
      "{\n",
      "    \"code\": 5,\n",
      "    \"codespace\": \"wasm\",\n",
      "    \"data\": \"\",\n",
      "    \"gas_used\": \"130814\",\n",
      "    \"gas_wanted\": \"400000\",\n",
      "    \"height\": \"1395705\",\n",
      "    \"info\": \"\",\n",
      "    \"logs\": [],\n",
      "    \"raw_log\": \"failed to execute message; message index: 0: Address is not eligible to claim airdrop, Address is not eligible: execute wasm contract failed\",\n",
      "    \"timestamp\": \"\",\n",
      "    \"tx\": null,\n",
      "    \"txhash\": \"FFE78EBF4D9A34A0C008D9EBF1C264BD23939FE34B96AC61708AB659FBDA6898\"\n",
      "}\n"
     ]
    }
   ],
   "source": [
    "def proof_address(claim_row: pd.Series, network: str = 'ethereum', display_data: bool = False):\n",
    "    return execute_bash(\n",
    "            f'''REGISTER='{{\"proof_address\":{{\"address\":\"{claim_row[network + \"_address\"]}\", \"nickname\":\"{claim_row[\"nickname\"]}\", \"signature\":\"{claim_row[network + \"_message_signature\"]}\"}}}}' \\\n",
    "                && CONTRACT=\"{passport_contract_address}\" \\\n",
    "                && cyber tx wasm execute $CONTRACT \"$REGISTER\" --from $WALLET -o json --broadcast-mode block -y --gas=400000 --chain-id={NETWORK} --node={NODE_URL}''',\n",
    "            display_data=display_data)\n",
    "\n",
    "for index, row in tqdm(claims_df.iterrows()):\n",
    "    if index == 1:\n",
    "        proof_ethereum_address_json, _ = proof_address(row, display_data=True)\n",
    "        proof_cosmos_address_json, _ = proof_address(row, network='cosmos', display_data=True)\n",
    "    else:\n",
    "        pass\n",
    "        # proof_address(row)\n",
    "        # proof_address(row, network='cosmos', display_data=True)"
   ],
   "metadata": {
    "collapsed": false,
    "pycharm": {
     "name": "#%%\n"
    }
   }
  },
  {
   "cell_type": "code",
   "execution_count": 16,
   "outputs": [],
   "source": [
    "parse_contract_execution_json(proof_ethereum_address_json)"
   ],
   "metadata": {
    "collapsed": false,
    "pycharm": {
     "name": "#%%\n"
    }
   }
  },
  {
   "cell_type": "code",
   "execution_count": 17,
   "outputs": [],
   "source": [
    "parse_contract_execution_json(proof_cosmos_address_json)"
   ],
   "metadata": {
    "collapsed": false,
    "pycharm": {
     "name": "#%%\n"
    }
   }
  },
  {
   "cell_type": "markdown",
   "source": [
    "### Generate Proofs and Claim"
   ],
   "metadata": {
    "collapsed": false,
    "pycharm": {
     "name": "#%% md\n"
    }
   }
  },
  {
   "cell_type": "code",
   "execution_count": 18,
   "outputs": [
    {
     "data": {
      "text/plain": "0it [00:00, ?it/s]",
      "application/vnd.jupyter.widget-view+json": {
       "version_major": 2,
       "version_minor": 0,
       "model_id": "01a9d877af1d451db8780b6aac48cb2c"
      }
     },
     "metadata": {},
     "output_type": "display_data"
    },
    {
     "name": "stdout",
     "output_type": "stream",
     "text": [
      "merkle-airdrop-cli generateProofs --file root_testing_source_2_addresses.json --address 0x20c8c123253d9a8b4b5f5ace0940dfafbac91b61 --amount 1477000\n",
      "b\"[\\n  '1dfcaf5a7927c9f864568dbedff4e3c691c387a8e6afa0718d41663dc33c356e',\\n  '757fad3278b66353750a8d311aefe78ba17f09ae9e8cde39cb9e1fd1842e06ba'\\n]\\n\"\n",
      "CLAIM='{\"claim\":{\"nickname\":\"john16454401281\", \"gift_claiming_address\":\"0x20c8c123253d9a8b4b5f5ace0940dfafbac91b61\", \"gift_amount\":\"1477000\", \"proof\":[\"1dfcaf5a7927c9f864568dbedff4e3c691c387a8e6afa0718d41663dc33c356e\",\"757fad3278b66353750a8d311aefe78ba17f09ae9e8cde39cb9e1fd1842e06ba\"]}}'                     && cyber tx wasm execute bostrom1qydhnhax5sqn7n9syjvz90z2a24ja798nwgt0fuytx5j7ptkqrts6yjdf8 \"$CLAIM\" --from $WALLET -o json --broadcast-mode block -y --gas 400000 --chain-id=space-pussy-1 --node=https://rpc.space-pussy-1.cybernode.ai:443\n",
      "{\n",
      "    \"code\": 5,\n",
      "    \"codespace\": \"wasm\",\n",
      "    \"data\": \"\",\n",
      "    \"gas_used\": \"193852\",\n",
      "    \"gas_wanted\": \"400000\",\n",
      "    \"height\": \"1395586\",\n",
      "    \"info\": \"\",\n",
      "    \"logs\": [],\n",
      "    \"raw_log\": \"failed to execute message; message index: 0: Address is not eligible to claim airdrop, passport isn't assigned: execute wasm contract failed\",\n",
      "    \"timestamp\": \"\",\n",
      "    \"tx\": null,\n",
      "    \"txhash\": \"16D21312C3E782660431D6FC6FEF2A846069B13FE5BA507F69E8F7A6F8E3F914\"\n",
      "}\n",
      "merkle-airdrop-cli generateProofs --file root_testing_source_2_addresses.json --address cosmos1cgzaccc6kxrppkuwt2qghg59qtwccpyn9ylrtg --amount 1477000\n",
      "b\"[\\n  '20f6be095853b54e1132e84368becf7476ca3fe6d4f41a1d068d8b1a3057af87',\\n  '578fb1ff7078ff5c8cde5480380e28176afe4350e7829dcf4d555130088322d9'\\n]\\n\"\n",
      "CLAIM='{\"claim\":{\"nickname\":\"john16454401281\", \"gift_claiming_address\":\"cosmos1cgzaccc6kxrppkuwt2qghg59qtwccpyn9ylrtg\", \"gift_amount\":\"1477000\", \"proof\":[\"20f6be095853b54e1132e84368becf7476ca3fe6d4f41a1d068d8b1a3057af87\",\"578fb1ff7078ff5c8cde5480380e28176afe4350e7829dcf4d555130088322d9\"]}}'                     && cyber tx wasm execute bostrom1qydhnhax5sqn7n9syjvz90z2a24ja798nwgt0fuytx5j7ptkqrts6yjdf8 \"$CLAIM\" --from $WALLET -o json --broadcast-mode block -y --gas 400000 --chain-id=space-pussy-1 --node=https://rpc.space-pussy-1.cybernode.ai:443\n",
      "{\n",
      "    \"code\": 5,\n",
      "    \"codespace\": \"wasm\",\n",
      "    \"data\": \"\",\n",
      "    \"gas_used\": \"193913\",\n",
      "    \"gas_wanted\": \"400000\",\n",
      "    \"height\": \"1395587\",\n",
      "    \"info\": \"\",\n",
      "    \"logs\": [],\n",
      "    \"raw_log\": \"failed to execute message; message index: 0: Address is not eligible to claim airdrop, passport isn't assigned: execute wasm contract failed\",\n",
      "    \"timestamp\": \"\",\n",
      "    \"tx\": null,\n",
      "    \"txhash\": \"9C0A9C5319096A66E3B2CFCBD5B95F4CDFB2666FDB3E1060D499908D9EA89B98\"\n",
      "}\n"
     ]
    }
   ],
   "source": [
    "def generate_proof_and_claim(claim_row: pd.Series, network: str = 'ethereum', display_data: bool = False):\n",
    "    proof_output, _ = execute_bash(f'merkle-airdrop-cli generateProofs --file {ROOT_SOURCE_FILE_NAME} --address {claim_row[network + \"_address\"]} --amount {claim_row.amount}',\n",
    "                                   display_data=display_data)\n",
    "    proof = proof_output.replace('\\n','').replace(\" \",'').replace(\"'\", '\"')\n",
    "    return execute_bash(\n",
    "                f'''CLAIM='{{\"claim\":{{\"nickname\":\"{claim_row['nickname']}\", \"gift_claiming_address\":\"{claim_row[network + \"_address\"]}\", \"gift_amount\":\"{claim_row.amount}\", \"proof\":{proof}}}}}' \\\n",
    "                    && cyber tx wasm execute {gift_contract_address} \"$CLAIM\" --from $WALLET -o json --broadcast-mode block -y --gas 400000 --chain-id={NETWORK} --node={NODE_URL}''',\n",
    "                display_data=display_data)\n",
    "\n",
    "for index, row in tqdm(claims_df.iterrows()):\n",
    "    if index == 1:\n",
    "        claim_ethereum_json, _ = generate_proof_and_claim(row, display_data=True)\n",
    "        claim_cosmos_json, _ = generate_proof_and_claim(row, network='cosmos', display_data=True)\n",
    "    else:\n",
    "        generate_proof_and_claim(row)\n",
    "        generate_proof_and_claim(row, network='cosmos')"
   ],
   "metadata": {
    "collapsed": false,
    "pycharm": {
     "name": "#%%\n"
    }
   }
  },
  {
   "cell_type": "code",
   "execution_count": 19,
   "outputs": [],
   "source": [
    "parse_contract_execution_json(claim_ethereum_json)"
   ],
   "metadata": {
    "collapsed": false,
    "pycharm": {
     "name": "#%%\n"
    }
   }
  },
  {
   "cell_type": "code",
   "execution_count": 20,
   "outputs": [],
   "source": [
    "parse_contract_execution_json(claim_cosmos_json)"
   ],
   "metadata": {
    "collapsed": false,
    "pycharm": {
     "name": "#%%\n"
    }
   }
  },
  {
   "cell_type": "markdown",
   "source": [
    "### Release Gift"
   ],
   "metadata": {
    "collapsed": false,
    "pycharm": {
     "name": "#%% md\n"
    }
   },
   "execution_count": 11
  },
  {
   "cell_type": "code",
   "execution_count": 21,
   "outputs": [
    {
     "data": {
      "text/plain": "0it [00:00, ?it/s]",
      "application/vnd.jupyter.widget-view+json": {
       "version_major": 2,
       "version_minor": 0,
       "model_id": "2d2f3e724c0342269236cfcfb8d92147"
      }
     },
     "metadata": {},
     "output_type": "display_data"
    },
    {
     "name": "stdout",
     "output_type": "stream",
     "text": [
      "CLAIM='{\"release\":{\"gift_address\":\"0x20c8c123253d9a8b4b5f5ace0940dfafbac91b61\"}}'                     && cyber tx wasm execute bostrom1qydhnhax5sqn7n9syjvz90z2a24ja798nwgt0fuytx5j7ptkqrts6yjdf8 \"$CLAIM\" --from $WALLET -o json --broadcast-mode block -y --gas 400000 --chain-id=space-pussy-1 --node=https://rpc.space-pussy-1.cybernode.ai:443\n",
      "{\n",
      "    \"code\": 5,\n",
      "    \"codespace\": \"wasm\",\n",
      "    \"data\": \"\",\n",
      "    \"gas_used\": \"121075\",\n",
      "    \"gas_wanted\": \"400000\",\n",
      "    \"height\": \"1395590\",\n",
      "    \"info\": \"\",\n",
      "    \"logs\": [],\n",
      "    \"raw_log\": \"failed to execute message; message index: 0: Not claimed: execute wasm contract failed\",\n",
      "    \"timestamp\": \"\",\n",
      "    \"tx\": null,\n",
      "    \"txhash\": \"A6D02F8F18555DEC3BD24DF34002115B4CE60D62F9D41A2EB7D36A1B724B225A\"\n",
      "}\n",
      "CLAIM='{\"release\":{\"gift_address\":\"cosmos1cgzaccc6kxrppkuwt2qghg59qtwccpyn9ylrtg\"}}'                     && cyber tx wasm execute bostrom1qydhnhax5sqn7n9syjvz90z2a24ja798nwgt0fuytx5j7ptkqrts6yjdf8 \"$CLAIM\" --from $WALLET -o json --broadcast-mode block -y --gas 400000 --chain-id=space-pussy-1 --node=https://rpc.space-pussy-1.cybernode.ai:443\n",
      "{\n",
      "    \"code\": 5,\n",
      "    \"codespace\": \"wasm\",\n",
      "    \"data\": \"\",\n",
      "    \"gas_used\": \"121135\",\n",
      "    \"gas_wanted\": \"400000\",\n",
      "    \"height\": \"1395591\",\n",
      "    \"info\": \"\",\n",
      "    \"logs\": [],\n",
      "    \"raw_log\": \"failed to execute message; message index: 0: Not claimed: execute wasm contract failed\",\n",
      "    \"timestamp\": \"\",\n",
      "    \"tx\": null,\n",
      "    \"txhash\": \"4DF4727EF7BF6875D6924639886800E4402571684A36E7E23492F5CCE7847E25\"\n",
      "}\n"
     ]
    }
   ],
   "source": [
    "def release(claim_row: pd.Series, network: str = 'ethereum', display_data: bool = False):\n",
    "    return execute_bash(\n",
    "                f'''CLAIM='{{\"release\":{{\"gift_address\":\"{claim_row[network + \"_address\"]}\"}}}}' \\\n",
    "                    && cyber tx wasm execute {gift_contract_address} \"$CLAIM\" --from $WALLET -o json --broadcast-mode block -y --gas 400000 --chain-id={NETWORK} --node={NODE_URL}''',\n",
    "                display_data=display_data)\n",
    "\n",
    "for index, row in tqdm(claims_df.iterrows()):\n",
    "    if index == 1:\n",
    "        release_ethereum_json, _ = release(row, display_data=True)\n",
    "        release_cosmos_json, _ = release(row, network='cosmos', display_data=True)\n",
    "    else:\n",
    "        release(row)\n",
    "        release(row, network='cosmos')\n"
   ],
   "metadata": {
    "collapsed": false,
    "pycharm": {
     "name": "#%%\n"
    }
   }
  },
  {
   "cell_type": "code",
   "execution_count": 22,
   "outputs": [],
   "source": [
    "parse_contract_execution_json(release_ethereum_json)"
   ],
   "metadata": {
    "collapsed": false,
    "pycharm": {
     "name": "#%%\n"
    }
   }
  },
  {
   "cell_type": "code",
   "execution_count": 23,
   "outputs": [],
   "source": [
    "parse_contract_execution_json(release_cosmos_json)"
   ],
   "metadata": {
    "collapsed": false,
    "pycharm": {
     "name": "#%%\n"
    }
   }
  },
  {
   "cell_type": "code",
   "execution_count": 24,
   "outputs": [
    {
     "name": "stdout",
     "output_type": "stream",
     "text": [
      "first release: 2_878_554\n",
      "first coef: 19.56\n"
     ]
    }
   ],
   "source": [
    "# gift_address  0x30f99350a8b2e4acf87cdb197e347fb434fe0856\n",
    "# gift amount   1_477_000\n",
    "# first claim  28_885_541\n",
    "# claim transfer  100_000\n",
    "# first release 2_878_554\n",
    "\n",
    "print(f'first release: {int((28_885_541 - 100_000) * 0.1):>_}')\n",
    "print(f'first coef: {28_885_541 / 1_477_000:>,.2f}')\n"
   ],
   "metadata": {
    "collapsed": false,
    "pycharm": {
     "name": "#%%\n"
    }
   }
  },
  {
   "cell_type": "markdown",
   "source": [
    "### Add tests for Passport contract\n",
    "#### create_passport +\n",
    "#### update_name\n",
    "#### update_avatar\n",
    "#### proof_address +\n",
    "#### remove_address\n",
    "#### set_minter\n",
    "#### set_owner\n",
    "#### set_active\n",
    "#### set_subspaces\n",
    "#### transfer_nft\n",
    "#### send_nft\n",
    "#### mint\n",
    "#### burn\n",
    "#### approve\n",
    "#### approve_all\n",
    "#### revoke\n",
    "#### revoke_all\n",
    "#### Expirations\n",
    "##### at_height\n",
    "##### at_time\n",
    "##### never\n",
    "\n",
    "### Add tests for Gift contract\n",
    "#### update_owner\n",
    "#### update_passport_addr\n",
    "#### update_target\n",
    "#### register_merkle_root +\n",
    "#### claim +\n",
    "#### release +\n",
    "\n",
    "### Add tests for Subspace contract\n",
    "#### update_owner\n",
    "#### update_executer +"
   ],
   "metadata": {
    "collapsed": false,
    "pycharm": {
     "name": "#%% md\n"
    }
   }
  },
  {
   "cell_type": "code",
   "execution_count": 24,
   "outputs": [],
   "source": [],
   "metadata": {
    "collapsed": false,
    "pycharm": {
     "name": "#%%\n"
    }
   }
  }
 ],
 "metadata": {
  "kernelspec": {
   "display_name": "Python 3",
   "language": "python",
   "name": "python3"
  },
  "language_info": {
   "codemirror_mode": {
    "name": "ipython",
    "version": 2
   },
   "file_extension": ".py",
   "mimetype": "text/x-python",
   "name": "python",
   "nbconvert_exporter": "python",
   "pygments_lexer": "ipython2",
   "version": "2.7.6"
  }
 },
 "nbformat": 4,
 "nbformat_minor": 0
}