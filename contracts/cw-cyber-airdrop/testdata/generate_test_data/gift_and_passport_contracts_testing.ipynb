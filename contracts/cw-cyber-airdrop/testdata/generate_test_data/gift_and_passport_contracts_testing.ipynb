{
 "cells": [
  {
   "cell_type": "markdown",
   "metadata": {
    "collapsed": true,
    "pycharm": {
     "name": "#%% md\n"
    }
   },
   "source": [
    "## Gift Contract Testing"
   ]
  },
  {
   "cell_type": "code",
   "source": [
    "from web3.auto import w3\n",
    "import pandas as pd\n",
    "from cyberpy import generate_wallet, address_to_address\n",
    "from cyberpy._message_signer import Message\n",
    "from cyberpy._wallet import seed_to_privkey\n",
    "from eth_account.messages import encode_defunct\n",
    "import json\n",
    "from subprocess import Popen, PIPE\n",
    "import os\n",
    "from time import time\n",
    "import ipfshttpclient\n",
    "from tqdm.notebook import tqdm\n",
    "from base64 import b64encode\n",
    "\n",
    "client = ipfshttpclient.connect()\n",
    "\n",
    "NUMBER_OF_PARTICIPANTS = 2\n",
    "KEY_PHRASE = 'KEY PHRASE'\n",
    "NICKNAME_LIST = [f'john{round(time())}{number}' for number in range(NUMBER_OF_PARTICIPANTS)]\n",
    "AVATAR_CID_LIST = [client.add_str(_nickname + 'avatar') for _nickname in NICKNAME_LIST]\n",
    "CLAIM_AMOUNT_LIST = [1_477_000]\n",
    "\n",
    "INITIAL_BALANCE = str(1_000_000_000)\n",
    "COEF_UP = str(20)\n",
    "COEF_DOWN = str(5)\n",
    "TARGET_CLAIM = str(2)\n",
    "\n",
    "NODE_URL = 'https://rpc.space-pussy-1.cybernode.ai:443'\n",
    "NETWORK = 'space-pussy-1'\n",
    "\n",
    "INIT_PASSPORT_CONTRACT = False\n",
    "PASSPORT_CODE_ID = str(18)\n",
    "PASSPORT_CONTRACT_ADDRESS = 'bostrom1hxwv9eu9duxkuvluunxlayy9dhzwtm3e84fx47suf5jju04gumsqx7afgz'\n",
    "\n",
    "INIT_GIFT_CONTRACT = False\n",
    "GIFT_CODE_ID = str(20)\n",
    "GIFT_CONTRACT_ADDRESS = 'bostrom1fs5xwhralvmm49jdpy7grazcw8fsftu6d0pwn79xerkak65f83mqkn75jf'\n",
    "\n",
    "ROOT_SOURCE_FILE_NAME = 'root_testing_source_' + str(NUMBER_OF_PARTICIPANTS) + '_addresses.json'\n",
    "ROOT_FILE_NAME = 'root_testing_' + str(NUMBER_OF_PARTICIPANTS) + '_addresses'\n",
    "\n",
    "def execute_bash(bash_command: str, display_data: bool = False) -> [str, str]:\n",
    "    _output, _error = Popen(bash_command, shell=True, stdout=PIPE, stderr=PIPE).communicate()\n",
    "    if _error:\n",
    "        display_data = True\n",
    "    if display_data:\n",
    "        print(bash_command)\n",
    "        print(_output.decode('utf-8'))\n",
    "        print(_error.decode('utf-8'))\n",
    "    return _output.decode('utf-8'), _error.decode('utf-8')"
   ],
   "metadata": {
    "collapsed": false,
    "pycharm": {
     "name": "#%%\n"
    }
   },
   "execution_count": 1,
   "outputs": [
    {
     "name": "stderr",
     "output_type": "stream",
     "text": [
      "/Users/sergenedashkovsky/Library/Python/3.8/lib/python/site-packages/ipfshttpclient/client/__init__.py:75: VersionMismatch: Unsupported daemon version '0.10.0' (not in range: 0.5.0 ≤ … < 0.9.0)\n",
      "  warnings.warn(exceptions.VersionMismatch(version, minimum, maximum))\n"
     ]
    }
   ]
  },
  {
   "cell_type": "markdown",
   "source": [
    "### Generate addresses and sign messages"
   ],
   "metadata": {
    "collapsed": false,
    "pycharm": {
     "name": "#%% md\n"
    }
   }
  },
  {
   "cell_type": "code",
   "execution_count": 2,
   "outputs": [
    {
     "data": {
      "text/plain": "    amount         nickname                                          avatar  \\\n0  1477000  john16443172440  QmQHSQFjJgssCY169nDzN4Dfi7Gf6eeSFExtMAcGqA8nBc   \n1  1477000  john16443172440  QmQHSQFjJgssCY169nDzN4Dfi7Gf6eeSFExtMAcGqA8nBc   \n\n                             ethereum_address  \\\n0  0x08d8dd519689b85d36fd318fa88bd5d1586c4d6b   \n1  0x58d86dd6b9a3915eb91706f840fa3ff179cd8fa8   \n\n                                ethereum_private_key  \\\n0  0x0954aa3aac2ee8e3aeaed2343bf5bf407107780832d2...   \n1  0xc1cb7f73a3d1e049b827c11d0fb16e4f30d27f6f79c6...   \n\n                                  bostrom_address  \\\n0  bostrom1klp3t8kk7w924tw8et6gj7qtgfap8du0dqa0xe   \n1  bostrom1tzj65n3emke5yx2ff93jhau8aennnnpjwpup8r   \n\n                                  cosmos_address  \\\n0  cosmos1klp3t8kk7w924tw8et6gj7qtgfap8du0wnfuc7   \n1  cosmos1tzj65n3emke5yx2ff93jhau8aennnnpjdjgjey   \n\n                                         cosmos_seed  \\\n0  guitar travel bench congress dumb ride casino ...   \n1  strike silent agent worry dolphin fantasy stoc...   \n\n                                          message  \\\n0  QmRX8qYgeZoYM3M5zzQaWEpVFdpin6FvVXvp6RPQK3oufV   \n1  QmRX8qYgeZoYM3M5zzQaWEpVFdpin6FvVXvp6RPQK3oufV   \n\n                          ethereum_message_signature  \\\n0  0x4c94599713ce86629ef3975d460429ac01ac0942bc57...   \n1  0xe06da8bf81781d90ff52a2d9acf2522376803f238c8e...   \n\n                           cosmos_message_signed_row  \\\n0  {'pub_key': 'Awr+wK9wc00Ur0pATcxG3XKeqm74MoXdL...   \n1  {'pub_key': 'AudAUcXCTDqtGHM97PskQ0jmL1A5wkMNl...   \n\n                            cosmos_message_signature  \n0  eyJwdWJfa2V5IjoiQXdyK3dLOXdjMDBVcjBwQVRjeEczWE...  \n1  eyJwdWJfa2V5IjoiQXVkQVVjWENURHF0R0hNOTdQc2tRMG...  ",
      "text/html": "<div>\n<style scoped>\n    .dataframe tbody tr th:only-of-type {\n        vertical-align: middle;\n    }\n\n    .dataframe tbody tr th {\n        vertical-align: top;\n    }\n\n    .dataframe thead th {\n        text-align: right;\n    }\n</style>\n<table border=\"1\" class=\"dataframe\">\n  <thead>\n    <tr style=\"text-align: right;\">\n      <th></th>\n      <th>amount</th>\n      <th>nickname</th>\n      <th>avatar</th>\n      <th>ethereum_address</th>\n      <th>ethereum_private_key</th>\n      <th>bostrom_address</th>\n      <th>cosmos_address</th>\n      <th>cosmos_seed</th>\n      <th>message</th>\n      <th>ethereum_message_signature</th>\n      <th>cosmos_message_signed_row</th>\n      <th>cosmos_message_signature</th>\n    </tr>\n  </thead>\n  <tbody>\n    <tr>\n      <th>0</th>\n      <td>1477000</td>\n      <td>john16443172440</td>\n      <td>QmQHSQFjJgssCY169nDzN4Dfi7Gf6eeSFExtMAcGqA8nBc</td>\n      <td>0x08d8dd519689b85d36fd318fa88bd5d1586c4d6b</td>\n      <td>0x0954aa3aac2ee8e3aeaed2343bf5bf407107780832d2...</td>\n      <td>bostrom1klp3t8kk7w924tw8et6gj7qtgfap8du0dqa0xe</td>\n      <td>cosmos1klp3t8kk7w924tw8et6gj7qtgfap8du0wnfuc7</td>\n      <td>guitar travel bench congress dumb ride casino ...</td>\n      <td>QmRX8qYgeZoYM3M5zzQaWEpVFdpin6FvVXvp6RPQK3oufV</td>\n      <td>0x4c94599713ce86629ef3975d460429ac01ac0942bc57...</td>\n      <td>{'pub_key': 'Awr+wK9wc00Ur0pATcxG3XKeqm74MoXdL...</td>\n      <td>eyJwdWJfa2V5IjoiQXdyK3dLOXdjMDBVcjBwQVRjeEczWE...</td>\n    </tr>\n    <tr>\n      <th>1</th>\n      <td>1477000</td>\n      <td>john16443172440</td>\n      <td>QmQHSQFjJgssCY169nDzN4Dfi7Gf6eeSFExtMAcGqA8nBc</td>\n      <td>0x58d86dd6b9a3915eb91706f840fa3ff179cd8fa8</td>\n      <td>0xc1cb7f73a3d1e049b827c11d0fb16e4f30d27f6f79c6...</td>\n      <td>bostrom1tzj65n3emke5yx2ff93jhau8aennnnpjwpup8r</td>\n      <td>cosmos1tzj65n3emke5yx2ff93jhau8aennnnpjdjgjey</td>\n      <td>strike silent agent worry dolphin fantasy stoc...</td>\n      <td>QmRX8qYgeZoYM3M5zzQaWEpVFdpin6FvVXvp6RPQK3oufV</td>\n      <td>0xe06da8bf81781d90ff52a2d9acf2522376803f238c8e...</td>\n      <td>{'pub_key': 'AudAUcXCTDqtGHM97PskQ0jmL1A5wkMNl...</td>\n      <td>eyJwdWJfa2V5IjoiQXVkQVVjWENURHF0R0hNOTdQc2tRMG...</td>\n    </tr>\n  </tbody>\n</table>\n</div>"
     },
     "execution_count": 2,
     "metadata": {},
     "output_type": "execute_result"
    }
   ],
   "source": [
    "claims_list = []\n",
    "for _ in range(NUMBER_OF_PARTICIPANTS):\n",
    "    claim_item = {'amount': CLAIM_AMOUNT_LIST[0],\n",
    "                  'nickname': NICKNAME_LIST[0],\n",
    "                  'avatar': AVATAR_CID_LIST[0]}\n",
    "\n",
    "    # Generate Ethereum wallet\n",
    "    ethereum_wallet = w3.eth.account.create(KEY_PHRASE)\n",
    "    claim_item['ethereum_address'] = ethereum_wallet.address.lower()\n",
    "    claim_item['ethereum_private_key'] = ethereum_wallet.privateKey.hex()\n",
    "\n",
    "    # Generate Bostrom and Cosmos wallet\n",
    "    bostrom_wallet = generate_wallet()\n",
    "    claim_item['bostrom_address'] = bostrom_wallet['address']\n",
    "    claim_item['cosmos_address'] = address_to_address(bostrom_wallet['address'], 'cosmos')\n",
    "    claim_item['cosmos_seed'] = bostrom_wallet['seed']\n",
    "\n",
    "    # Create message\n",
    "    # message_json = {\n",
    "    #     \"nickname\": claim_item['nickname'],\n",
    "    #     \"gift_claiming_address\": claim_item['ethereum_address'],\n",
    "    #     \"gift_amount\": claim_item['amount'],\n",
    "    #     \"target_address\": claim_item['bostrom_address']\n",
    "    # }\n",
    "    # claim_item['message'] = json.dumps(message_json)\n",
    "    claim_item['message'] = 'QmRX8qYgeZoYM3M5zzQaWEpVFdpin6FvVXvp6RPQK3oufV'\n",
    "\n",
    "    # Sign message form Ethereum address\n",
    "    ethereum_signed_message = \\\n",
    "        w3.eth.account.sign_message(\n",
    "            signable_message=encode_defunct(text=claim_item['message']),\n",
    "            private_key=ethereum_wallet.privateKey)\n",
    "    # print(signed_message.signature)\n",
    "    claim_item['ethereum_message_signature'] = ethereum_signed_message.signature.hex()\n",
    "\n",
    "    # Sign message form Cosmos address\n",
    "    cosmos_msg = Message(privkey=seed_to_privkey(seed=claim_item['cosmos_seed']))\n",
    "    cosmos_msg.add_message(signing_message=claim_item['message'], signer_prefix='cosmos')\n",
    "    claim_item['cosmos_message_signed_row'] = cosmos_msg.get_signed_message()\n",
    "    claim_item['cosmos_message_signature'] = b64encode(json.dumps(claim_item['cosmos_message_signed_row']).replace('\\n', '').replace(' ', '').encode('utf-8')).decode(\"utf-8\")\n",
    "\n",
    "    # Verify message\n",
    "    assert claim_item['ethereum_address'] == w3.eth.account.recover_message(\n",
    "        signable_message=encode_defunct(text=claim_item['message']),\n",
    "        signature=claim_item['ethereum_message_signature']).lower()\n",
    "\n",
    "    claims_list.append(claim_item)\n",
    "\n",
    "claims_df = pd.DataFrame(claims_list)\n",
    "claims_df.to_csv('claims_ethereum_test_data_' + str(NUMBER_OF_PARTICIPANTS) + '_addresses.csv')\n",
    "claims_df"
   ],
   "metadata": {
    "collapsed": false,
    "pycharm": {
     "name": "#%%\n"
    }
   }
  },
  {
   "cell_type": "markdown",
   "source": [
    "### Instantiate Gift Contract"
   ],
   "metadata": {
    "collapsed": false,
    "pycharm": {
     "name": "#%% md\n"
    }
   }
  },
  {
   "cell_type": "code",
   "execution_count": 3,
   "outputs": [
    {
     "name": "stdout",
     "output_type": "stream",
     "text": [
      "Gift contract address: bostrom1fs5xwhralvmm49jdpy7grazcw8fsftu6d0pwn79xerkak65f83mqkn75jf\n"
     ]
    }
   ],
   "source": [
    "if INIT_GIFT_CONTRACT:\n",
    "    init_output, init_error = execute_bash(\n",
    "        f'''INIT='{{\"owner\":\"{os.getenv('WALLET_ADDRESS')}\", \"passport\":\"{PASSPORT_CONTRACT_ADDRESS}\", \"allowed_native\":\"boot\", \"initial_balance\":\"{INITIAL_BALANCE}\", \"coefficient_up\":\"{COEF_UP}\", \"coefficient_down\":\"{COEF_DOWN}\", \"coefficient\":\"{COEF_UP}\", \"target_claim\":\"{TARGET_CLAIM}\"}}' \\\n",
    "               && cyber tx wasm instantiate {GIFT_CODE_ID} \"$INIT\" --from $WALLET --amount {INITIAL_BALANCE}boot --label \"cybergift test\" -y --gas 3500000 --broadcast-mode block -o json --chain-id={NETWORK} --node={NODE_URL}''')\n",
    "    if init_error:\n",
    "        print(init_error)\n",
    "    init_json = json.loads(init_output)\n",
    "    gift_contract_address = \\\n",
    "        [event['attributes'][0]['value'] for event in init_json['logs'][0]['events'] if event['type'] == 'instantiate'][0]\n",
    "else:\n",
    "    gift_contract_address = GIFT_CONTRACT_ADDRESS\n",
    "print(f'Gift contract address: {gift_contract_address}')"
   ],
   "metadata": {
    "collapsed": false,
    "pycharm": {
     "name": "#%%\n"
    }
   }
  },
  {
   "cell_type": "markdown",
   "source": [],
   "metadata": {
    "collapsed": false,
    "pycharm": {
     "name": "#%% md\n"
    }
   }
  },
  {
   "cell_type": "code",
   "execution_count": 4,
   "outputs": [
    {
     "name": "stdout",
     "output_type": "stream",
     "text": [
      "Passport contract address: bostrom1hxwv9eu9duxkuvluunxlayy9dhzwtm3e84fx47suf5jju04gumsqx7afgz\n"
     ]
    }
   ],
   "source": [
    "if INIT_PASSPORT_CONTRACT:\n",
    "    init_output, init_error = execute_bash(\n",
    "        f'''INIT='{{\"name\":\"CPT\", \"minter\":\"{os.getenv('WALLET_ADDRESS')}\", \"owner\":\"{os.getenv('WALLET_ADDRESS')}\", \"symbol\":\"CPT\"}}' \\\n",
    "               && cyber tx wasm instantiate {PASSPORT_CODE_ID} \"$INIT\" --from $WALLET --amount {INITIAL_BALANCE}boot --label \"cybergift test\" -y --gas 3500000 --broadcast-mode block -o json --chain-id={NETWORK} --node={NODE_URL}''')\n",
    "    if init_error:\n",
    "        print(init_error)\n",
    "    init_json = json.loads(init_output)\n",
    "    passport_contract_address = \\\n",
    "        [event['attributes'][0]['value'] for event in init_json['logs'][0]['events'] if event['type'] == 'instantiate'][0]\n",
    "else:\n",
    "    passport_contract_address = PASSPORT_CONTRACT_ADDRESS\n",
    "print(f'Passport contract address: {passport_contract_address}')"
   ],
   "metadata": {
    "collapsed": false,
    "pycharm": {
     "name": "#%%\n"
    }
   }
  },
  {
   "cell_type": "markdown",
   "source": [
    "### Create Merkle Root"
   ],
   "metadata": {
    "collapsed": false,
    "pycharm": {
     "name": "#%% md\n"
    }
   }
  },
  {
   "cell_type": "code",
   "execution_count": 5,
   "outputs": [],
   "source": [
    "root_source_list = [{'address': _item['ethereum_address'],\n",
    "                     'amount': str(_item['amount'])} for _item in claims_list]+ \\\n",
    "                    [{'address': _item['cosmos_address'],\n",
    "                      'amount': str(_item['amount'])} for _item in claims_list]\n",
    "\n",
    "with open(ROOT_SOURCE_FILE_NAME, 'w') as outfile:\n",
    "    outfile.write(str(root_source_list).replace(\"'\", '\"'))"
   ],
   "metadata": {
    "collapsed": false,
    "pycharm": {
     "name": "#%%\n"
    }
   }
  },
  {
   "cell_type": "code",
   "execution_count": 6,
   "outputs": [
    {
     "name": "stdout",
     "output_type": "stream",
     "text": [
      "Merkle root: 8eb0a8b9253b71e260553b20fef948bd9746cdfca4de6ec7a55d297d2d8bf185\n"
     ]
    }
   ],
   "source": [
    "execute_bash(f'rm {ROOT_FILE_NAME}')\n",
    "root_output, root_error = execute_bash(\n",
    "    f'merkle-airdrop-cli generateRoot --file {ROOT_SOURCE_FILE_NAME} >> {ROOT_FILE_NAME} && cat {ROOT_FILE_NAME}')\n",
    "root = root_output.replace('\\n', '')\n",
    "print(f'Merkle root: {root}')"
   ],
   "metadata": {
    "collapsed": false,
    "pycharm": {
     "name": "#%%\n"
    }
   }
  },
  {
   "cell_type": "code",
   "execution_count": 7,
   "outputs": [],
   "source": [
    "root_register_output, root_register_error = \\\n",
    "    execute_bash(\n",
    "        f'''REGISTER='{{\"register_merkle_root\":{{\"merkle_root\":\"{root}\"}}}}' \\\n",
    "            && CONTRACT=\"{gift_contract_address}\" \\\n",
    "            && cyber tx wasm execute $CONTRACT \"$REGISTER\" --from $WALLET --broadcast-mode block -y --chain-id={NETWORK} --node={NODE_URL}''')"
   ],
   "metadata": {
    "collapsed": false,
    "pycharm": {
     "name": "#%%\n"
    }
   }
  },
  {
   "cell_type": "markdown",
   "source": [
    "#### Get Merkle Root form the Gift Contract"
   ],
   "metadata": {
    "collapsed": false,
    "pycharm": {
     "name": "#%% md\n"
    }
   },
   "execution_count": 156
  },
  {
   "cell_type": "code",
   "execution_count": 8,
   "outputs": [
    {
     "name": "stdout",
     "output_type": "stream",
     "text": [
      "data:\n",
      "  merkle_root: 8eb0a8b9253b71e260553b20fef948bd9746cdfca4de6ec7a55d297d2d8bf185\n",
      "\n"
     ]
    }
   ],
   "source": [
    "print(\n",
    "    execute_bash(\n",
    "        f'''QUERY='{{\"merkle_root\": {{}}}}' \\\n",
    "            && cyber query wasm contract-state smart {gift_contract_address} \"$QUERY\" --chain-id={NETWORK} --node={NODE_URL}''')[0]\n",
    ")"
   ],
   "metadata": {
    "collapsed": false,
    "pycharm": {
     "name": "#%%\n"
    }
   }
  },
  {
   "cell_type": "markdown",
   "source": [
    "### Create Passports"
   ],
   "metadata": {
    "collapsed": false,
    "pycharm": {
     "name": "#%% md\n"
    }
   }
  },
  {
   "cell_type": "code",
   "execution_count": 9,
   "outputs": [
    {
     "data": {
      "text/plain": "0it [00:00, ?it/s]",
      "application/vnd.jupyter.widget-view+json": {
       "version_major": 2,
       "version_minor": 0,
       "model_id": "76397c18e8aa48e09724bf46a5217c5d"
      }
     },
     "metadata": {},
     "output_type": "display_data"
    },
    {
     "name": "stdout",
     "output_type": "stream",
     "text": [
      "REGISTER='{\"create_passport\":{\"avatar\":\"QmQHSQFjJgssCY169nDzN4Dfi7Gf6eeSFExtMAcGqA8nBc\", \"nickname\":\"john16443172440\"}}'                     && CONTRACT=\"bostrom1hxwv9eu9duxkuvluunxlayy9dhzwtm3e84fx47suf5jju04gumsqx7afgz\"                     && cyber tx wasm execute $CONTRACT \"$REGISTER\" --from $WALLET --broadcast-mode block -y --gas=400000 --chain-id=space-pussy-1 --node=https://rpc.space-pussy-1.cybernode.ai:443\n",
      "code: 0\n",
      "codespace: \"\"\n",
      "data: 0A260A242F636F736D7761736D2E7761736D2E76312E4D736745786563757465436F6E7472616374\n",
      "gas_used: \"227940\"\n",
      "gas_wanted: \"400000\"\n",
      "height: \"1175691\"\n",
      "info: \"\"\n",
      "logs:\n",
      "- events:\n",
      "  - attributes:\n",
      "    - key: particleFrom\n",
      "      value: QmNbQbcUooRXS5gepU1M78qGUKE25x7aJfo6GKTEWn9amf\n",
      "    - key: particleTo\n",
      "      value: QmTc6XV8KUrvsY1j2TJgXRe6FmZsBtKSr9USKN1vXN9vMZ\n",
      "    - key: particleFrom\n",
      "      value: QmNbQbcUooRXS5gepU1M78qGUKE25x7aJfo6GKTEWn9amf\n",
      "    - key: particleTo\n",
      "      value: QmQHSQFjJgssCY169nDzN4Dfi7Gf6eeSFExtMAcGqA8nBc\n",
      "    - key: particleFrom\n",
      "      value: QmTc6XV8KUrvsY1j2TJgXRe6FmZsBtKSr9USKN1vXN9vMZ\n",
      "    - key: particleTo\n",
      "      value: QmNbQbcUooRXS5gepU1M78qGUKE25x7aJfo6GKTEWn9amf\n",
      "    - key: particleFrom\n",
      "      value: QmQHSQFjJgssCY169nDzN4Dfi7Gf6eeSFExtMAcGqA8nBc\n",
      "    - key: particleTo\n",
      "      value: QmNbQbcUooRXS5gepU1M78qGUKE25x7aJfo6GKTEWn9amf\n",
      "    - key: neuron\n",
      "      value: bostrom1hxwv9eu9duxkuvluunxlayy9dhzwtm3e84fx47suf5jju04gumsqx7afgz\n",
      "    type: cyberlink\n",
      "  - attributes:\n",
      "    - key: _contract_address\n",
      "      value: bostrom1hxwv9eu9duxkuvluunxlayy9dhzwtm3e84fx47suf5jju04gumsqx7afgz\n",
      "    type: execute\n",
      "  - attributes:\n",
      "    - key: action\n",
      "      value: /cosmwasm.wasm.v1.MsgExecuteContract\n",
      "    - key: module\n",
      "      value: wasm\n",
      "    - key: sender\n",
      "      value: bostrom135ca8hdpy9sk0ntwqzpzsvatyl48ptx5j359lz\n",
      "    type: message\n",
      "  - attributes:\n",
      "    - key: _contract_address\n",
      "      value: bostrom1hxwv9eu9duxkuvluunxlayy9dhzwtm3e84fx47suf5jju04gumsqx7afgz\n",
      "    - key: action\n",
      "      value: mint\n",
      "    - key: minter\n",
      "      value: bostrom1hxwv9eu9duxkuvluunxlayy9dhzwtm3e84fx47suf5jju04gumsqx7afgz\n",
      "    - key: token_id\n",
      "      value: \"19\"\n",
      "    type: wasm\n",
      "  log: \"\"\n",
      "  msg_index: 0\n",
      "raw_log: '[{\"events\":[{\"type\":\"cyberlink\",\"attributes\":[{\"key\":\"particleFrom\",\"value\":\"QmNbQbcUooRXS5gepU1M78qGUKE25x7aJfo6GKTEWn9amf\"},{\"key\":\"particleTo\",\"value\":\"QmTc6XV8KUrvsY1j2TJgXRe6FmZsBtKSr9USKN1vXN9vMZ\"},{\"key\":\"particleFrom\",\"value\":\"QmNbQbcUooRXS5gepU1M78qGUKE25x7aJfo6GKTEWn9amf\"},{\"key\":\"particleTo\",\"value\":\"QmQHSQFjJgssCY169nDzN4Dfi7Gf6eeSFExtMAcGqA8nBc\"},{\"key\":\"particleFrom\",\"value\":\"QmTc6XV8KUrvsY1j2TJgXRe6FmZsBtKSr9USKN1vXN9vMZ\"},{\"key\":\"particleTo\",\"value\":\"QmNbQbcUooRXS5gepU1M78qGUKE25x7aJfo6GKTEWn9amf\"},{\"key\":\"particleFrom\",\"value\":\"QmQHSQFjJgssCY169nDzN4Dfi7Gf6eeSFExtMAcGqA8nBc\"},{\"key\":\"particleTo\",\"value\":\"QmNbQbcUooRXS5gepU1M78qGUKE25x7aJfo6GKTEWn9amf\"},{\"key\":\"neuron\",\"value\":\"bostrom1hxwv9eu9duxkuvluunxlayy9dhzwtm3e84fx47suf5jju04gumsqx7afgz\"}]},{\"type\":\"execute\",\"attributes\":[{\"key\":\"_contract_address\",\"value\":\"bostrom1hxwv9eu9duxkuvluunxlayy9dhzwtm3e84fx47suf5jju04gumsqx7afgz\"}]},{\"type\":\"message\",\"attributes\":[{\"key\":\"action\",\"value\":\"/cosmwasm.wasm.v1.MsgExecuteContract\"},{\"key\":\"module\",\"value\":\"wasm\"},{\"key\":\"sender\",\"value\":\"bostrom135ca8hdpy9sk0ntwqzpzsvatyl48ptx5j359lz\"}]},{\"type\":\"wasm\",\"attributes\":[{\"key\":\"_contract_address\",\"value\":\"bostrom1hxwv9eu9duxkuvluunxlayy9dhzwtm3e84fx47suf5jju04gumsqx7afgz\"},{\"key\":\"action\",\"value\":\"mint\"},{\"key\":\"minter\",\"value\":\"bostrom1hxwv9eu9duxkuvluunxlayy9dhzwtm3e84fx47suf5jju04gumsqx7afgz\"},{\"key\":\"token_id\",\"value\":\"19\"}]}]}]'\n",
      "timestamp: \"\"\n",
      "tx: null\n",
      "txhash: 98D906104DB987D69080B4BB3A5DDD5D4FA3D2749BE78828F59D57E2A0DC491D\n",
      "\n",
      "\n"
     ]
    }
   ],
   "source": [
    "def create_passport(claim_row: pd.Series, display_data: bool = False):\n",
    "    return execute_bash(\n",
    "                f'''REGISTER='{{\"create_passport\":{{\"avatar\":\"{claim_row[\"avatar\"]}\", \"nickname\":\"{claim_row[\"nickname\"]}\"}}}}' \\\n",
    "                    && CONTRACT=\"{passport_contract_address}\" \\\n",
    "                    && cyber tx wasm execute $CONTRACT \"$REGISTER\" --from $WALLET --broadcast-mode block -y --gas=400000 --chain-id={NETWORK} --node={NODE_URL}''',\n",
    "                display_data=display_data)\n",
    "\n",
    "for index, row in tqdm(claims_df.iterrows()):\n",
    "    if index == 0:\n",
    "        create_passport(row, display_data=True)\n",
    "    else:\n",
    "        create_passport(row)"
   ],
   "metadata": {
    "collapsed": false,
    "pycharm": {
     "name": "#%%\n"
    }
   }
  },
  {
   "cell_type": "markdown",
   "source": [
    "### Proof (Add) Address to Passports"
   ],
   "metadata": {
    "collapsed": false,
    "pycharm": {
     "name": "#%% md\n"
    }
   }
  },
  {
   "cell_type": "code",
   "execution_count": 10,
   "outputs": [
    {
     "data": {
      "text/plain": "0it [00:00, ?it/s]",
      "application/vnd.jupyter.widget-view+json": {
       "version_major": 2,
       "version_minor": 0,
       "model_id": "553f34c27cc94518af61ebaf641cb2c3"
      }
     },
     "metadata": {},
     "output_type": "display_data"
    },
    {
     "name": "stdout",
     "output_type": "stream",
     "text": [
      "REGISTER='{\"proof_address\":{\"nickname\":\"john16443172440\", \"address\":\"cosmos1tzj65n3emke5yx2ff93jhau8aennnnpjdjgjey\", \"signature\":\"eyJwdWJfa2V5IjoiQXVkQVVjWENURHF0R0hNOTdQc2tRMGptTDFBNXdrTU5sSFp1QXRwNTZyOUEiLCJzaWduYXR1cmUiOiJtQmw2Y1FUSTMzRHF1S211NWFBNHYxblcyQUxLKzdyWWtaM0lXNFVvK3Znc3NYOHJjN0hoV05od0ZnMmZQTXlZbnhMSjJzZVdQczVnbnh6RFNlNlEvQT09In0=\"}}'                 && CONTRACT=\"bostrom1hxwv9eu9duxkuvluunxlayy9dhzwtm3e84fx47suf5jju04gumsqx7afgz\"                 && cyber tx wasm execute $CONTRACT \"$REGISTER\" --from $WALLET --broadcast-mode block -y --gas=400000 --chain-id=space-pussy-1 --node=https://rpc.space-pussy-1.cybernode.ai:443\n",
      "code: 5\n",
      "codespace: wasm\n",
      "data: \"\"\n",
      "gas_used: \"120020\"\n",
      "gas_wanted: \"400000\"\n",
      "height: \"1175693\"\n",
      "info: \"\"\n",
      "logs: []\n",
      "raw_log: 'failed to execute message; message index: 0: Address is not eligible to\n",
      "  claim airdrop, Generic error: addr_validate errored: invalid Bech32 prefix; expected\n",
      "  bostrom, got cosmos: execute wasm contract failed'\n",
      "timestamp: \"\"\n",
      "tx: null\n",
      "txhash: 6D5BC257C197C9A2DCCC7E6DF076A3C58149368F0B12333D7281E14ECCEA844C\n",
      "\n",
      "\n"
     ]
    }
   ],
   "source": [
    "def proof_address(claim_row: pd.Series, network: str = 'ethereum', display_data: bool = False):\n",
    "    return execute_bash(\n",
    "            f'''REGISTER='{{\"proof_address\":{{\"nickname\":\"{claim_row[\"nickname\"]}\", \"address\":\"{claim_row[network + \"_address\"]}\", \"signature\":\"{claim_row[network + \"_message_signature\"]}\"}}}}' \\\n",
    "                && CONTRACT=\"{passport_contract_address}\" \\\n",
    "                && cyber tx wasm execute $CONTRACT \"$REGISTER\" --from $WALLET --broadcast-mode block -y --gas=400000 --chain-id={NETWORK} --node={NODE_URL}''',\n",
    "            display_data=display_data)\n",
    "\n",
    "for index, row in tqdm(claims_df.iterrows()):\n",
    "    if index == 1:\n",
    "        # proof_address(row, display_data=True)\n",
    "        proof_address(row, network='cosmos', display_data=True)\n",
    "    else:\n",
    "        # proof_address(row)\n",
    "        # proof_address(row, network='cosmos', display_data=True)\n",
    "        pass"
   ],
   "metadata": {
    "collapsed": false,
    "pycharm": {
     "name": "#%%\n"
    }
   }
  },
  {
   "cell_type": "markdown",
   "source": [
    "### Generate Proofs and Claim"
   ],
   "metadata": {
    "collapsed": false,
    "pycharm": {
     "name": "#%% md\n"
    }
   }
  },
  {
   "cell_type": "code",
   "execution_count": 11,
   "outputs": [
    {
     "data": {
      "text/plain": "0it [00:00, ?it/s]",
      "application/vnd.jupyter.widget-view+json": {
       "version_major": 2,
       "version_minor": 0,
       "model_id": "5f5df723890448cbaa575a6a8e463eb3"
      }
     },
     "metadata": {},
     "output_type": "display_data"
    },
    {
     "name": "stdout",
     "output_type": "stream",
     "text": [
      "merkle-airdrop-cli generateProofs --file root_testing_source_2_addresses.json --address cosmos1klp3t8kk7w924tw8et6gj7qtgfap8du0wnfuc7 --amount 1477000\n",
      "[\n",
      "  '98bf79467efe4b717779d06490289e9a793e51221cef4b142cb5adca5ee6381c',\n",
      "  '4cdd4653d3056ea3d1096c592ae3651deff280154acc987aa535d752dd3f5ffb'\n",
      "]\n",
      "\n",
      "\n",
      "CLAIM='{\"claim\":{\"nickname\":\"john16443172440\", \"gift_claiming_address\":\"cosmos1klp3t8kk7w924tw8et6gj7qtgfap8du0wnfuc7\", \"gift_amount\":\"1477000\", \"proof\":[\"98bf79467efe4b717779d06490289e9a793e51221cef4b142cb5adca5ee6381c\",\"4cdd4653d3056ea3d1096c592ae3651deff280154acc987aa535d752dd3f5ffb\"]}}'                     && cyber tx wasm execute bostrom1fs5xwhralvmm49jdpy7grazcw8fsftu6d0pwn79xerkak65f83mqkn75jf \"$CLAIM\" --from $WALLET --broadcast-mode block -y --gas 400000 --chain-id=space-pussy-1 --node=https://rpc.space-pussy-1.cybernode.ai:443\n",
      "code: 5\n",
      "codespace: wasm\n",
      "data: \"\"\n",
      "gas_used: \"184240\"\n",
      "gas_wanted: \"400000\"\n",
      "height: \"1175694\"\n",
      "info: \"\"\n",
      "logs: []\n",
      "raw_log: 'failed to execute message; message index: 0: Address is not eligible to\n",
      "  claim airdrop, passport isn''t assigned: execute wasm contract failed'\n",
      "timestamp: \"\"\n",
      "tx: null\n",
      "txhash: E69245763162F42ED68ECF400363DA08F9312829B839EFFEE63A3A3D2E61F460\n",
      "\n",
      "\n"
     ]
    }
   ],
   "source": [
    "def generate_proof_and_claim(claim_row: pd.Series, network: str = 'ethereum', display_data: bool = False):\n",
    "    proof_output, _ = execute_bash(f'merkle-airdrop-cli generateProofs --file {ROOT_SOURCE_FILE_NAME} --address {claim_row[network + \"_address\"]} --amount {claim_row.amount}',\n",
    "                                   display_data=display_data)\n",
    "    proof = proof_output.replace('\\n','').replace(\" \",'').replace(\"'\", '\"')\n",
    "    return execute_bash(\n",
    "                f'''CLAIM='{{\"claim\":{{\"nickname\":\"{claim_row['nickname']}\", \"gift_claiming_address\":\"{claim_row[network + \"_address\"]}\", \"gift_amount\":\"{claim_row.amount}\", \"proof\":{proof}}}}}' \\\n",
    "                    && cyber tx wasm execute {gift_contract_address} \"$CLAIM\" --from $WALLET --broadcast-mode block -y --gas 400000 --chain-id={NETWORK} --node={NODE_URL}''',\n",
    "                display_data=display_data)\n",
    "\n",
    "for index, row in tqdm(claims_df.iterrows()):\n",
    "    if index == 0:\n",
    "        generate_proof_and_claim(row, network='cosmos', display_data=True)\n",
    "    else:\n",
    "        # generate_proof_and_claim(row)\n",
    "        pass\n"
   ],
   "metadata": {
    "collapsed": false,
    "pycharm": {
     "name": "#%%\n"
    }
   }
  }
 ],
 "metadata": {
  "kernelspec": {
   "display_name": "Python 3",
   "language": "python",
   "name": "python3"
  },
  "language_info": {
   "codemirror_mode": {
    "name": "ipython",
    "version": 2
   },
   "file_extension": ".py",
   "mimetype": "text/x-python",
   "name": "python",
   "nbconvert_exporter": "python",
   "pygments_lexer": "ipython2",
   "version": "2.7.6"
  }
 },
 "nbformat": 4,
 "nbformat_minor": 0
}