{
 "cells": [
  {
   "cell_type": "markdown",
   "metadata": {
    "collapsed": true,
    "pycharm": {
     "name": "#%% md\n"
    }
   },
   "source": [
    "## Gift Contract Testing"
   ]
  },
  {
   "cell_type": "code",
   "source": [
    "from web3.auto import w3\n",
    "import pandas as pd\n",
    "from cyberpy import generate_wallet, address_to_address\n",
    "from cyberpy._message_signer import Message\n",
    "from cyberpy._wallet import seed_to_privkey\n",
    "from eth_account.messages import encode_defunct\n",
    "import json\n",
    "from subprocess import Popen, PIPE\n",
    "import os\n",
    "from time import time\n",
    "import ipfshttpclient\n",
    "from tqdm.notebook import tqdm\n",
    "from base64 import b64encode\n",
    "\n",
    "client = ipfshttpclient.connect()\n",
    "\n",
    "NUMBER_OF_PARTICIPANTS = 100\n",
    "KEY_PHRASE = 'KEY PHRASE'\n",
    "NICKNAME_LIST = [f'john{round(time())}{number}' for number in range(NUMBER_OF_PARTICIPANTS)]\n",
    "AVATAR_CID_LIST = [client.add_str(_nickname + 'avatar') for _nickname in NICKNAME_LIST]\n",
    "CLAIM_AMOUNT_LIST = [1_000_000] * NUMBER_OF_PARTICIPANTS\n",
    "\n",
    "INITIAL_BALANCE = str(1_000_000_000)\n",
    "COEF_UP = str(20)\n",
    "COEF_DOWN = str(5)\n",
    "TARGET_CLAIM = str(2)\n",
    "\n",
    "WALLET_ADDRESS = os.getenv('WALLET_ADDRESS')\n",
    "NODE_URL = 'https://rpc.space-pussy-1.cybernode.ai:443'\n",
    "NETWORK = 'space-pussy-1'\n",
    "\n",
    "INIT_SUBSPACE_CONTRACTS = False\n",
    "SUBSPACE_CODE_ID = str(21)\n",
    "NAME_SUBSPACE_CONTRACT_ADDRESS = 'bostrom19zmt9dlz3wzu6jqgr9409el7nvxw66u8n67ta5424kwcg0qf269s6t03zt'\n",
    "AVATAR_SUBSPACE_CONTRACT_ADDRESS = 'bostrom16ulvzd0xp9g6wdhnnhz584ed8xzxm5wkmrsznnzk7qsskegkfutq5djtqs'\n",
    "PROOF_SUBSPACE_CONTRACT_ADDRESS = 'bostrom1ghwwe2nhxjfy7qulgu6zzmghmnjj3rx8xldr8aytghayxlftz6aqxy4c7k'\n",
    "\n",
    "INIT_PASSPORT_CONTRACT = False\n",
    "PASSPORT_CODE_ID = str(25)\n",
    "PASSPORT_CONTRACT_ADDRESS = 'bostrom15hzg7eaxgs6ecn46gmu4juc9tau2w45l9cnf8n0797nmmtkdv7jscv88ra'\n",
    "\n",
    "INIT_GIFT_CONTRACT = True\n",
    "GIFT_CODE_ID = str(20)\n",
    "GIFT_CONTRACT_ADDRESS = 'bostrom1rt2acjyhs4jfjdq56pftpu7762hy9gfl63je6fnhwrc5p5y4kmuqxg0262'\n",
    "\n",
    "ROOT_SOURCE_FILE_NAME = 'root_testing_source_' + str(NUMBER_OF_PARTICIPANTS) + '_addresses.json'\n",
    "ROOT_FILE_NAME = 'root_testing_' + str(NUMBER_OF_PARTICIPANTS) + '_addresses'\n",
    "\n",
    "\n",
    "def execute_bash(bash_command: str, display_data: bool = False) -> [str, str]:\n",
    "    _output, _error = Popen(bash_command, shell=True, stdout=PIPE, stderr=PIPE).communicate()\n",
    "    if _error:\n",
    "        display_data = True\n",
    "    if display_data:\n",
    "        print(bash_command)\n",
    "        if _output:\n",
    "            try:\n",
    "                print(json.dumps(json.loads(_output.decode('utf-8')), indent=4, sort_keys=True))\n",
    "            except json.JSONDecodeError:\n",
    "                print(_output)\n",
    "        if _error:\n",
    "            print(_error)\n",
    "    return _output.decode('utf-8'), _error.decode('utf-8')"
   ],
   "metadata": {
    "collapsed": false,
    "pycharm": {
     "name": "#%%\n"
    }
   },
   "execution_count": 1,
   "outputs": [
    {
     "name": "stderr",
     "output_type": "stream",
     "text": [
      "/Users/sergenedashkovsky/Library/Python/3.8/lib/python/site-packages/ipfshttpclient/client/__init__.py:75: VersionMismatch: Unsupported daemon version '0.10.0' (not in range: 0.5.0 ≤ … < 0.9.0)\n",
      "  warnings.warn(exceptions.VersionMismatch(version, minimum, maximum))\n"
     ]
    }
   ]
  },
  {
   "cell_type": "markdown",
   "source": [
    "### Generate addresses and sign messages"
   ],
   "metadata": {
    "collapsed": false,
    "pycharm": {
     "name": "#%% md\n"
    }
   }
  },
  {
   "cell_type": "code",
   "execution_count": 2,
   "outputs": [
    {
     "data": {
      "text/plain": "     amount          nickname                                          avatar  \\\n0   1000000   john16456890120  QmUPBakJj5Y3bnFYpAi58UssjnFLyxDVx6CpX8t8cZ3Xce   \n1   1000000   john16456890121  QmRSpsrrsCCfcRfKqbQFfF7X7UdsQqkf9g9y7xckXqVrcs   \n2   1000000   john16456890122  Qmej4fH3ToSYFeDgTQVfaqJBLpP7CR8rpzuNciXeZdec8e   \n3   1000000   john16456890123  QmdLhvd7efuCXvCVrECXjGw1PqzgTz9dDkHPZLFwgKNQad   \n4   1000000   john16456890124  QmbAGMrNmdrdrLRJTGReuoWFQKKQ4cPydNGGUgAiJz2PNY   \n..      ...               ...                                             ...   \n95  1000000  john164568901295  QmQCZk9tBmQ9UvyLcvmB9g9z3gtoMNXdQADnyNJWX94aH4   \n96  1000000  john164568901296  QmSTGHiCvHsBP5eUQ8Atbqt8RM9VXc8BewbmcTEm6hV6YT   \n97  1000000  john164568901297  QmRoLrGR4nc7pHixeEan5ZvTQxaJ652RNoiGkMqPMtEYH3   \n98  1000000  john164568901298  QmaQQd6vN3zu6DHgddHmXEZTxnNdU7tQthXgmZ7tSygz9j   \n99  1000000  john164568901299  QmWoLwNfhtxGJn8KrbTTSPvoaeVFeXTvEYR6fCpa34cHzH   \n\n                              ethereum_address  \\\n0   0xace4ce3820cbc4d08106c6077098efff9c102153   \n1   0x2561dc7aa1f2993b71ebcd42eb7b6d89aea82999   \n2   0x943cec118f21b326ff10c716b8ae14c4a2a82b1b   \n3   0x37c896cf9ff9be029992ee160b0dae49c07495d4   \n4   0xa59769e19a327d2d28bddfc2c057195cf32e5b33   \n..                                         ...   \n95  0x65ec5436573364862ae6a950aa977b41487e5715   \n96  0x0b1c0f128d7fe50eca0af4be0f83cf775a109330   \n97  0xba288b21a6759c6785d922dd6224df9f295aec9d   \n98  0xc92f3a158e6d21376faa7df09b2e972eb9d5f370   \n99  0xf81e61ee2f2632d87404edc2988d94c6e4a8e8aa   \n\n                                 ethereum_private_key  \\\n0   0xcbcfa4354ddfe67d6a0549289a28690a29e2b5cd79f9...   \n1   0x2dc1391c2e543012159153af30088206945058295693...   \n2   0xca3c4b50d40acb3030a30d0ff21e8f12aeb696786bef...   \n3   0x94475aabb305ac4a01c6ee9dd28f302646317ca431bf...   \n4   0xe01ff9b4d81bb31a9353bca3c918137171ac2a8fc146...   \n..                                                ...   \n95  0xbca87ea9f0d1e9c0f0fd594758f5d67151d39f280e67...   \n96  0x2289c89880cf85377c3f702a56e9498553e43fb566f1...   \n97  0x6cb6a8659aff2cfc4cf7476e48f9177f0ecb9028f6f9...   \n98  0x2dc5b22bdb0b694b530324629cdbf6810f65e1d01751...   \n99  0xe1624fdab49a996439c040eabce3eb9f9fbe87231aeb...   \n\n                                   bostrom_address  \\\n0   bostrom19vjmuzuhv7wpgceaqxtyyjlejnv9ytek2fhfrd   \n1   bostrom1vwdnx8ru6s2yxk60m66fc5kzgywvwqdc57jt23   \n2   bostrom1czds378wvgf33qts5lzkvcv6xekf47j7u79pg0   \n3   bostrom1dkynfk6lwfts9krzl5lz2ytjqq4kcj5hnah4gp   \n4   bostrom1ajg7t4zcmu9x9h299nsfct3h6m4mx2k3zx4m0s   \n..                                             ...   \n95  bostrom15pc0j3j0he3mdepjqg73g6fa0l3nau7jqycrfm   \n96  bostrom1fgfkqjtz4p6lnz9ywnpr7fm09nxlpeemnzstw2   \n97  bostrom15eyq9h8jldnu2gk7cymzsr2q5jfc6qhdke9pxv   \n98  bostrom1l4s3n4wphqvwvwfyp0n4ecehft406jydfzwfch   \n99  bostrom1rndsjjymvl6gmylrzxzss0u2det42ujg3fc7u4   \n\n                                   cosmos_address  \\\n0   cosmos19vjmuzuhv7wpgceaqxtyyjlejnv9ytekf6r6a2   \n1   cosmos1vwdnx8ru6s2yxk60m66fc5kzgywvwqdchdxc5k   \n2   cosmos1czds378wvgf33qts5lzkvcv6xekf47j7ld3jkg   \n3   cosmos1dkynfk6lwfts9krzl5lz2ytjqq4kcj5hswrxkx   \n4   cosmos1ajg7t4zcmu9x9h299nsfct3h6m4mx2k3p4pg3h   \n..                                            ...   \n95  cosmos15pc0j3j0he3mdepjqg73g6fa0l3nau7jrhvshu   \n96  cosmos1fgfkqjtz4p6lnz9ywnpr7fm09nxlpeems3ycsd   \n97  cosmos15eyq9h8jldnu2gk7cymzsr2q5jfc6qhd423jct   \n98  cosmos1l4s3n4wphqvwvwfyp0n4ecehft406jyd2366xs   \n99  cosmos1rndsjjymvl6gmylrzxzss0u2det42ujgj6vdzj   \n\n                                          cosmos_seed  \\\n0   scan then essay quality elephant curtain cage ...   \n1   team visa tent boring claim melt transfer appe...   \n2   tattoo verify pioneer wild cactus marriage inh...   \n3   subway crawl other foot whale awkward olympic ...   \n4   sock rough away buyer mask vocal position chao...   \n..                                                ...   \n95  record what garbage crumble radar bachelor glu...   \n96  minimum zero symptom era dilemma burden luxury...   \n97  infant jump easily melody monkey clerk exclude...   \n98  fine issue keep phrase fish question strike ca...   \n99  oyster bulk enough woman glare sausage merge b...   \n\n                                              message  \\\n0   bostrom135ca8hdpy9sk0ntwqzpzsvatyl48ptx5j359lz...   \n1   bostrom135ca8hdpy9sk0ntwqzpzsvatyl48ptx5j359lz...   \n2   bostrom135ca8hdpy9sk0ntwqzpzsvatyl48ptx5j359lz...   \n3   bostrom135ca8hdpy9sk0ntwqzpzsvatyl48ptx5j359lz...   \n4   bostrom135ca8hdpy9sk0ntwqzpzsvatyl48ptx5j359lz...   \n..                                                ...   \n95  bostrom135ca8hdpy9sk0ntwqzpzsvatyl48ptx5j359lz...   \n96  bostrom135ca8hdpy9sk0ntwqzpzsvatyl48ptx5j359lz...   \n97  bostrom135ca8hdpy9sk0ntwqzpzsvatyl48ptx5j359lz...   \n98  bostrom135ca8hdpy9sk0ntwqzpzsvatyl48ptx5j359lz...   \n99  bostrom135ca8hdpy9sk0ntwqzpzsvatyl48ptx5j359lz...   \n\n                           ethereum_message_signature  \\\n0   0xd265b36b2a8bf1651ecc41b1e8814eff629ed035c9d9...   \n1   0x6d65007f9ae5cb02b65283e11aac464266be28b84193...   \n2   0x735ddd89ce39a9f85d4a3bfc2332528283436812f648...   \n3   0xe0229274c0e7f50a9860986c8dc25a41e612f16c8ff9...   \n4   0x329b4afe2546d797f01a12b9ea29e40de28af96b621a...   \n..                                                ...   \n95  0x038be813f5f2d71b24e4092f662019eacc6dca6c0ddf...   \n96  0xade32187d4825afd435d06a1de72c097abc6878026fb...   \n97  0x9d26ca3c447253ef4139d1e5b90cfb5cb50461b7ee6e...   \n98  0xbed6d266aef05af86597fcf95f33bff6dc07c3867a3c...   \n99  0x5ce4d8957108c3f1f8a66f5dee40334c3d6a950291dc...   \n\n                            cosmos_message_signed_row  \\\n0   {'pub_key': 'AzcFxx7ohDBkXQNaLt55aX9AIb+ghOxHd...   \n1   {'pub_key': 'A+BhdQhp/pqiDzdVq0OE28T32xvWSFNTX...   \n2   {'pub_key': 'A/uZetQ/nscjtDQ5LZcJL5ytHIg03Z9l0...   \n3   {'pub_key': 'AjiCYjaC6+TJve2QRIqjYJGwb7UaQuFDs...   \n4   {'pub_key': 'AsTg0VX5VcIDyaiAh8YOjHwgPk+3PDB7V...   \n..                                                ...   \n95  {'pub_key': 'A1CHZ152GpbcDpzJ3TvOquL+WPkqdZ9Wq...   \n96  {'pub_key': 'AmkHIqXGx93glYtD/kFyeiBYDTIDZOGaU...   \n97  {'pub_key': 'Awu43XCus7vNhfOAQiGRY9AQEVMEbT2u9...   \n98  {'pub_key': 'ApTDYGeB55HNgOzPus10IHlq7UNDYF4L6...   \n99  {'pub_key': 'Ag02pSXdROHO/NnmWcVc9hCyIfUiI221R...   \n\n                             cosmos_message_signature  \n0   eyJwdWJfa2V5IjoiQXpjRnh4N29oREJrWFFOYUx0NTVhWD...  \n1   eyJwdWJfa2V5IjoiQStCaGRRaHAvcHFpRHpkVnEwT0UyOF...  \n2   eyJwdWJfa2V5IjoiQS91WmV0US9uc2NqdERRNUxaY0pMNX...  \n3   eyJwdWJfa2V5IjoiQWppQ1lqYUM2K1RKdmUyUVJJcWpZSk...  \n4   eyJwdWJfa2V5IjoiQXNUZzBWWDVWY0lEeWFpQWg4WU9qSH...  \n..                                                ...  \n95  eyJwdWJfa2V5IjoiQTFDSFoxNTJHcGJjRHB6SjNUdk9xdU...  \n96  eyJwdWJfa2V5IjoiQW1rSElxWEd4OTNnbFl0RC9rRnllaU...  \n97  eyJwdWJfa2V5IjoiQXd1NDNYQ3VzN3ZOaGZPQVFpR1JZOU...  \n98  eyJwdWJfa2V5IjoiQXBURFlHZUI1NUhOZ096UHVzMTBJSG...  \n99  eyJwdWJfa2V5IjoiQWcwMnBTWGRST0hPL05ubVdjVmM5aE...  \n\n[100 rows x 12 columns]",
      "text/html": "<div>\n<style scoped>\n    .dataframe tbody tr th:only-of-type {\n        vertical-align: middle;\n    }\n\n    .dataframe tbody tr th {\n        vertical-align: top;\n    }\n\n    .dataframe thead th {\n        text-align: right;\n    }\n</style>\n<table border=\"1\" class=\"dataframe\">\n  <thead>\n    <tr style=\"text-align: right;\">\n      <th></th>\n      <th>amount</th>\n      <th>nickname</th>\n      <th>avatar</th>\n      <th>ethereum_address</th>\n      <th>ethereum_private_key</th>\n      <th>bostrom_address</th>\n      <th>cosmos_address</th>\n      <th>cosmos_seed</th>\n      <th>message</th>\n      <th>ethereum_message_signature</th>\n      <th>cosmos_message_signed_row</th>\n      <th>cosmos_message_signature</th>\n    </tr>\n  </thead>\n  <tbody>\n    <tr>\n      <th>0</th>\n      <td>1000000</td>\n      <td>john16456890120</td>\n      <td>QmUPBakJj5Y3bnFYpAi58UssjnFLyxDVx6CpX8t8cZ3Xce</td>\n      <td>0xace4ce3820cbc4d08106c6077098efff9c102153</td>\n      <td>0xcbcfa4354ddfe67d6a0549289a28690a29e2b5cd79f9...</td>\n      <td>bostrom19vjmuzuhv7wpgceaqxtyyjlejnv9ytek2fhfrd</td>\n      <td>cosmos19vjmuzuhv7wpgceaqxtyyjlejnv9ytekf6r6a2</td>\n      <td>scan then essay quality elephant curtain cage ...</td>\n      <td>bostrom135ca8hdpy9sk0ntwqzpzsvatyl48ptx5j359lz...</td>\n      <td>0xd265b36b2a8bf1651ecc41b1e8814eff629ed035c9d9...</td>\n      <td>{'pub_key': 'AzcFxx7ohDBkXQNaLt55aX9AIb+ghOxHd...</td>\n      <td>eyJwdWJfa2V5IjoiQXpjRnh4N29oREJrWFFOYUx0NTVhWD...</td>\n    </tr>\n    <tr>\n      <th>1</th>\n      <td>1000000</td>\n      <td>john16456890121</td>\n      <td>QmRSpsrrsCCfcRfKqbQFfF7X7UdsQqkf9g9y7xckXqVrcs</td>\n      <td>0x2561dc7aa1f2993b71ebcd42eb7b6d89aea82999</td>\n      <td>0x2dc1391c2e543012159153af30088206945058295693...</td>\n      <td>bostrom1vwdnx8ru6s2yxk60m66fc5kzgywvwqdc57jt23</td>\n      <td>cosmos1vwdnx8ru6s2yxk60m66fc5kzgywvwqdchdxc5k</td>\n      <td>team visa tent boring claim melt transfer appe...</td>\n      <td>bostrom135ca8hdpy9sk0ntwqzpzsvatyl48ptx5j359lz...</td>\n      <td>0x6d65007f9ae5cb02b65283e11aac464266be28b84193...</td>\n      <td>{'pub_key': 'A+BhdQhp/pqiDzdVq0OE28T32xvWSFNTX...</td>\n      <td>eyJwdWJfa2V5IjoiQStCaGRRaHAvcHFpRHpkVnEwT0UyOF...</td>\n    </tr>\n    <tr>\n      <th>2</th>\n      <td>1000000</td>\n      <td>john16456890122</td>\n      <td>Qmej4fH3ToSYFeDgTQVfaqJBLpP7CR8rpzuNciXeZdec8e</td>\n      <td>0x943cec118f21b326ff10c716b8ae14c4a2a82b1b</td>\n      <td>0xca3c4b50d40acb3030a30d0ff21e8f12aeb696786bef...</td>\n      <td>bostrom1czds378wvgf33qts5lzkvcv6xekf47j7u79pg0</td>\n      <td>cosmos1czds378wvgf33qts5lzkvcv6xekf47j7ld3jkg</td>\n      <td>tattoo verify pioneer wild cactus marriage inh...</td>\n      <td>bostrom135ca8hdpy9sk0ntwqzpzsvatyl48ptx5j359lz...</td>\n      <td>0x735ddd89ce39a9f85d4a3bfc2332528283436812f648...</td>\n      <td>{'pub_key': 'A/uZetQ/nscjtDQ5LZcJL5ytHIg03Z9l0...</td>\n      <td>eyJwdWJfa2V5IjoiQS91WmV0US9uc2NqdERRNUxaY0pMNX...</td>\n    </tr>\n    <tr>\n      <th>3</th>\n      <td>1000000</td>\n      <td>john16456890123</td>\n      <td>QmdLhvd7efuCXvCVrECXjGw1PqzgTz9dDkHPZLFwgKNQad</td>\n      <td>0x37c896cf9ff9be029992ee160b0dae49c07495d4</td>\n      <td>0x94475aabb305ac4a01c6ee9dd28f302646317ca431bf...</td>\n      <td>bostrom1dkynfk6lwfts9krzl5lz2ytjqq4kcj5hnah4gp</td>\n      <td>cosmos1dkynfk6lwfts9krzl5lz2ytjqq4kcj5hswrxkx</td>\n      <td>subway crawl other foot whale awkward olympic ...</td>\n      <td>bostrom135ca8hdpy9sk0ntwqzpzsvatyl48ptx5j359lz...</td>\n      <td>0xe0229274c0e7f50a9860986c8dc25a41e612f16c8ff9...</td>\n      <td>{'pub_key': 'AjiCYjaC6+TJve2QRIqjYJGwb7UaQuFDs...</td>\n      <td>eyJwdWJfa2V5IjoiQWppQ1lqYUM2K1RKdmUyUVJJcWpZSk...</td>\n    </tr>\n    <tr>\n      <th>4</th>\n      <td>1000000</td>\n      <td>john16456890124</td>\n      <td>QmbAGMrNmdrdrLRJTGReuoWFQKKQ4cPydNGGUgAiJz2PNY</td>\n      <td>0xa59769e19a327d2d28bddfc2c057195cf32e5b33</td>\n      <td>0xe01ff9b4d81bb31a9353bca3c918137171ac2a8fc146...</td>\n      <td>bostrom1ajg7t4zcmu9x9h299nsfct3h6m4mx2k3zx4m0s</td>\n      <td>cosmos1ajg7t4zcmu9x9h299nsfct3h6m4mx2k3p4pg3h</td>\n      <td>sock rough away buyer mask vocal position chao...</td>\n      <td>bostrom135ca8hdpy9sk0ntwqzpzsvatyl48ptx5j359lz...</td>\n      <td>0x329b4afe2546d797f01a12b9ea29e40de28af96b621a...</td>\n      <td>{'pub_key': 'AsTg0VX5VcIDyaiAh8YOjHwgPk+3PDB7V...</td>\n      <td>eyJwdWJfa2V5IjoiQXNUZzBWWDVWY0lEeWFpQWg4WU9qSH...</td>\n    </tr>\n    <tr>\n      <th>...</th>\n      <td>...</td>\n      <td>...</td>\n      <td>...</td>\n      <td>...</td>\n      <td>...</td>\n      <td>...</td>\n      <td>...</td>\n      <td>...</td>\n      <td>...</td>\n      <td>...</td>\n      <td>...</td>\n      <td>...</td>\n    </tr>\n    <tr>\n      <th>95</th>\n      <td>1000000</td>\n      <td>john164568901295</td>\n      <td>QmQCZk9tBmQ9UvyLcvmB9g9z3gtoMNXdQADnyNJWX94aH4</td>\n      <td>0x65ec5436573364862ae6a950aa977b41487e5715</td>\n      <td>0xbca87ea9f0d1e9c0f0fd594758f5d67151d39f280e67...</td>\n      <td>bostrom15pc0j3j0he3mdepjqg73g6fa0l3nau7jqycrfm</td>\n      <td>cosmos15pc0j3j0he3mdepjqg73g6fa0l3nau7jrhvshu</td>\n      <td>record what garbage crumble radar bachelor glu...</td>\n      <td>bostrom135ca8hdpy9sk0ntwqzpzsvatyl48ptx5j359lz...</td>\n      <td>0x038be813f5f2d71b24e4092f662019eacc6dca6c0ddf...</td>\n      <td>{'pub_key': 'A1CHZ152GpbcDpzJ3TvOquL+WPkqdZ9Wq...</td>\n      <td>eyJwdWJfa2V5IjoiQTFDSFoxNTJHcGJjRHB6SjNUdk9xdU...</td>\n    </tr>\n    <tr>\n      <th>96</th>\n      <td>1000000</td>\n      <td>john164568901296</td>\n      <td>QmSTGHiCvHsBP5eUQ8Atbqt8RM9VXc8BewbmcTEm6hV6YT</td>\n      <td>0x0b1c0f128d7fe50eca0af4be0f83cf775a109330</td>\n      <td>0x2289c89880cf85377c3f702a56e9498553e43fb566f1...</td>\n      <td>bostrom1fgfkqjtz4p6lnz9ywnpr7fm09nxlpeemnzstw2</td>\n      <td>cosmos1fgfkqjtz4p6lnz9ywnpr7fm09nxlpeems3ycsd</td>\n      <td>minimum zero symptom era dilemma burden luxury...</td>\n      <td>bostrom135ca8hdpy9sk0ntwqzpzsvatyl48ptx5j359lz...</td>\n      <td>0xade32187d4825afd435d06a1de72c097abc6878026fb...</td>\n      <td>{'pub_key': 'AmkHIqXGx93glYtD/kFyeiBYDTIDZOGaU...</td>\n      <td>eyJwdWJfa2V5IjoiQW1rSElxWEd4OTNnbFl0RC9rRnllaU...</td>\n    </tr>\n    <tr>\n      <th>97</th>\n      <td>1000000</td>\n      <td>john164568901297</td>\n      <td>QmRoLrGR4nc7pHixeEan5ZvTQxaJ652RNoiGkMqPMtEYH3</td>\n      <td>0xba288b21a6759c6785d922dd6224df9f295aec9d</td>\n      <td>0x6cb6a8659aff2cfc4cf7476e48f9177f0ecb9028f6f9...</td>\n      <td>bostrom15eyq9h8jldnu2gk7cymzsr2q5jfc6qhdke9pxv</td>\n      <td>cosmos15eyq9h8jldnu2gk7cymzsr2q5jfc6qhd423jct</td>\n      <td>infant jump easily melody monkey clerk exclude...</td>\n      <td>bostrom135ca8hdpy9sk0ntwqzpzsvatyl48ptx5j359lz...</td>\n      <td>0x9d26ca3c447253ef4139d1e5b90cfb5cb50461b7ee6e...</td>\n      <td>{'pub_key': 'Awu43XCus7vNhfOAQiGRY9AQEVMEbT2u9...</td>\n      <td>eyJwdWJfa2V5IjoiQXd1NDNYQ3VzN3ZOaGZPQVFpR1JZOU...</td>\n    </tr>\n    <tr>\n      <th>98</th>\n      <td>1000000</td>\n      <td>john164568901298</td>\n      <td>QmaQQd6vN3zu6DHgddHmXEZTxnNdU7tQthXgmZ7tSygz9j</td>\n      <td>0xc92f3a158e6d21376faa7df09b2e972eb9d5f370</td>\n      <td>0x2dc5b22bdb0b694b530324629cdbf6810f65e1d01751...</td>\n      <td>bostrom1l4s3n4wphqvwvwfyp0n4ecehft406jydfzwfch</td>\n      <td>cosmos1l4s3n4wphqvwvwfyp0n4ecehft406jyd2366xs</td>\n      <td>fine issue keep phrase fish question strike ca...</td>\n      <td>bostrom135ca8hdpy9sk0ntwqzpzsvatyl48ptx5j359lz...</td>\n      <td>0xbed6d266aef05af86597fcf95f33bff6dc07c3867a3c...</td>\n      <td>{'pub_key': 'ApTDYGeB55HNgOzPus10IHlq7UNDYF4L6...</td>\n      <td>eyJwdWJfa2V5IjoiQXBURFlHZUI1NUhOZ096UHVzMTBJSG...</td>\n    </tr>\n    <tr>\n      <th>99</th>\n      <td>1000000</td>\n      <td>john164568901299</td>\n      <td>QmWoLwNfhtxGJn8KrbTTSPvoaeVFeXTvEYR6fCpa34cHzH</td>\n      <td>0xf81e61ee2f2632d87404edc2988d94c6e4a8e8aa</td>\n      <td>0xe1624fdab49a996439c040eabce3eb9f9fbe87231aeb...</td>\n      <td>bostrom1rndsjjymvl6gmylrzxzss0u2det42ujg3fc7u4</td>\n      <td>cosmos1rndsjjymvl6gmylrzxzss0u2det42ujgj6vdzj</td>\n      <td>oyster bulk enough woman glare sausage merge b...</td>\n      <td>bostrom135ca8hdpy9sk0ntwqzpzsvatyl48ptx5j359lz...</td>\n      <td>0x5ce4d8957108c3f1f8a66f5dee40334c3d6a950291dc...</td>\n      <td>{'pub_key': 'Ag02pSXdROHO/NnmWcVc9hCyIfUiI221R...</td>\n      <td>eyJwdWJfa2V5IjoiQWcwMnBTWGRST0hPL05ubVdjVmM5aE...</td>\n    </tr>\n  </tbody>\n</table>\n<p>100 rows × 12 columns</p>\n</div>"
     },
     "execution_count": 2,
     "metadata": {},
     "output_type": "execute_result"
    }
   ],
   "source": [
    "claims_list = []\n",
    "for i in range(NUMBER_OF_PARTICIPANTS):\n",
    "    claim_item = {'amount': CLAIM_AMOUNT_LIST[i],\n",
    "                  'nickname': NICKNAME_LIST[i],\n",
    "                  'avatar': AVATAR_CID_LIST[i]}\n",
    "\n",
    "    # Generate Ethereum wallet\n",
    "    ethereum_wallet = w3.eth.account.create(KEY_PHRASE)\n",
    "    claim_item['ethereum_address'] = ethereum_wallet.address.lower()\n",
    "    claim_item['ethereum_private_key'] = ethereum_wallet.privateKey.hex()\n",
    "\n",
    "    # Generate Bostrom and Cosmos wallet\n",
    "    bostrom_wallet = generate_wallet()\n",
    "    claim_item['bostrom_address'] = bostrom_wallet['address']\n",
    "    claim_item['cosmos_address'] = address_to_address(bostrom_wallet['address'], 'cosmos')\n",
    "    claim_item['cosmos_seed'] = bostrom_wallet['seed']\n",
    "\n",
    "    # Create message\n",
    "    # message_json = {\n",
    "    #     \"nickname\": claim_item['nickname'],\n",
    "    #     \"gift_claiming_address\": claim_item['ethereum_address'],\n",
    "    #     \"gift_amount\": claim_item['amount'],\n",
    "    #     \"target_address\": claim_item['bostrom_address']\n",
    "    # }\n",
    "    # claim_item['message'] = json.dumps(message_json)\n",
    "    claim_item['message'] = f\"{WALLET_ADDRESS}:QmRX8qYgeZoYM3M5zzQaWEpVFdpin6FvVXvp6RPQK3oufV\"\n",
    "\n",
    "    # Sign message form Ethereum address\n",
    "    ethereum_signed_message = \\\n",
    "        w3.eth.account.sign_message(\n",
    "            signable_message=encode_defunct(text=claim_item['message']),\n",
    "            private_key=ethereum_wallet.privateKey)\n",
    "    # print(signed_message.signature)\n",
    "    claim_item['ethereum_message_signature'] = ethereum_signed_message.signature.hex()\n",
    "\n",
    "    # Sign message form Cosmos address\n",
    "    cosmos_msg = Message(privkey=seed_to_privkey(seed=claim_item['cosmos_seed']))\n",
    "    cosmos_msg.add_message(signing_message=claim_item['message'], signer_prefix='cosmos')\n",
    "    claim_item['cosmos_message_signed_row'] = cosmos_msg.get_signed_message()\n",
    "    claim_item['cosmos_message_signature'] = b64encode(json.dumps(claim_item['cosmos_message_signed_row']).replace('\\n', '').replace(' ', '').encode('utf-8')).decode(\"utf-8\")\n",
    "\n",
    "    # Verify message\n",
    "    assert claim_item['ethereum_address'] == w3.eth.account.recover_message(\n",
    "        signable_message=encode_defunct(text=claim_item['message']),\n",
    "        signature=claim_item['ethereum_message_signature']).lower()\n",
    "\n",
    "    claims_list.append(claim_item)\n",
    "\n",
    "claims_df = pd.DataFrame(claims_list)\n",
    "claims_df.to_csv('claims_ethereum_test_data_without_proof' + str(NUMBER_OF_PARTICIPANTS) + '_addresses.csv')\n",
    "claims_df"
   ],
   "metadata": {
    "collapsed": false,
    "pycharm": {
     "name": "#%%\n"
    }
   }
  },
  {
   "cell_type": "markdown",
   "source": [
    "## Instantiate Contracts"
   ],
   "metadata": {
    "collapsed": false,
    "pycharm": {
     "name": "#%% md\n"
    }
   }
  },
  {
   "cell_type": "code",
   "execution_count": 3,
   "outputs": [],
   "source": [
    "def instantiate_contract(init_query: str, contract_code_id: str, contract_label: str, amount: str = '', display_data: bool = False) -> str:\n",
    "    _init_output, _init_error = execute_bash(\n",
    "        f'''INIT='{init_query}' \\\n",
    "            && cyber tx wasm instantiate {contract_code_id} \"$INIT\" --from $WALLET {'--amount ' + amount + 'boot' if amount else ''} --label \"{contract_label}\" \\\n",
    "            -y --gas 3500000 --broadcast-mode block -o json --chain-id={NETWORK} --node={NODE_URL}''')\n",
    "    if display_data:\n",
    "        try:\n",
    "            print(json.dumps(json.loads(_init_output.decode('utf-8')), indent=4, sort_keys=True))\n",
    "        except json.JSONDecodeError:\n",
    "            print(_init_output)\n",
    "    if _init_error:\n",
    "        print(_init_error)\n",
    "    _init_json = json.loads(_init_output)\n",
    "    return [event['attributes'][0]['value'] for event in _init_json['logs'][0]['events'] if event['type'] == 'instantiate'][0]"
   ],
   "metadata": {
    "collapsed": false,
    "pycharm": {
     "name": "#%%\n"
    }
   }
  },
  {
   "cell_type": "markdown",
   "source": [
    "### Instantiate Subspace Contracts"
   ],
   "metadata": {
    "collapsed": false,
    "pycharm": {
     "name": "#%% md\n"
    }
   }
  },
  {
   "cell_type": "code",
   "execution_count": 4,
   "outputs": [
    {
     "name": "stdout",
     "output_type": "stream",
     "text": [
      "Name subspace contract address: bostrom19zmt9dlz3wzu6jqgr9409el7nvxw66u8n67ta5424kwcg0qf269s6t03zt\n",
      "Avatar subspace contract address: bostrom16ulvzd0xp9g6wdhnnhz584ed8xzxm5wkmrsznnzk7qsskegkfutq5djtqs\n",
      "Proof subspace contract address: bostrom1ghwwe2nhxjfy7qulgu6zzmghmnjj3rx8xldr8aytghayxlftz6aqxy4c7k\n"
     ]
    }
   ],
   "source": [
    "if INIT_SUBSPACE_CONTRACTS:\n",
    "    name_subspace_contract_address = \\\n",
    "        instantiate_contract(\n",
    "            init_query=f'''{{\"owner\":\"{WALLET_ADDRESS}\", \"executer\":\"{WALLET_ADDRESS}\"}}''',\n",
    "            contract_code_id=SUBSPACE_CODE_ID,\n",
    "            contract_label='test name subspace')\n",
    "    avatar_subspace_contract_address = \\\n",
    "        instantiate_contract(\n",
    "            init_query=f'''{{\"owner\":\"{WALLET_ADDRESS}\", \"executer\":\"{WALLET_ADDRESS}\"}}''',\n",
    "            contract_code_id=SUBSPACE_CODE_ID,\n",
    "            contract_label='test avatar subspace')\n",
    "    proof_subspace_contract_address = \\\n",
    "        instantiate_contract(\n",
    "            init_query=f'''{{\"owner\":\"{WALLET_ADDRESS}\", \"executer\":\"{WALLET_ADDRESS}\"}}''',\n",
    "            contract_code_id=SUBSPACE_CODE_ID,\n",
    "            contract_label='test proof subspace')\n",
    "else:\n",
    "    name_subspace_contract_address = NAME_SUBSPACE_CONTRACT_ADDRESS\n",
    "    avatar_subspace_contract_address = AVATAR_SUBSPACE_CONTRACT_ADDRESS\n",
    "    proof_subspace_contract_address = PROOF_SUBSPACE_CONTRACT_ADDRESS\n",
    "print(f'Name subspace contract address: {name_subspace_contract_address}\\n'\n",
    "      f'Avatar subspace contract address: {avatar_subspace_contract_address}\\n'\n",
    "      f'Proof subspace contract address: {proof_subspace_contract_address}')"
   ],
   "metadata": {
    "collapsed": false,
    "pycharm": {
     "name": "#%%\n"
    }
   }
  },
  {
   "cell_type": "markdown",
   "source": [
    "### Instantiate Passport Contract"
   ],
   "metadata": {
    "collapsed": false,
    "pycharm": {
     "name": "#%% md\n"
    }
   }
  },
  {
   "cell_type": "code",
   "execution_count": 5,
   "outputs": [
    {
     "name": "stdout",
     "output_type": "stream",
     "text": [
      "Passport contract address: bostrom15hzg7eaxgs6ecn46gmu4juc9tau2w45l9cnf8n0797nmmtkdv7jscv88ra\n"
     ]
    }
   ],
   "source": [
    "if INIT_PASSPORT_CONTRACT:\n",
    "    passport_contract_address = \\\n",
    "        instantiate_contract(\n",
    "            init_query=f'''{{\"name\":\"CPT\", \"minter\":\"{WALLET_ADDRESS}\", \"owner\":\"{WALLET_ADDRESS}\", \"symbol\":\"CPT\", \"avatar_subspace\": \"{avatar_subspace_contract_address}\", \"name_subspace\": \"{name_subspace_contract_address}\", \"proof_subspace\": \"{proof_subspace_contract_address}\"}}''',\n",
    "            contract_code_id=PASSPORT_CODE_ID,\n",
    "            contract_label='test passport')\n",
    "else:\n",
    "    passport_contract_address = PASSPORT_CONTRACT_ADDRESS\n",
    "print(f'Passport contract address: {passport_contract_address}')"
   ],
   "metadata": {
    "collapsed": false,
    "pycharm": {
     "name": "#%%\n"
    }
   }
  },
  {
   "cell_type": "markdown",
   "source": [
    "### Set executor in the Subspace Contracts"
   ],
   "metadata": {
    "collapsed": false,
    "pycharm": {
     "name": "#%% md\n"
    }
   }
  },
  {
   "cell_type": "code",
   "execution_count": 6,
   "outputs": [],
   "source": [
    "def set_executor_subspace(subspace_contract_address: str, new_executor_address: str, display_data: bool = False):\n",
    "    return execute_bash(\n",
    "                f'''REGISTER='{{\"update_executer\":{{\"new_executer\":\"{new_executor_address}\"}}}}' \\\n",
    "                    && CONTRACT=\"{subspace_contract_address}\" \\\n",
    "                    && cyber tx wasm execute $CONTRACT \"$REGISTER\" --from $WALLET -o json --broadcast-mode block -y --gas=600000 --chain-id={NETWORK} --node={NODE_URL}''',\n",
    "                display_data=display_data)\n",
    "\n",
    "if INIT_PASSPORT_CONTRACT or INIT_SUBSPACE_CONTRACTS:\n",
    "    set_executor_subspace(subspace_contract_address=name_subspace_contract_address, new_executor_address=passport_contract_address)\n",
    "    set_executor_subspace(subspace_contract_address=avatar_subspace_contract_address, new_executor_address=passport_contract_address)\n",
    "    set_executor_subspace(subspace_contract_address=proof_subspace_contract_address, new_executor_address=passport_contract_address)"
   ],
   "metadata": {
    "collapsed": false,
    "pycharm": {
     "name": "#%%\n"
    }
   }
  },
  {
   "cell_type": "markdown",
   "source": [
    "### Instantiate Gift Contract"
   ],
   "metadata": {
    "collapsed": false,
    "pycharm": {
     "name": "#%% md\n"
    }
   }
  },
  {
   "cell_type": "code",
   "execution_count": 7,
   "outputs": [
    {
     "name": "stdout",
     "output_type": "stream",
     "text": [
      "Gift contract address: bostrom1ky7s3pwgx55dh52h80glk8fyq6k6y5qmrsnpasurxjeqnhyhwh0qfx4jqj\n"
     ]
    }
   ],
   "source": [
    "if INIT_GIFT_CONTRACT:\n",
    "    gift_contract_address = \\\n",
    "        instantiate_contract(\n",
    "            init_query=f'''{{\"owner\":\"{WALLET_ADDRESS}\", \"passport\":\"{passport_contract_address}\", \"allowed_native\":\"boot\", \"initial_balance\":\"{INITIAL_BALANCE}\", \"coefficient_up\":\"{COEF_UP}\", \"coefficient_down\":\"{COEF_DOWN}\", \"coefficient\":\"{COEF_UP}\", \"target_claim\":\"{TARGET_CLAIM}\"}}''',\n",
    "            contract_code_id=GIFT_CODE_ID,\n",
    "            amount=INITIAL_BALANCE,\n",
    "            contract_label='test gift')\n",
    "else:\n",
    "    gift_contract_address = GIFT_CONTRACT_ADDRESS\n",
    "print(f'Gift contract address: {gift_contract_address}')"
   ],
   "metadata": {
    "collapsed": false,
    "pycharm": {
     "name": "#%%\n"
    }
   }
  },
  {
   "cell_type": "code",
   "execution_count": 8,
   "outputs": [],
   "source": [
    "def get_contract_name(contract_address: str) -> str:\n",
    "    address_dict = {gift_contract_address: 'Gift Contract',\n",
    "                    passport_contract_address: 'Passport Contract',\n",
    "                    WALLET_ADDRESS: 'Wallet',\n",
    "                    name_subspace_contract_address: 'Name Subspace Contract',\n",
    "                    avatar_subspace_contract_address: 'Avatar Subspace Contract',\n",
    "                    proof_subspace_contract_address: 'Proof Subspace Contract'}\n",
    "    try:\n",
    "        return address_dict[contract_address]\n",
    "    except KeyError:\n",
    "        return contract_address\n",
    "\n",
    "\n",
    "def parse_contract_execution_json(contract_execution_json: str) -> None:\n",
    "    if len(json.loads(contract_execution_json)['logs']) == 0:\n",
    "        print(json.loads(contract_execution_json)['raw_log'])\n",
    "    for log_item in json.loads(contract_execution_json)['logs']:\n",
    "        for event_item in log_item['events']:\n",
    "            print('')\n",
    "            if event_item['type'] == 'message':\n",
    "                if len(event_item[\"attributes\"]) == 3:\n",
    "                    print(f'message from {get_contract_name(event_item[\"attributes\"][-1][\"value\"])} {event_item[\"attributes\"][1][\"value\"]} {event_item[\"attributes\"][0][\"value\"]}')\n",
    "                else:\n",
    "                    print(event_item)\n",
    "            elif event_item['type'] == 'execute':\n",
    "                print('execute')\n",
    "                for attr_item in event_item[\"attributes\"]:\n",
    "                    if attr_item[\"key\"] == '_contract_address':\n",
    "                        print(f'\\texecute contract: {get_contract_name(attr_item[\"value\"])}')\n",
    "                    else:\n",
    "                        print(f'\\t{attr_item[\"key\"]}: {get_contract_name(attr_item[\"value\"])}')\n",
    "            elif event_item['type'] == 'reply':\n",
    "                print('reply')\n",
    "                for attr_item in event_item[\"attributes\"]:\n",
    "                    if attr_item[\"key\"] == '_contract_address':\n",
    "                        print(f'\\treply contract: {get_contract_name(attr_item[\"value\"])}')\n",
    "                    else:\n",
    "                        print(f'\\t{attr_item[\"key\"]}: {get_contract_name(attr_item[\"value\"])}')\n",
    "            elif event_item['type'] == 'cyberlink':\n",
    "                print('cyberlinks')\n",
    "                for i, attr_item in enumerate(event_item['attributes']):\n",
    "                    if attr_item['key'] == 'particleFrom':\n",
    "                        print(f'\\t{attr_item[\"value\"]} -> {event_item[\"attributes\"][i + 1][\"value\"]}')\n",
    "                    elif attr_item['key'] == 'particleTo':\n",
    "                        pass\n",
    "                    elif attr_item['key'] == 'neuron':\n",
    "                        print(f'\\tneuron: {get_contract_name(event_item[\"attributes\"][-1][\"value\"])}\\n')\n",
    "                    else:\n",
    "                        print(f'\\t{attr_item[\"key\"]}: {get_contract_name(attr_item[\"value\"])}')\n",
    "            elif event_item['type'] == 'coin_received':\n",
    "                print('coin received')\n",
    "                for attr_item in event_item[\"attributes\"]:\n",
    "                    print(f'\\t{attr_item[\"key\"]}: {get_contract_name(attr_item[\"value\"])}')\n",
    "            elif event_item['type'] == 'coin_spent':\n",
    "                print('coin spent')\n",
    "                for attr_item in event_item[\"attributes\"]:\n",
    "                    print(f'\\t{attr_item[\"key\"]}: {get_contract_name(attr_item[\"value\"])}')\n",
    "            elif event_item['type'] == 'wasm':\n",
    "                print('wasm')\n",
    "                for attr_item in event_item[\"attributes\"]:\n",
    "                    print(f'\\t{attr_item[\"key\"]}: {get_contract_name(attr_item[\"value\"])}')\n",
    "            elif event_item['type'] == 'transfer':\n",
    "                print('transfer')\n",
    "                for attr_item in event_item[\"attributes\"]:\n",
    "                    print(f'\\t{attr_item[\"key\"]}: {get_contract_name(attr_item[\"value\"])}')\n",
    "            else:\n",
    "                print(event_item)"
   ],
   "metadata": {
    "collapsed": false,
    "pycharm": {
     "name": "#%%\n"
    }
   }
  },
  {
   "cell_type": "markdown",
   "source": [],
   "metadata": {
    "collapsed": false,
    "pycharm": {
     "name": "#%% md\n"
    }
   }
  },
  {
   "cell_type": "markdown",
   "source": [
    "### Create Merkle Root"
   ],
   "metadata": {
    "collapsed": false,
    "pycharm": {
     "name": "#%% md\n"
    }
   }
  },
  {
   "cell_type": "code",
   "execution_count": 9,
   "outputs": [],
   "source": [
    "root_source_list = [{'address': _item['ethereum_address'],\n",
    "                     'amount': str(_item['amount'])} for _item in claims_list]+ \\\n",
    "                    [{'address': _item['cosmos_address'],\n",
    "                      'amount': str(_item['amount'])} for _item in claims_list]\n",
    "\n",
    "with open(ROOT_SOURCE_FILE_NAME, 'w') as outfile:\n",
    "    outfile.write(str(root_source_list).replace(\"'\", '\"'))"
   ],
   "metadata": {
    "collapsed": false,
    "pycharm": {
     "name": "#%%\n"
    }
   }
  },
  {
   "cell_type": "code",
   "execution_count": 10,
   "outputs": [
    {
     "name": "stdout",
     "output_type": "stream",
     "text": [
      "Merkle root: 2b3656e620551269a4eb38345a6b24123d41e3b085c616c579bacb09a350f816\n"
     ]
    }
   ],
   "source": [
    "execute_bash(f'rm {ROOT_FILE_NAME}')\n",
    "root_output, root_error = execute_bash(\n",
    "    f'merkle-airdrop-cli generateRoot --file {ROOT_SOURCE_FILE_NAME} >> {ROOT_FILE_NAME} && cat {ROOT_FILE_NAME}')\n",
    "root = root_output.replace('\\n', '')\n",
    "print(f'Merkle root: {root}')"
   ],
   "metadata": {
    "collapsed": false,
    "pycharm": {
     "name": "#%%\n"
    }
   }
  },
  {
   "cell_type": "code",
   "execution_count": 11,
   "outputs": [
    {
     "name": "stdout",
     "output_type": "stream",
     "text": [
      "\n",
      "execute\n",
      "\texecute contract: Gift Contract\n",
      "\n",
      "message from Wallet wasm /cosmwasm.wasm.v1.MsgExecuteContract\n",
      "\n",
      "wasm\n",
      "\t_contract_address: Gift Contract\n",
      "\taction: register_merkle_root\n",
      "\tmerkle_root: 2b3656e620551269a4eb38345a6b24123d41e3b085c616c579bacb09a350f816\n"
     ]
    }
   ],
   "source": [
    "root_register_output, root_register_error = \\\n",
    "    execute_bash(\n",
    "        f'''REGISTER='{{\"register_merkle_root\":{{\"merkle_root\":\"{root}\"}}}}' \\\n",
    "            && CONTRACT=\"{gift_contract_address}\" \\\n",
    "            && cyber tx wasm execute $CONTRACT \"$REGISTER\" --from $WALLET --broadcast-mode block -o json -y --chain-id={NETWORK} --node={NODE_URL}''')\n",
    "parse_contract_execution_json(root_register_output)"
   ],
   "metadata": {
    "collapsed": false,
    "pycharm": {
     "name": "#%%\n"
    }
   }
  },
  {
   "cell_type": "markdown",
   "source": [
    "#### Get Merkle Root form the Gift Contract"
   ],
   "metadata": {
    "collapsed": false,
    "pycharm": {
     "name": "#%% md\n"
    }
   },
   "execution_count": 156
  },
  {
   "cell_type": "code",
   "execution_count": 12,
   "outputs": [
    {
     "name": "stdout",
     "output_type": "stream",
     "text": [
      "{\"data\":{\"merkle_root\":\"2b3656e620551269a4eb38345a6b24123d41e3b085c616c579bacb09a350f816\"}}\n",
      "\n"
     ]
    }
   ],
   "source": [
    "print(\n",
    "    execute_bash(\n",
    "        f'''QUERY='{{\"merkle_root\": {{}}}}' \\\n",
    "            && cyber query wasm contract-state smart {gift_contract_address} \"$QUERY\" -o json --chain-id={NETWORK} --node={NODE_URL}''')[0]\n",
    ")"
   ],
   "metadata": {
    "collapsed": false,
    "pycharm": {
     "name": "#%%\n"
    }
   }
  },
  {
   "cell_type": "markdown",
   "source": [],
   "metadata": {
    "collapsed": false,
    "pycharm": {
     "name": "#%% md\n"
    }
   }
  },
  {
   "cell_type": "code",
   "execution_count": 13,
   "outputs": [
    {
     "data": {
      "text/plain": "     amount          nickname                                          avatar  \\\n0   1000000   john16456890120  QmUPBakJj5Y3bnFYpAi58UssjnFLyxDVx6CpX8t8cZ3Xce   \n1   1000000   john16456890121  QmRSpsrrsCCfcRfKqbQFfF7X7UdsQqkf9g9y7xckXqVrcs   \n2   1000000   john16456890122  Qmej4fH3ToSYFeDgTQVfaqJBLpP7CR8rpzuNciXeZdec8e   \n3   1000000   john16456890123  QmdLhvd7efuCXvCVrECXjGw1PqzgTz9dDkHPZLFwgKNQad   \n4   1000000   john16456890124  QmbAGMrNmdrdrLRJTGReuoWFQKKQ4cPydNGGUgAiJz2PNY   \n..      ...               ...                                             ...   \n95  1000000  john164568901295  QmQCZk9tBmQ9UvyLcvmB9g9z3gtoMNXdQADnyNJWX94aH4   \n96  1000000  john164568901296  QmSTGHiCvHsBP5eUQ8Atbqt8RM9VXc8BewbmcTEm6hV6YT   \n97  1000000  john164568901297  QmRoLrGR4nc7pHixeEan5ZvTQxaJ652RNoiGkMqPMtEYH3   \n98  1000000  john164568901298  QmaQQd6vN3zu6DHgddHmXEZTxnNdU7tQthXgmZ7tSygz9j   \n99  1000000  john164568901299  QmWoLwNfhtxGJn8KrbTTSPvoaeVFeXTvEYR6fCpa34cHzH   \n\n                              ethereum_address  \\\n0   0xace4ce3820cbc4d08106c6077098efff9c102153   \n1   0x2561dc7aa1f2993b71ebcd42eb7b6d89aea82999   \n2   0x943cec118f21b326ff10c716b8ae14c4a2a82b1b   \n3   0x37c896cf9ff9be029992ee160b0dae49c07495d4   \n4   0xa59769e19a327d2d28bddfc2c057195cf32e5b33   \n..                                         ...   \n95  0x65ec5436573364862ae6a950aa977b41487e5715   \n96  0x0b1c0f128d7fe50eca0af4be0f83cf775a109330   \n97  0xba288b21a6759c6785d922dd6224df9f295aec9d   \n98  0xc92f3a158e6d21376faa7df09b2e972eb9d5f370   \n99  0xf81e61ee2f2632d87404edc2988d94c6e4a8e8aa   \n\n                                 ethereum_private_key  \\\n0   0xcbcfa4354ddfe67d6a0549289a28690a29e2b5cd79f9...   \n1   0x2dc1391c2e543012159153af30088206945058295693...   \n2   0xca3c4b50d40acb3030a30d0ff21e8f12aeb696786bef...   \n3   0x94475aabb305ac4a01c6ee9dd28f302646317ca431bf...   \n4   0xe01ff9b4d81bb31a9353bca3c918137171ac2a8fc146...   \n..                                                ...   \n95  0xbca87ea9f0d1e9c0f0fd594758f5d67151d39f280e67...   \n96  0x2289c89880cf85377c3f702a56e9498553e43fb566f1...   \n97  0x6cb6a8659aff2cfc4cf7476e48f9177f0ecb9028f6f9...   \n98  0x2dc5b22bdb0b694b530324629cdbf6810f65e1d01751...   \n99  0xe1624fdab49a996439c040eabce3eb9f9fbe87231aeb...   \n\n                                   bostrom_address  \\\n0   bostrom19vjmuzuhv7wpgceaqxtyyjlejnv9ytek2fhfrd   \n1   bostrom1vwdnx8ru6s2yxk60m66fc5kzgywvwqdc57jt23   \n2   bostrom1czds378wvgf33qts5lzkvcv6xekf47j7u79pg0   \n3   bostrom1dkynfk6lwfts9krzl5lz2ytjqq4kcj5hnah4gp   \n4   bostrom1ajg7t4zcmu9x9h299nsfct3h6m4mx2k3zx4m0s   \n..                                             ...   \n95  bostrom15pc0j3j0he3mdepjqg73g6fa0l3nau7jqycrfm   \n96  bostrom1fgfkqjtz4p6lnz9ywnpr7fm09nxlpeemnzstw2   \n97  bostrom15eyq9h8jldnu2gk7cymzsr2q5jfc6qhdke9pxv   \n98  bostrom1l4s3n4wphqvwvwfyp0n4ecehft406jydfzwfch   \n99  bostrom1rndsjjymvl6gmylrzxzss0u2det42ujg3fc7u4   \n\n                                   cosmos_address  \\\n0   cosmos19vjmuzuhv7wpgceaqxtyyjlejnv9ytekf6r6a2   \n1   cosmos1vwdnx8ru6s2yxk60m66fc5kzgywvwqdchdxc5k   \n2   cosmos1czds378wvgf33qts5lzkvcv6xekf47j7ld3jkg   \n3   cosmos1dkynfk6lwfts9krzl5lz2ytjqq4kcj5hswrxkx   \n4   cosmos1ajg7t4zcmu9x9h299nsfct3h6m4mx2k3p4pg3h   \n..                                            ...   \n95  cosmos15pc0j3j0he3mdepjqg73g6fa0l3nau7jrhvshu   \n96  cosmos1fgfkqjtz4p6lnz9ywnpr7fm09nxlpeems3ycsd   \n97  cosmos15eyq9h8jldnu2gk7cymzsr2q5jfc6qhd423jct   \n98  cosmos1l4s3n4wphqvwvwfyp0n4ecehft406jyd2366xs   \n99  cosmos1rndsjjymvl6gmylrzxzss0u2det42ujgj6vdzj   \n\n                                          cosmos_seed  \\\n0   scan then essay quality elephant curtain cage ...   \n1   team visa tent boring claim melt transfer appe...   \n2   tattoo verify pioneer wild cactus marriage inh...   \n3   subway crawl other foot whale awkward olympic ...   \n4   sock rough away buyer mask vocal position chao...   \n..                                                ...   \n95  record what garbage crumble radar bachelor glu...   \n96  minimum zero symptom era dilemma burden luxury...   \n97  infant jump easily melody monkey clerk exclude...   \n98  fine issue keep phrase fish question strike ca...   \n99  oyster bulk enough woman glare sausage merge b...   \n\n                                              message  \\\n0   bostrom135ca8hdpy9sk0ntwqzpzsvatyl48ptx5j359lz...   \n1   bostrom135ca8hdpy9sk0ntwqzpzsvatyl48ptx5j359lz...   \n2   bostrom135ca8hdpy9sk0ntwqzpzsvatyl48ptx5j359lz...   \n3   bostrom135ca8hdpy9sk0ntwqzpzsvatyl48ptx5j359lz...   \n4   bostrom135ca8hdpy9sk0ntwqzpzsvatyl48ptx5j359lz...   \n..                                                ...   \n95  bostrom135ca8hdpy9sk0ntwqzpzsvatyl48ptx5j359lz...   \n96  bostrom135ca8hdpy9sk0ntwqzpzsvatyl48ptx5j359lz...   \n97  bostrom135ca8hdpy9sk0ntwqzpzsvatyl48ptx5j359lz...   \n98  bostrom135ca8hdpy9sk0ntwqzpzsvatyl48ptx5j359lz...   \n99  bostrom135ca8hdpy9sk0ntwqzpzsvatyl48ptx5j359lz...   \n\n                           ethereum_message_signature  \\\n0   0xd265b36b2a8bf1651ecc41b1e8814eff629ed035c9d9...   \n1   0x6d65007f9ae5cb02b65283e11aac464266be28b84193...   \n2   0x735ddd89ce39a9f85d4a3bfc2332528283436812f648...   \n3   0xe0229274c0e7f50a9860986c8dc25a41e612f16c8ff9...   \n4   0x329b4afe2546d797f01a12b9ea29e40de28af96b621a...   \n..                                                ...   \n95  0x038be813f5f2d71b24e4092f662019eacc6dca6c0ddf...   \n96  0xade32187d4825afd435d06a1de72c097abc6878026fb...   \n97  0x9d26ca3c447253ef4139d1e5b90cfb5cb50461b7ee6e...   \n98  0xbed6d266aef05af86597fcf95f33bff6dc07c3867a3c...   \n99  0x5ce4d8957108c3f1f8a66f5dee40334c3d6a950291dc...   \n\n                            cosmos_message_signed_row  \\\n0   {'pub_key': 'AzcFxx7ohDBkXQNaLt55aX9AIb+ghOxHd...   \n1   {'pub_key': 'A+BhdQhp/pqiDzdVq0OE28T32xvWSFNTX...   \n2   {'pub_key': 'A/uZetQ/nscjtDQ5LZcJL5ytHIg03Z9l0...   \n3   {'pub_key': 'AjiCYjaC6+TJve2QRIqjYJGwb7UaQuFDs...   \n4   {'pub_key': 'AsTg0VX5VcIDyaiAh8YOjHwgPk+3PDB7V...   \n..                                                ...   \n95  {'pub_key': 'A1CHZ152GpbcDpzJ3TvOquL+WPkqdZ9Wq...   \n96  {'pub_key': 'AmkHIqXGx93glYtD/kFyeiBYDTIDZOGaU...   \n97  {'pub_key': 'Awu43XCus7vNhfOAQiGRY9AQEVMEbT2u9...   \n98  {'pub_key': 'ApTDYGeB55HNgOzPus10IHlq7UNDYF4L6...   \n99  {'pub_key': 'Ag02pSXdROHO/NnmWcVc9hCyIfUiI221R...   \n\n                             cosmos_message_signature  \\\n0   eyJwdWJfa2V5IjoiQXpjRnh4N29oREJrWFFOYUx0NTVhWD...   \n1   eyJwdWJfa2V5IjoiQStCaGRRaHAvcHFpRHpkVnEwT0UyOF...   \n2   eyJwdWJfa2V5IjoiQS91WmV0US9uc2NqdERRNUxaY0pMNX...   \n3   eyJwdWJfa2V5IjoiQWppQ1lqYUM2K1RKdmUyUVJJcWpZSk...   \n4   eyJwdWJfa2V5IjoiQXNUZzBWWDVWY0lEeWFpQWg4WU9qSH...   \n..                                                ...   \n95  eyJwdWJfa2V5IjoiQTFDSFoxNTJHcGJjRHB6SjNUdk9xdU...   \n96  eyJwdWJfa2V5IjoiQW1rSElxWEd4OTNnbFl0RC9rRnllaU...   \n97  eyJwdWJfa2V5IjoiQXd1NDNYQ3VzN3ZOaGZPQVFpR1JZOU...   \n98  eyJwdWJfa2V5IjoiQXBURFlHZUI1NUhOZ096UHVzMTBJSG...   \n99  eyJwdWJfa2V5IjoiQWcwMnBTWGRST0hPL05ubVdjVmM5aE...   \n\n                                       ethereum_proof  \\\n0   [\"90f4df66fab48f071e17043aefb87a7b15f9a40208aa...   \n1   [\"799ec8d507710209e710e28bc404fb5a76c0b7f771b6...   \n2   [\"e3dd964da7a4a9253f6550c97064847288fb0b4f099a...   \n3   [\"8230b2ce1377c942876595055d8ac660480637b3e50c...   \n4   [\"2c370916b8eefae8dcb5af3d5637ec9b9d2d93c7147c...   \n..                                                ...   \n95  [\"f7cc1d46c9c2731ae3592e4f3725a12ea174d8748b91...   \n96  [\"49e9bbbd59c4da258aa66e4f0f0013c88cb99d0b85a6...   \n97  [\"acb637b468bf5a79d3f76dedf008e9ec1186a26f6f7e...   \n98  [\"369a3a9b4111d76ed165a06d2c72d2e9499f36c93b28...   \n99  [\"abeb09574512dd8889f114703c4282ae56063cc2c8a8...   \n\n                                         cosmos_proof  \n0   [\"cde0210f247f5c99c2e5c2ee0259646f4015bc93a4dc...  \n1   [\"5671d8f72f465100aa45c0758226e8417470a3a67ee0...  \n2   [\"533300fcaf70358423b8becd2a085590a22818e2e23b...  \n3   [\"ffde428c35fcc8981b82fb3dd6f74fdf7f856cd473df...  \n4   [\"18e1fe97572c09e2ce39067b5c777c0d03e651480d48...  \n..                                                ...  \n95  [\"9e5555d32a25b69e914ff4a3236977d7f97297ca63c9...  \n96  [\"b401d7503e880fca89b1f410ce4ac484072322c59499...  \n97  [\"04b5c345f09135d10dd07ac3e7bd5bb4a2836280be9a...  \n98  [\"a098982d042ee2b9b4cf0b9160ad6c7ecc69829c01ef...  \n99  [\"4dc1673b65566ea7f3e34c890616a3369ac029ed992c...  \n\n[100 rows x 14 columns]",
      "text/html": "<div>\n<style scoped>\n    .dataframe tbody tr th:only-of-type {\n        vertical-align: middle;\n    }\n\n    .dataframe tbody tr th {\n        vertical-align: top;\n    }\n\n    .dataframe thead th {\n        text-align: right;\n    }\n</style>\n<table border=\"1\" class=\"dataframe\">\n  <thead>\n    <tr style=\"text-align: right;\">\n      <th></th>\n      <th>amount</th>\n      <th>nickname</th>\n      <th>avatar</th>\n      <th>ethereum_address</th>\n      <th>ethereum_private_key</th>\n      <th>bostrom_address</th>\n      <th>cosmos_address</th>\n      <th>cosmos_seed</th>\n      <th>message</th>\n      <th>ethereum_message_signature</th>\n      <th>cosmos_message_signed_row</th>\n      <th>cosmos_message_signature</th>\n      <th>ethereum_proof</th>\n      <th>cosmos_proof</th>\n    </tr>\n  </thead>\n  <tbody>\n    <tr>\n      <th>0</th>\n      <td>1000000</td>\n      <td>john16456890120</td>\n      <td>QmUPBakJj5Y3bnFYpAi58UssjnFLyxDVx6CpX8t8cZ3Xce</td>\n      <td>0xace4ce3820cbc4d08106c6077098efff9c102153</td>\n      <td>0xcbcfa4354ddfe67d6a0549289a28690a29e2b5cd79f9...</td>\n      <td>bostrom19vjmuzuhv7wpgceaqxtyyjlejnv9ytek2fhfrd</td>\n      <td>cosmos19vjmuzuhv7wpgceaqxtyyjlejnv9ytekf6r6a2</td>\n      <td>scan then essay quality elephant curtain cage ...</td>\n      <td>bostrom135ca8hdpy9sk0ntwqzpzsvatyl48ptx5j359lz...</td>\n      <td>0xd265b36b2a8bf1651ecc41b1e8814eff629ed035c9d9...</td>\n      <td>{'pub_key': 'AzcFxx7ohDBkXQNaLt55aX9AIb+ghOxHd...</td>\n      <td>eyJwdWJfa2V5IjoiQXpjRnh4N29oREJrWFFOYUx0NTVhWD...</td>\n      <td>[\"90f4df66fab48f071e17043aefb87a7b15f9a40208aa...</td>\n      <td>[\"cde0210f247f5c99c2e5c2ee0259646f4015bc93a4dc...</td>\n    </tr>\n    <tr>\n      <th>1</th>\n      <td>1000000</td>\n      <td>john16456890121</td>\n      <td>QmRSpsrrsCCfcRfKqbQFfF7X7UdsQqkf9g9y7xckXqVrcs</td>\n      <td>0x2561dc7aa1f2993b71ebcd42eb7b6d89aea82999</td>\n      <td>0x2dc1391c2e543012159153af30088206945058295693...</td>\n      <td>bostrom1vwdnx8ru6s2yxk60m66fc5kzgywvwqdc57jt23</td>\n      <td>cosmos1vwdnx8ru6s2yxk60m66fc5kzgywvwqdchdxc5k</td>\n      <td>team visa tent boring claim melt transfer appe...</td>\n      <td>bostrom135ca8hdpy9sk0ntwqzpzsvatyl48ptx5j359lz...</td>\n      <td>0x6d65007f9ae5cb02b65283e11aac464266be28b84193...</td>\n      <td>{'pub_key': 'A+BhdQhp/pqiDzdVq0OE28T32xvWSFNTX...</td>\n      <td>eyJwdWJfa2V5IjoiQStCaGRRaHAvcHFpRHpkVnEwT0UyOF...</td>\n      <td>[\"799ec8d507710209e710e28bc404fb5a76c0b7f771b6...</td>\n      <td>[\"5671d8f72f465100aa45c0758226e8417470a3a67ee0...</td>\n    </tr>\n    <tr>\n      <th>2</th>\n      <td>1000000</td>\n      <td>john16456890122</td>\n      <td>Qmej4fH3ToSYFeDgTQVfaqJBLpP7CR8rpzuNciXeZdec8e</td>\n      <td>0x943cec118f21b326ff10c716b8ae14c4a2a82b1b</td>\n      <td>0xca3c4b50d40acb3030a30d0ff21e8f12aeb696786bef...</td>\n      <td>bostrom1czds378wvgf33qts5lzkvcv6xekf47j7u79pg0</td>\n      <td>cosmos1czds378wvgf33qts5lzkvcv6xekf47j7ld3jkg</td>\n      <td>tattoo verify pioneer wild cactus marriage inh...</td>\n      <td>bostrom135ca8hdpy9sk0ntwqzpzsvatyl48ptx5j359lz...</td>\n      <td>0x735ddd89ce39a9f85d4a3bfc2332528283436812f648...</td>\n      <td>{'pub_key': 'A/uZetQ/nscjtDQ5LZcJL5ytHIg03Z9l0...</td>\n      <td>eyJwdWJfa2V5IjoiQS91WmV0US9uc2NqdERRNUxaY0pMNX...</td>\n      <td>[\"e3dd964da7a4a9253f6550c97064847288fb0b4f099a...</td>\n      <td>[\"533300fcaf70358423b8becd2a085590a22818e2e23b...</td>\n    </tr>\n    <tr>\n      <th>3</th>\n      <td>1000000</td>\n      <td>john16456890123</td>\n      <td>QmdLhvd7efuCXvCVrECXjGw1PqzgTz9dDkHPZLFwgKNQad</td>\n      <td>0x37c896cf9ff9be029992ee160b0dae49c07495d4</td>\n      <td>0x94475aabb305ac4a01c6ee9dd28f302646317ca431bf...</td>\n      <td>bostrom1dkynfk6lwfts9krzl5lz2ytjqq4kcj5hnah4gp</td>\n      <td>cosmos1dkynfk6lwfts9krzl5lz2ytjqq4kcj5hswrxkx</td>\n      <td>subway crawl other foot whale awkward olympic ...</td>\n      <td>bostrom135ca8hdpy9sk0ntwqzpzsvatyl48ptx5j359lz...</td>\n      <td>0xe0229274c0e7f50a9860986c8dc25a41e612f16c8ff9...</td>\n      <td>{'pub_key': 'AjiCYjaC6+TJve2QRIqjYJGwb7UaQuFDs...</td>\n      <td>eyJwdWJfa2V5IjoiQWppQ1lqYUM2K1RKdmUyUVJJcWpZSk...</td>\n      <td>[\"8230b2ce1377c942876595055d8ac660480637b3e50c...</td>\n      <td>[\"ffde428c35fcc8981b82fb3dd6f74fdf7f856cd473df...</td>\n    </tr>\n    <tr>\n      <th>4</th>\n      <td>1000000</td>\n      <td>john16456890124</td>\n      <td>QmbAGMrNmdrdrLRJTGReuoWFQKKQ4cPydNGGUgAiJz2PNY</td>\n      <td>0xa59769e19a327d2d28bddfc2c057195cf32e5b33</td>\n      <td>0xe01ff9b4d81bb31a9353bca3c918137171ac2a8fc146...</td>\n      <td>bostrom1ajg7t4zcmu9x9h299nsfct3h6m4mx2k3zx4m0s</td>\n      <td>cosmos1ajg7t4zcmu9x9h299nsfct3h6m4mx2k3p4pg3h</td>\n      <td>sock rough away buyer mask vocal position chao...</td>\n      <td>bostrom135ca8hdpy9sk0ntwqzpzsvatyl48ptx5j359lz...</td>\n      <td>0x329b4afe2546d797f01a12b9ea29e40de28af96b621a...</td>\n      <td>{'pub_key': 'AsTg0VX5VcIDyaiAh8YOjHwgPk+3PDB7V...</td>\n      <td>eyJwdWJfa2V5IjoiQXNUZzBWWDVWY0lEeWFpQWg4WU9qSH...</td>\n      <td>[\"2c370916b8eefae8dcb5af3d5637ec9b9d2d93c7147c...</td>\n      <td>[\"18e1fe97572c09e2ce39067b5c777c0d03e651480d48...</td>\n    </tr>\n    <tr>\n      <th>...</th>\n      <td>...</td>\n      <td>...</td>\n      <td>...</td>\n      <td>...</td>\n      <td>...</td>\n      <td>...</td>\n      <td>...</td>\n      <td>...</td>\n      <td>...</td>\n      <td>...</td>\n      <td>...</td>\n      <td>...</td>\n      <td>...</td>\n      <td>...</td>\n    </tr>\n    <tr>\n      <th>95</th>\n      <td>1000000</td>\n      <td>john164568901295</td>\n      <td>QmQCZk9tBmQ9UvyLcvmB9g9z3gtoMNXdQADnyNJWX94aH4</td>\n      <td>0x65ec5436573364862ae6a950aa977b41487e5715</td>\n      <td>0xbca87ea9f0d1e9c0f0fd594758f5d67151d39f280e67...</td>\n      <td>bostrom15pc0j3j0he3mdepjqg73g6fa0l3nau7jqycrfm</td>\n      <td>cosmos15pc0j3j0he3mdepjqg73g6fa0l3nau7jrhvshu</td>\n      <td>record what garbage crumble radar bachelor glu...</td>\n      <td>bostrom135ca8hdpy9sk0ntwqzpzsvatyl48ptx5j359lz...</td>\n      <td>0x038be813f5f2d71b24e4092f662019eacc6dca6c0ddf...</td>\n      <td>{'pub_key': 'A1CHZ152GpbcDpzJ3TvOquL+WPkqdZ9Wq...</td>\n      <td>eyJwdWJfa2V5IjoiQTFDSFoxNTJHcGJjRHB6SjNUdk9xdU...</td>\n      <td>[\"f7cc1d46c9c2731ae3592e4f3725a12ea174d8748b91...</td>\n      <td>[\"9e5555d32a25b69e914ff4a3236977d7f97297ca63c9...</td>\n    </tr>\n    <tr>\n      <th>96</th>\n      <td>1000000</td>\n      <td>john164568901296</td>\n      <td>QmSTGHiCvHsBP5eUQ8Atbqt8RM9VXc8BewbmcTEm6hV6YT</td>\n      <td>0x0b1c0f128d7fe50eca0af4be0f83cf775a109330</td>\n      <td>0x2289c89880cf85377c3f702a56e9498553e43fb566f1...</td>\n      <td>bostrom1fgfkqjtz4p6lnz9ywnpr7fm09nxlpeemnzstw2</td>\n      <td>cosmos1fgfkqjtz4p6lnz9ywnpr7fm09nxlpeems3ycsd</td>\n      <td>minimum zero symptom era dilemma burden luxury...</td>\n      <td>bostrom135ca8hdpy9sk0ntwqzpzsvatyl48ptx5j359lz...</td>\n      <td>0xade32187d4825afd435d06a1de72c097abc6878026fb...</td>\n      <td>{'pub_key': 'AmkHIqXGx93glYtD/kFyeiBYDTIDZOGaU...</td>\n      <td>eyJwdWJfa2V5IjoiQW1rSElxWEd4OTNnbFl0RC9rRnllaU...</td>\n      <td>[\"49e9bbbd59c4da258aa66e4f0f0013c88cb99d0b85a6...</td>\n      <td>[\"b401d7503e880fca89b1f410ce4ac484072322c59499...</td>\n    </tr>\n    <tr>\n      <th>97</th>\n      <td>1000000</td>\n      <td>john164568901297</td>\n      <td>QmRoLrGR4nc7pHixeEan5ZvTQxaJ652RNoiGkMqPMtEYH3</td>\n      <td>0xba288b21a6759c6785d922dd6224df9f295aec9d</td>\n      <td>0x6cb6a8659aff2cfc4cf7476e48f9177f0ecb9028f6f9...</td>\n      <td>bostrom15eyq9h8jldnu2gk7cymzsr2q5jfc6qhdke9pxv</td>\n      <td>cosmos15eyq9h8jldnu2gk7cymzsr2q5jfc6qhd423jct</td>\n      <td>infant jump easily melody monkey clerk exclude...</td>\n      <td>bostrom135ca8hdpy9sk0ntwqzpzsvatyl48ptx5j359lz...</td>\n      <td>0x9d26ca3c447253ef4139d1e5b90cfb5cb50461b7ee6e...</td>\n      <td>{'pub_key': 'Awu43XCus7vNhfOAQiGRY9AQEVMEbT2u9...</td>\n      <td>eyJwdWJfa2V5IjoiQXd1NDNYQ3VzN3ZOaGZPQVFpR1JZOU...</td>\n      <td>[\"acb637b468bf5a79d3f76dedf008e9ec1186a26f6f7e...</td>\n      <td>[\"04b5c345f09135d10dd07ac3e7bd5bb4a2836280be9a...</td>\n    </tr>\n    <tr>\n      <th>98</th>\n      <td>1000000</td>\n      <td>john164568901298</td>\n      <td>QmaQQd6vN3zu6DHgddHmXEZTxnNdU7tQthXgmZ7tSygz9j</td>\n      <td>0xc92f3a158e6d21376faa7df09b2e972eb9d5f370</td>\n      <td>0x2dc5b22bdb0b694b530324629cdbf6810f65e1d01751...</td>\n      <td>bostrom1l4s3n4wphqvwvwfyp0n4ecehft406jydfzwfch</td>\n      <td>cosmos1l4s3n4wphqvwvwfyp0n4ecehft406jyd2366xs</td>\n      <td>fine issue keep phrase fish question strike ca...</td>\n      <td>bostrom135ca8hdpy9sk0ntwqzpzsvatyl48ptx5j359lz...</td>\n      <td>0xbed6d266aef05af86597fcf95f33bff6dc07c3867a3c...</td>\n      <td>{'pub_key': 'ApTDYGeB55HNgOzPus10IHlq7UNDYF4L6...</td>\n      <td>eyJwdWJfa2V5IjoiQXBURFlHZUI1NUhOZ096UHVzMTBJSG...</td>\n      <td>[\"369a3a9b4111d76ed165a06d2c72d2e9499f36c93b28...</td>\n      <td>[\"a098982d042ee2b9b4cf0b9160ad6c7ecc69829c01ef...</td>\n    </tr>\n    <tr>\n      <th>99</th>\n      <td>1000000</td>\n      <td>john164568901299</td>\n      <td>QmWoLwNfhtxGJn8KrbTTSPvoaeVFeXTvEYR6fCpa34cHzH</td>\n      <td>0xf81e61ee2f2632d87404edc2988d94c6e4a8e8aa</td>\n      <td>0xe1624fdab49a996439c040eabce3eb9f9fbe87231aeb...</td>\n      <td>bostrom1rndsjjymvl6gmylrzxzss0u2det42ujg3fc7u4</td>\n      <td>cosmos1rndsjjymvl6gmylrzxzss0u2det42ujgj6vdzj</td>\n      <td>oyster bulk enough woman glare sausage merge b...</td>\n      <td>bostrom135ca8hdpy9sk0ntwqzpzsvatyl48ptx5j359lz...</td>\n      <td>0x5ce4d8957108c3f1f8a66f5dee40334c3d6a950291dc...</td>\n      <td>{'pub_key': 'Ag02pSXdROHO/NnmWcVc9hCyIfUiI221R...</td>\n      <td>eyJwdWJfa2V5IjoiQWcwMnBTWGRST0hPL05ubVdjVmM5aE...</td>\n      <td>[\"abeb09574512dd8889f114703c4282ae56063cc2c8a8...</td>\n      <td>[\"4dc1673b65566ea7f3e34c890616a3369ac029ed992c...</td>\n    </tr>\n  </tbody>\n</table>\n<p>100 rows × 14 columns</p>\n</div>"
     },
     "execution_count": 13,
     "metadata": {},
     "output_type": "execute_result"
    }
   ],
   "source": [
    "def generate_proof(claim_row: pd.Series, network: str = 'ethereum', display_data: bool = False):\n",
    "    proof_output, _ = execute_bash(f'merkle-airdrop-cli generateProofs --file {ROOT_SOURCE_FILE_NAME} --address {claim_row[network + \"_address\"]} --amount {claim_row.amount}',\n",
    "                                   display_data=display_data)\n",
    "    return proof_output.replace('\\n','').replace(\" \",'').replace(\"'\", '\"')\n",
    "\n",
    "claims_df.loc[:, 'ethereum_proof'] = claims_df.apply(lambda x: generate_proof(x), axis=1)\n",
    "claims_df.loc[:, 'cosmos_proof'] = claims_df.apply(lambda x: generate_proof(x, network='cosmos'), axis=1)\n",
    "claims_df.to_csv('claims_ethereum_test_data_' + str(NUMBER_OF_PARTICIPANTS) + '_addresses.csv')\n",
    "claims_df"
   ],
   "metadata": {
    "collapsed": false,
    "pycharm": {
     "name": "#%%\n"
    }
   }
  },
  {
   "cell_type": "markdown",
   "source": [
    "### Create Passports"
   ],
   "metadata": {
    "collapsed": false,
    "pycharm": {
     "name": "#%% md\n"
    }
   }
  },
  {
   "cell_type": "code",
   "execution_count": 13,
   "outputs": [
    {
     "data": {
      "text/plain": "0it [00:00, ?it/s]",
      "application/vnd.jupyter.widget-view+json": {
       "version_major": 2,
       "version_minor": 0,
       "model_id": "ed7c41d16e03404888a0a709dedad965"
      }
     },
     "metadata": {},
     "output_type": "display_data"
    },
    {
     "name": "stdout",
     "output_type": "stream",
     "text": [
      "REGISTER='{\"create_passport\":{\"avatar\":\"QmRge6NNuXmaafJKBC6jcHJ5AhTyiAeyHAfRoTuaidNJvU\", \"nickname\":\"john16456888760\"}}'                     && CONTRACT=\"bostrom15hzg7eaxgs6ecn46gmu4juc9tau2w45l9cnf8n0797nmmtkdv7jscv88ra\"                     && cyber tx wasm execute $CONTRACT \"$REGISTER\" --from $WALLET -o json --broadcast-mode block -y --gas=600000 --chain-id=space-pussy-1 --node=https://rpc.space-pussy-1.cybernode.ai:443\n",
      "{\n",
      "    \"code\": 0,\n",
      "    \"codespace\": \"\",\n",
      "    \"data\": \"0A260A242F636F736D7761736D2E7761736D2E76312E4D736745786563757465436F6E7472616374\",\n",
      "    \"gas_used\": \"400125\",\n",
      "    \"gas_wanted\": \"600000\",\n",
      "    \"height\": \"1444585\",\n",
      "    \"info\": \"\",\n",
      "    \"logs\": [\n",
      "        {\n",
      "            \"events\": [\n",
      "                {\n",
      "                    \"attributes\": [\n",
      "                        {\n",
      "                            \"key\": \"particleFrom\",\n",
      "                            \"value\": \"Qmb6ckJ1zaYx2htqzsgJSK4D7QRbJesPtaL9zYHq5EVnkg\"\n",
      "                        },\n",
      "                        {\n",
      "                            \"key\": \"particleTo\",\n",
      "                            \"value\": \"QmerddFhqwwptJuMDE8Cin1xHJo7AmDQMKTNeoj38oeGcs\"\n",
      "                        },\n",
      "                        {\n",
      "                            \"key\": \"particleFrom\",\n",
      "                            \"value\": \"QmerddFhqwwptJuMDE8Cin1xHJo7AmDQMKTNeoj38oeGcs\"\n",
      "                        },\n",
      "                        {\n",
      "                            \"key\": \"particleTo\",\n",
      "                            \"value\": \"Qmb6ckJ1zaYx2htqzsgJSK4D7QRbJesPtaL9zYHq5EVnkg\"\n",
      "                        },\n",
      "                        {\n",
      "                            \"key\": \"neuron\",\n",
      "                            \"value\": \"bostrom19zmt9dlz3wzu6jqgr9409el7nvxw66u8n67ta5424kwcg0qf269s6t03zt\"\n",
      "                        },\n",
      "                        {\n",
      "                            \"key\": \"particleFrom\",\n",
      "                            \"value\": \"Qmb6ckJ1zaYx2htqzsgJSK4D7QRbJesPtaL9zYHq5EVnkg\"\n",
      "                        },\n",
      "                        {\n",
      "                            \"key\": \"particleTo\",\n",
      "                            \"value\": \"QmRge6NNuXmaafJKBC6jcHJ5AhTyiAeyHAfRoTuaidNJvU\"\n",
      "                        },\n",
      "                        {\n",
      "                            \"key\": \"particleFrom\",\n",
      "                            \"value\": \"QmRge6NNuXmaafJKBC6jcHJ5AhTyiAeyHAfRoTuaidNJvU\"\n",
      "                        },\n",
      "                        {\n",
      "                            \"key\": \"particleTo\",\n",
      "                            \"value\": \"Qmb6ckJ1zaYx2htqzsgJSK4D7QRbJesPtaL9zYHq5EVnkg\"\n",
      "                        },\n",
      "                        {\n",
      "                            \"key\": \"neuron\",\n",
      "                            \"value\": \"bostrom16ulvzd0xp9g6wdhnnhz584ed8xzxm5wkmrsznnzk7qsskegkfutq5djtqs\"\n",
      "                        }\n",
      "                    ],\n",
      "                    \"type\": \"cyberlink\"\n",
      "                },\n",
      "                {\n",
      "                    \"attributes\": [\n",
      "                        {\n",
      "                            \"key\": \"_contract_address\",\n",
      "                            \"value\": \"bostrom15hzg7eaxgs6ecn46gmu4juc9tau2w45l9cnf8n0797nmmtkdv7jscv88ra\"\n",
      "                        },\n",
      "                        {\n",
      "                            \"key\": \"_contract_address\",\n",
      "                            \"value\": \"bostrom19zmt9dlz3wzu6jqgr9409el7nvxw66u8n67ta5424kwcg0qf269s6t03zt\"\n",
      "                        },\n",
      "                        {\n",
      "                            \"key\": \"_contract_address\",\n",
      "                            \"value\": \"bostrom16ulvzd0xp9g6wdhnnhz584ed8xzxm5wkmrsznnzk7qsskegkfutq5djtqs\"\n",
      "                        }\n",
      "                    ],\n",
      "                    \"type\": \"execute\"\n",
      "                },\n",
      "                {\n",
      "                    \"attributes\": [\n",
      "                        {\n",
      "                            \"key\": \"action\",\n",
      "                            \"value\": \"/cosmwasm.wasm.v1.MsgExecuteContract\"\n",
      "                        },\n",
      "                        {\n",
      "                            \"key\": \"module\",\n",
      "                            \"value\": \"wasm\"\n",
      "                        },\n",
      "                        {\n",
      "                            \"key\": \"sender\",\n",
      "                            \"value\": \"bostrom135ca8hdpy9sk0ntwqzpzsvatyl48ptx5j359lz\"\n",
      "                        }\n",
      "                    ],\n",
      "                    \"type\": \"message\"\n",
      "                },\n",
      "                {\n",
      "                    \"attributes\": [\n",
      "                        {\n",
      "                            \"key\": \"_contract_address\",\n",
      "                            \"value\": \"bostrom15hzg7eaxgs6ecn46gmu4juc9tau2w45l9cnf8n0797nmmtkdv7jscv88ra\"\n",
      "                        },\n",
      "                        {\n",
      "                            \"key\": \"_contract_address\",\n",
      "                            \"value\": \"bostrom15hzg7eaxgs6ecn46gmu4juc9tau2w45l9cnf8n0797nmmtkdv7jscv88ra\"\n",
      "                        }\n",
      "                    ],\n",
      "                    \"type\": \"reply\"\n",
      "                },\n",
      "                {\n",
      "                    \"attributes\": [\n",
      "                        {\n",
      "                            \"key\": \"_contract_address\",\n",
      "                            \"value\": \"bostrom15hzg7eaxgs6ecn46gmu4juc9tau2w45l9cnf8n0797nmmtkdv7jscv88ra\"\n",
      "                        },\n",
      "                        {\n",
      "                            \"key\": \"action\",\n",
      "                            \"value\": \"mint\"\n",
      "                        },\n",
      "                        {\n",
      "                            \"key\": \"minter\",\n",
      "                            \"value\": \"bostrom15hzg7eaxgs6ecn46gmu4juc9tau2w45l9cnf8n0797nmmtkdv7jscv88ra\"\n",
      "                        },\n",
      "                        {\n",
      "                            \"key\": \"token_id\",\n",
      "                            \"value\": \"27\"\n",
      "                        }\n",
      "                    ],\n",
      "                    \"type\": \"wasm\"\n",
      "                }\n",
      "            ],\n",
      "            \"log\": \"\",\n",
      "            \"msg_index\": 0\n",
      "        }\n",
      "    ],\n",
      "    \"raw_log\": \"[{\\\"events\\\":[{\\\"type\\\":\\\"cyberlink\\\",\\\"attributes\\\":[{\\\"key\\\":\\\"particleFrom\\\",\\\"value\\\":\\\"Qmb6ckJ1zaYx2htqzsgJSK4D7QRbJesPtaL9zYHq5EVnkg\\\"},{\\\"key\\\":\\\"particleTo\\\",\\\"value\\\":\\\"QmerddFhqwwptJuMDE8Cin1xHJo7AmDQMKTNeoj38oeGcs\\\"},{\\\"key\\\":\\\"particleFrom\\\",\\\"value\\\":\\\"QmerddFhqwwptJuMDE8Cin1xHJo7AmDQMKTNeoj38oeGcs\\\"},{\\\"key\\\":\\\"particleTo\\\",\\\"value\\\":\\\"Qmb6ckJ1zaYx2htqzsgJSK4D7QRbJesPtaL9zYHq5EVnkg\\\"},{\\\"key\\\":\\\"neuron\\\",\\\"value\\\":\\\"bostrom19zmt9dlz3wzu6jqgr9409el7nvxw66u8n67ta5424kwcg0qf269s6t03zt\\\"},{\\\"key\\\":\\\"particleFrom\\\",\\\"value\\\":\\\"Qmb6ckJ1zaYx2htqzsgJSK4D7QRbJesPtaL9zYHq5EVnkg\\\"},{\\\"key\\\":\\\"particleTo\\\",\\\"value\\\":\\\"QmRge6NNuXmaafJKBC6jcHJ5AhTyiAeyHAfRoTuaidNJvU\\\"},{\\\"key\\\":\\\"particleFrom\\\",\\\"value\\\":\\\"QmRge6NNuXmaafJKBC6jcHJ5AhTyiAeyHAfRoTuaidNJvU\\\"},{\\\"key\\\":\\\"particleTo\\\",\\\"value\\\":\\\"Qmb6ckJ1zaYx2htqzsgJSK4D7QRbJesPtaL9zYHq5EVnkg\\\"},{\\\"key\\\":\\\"neuron\\\",\\\"value\\\":\\\"bostrom16ulvzd0xp9g6wdhnnhz584ed8xzxm5wkmrsznnzk7qsskegkfutq5djtqs\\\"}]},{\\\"type\\\":\\\"execute\\\",\\\"attributes\\\":[{\\\"key\\\":\\\"_contract_address\\\",\\\"value\\\":\\\"bostrom15hzg7eaxgs6ecn46gmu4juc9tau2w45l9cnf8n0797nmmtkdv7jscv88ra\\\"},{\\\"key\\\":\\\"_contract_address\\\",\\\"value\\\":\\\"bostrom19zmt9dlz3wzu6jqgr9409el7nvxw66u8n67ta5424kwcg0qf269s6t03zt\\\"},{\\\"key\\\":\\\"_contract_address\\\",\\\"value\\\":\\\"bostrom16ulvzd0xp9g6wdhnnhz584ed8xzxm5wkmrsznnzk7qsskegkfutq5djtqs\\\"}]},{\\\"type\\\":\\\"message\\\",\\\"attributes\\\":[{\\\"key\\\":\\\"action\\\",\\\"value\\\":\\\"/cosmwasm.wasm.v1.MsgExecuteContract\\\"},{\\\"key\\\":\\\"module\\\",\\\"value\\\":\\\"wasm\\\"},{\\\"key\\\":\\\"sender\\\",\\\"value\\\":\\\"bostrom135ca8hdpy9sk0ntwqzpzsvatyl48ptx5j359lz\\\"}]},{\\\"type\\\":\\\"reply\\\",\\\"attributes\\\":[{\\\"key\\\":\\\"_contract_address\\\",\\\"value\\\":\\\"bostrom15hzg7eaxgs6ecn46gmu4juc9tau2w45l9cnf8n0797nmmtkdv7jscv88ra\\\"},{\\\"key\\\":\\\"_contract_address\\\",\\\"value\\\":\\\"bostrom15hzg7eaxgs6ecn46gmu4juc9tau2w45l9cnf8n0797nmmtkdv7jscv88ra\\\"}]},{\\\"type\\\":\\\"wasm\\\",\\\"attributes\\\":[{\\\"key\\\":\\\"_contract_address\\\",\\\"value\\\":\\\"bostrom15hzg7eaxgs6ecn46gmu4juc9tau2w45l9cnf8n0797nmmtkdv7jscv88ra\\\"},{\\\"key\\\":\\\"action\\\",\\\"value\\\":\\\"mint\\\"},{\\\"key\\\":\\\"minter\\\",\\\"value\\\":\\\"bostrom15hzg7eaxgs6ecn46gmu4juc9tau2w45l9cnf8n0797nmmtkdv7jscv88ra\\\"},{\\\"key\\\":\\\"token_id\\\",\\\"value\\\":\\\"27\\\"}]}]}]\",\n",
      "    \"timestamp\": \"\",\n",
      "    \"tx\": null,\n",
      "    \"txhash\": \"5A0A031089274A639F715B449994946675D7347DB9FC82DD3A1AFB99508BFC0F\"\n",
      "}\n"
     ]
    },
    {
     "ename": "KeyboardInterrupt",
     "evalue": "",
     "output_type": "error",
     "traceback": [
      "\u001B[0;31m---------------------------------------------------------------------------\u001B[0m",
      "\u001B[0;31mKeyboardInterrupt\u001B[0m                         Traceback (most recent call last)",
      "\u001B[0;32m/var/folders/_p/6pbh6qrj09s5tmd__ndznj3m0000gn/T/ipykernel_48766/1346291727.py\u001B[0m in \u001B[0;36m<module>\u001B[0;34m\u001B[0m\n\u001B[1;32m     10\u001B[0m         \u001B[0mcreate_passport_json\u001B[0m\u001B[0;34m,\u001B[0m \u001B[0m_\u001B[0m \u001B[0;34m=\u001B[0m \u001B[0mcreate_passport\u001B[0m\u001B[0;34m(\u001B[0m\u001B[0mrow\u001B[0m\u001B[0;34m,\u001B[0m \u001B[0mdisplay_data\u001B[0m\u001B[0;34m=\u001B[0m\u001B[0;32mTrue\u001B[0m\u001B[0;34m)\u001B[0m\u001B[0;34m\u001B[0m\u001B[0;34m\u001B[0m\u001B[0m\n\u001B[1;32m     11\u001B[0m     \u001B[0;32melse\u001B[0m\u001B[0;34m:\u001B[0m\u001B[0;34m\u001B[0m\u001B[0;34m\u001B[0m\u001B[0m\n\u001B[0;32m---> 12\u001B[0;31m         \u001B[0mcreate_passport\u001B[0m\u001B[0;34m(\u001B[0m\u001B[0mrow\u001B[0m\u001B[0;34m)\u001B[0m\u001B[0;34m\u001B[0m\u001B[0;34m\u001B[0m\u001B[0m\n\u001B[0m",
      "\u001B[0;32m/var/folders/_p/6pbh6qrj09s5tmd__ndznj3m0000gn/T/ipykernel_48766/1346291727.py\u001B[0m in \u001B[0;36mcreate_passport\u001B[0;34m(claim_row, display_data)\u001B[0m\n\u001B[1;32m      1\u001B[0m \u001B[0;32mdef\u001B[0m \u001B[0mcreate_passport\u001B[0m\u001B[0;34m(\u001B[0m\u001B[0mclaim_row\u001B[0m\u001B[0;34m:\u001B[0m \u001B[0mpd\u001B[0m\u001B[0;34m.\u001B[0m\u001B[0mSeries\u001B[0m\u001B[0;34m,\u001B[0m \u001B[0mdisplay_data\u001B[0m\u001B[0;34m:\u001B[0m \u001B[0mbool\u001B[0m \u001B[0;34m=\u001B[0m \u001B[0;32mFalse\u001B[0m\u001B[0;34m)\u001B[0m\u001B[0;34m:\u001B[0m\u001B[0;34m\u001B[0m\u001B[0;34m\u001B[0m\u001B[0m\n\u001B[0;32m----> 2\u001B[0;31m     return execute_bash(\n\u001B[0m\u001B[1;32m      3\u001B[0m                 f'''REGISTER='{{\"create_passport\":{{\"avatar\":\"{claim_row[\"avatar\"]}\", \"nickname\":\"{claim_row[\"nickname\"]}\"}}}}' \\\n\u001B[1;32m      4\u001B[0m                     \u001B[0;34m&\u001B[0m\u001B[0;34m&\u001B[0m \u001B[0mCONTRACT\u001B[0m\u001B[0;34m=\u001B[0m\u001B[0;34m\"{passport_contract_address}\"\u001B[0m\u001B[0;31m \u001B[0m\u001B[0;31m\\\u001B[0m\u001B[0;34m\u001B[0m\u001B[0;34m\u001B[0m\u001B[0m\n\u001B[1;32m      5\u001B[0m                     && cyber tx wasm execute $CONTRACT \"$REGISTER\" --from $WALLET -o json --broadcast-mode block -y --gas=600000 --chain-id={NETWORK} --node={NODE_URL}''',\n",
      "\u001B[0;32m/var/folders/_p/6pbh6qrj09s5tmd__ndznj3m0000gn/T/ipykernel_48766/1358628176.py\u001B[0m in \u001B[0;36mexecute_bash\u001B[0;34m(bash_command, display_data)\u001B[0m\n\u001B[1;32m     49\u001B[0m \u001B[0;34m\u001B[0m\u001B[0m\n\u001B[1;32m     50\u001B[0m \u001B[0;32mdef\u001B[0m \u001B[0mexecute_bash\u001B[0m\u001B[0;34m(\u001B[0m\u001B[0mbash_command\u001B[0m\u001B[0;34m:\u001B[0m \u001B[0mstr\u001B[0m\u001B[0;34m,\u001B[0m \u001B[0mdisplay_data\u001B[0m\u001B[0;34m:\u001B[0m \u001B[0mbool\u001B[0m \u001B[0;34m=\u001B[0m \u001B[0;32mFalse\u001B[0m\u001B[0;34m)\u001B[0m \u001B[0;34m->\u001B[0m \u001B[0;34m[\u001B[0m\u001B[0mstr\u001B[0m\u001B[0;34m,\u001B[0m \u001B[0mstr\u001B[0m\u001B[0;34m]\u001B[0m\u001B[0;34m:\u001B[0m\u001B[0;34m\u001B[0m\u001B[0;34m\u001B[0m\u001B[0m\n\u001B[0;32m---> 51\u001B[0;31m     \u001B[0m_output\u001B[0m\u001B[0;34m,\u001B[0m \u001B[0m_error\u001B[0m \u001B[0;34m=\u001B[0m \u001B[0mPopen\u001B[0m\u001B[0;34m(\u001B[0m\u001B[0mbash_command\u001B[0m\u001B[0;34m,\u001B[0m \u001B[0mshell\u001B[0m\u001B[0;34m=\u001B[0m\u001B[0;32mTrue\u001B[0m\u001B[0;34m,\u001B[0m \u001B[0mstdout\u001B[0m\u001B[0;34m=\u001B[0m\u001B[0mPIPE\u001B[0m\u001B[0;34m,\u001B[0m \u001B[0mstderr\u001B[0m\u001B[0;34m=\u001B[0m\u001B[0mPIPE\u001B[0m\u001B[0;34m)\u001B[0m\u001B[0;34m.\u001B[0m\u001B[0mcommunicate\u001B[0m\u001B[0;34m(\u001B[0m\u001B[0;34m)\u001B[0m\u001B[0;34m\u001B[0m\u001B[0;34m\u001B[0m\u001B[0m\n\u001B[0m\u001B[1;32m     52\u001B[0m     \u001B[0;32mif\u001B[0m \u001B[0m_error\u001B[0m\u001B[0;34m:\u001B[0m\u001B[0;34m\u001B[0m\u001B[0;34m\u001B[0m\u001B[0m\n\u001B[1;32m     53\u001B[0m         \u001B[0mdisplay_data\u001B[0m \u001B[0;34m=\u001B[0m \u001B[0;32mTrue\u001B[0m\u001B[0;34m\u001B[0m\u001B[0;34m\u001B[0m\u001B[0m\n",
      "\u001B[0;32m/Applications/Xcode.app/Contents/Developer/Library/Frameworks/Python3.framework/Versions/3.8/lib/python3.8/subprocess.py\u001B[0m in \u001B[0;36mcommunicate\u001B[0;34m(self, input, timeout)\u001B[0m\n\u001B[1;32m   1026\u001B[0m \u001B[0;34m\u001B[0m\u001B[0m\n\u001B[1;32m   1027\u001B[0m             \u001B[0;32mtry\u001B[0m\u001B[0;34m:\u001B[0m\u001B[0;34m\u001B[0m\u001B[0;34m\u001B[0m\u001B[0m\n\u001B[0;32m-> 1028\u001B[0;31m                 \u001B[0mstdout\u001B[0m\u001B[0;34m,\u001B[0m \u001B[0mstderr\u001B[0m \u001B[0;34m=\u001B[0m \u001B[0mself\u001B[0m\u001B[0;34m.\u001B[0m\u001B[0m_communicate\u001B[0m\u001B[0;34m(\u001B[0m\u001B[0minput\u001B[0m\u001B[0;34m,\u001B[0m \u001B[0mendtime\u001B[0m\u001B[0;34m,\u001B[0m \u001B[0mtimeout\u001B[0m\u001B[0;34m)\u001B[0m\u001B[0;34m\u001B[0m\u001B[0;34m\u001B[0m\u001B[0m\n\u001B[0m\u001B[1;32m   1029\u001B[0m             \u001B[0;32mexcept\u001B[0m \u001B[0mKeyboardInterrupt\u001B[0m\u001B[0;34m:\u001B[0m\u001B[0;34m\u001B[0m\u001B[0;34m\u001B[0m\u001B[0m\n\u001B[1;32m   1030\u001B[0m                 \u001B[0;31m# https://bugs.python.org/issue25942\u001B[0m\u001B[0;34m\u001B[0m\u001B[0;34m\u001B[0m\u001B[0;34m\u001B[0m\u001B[0m\n",
      "\u001B[0;32m/Applications/Xcode.app/Contents/Developer/Library/Frameworks/Python3.framework/Versions/3.8/lib/python3.8/subprocess.py\u001B[0m in \u001B[0;36m_communicate\u001B[0;34m(self, input, endtime, orig_timeout)\u001B[0m\n\u001B[1;32m   1866\u001B[0m                             'failed to raise TimeoutExpired.')\n\u001B[1;32m   1867\u001B[0m \u001B[0;34m\u001B[0m\u001B[0m\n\u001B[0;32m-> 1868\u001B[0;31m                     \u001B[0mready\u001B[0m \u001B[0;34m=\u001B[0m \u001B[0mselector\u001B[0m\u001B[0;34m.\u001B[0m\u001B[0mselect\u001B[0m\u001B[0;34m(\u001B[0m\u001B[0mtimeout\u001B[0m\u001B[0;34m)\u001B[0m\u001B[0;34m\u001B[0m\u001B[0;34m\u001B[0m\u001B[0m\n\u001B[0m\u001B[1;32m   1869\u001B[0m                     \u001B[0mself\u001B[0m\u001B[0;34m.\u001B[0m\u001B[0m_check_timeout\u001B[0m\u001B[0;34m(\u001B[0m\u001B[0mendtime\u001B[0m\u001B[0;34m,\u001B[0m \u001B[0morig_timeout\u001B[0m\u001B[0;34m,\u001B[0m \u001B[0mstdout\u001B[0m\u001B[0;34m,\u001B[0m \u001B[0mstderr\u001B[0m\u001B[0;34m)\u001B[0m\u001B[0;34m\u001B[0m\u001B[0;34m\u001B[0m\u001B[0m\n\u001B[1;32m   1870\u001B[0m \u001B[0;34m\u001B[0m\u001B[0m\n",
      "\u001B[0;32m/Applications/Xcode.app/Contents/Developer/Library/Frameworks/Python3.framework/Versions/3.8/lib/python3.8/selectors.py\u001B[0m in \u001B[0;36mselect\u001B[0;34m(self, timeout)\u001B[0m\n\u001B[1;32m    413\u001B[0m         \u001B[0mready\u001B[0m \u001B[0;34m=\u001B[0m \u001B[0;34m[\u001B[0m\u001B[0;34m]\u001B[0m\u001B[0;34m\u001B[0m\u001B[0;34m\u001B[0m\u001B[0m\n\u001B[1;32m    414\u001B[0m         \u001B[0;32mtry\u001B[0m\u001B[0;34m:\u001B[0m\u001B[0;34m\u001B[0m\u001B[0;34m\u001B[0m\u001B[0m\n\u001B[0;32m--> 415\u001B[0;31m             \u001B[0mfd_event_list\u001B[0m \u001B[0;34m=\u001B[0m \u001B[0mself\u001B[0m\u001B[0;34m.\u001B[0m\u001B[0m_selector\u001B[0m\u001B[0;34m.\u001B[0m\u001B[0mpoll\u001B[0m\u001B[0;34m(\u001B[0m\u001B[0mtimeout\u001B[0m\u001B[0;34m)\u001B[0m\u001B[0;34m\u001B[0m\u001B[0;34m\u001B[0m\u001B[0m\n\u001B[0m\u001B[1;32m    416\u001B[0m         \u001B[0;32mexcept\u001B[0m \u001B[0mInterruptedError\u001B[0m\u001B[0;34m:\u001B[0m\u001B[0;34m\u001B[0m\u001B[0;34m\u001B[0m\u001B[0m\n\u001B[1;32m    417\u001B[0m             \u001B[0;32mreturn\u001B[0m \u001B[0mready\u001B[0m\u001B[0;34m\u001B[0m\u001B[0;34m\u001B[0m\u001B[0m\n",
      "\u001B[0;31mKeyboardInterrupt\u001B[0m: "
     ]
    }
   ],
   "source": [
    "def create_passport(claim_row: pd.Series, display_data: bool = False):\n",
    "    return execute_bash(\n",
    "                f'''REGISTER='{{\"create_passport\":{{\"avatar\":\"{claim_row[\"avatar\"]}\", \"nickname\":\"{claim_row[\"nickname\"]}\"}}}}' \\\n",
    "                    && CONTRACT=\"{passport_contract_address}\" \\\n",
    "                    && cyber tx wasm execute $CONTRACT \"$REGISTER\" --from $WALLET -o json --broadcast-mode block -y --gas=600000 --chain-id={NETWORK} --node={NODE_URL}''',\n",
    "                display_data=display_data)\n",
    "\n",
    "for index, row in tqdm(claims_df.iterrows()):\n",
    "    if index == 0:\n",
    "        create_passport_json, _ = create_passport(row, display_data=True)\n",
    "    else:\n",
    "        create_passport(row)"
   ],
   "metadata": {
    "collapsed": false,
    "pycharm": {
     "name": "#%%\n"
    }
   }
  },
  {
   "cell_type": "code",
   "execution_count": null,
   "outputs": [],
   "source": [
    "parse_contract_execution_json(create_passport_json)"
   ],
   "metadata": {
    "collapsed": false,
    "pycharm": {
     "name": "#%%\n"
    }
   }
  },
  {
   "cell_type": "markdown",
   "source": [
    "### Proof (Add) Address to Passports"
   ],
   "metadata": {
    "collapsed": false,
    "pycharm": {
     "name": "#%% md\n"
    }
   }
  },
  {
   "cell_type": "code",
   "execution_count": null,
   "outputs": [],
   "source": [
    "def proof_address(claim_row: pd.Series, network: str = 'ethereum', display_data: bool = False):\n",
    "    return execute_bash(\n",
    "            f'''REGISTER='{{\"proof_address\":{{\"address\":\"{claim_row[network + \"_address\"]}\", \"nickname\":\"{claim_row[\"nickname\"]}\", \"signature\":\"{claim_row[network + \"_message_signature\"]}\"}}}}' \\\n",
    "                && CONTRACT=\"{passport_contract_address}\" \\\n",
    "                && cyber tx wasm execute $CONTRACT \"$REGISTER\" --from $WALLET -o json --broadcast-mode block -y --gas=400000 --chain-id={NETWORK} --node={NODE_URL}''',\n",
    "            display_data=display_data)\n",
    "\n",
    "for index, row in tqdm(claims_df.iterrows()):\n",
    "    if index == 1:\n",
    "        proof_ethereum_address_json, _ = proof_address(row, display_data=True)\n",
    "        proof_cosmos_address_json, _ = proof_address(row, network='cosmos', display_data=True)\n",
    "    else:\n",
    "        proof_address(row)\n",
    "        proof_address(row, network='cosmos', display_data=True)"
   ],
   "metadata": {
    "collapsed": false,
    "pycharm": {
     "name": "#%%\n"
    }
   }
  },
  {
   "cell_type": "code",
   "execution_count": null,
   "outputs": [],
   "source": [
    "parse_contract_execution_json(proof_ethereum_address_json)"
   ],
   "metadata": {
    "collapsed": false,
    "pycharm": {
     "name": "#%%\n"
    }
   }
  },
  {
   "cell_type": "code",
   "execution_count": null,
   "outputs": [],
   "source": [
    "parse_contract_execution_json(proof_cosmos_address_json)"
   ],
   "metadata": {
    "collapsed": false,
    "pycharm": {
     "name": "#%%\n"
    }
   }
  },
  {
   "cell_type": "markdown",
   "source": [
    "### Generate Proofs and Claim"
   ],
   "metadata": {
    "collapsed": false,
    "pycharm": {
     "name": "#%% md\n"
    }
   }
  },
  {
   "cell_type": "code",
   "execution_count": null,
   "outputs": [],
   "source": [],
   "metadata": {
    "collapsed": false,
    "pycharm": {
     "name": "#%%\n"
    }
   }
  },
  {
   "cell_type": "code",
   "execution_count": null,
   "outputs": [],
   "source": [
    "def claim(claim_row: pd.Series, network: str = 'ethereum', display_data: bool = False):\n",
    "    return execute_bash(\n",
    "                f'''CLAIM='{{\"claim\":{{\"nickname\":\"{claim_row['nickname']}\", \"gift_claiming_address\":\"{claim_row[network + \"_address\"]}\", \"gift_amount\":\"{claim_row.amount}\", \"proof\":{claim_row[network + \"_proof\"]}}}}}' \\\n",
    "                    && cyber tx wasm execute {gift_contract_address} \"$CLAIM\" --from $WALLET -o json --broadcast-mode block -y --gas 400000 --chain-id={NETWORK} --node={NODE_URL}''',\n",
    "                display_data=display_data)\n",
    "\n",
    "\n",
    "for index, row in tqdm(claims_df.iterrows()):\n",
    "    if index == 0:\n",
    "        claim_ethereum_json, _ = claim(row, display_data=True)\n",
    "        claim_cosmos_json, _ = claim(row, network='cosmos', display_data=True)\n",
    "    else:\n",
    "        claim_ethereum_json_2, _ = claim(row)\n",
    "        claim_cosmos_json_2, _ = claim(row, network='cosmos')"
   ],
   "metadata": {
    "collapsed": false,
    "pycharm": {
     "name": "#%%\n"
    }
   }
  },
  {
   "cell_type": "code",
   "execution_count": null,
   "outputs": [],
   "source": [
    "parse_contract_execution_json(claim_ethereum_json)"
   ],
   "metadata": {
    "collapsed": false,
    "pycharm": {
     "name": "#%%\n"
    }
   }
  },
  {
   "cell_type": "code",
   "execution_count": null,
   "outputs": [],
   "source": [
    "parse_contract_execution_json(claim_cosmos_json)"
   ],
   "metadata": {
    "collapsed": false,
    "pycharm": {
     "name": "#%%\n"
    }
   }
  },
  {
   "cell_type": "code",
   "execution_count": null,
   "outputs": [],
   "source": [
    "parse_contract_execution_json(claim_ethereum_json_2)"
   ],
   "metadata": {
    "collapsed": false,
    "pycharm": {
     "name": "#%%\n"
    }
   }
  },
  {
   "cell_type": "code",
   "execution_count": null,
   "outputs": [],
   "source": [
    "parse_contract_execution_json(claim_cosmos_json_2)"
   ],
   "metadata": {
    "collapsed": false,
    "pycharm": {
     "name": "#%%\n"
    }
   }
  },
  {
   "cell_type": "markdown",
   "source": [
    "### Release Gift"
   ],
   "metadata": {
    "collapsed": false,
    "pycharm": {
     "name": "#%% md\n"
    }
   },
   "execution_count": 11
  },
  {
   "cell_type": "code",
   "execution_count": null,
   "outputs": [],
   "source": [
    "def release(claim_row: pd.Series, network: str = 'ethereum', display_data: bool = False):\n",
    "    return execute_bash(\n",
    "                f'''CLAIM='{{\"release\":{{\"gift_address\":\"{claim_row[network + \"_address\"]}\"}}}}' \\\n",
    "                    && cyber tx wasm execute {gift_contract_address} \"$CLAIM\" --from $WALLET -o json --broadcast-mode block -y --gas 400000 --chain-id={NETWORK} --node={NODE_URL}''',\n",
    "                display_data=display_data)\n",
    "\n",
    "for index, row in tqdm(claims_df.iterrows()):\n",
    "    if index == 0:\n",
    "        release_ethereum_json, _ = release(row, display_data=True)\n",
    "        release_cosmos_json, _ = release(row, network='cosmos', display_data=True)\n",
    "    else:\n",
    "        release(row)\n",
    "        release(row, network='cosmos')\n"
   ],
   "metadata": {
    "collapsed": false,
    "pycharm": {
     "name": "#%%\n"
    }
   }
  },
  {
   "cell_type": "code",
   "execution_count": null,
   "outputs": [],
   "source": [
    "parse_contract_execution_json(release_ethereum_json)"
   ],
   "metadata": {
    "collapsed": false,
    "pycharm": {
     "name": "#%%\n"
    }
   }
  },
  {
   "cell_type": "code",
   "execution_count": null,
   "outputs": [],
   "source": [
    "parse_contract_execution_json(release_cosmos_json)"
   ],
   "metadata": {
    "collapsed": false,
    "pycharm": {
     "name": "#%%\n"
    }
   }
  },
  {
   "cell_type": "markdown",
   "source": [
    "### Add tests for Passport contract\n",
    "#### create_passport +\n",
    "#### update_name\n",
    "#### update_avatar\n",
    "#### proof_address +\n",
    "#### remove_address\n",
    "#### set_minter\n",
    "#### set_owner\n",
    "#### set_active\n",
    "#### set_subspaces\n",
    "#### transfer_nft\n",
    "#### send_nft\n",
    "#### mint\n",
    "#### burn\n",
    "#### approve\n",
    "#### approve_all\n",
    "#### revoke\n",
    "#### revoke_all\n",
    "#### Expirations\n",
    "##### at_height\n",
    "##### at_time\n",
    "##### never\n",
    "\n",
    "### Add tests for Gift contract\n",
    "#### update_owner\n",
    "#### update_passport_addr\n",
    "#### update_target\n",
    "#### register_merkle_root +\n",
    "#### claim +\n",
    "#### release +\n",
    "\n",
    "### Add tests for Subspace contract\n",
    "#### update_owner\n",
    "#### update_executer +"
   ],
   "metadata": {
    "collapsed": false,
    "pycharm": {
     "name": "#%% md\n"
    }
   }
  },
  {
   "cell_type": "code",
   "execution_count": null,
   "outputs": [],
   "source": [],
   "metadata": {
    "collapsed": false,
    "pycharm": {
     "name": "#%%\n"
    }
   }
  }
 ],
 "metadata": {
  "kernelspec": {
   "display_name": "Python 3",
   "language": "python",
   "name": "python3"
  },
  "language_info": {
   "codemirror_mode": {
    "name": "ipython",
    "version": 2
   },
   "file_extension": ".py",
   "mimetype": "text/x-python",
   "name": "python",
   "nbconvert_exporter": "python",
   "pygments_lexer": "ipython2",
   "version": "2.7.6"
  }
 },
 "nbformat": 4,
 "nbformat_minor": 0
}