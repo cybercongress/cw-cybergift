{
 "cells": [
  {
   "cell_type": "markdown",
   "metadata": {
    "collapsed": true,
    "pycharm": {
     "name": "#%% md\n"
    }
   },
   "source": [
    "## Gift Contract Testing"
   ]
  },
  {
   "cell_type": "code",
   "source": [
    "from web3.auto import w3\n",
    "import pandas as pd\n",
    "from cyberpy import generate_wallet, address_to_address\n",
    "from cyberpy._message_signer import Message\n",
    "from cyberpy._wallet import seed_to_privkey\n",
    "from eth_account.messages import encode_defunct\n",
    "import json\n",
    "from subprocess import Popen, PIPE\n",
    "import os\n",
    "from time import time\n",
    "import ipfshttpclient\n",
    "from tqdm.notebook import tqdm\n",
    "from base64 import b64encode\n",
    "\n",
    "ipfs_client = ipfshttpclient.connect()\n",
    "\n",
    "NUMBER_OF_PARTICIPANTS = 3\n",
    "NUMBER_OF_ACTIVATED_PARTICIPANTS = 2\n",
    "KEY_PHRASE = 'KEY PHRASE'\n",
    "NICKNAME_LIST = [f'john{round(time())}{number}' for number in range(NUMBER_OF_PARTICIPANTS)]\n",
    "AVATAR_CID_LIST = [ipfs_client.add_str(_nickname + 'avatar') for _nickname in NICKNAME_LIST]\n",
    "CLAIM_AMOUNT_LIST = [1_000_000] * NUMBER_OF_PARTICIPANTS\n",
    "\n",
    "INITIAL_BALANCE = str(1_000_000_000)\n",
    "COEF_UP = str(20)\n",
    "COEF_DOWN = str(5)\n",
    "TARGET_CLAIM = str(2)\n",
    "\n",
    "WALLET_ADDRESS = os.getenv('WALLET_ADDRESS')\n",
    "NODE_URL = 'https://rpc.space-pussy-1.cybernode.ai:443'\n",
    "NETWORK = 'space-pussy-1'\n",
    "DISPLAY_TX_EXECUTION = False\n",
    "\n",
    "INIT_SUBGRAPH_CONTRACTS = False\n",
    "SUBGRAPH_CODE_ID = str(21)\n",
    "NAME_SUBGRAPH_CONTRACT_ADDRESS = 'bostrom19zmt9dlz3wzu6jqgr9409el7nvxw66u8n67ta5424kwcg0qf269s6t03zt'\n",
    "AVATAR_SUBGRAPH_CONTRACT_ADDRESS = 'bostrom16ulvzd0xp9g6wdhnnhz584ed8xzxm5wkmrsznnzk7qsskegkfutq5djtqs'\n",
    "PROOF_SUBGRAPH_CONTRACT_ADDRESS = 'bostrom1ghwwe2nhxjfy7qulgu6zzmghmnjj3rx8xldr8aytghayxlftz6aqxy4c7k'\n",
    "\n",
    "INIT_PASSPORT_CONTRACT = False\n",
    "PASSPORT_CODE_ID = str(25)\n",
    "PASSPORT_CONTRACT_ADDRESS = 'bostrom15hzg7eaxgs6ecn46gmu4juc9tau2w45l9cnf8n0797nmmtkdv7jscv88ra'\n",
    "\n",
    "INIT_GIFT_CONTRACT = True\n",
    "GIFT_CODE_ID = str(20)\n",
    "GIFT_CONTRACT_ADDRESS = 'bostrom1rt2acjyhs4jfjdq56pftpu7762hy9gfl63je6fnhwrc5p5y4kmuqxg0262'\n",
    "\n",
    "ROOT_SOURCE_FILE_NAME = 'root_testing_source_' + str(NUMBER_OF_PARTICIPANTS) + '_addresses.json'\n",
    "ROOT_FILE_NAME = 'root_testing_' + str(NUMBER_OF_PARTICIPANTS) + '_addresses'\n",
    "\n",
    "\n",
    "def execute_bash(bash_command: str, display_data: bool = False) -> [str, str]:\n",
    "    _output, _error = Popen(bash_command, shell=True, stdout=PIPE, stderr=PIPE).communicate()\n",
    "    if _error:\n",
    "        display_data = True\n",
    "    if display_data:\n",
    "        print(bash_command)\n",
    "        if _output:\n",
    "            try:\n",
    "                print(json.dumps(json.loads(_output.decode('utf-8')), indent=4, sort_keys=True))\n",
    "            except json.JSONDecodeError:\n",
    "                print(_output)\n",
    "        if _error:\n",
    "            print(_error)\n",
    "    return _output.decode('utf-8'), _error.decode('utf-8')"
   ],
   "metadata": {
    "collapsed": false,
    "pycharm": {
     "name": "#%%\n"
    }
   },
   "execution_count": 1,
   "outputs": [
    {
     "name": "stderr",
     "output_type": "stream",
     "text": [
      "/Users/sergenedashkovsky/Library/Python/3.8/lib/python/site-packages/ipfshttpclient/client/__init__.py:75: VersionMismatch: Unsupported daemon version '0.10.0' (not in range: 0.5.0 ≤ … < 0.9.0)\n",
      "  warnings.warn(exceptions.VersionMismatch(version, minimum, maximum))\n"
     ]
    }
   ]
  },
  {
   "cell_type": "markdown",
   "source": [
    "### Generate addresses and sign messages"
   ],
   "metadata": {
    "collapsed": false,
    "pycharm": {
     "name": "#%% md\n"
    }
   }
  },
  {
   "cell_type": "code",
   "execution_count": 2,
   "outputs": [
    {
     "data": {
      "text/plain": "    amount         nickname                                          avatar  \\\n0  1000000  john16460346760  QmXPcZ4VEWzYv5pY39Enx5qZGpu5Yw7RUdmHFjnYQ9rHge   \n1  1000000  john16460346761  QmT57xn69N2UkeBY1i27ypdATse4KGo6xwvwjsQr6TUThC   \n2  1000000  john16460346762  QmTdKbjVWdgsxh13RS77df6uSJyLTAeLBFUMGPtwgQLHEW   \n\n                             ethereum_address  \\\n0  0x9b600120d5bd1dde9a9b315a8f430763afb7d76f   \n1  0x32dd3dd14ed13d718774ed999f83a7cb81c3cf5d   \n2  0x945f32e5bc2ec6a8216a80945bde2947fb6966e8   \n\n                                ethereum_private_key  \\\n0  0xbc4487513ee05cc385b9146422cccf41686acf9cddcc...   \n1  0xadf2c2f6319d93ba775129d2448cf89c793bdbf88126...   \n2  0xe16b149b132d38c43186b46c593e55df41a6671da633...   \n\n                                  bostrom_address  \\\n0  bostrom1fakshqfswsqzgyu270x4gt7qpyfnu7mztlytdg   \n1  bostrom19ru2gxtv4cmmfsk7tq3e8ygnypaxl703j5y6k8   \n2  bostrom1qmwkmw9zlxlyepqhvumpr6s5568yv9wqpn4e67   \n\n                                  cosmos_address  \\\n0  cosmos1fakshqfswsqzgyu270x4gt7qpyfnu7mzgvscn0   \n1  cosmos19ru2gxtv4cmmfsk7tq3e8ygnypaxl70338sfgq   \n2  cosmos1qmwkmw9zlxlyepqhvumpr6s5568yv9wqzqp2ye   \n\n                                         cosmos_seed  \\\n0  jelly busy sniff ready inherit rule milk episo...   \n1  creek interest trash charge output embrace mem...   \n2  dose prosper tube source reason typical summer...   \n\n                                             message  \\\n0  bostrom135ca8hdpy9sk0ntwqzpzsvatyl48ptx5j359lz...   \n1  bostrom135ca8hdpy9sk0ntwqzpzsvatyl48ptx5j359lz...   \n2  bostrom135ca8hdpy9sk0ntwqzpzsvatyl48ptx5j359lz...   \n\n                          ethereum_message_signature  \\\n0  0x1c82ecb4d605e974983768ded5eca82c01d00a4708a5...   \n1  0x22d282e2241fd000ff3b4c837c4a63c75619eb389ff5...   \n2  0xb988a396f5f4ac8b3a7a15d8cb3f54acf3e0ff2b4a84...   \n\n                           cosmos_message_signed_row  \\\n0  {'pub_key': 'A/313c5SODUd4Lx+I23OB1G9vteki94PB...   \n1  {'pub_key': 'AsgRHIcBBYBB0Pn7WFLAYToqFe0g7Lvuq...   \n2  {'pub_key': 'AlfxAZLkb/k1PhyAbfjJqFiK4mUE1rOZG...   \n\n                            cosmos_message_signature  \n0  eyJwdWJfa2V5IjoiQS8zMTNjNVNPRFVkNEx4K0kyM09CMU...  \n1  eyJwdWJfa2V5IjoiQXNnUkhJY0JCWUJCMFBuN1dGTEFZVG...  \n2  eyJwdWJfa2V5IjoiQWxmeEFaTGtiL2sxUGh5QWJmakpxRm...  ",
      "text/html": "<div>\n<style scoped>\n    .dataframe tbody tr th:only-of-type {\n        vertical-align: middle;\n    }\n\n    .dataframe tbody tr th {\n        vertical-align: top;\n    }\n\n    .dataframe thead th {\n        text-align: right;\n    }\n</style>\n<table border=\"1\" class=\"dataframe\">\n  <thead>\n    <tr style=\"text-align: right;\">\n      <th></th>\n      <th>amount</th>\n      <th>nickname</th>\n      <th>avatar</th>\n      <th>ethereum_address</th>\n      <th>ethereum_private_key</th>\n      <th>bostrom_address</th>\n      <th>cosmos_address</th>\n      <th>cosmos_seed</th>\n      <th>message</th>\n      <th>ethereum_message_signature</th>\n      <th>cosmos_message_signed_row</th>\n      <th>cosmos_message_signature</th>\n    </tr>\n  </thead>\n  <tbody>\n    <tr>\n      <th>0</th>\n      <td>1000000</td>\n      <td>john16460346760</td>\n      <td>QmXPcZ4VEWzYv5pY39Enx5qZGpu5Yw7RUdmHFjnYQ9rHge</td>\n      <td>0x9b600120d5bd1dde9a9b315a8f430763afb7d76f</td>\n      <td>0xbc4487513ee05cc385b9146422cccf41686acf9cddcc...</td>\n      <td>bostrom1fakshqfswsqzgyu270x4gt7qpyfnu7mztlytdg</td>\n      <td>cosmos1fakshqfswsqzgyu270x4gt7qpyfnu7mzgvscn0</td>\n      <td>jelly busy sniff ready inherit rule milk episo...</td>\n      <td>bostrom135ca8hdpy9sk0ntwqzpzsvatyl48ptx5j359lz...</td>\n      <td>0x1c82ecb4d605e974983768ded5eca82c01d00a4708a5...</td>\n      <td>{'pub_key': 'A/313c5SODUd4Lx+I23OB1G9vteki94PB...</td>\n      <td>eyJwdWJfa2V5IjoiQS8zMTNjNVNPRFVkNEx4K0kyM09CMU...</td>\n    </tr>\n    <tr>\n      <th>1</th>\n      <td>1000000</td>\n      <td>john16460346761</td>\n      <td>QmT57xn69N2UkeBY1i27ypdATse4KGo6xwvwjsQr6TUThC</td>\n      <td>0x32dd3dd14ed13d718774ed999f83a7cb81c3cf5d</td>\n      <td>0xadf2c2f6319d93ba775129d2448cf89c793bdbf88126...</td>\n      <td>bostrom19ru2gxtv4cmmfsk7tq3e8ygnypaxl703j5y6k8</td>\n      <td>cosmos19ru2gxtv4cmmfsk7tq3e8ygnypaxl70338sfgq</td>\n      <td>creek interest trash charge output embrace mem...</td>\n      <td>bostrom135ca8hdpy9sk0ntwqzpzsvatyl48ptx5j359lz...</td>\n      <td>0x22d282e2241fd000ff3b4c837c4a63c75619eb389ff5...</td>\n      <td>{'pub_key': 'AsgRHIcBBYBB0Pn7WFLAYToqFe0g7Lvuq...</td>\n      <td>eyJwdWJfa2V5IjoiQXNnUkhJY0JCWUJCMFBuN1dGTEFZVG...</td>\n    </tr>\n    <tr>\n      <th>2</th>\n      <td>1000000</td>\n      <td>john16460346762</td>\n      <td>QmTdKbjVWdgsxh13RS77df6uSJyLTAeLBFUMGPtwgQLHEW</td>\n      <td>0x945f32e5bc2ec6a8216a80945bde2947fb6966e8</td>\n      <td>0xe16b149b132d38c43186b46c593e55df41a6671da633...</td>\n      <td>bostrom1qmwkmw9zlxlyepqhvumpr6s5568yv9wqpn4e67</td>\n      <td>cosmos1qmwkmw9zlxlyepqhvumpr6s5568yv9wqzqp2ye</td>\n      <td>dose prosper tube source reason typical summer...</td>\n      <td>bostrom135ca8hdpy9sk0ntwqzpzsvatyl48ptx5j359lz...</td>\n      <td>0xb988a396f5f4ac8b3a7a15d8cb3f54acf3e0ff2b4a84...</td>\n      <td>{'pub_key': 'AlfxAZLkb/k1PhyAbfjJqFiK4mUE1rOZG...</td>\n      <td>eyJwdWJfa2V5IjoiQWxmeEFaTGtiL2sxUGh5QWJmakpxRm...</td>\n    </tr>\n  </tbody>\n</table>\n</div>"
     },
     "execution_count": 2,
     "metadata": {},
     "output_type": "execute_result"
    }
   ],
   "source": [
    "claims_list = []\n",
    "for i in range(NUMBER_OF_PARTICIPANTS):\n",
    "    claim_item = {'amount': CLAIM_AMOUNT_LIST[i],\n",
    "                  'nickname': NICKNAME_LIST[i],\n",
    "                  'avatar': AVATAR_CID_LIST[i]}\n",
    "\n",
    "    # Generate Ethereum wallet\n",
    "    ethereum_wallet = w3.eth.account.create(KEY_PHRASE)\n",
    "    claim_item['ethereum_address'] = ethereum_wallet.address.lower()\n",
    "    claim_item['ethereum_private_key'] = ethereum_wallet.privateKey.hex()\n",
    "\n",
    "    # Generate Bostrom and Cosmos wallet\n",
    "    bostrom_wallet = generate_wallet()\n",
    "    claim_item['bostrom_address'] = bostrom_wallet['address']\n",
    "    claim_item['cosmos_address'] = address_to_address(bostrom_wallet['address'], 'cosmos')\n",
    "    claim_item['cosmos_seed'] = bostrom_wallet['seed']\n",
    "\n",
    "    # Create message\n",
    "    claim_item['message'] = f\"{WALLET_ADDRESS}:QmRX8qYgeZoYM3M5zzQaWEpVFdpin6FvVXvp6RPQK3oufV\"\n",
    "\n",
    "    # Sign message form Ethereum address\n",
    "    ethereum_signed_message = \\\n",
    "        w3.eth.account.sign_message(\n",
    "            signable_message=encode_defunct(text=claim_item['message']),\n",
    "            private_key=ethereum_wallet.privateKey)\n",
    "    # print(signed_message.signature)\n",
    "    claim_item['ethereum_message_signature'] = ethereum_signed_message.signature.hex()\n",
    "\n",
    "    # Sign message form Cosmos address\n",
    "    cosmos_msg = Message(privkey=seed_to_privkey(seed=claim_item['cosmos_seed']))\n",
    "    cosmos_msg.add_message(signing_message=claim_item['message'], signer_prefix='cosmos')\n",
    "    claim_item['cosmos_message_signed_row'] = cosmos_msg.get_signed_message()\n",
    "    claim_item['cosmos_message_signature'] = b64encode(json.dumps(claim_item['cosmos_message_signed_row']).replace('\\n', '').replace(' ', '').encode('utf-8')).decode(\"utf-8\")\n",
    "\n",
    "    # Verify message\n",
    "    assert claim_item['ethereum_address'] == w3.eth.account.recover_message(\n",
    "        signable_message=encode_defunct(text=claim_item['message']),\n",
    "        signature=claim_item['ethereum_message_signature']).lower()\n",
    "\n",
    "    claims_list.append(claim_item)\n",
    "\n",
    "claims_df = pd.DataFrame(claims_list)\n",
    "claims_df.to_csv('claims_ethereum_test_data_without_proof' + str(NUMBER_OF_PARTICIPANTS) + '_addresses.csv')\n",
    "claims_df"
   ],
   "metadata": {
    "collapsed": false,
    "pycharm": {
     "name": "#%%\n"
    }
   }
  },
  {
   "cell_type": "markdown",
   "source": [
    "## Instantiate Contracts"
   ],
   "metadata": {
    "collapsed": false,
    "pycharm": {
     "name": "#%% md\n"
    }
   }
  },
  {
   "cell_type": "code",
   "execution_count": 3,
   "outputs": [],
   "source": [
    "def instantiate_contract(init_query: str, contract_code_id: str, contract_label: str, amount: str = '', display_data: bool = False) -> str:\n",
    "    _init_output, _init_error = execute_bash(\n",
    "        f'''INIT='{init_query}' \\\n",
    "            && cyber tx wasm instantiate {contract_code_id} \"$INIT\" --from $WALLET {'--amount ' + amount + 'boot' if amount else ''} --label \"{contract_label}\" \\\n",
    "            -y --gas 3500000 --broadcast-mode block -o json --chain-id={NETWORK} --node={NODE_URL}''')\n",
    "    if display_data:\n",
    "        try:\n",
    "            print(json.dumps(json.loads(_init_output.decode('utf-8')), indent=4, sort_keys=True))\n",
    "        except json.JSONDecodeError:\n",
    "            print(_init_output)\n",
    "    if _init_error:\n",
    "        print(_init_error)\n",
    "    _init_json = json.loads(_init_output)\n",
    "    return [event['attributes'][0]['value'] for event in _init_json['logs'][0]['events'] if event['type'] == 'instantiate'][0]"
   ],
   "metadata": {
    "collapsed": false,
    "pycharm": {
     "name": "#%%\n"
    }
   }
  },
  {
   "cell_type": "markdown",
   "source": [
    "### Instantiate SUBGRAPH Contracts"
   ],
   "metadata": {
    "collapsed": false,
    "pycharm": {
     "name": "#%% md\n"
    }
   }
  },
  {
   "cell_type": "code",
   "execution_count": 4,
   "outputs": [
    {
     "name": "stdout",
     "output_type": "stream",
     "text": [
      "Name subgraph contract address: bostrom19zmt9dlz3wzu6jqgr9409el7nvxw66u8n67ta5424kwcg0qf269s6t03zt\n",
      "Avatar subgraph contract address: bostrom16ulvzd0xp9g6wdhnnhz584ed8xzxm5wkmrsznnzk7qsskegkfutq5djtqs\n",
      "Proof subgraph contract address: bostrom1ghwwe2nhxjfy7qulgu6zzmghmnjj3rx8xldr8aytghayxlftz6aqxy4c7k\n"
     ]
    }
   ],
   "source": [
    "if INIT_SUBGRAPH_CONTRACTS:\n",
    "    name_subgraph_contract_address = \\\n",
    "        instantiate_contract(\n",
    "            init_query=f'''{{\"owner\":\"{WALLET_ADDRESS}\", \"executer\":\"{WALLET_ADDRESS}\"}}''',\n",
    "            contract_code_id=SUBGRAPH_CODE_ID,\n",
    "            contract_label='test name subgraph')\n",
    "    avatar_subgraph_contract_address = \\\n",
    "        instantiate_contract(\n",
    "            init_query=f'''{{\"owner\":\"{WALLET_ADDRESS}\", \"executer\":\"{WALLET_ADDRESS}\"}}''',\n",
    "            contract_code_id=SUBGRAPH_CODE_ID,\n",
    "            contract_label='test avatar subgraph')\n",
    "    proof_subgraph_contract_address = \\\n",
    "        instantiate_contract(\n",
    "            init_query=f'''{{\"owner\":\"{WALLET_ADDRESS}\", \"executer\":\"{WALLET_ADDRESS}\"}}''',\n",
    "            contract_code_id=SUBGRAPH_CODE_ID,\n",
    "            contract_label='test proof subgraph')\n",
    "else:\n",
    "    name_subgraph_contract_address = NAME_SUBGRAPH_CONTRACT_ADDRESS\n",
    "    avatar_subgraph_contract_address = AVATAR_SUBGRAPH_CONTRACT_ADDRESS\n",
    "    proof_subgraph_contract_address = PROOF_SUBGRAPH_CONTRACT_ADDRESS\n",
    "print(f'Name subgraph contract address: {name_subgraph_contract_address}\\n'\n",
    "      f'Avatar subgraph contract address: {avatar_subgraph_contract_address}\\n'\n",
    "      f'Proof subgraph contract address: {proof_subgraph_contract_address}')"
   ],
   "metadata": {
    "collapsed": false,
    "pycharm": {
     "name": "#%%\n"
    }
   }
  },
  {
   "cell_type": "markdown",
   "source": [
    "### Instantiate Passport Contract"
   ],
   "metadata": {
    "collapsed": false,
    "pycharm": {
     "name": "#%% md\n"
    }
   }
  },
  {
   "cell_type": "code",
   "execution_count": 5,
   "outputs": [
    {
     "name": "stdout",
     "output_type": "stream",
     "text": [
      "Passport contract address: bostrom15hzg7eaxgs6ecn46gmu4juc9tau2w45l9cnf8n0797nmmtkdv7jscv88ra\n"
     ]
    }
   ],
   "source": [
    "if INIT_PASSPORT_CONTRACT:\n",
    "    passport_contract_address = \\\n",
    "        instantiate_contract(\n",
    "            init_query=f'''{{\"name\":\"CPT\", \"minter\":\"{WALLET_ADDRESS}\", \"owner\":\"{WALLET_ADDRESS}\", \"symbol\":\"CPT\", \"avatar_subgraph\": \"{avatar_subgraph_contract_address}\", \"name_subgraph\": \"{name_subgraph_contract_address}\", \"proof_subgraph\": \"{proof_subgraph_contract_address}\"}}''',\n",
    "            contract_code_id=PASSPORT_CODE_ID,\n",
    "            contract_label='test passport')\n",
    "else:\n",
    "    passport_contract_address = PASSPORT_CONTRACT_ADDRESS\n",
    "print(f'Passport contract address: {passport_contract_address}')"
   ],
   "metadata": {
    "collapsed": false,
    "pycharm": {
     "name": "#%%\n"
    }
   }
  },
  {
   "cell_type": "markdown",
   "source": [
    "### Set executor in the Subgraph Contracts"
   ],
   "metadata": {
    "collapsed": false,
    "pycharm": {
     "name": "#%% md\n"
    }
   }
  },
  {
   "cell_type": "code",
   "execution_count": 6,
   "outputs": [],
   "source": [
    "def set_executor_subgraph(subgraph_contract_address: str, new_executor_address: str, display_data: bool = False):\n",
    "    return execute_bash(\n",
    "                f'''REGISTER='{{\"update_executer\":{{\"new_executer\":\"{new_executor_address}\"}}}}' \\\n",
    "                    && CONTRACT=\"{subgraph_contract_address}\" \\\n",
    "                    && cyber tx wasm execute $CONTRACT \"$REGISTER\" --from $WALLET -o json --broadcast-mode block -y --gas=600000 --chain-id={NETWORK} --node={NODE_URL}''',\n",
    "                display_data=display_data)\n",
    "\n",
    "if INIT_PASSPORT_CONTRACT or INIT_SUBGRAPH_CONTRACTS:\n",
    "    set_executor_subgraph(subgraph_contract_address=name_subgraph_contract_address, new_executor_address=passport_contract_address)\n",
    "    set_executor_subgraph(subgraph_contract_address=avatar_subgraph_contract_address, new_executor_address=passport_contract_address)\n",
    "    set_executor_subgraph(subgraph_contract_address=proof_subgraph_contract_address, new_executor_address=passport_contract_address)"
   ],
   "metadata": {
    "collapsed": false,
    "pycharm": {
     "name": "#%%\n"
    }
   }
  },
  {
   "cell_type": "markdown",
   "source": [
    "### Instantiate Gift Contract"
   ],
   "metadata": {
    "collapsed": false,
    "pycharm": {
     "name": "#%% md\n"
    }
   }
  },
  {
   "cell_type": "code",
   "execution_count": 7,
   "outputs": [
    {
     "name": "stdout",
     "output_type": "stream",
     "text": [
      "Gift contract address: bostrom1xfhtdeernre33xm83wu0eg08433aejyq0ay6h03qatxqrf40k8zqkuhwax\n"
     ]
    }
   ],
   "source": [
    "if INIT_GIFT_CONTRACT:\n",
    "    gift_contract_address = \\\n",
    "        instantiate_contract(\n",
    "            init_query=f'''{{\"owner\":\"{WALLET_ADDRESS}\", \"passport\":\"{passport_contract_address}\", \"allowed_native\":\"boot\", \"initial_balance\":\"{INITIAL_BALANCE}\", \"coefficient_up\":\"{COEF_UP}\", \"coefficient_down\":\"{COEF_DOWN}\", \"coefficient\":\"{COEF_UP}\", \"target_claim\":\"{TARGET_CLAIM}\"}}''',\n",
    "            contract_code_id=GIFT_CODE_ID,\n",
    "            amount=INITIAL_BALANCE,\n",
    "            contract_label='test gift')\n",
    "else:\n",
    "    gift_contract_address = GIFT_CONTRACT_ADDRESS\n",
    "print(f'Gift contract address: {gift_contract_address}')"
   ],
   "metadata": {
    "collapsed": false,
    "pycharm": {
     "name": "#%%\n"
    }
   }
  },
  {
   "cell_type": "code",
   "execution_count": 8,
   "outputs": [],
   "source": [
    "def get_contract_name(contract_address: str) -> str:\n",
    "    address_dict = {gift_contract_address: 'Gift Contract',\n",
    "                    passport_contract_address: 'Passport Contract',\n",
    "                    WALLET_ADDRESS: 'Passport Owner Address',\n",
    "                    name_subgraph_contract_address: 'Name Subgraph Contract',\n",
    "                    avatar_subgraph_contract_address: 'Avatar Subgraph Contract',\n",
    "                    proof_subgraph_contract_address: 'Proof Subgraph Contract'}\n",
    "    try:\n",
    "        return address_dict[contract_address]\n",
    "    except KeyError:\n",
    "        return contract_address\n",
    "\n",
    "\n",
    "def get_name_from_cid(ipfs_hash: str, row=None) -> str:\n",
    "    if row is None:\n",
    "        return ipfs_hash\n",
    "    cid_name_dict = {\n",
    "        row['avatar']: 'Avatar',\n",
    "        ipfs_client.add_str(row['nickname']): 'Nickname',\n",
    "        ipfs_client.add_str(row['ethereum_address']): 'Ethereum Address',\n",
    "        ipfs_client.add_str(row['cosmos_address']): 'Cosmos Address',\n",
    "        ipfs_client.add_str(WALLET_ADDRESS): 'Passport Owner Address'}\n",
    "    try:\n",
    "        return cid_name_dict[ipfs_hash]\n",
    "    except KeyError:\n",
    "        return ipfs_hash\n",
    "\n",
    "\n",
    "def parse_contract_execution_json(contract_execution_json: str, row=None) -> None:\n",
    "    print('\\nEvents')\n",
    "    if len(json.loads(contract_execution_json)['logs']) == 0:\n",
    "        print(json.loads(contract_execution_json)['raw_log'])\n",
    "    for log_item in json.loads(contract_execution_json)['logs']:\n",
    "        for event_item in log_item['events']:\n",
    "            print('')\n",
    "            if event_item['type'] == 'message':\n",
    "                if len(event_item[\"attributes\"]) == 3:\n",
    "                    print(f'message from {get_contract_name(event_item[\"attributes\"][-1][\"value\"])} {event_item[\"attributes\"][1][\"value\"]} {event_item[\"attributes\"][0][\"value\"]}')\n",
    "                else:\n",
    "                    print(event_item)\n",
    "            elif event_item['type'] == 'execute':\n",
    "                print('execute')\n",
    "                for attr_item in event_item[\"attributes\"]:\n",
    "                    if attr_item[\"key\"] == '_contract_address':\n",
    "                        print(f'\\texecute contract: {get_contract_name(attr_item[\"value\"])}')\n",
    "                    else:\n",
    "                        print(f'\\t{attr_item[\"key\"]}: {get_contract_name(attr_item[\"value\"])}')\n",
    "            elif event_item['type'] == 'reply':\n",
    "                print('reply')\n",
    "                for attr_item in event_item[\"attributes\"]:\n",
    "                    if attr_item[\"key\"] == '_contract_address':\n",
    "                        print(f'\\treply contract: {get_contract_name(attr_item[\"value\"])}')\n",
    "                    else:\n",
    "                        print(f'\\t{attr_item[\"key\"]}: {get_contract_name(attr_item[\"value\"])}')\n",
    "            elif event_item['type'] == 'cyberlink':\n",
    "                print('cyberlinks')\n",
    "                for i, attr_item in enumerate(event_item['attributes']):\n",
    "                    if attr_item['key'] == 'particleFrom':\n",
    "                        print(f'\\t{get_name_from_cid(attr_item[\"value\"], row=row)} -> {get_name_from_cid(event_item[\"attributes\"][i + 1][\"value\"], row=row)}')\n",
    "                    elif attr_item['key'] == 'particleTo':\n",
    "                        pass\n",
    "                    elif attr_item['key'] == 'neuron':\n",
    "                        print(f'\\tneuron: {get_contract_name(attr_item[\"value\"])}\\n')\n",
    "                    else:\n",
    "                        print(f'\\t{attr_item[\"key\"]}: {get_contract_name(attr_item[\"value\"])}')\n",
    "            elif event_item['type'] == 'coin_received':\n",
    "                print('coin received')\n",
    "                for attr_item in event_item[\"attributes\"]:\n",
    "                    print(f'\\t{attr_item[\"key\"]}: {get_contract_name(attr_item[\"value\"])}')\n",
    "            elif event_item['type'] == 'coin_spent':\n",
    "                print('coin spent')\n",
    "                for attr_item in event_item[\"attributes\"]:\n",
    "                    print(f'\\t{attr_item[\"key\"]}: {get_contract_name(attr_item[\"value\"])}')\n",
    "            elif event_item['type'] == 'wasm':\n",
    "                print('wasm')\n",
    "                for attr_item in event_item[\"attributes\"]:\n",
    "                    print(f'\\t{attr_item[\"key\"]}: {get_contract_name(attr_item[\"value\"])}')\n",
    "            elif event_item['type'] == 'transfer':\n",
    "                print('transfer')\n",
    "                for attr_item in event_item[\"attributes\"]:\n",
    "                    print(f'\\t{attr_item[\"key\"]}: {get_contract_name(attr_item[\"value\"])}')\n",
    "            else:\n",
    "                print(event_item)"
   ],
   "metadata": {
    "collapsed": false,
    "pycharm": {
     "name": "#%%\n"
    }
   }
  },
  {
   "cell_type": "markdown",
   "source": [],
   "metadata": {
    "collapsed": false,
    "pycharm": {
     "name": "#%% md\n"
    }
   }
  },
  {
   "cell_type": "markdown",
   "source": [
    "### Create Merkle Root"
   ],
   "metadata": {
    "collapsed": false,
    "pycharm": {
     "name": "#%% md\n"
    }
   }
  },
  {
   "cell_type": "code",
   "execution_count": 9,
   "outputs": [],
   "source": [
    "root_source_list = [{'address': _item['ethereum_address'],\n",
    "                     'amount': str(_item['amount'])} for _item in claims_list]+ \\\n",
    "                    [{'address': _item['cosmos_address'],\n",
    "                      'amount': str(_item['amount'])} for _item in claims_list]\n",
    "\n",
    "with open(ROOT_SOURCE_FILE_NAME, 'w') as outfile:\n",
    "    outfile.write(str(root_source_list).replace(\"'\", '\"'))"
   ],
   "metadata": {
    "collapsed": false,
    "pycharm": {
     "name": "#%%\n"
    }
   }
  },
  {
   "cell_type": "code",
   "execution_count": 10,
   "outputs": [
    {
     "name": "stdout",
     "output_type": "stream",
     "text": [
      "Merkle root: b006921573f8fcf0e2267d25506f32a9281961973898bdedc10cc6224bd08071\n"
     ]
    }
   ],
   "source": [
    "execute_bash(f'rm {ROOT_FILE_NAME}')\n",
    "root_output, root_error = execute_bash(\n",
    "    f'merkle-airdrop-cli generateRoot --file {ROOT_SOURCE_FILE_NAME} >> {ROOT_FILE_NAME} && cat {ROOT_FILE_NAME}')\n",
    "root = root_output.replace('\\n', '')\n",
    "print(f'Merkle root: {root}')"
   ],
   "metadata": {
    "collapsed": false,
    "pycharm": {
     "name": "#%%\n"
    }
   }
  },
  {
   "cell_type": "code",
   "execution_count": 11,
   "outputs": [
    {
     "name": "stdout",
     "output_type": "stream",
     "text": [
      "\n",
      "Events\n",
      "\n",
      "execute\n",
      "\texecute contract: Gift Contract\n",
      "\n",
      "message from Passport Owner Address wasm /cosmwasm.wasm.v1.MsgExecuteContract\n",
      "\n",
      "wasm\n",
      "\t_contract_address: Gift Contract\n",
      "\taction: register_merkle_root\n",
      "\tmerkle_root: b006921573f8fcf0e2267d25506f32a9281961973898bdedc10cc6224bd08071\n"
     ]
    }
   ],
   "source": [
    "root_register_output, root_register_error = \\\n",
    "    execute_bash(\n",
    "        f'''REGISTER='{{\"register_merkle_root\":{{\"merkle_root\":\"{root}\"}}}}' \\\n",
    "            && CONTRACT=\"{gift_contract_address}\" \\\n",
    "            && cyber tx wasm execute $CONTRACT \"$REGISTER\" --from $WALLET --broadcast-mode block -o json -y --chain-id={NETWORK} --node={NODE_URL}''')\n",
    "parse_contract_execution_json(root_register_output)"
   ],
   "metadata": {
    "collapsed": false,
    "pycharm": {
     "name": "#%%\n"
    }
   }
  },
  {
   "cell_type": "markdown",
   "source": [
    "#### Get Merkle Root form the Gift Contract"
   ],
   "metadata": {
    "collapsed": false,
    "pycharm": {
     "name": "#%% md\n"
    }
   },
   "execution_count": 156
  },
  {
   "cell_type": "code",
   "execution_count": 12,
   "outputs": [
    {
     "name": "stdout",
     "output_type": "stream",
     "text": [
      "{\"data\":{\"merkle_root\":\"b006921573f8fcf0e2267d25506f32a9281961973898bdedc10cc6224bd08071\"}}\n",
      "\n"
     ]
    }
   ],
   "source": [
    "print(\n",
    "    execute_bash(\n",
    "        f'''QUERY='{{\"merkle_root\": {{}}}}' \\\n",
    "            && cyber query wasm contract-state smart {gift_contract_address} \"$QUERY\" -o json --chain-id={NETWORK} --node={NODE_URL}''')[0]\n",
    ")"
   ],
   "metadata": {
    "collapsed": false,
    "pycharm": {
     "name": "#%%\n"
    }
   }
  },
  {
   "cell_type": "markdown",
   "source": [],
   "metadata": {
    "collapsed": false,
    "pycharm": {
     "name": "#%% md\n"
    }
   }
  },
  {
   "cell_type": "code",
   "execution_count": 13,
   "outputs": [
    {
     "data": {
      "text/plain": "    amount         nickname                                          avatar  \\\n0  1000000  john16460346760  QmXPcZ4VEWzYv5pY39Enx5qZGpu5Yw7RUdmHFjnYQ9rHge   \n1  1000000  john16460346761  QmT57xn69N2UkeBY1i27ypdATse4KGo6xwvwjsQr6TUThC   \n2  1000000  john16460346762  QmTdKbjVWdgsxh13RS77df6uSJyLTAeLBFUMGPtwgQLHEW   \n\n                             ethereum_address  \\\n0  0x9b600120d5bd1dde9a9b315a8f430763afb7d76f   \n1  0x32dd3dd14ed13d718774ed999f83a7cb81c3cf5d   \n2  0x945f32e5bc2ec6a8216a80945bde2947fb6966e8   \n\n                                ethereum_private_key  \\\n0  0xbc4487513ee05cc385b9146422cccf41686acf9cddcc...   \n1  0xadf2c2f6319d93ba775129d2448cf89c793bdbf88126...   \n2  0xe16b149b132d38c43186b46c593e55df41a6671da633...   \n\n                                  bostrom_address  \\\n0  bostrom1fakshqfswsqzgyu270x4gt7qpyfnu7mztlytdg   \n1  bostrom19ru2gxtv4cmmfsk7tq3e8ygnypaxl703j5y6k8   \n2  bostrom1qmwkmw9zlxlyepqhvumpr6s5568yv9wqpn4e67   \n\n                                  cosmos_address  \\\n0  cosmos1fakshqfswsqzgyu270x4gt7qpyfnu7mzgvscn0   \n1  cosmos19ru2gxtv4cmmfsk7tq3e8ygnypaxl70338sfgq   \n2  cosmos1qmwkmw9zlxlyepqhvumpr6s5568yv9wqzqp2ye   \n\n                                         cosmos_seed  \\\n0  jelly busy sniff ready inherit rule milk episo...   \n1  creek interest trash charge output embrace mem...   \n2  dose prosper tube source reason typical summer...   \n\n                                             message  \\\n0  bostrom135ca8hdpy9sk0ntwqzpzsvatyl48ptx5j359lz...   \n1  bostrom135ca8hdpy9sk0ntwqzpzsvatyl48ptx5j359lz...   \n2  bostrom135ca8hdpy9sk0ntwqzpzsvatyl48ptx5j359lz...   \n\n                          ethereum_message_signature  \\\n0  0x1c82ecb4d605e974983768ded5eca82c01d00a4708a5...   \n1  0x22d282e2241fd000ff3b4c837c4a63c75619eb389ff5...   \n2  0xb988a396f5f4ac8b3a7a15d8cb3f54acf3e0ff2b4a84...   \n\n                           cosmos_message_signed_row  \\\n0  {'pub_key': 'A/313c5SODUd4Lx+I23OB1G9vteki94PB...   \n1  {'pub_key': 'AsgRHIcBBYBB0Pn7WFLAYToqFe0g7Lvuq...   \n2  {'pub_key': 'AlfxAZLkb/k1PhyAbfjJqFiK4mUE1rOZG...   \n\n                            cosmos_message_signature  \\\n0  eyJwdWJfa2V5IjoiQS8zMTNjNVNPRFVkNEx4K0kyM09CMU...   \n1  eyJwdWJfa2V5IjoiQXNnUkhJY0JCWUJCMFBuN1dGTEFZVG...   \n2  eyJwdWJfa2V5IjoiQWxmeEFaTGtiL2sxUGh5QWJmakpxRm...   \n\n                                      ethereum_proof  \\\n0  [\"f696196686b00c9ca342576f75f957df68a6c8400d67...   \n1  [\"968be20a70aeb28afb93368b61e23a3c371344ce2745...   \n2  [\"ad257d9cfe41d8bb520eca3d52406ad7df991b88ec65...   \n\n                                        cosmos_proof  \n0  [\"f0d28166f568dc15526bbfe9debe6499576a1d0f31dc...  \n1  [\"48e34ad2f19327883ce5d582c74b1031cd69268a8c57...  \n2  [\"244a668003cdedfaa013060e88c3e05a6bbde48f0f7c...  ",
      "text/html": "<div>\n<style scoped>\n    .dataframe tbody tr th:only-of-type {\n        vertical-align: middle;\n    }\n\n    .dataframe tbody tr th {\n        vertical-align: top;\n    }\n\n    .dataframe thead th {\n        text-align: right;\n    }\n</style>\n<table border=\"1\" class=\"dataframe\">\n  <thead>\n    <tr style=\"text-align: right;\">\n      <th></th>\n      <th>amount</th>\n      <th>nickname</th>\n      <th>avatar</th>\n      <th>ethereum_address</th>\n      <th>ethereum_private_key</th>\n      <th>bostrom_address</th>\n      <th>cosmos_address</th>\n      <th>cosmos_seed</th>\n      <th>message</th>\n      <th>ethereum_message_signature</th>\n      <th>cosmos_message_signed_row</th>\n      <th>cosmos_message_signature</th>\n      <th>ethereum_proof</th>\n      <th>cosmos_proof</th>\n    </tr>\n  </thead>\n  <tbody>\n    <tr>\n      <th>0</th>\n      <td>1000000</td>\n      <td>john16460346760</td>\n      <td>QmXPcZ4VEWzYv5pY39Enx5qZGpu5Yw7RUdmHFjnYQ9rHge</td>\n      <td>0x9b600120d5bd1dde9a9b315a8f430763afb7d76f</td>\n      <td>0xbc4487513ee05cc385b9146422cccf41686acf9cddcc...</td>\n      <td>bostrom1fakshqfswsqzgyu270x4gt7qpyfnu7mztlytdg</td>\n      <td>cosmos1fakshqfswsqzgyu270x4gt7qpyfnu7mzgvscn0</td>\n      <td>jelly busy sniff ready inherit rule milk episo...</td>\n      <td>bostrom135ca8hdpy9sk0ntwqzpzsvatyl48ptx5j359lz...</td>\n      <td>0x1c82ecb4d605e974983768ded5eca82c01d00a4708a5...</td>\n      <td>{'pub_key': 'A/313c5SODUd4Lx+I23OB1G9vteki94PB...</td>\n      <td>eyJwdWJfa2V5IjoiQS8zMTNjNVNPRFVkNEx4K0kyM09CMU...</td>\n      <td>[\"f696196686b00c9ca342576f75f957df68a6c8400d67...</td>\n      <td>[\"f0d28166f568dc15526bbfe9debe6499576a1d0f31dc...</td>\n    </tr>\n    <tr>\n      <th>1</th>\n      <td>1000000</td>\n      <td>john16460346761</td>\n      <td>QmT57xn69N2UkeBY1i27ypdATse4KGo6xwvwjsQr6TUThC</td>\n      <td>0x32dd3dd14ed13d718774ed999f83a7cb81c3cf5d</td>\n      <td>0xadf2c2f6319d93ba775129d2448cf89c793bdbf88126...</td>\n      <td>bostrom19ru2gxtv4cmmfsk7tq3e8ygnypaxl703j5y6k8</td>\n      <td>cosmos19ru2gxtv4cmmfsk7tq3e8ygnypaxl70338sfgq</td>\n      <td>creek interest trash charge output embrace mem...</td>\n      <td>bostrom135ca8hdpy9sk0ntwqzpzsvatyl48ptx5j359lz...</td>\n      <td>0x22d282e2241fd000ff3b4c837c4a63c75619eb389ff5...</td>\n      <td>{'pub_key': 'AsgRHIcBBYBB0Pn7WFLAYToqFe0g7Lvuq...</td>\n      <td>eyJwdWJfa2V5IjoiQXNnUkhJY0JCWUJCMFBuN1dGTEFZVG...</td>\n      <td>[\"968be20a70aeb28afb93368b61e23a3c371344ce2745...</td>\n      <td>[\"48e34ad2f19327883ce5d582c74b1031cd69268a8c57...</td>\n    </tr>\n    <tr>\n      <th>2</th>\n      <td>1000000</td>\n      <td>john16460346762</td>\n      <td>QmTdKbjVWdgsxh13RS77df6uSJyLTAeLBFUMGPtwgQLHEW</td>\n      <td>0x945f32e5bc2ec6a8216a80945bde2947fb6966e8</td>\n      <td>0xe16b149b132d38c43186b46c593e55df41a6671da633...</td>\n      <td>bostrom1qmwkmw9zlxlyepqhvumpr6s5568yv9wqpn4e67</td>\n      <td>cosmos1qmwkmw9zlxlyepqhvumpr6s5568yv9wqzqp2ye</td>\n      <td>dose prosper tube source reason typical summer...</td>\n      <td>bostrom135ca8hdpy9sk0ntwqzpzsvatyl48ptx5j359lz...</td>\n      <td>0xb988a396f5f4ac8b3a7a15d8cb3f54acf3e0ff2b4a84...</td>\n      <td>{'pub_key': 'AlfxAZLkb/k1PhyAbfjJqFiK4mUE1rOZG...</td>\n      <td>eyJwdWJfa2V5IjoiQWxmeEFaTGtiL2sxUGh5QWJmakpxRm...</td>\n      <td>[\"ad257d9cfe41d8bb520eca3d52406ad7df991b88ec65...</td>\n      <td>[\"244a668003cdedfaa013060e88c3e05a6bbde48f0f7c...</td>\n    </tr>\n  </tbody>\n</table>\n</div>"
     },
     "execution_count": 13,
     "metadata": {},
     "output_type": "execute_result"
    }
   ],
   "source": [
    "def generate_proof(claim_row: pd.Series, network: str = 'ethereum', display_data: bool = False):\n",
    "    proof_output, _ = execute_bash(f'merkle-airdrop-cli generateProofs --file {ROOT_SOURCE_FILE_NAME} --address {claim_row[network + \"_address\"]} --amount {claim_row.amount}',\n",
    "                                   display_data=display_data)\n",
    "    return proof_output.replace('\\n','').replace(\" \",'').replace(\"'\", '\"')\n",
    "\n",
    "claims_df.loc[:, 'ethereum_proof'] = claims_df.apply(lambda x: generate_proof(x), axis=1)\n",
    "claims_df.loc[:, 'cosmos_proof'] = claims_df.apply(lambda x: generate_proof(x, network='cosmos'), axis=1)\n",
    "claims_df.to_csv('claims_ethereum_test_data_' + str(NUMBER_OF_PARTICIPANTS) + '_addresses.csv')\n",
    "claims_df"
   ],
   "metadata": {
    "collapsed": false,
    "pycharm": {
     "name": "#%%\n"
    }
   }
  },
  {
   "cell_type": "markdown",
   "source": [
    "### Create Passports"
   ],
   "metadata": {
    "collapsed": false,
    "pycharm": {
     "name": "#%% md\n"
    }
   }
  },
  {
   "cell_type": "code",
   "execution_count": 14,
   "outputs": [
    {
     "data": {
      "text/plain": "0it [00:00, ?it/s]",
      "application/vnd.jupyter.widget-view+json": {
       "version_major": 2,
       "version_minor": 0,
       "model_id": "d38f73d5f4b2493c8ff8405fc797b865"
      }
     },
     "metadata": {},
     "output_type": "display_data"
    },
    {
     "name": "stdout",
     "output_type": "stream",
     "text": [
      "\n",
      "Events\n",
      "\n",
      "cyberlinks\n",
      "\tPassport Owner Address -> Nickname\n",
      "\tNickname -> Passport Owner Address\n",
      "\tneuron: Name Subgraph Contract\n",
      "\n",
      "\tPassport Owner Address -> Avatar\n",
      "\tAvatar -> Passport Owner Address\n",
      "\tneuron: Avatar Subgraph Contract\n",
      "\n",
      "\n",
      "execute\n",
      "\texecute contract: Passport Contract\n",
      "\texecute contract: Name Subgraph Contract\n",
      "\texecute contract: Avatar Subgraph Contract\n",
      "\n",
      "message from Passport Owner Address wasm /cosmwasm.wasm.v1.MsgExecuteContract\n",
      "\n",
      "reply\n",
      "\treply contract: Passport Contract\n",
      "\treply contract: Passport Contract\n",
      "\n",
      "wasm\n",
      "\t_contract_address: Passport Contract\n",
      "\taction: mint\n",
      "\tminter: Passport Contract\n",
      "\ttoken_id: 40\n"
     ]
    }
   ],
   "source": [
    "def create_passport(claim_row: pd.Series, display_data: bool = False):\n",
    "    return execute_bash(\n",
    "                f'''REGISTER='{{\"create_passport\":{{\"avatar\":\"{claim_row[\"avatar\"]}\", \"nickname\":\"{claim_row[\"nickname\"]}\"}}}}' \\\n",
    "                    && CONTRACT=\"{passport_contract_address}\" \\\n",
    "                    && cyber tx wasm execute $CONTRACT \"$REGISTER\" --from $WALLET -o json --broadcast-mode block -y --gas=600000 --chain-id={NETWORK} --node={NODE_URL}''',\n",
    "                display_data=display_data)\n",
    "\n",
    "for index, row in tqdm(claims_df[:NUMBER_OF_ACTIVATED_PARTICIPANTS].iterrows()):\n",
    "    if index == 0:\n",
    "        create_passport_json, _ = create_passport(row, display_data=DISPLAY_TX_EXECUTION)\n",
    "        parse_contract_execution_json(create_passport_json, row=row)\n",
    "    else:\n",
    "        create_passport(row)"
   ],
   "metadata": {
    "collapsed": false,
    "pycharm": {
     "name": "#%%\n"
    }
   }
  },
  {
   "cell_type": "markdown",
   "source": [
    "### Proof (Add) Address to Passports"
   ],
   "metadata": {
    "collapsed": false,
    "pycharm": {
     "name": "#%% md\n"
    }
   }
  },
  {
   "cell_type": "code",
   "execution_count": 15,
   "outputs": [
    {
     "data": {
      "text/plain": "0it [00:00, ?it/s]",
      "application/vnd.jupyter.widget-view+json": {
       "version_major": 2,
       "version_minor": 0,
       "model_id": "e7d455e7dc374a03a55abd6b63e0b55e"
      }
     },
     "metadata": {},
     "output_type": "display_data"
    },
    {
     "name": "stdout",
     "output_type": "stream",
     "text": [
      "\n",
      "Events\n",
      "\n",
      "cyberlinks\n",
      "\tPassport Owner Address -> Ethereum Address\n",
      "\tEthereum Address -> Passport Owner Address\n",
      "\tneuron: Proof Subgraph Contract\n",
      "\n",
      "\n",
      "execute\n",
      "\texecute contract: Passport Contract\n",
      "\texecute contract: Proof Subgraph Contract\n",
      "\n",
      "message from Passport Owner Address wasm /cosmwasm.wasm.v1.MsgExecuteContract\n",
      "\n",
      "reply\n",
      "\treply contract: Passport Contract\n",
      "\n",
      "wasm\n",
      "\t_contract_address: Passport Contract\n",
      "\taction: proof_address\n",
      "\tnickname: john16460346761\n",
      "\taddress: 0x32dd3dd14ed13d718774ed999f83a7cb81c3cf5d\n",
      "\n",
      "Events\n",
      "\n",
      "cyberlinks\n",
      "\tPassport Owner Address -> Cosmos Address\n",
      "\tCosmos Address -> Passport Owner Address\n",
      "\tneuron: Proof Subgraph Contract\n",
      "\n",
      "\n",
      "execute\n",
      "\texecute contract: Passport Contract\n",
      "\texecute contract: Proof Subgraph Contract\n",
      "\n",
      "message from Passport Owner Address wasm /cosmwasm.wasm.v1.MsgExecuteContract\n",
      "\n",
      "reply\n",
      "\treply contract: Passport Contract\n",
      "\n",
      "wasm\n",
      "\t_contract_address: Passport Contract\n",
      "\taction: proof_address\n",
      "\tnickname: john16460346761\n",
      "\taddress: cosmos19ru2gxtv4cmmfsk7tq3e8ygnypaxl70338sfgq\n"
     ]
    }
   ],
   "source": [
    "def proof_address(claim_row: pd.Series, network: str = 'ethereum', display_data: bool = False):\n",
    "    return execute_bash(\n",
    "            f'''REGISTER='{{\"proof_address\":{{\"address\":\"{claim_row[network + \"_address\"]}\", \"nickname\":\"{claim_row[\"nickname\"]}\", \"signature\":\"{claim_row[network + \"_message_signature\"]}\"}}}}' \\\n",
    "                && CONTRACT=\"{passport_contract_address}\" \\\n",
    "                && cyber tx wasm execute $CONTRACT \"$REGISTER\" --from $WALLET -o json --broadcast-mode block -y --gas=400000 --chain-id={NETWORK} --node={NODE_URL}''',\n",
    "            display_data=display_data)\n",
    "\n",
    "for index, row in tqdm(claims_df[:NUMBER_OF_ACTIVATED_PARTICIPANTS].iterrows()):\n",
    "    if index == 1:\n",
    "        proof_ethereum_address_json, _ = proof_address(row, display_data=DISPLAY_TX_EXECUTION)\n",
    "        parse_contract_execution_json(proof_ethereum_address_json, row=row)\n",
    "\n",
    "        proof_cosmos_address_json, _ = proof_address(row, network='cosmos', display_data=DISPLAY_TX_EXECUTION)\n",
    "        parse_contract_execution_json(proof_cosmos_address_json, row=row)\n",
    "    else:\n",
    "        proof_address(row)\n",
    "        proof_address(row, network='cosmos')"
   ],
   "metadata": {
    "collapsed": false,
    "pycharm": {
     "name": "#%%\n"
    }
   }
  },
  {
   "cell_type": "markdown",
   "source": [
    "### Claim"
   ],
   "metadata": {
    "collapsed": false,
    "pycharm": {
     "name": "#%% md\n"
    }
   }
  },
  {
   "cell_type": "code",
   "execution_count": 16,
   "outputs": [
    {
     "data": {
      "text/plain": "0it [00:00, ?it/s]",
      "application/vnd.jupyter.widget-view+json": {
       "version_major": 2,
       "version_minor": 0,
       "model_id": "81a218255f3f44e7bbcdbc362b9e0b4b"
      }
     },
     "metadata": {},
     "output_type": "display_data"
    },
    {
     "name": "stdout",
     "output_type": "stream",
     "text": [
      "\n",
      "Events\n",
      "\n",
      "coin received\n",
      "\treceiver: Passport Owner Address\n",
      "\tamount: 100000boot\n",
      "\n",
      "coin spent\n",
      "\tspender: Gift Contract\n",
      "\tamount: 100000boot\n",
      "\n",
      "execute\n",
      "\texecute contract: Gift Contract\n",
      "\n",
      "message from Passport Owner Address wasm /cosmwasm.wasm.v1.MsgExecuteContract\n",
      "\n",
      "transfer\n",
      "\trecipient: Passport Owner Address\n",
      "\tsender: Gift Contract\n",
      "\tamount: 100000boot\n",
      "\n",
      "wasm\n",
      "\t_contract_address: Gift Contract\n",
      "\taction: claim\n",
      "\toriginal: 0x9b600120d5bd1dde9a9b315a8f430763afb7d76f\n",
      "\ttarget: Passport Owner Address\n",
      "\tamount: 20000000\n",
      "\n",
      "Events\n",
      "\n",
      "coin received\n",
      "\treceiver: Passport Owner Address\n",
      "\tamount: 100000boot\n",
      "\n",
      "coin spent\n",
      "\tspender: Gift Contract\n",
      "\tamount: 100000boot\n",
      "\n",
      "execute\n",
      "\texecute contract: Gift Contract\n",
      "\n",
      "message from Passport Owner Address wasm /cosmwasm.wasm.v1.MsgExecuteContract\n",
      "\n",
      "transfer\n",
      "\trecipient: Passport Owner Address\n",
      "\tsender: Gift Contract\n",
      "\tamount: 100000boot\n",
      "\n",
      "wasm\n",
      "\t_contract_address: Gift Contract\n",
      "\taction: claim\n",
      "\toriginal: cosmos1fakshqfswsqzgyu270x4gt7qpyfnu7mzgvscn0\n",
      "\ttarget: Passport Owner Address\n",
      "\tamount: 20000000\n",
      "\n",
      "Events\n",
      "\n",
      "coin received\n",
      "\treceiver: Passport Owner Address\n",
      "\tamount: 100000boot\n",
      "\n",
      "coin spent\n",
      "\tspender: Gift Contract\n",
      "\tamount: 100000boot\n",
      "\n",
      "execute\n",
      "\texecute contract: Gift Contract\n",
      "\n",
      "message from Passport Owner Address wasm /cosmwasm.wasm.v1.MsgExecuteContract\n",
      "\n",
      "transfer\n",
      "\trecipient: Passport Owner Address\n",
      "\tsender: Gift Contract\n",
      "\tamount: 100000boot\n",
      "\n",
      "wasm\n",
      "\t_contract_address: Gift Contract\n",
      "\taction: claim\n",
      "\toriginal: 0x32dd3dd14ed13d718774ed999f83a7cb81c3cf5d\n",
      "\ttarget: Passport Owner Address\n",
      "\tamount: 19700000\n",
      "\n",
      "Events\n",
      "\n",
      "coin received\n",
      "\treceiver: Passport Owner Address\n",
      "\tamount: 100000boot\n",
      "\n",
      "coin spent\n",
      "\tspender: Gift Contract\n",
      "\tamount: 100000boot\n",
      "\n",
      "execute\n",
      "\texecute contract: Gift Contract\n",
      "\n",
      "message from Passport Owner Address wasm /cosmwasm.wasm.v1.MsgExecuteContract\n",
      "\n",
      "transfer\n",
      "\trecipient: Passport Owner Address\n",
      "\tsender: Gift Contract\n",
      "\tamount: 100000boot\n",
      "\n",
      "wasm\n",
      "\t_contract_address: Gift Contract\n",
      "\taction: claim\n",
      "\toriginal: cosmos19ru2gxtv4cmmfsk7tq3e8ygnypaxl70338sfgq\n",
      "\ttarget: Passport Owner Address\n",
      "\tamount: 19400000\n"
     ]
    }
   ],
   "source": [
    "def claim(claim_row: pd.Series, network: str = 'ethereum', display_data: bool = False):\n",
    "    return execute_bash(\n",
    "                f'''CLAIM='{{\"claim\":{{\"nickname\":\"{claim_row['nickname']}\", \"gift_claiming_address\":\"{claim_row[network + \"_address\"]}\", \"gift_amount\":\"{claim_row.amount}\", \"proof\":{claim_row[network + \"_proof\"]}}}}}' \\\n",
    "                    && cyber tx wasm execute {gift_contract_address} \"$CLAIM\" --from $WALLET -o json --broadcast-mode block -y --gas 400000 --chain-id={NETWORK} --node={NODE_URL}''',\n",
    "                display_data=display_data)\n",
    "\n",
    "\n",
    "for index, row in tqdm(claims_df[:NUMBER_OF_ACTIVATED_PARTICIPANTS].iterrows()):\n",
    "    if index == 0:\n",
    "        claim_ethereum_json, _ = claim(row, display_data=DISPLAY_TX_EXECUTION)\n",
    "        parse_contract_execution_json(claim_ethereum_json)\n",
    "\n",
    "        claim_cosmos_json, _ = claim(row, network='cosmos', display_data=DISPLAY_TX_EXECUTION)\n",
    "        parse_contract_execution_json(claim_cosmos_json)\n",
    "    else:\n",
    "        claim_ethereum_json_2, _ = claim(row)\n",
    "        parse_contract_execution_json(claim_ethereum_json_2)\n",
    "\n",
    "        claim_cosmos_json_2, _ = claim(row, network='cosmos')\n",
    "        parse_contract_execution_json(claim_cosmos_json_2)"
   ],
   "metadata": {
    "collapsed": false,
    "pycharm": {
     "name": "#%%\n"
    }
   }
  },
  {
   "cell_type": "markdown",
   "source": [
    "### Release Gift"
   ],
   "metadata": {
    "collapsed": false,
    "pycharm": {
     "name": "#%% md\n"
    }
   },
   "execution_count": 11
  },
  {
   "cell_type": "code",
   "execution_count": 17,
   "outputs": [
    {
     "data": {
      "text/plain": "0it [00:00, ?it/s]",
      "application/vnd.jupyter.widget-view+json": {
       "version_major": 2,
       "version_minor": 0,
       "model_id": "fa9d042439804fcb9dcd139f54b4e6ff"
      }
     },
     "metadata": {},
     "output_type": "display_data"
    },
    {
     "name": "stdout",
     "output_type": "stream",
     "text": [
      "\n",
      "Events\n",
      "\n",
      "coin received\n",
      "\treceiver: Passport Owner Address\n",
      "\tamount: 1990000boot\n",
      "\n",
      "coin spent\n",
      "\tspender: Gift Contract\n",
      "\tamount: 1990000boot\n",
      "\n",
      "execute\n",
      "\texecute contract: Gift Contract\n",
      "\n",
      "message from Passport Owner Address wasm /cosmwasm.wasm.v1.MsgExecuteContract\n",
      "\n",
      "transfer\n",
      "\trecipient: Passport Owner Address\n",
      "\tsender: Gift Contract\n",
      "\tamount: 1990000boot\n",
      "\n",
      "wasm\n",
      "\t_contract_address: Gift Contract\n",
      "\taction: release\n",
      "\taddress: Passport Owner Address\n",
      "\tgift_address: 0x9b600120d5bd1dde9a9b315a8f430763afb7d76f\n",
      "\tstage: 9\n",
      "\tamount: 1990000\n",
      "\n",
      "Events\n",
      "\n",
      "coin received\n",
      "\treceiver: Passport Owner Address\n",
      "\tamount: 1990000boot\n",
      "\n",
      "coin spent\n",
      "\tspender: Gift Contract\n",
      "\tamount: 1990000boot\n",
      "\n",
      "execute\n",
      "\texecute contract: Gift Contract\n",
      "\n",
      "message from Passport Owner Address wasm /cosmwasm.wasm.v1.MsgExecuteContract\n",
      "\n",
      "transfer\n",
      "\trecipient: Passport Owner Address\n",
      "\tsender: Gift Contract\n",
      "\tamount: 1990000boot\n",
      "\n",
      "wasm\n",
      "\t_contract_address: Gift Contract\n",
      "\taction: release\n",
      "\taddress: Passport Owner Address\n",
      "\tgift_address: cosmos1fakshqfswsqzgyu270x4gt7qpyfnu7mzgvscn0\n",
      "\tstage: 9\n",
      "\tamount: 1990000\n"
     ]
    }
   ],
   "source": [
    "def release(claim_row: pd.Series, network: str = 'ethereum', display_data: bool = False):\n",
    "    return execute_bash(\n",
    "                f'''CLAIM='{{\"release\":{{\"gift_address\":\"{claim_row[network + \"_address\"]}\"}}}}' \\\n",
    "                    && cyber tx wasm execute {gift_contract_address} \"$CLAIM\" --from $WALLET -o json --broadcast-mode block -y --gas 400000 --chain-id={NETWORK} --node={NODE_URL}''',\n",
    "                display_data=display_data)\n",
    "\n",
    "for index, row in tqdm(claims_df[:NUMBER_OF_ACTIVATED_PARTICIPANTS].iterrows()):\n",
    "    if index == 0:\n",
    "        release_ethereum_json, _ = release(row, display_data=DISPLAY_TX_EXECUTION)\n",
    "        parse_contract_execution_json(release_ethereum_json)\n",
    "\n",
    "        release_cosmos_json, _ = release(row, network='cosmos', display_data=DISPLAY_TX_EXECUTION)\n",
    "        parse_contract_execution_json(release_cosmos_json)\n",
    "    else:\n",
    "        release(row)\n",
    "        release(row, network='cosmos')\n"
   ],
   "metadata": {
    "collapsed": false,
    "pycharm": {
     "name": "#%%\n"
    }
   }
  },
  {
   "cell_type": "markdown",
   "source": [
    "### Add tests for Passport contract\n",
    "#### create_passport +\n",
    "#### update_name\n",
    "#### update_avatar\n",
    "#### proof_address +\n",
    "#### remove_address\n",
    "#### set_minter\n",
    "#### set_owner\n",
    "#### set_active\n",
    "#### set_subgraphs\n",
    "#### transfer_nft\n",
    "#### send_nft\n",
    "#### mint\n",
    "#### burn\n",
    "#### approve\n",
    "#### approve_all\n",
    "#### revoke\n",
    "#### revoke_all\n",
    "#### Expirations\n",
    "##### at_height\n",
    "##### at_time\n",
    "##### never\n",
    "\n",
    "### Add tests for Gift contract\n",
    "#### update_owner\n",
    "#### update_passport_addr\n",
    "#### update_target\n",
    "#### register_merkle_root +\n",
    "#### claim +\n",
    "#### release +\n",
    "\n",
    "### Add tests for subgraph contract\n",
    "#### update_owner\n",
    "#### update_executer +"
   ],
   "metadata": {
    "collapsed": false,
    "pycharm": {
     "name": "#%% md\n"
    }
   }
  },
  {
   "cell_type": "code",
   "execution_count": 17,
   "outputs": [],
   "source": [],
   "metadata": {
    "collapsed": false,
    "pycharm": {
     "name": "#%%\n"
    }
   }
  }
 ],
 "metadata": {
  "kernelspec": {
   "display_name": "Python 3",
   "language": "python",
   "name": "python3"
  },
  "language_info": {
   "codemirror_mode": {
    "name": "ipython",
    "version": 2
   },
   "file_extension": ".py",
   "mimetype": "text/x-python",
   "name": "python",
   "nbconvert_exporter": "python",
   "pygments_lexer": "ipython2",
   "version": "2.7.6"
  }
 },
 "nbformat": 4,
 "nbformat_minor": 0
}