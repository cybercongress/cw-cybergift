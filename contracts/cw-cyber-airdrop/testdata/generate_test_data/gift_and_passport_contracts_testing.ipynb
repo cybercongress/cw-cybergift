{
 "cells": [
  {
   "cell_type": "markdown",
   "metadata": {
    "collapsed": true,
    "pycharm": {
     "name": "#%% md\n"
    }
   },
   "source": [
    "## Gift Contract Testing"
   ]
  },
  {
   "cell_type": "code",
   "source": [
    "from web3.auto import w3\n",
    "import pandas as pd\n",
    "from cyberpy import generate_wallet, address_to_address\n",
    "from cyberpy._message_signer import Message\n",
    "from cyberpy._wallet import seed_to_privkey\n",
    "from eth_account.messages import encode_defunct\n",
    "import json\n",
    "from subprocess import Popen, PIPE\n",
    "import os\n",
    "from time import time\n",
    "import ipfshttpclient\n",
    "from tqdm.notebook import tqdm\n",
    "from base64 import b64encode\n",
    "\n",
    "client = ipfshttpclient.connect()\n",
    "\n",
    "NUMBER_OF_PARTICIPANTS = 2\n",
    "KEY_PHRASE = 'KEY PHRASE'\n",
    "NICKNAME_LIST = [f'john{round(time())}{number}' for number in range(NUMBER_OF_PARTICIPANTS)]\n",
    "AVATAR_CID_LIST = [client.add_str(_nickname + 'avatar') for _nickname in NICKNAME_LIST]\n",
    "CLAIM_AMOUNT_LIST = [1_477_000]\n",
    "\n",
    "INITIAL_BALANCE = str(1_000_000_000)\n",
    "COEF_UP = str(20)\n",
    "COEF_DOWN = str(5)\n",
    "TARGET_CLAIM = str(2)\n",
    "\n",
    "NODE_URL = 'https://rpc.space-pussy-1.cybernode.ai:443'\n",
    "NETWORK = 'space-pussy-1'\n",
    "\n",
    "INIT_PASSPORT_CONTRACT = False\n",
    "PASSPORT_CODE_ID = str(23)\n",
    "PASSPORT_CONTRACT_ADDRESS = 'bostrom1ttftq90jgl6cms2y0awsatx8rnf99m2u2l6cmdtd427yg6g3myvqgsm4nu'\n",
    "\n",
    "INIT_GIFT_CONTRACT = False\n",
    "GIFT_CODE_ID = str(20)\n",
    "GIFT_CONTRACT_ADDRESS = 'bostrom1hn6633cdt7xh28psanrpe6w0sask3ga6rfs02082hes0epw6r2wsn5r6nr'\n",
    "\n",
    "ROOT_SOURCE_FILE_NAME = 'root_testing_source_' + str(NUMBER_OF_PARTICIPANTS) + '_addresses.json'\n",
    "ROOT_FILE_NAME = 'root_testing_' + str(NUMBER_OF_PARTICIPANTS) + '_addresses'\n",
    "\n",
    "def execute_bash(bash_command: str, display_data: bool = False) -> [str, str]:\n",
    "    _output, _error = Popen(bash_command, shell=True, stdout=PIPE, stderr=PIPE).communicate()\n",
    "    if _error:\n",
    "        display_data = True\n",
    "    if display_data:\n",
    "        print(bash_command)\n",
    "        print(_output.decode('utf-8'))\n",
    "        print(_error.decode('utf-8'))\n",
    "    return _output.decode('utf-8'), _error.decode('utf-8')"
   ],
   "metadata": {
    "collapsed": false,
    "pycharm": {
     "name": "#%%\n"
    }
   },
   "execution_count": 1,
   "outputs": [
    {
     "name": "stderr",
     "output_type": "stream",
     "text": [
      "/Users/sergenedashkovsky/Library/Python/3.8/lib/python/site-packages/ipfshttpclient/client/__init__.py:75: VersionMismatch: Unsupported daemon version '0.10.0' (not in range: 0.5.0 ≤ … < 0.9.0)\n",
      "  warnings.warn(exceptions.VersionMismatch(version, minimum, maximum))\n"
     ]
    }
   ]
  },
  {
   "cell_type": "markdown",
   "source": [
    "### Generate addresses and sign messages"
   ],
   "metadata": {
    "collapsed": false,
    "pycharm": {
     "name": "#%% md\n"
    }
   }
  },
  {
   "cell_type": "code",
   "execution_count": 2,
   "outputs": [
    {
     "data": {
      "text/plain": "    amount         nickname                                          avatar  \\\n0  1477000  john16443837690  QmXuaeDdSqmhn2ABzRyZ5ikSScNSEnNRj2y7Xg5rkoX5p7   \n1  1477000  john16443837690  QmXuaeDdSqmhn2ABzRyZ5ikSScNSEnNRj2y7Xg5rkoX5p7   \n\n                             ethereum_address  \\\n0  0xd14df4470b05641c1a3981715c4b71312a62d1a4   \n1  0x12e463ff81d554b29f3ecfcfd0931bede067ab8f   \n\n                                ethereum_private_key  \\\n0  0x9a673f0100f478dff2781c6d33ceccd3fec05e89d8b6...   \n1  0x1ce7f2e8c7a05dd7d81db0f05e0a6fcb640e5d8ea5c0...   \n\n                                  bostrom_address  \\\n0  bostrom1dwksu778yh46nh4t2n49029r8e5007x5rhnrd5   \n1  bostrom1uj5d0u55sr2gftkp7r77sy5veedtapls32mxrp   \n\n                                  cosmos_address  \\\n0  cosmos1dwksu778yh46nh4t2n49029r8e5007x5qy8snn   \n1  cosmos1uj5d0u55sr2gftkp7r77sy5veedtaplsje04ax   \n\n                                         cosmos_seed  \\\n0  curious hero enforce horn toward galaxy melt g...   \n1  enhance attitude large trip mango charge loung...   \n\n                                          message  \\\n0  QmRX8qYgeZoYM3M5zzQaWEpVFdpin6FvVXvp6RPQK3oufV   \n1  QmRX8qYgeZoYM3M5zzQaWEpVFdpin6FvVXvp6RPQK3oufV   \n\n                          ethereum_message_signature  \\\n0  0xc1b50472fb1ea80d3d92fabc08afd12b1e9940a508cc...   \n1  0xb96e6dd252a4192f372d615989366a6f3a317e2947a3...   \n\n                           cosmos_message_signed_row  \\\n0  {'pub_key': 'Aw0de58W6SsUe7X2TSbJs/ysyBVPFyqNb...   \n1  {'pub_key': 'Albd6L8FKj/4xK2ap0nIvurF7EpvB4N0/...   \n\n                            cosmos_message_signature  \n0  eyJwdWJfa2V5IjoiQXcwZGU1OFc2U3NVZTdYMlRTYkpzL3...  \n1  eyJwdWJfa2V5IjoiQWxiZDZMOEZLai80eEsyYXAwbkl2dX...  ",
      "text/html": "<div>\n<style scoped>\n    .dataframe tbody tr th:only-of-type {\n        vertical-align: middle;\n    }\n\n    .dataframe tbody tr th {\n        vertical-align: top;\n    }\n\n    .dataframe thead th {\n        text-align: right;\n    }\n</style>\n<table border=\"1\" class=\"dataframe\">\n  <thead>\n    <tr style=\"text-align: right;\">\n      <th></th>\n      <th>amount</th>\n      <th>nickname</th>\n      <th>avatar</th>\n      <th>ethereum_address</th>\n      <th>ethereum_private_key</th>\n      <th>bostrom_address</th>\n      <th>cosmos_address</th>\n      <th>cosmos_seed</th>\n      <th>message</th>\n      <th>ethereum_message_signature</th>\n      <th>cosmos_message_signed_row</th>\n      <th>cosmos_message_signature</th>\n    </tr>\n  </thead>\n  <tbody>\n    <tr>\n      <th>0</th>\n      <td>1477000</td>\n      <td>john16443837690</td>\n      <td>QmXuaeDdSqmhn2ABzRyZ5ikSScNSEnNRj2y7Xg5rkoX5p7</td>\n      <td>0xd14df4470b05641c1a3981715c4b71312a62d1a4</td>\n      <td>0x9a673f0100f478dff2781c6d33ceccd3fec05e89d8b6...</td>\n      <td>bostrom1dwksu778yh46nh4t2n49029r8e5007x5rhnrd5</td>\n      <td>cosmos1dwksu778yh46nh4t2n49029r8e5007x5qy8snn</td>\n      <td>curious hero enforce horn toward galaxy melt g...</td>\n      <td>QmRX8qYgeZoYM3M5zzQaWEpVFdpin6FvVXvp6RPQK3oufV</td>\n      <td>0xc1b50472fb1ea80d3d92fabc08afd12b1e9940a508cc...</td>\n      <td>{'pub_key': 'Aw0de58W6SsUe7X2TSbJs/ysyBVPFyqNb...</td>\n      <td>eyJwdWJfa2V5IjoiQXcwZGU1OFc2U3NVZTdYMlRTYkpzL3...</td>\n    </tr>\n    <tr>\n      <th>1</th>\n      <td>1477000</td>\n      <td>john16443837690</td>\n      <td>QmXuaeDdSqmhn2ABzRyZ5ikSScNSEnNRj2y7Xg5rkoX5p7</td>\n      <td>0x12e463ff81d554b29f3ecfcfd0931bede067ab8f</td>\n      <td>0x1ce7f2e8c7a05dd7d81db0f05e0a6fcb640e5d8ea5c0...</td>\n      <td>bostrom1uj5d0u55sr2gftkp7r77sy5veedtapls32mxrp</td>\n      <td>cosmos1uj5d0u55sr2gftkp7r77sy5veedtaplsje04ax</td>\n      <td>enhance attitude large trip mango charge loung...</td>\n      <td>QmRX8qYgeZoYM3M5zzQaWEpVFdpin6FvVXvp6RPQK3oufV</td>\n      <td>0xb96e6dd252a4192f372d615989366a6f3a317e2947a3...</td>\n      <td>{'pub_key': 'Albd6L8FKj/4xK2ap0nIvurF7EpvB4N0/...</td>\n      <td>eyJwdWJfa2V5IjoiQWxiZDZMOEZLai80eEsyYXAwbkl2dX...</td>\n    </tr>\n  </tbody>\n</table>\n</div>"
     },
     "execution_count": 2,
     "metadata": {},
     "output_type": "execute_result"
    }
   ],
   "source": [
    "claims_list = []\n",
    "for _ in range(NUMBER_OF_PARTICIPANTS):\n",
    "    claim_item = {'amount': CLAIM_AMOUNT_LIST[0],\n",
    "                  'nickname': NICKNAME_LIST[0],\n",
    "                  'avatar': AVATAR_CID_LIST[0]}\n",
    "\n",
    "    # Generate Ethereum wallet\n",
    "    ethereum_wallet = w3.eth.account.create(KEY_PHRASE)\n",
    "    claim_item['ethereum_address'] = ethereum_wallet.address.lower()\n",
    "    claim_item['ethereum_private_key'] = ethereum_wallet.privateKey.hex()\n",
    "\n",
    "    # Generate Bostrom and Cosmos wallet\n",
    "    bostrom_wallet = generate_wallet()\n",
    "    claim_item['bostrom_address'] = bostrom_wallet['address']\n",
    "    claim_item['cosmos_address'] = address_to_address(bostrom_wallet['address'], 'cosmos')\n",
    "    claim_item['cosmos_seed'] = bostrom_wallet['seed']\n",
    "\n",
    "    # Create message\n",
    "    # message_json = {\n",
    "    #     \"nickname\": claim_item['nickname'],\n",
    "    #     \"gift_claiming_address\": claim_item['ethereum_address'],\n",
    "    #     \"gift_amount\": claim_item['amount'],\n",
    "    #     \"target_address\": claim_item['bostrom_address']\n",
    "    # }\n",
    "    # claim_item['message'] = json.dumps(message_json)\n",
    "    claim_item['message'] = 'QmRX8qYgeZoYM3M5zzQaWEpVFdpin6FvVXvp6RPQK3oufV'\n",
    "\n",
    "    # Sign message form Ethereum address\n",
    "    ethereum_signed_message = \\\n",
    "        w3.eth.account.sign_message(\n",
    "            signable_message=encode_defunct(text=claim_item['message']),\n",
    "            private_key=ethereum_wallet.privateKey)\n",
    "    # print(signed_message.signature)\n",
    "    claim_item['ethereum_message_signature'] = ethereum_signed_message.signature.hex()\n",
    "\n",
    "    # Sign message form Cosmos address\n",
    "    cosmos_msg = Message(privkey=seed_to_privkey(seed=claim_item['cosmos_seed']))\n",
    "    cosmos_msg.add_message(signing_message=claim_item['message'], signer_prefix='cosmos')\n",
    "    claim_item['cosmos_message_signed_row'] = cosmos_msg.get_signed_message()\n",
    "    claim_item['cosmos_message_signature'] = b64encode(json.dumps(claim_item['cosmos_message_signed_row']).replace('\\n', '').replace(' ', '').encode('utf-8')).decode(\"utf-8\")\n",
    "\n",
    "    # Verify message\n",
    "    assert claim_item['ethereum_address'] == w3.eth.account.recover_message(\n",
    "        signable_message=encode_defunct(text=claim_item['message']),\n",
    "        signature=claim_item['ethereum_message_signature']).lower()\n",
    "\n",
    "    claims_list.append(claim_item)\n",
    "\n",
    "claims_df = pd.DataFrame(claims_list)\n",
    "claims_df.to_csv('claims_ethereum_test_data_' + str(NUMBER_OF_PARTICIPANTS) + '_addresses.csv')\n",
    "claims_df"
   ],
   "metadata": {
    "collapsed": false,
    "pycharm": {
     "name": "#%%\n"
    }
   }
  },
  {
   "cell_type": "markdown",
   "source": [
    "### Instantiate Passport Contract"
   ],
   "metadata": {
    "collapsed": false,
    "pycharm": {
     "name": "#%% md\n"
    }
   }
  },
  {
   "cell_type": "code",
   "execution_count": 3,
   "outputs": [
    {
     "name": "stdout",
     "output_type": "stream",
     "text": [
      "Passport contract address: bostrom1ttftq90jgl6cms2y0awsatx8rnf99m2u2l6cmdtd427yg6g3myvqgsm4nu\n"
     ]
    }
   ],
   "source": [
    "if INIT_PASSPORT_CONTRACT:\n",
    "    init_output, init_error = execute_bash(\n",
    "        f'''INIT='{{\"name\":\"CPT\", \"minter\":\"{os.getenv('WALLET_ADDRESS')}\", \"owner\":\"{os.getenv('WALLET_ADDRESS')}\", \"symbol\":\"CPT\"}}' \\\n",
    "               && cyber tx wasm instantiate {PASSPORT_CODE_ID} \"$INIT\" --from $WALLET --amount {INITIAL_BALANCE}boot --label \"cybergift test\" -y --gas 3500000 --broadcast-mode block -o json --chain-id={NETWORK} --node={NODE_URL}''')\n",
    "    if init_error:\n",
    "        print(init_error)\n",
    "    init_json = json.loads(init_output)\n",
    "    passport_contract_address = \\\n",
    "        [event['attributes'][0]['value'] for event in init_json['logs'][0]['events'] if event['type'] == 'instantiate'][0]\n",
    "else:\n",
    "    passport_contract_address = PASSPORT_CONTRACT_ADDRESS\n",
    "print(f'Passport contract address: {passport_contract_address}')"
   ],
   "metadata": {
    "collapsed": false,
    "pycharm": {
     "name": "#%%\n"
    }
   }
  },
  {
   "cell_type": "markdown",
   "source": [
    "### Instantiate Gift Contract"
   ],
   "metadata": {
    "collapsed": false,
    "pycharm": {
     "name": "#%% md\n"
    }
   }
  },
  {
   "cell_type": "code",
   "execution_count": 4,
   "outputs": [
    {
     "name": "stdout",
     "output_type": "stream",
     "text": [
      "Gift contract address: bostrom1hn6633cdt7xh28psanrpe6w0sask3ga6rfs02082hes0epw6r2wsn5r6nr\n"
     ]
    }
   ],
   "source": [
    "if INIT_GIFT_CONTRACT:\n",
    "    init_output, init_error = execute_bash(\n",
    "        f'''INIT='{{\"owner\":\"{os.getenv('WALLET_ADDRESS')}\", \"passport\":\"{passport_contract_address}\", \"allowed_native\":\"boot\", \"initial_balance\":\"{INITIAL_BALANCE}\", \"coefficient_up\":\"{COEF_UP}\", \"coefficient_down\":\"{COEF_DOWN}\", \"coefficient\":\"{COEF_UP}\", \"target_claim\":\"{TARGET_CLAIM}\"}}' \\\n",
    "               && cyber tx wasm instantiate {GIFT_CODE_ID} \"$INIT\" --from $WALLET --amount {INITIAL_BALANCE}boot --label \"cybergift test\" -y --gas 3500000 --broadcast-mode block -o json --chain-id={NETWORK} --node={NODE_URL}''')\n",
    "    if init_error:\n",
    "        print(init_error)\n",
    "    init_json = json.loads(init_output)\n",
    "    gift_contract_address = \\\n",
    "        [event['attributes'][0]['value'] for event in init_json['logs'][0]['events'] if event['type'] == 'instantiate'][0]\n",
    "else:\n",
    "    gift_contract_address = GIFT_CONTRACT_ADDRESS\n",
    "print(f'Gift contract address: {gift_contract_address}')"
   ],
   "metadata": {
    "collapsed": false,
    "pycharm": {
     "name": "#%%\n"
    }
   }
  },
  {
   "cell_type": "markdown",
   "source": [],
   "metadata": {
    "collapsed": false,
    "pycharm": {
     "name": "#%% md\n"
    }
   }
  },
  {
   "cell_type": "markdown",
   "source": [
    "### Create Merkle Root"
   ],
   "metadata": {
    "collapsed": false,
    "pycharm": {
     "name": "#%% md\n"
    }
   }
  },
  {
   "cell_type": "code",
   "execution_count": 5,
   "outputs": [],
   "source": [
    "root_source_list = [{'address': _item['ethereum_address'],\n",
    "                     'amount': str(_item['amount'])} for _item in claims_list]+ \\\n",
    "                    [{'address': _item['cosmos_address'],\n",
    "                      'amount': str(_item['amount'])} for _item in claims_list]\n",
    "\n",
    "with open(ROOT_SOURCE_FILE_NAME, 'w') as outfile:\n",
    "    outfile.write(str(root_source_list).replace(\"'\", '\"'))"
   ],
   "metadata": {
    "collapsed": false,
    "pycharm": {
     "name": "#%%\n"
    }
   }
  },
  {
   "cell_type": "code",
   "execution_count": 6,
   "outputs": [
    {
     "name": "stdout",
     "output_type": "stream",
     "text": [
      "Merkle root: 40a778cd1b7c01441934d02a49f83a2b061e72ff91700e807177119eaebd29ea\n"
     ]
    }
   ],
   "source": [
    "execute_bash(f'rm {ROOT_FILE_NAME}')\n",
    "root_output, root_error = execute_bash(\n",
    "    f'merkle-airdrop-cli generateRoot --file {ROOT_SOURCE_FILE_NAME} >> {ROOT_FILE_NAME} && cat {ROOT_FILE_NAME}')\n",
    "root = root_output.replace('\\n', '')\n",
    "print(f'Merkle root: {root}')"
   ],
   "metadata": {
    "collapsed": false,
    "pycharm": {
     "name": "#%%\n"
    }
   }
  },
  {
   "cell_type": "code",
   "execution_count": 7,
   "outputs": [],
   "source": [
    "root_register_output, root_register_error = \\\n",
    "    execute_bash(\n",
    "        f'''REGISTER='{{\"register_merkle_root\":{{\"merkle_root\":\"{root}\"}}}}' \\\n",
    "            && CONTRACT=\"{gift_contract_address}\" \\\n",
    "            && cyber tx wasm execute $CONTRACT \"$REGISTER\" --from $WALLET --broadcast-mode block -y --chain-id={NETWORK} --node={NODE_URL}''')"
   ],
   "metadata": {
    "collapsed": false,
    "pycharm": {
     "name": "#%%\n"
    }
   }
  },
  {
   "cell_type": "markdown",
   "source": [
    "#### Get Merkle Root form the Gift Contract"
   ],
   "metadata": {
    "collapsed": false,
    "pycharm": {
     "name": "#%% md\n"
    }
   },
   "execution_count": 156
  },
  {
   "cell_type": "code",
   "execution_count": 8,
   "outputs": [
    {
     "name": "stdout",
     "output_type": "stream",
     "text": [
      "data:\n",
      "  merkle_root: 40a778cd1b7c01441934d02a49f83a2b061e72ff91700e807177119eaebd29ea\n",
      "\n"
     ]
    }
   ],
   "source": [
    "print(\n",
    "    execute_bash(\n",
    "        f'''QUERY='{{\"merkle_root\": {{}}}}' \\\n",
    "            && cyber query wasm contract-state smart {gift_contract_address} \"$QUERY\" --chain-id={NETWORK} --node={NODE_URL}''')[0]\n",
    ")"
   ],
   "metadata": {
    "collapsed": false,
    "pycharm": {
     "name": "#%%\n"
    }
   }
  },
  {
   "cell_type": "markdown",
   "source": [
    "### Create Passports"
   ],
   "metadata": {
    "collapsed": false,
    "pycharm": {
     "name": "#%% md\n"
    }
   }
  },
  {
   "cell_type": "code",
   "execution_count": 9,
   "outputs": [
    {
     "data": {
      "text/plain": "0it [00:00, ?it/s]",
      "application/vnd.jupyter.widget-view+json": {
       "version_major": 2,
       "version_minor": 0,
       "model_id": "31ca01167f0c440dada76050376402c0"
      }
     },
     "metadata": {},
     "output_type": "display_data"
    },
    {
     "name": "stdout",
     "output_type": "stream",
     "text": [
      "REGISTER='{\"create_passport\":{\"avatar\":\"QmXuaeDdSqmhn2ABzRyZ5ikSScNSEnNRj2y7Xg5rkoX5p7\", \"nickname\":\"john16443837690\"}}'                     && CONTRACT=\"bostrom1ttftq90jgl6cms2y0awsatx8rnf99m2u2l6cmdtd427yg6g3myvqgsm4nu\"                     && cyber tx wasm execute $CONTRACT \"$REGISTER\" --from $WALLET --broadcast-mode block -y --gas=400000 --chain-id=space-pussy-1 --node=https://rpc.space-pussy-1.cybernode.ai:443\n",
      "code: 0\n",
      "codespace: \"\"\n",
      "data: 0A260A242F636F736D7761736D2E7761736D2E76312E4D736745786563757465436F6E7472616374\n",
      "gas_used: \"237560\"\n",
      "gas_wanted: \"400000\"\n",
      "height: \"1188801\"\n",
      "info: \"\"\n",
      "logs:\n",
      "- events:\n",
      "  - attributes:\n",
      "    - key: particleFrom\n",
      "      value: QmNbQbcUooRXS5gepU1M78qGUKE25x7aJfo6GKTEWn9amf\n",
      "    - key: particleTo\n",
      "      value: QmPabJn9MLWtUd545K1dV8NCrqdY92L34BhwEWHPDTDvNE\n",
      "    - key: particleFrom\n",
      "      value: QmNbQbcUooRXS5gepU1M78qGUKE25x7aJfo6GKTEWn9amf\n",
      "    - key: particleTo\n",
      "      value: QmXuaeDdSqmhn2ABzRyZ5ikSScNSEnNRj2y7Xg5rkoX5p7\n",
      "    - key: particleFrom\n",
      "      value: QmPabJn9MLWtUd545K1dV8NCrqdY92L34BhwEWHPDTDvNE\n",
      "    - key: particleTo\n",
      "      value: QmNbQbcUooRXS5gepU1M78qGUKE25x7aJfo6GKTEWn9amf\n",
      "    - key: particleFrom\n",
      "      value: QmXuaeDdSqmhn2ABzRyZ5ikSScNSEnNRj2y7Xg5rkoX5p7\n",
      "    - key: particleTo\n",
      "      value: QmNbQbcUooRXS5gepU1M78qGUKE25x7aJfo6GKTEWn9amf\n",
      "    - key: neuron\n",
      "      value: bostrom1ttftq90jgl6cms2y0awsatx8rnf99m2u2l6cmdtd427yg6g3myvqgsm4nu\n",
      "    type: cyberlink\n",
      "  - attributes:\n",
      "    - key: _contract_address\n",
      "      value: bostrom1ttftq90jgl6cms2y0awsatx8rnf99m2u2l6cmdtd427yg6g3myvqgsm4nu\n",
      "    type: execute\n",
      "  - attributes:\n",
      "    - key: action\n",
      "      value: /cosmwasm.wasm.v1.MsgExecuteContract\n",
      "    - key: module\n",
      "      value: wasm\n",
      "    - key: sender\n",
      "      value: bostrom135ca8hdpy9sk0ntwqzpzsvatyl48ptx5j359lz\n",
      "    type: message\n",
      "  - attributes:\n",
      "    - key: _contract_address\n",
      "      value: bostrom1ttftq90jgl6cms2y0awsatx8rnf99m2u2l6cmdtd427yg6g3myvqgsm4nu\n",
      "    - key: action\n",
      "      value: mint\n",
      "    - key: minter\n",
      "      value: bostrom1ttftq90jgl6cms2y0awsatx8rnf99m2u2l6cmdtd427yg6g3myvqgsm4nu\n",
      "    - key: token_id\n",
      "      value: \"3\"\n",
      "    type: wasm\n",
      "  log: \"\"\n",
      "  msg_index: 0\n",
      "raw_log: '[{\"events\":[{\"type\":\"cyberlink\",\"attributes\":[{\"key\":\"particleFrom\",\"value\":\"QmNbQbcUooRXS5gepU1M78qGUKE25x7aJfo6GKTEWn9amf\"},{\"key\":\"particleTo\",\"value\":\"QmPabJn9MLWtUd545K1dV8NCrqdY92L34BhwEWHPDTDvNE\"},{\"key\":\"particleFrom\",\"value\":\"QmNbQbcUooRXS5gepU1M78qGUKE25x7aJfo6GKTEWn9amf\"},{\"key\":\"particleTo\",\"value\":\"QmXuaeDdSqmhn2ABzRyZ5ikSScNSEnNRj2y7Xg5rkoX5p7\"},{\"key\":\"particleFrom\",\"value\":\"QmPabJn9MLWtUd545K1dV8NCrqdY92L34BhwEWHPDTDvNE\"},{\"key\":\"particleTo\",\"value\":\"QmNbQbcUooRXS5gepU1M78qGUKE25x7aJfo6GKTEWn9amf\"},{\"key\":\"particleFrom\",\"value\":\"QmXuaeDdSqmhn2ABzRyZ5ikSScNSEnNRj2y7Xg5rkoX5p7\"},{\"key\":\"particleTo\",\"value\":\"QmNbQbcUooRXS5gepU1M78qGUKE25x7aJfo6GKTEWn9amf\"},{\"key\":\"neuron\",\"value\":\"bostrom1ttftq90jgl6cms2y0awsatx8rnf99m2u2l6cmdtd427yg6g3myvqgsm4nu\"}]},{\"type\":\"execute\",\"attributes\":[{\"key\":\"_contract_address\",\"value\":\"bostrom1ttftq90jgl6cms2y0awsatx8rnf99m2u2l6cmdtd427yg6g3myvqgsm4nu\"}]},{\"type\":\"message\",\"attributes\":[{\"key\":\"action\",\"value\":\"/cosmwasm.wasm.v1.MsgExecuteContract\"},{\"key\":\"module\",\"value\":\"wasm\"},{\"key\":\"sender\",\"value\":\"bostrom135ca8hdpy9sk0ntwqzpzsvatyl48ptx5j359lz\"}]},{\"type\":\"wasm\",\"attributes\":[{\"key\":\"_contract_address\",\"value\":\"bostrom1ttftq90jgl6cms2y0awsatx8rnf99m2u2l6cmdtd427yg6g3myvqgsm4nu\"},{\"key\":\"action\",\"value\":\"mint\"},{\"key\":\"minter\",\"value\":\"bostrom1ttftq90jgl6cms2y0awsatx8rnf99m2u2l6cmdtd427yg6g3myvqgsm4nu\"},{\"key\":\"token_id\",\"value\":\"3\"}]}]}]'\n",
      "timestamp: \"\"\n",
      "tx: null\n",
      "txhash: 66E497480E4442D441383D069B08780FC9408B32D1463CBE2BDF088FB82A3699\n",
      "\n",
      "\n"
     ]
    }
   ],
   "source": [
    "def create_passport(claim_row: pd.Series, display_data: bool = False):\n",
    "    return execute_bash(\n",
    "                f'''REGISTER='{{\"create_passport\":{{\"avatar\":\"{claim_row[\"avatar\"]}\", \"nickname\":\"{claim_row[\"nickname\"]}\"}}}}' \\\n",
    "                    && CONTRACT=\"{passport_contract_address}\" \\\n",
    "                    && cyber tx wasm execute $CONTRACT \"$REGISTER\" --from $WALLET --broadcast-mode block -y --gas=400000 --chain-id={NETWORK} --node={NODE_URL}''',\n",
    "                display_data=display_data)\n",
    "\n",
    "for index, row in tqdm(claims_df.iterrows()):\n",
    "    if index == 0:\n",
    "        create_passport(row, display_data=True)\n",
    "    else:\n",
    "        create_passport(row)"
   ],
   "metadata": {
    "collapsed": false,
    "pycharm": {
     "name": "#%%\n"
    }
   }
  },
  {
   "cell_type": "markdown",
   "source": [
    "### Proof (Add) Address to Passports"
   ],
   "metadata": {
    "collapsed": false,
    "pycharm": {
     "name": "#%% md\n"
    }
   }
  },
  {
   "cell_type": "code",
   "execution_count": 10,
   "outputs": [
    {
     "data": {
      "text/plain": "0it [00:00, ?it/s]",
      "application/vnd.jupyter.widget-view+json": {
       "version_major": 2,
       "version_minor": 0,
       "model_id": "a4d69b9c4a7b48abb3a2f3fc79e3102b"
      }
     },
     "metadata": {},
     "output_type": "display_data"
    },
    {
     "name": "stdout",
     "output_type": "stream",
     "text": [
      "REGISTER='{\"proof_address\":{\"nickname\":\"john16443837690\", \"address\":\"cosmos1dwksu778yh46nh4t2n49029r8e5007x5qy8snn\", \"signature\":\"eyJwdWJfa2V5IjoiQXcwZGU1OFc2U3NVZTdYMlRTYkpzL3lzeUJWUEZ5cU5iQisxMWdqSmVsRlIiLCJzaWduYXR1cmUiOiJGbGlrb1NhK2xxTjgyTjVuQlN1VzVNNHlObHRqWHVKLzIvMjlvYStKVVpGbENVdWQ2VWc3K2pEZHJsUklQd0plWmpCSzUxZHlDcHpwa3hrN1NjVjhuZz09In0=\"}}'                 && CONTRACT=\"bostrom1ttftq90jgl6cms2y0awsatx8rnf99m2u2l6cmdtd427yg6g3myvqgsm4nu\"                 && cyber tx wasm execute $CONTRACT \"$REGISTER\" --from $WALLET --broadcast-mode block -y --gas=400000 --chain-id=space-pussy-1 --node=https://rpc.space-pussy-1.cybernode.ai:443\n",
      "code: 0\n",
      "codespace: \"\"\n",
      "data: 0A260A242F636F736D7761736D2E7761736D2E76312E4D736745786563757465436F6E7472616374\n",
      "gas_used: \"206526\"\n",
      "gas_wanted: \"400000\"\n",
      "height: \"1188804\"\n",
      "info: \"\"\n",
      "logs:\n",
      "- events:\n",
      "  - attributes:\n",
      "    - key: particleFrom\n",
      "      value: QmNbQbcUooRXS5gepU1M78qGUKE25x7aJfo6GKTEWn9amf\n",
      "    - key: particleTo\n",
      "      value: QmPcvmPVMddRnUVMCZM4tDcm6SbpRdrTMQdWJSfRYBsz3g\n",
      "    - key: particleFrom\n",
      "      value: QmPcvmPVMddRnUVMCZM4tDcm6SbpRdrTMQdWJSfRYBsz3g\n",
      "    - key: particleTo\n",
      "      value: QmNbQbcUooRXS5gepU1M78qGUKE25x7aJfo6GKTEWn9amf\n",
      "    - key: neuron\n",
      "      value: bostrom1ttftq90jgl6cms2y0awsatx8rnf99m2u2l6cmdtd427yg6g3myvqgsm4nu\n",
      "    type: cyberlink\n",
      "  - attributes:\n",
      "    - key: _contract_address\n",
      "      value: bostrom1ttftq90jgl6cms2y0awsatx8rnf99m2u2l6cmdtd427yg6g3myvqgsm4nu\n",
      "    type: execute\n",
      "  - attributes:\n",
      "    - key: action\n",
      "      value: /cosmwasm.wasm.v1.MsgExecuteContract\n",
      "    - key: module\n",
      "      value: wasm\n",
      "    - key: sender\n",
      "      value: bostrom135ca8hdpy9sk0ntwqzpzsvatyl48ptx5j359lz\n",
      "    type: message\n",
      "  - attributes:\n",
      "    - key: _contract_address\n",
      "      value: bostrom1ttftq90jgl6cms2y0awsatx8rnf99m2u2l6cmdtd427yg6g3myvqgsm4nu\n",
      "    - key: action\n",
      "      value: proof_address\n",
      "    - key: nickname\n",
      "      value: john16443837690\n",
      "    - key: address\n",
      "      value: cosmos1dwksu778yh46nh4t2n49029r8e5007x5qy8snn\n",
      "    type: wasm\n",
      "  log: \"\"\n",
      "  msg_index: 0\n",
      "raw_log: '[{\"events\":[{\"type\":\"cyberlink\",\"attributes\":[{\"key\":\"particleFrom\",\"value\":\"QmNbQbcUooRXS5gepU1M78qGUKE25x7aJfo6GKTEWn9amf\"},{\"key\":\"particleTo\",\"value\":\"QmPcvmPVMddRnUVMCZM4tDcm6SbpRdrTMQdWJSfRYBsz3g\"},{\"key\":\"particleFrom\",\"value\":\"QmPcvmPVMddRnUVMCZM4tDcm6SbpRdrTMQdWJSfRYBsz3g\"},{\"key\":\"particleTo\",\"value\":\"QmNbQbcUooRXS5gepU1M78qGUKE25x7aJfo6GKTEWn9amf\"},{\"key\":\"neuron\",\"value\":\"bostrom1ttftq90jgl6cms2y0awsatx8rnf99m2u2l6cmdtd427yg6g3myvqgsm4nu\"}]},{\"type\":\"execute\",\"attributes\":[{\"key\":\"_contract_address\",\"value\":\"bostrom1ttftq90jgl6cms2y0awsatx8rnf99m2u2l6cmdtd427yg6g3myvqgsm4nu\"}]},{\"type\":\"message\",\"attributes\":[{\"key\":\"action\",\"value\":\"/cosmwasm.wasm.v1.MsgExecuteContract\"},{\"key\":\"module\",\"value\":\"wasm\"},{\"key\":\"sender\",\"value\":\"bostrom135ca8hdpy9sk0ntwqzpzsvatyl48ptx5j359lz\"}]},{\"type\":\"wasm\",\"attributes\":[{\"key\":\"_contract_address\",\"value\":\"bostrom1ttftq90jgl6cms2y0awsatx8rnf99m2u2l6cmdtd427yg6g3myvqgsm4nu\"},{\"key\":\"action\",\"value\":\"proof_address\"},{\"key\":\"nickname\",\"value\":\"john16443837690\"},{\"key\":\"address\",\"value\":\"cosmos1dwksu778yh46nh4t2n49029r8e5007x5qy8snn\"}]}]}]'\n",
      "timestamp: \"\"\n",
      "tx: null\n",
      "txhash: FD98FC29210F2C949DE87CAEBCD74784C02DC3E5E721EADD9044056E7FD551C7\n",
      "\n",
      "\n",
      "REGISTER='{\"proof_address\":{\"nickname\":\"john16443837690\", \"address\":\"0x12e463ff81d554b29f3ecfcfd0931bede067ab8f\", \"signature\":\"0xb96e6dd252a4192f372d615989366a6f3a317e2947a3c712499ff9043868f4dc6d7b67af3ff18cb6c199fe91ece397b3f739aa917fe51c90c34c45568fdc3bdd1c\"}}'                 && CONTRACT=\"bostrom1ttftq90jgl6cms2y0awsatx8rnf99m2u2l6cmdtd427yg6g3myvqgsm4nu\"                 && cyber tx wasm execute $CONTRACT \"$REGISTER\" --from $WALLET --broadcast-mode block -y --gas=400000 --chain-id=space-pussy-1 --node=https://rpc.space-pussy-1.cybernode.ai:443\n",
      "code: 0\n",
      "codespace: \"\"\n",
      "data: 0A260A242F636F736D7761736D2E7761736D2E76312E4D736745786563757465436F6E7472616374\n",
      "gas_used: \"207732\"\n",
      "gas_wanted: \"400000\"\n",
      "height: \"1188805\"\n",
      "info: \"\"\n",
      "logs:\n",
      "- events:\n",
      "  - attributes:\n",
      "    - key: particleFrom\n",
      "      value: QmNbQbcUooRXS5gepU1M78qGUKE25x7aJfo6GKTEWn9amf\n",
      "    - key: particleTo\n",
      "      value: QmNr38b1jTdejyFbSFmiqYXMeULUfx11KQpNUgYaKd1Roq\n",
      "    - key: particleFrom\n",
      "      value: QmNr38b1jTdejyFbSFmiqYXMeULUfx11KQpNUgYaKd1Roq\n",
      "    - key: particleTo\n",
      "      value: QmNbQbcUooRXS5gepU1M78qGUKE25x7aJfo6GKTEWn9amf\n",
      "    - key: neuron\n",
      "      value: bostrom1ttftq90jgl6cms2y0awsatx8rnf99m2u2l6cmdtd427yg6g3myvqgsm4nu\n",
      "    type: cyberlink\n",
      "  - attributes:\n",
      "    - key: _contract_address\n",
      "      value: bostrom1ttftq90jgl6cms2y0awsatx8rnf99m2u2l6cmdtd427yg6g3myvqgsm4nu\n",
      "    type: execute\n",
      "  - attributes:\n",
      "    - key: action\n",
      "      value: /cosmwasm.wasm.v1.MsgExecuteContract\n",
      "    - key: module\n",
      "      value: wasm\n",
      "    - key: sender\n",
      "      value: bostrom135ca8hdpy9sk0ntwqzpzsvatyl48ptx5j359lz\n",
      "    type: message\n",
      "  - attributes:\n",
      "    - key: _contract_address\n",
      "      value: bostrom1ttftq90jgl6cms2y0awsatx8rnf99m2u2l6cmdtd427yg6g3myvqgsm4nu\n",
      "    - key: action\n",
      "      value: proof_address\n",
      "    - key: nickname\n",
      "      value: john16443837690\n",
      "    - key: address\n",
      "      value: 0x12e463ff81d554b29f3ecfcfd0931bede067ab8f\n",
      "    type: wasm\n",
      "  log: \"\"\n",
      "  msg_index: 0\n",
      "raw_log: '[{\"events\":[{\"type\":\"cyberlink\",\"attributes\":[{\"key\":\"particleFrom\",\"value\":\"QmNbQbcUooRXS5gepU1M78qGUKE25x7aJfo6GKTEWn9amf\"},{\"key\":\"particleTo\",\"value\":\"QmNr38b1jTdejyFbSFmiqYXMeULUfx11KQpNUgYaKd1Roq\"},{\"key\":\"particleFrom\",\"value\":\"QmNr38b1jTdejyFbSFmiqYXMeULUfx11KQpNUgYaKd1Roq\"},{\"key\":\"particleTo\",\"value\":\"QmNbQbcUooRXS5gepU1M78qGUKE25x7aJfo6GKTEWn9amf\"},{\"key\":\"neuron\",\"value\":\"bostrom1ttftq90jgl6cms2y0awsatx8rnf99m2u2l6cmdtd427yg6g3myvqgsm4nu\"}]},{\"type\":\"execute\",\"attributes\":[{\"key\":\"_contract_address\",\"value\":\"bostrom1ttftq90jgl6cms2y0awsatx8rnf99m2u2l6cmdtd427yg6g3myvqgsm4nu\"}]},{\"type\":\"message\",\"attributes\":[{\"key\":\"action\",\"value\":\"/cosmwasm.wasm.v1.MsgExecuteContract\"},{\"key\":\"module\",\"value\":\"wasm\"},{\"key\":\"sender\",\"value\":\"bostrom135ca8hdpy9sk0ntwqzpzsvatyl48ptx5j359lz\"}]},{\"type\":\"wasm\",\"attributes\":[{\"key\":\"_contract_address\",\"value\":\"bostrom1ttftq90jgl6cms2y0awsatx8rnf99m2u2l6cmdtd427yg6g3myvqgsm4nu\"},{\"key\":\"action\",\"value\":\"proof_address\"},{\"key\":\"nickname\",\"value\":\"john16443837690\"},{\"key\":\"address\",\"value\":\"0x12e463ff81d554b29f3ecfcfd0931bede067ab8f\"}]}]}]'\n",
      "timestamp: \"\"\n",
      "tx: null\n",
      "txhash: ACFDB8E039B412E2974AD640B1CB987209C09F20ED7B747735ECE8BD273BCA0A\n",
      "\n",
      "\n",
      "REGISTER='{\"proof_address\":{\"nickname\":\"john16443837690\", \"address\":\"cosmos1uj5d0u55sr2gftkp7r77sy5veedtaplsje04ax\", \"signature\":\"eyJwdWJfa2V5IjoiQWxiZDZMOEZLai80eEsyYXAwbkl2dXJGN0VwdkI0TjAvSEVJR1BMbkFrNUIiLCJzaWduYXR1cmUiOiJyRzU3SHhubjlPVER0aWNyYjZHTmlIYldkL01obXBZQUF1WGZIREdPS1VjTE9GQXY0WVlEMC80K0NNcG4xQ044N2lNT3NqckxjZ3FJSUIzZXcxSmgxdz09In0=\"}}'                 && CONTRACT=\"bostrom1ttftq90jgl6cms2y0awsatx8rnf99m2u2l6cmdtd427yg6g3myvqgsm4nu\"                 && cyber tx wasm execute $CONTRACT \"$REGISTER\" --from $WALLET --broadcast-mode block -y --gas=400000 --chain-id=space-pussy-1 --node=https://rpc.space-pussy-1.cybernode.ai:443\n",
      "code: 0\n",
      "codespace: \"\"\n",
      "data: 0A260A242F636F736D7761736D2E7761736D2E76312E4D736745786563757465436F6E7472616374\n",
      "gas_used: \"210182\"\n",
      "gas_wanted: \"400000\"\n",
      "height: \"1188806\"\n",
      "info: \"\"\n",
      "logs:\n",
      "- events:\n",
      "  - attributes:\n",
      "    - key: particleFrom\n",
      "      value: QmNbQbcUooRXS5gepU1M78qGUKE25x7aJfo6GKTEWn9amf\n",
      "    - key: particleTo\n",
      "      value: QmRwoL2x25oP4DfJBZkarVhtT5Q1EWtjr2ri5pcvSvn8So\n",
      "    - key: particleFrom\n",
      "      value: QmRwoL2x25oP4DfJBZkarVhtT5Q1EWtjr2ri5pcvSvn8So\n",
      "    - key: particleTo\n",
      "      value: QmNbQbcUooRXS5gepU1M78qGUKE25x7aJfo6GKTEWn9amf\n",
      "    - key: neuron\n",
      "      value: bostrom1ttftq90jgl6cms2y0awsatx8rnf99m2u2l6cmdtd427yg6g3myvqgsm4nu\n",
      "    type: cyberlink\n",
      "  - attributes:\n",
      "    - key: _contract_address\n",
      "      value: bostrom1ttftq90jgl6cms2y0awsatx8rnf99m2u2l6cmdtd427yg6g3myvqgsm4nu\n",
      "    type: execute\n",
      "  - attributes:\n",
      "    - key: action\n",
      "      value: /cosmwasm.wasm.v1.MsgExecuteContract\n",
      "    - key: module\n",
      "      value: wasm\n",
      "    - key: sender\n",
      "      value: bostrom135ca8hdpy9sk0ntwqzpzsvatyl48ptx5j359lz\n",
      "    type: message\n",
      "  - attributes:\n",
      "    - key: _contract_address\n",
      "      value: bostrom1ttftq90jgl6cms2y0awsatx8rnf99m2u2l6cmdtd427yg6g3myvqgsm4nu\n",
      "    - key: action\n",
      "      value: proof_address\n",
      "    - key: nickname\n",
      "      value: john16443837690\n",
      "    - key: address\n",
      "      value: cosmos1uj5d0u55sr2gftkp7r77sy5veedtaplsje04ax\n",
      "    type: wasm\n",
      "  log: \"\"\n",
      "  msg_index: 0\n",
      "raw_log: '[{\"events\":[{\"type\":\"cyberlink\",\"attributes\":[{\"key\":\"particleFrom\",\"value\":\"QmNbQbcUooRXS5gepU1M78qGUKE25x7aJfo6GKTEWn9amf\"},{\"key\":\"particleTo\",\"value\":\"QmRwoL2x25oP4DfJBZkarVhtT5Q1EWtjr2ri5pcvSvn8So\"},{\"key\":\"particleFrom\",\"value\":\"QmRwoL2x25oP4DfJBZkarVhtT5Q1EWtjr2ri5pcvSvn8So\"},{\"key\":\"particleTo\",\"value\":\"QmNbQbcUooRXS5gepU1M78qGUKE25x7aJfo6GKTEWn9amf\"},{\"key\":\"neuron\",\"value\":\"bostrom1ttftq90jgl6cms2y0awsatx8rnf99m2u2l6cmdtd427yg6g3myvqgsm4nu\"}]},{\"type\":\"execute\",\"attributes\":[{\"key\":\"_contract_address\",\"value\":\"bostrom1ttftq90jgl6cms2y0awsatx8rnf99m2u2l6cmdtd427yg6g3myvqgsm4nu\"}]},{\"type\":\"message\",\"attributes\":[{\"key\":\"action\",\"value\":\"/cosmwasm.wasm.v1.MsgExecuteContract\"},{\"key\":\"module\",\"value\":\"wasm\"},{\"key\":\"sender\",\"value\":\"bostrom135ca8hdpy9sk0ntwqzpzsvatyl48ptx5j359lz\"}]},{\"type\":\"wasm\",\"attributes\":[{\"key\":\"_contract_address\",\"value\":\"bostrom1ttftq90jgl6cms2y0awsatx8rnf99m2u2l6cmdtd427yg6g3myvqgsm4nu\"},{\"key\":\"action\",\"value\":\"proof_address\"},{\"key\":\"nickname\",\"value\":\"john16443837690\"},{\"key\":\"address\",\"value\":\"cosmos1uj5d0u55sr2gftkp7r77sy5veedtaplsje04ax\"}]}]}]'\n",
      "timestamp: \"\"\n",
      "tx: null\n",
      "txhash: EA3E5EB82ED3E23F7158476BF4F306A42F54F991487108E1AA0983F62D86107D\n",
      "\n",
      "\n"
     ]
    }
   ],
   "source": [
    "def proof_address(claim_row: pd.Series, network: str = 'ethereum', display_data: bool = False):\n",
    "    return execute_bash(\n",
    "            f'''REGISTER='{{\"proof_address\":{{\"nickname\":\"{claim_row[\"nickname\"]}\", \"address\":\"{claim_row[network + \"_address\"]}\", \"signature\":\"{claim_row[network + \"_message_signature\"]}\"}}}}' \\\n",
    "                && CONTRACT=\"{passport_contract_address}\" \\\n",
    "                && cyber tx wasm execute $CONTRACT \"$REGISTER\" --from $WALLET --broadcast-mode block -y --gas=400000 --chain-id={NETWORK} --node={NODE_URL}''',\n",
    "            display_data=display_data)\n",
    "\n",
    "for index, row in tqdm(claims_df.iterrows()):\n",
    "    if index == 1:\n",
    "        proof_address(row, display_data=True)\n",
    "        proof_address(row, network='cosmos', display_data=True)\n",
    "    else:\n",
    "        proof_address(row)\n",
    "        proof_address(row, network='cosmos', display_data=True)"
   ],
   "metadata": {
    "collapsed": false,
    "pycharm": {
     "name": "#%%\n"
    }
   }
  },
  {
   "cell_type": "markdown",
   "source": [
    "### Generate Proofs and Claim"
   ],
   "metadata": {
    "collapsed": false,
    "pycharm": {
     "name": "#%% md\n"
    }
   }
  },
  {
   "cell_type": "code",
   "execution_count": 11,
   "outputs": [
    {
     "data": {
      "text/plain": "0it [00:00, ?it/s]",
      "application/vnd.jupyter.widget-view+json": {
       "version_major": 2,
       "version_minor": 0,
       "model_id": "e4543e90d082466b8907b01fffa083de"
      }
     },
     "metadata": {},
     "output_type": "display_data"
    },
    {
     "name": "stdout",
     "output_type": "stream",
     "text": [
      "merkle-airdrop-cli generateProofs --file root_testing_source_2_addresses.json --address 0x12e463ff81d554b29f3ecfcfd0931bede067ab8f --amount 1477000\n",
      "[\n",
      "  '7158577a70cf270d0590f1960b5449f1faeaa0d8206de7e2653e6a28b864cd34',\n",
      "  '84245b794cadde296c0a5aa88e38776509cdf2ddd2971b957908cd55c1ebd8b8'\n",
      "]\n",
      "\n",
      "\n",
      "CLAIM='{\"claim\":{\"nickname\":\"john16443837690\", \"gift_claiming_address\":\"0x12e463ff81d554b29f3ecfcfd0931bede067ab8f\", \"gift_amount\":\"1477000\", \"proof\":[\"7158577a70cf270d0590f1960b5449f1faeaa0d8206de7e2653e6a28b864cd34\",\"84245b794cadde296c0a5aa88e38776509cdf2ddd2971b957908cd55c1ebd8b8\"]}}'                     && cyber tx wasm execute bostrom1hn6633cdt7xh28psanrpe6w0sask3ga6rfs02082hes0epw6r2wsn5r6nr \"$CLAIM\" --from $WALLET --broadcast-mode block -y --gas 400000 --chain-id=space-pussy-1 --node=https://rpc.space-pussy-1.cybernode.ai:443\n",
      "code: 0\n",
      "codespace: \"\"\n",
      "data: 0A260A242F636F736D7761736D2E7761736D2E76312E4D736745786563757465436F6E7472616374\n",
      "gas_used: \"309029\"\n",
      "gas_wanted: \"400000\"\n",
      "height: \"1188809\"\n",
      "info: \"\"\n",
      "logs:\n",
      "- events:\n",
      "  - attributes:\n",
      "    - key: receiver\n",
      "      value: bostrom135ca8hdpy9sk0ntwqzpzsvatyl48ptx5j359lz\n",
      "    - key: amount\n",
      "      value: 100000boot\n",
      "    type: coin_received\n",
      "  - attributes:\n",
      "    - key: spender\n",
      "      value: bostrom1hn6633cdt7xh28psanrpe6w0sask3ga6rfs02082hes0epw6r2wsn5r6nr\n",
      "    - key: amount\n",
      "      value: 100000boot\n",
      "    type: coin_spent\n",
      "  - attributes:\n",
      "    - key: _contract_address\n",
      "      value: bostrom1hn6633cdt7xh28psanrpe6w0sask3ga6rfs02082hes0epw6r2wsn5r6nr\n",
      "    type: execute\n",
      "  - attributes:\n",
      "    - key: action\n",
      "      value: /cosmwasm.wasm.v1.MsgExecuteContract\n",
      "    - key: module\n",
      "      value: wasm\n",
      "    - key: sender\n",
      "      value: bostrom135ca8hdpy9sk0ntwqzpzsvatyl48ptx5j359lz\n",
      "    type: message\n",
      "  - attributes:\n",
      "    - key: recipient\n",
      "      value: bostrom135ca8hdpy9sk0ntwqzpzsvatyl48ptx5j359lz\n",
      "    - key: sender\n",
      "      value: bostrom1hn6633cdt7xh28psanrpe6w0sask3ga6rfs02082hes0epw6r2wsn5r6nr\n",
      "    - key: amount\n",
      "      value: 100000boot\n",
      "    type: transfer\n",
      "  - attributes:\n",
      "    - key: _contract_address\n",
      "      value: bostrom1hn6633cdt7xh28psanrpe6w0sask3ga6rfs02082hes0epw6r2wsn5r6nr\n",
      "    - key: action\n",
      "      value: claim\n",
      "    - key: original\n",
      "      value: 0x12e463ff81d554b29f3ecfcfd0931bede067ab8f\n",
      "    - key: target\n",
      "      value: bostrom135ca8hdpy9sk0ntwqzpzsvatyl48ptx5j359lz\n",
      "    - key: amount\n",
      "      value: \"28231082\"\n",
      "    type: wasm\n",
      "  log: \"\"\n",
      "  msg_index: 0\n",
      "raw_log: '[{\"events\":[{\"type\":\"coin_received\",\"attributes\":[{\"key\":\"receiver\",\"value\":\"bostrom135ca8hdpy9sk0ntwqzpzsvatyl48ptx5j359lz\"},{\"key\":\"amount\",\"value\":\"100000boot\"}]},{\"type\":\"coin_spent\",\"attributes\":[{\"key\":\"spender\",\"value\":\"bostrom1hn6633cdt7xh28psanrpe6w0sask3ga6rfs02082hes0epw6r2wsn5r6nr\"},{\"key\":\"amount\",\"value\":\"100000boot\"}]},{\"type\":\"execute\",\"attributes\":[{\"key\":\"_contract_address\",\"value\":\"bostrom1hn6633cdt7xh28psanrpe6w0sask3ga6rfs02082hes0epw6r2wsn5r6nr\"}]},{\"type\":\"message\",\"attributes\":[{\"key\":\"action\",\"value\":\"/cosmwasm.wasm.v1.MsgExecuteContract\"},{\"key\":\"module\",\"value\":\"wasm\"},{\"key\":\"sender\",\"value\":\"bostrom135ca8hdpy9sk0ntwqzpzsvatyl48ptx5j359lz\"}]},{\"type\":\"transfer\",\"attributes\":[{\"key\":\"recipient\",\"value\":\"bostrom135ca8hdpy9sk0ntwqzpzsvatyl48ptx5j359lz\"},{\"key\":\"sender\",\"value\":\"bostrom1hn6633cdt7xh28psanrpe6w0sask3ga6rfs02082hes0epw6r2wsn5r6nr\"},{\"key\":\"amount\",\"value\":\"100000boot\"}]},{\"type\":\"wasm\",\"attributes\":[{\"key\":\"_contract_address\",\"value\":\"bostrom1hn6633cdt7xh28psanrpe6w0sask3ga6rfs02082hes0epw6r2wsn5r6nr\"},{\"key\":\"action\",\"value\":\"claim\"},{\"key\":\"original\",\"value\":\"0x12e463ff81d554b29f3ecfcfd0931bede067ab8f\"},{\"key\":\"target\",\"value\":\"bostrom135ca8hdpy9sk0ntwqzpzsvatyl48ptx5j359lz\"},{\"key\":\"amount\",\"value\":\"28231082\"}]}]}]'\n",
      "timestamp: \"\"\n",
      "tx: null\n",
      "txhash: 34DD4D41089F16A55965E643DF5ABA1EB64D6E1EE1E8F125829A1D23A6111C9C\n",
      "\n",
      "\n",
      "merkle-airdrop-cli generateProofs --file root_testing_source_2_addresses.json --address cosmos1uj5d0u55sr2gftkp7r77sy5veedtaplsje04ax --amount 1477000\n",
      "[\n",
      "  'd3a0b28fde88981932000908e10d412191743e31a9c0b6435c47337fc624f4eb',\n",
      "  '84245b794cadde296c0a5aa88e38776509cdf2ddd2971b957908cd55c1ebd8b8'\n",
      "]\n",
      "\n",
      "\n",
      "CLAIM='{\"claim\":{\"nickname\":\"john16443837690\", \"gift_claiming_address\":\"cosmos1uj5d0u55sr2gftkp7r77sy5veedtaplsje04ax\", \"gift_amount\":\"1477000\", \"proof\":[\"d3a0b28fde88981932000908e10d412191743e31a9c0b6435c47337fc624f4eb\",\"84245b794cadde296c0a5aa88e38776509cdf2ddd2971b957908cd55c1ebd8b8\"]}}'                     && cyber tx wasm execute bostrom1hn6633cdt7xh28psanrpe6w0sask3ga6rfs02082hes0epw6r2wsn5r6nr \"$CLAIM\" --from $WALLET --broadcast-mode block -y --gas 400000 --chain-id=space-pussy-1 --node=https://rpc.space-pussy-1.cybernode.ai:443\n",
      "code: 0\n",
      "codespace: \"\"\n",
      "data: 0A260A242F636F736D7761736D2E7761736D2E76312E4D736745786563757465436F6E7472616374\n",
      "gas_used: \"309112\"\n",
      "gas_wanted: \"400000\"\n",
      "height: \"1188810\"\n",
      "info: \"\"\n",
      "logs:\n",
      "- events:\n",
      "  - attributes:\n",
      "    - key: receiver\n",
      "      value: bostrom135ca8hdpy9sk0ntwqzpzsvatyl48ptx5j359lz\n",
      "    - key: amount\n",
      "      value: 100000boot\n",
      "    type: coin_received\n",
      "  - attributes:\n",
      "    - key: spender\n",
      "      value: bostrom1hn6633cdt7xh28psanrpe6w0sask3ga6rfs02082hes0epw6r2wsn5r6nr\n",
      "    - key: amount\n",
      "      value: 100000boot\n",
      "    type: coin_spent\n",
      "  - attributes:\n",
      "    - key: _contract_address\n",
      "      value: bostrom1hn6633cdt7xh28psanrpe6w0sask3ga6rfs02082hes0epw6r2wsn5r6nr\n",
      "    type: execute\n",
      "  - attributes:\n",
      "    - key: action\n",
      "      value: /cosmwasm.wasm.v1.MsgExecuteContract\n",
      "    - key: module\n",
      "      value: wasm\n",
      "    - key: sender\n",
      "      value: bostrom135ca8hdpy9sk0ntwqzpzsvatyl48ptx5j359lz\n",
      "    type: message\n",
      "  - attributes:\n",
      "    - key: recipient\n",
      "      value: bostrom135ca8hdpy9sk0ntwqzpzsvatyl48ptx5j359lz\n",
      "    - key: sender\n",
      "      value: bostrom1hn6633cdt7xh28psanrpe6w0sask3ga6rfs02082hes0epw6r2wsn5r6nr\n",
      "    - key: amount\n",
      "      value: 100000boot\n",
      "    type: transfer\n",
      "  - attributes:\n",
      "    - key: _contract_address\n",
      "      value: bostrom1hn6633cdt7xh28psanrpe6w0sask3ga6rfs02082hes0epw6r2wsn5r6nr\n",
      "    - key: action\n",
      "      value: claim\n",
      "    - key: original\n",
      "      value: cosmos1uj5d0u55sr2gftkp7r77sy5veedtaplsje04ax\n",
      "    - key: target\n",
      "      value: bostrom135ca8hdpy9sk0ntwqzpzsvatyl48ptx5j359lz\n",
      "    - key: amount\n",
      "      value: \"27591123\"\n",
      "    type: wasm\n",
      "  log: \"\"\n",
      "  msg_index: 0\n",
      "raw_log: '[{\"events\":[{\"type\":\"coin_received\",\"attributes\":[{\"key\":\"receiver\",\"value\":\"bostrom135ca8hdpy9sk0ntwqzpzsvatyl48ptx5j359lz\"},{\"key\":\"amount\",\"value\":\"100000boot\"}]},{\"type\":\"coin_spent\",\"attributes\":[{\"key\":\"spender\",\"value\":\"bostrom1hn6633cdt7xh28psanrpe6w0sask3ga6rfs02082hes0epw6r2wsn5r6nr\"},{\"key\":\"amount\",\"value\":\"100000boot\"}]},{\"type\":\"execute\",\"attributes\":[{\"key\":\"_contract_address\",\"value\":\"bostrom1hn6633cdt7xh28psanrpe6w0sask3ga6rfs02082hes0epw6r2wsn5r6nr\"}]},{\"type\":\"message\",\"attributes\":[{\"key\":\"action\",\"value\":\"/cosmwasm.wasm.v1.MsgExecuteContract\"},{\"key\":\"module\",\"value\":\"wasm\"},{\"key\":\"sender\",\"value\":\"bostrom135ca8hdpy9sk0ntwqzpzsvatyl48ptx5j359lz\"}]},{\"type\":\"transfer\",\"attributes\":[{\"key\":\"recipient\",\"value\":\"bostrom135ca8hdpy9sk0ntwqzpzsvatyl48ptx5j359lz\"},{\"key\":\"sender\",\"value\":\"bostrom1hn6633cdt7xh28psanrpe6w0sask3ga6rfs02082hes0epw6r2wsn5r6nr\"},{\"key\":\"amount\",\"value\":\"100000boot\"}]},{\"type\":\"wasm\",\"attributes\":[{\"key\":\"_contract_address\",\"value\":\"bostrom1hn6633cdt7xh28psanrpe6w0sask3ga6rfs02082hes0epw6r2wsn5r6nr\"},{\"key\":\"action\",\"value\":\"claim\"},{\"key\":\"original\",\"value\":\"cosmos1uj5d0u55sr2gftkp7r77sy5veedtaplsje04ax\"},{\"key\":\"target\",\"value\":\"bostrom135ca8hdpy9sk0ntwqzpzsvatyl48ptx5j359lz\"},{\"key\":\"amount\",\"value\":\"27591123\"}]}]}]'\n",
      "timestamp: \"\"\n",
      "tx: null\n",
      "txhash: 8EABB8EE3F6D707AEAEF2E7F0B542AA0C393DD8ECA7976493310D1A0D7B1FE37\n",
      "\n",
      "\n"
     ]
    }
   ],
   "source": [
    "def generate_proof_and_claim(claim_row: pd.Series, network: str = 'ethereum', display_data: bool = False):\n",
    "    proof_output, _ = execute_bash(f'merkle-airdrop-cli generateProofs --file {ROOT_SOURCE_FILE_NAME} --address {claim_row[network + \"_address\"]} --amount {claim_row.amount}',\n",
    "                                   display_data=display_data)\n",
    "    proof = proof_output.replace('\\n','').replace(\" \",'').replace(\"'\", '\"')\n",
    "    return execute_bash(\n",
    "                f'''CLAIM='{{\"claim\":{{\"nickname\":\"{claim_row['nickname']}\", \"gift_claiming_address\":\"{claim_row[network + \"_address\"]}\", \"gift_amount\":\"{claim_row.amount}\", \"proof\":{proof}}}}}' \\\n",
    "                    && cyber tx wasm execute {gift_contract_address} \"$CLAIM\" --from $WALLET --broadcast-mode block -y --gas 400000 --chain-id={NETWORK} --node={NODE_URL}''',\n",
    "                display_data=display_data)\n",
    "\n",
    "for index, row in tqdm(claims_df.iterrows()):\n",
    "    if index == 1:\n",
    "        generate_proof_and_claim(row, display_data=True)\n",
    "        generate_proof_and_claim(row, network='cosmos', display_data=True)\n",
    "    else:\n",
    "        generate_proof_and_claim(row)\n",
    "        generate_proof_and_claim(row, network='cosmos')"
   ],
   "metadata": {
    "collapsed": false,
    "pycharm": {
     "name": "#%%\n"
    }
   }
  },
  {
   "cell_type": "markdown",
   "source": [
    "### Release Gift"
   ],
   "metadata": {
    "collapsed": false,
    "pycharm": {
     "name": "#%% md\n"
    }
   },
   "execution_count": 11
  },
  {
   "cell_type": "code",
   "execution_count": 13,
   "outputs": [
    {
     "data": {
      "text/plain": "0it [00:00, ?it/s]",
      "application/vnd.jupyter.widget-view+json": {
       "version_major": 2,
       "version_minor": 0,
       "model_id": "bf998ee44ad74c1c8a0e7f8f83e091bc"
      }
     },
     "metadata": {},
     "output_type": "display_data"
    },
    {
     "name": "stdout",
     "output_type": "stream",
     "text": [
      "CLAIM='{\"release\":{\"gift_address\":\"0x12e463ff81d554b29f3ecfcfd0931bede067ab8f\"}}'                     && cyber tx wasm execute bostrom1hn6633cdt7xh28psanrpe6w0sask3ga6rfs02082hes0epw6r2wsn5r6nr \"$CLAIM\" --from $WALLET --broadcast-mode block -y --gas 400000 --chain-id=space-pussy-1 --node=https://rpc.space-pussy-1.cybernode.ai:443\n",
      "code: 0\n",
      "codespace: \"\"\n",
      "data: 0A260A242F636F736D7761736D2E7761736D2E76312E4D736745786563757465436F6E7472616374\n",
      "gas_used: \"159137\"\n",
      "gas_wanted: \"400000\"\n",
      "height: \"1188900\"\n",
      "info: \"\"\n",
      "logs:\n",
      "- events:\n",
      "  - attributes:\n",
      "    - key: receiver\n",
      "      value: bostrom135ca8hdpy9sk0ntwqzpzsvatyl48ptx5j359lz\n",
      "    - key: amount\n",
      "      value: 2813108boot\n",
      "    type: coin_received\n",
      "  - attributes:\n",
      "    - key: spender\n",
      "      value: bostrom1hn6633cdt7xh28psanrpe6w0sask3ga6rfs02082hes0epw6r2wsn5r6nr\n",
      "    - key: amount\n",
      "      value: 2813108boot\n",
      "    type: coin_spent\n",
      "  - attributes:\n",
      "    - key: _contract_address\n",
      "      value: bostrom1hn6633cdt7xh28psanrpe6w0sask3ga6rfs02082hes0epw6r2wsn5r6nr\n",
      "    type: execute\n",
      "  - attributes:\n",
      "    - key: action\n",
      "      value: /cosmwasm.wasm.v1.MsgExecuteContract\n",
      "    - key: module\n",
      "      value: wasm\n",
      "    - key: sender\n",
      "      value: bostrom135ca8hdpy9sk0ntwqzpzsvatyl48ptx5j359lz\n",
      "    type: message\n",
      "  - attributes:\n",
      "    - key: recipient\n",
      "      value: bostrom135ca8hdpy9sk0ntwqzpzsvatyl48ptx5j359lz\n",
      "    - key: sender\n",
      "      value: bostrom1hn6633cdt7xh28psanrpe6w0sask3ga6rfs02082hes0epw6r2wsn5r6nr\n",
      "    - key: amount\n",
      "      value: 2813108boot\n",
      "    type: transfer\n",
      "  - attributes:\n",
      "    - key: _contract_address\n",
      "      value: bostrom1hn6633cdt7xh28psanrpe6w0sask3ga6rfs02082hes0epw6r2wsn5r6nr\n",
      "    - key: action\n",
      "      value: release\n",
      "    - key: address\n",
      "      value: bostrom135ca8hdpy9sk0ntwqzpzsvatyl48ptx5j359lz\n",
      "    - key: gift_address\n",
      "      value: 0x12e463ff81d554b29f3ecfcfd0931bede067ab8f\n",
      "    - key: stage\n",
      "      value: \"9\"\n",
      "    - key: amount\n",
      "      value: \"2813108\"\n",
      "    type: wasm\n",
      "  log: \"\"\n",
      "  msg_index: 0\n",
      "raw_log: '[{\"events\":[{\"type\":\"coin_received\",\"attributes\":[{\"key\":\"receiver\",\"value\":\"bostrom135ca8hdpy9sk0ntwqzpzsvatyl48ptx5j359lz\"},{\"key\":\"amount\",\"value\":\"2813108boot\"}]},{\"type\":\"coin_spent\",\"attributes\":[{\"key\":\"spender\",\"value\":\"bostrom1hn6633cdt7xh28psanrpe6w0sask3ga6rfs02082hes0epw6r2wsn5r6nr\"},{\"key\":\"amount\",\"value\":\"2813108boot\"}]},{\"type\":\"execute\",\"attributes\":[{\"key\":\"_contract_address\",\"value\":\"bostrom1hn6633cdt7xh28psanrpe6w0sask3ga6rfs02082hes0epw6r2wsn5r6nr\"}]},{\"type\":\"message\",\"attributes\":[{\"key\":\"action\",\"value\":\"/cosmwasm.wasm.v1.MsgExecuteContract\"},{\"key\":\"module\",\"value\":\"wasm\"},{\"key\":\"sender\",\"value\":\"bostrom135ca8hdpy9sk0ntwqzpzsvatyl48ptx5j359lz\"}]},{\"type\":\"transfer\",\"attributes\":[{\"key\":\"recipient\",\"value\":\"bostrom135ca8hdpy9sk0ntwqzpzsvatyl48ptx5j359lz\"},{\"key\":\"sender\",\"value\":\"bostrom1hn6633cdt7xh28psanrpe6w0sask3ga6rfs02082hes0epw6r2wsn5r6nr\"},{\"key\":\"amount\",\"value\":\"2813108boot\"}]},{\"type\":\"wasm\",\"attributes\":[{\"key\":\"_contract_address\",\"value\":\"bostrom1hn6633cdt7xh28psanrpe6w0sask3ga6rfs02082hes0epw6r2wsn5r6nr\"},{\"key\":\"action\",\"value\":\"release\"},{\"key\":\"address\",\"value\":\"bostrom135ca8hdpy9sk0ntwqzpzsvatyl48ptx5j359lz\"},{\"key\":\"gift_address\",\"value\":\"0x12e463ff81d554b29f3ecfcfd0931bede067ab8f\"},{\"key\":\"stage\",\"value\":\"9\"},{\"key\":\"amount\",\"value\":\"2813108\"}]}]}]'\n",
      "timestamp: \"\"\n",
      "tx: null\n",
      "txhash: 68CB072A6AAA5926BEAFFE1196B498247E2125F91166C4541A7FE57A6E99E6CA\n",
      "\n",
      "\n",
      "CLAIM='{\"release\":{\"gift_address\":\"cosmos1uj5d0u55sr2gftkp7r77sy5veedtaplsje04ax\"}}'                     && cyber tx wasm execute bostrom1hn6633cdt7xh28psanrpe6w0sask3ga6rfs02082hes0epw6r2wsn5r6nr \"$CLAIM\" --from $WALLET --broadcast-mode block -y --gas 400000 --chain-id=space-pussy-1 --node=https://rpc.space-pussy-1.cybernode.ai:443\n",
      "code: 0\n",
      "codespace: \"\"\n",
      "data: 0A260A242F636F736D7761736D2E7761736D2E76312E4D736745786563757465436F6E7472616374\n",
      "gas_used: \"159204\"\n",
      "gas_wanted: \"400000\"\n",
      "height: \"1188901\"\n",
      "info: \"\"\n",
      "logs:\n",
      "- events:\n",
      "  - attributes:\n",
      "    - key: receiver\n",
      "      value: bostrom135ca8hdpy9sk0ntwqzpzsvatyl48ptx5j359lz\n",
      "    - key: amount\n",
      "      value: 2749112boot\n",
      "    type: coin_received\n",
      "  - attributes:\n",
      "    - key: spender\n",
      "      value: bostrom1hn6633cdt7xh28psanrpe6w0sask3ga6rfs02082hes0epw6r2wsn5r6nr\n",
      "    - key: amount\n",
      "      value: 2749112boot\n",
      "    type: coin_spent\n",
      "  - attributes:\n",
      "    - key: _contract_address\n",
      "      value: bostrom1hn6633cdt7xh28psanrpe6w0sask3ga6rfs02082hes0epw6r2wsn5r6nr\n",
      "    type: execute\n",
      "  - attributes:\n",
      "    - key: action\n",
      "      value: /cosmwasm.wasm.v1.MsgExecuteContract\n",
      "    - key: module\n",
      "      value: wasm\n",
      "    - key: sender\n",
      "      value: bostrom135ca8hdpy9sk0ntwqzpzsvatyl48ptx5j359lz\n",
      "    type: message\n",
      "  - attributes:\n",
      "    - key: recipient\n",
      "      value: bostrom135ca8hdpy9sk0ntwqzpzsvatyl48ptx5j359lz\n",
      "    - key: sender\n",
      "      value: bostrom1hn6633cdt7xh28psanrpe6w0sask3ga6rfs02082hes0epw6r2wsn5r6nr\n",
      "    - key: amount\n",
      "      value: 2749112boot\n",
      "    type: transfer\n",
      "  - attributes:\n",
      "    - key: _contract_address\n",
      "      value: bostrom1hn6633cdt7xh28psanrpe6w0sask3ga6rfs02082hes0epw6r2wsn5r6nr\n",
      "    - key: action\n",
      "      value: release\n",
      "    - key: address\n",
      "      value: bostrom135ca8hdpy9sk0ntwqzpzsvatyl48ptx5j359lz\n",
      "    - key: gift_address\n",
      "      value: cosmos1uj5d0u55sr2gftkp7r77sy5veedtaplsje04ax\n",
      "    - key: stage\n",
      "      value: \"9\"\n",
      "    - key: amount\n",
      "      value: \"2749112\"\n",
      "    type: wasm\n",
      "  log: \"\"\n",
      "  msg_index: 0\n",
      "raw_log: '[{\"events\":[{\"type\":\"coin_received\",\"attributes\":[{\"key\":\"receiver\",\"value\":\"bostrom135ca8hdpy9sk0ntwqzpzsvatyl48ptx5j359lz\"},{\"key\":\"amount\",\"value\":\"2749112boot\"}]},{\"type\":\"coin_spent\",\"attributes\":[{\"key\":\"spender\",\"value\":\"bostrom1hn6633cdt7xh28psanrpe6w0sask3ga6rfs02082hes0epw6r2wsn5r6nr\"},{\"key\":\"amount\",\"value\":\"2749112boot\"}]},{\"type\":\"execute\",\"attributes\":[{\"key\":\"_contract_address\",\"value\":\"bostrom1hn6633cdt7xh28psanrpe6w0sask3ga6rfs02082hes0epw6r2wsn5r6nr\"}]},{\"type\":\"message\",\"attributes\":[{\"key\":\"action\",\"value\":\"/cosmwasm.wasm.v1.MsgExecuteContract\"},{\"key\":\"module\",\"value\":\"wasm\"},{\"key\":\"sender\",\"value\":\"bostrom135ca8hdpy9sk0ntwqzpzsvatyl48ptx5j359lz\"}]},{\"type\":\"transfer\",\"attributes\":[{\"key\":\"recipient\",\"value\":\"bostrom135ca8hdpy9sk0ntwqzpzsvatyl48ptx5j359lz\"},{\"key\":\"sender\",\"value\":\"bostrom1hn6633cdt7xh28psanrpe6w0sask3ga6rfs02082hes0epw6r2wsn5r6nr\"},{\"key\":\"amount\",\"value\":\"2749112boot\"}]},{\"type\":\"wasm\",\"attributes\":[{\"key\":\"_contract_address\",\"value\":\"bostrom1hn6633cdt7xh28psanrpe6w0sask3ga6rfs02082hes0epw6r2wsn5r6nr\"},{\"key\":\"action\",\"value\":\"release\"},{\"key\":\"address\",\"value\":\"bostrom135ca8hdpy9sk0ntwqzpzsvatyl48ptx5j359lz\"},{\"key\":\"gift_address\",\"value\":\"cosmos1uj5d0u55sr2gftkp7r77sy5veedtaplsje04ax\"},{\"key\":\"stage\",\"value\":\"9\"},{\"key\":\"amount\",\"value\":\"2749112\"}]}]}]'\n",
      "timestamp: \"\"\n",
      "tx: null\n",
      "txhash: 36E1803CB6680550504FABBF9038B3D5D534D1938C3D6BA68C0A1EC469CFC100\n",
      "\n",
      "\n"
     ]
    }
   ],
   "source": [
    "def release(claim_row: pd.Series, network: str = 'ethereum', display_data: bool = False):\n",
    "    return execute_bash(\n",
    "                f'''CLAIM='{{\"release\":{{\"gift_address\":\"{claim_row[network + \"_address\"]}\"}}}}' \\\n",
    "                    && cyber tx wasm execute {gift_contract_address} \"$CLAIM\" --from $WALLET --broadcast-mode block -y --gas 400000 --chain-id={NETWORK} --node={NODE_URL}''',\n",
    "                display_data=display_data)\n",
    "\n",
    "for index, row in tqdm(claims_df.iterrows()):\n",
    "    if index == 1:\n",
    "        release(row, display_data=True)\n",
    "        release(row, network='cosmos', display_data=True)\n",
    "    else:\n",
    "        release(row)\n",
    "        release(row, network='cosmos')\n"
   ],
   "metadata": {
    "collapsed": false,
    "pycharm": {
     "name": "#%%\n"
    }
   }
  },
  {
   "cell_type": "code",
   "execution_count": null,
   "outputs": [],
   "source": [],
   "metadata": {
    "collapsed": false,
    "pycharm": {
     "name": "#%%\n"
    }
   }
  }
 ],
 "metadata": {
  "kernelspec": {
   "display_name": "Python 3",
   "language": "python",
   "name": "python3"
  },
  "language_info": {
   "codemirror_mode": {
    "name": "ipython",
    "version": 2
   },
   "file_extension": ".py",
   "mimetype": "text/x-python",
   "name": "python",
   "nbconvert_exporter": "python",
   "pygments_lexer": "ipython2",
   "version": "2.7.6"
  }
 },
 "nbformat": 4,
 "nbformat_minor": 0
}