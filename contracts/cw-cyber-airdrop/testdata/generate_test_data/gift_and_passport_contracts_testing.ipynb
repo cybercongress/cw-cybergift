{
 "cells": [
  {
   "cell_type": "markdown",
   "metadata": {
    "collapsed": true,
    "pycharm": {
     "name": "#%% md\n"
    }
   },
   "source": [
    "## Gift Contract Testing"
   ]
  },
  {
   "cell_type": "code",
   "source": [
    "from web3.auto import w3\n",
    "import pandas as pd\n",
    "from cyberpy import generate_wallet, address_to_address\n",
    "from cyberpy._message_signer import Message\n",
    "from cyberpy._wallet import seed_to_privkey\n",
    "from eth_account.messages import encode_defunct\n",
    "import json\n",
    "import os\n",
    "from time import time\n",
    "import ipfshttpclient\n",
    "from tqdm.notebook import tqdm\n",
    "from base64 import b64encode\n",
    "\n",
    "from contract_utils import execute_bash, instantiate_contract, execute_contract, query_contract, get_ipfs_cid_from_str\n",
    "\n",
    "\n",
    "ipfs_client = ipfshttpclient.connect()\n",
    "\n",
    "NUMBER_OF_PARTICIPANTS = 3\n",
    "NUMBER_OF_ACTIVATED_PARTICIPANTS = 2\n",
    "KEY_PHRASE = 'KEY PHRASE'\n",
    "NICKNAME_LIST = [f'john{round(time())}{number}' for number in range(NUMBER_OF_PARTICIPANTS)]\n",
    "AVATAR_CID_LIST = [get_ipfs_cid_from_str(_nickname + '_avatar') for _nickname in NICKNAME_LIST]\n",
    "CLAIM_AMOUNT_LIST = [1_000_000] * NUMBER_OF_PARTICIPANTS\n",
    "\n",
    "INITIAL_BALANCE = str(1_000_000_000)\n",
    "COEF_UP = str(20)\n",
    "COEF_DOWN = str(5)\n",
    "TARGET_CLAIM = str(2)\n",
    "\n",
    "WALLET_ADDRESS = os.getenv('WALLET_ADDRESS')\n",
    "DISPLAY_TX_EXECUTION = False\n",
    "\n",
    "INIT_SUBGRAPH_CONTRACTS = False\n",
    "SUBGRAPH_CODE_ID = str(40)\n",
    "NAME_SUBGRAPH_CONTRACT_ADDRESS = 'bostrom1rncw9n73gm30vhrv6e4p603hav0gue8y5y9fgqa84k4atf5pqvfqcrnpl6'\n",
    "AVATAR_SUBGRAPH_CONTRACT_ADDRESS = 'bostrom164w2vl7z7lpuvex6z3ru0v55fgq3dmvxuqt0aejp49w7fyc8g6kshreggq'\n",
    "PROOF_SUBGRAPH_CONTRACT_ADDRESS = 'bostrom1543j9n7slzff3curyac7ylf2ctg7rk9zjf9ehj08eqx57xj33zzqdy6ga4'\n",
    "\n",
    "INIT_PASSPORT_CONTRACT = False\n",
    "PASSPORT_CODE_ID = str(25)\n",
    "PASSPORT_CONTRACT_ADDRESS = 'bostrom15hzg7eaxgs6ecn46gmu4juc9tau2w45l9cnf8n0797nmmtkdv7jscv88ra'\n",
    "\n",
    "INIT_GIFT_CONTRACT = True\n",
    "GIFT_CODE_ID = str(20)\n",
    "GIFT_CONTRACT_ADDRESS = 'bostrom1rt2acjyhs4jfjdq56pftpu7762hy9gfl63je6fnhwrc5p5y4kmuqxg0262'\n",
    "\n",
    "ROOT_SOURCE_FILE_NAME = 'root_testing_source_' + str(NUMBER_OF_PARTICIPANTS) + '_addresses.json'\n",
    "PROOF_FILE_NAME = 'proof_testing_source_' + str(NUMBER_OF_PARTICIPANTS) + '_addresses.json'\n",
    "ROOT_FILE_NAME = 'root_testing_' + str(NUMBER_OF_PARTICIPANTS) + '_addresses'"
   ],
   "metadata": {
    "collapsed": false,
    "pycharm": {
     "name": "#%%\n"
    }
   },
   "execution_count": 1,
   "outputs": [
    {
     "name": "stderr",
     "output_type": "stream",
     "text": [
      "/Users/sergenedashkovsky/Library/Python/3.8/lib/python/site-packages/ipfshttpclient/client/__init__.py:75: VersionMismatch: Unsupported daemon version '0.10.0' (not in range: 0.5.0 ≤ … < 0.9.0)\n",
      "  warnings.warn(exceptions.VersionMismatch(version, minimum, maximum))\n"
     ]
    }
   ]
  },
  {
   "cell_type": "markdown",
   "source": [
    "### Generate addresses and sign messages"
   ],
   "metadata": {
    "collapsed": false,
    "pycharm": {
     "name": "#%% md\n"
    }
   }
  },
  {
   "cell_type": "code",
   "execution_count": 2,
   "outputs": [
    {
     "data": {
      "text/plain": "    amount         nickname                                          avatar  \\\n0  1000000  john16474127780  QmZVpc2G8oV5ghDoWsVC8znfn1EjgiAvGrYS3KfNLymsrp   \n1  1000000  john16474127781  QmX7VAaprn4xonSTt1d51K7Uf71ZfnkJzajgpdZ3HpE4oD   \n2  1000000  john16474127782  QmcCbZ86xHNaa2cgSvN5JmcFAvYxB9GdmggQUGPGxFBos6   \n\n                             ethereum_address  \\\n0  0x4878aae4c66be69d15c590dac467692337e5b0cf   \n1  0x744443c73710d15eb9970ce7ebf470d36569176b   \n2  0x15720b613d56c03d0a2a7f0690ff21fbcc03f9b4   \n\n                                ethereum_private_key  \\\n0  0x2ca0986d548ab75ad252cbe701d7393df117468ba5e4...   \n1  0x0d2abf8b07d08932a44f6fe95b729a6b3651f6d07616...   \n2  0xbc5fce7dfbe0d75c0044109ba5fd5b9f8513b7603a31...   \n\n                                  bostrom_address  \\\n0  bostrom1aw9qyjhmm8krtggpx728uutegazlq3lwajtkrk   \n1  bostrom1z55mxwhr9j287hzt60y90mvueyrs3480uwent8   \n2  bostrom1f3wzccz56d8c48tuldchxf57878kx88wc8jhvh   \n\n                                  cosmos_address  \\\n0  cosmos1aw9qyjhmm8krtggpx728uutegazlq3lw7pl9a3   \n1  cosmos1z55mxwhr9j287hzt60y90mvueyrs3480ladq4q   \n2  cosmos1f3wzccz56d8c48tuldchxf57878kx88wm5xyjs   \n\n                                         cosmos_seed  \\\n0  success clog skill length already armed entry ...   \n1  village have emotion large august merry escape...   \n2  dress tobacco ignore cinnamon party isolate ca...   \n\n                                             message  \\\n0  bostrom135ca8hdpy9sk0ntwqzpzsvatyl48ptx5j359lz...   \n1  bostrom135ca8hdpy9sk0ntwqzpzsvatyl48ptx5j359lz...   \n2  bostrom135ca8hdpy9sk0ntwqzpzsvatyl48ptx5j359lz...   \n\n                          ethereum_message_signature  \\\n0  0x6a1a572b734e7626e85cc33fccf5db6e3c7b8ccc05f3...   \n1  0x7631668215a5b300662228dafa47f08d87c797a4ea09...   \n2  0x342d548d44fd16875b7e91b2427a4aa33108f5633647...   \n\n                           cosmos_message_signed_row  \\\n0  {'pub_key': 'AiPJ68b+MkLs9faOtLGNOOEK23SduB41Z...   \n1  {'pub_key': 'AkkM9ngmwB05rEDTAaAUMz8C3oR1GqKXm...   \n2  {'pub_key': 'A0gTMu4ihLFsg/gDG7e5uAD5BLrmGUe6B...   \n\n                            cosmos_message_signature  \n0  eyJwdWJfa2V5IjoiQWlQSjY4YitNa0xzOWZhT3RMR05PT0...  \n1  eyJwdWJfa2V5IjoiQWtrTTluZ213QjA1ckVEVEFhQVVNej...  \n2  eyJwdWJfa2V5IjoiQTBnVE11NGloTEZzZy9nREc3ZTV1QU...  ",
      "text/html": "<div>\n<style scoped>\n    .dataframe tbody tr th:only-of-type {\n        vertical-align: middle;\n    }\n\n    .dataframe tbody tr th {\n        vertical-align: top;\n    }\n\n    .dataframe thead th {\n        text-align: right;\n    }\n</style>\n<table border=\"1\" class=\"dataframe\">\n  <thead>\n    <tr style=\"text-align: right;\">\n      <th></th>\n      <th>amount</th>\n      <th>nickname</th>\n      <th>avatar</th>\n      <th>ethereum_address</th>\n      <th>ethereum_private_key</th>\n      <th>bostrom_address</th>\n      <th>cosmos_address</th>\n      <th>cosmos_seed</th>\n      <th>message</th>\n      <th>ethereum_message_signature</th>\n      <th>cosmos_message_signed_row</th>\n      <th>cosmos_message_signature</th>\n    </tr>\n  </thead>\n  <tbody>\n    <tr>\n      <th>0</th>\n      <td>1000000</td>\n      <td>john16474127780</td>\n      <td>QmZVpc2G8oV5ghDoWsVC8znfn1EjgiAvGrYS3KfNLymsrp</td>\n      <td>0x4878aae4c66be69d15c590dac467692337e5b0cf</td>\n      <td>0x2ca0986d548ab75ad252cbe701d7393df117468ba5e4...</td>\n      <td>bostrom1aw9qyjhmm8krtggpx728uutegazlq3lwajtkrk</td>\n      <td>cosmos1aw9qyjhmm8krtggpx728uutegazlq3lw7pl9a3</td>\n      <td>success clog skill length already armed entry ...</td>\n      <td>bostrom135ca8hdpy9sk0ntwqzpzsvatyl48ptx5j359lz...</td>\n      <td>0x6a1a572b734e7626e85cc33fccf5db6e3c7b8ccc05f3...</td>\n      <td>{'pub_key': 'AiPJ68b+MkLs9faOtLGNOOEK23SduB41Z...</td>\n      <td>eyJwdWJfa2V5IjoiQWlQSjY4YitNa0xzOWZhT3RMR05PT0...</td>\n    </tr>\n    <tr>\n      <th>1</th>\n      <td>1000000</td>\n      <td>john16474127781</td>\n      <td>QmX7VAaprn4xonSTt1d51K7Uf71ZfnkJzajgpdZ3HpE4oD</td>\n      <td>0x744443c73710d15eb9970ce7ebf470d36569176b</td>\n      <td>0x0d2abf8b07d08932a44f6fe95b729a6b3651f6d07616...</td>\n      <td>bostrom1z55mxwhr9j287hzt60y90mvueyrs3480uwent8</td>\n      <td>cosmos1z55mxwhr9j287hzt60y90mvueyrs3480ladq4q</td>\n      <td>village have emotion large august merry escape...</td>\n      <td>bostrom135ca8hdpy9sk0ntwqzpzsvatyl48ptx5j359lz...</td>\n      <td>0x7631668215a5b300662228dafa47f08d87c797a4ea09...</td>\n      <td>{'pub_key': 'AkkM9ngmwB05rEDTAaAUMz8C3oR1GqKXm...</td>\n      <td>eyJwdWJfa2V5IjoiQWtrTTluZ213QjA1ckVEVEFhQVVNej...</td>\n    </tr>\n    <tr>\n      <th>2</th>\n      <td>1000000</td>\n      <td>john16474127782</td>\n      <td>QmcCbZ86xHNaa2cgSvN5JmcFAvYxB9GdmggQUGPGxFBos6</td>\n      <td>0x15720b613d56c03d0a2a7f0690ff21fbcc03f9b4</td>\n      <td>0xbc5fce7dfbe0d75c0044109ba5fd5b9f8513b7603a31...</td>\n      <td>bostrom1f3wzccz56d8c48tuldchxf57878kx88wc8jhvh</td>\n      <td>cosmos1f3wzccz56d8c48tuldchxf57878kx88wm5xyjs</td>\n      <td>dress tobacco ignore cinnamon party isolate ca...</td>\n      <td>bostrom135ca8hdpy9sk0ntwqzpzsvatyl48ptx5j359lz...</td>\n      <td>0x342d548d44fd16875b7e91b2427a4aa33108f5633647...</td>\n      <td>{'pub_key': 'A0gTMu4ihLFsg/gDG7e5uAD5BLrmGUe6B...</td>\n      <td>eyJwdWJfa2V5IjoiQTBnVE11NGloTEZzZy9nREc3ZTV1QU...</td>\n    </tr>\n  </tbody>\n</table>\n</div>"
     },
     "execution_count": 2,
     "metadata": {},
     "output_type": "execute_result"
    }
   ],
   "source": [
    "claims_list = []\n",
    "for i in tqdm(range(NUMBER_OF_PARTICIPANTS)):\n",
    "    claim_item = {'amount': CLAIM_AMOUNT_LIST[i],\n",
    "                  'nickname': NICKNAME_LIST[i],\n",
    "                  'avatar': AVATAR_CID_LIST[i]}\n",
    "\n",
    "    # Generate Ethereum wallet\n",
    "    ethereum_wallet = w3.eth.account.create(KEY_PHRASE)\n",
    "    claim_item['ethereum_address'] = ethereum_wallet.address.lower()\n",
    "    claim_item['ethereum_private_key'] = ethereum_wallet.privateKey.hex()\n",
    "\n",
    "    # Generate Bostrom and Cosmos wallet\n",
    "    bostrom_wallet = generate_wallet()\n",
    "    claim_item['bostrom_address'] = bostrom_wallet['address']\n",
    "    claim_item['cosmos_address'] = address_to_address(bostrom_wallet['address'], 'cosmos')\n",
    "    claim_item['cosmos_seed'] = bostrom_wallet['seed']\n",
    "\n",
    "    # Create message\n",
    "    claim_item['message'] = f\"{WALLET_ADDRESS}:QmRX8qYgeZoYM3M5zzQaWEpVFdpin6FvVXvp6RPQK3oufV\"\n",
    "\n",
    "    # Sign message form Ethereum address\n",
    "    ethereum_signed_message = \\\n",
    "        w3.eth.account.sign_message(\n",
    "            signable_message=encode_defunct(text=claim_item['message']),\n",
    "            private_key=ethereum_wallet.privateKey)\n",
    "    # print(signed_message.signature)\n",
    "    claim_item['ethereum_message_signature'] = ethereum_signed_message.signature.hex()\n",
    "\n",
    "    # Sign message form Cosmos address\n",
    "    cosmos_msg = Message(privkey=seed_to_privkey(seed=claim_item['cosmos_seed']))\n",
    "    cosmos_msg.add_message(signing_message=claim_item['message'], signer_prefix='cosmos')\n",
    "    claim_item['cosmos_message_signed_row'] = cosmos_msg.get_signed_message()\n",
    "    claim_item['cosmos_message_signature'] = b64encode(json.dumps(claim_item['cosmos_message_signed_row']).replace('\\n', '').replace(' ', '').encode('utf-8')).decode(\"utf-8\")\n",
    "\n",
    "    # Verify message\n",
    "    assert claim_item['ethereum_address'] == w3.eth.account.recover_message(\n",
    "        signable_message=encode_defunct(text=claim_item['message']),\n",
    "        signature=claim_item['ethereum_message_signature']).lower()\n",
    "\n",
    "    claims_list.append(claim_item)\n",
    "\n",
    "claims_df = pd.DataFrame(claims_list)\n",
    "claims_df.to_csv('claims_ethereum_test_data_without_proof' + str(NUMBER_OF_PARTICIPANTS) + '_addresses.csv')\n",
    "claims_df"
   ],
   "metadata": {
    "collapsed": false,
    "pycharm": {
     "name": "#%%\n"
    }
   }
  },
  {
   "cell_type": "markdown",
   "source": [
    "## Instantiate Contracts\n",
    "### Instantiate SUBGRAPH Contracts"
   ],
   "metadata": {
    "collapsed": false,
    "pycharm": {
     "name": "#%% md\n"
    }
   }
  },
  {
   "cell_type": "code",
   "execution_count": 3,
   "outputs": [
    {
     "name": "stdout",
     "output_type": "stream",
     "text": [
      "Name subgraph contract address: bostrom1rncw9n73gm30vhrv6e4p603hav0gue8y5y9fgqa84k4atf5pqvfqcrnpl6\n",
      "Avatar subgraph contract address: bostrom164w2vl7z7lpuvex6z3ru0v55fgq3dmvxuqt0aejp49w7fyc8g6kshreggq\n",
      "Proof subgraph contract address: bostrom1543j9n7slzff3curyac7ylf2ctg7rk9zjf9ehj08eqx57xj33zzqdy6ga4\n"
     ]
    }
   ],
   "source": [
    "if INIT_SUBGRAPH_CONTRACTS:\n",
    "    name_subgraph_contract_address = \\\n",
    "        instantiate_contract(\n",
    "            init_query=f'''{{\"owner\":\"{WALLET_ADDRESS}\", \"executer\":\"{WALLET_ADDRESS}\"}}''',\n",
    "            contract_code_id=SUBGRAPH_CODE_ID,\n",
    "            contract_label='test name subgraph')\n",
    "    avatar_subgraph_contract_address = \\\n",
    "        instantiate_contract(\n",
    "            init_query=f'''{{\"owner\":\"{WALLET_ADDRESS}\", \"executer\":\"{WALLET_ADDRESS}\"}}''',\n",
    "            contract_code_id=SUBGRAPH_CODE_ID,\n",
    "            contract_label='test avatar subgraph')\n",
    "    proof_subgraph_contract_address = \\\n",
    "        instantiate_contract(\n",
    "            init_query=f'''{{\"owner\":\"{WALLET_ADDRESS}\", \"executer\":\"{WALLET_ADDRESS}\"}}''',\n",
    "            contract_code_id=SUBGRAPH_CODE_ID,\n",
    "            contract_label='test proof subgraph')\n",
    "else:\n",
    "    name_subgraph_contract_address = NAME_SUBGRAPH_CONTRACT_ADDRESS\n",
    "    avatar_subgraph_contract_address = AVATAR_SUBGRAPH_CONTRACT_ADDRESS\n",
    "    proof_subgraph_contract_address = PROOF_SUBGRAPH_CONTRACT_ADDRESS\n",
    "print(f'Name subgraph contract address: {name_subgraph_contract_address}\\n'\n",
    "      f'Avatar subgraph contract address: {avatar_subgraph_contract_address}\\n'\n",
    "      f'Proof subgraph contract address: {proof_subgraph_contract_address}')"
   ],
   "metadata": {
    "collapsed": false,
    "pycharm": {
     "name": "#%%\n"
    }
   }
  },
  {
   "cell_type": "markdown",
   "source": [
    "### Instantiate Passport Contract"
   ],
   "metadata": {
    "collapsed": false,
    "pycharm": {
     "name": "#%% md\n"
    }
   }
  },
  {
   "cell_type": "code",
   "execution_count": 4,
   "outputs": [
    {
     "name": "stdout",
     "output_type": "stream",
     "text": [
      "Passport contract address: bostrom15hzg7eaxgs6ecn46gmu4juc9tau2w45l9cnf8n0797nmmtkdv7jscv88ra\n"
     ]
    }
   ],
   "source": [
    "if INIT_PASSPORT_CONTRACT:\n",
    "    passport_contract_address = \\\n",
    "        instantiate_contract(\n",
    "            init_query=f'''{{\"name\":\"CPT\", \"minter\":\"{WALLET_ADDRESS}\", \"owner\":\"{WALLET_ADDRESS}\", \"symbol\":\"CPT\", \"avatar_subgraph\": \"{avatar_subgraph_contract_address}\", \"name_subgraph\": \"{name_subgraph_contract_address}\", \"proof_subgraph\": \"{proof_subgraph_contract_address}\"}}''',\n",
    "            contract_code_id=PASSPORT_CODE_ID,\n",
    "            contract_label='test passport')\n",
    "else:\n",
    "    passport_contract_address = PASSPORT_CONTRACT_ADDRESS\n",
    "print(f'Passport contract address: {passport_contract_address}')"
   ],
   "metadata": {
    "collapsed": false,
    "pycharm": {
     "name": "#%%\n"
    }
   }
  },
  {
   "cell_type": "markdown",
   "source": [
    "### Set executor in the Subgraph Contracts"
   ],
   "metadata": {
    "collapsed": false,
    "pycharm": {
     "name": "#%% md\n"
    }
   }
  },
  {
   "cell_type": "code",
   "execution_count": 5,
   "outputs": [],
   "source": [
    "def set_executor_subgraph(subgraph_contract_address: str, new_executor_address: str, display_data: bool = False):\n",
    "    return execute_contract(execute_query=f'''{{\"update_executer\":{{\"new_executer\":\"{new_executor_address}\"}}}}''',\n",
    "                            contract_address=subgraph_contract_address,\n",
    "                            gas=600000,\n",
    "                            display_data=display_data)\n",
    "\n",
    "if INIT_PASSPORT_CONTRACT or INIT_SUBGRAPH_CONTRACTS:\n",
    "    set_executor_subgraph(subgraph_contract_address=name_subgraph_contract_address, new_executor_address=passport_contract_address)\n",
    "    set_executor_subgraph(subgraph_contract_address=avatar_subgraph_contract_address, new_executor_address=passport_contract_address)\n",
    "    set_executor_subgraph(subgraph_contract_address=proof_subgraph_contract_address, new_executor_address=passport_contract_address)"
   ],
   "metadata": {
    "collapsed": false,
    "pycharm": {
     "name": "#%%\n"
    }
   }
  },
  {
   "cell_type": "markdown",
   "source": [
    "### Instantiate Gift Contract"
   ],
   "metadata": {
    "collapsed": false,
    "pycharm": {
     "name": "#%% md\n"
    }
   }
  },
  {
   "cell_type": "code",
   "execution_count": 6,
   "outputs": [
    {
     "name": "stdout",
     "output_type": "stream",
     "text": [
      "Gift contract address: bostrom1hh235cquh47tk7mj2hfkdz70g6m787qpx9vledlyz0n3j4jt0d8sgj92mq\n"
     ]
    }
   ],
   "source": [
    "if INIT_GIFT_CONTRACT:\n",
    "    gift_contract_address = \\\n",
    "        instantiate_contract(\n",
    "            init_query=f'''{{\"owner\":\"{WALLET_ADDRESS}\", \"passport\":\"{passport_contract_address}\", \"allowed_native\":\"boot\", \"initial_balance\":\"{INITIAL_BALANCE}\", \"coefficient_up\":\"{COEF_UP}\", \"coefficient_down\":\"{COEF_DOWN}\", \"coefficient\":\"{COEF_UP}\", \"target_claim\":\"{TARGET_CLAIM}\"}}''',\n",
    "            contract_code_id=GIFT_CODE_ID,\n",
    "            amount=INITIAL_BALANCE,\n",
    "            contract_label='test gift')\n",
    "else:\n",
    "    gift_contract_address = GIFT_CONTRACT_ADDRESS\n",
    "print(f'Gift contract address: {gift_contract_address}')"
   ],
   "metadata": {
    "collapsed": false,
    "pycharm": {
     "name": "#%%\n"
    }
   }
  },
  {
   "cell_type": "code",
   "execution_count": 7,
   "outputs": [],
   "source": [
    "def get_contract_name(contract_address: str) -> str:\n",
    "    address_dict = {gift_contract_address: 'Gift Contract',\n",
    "                    passport_contract_address: 'Passport Contract',\n",
    "                    WALLET_ADDRESS: 'Passport Owner Address',\n",
    "                    name_subgraph_contract_address: 'Name Subgraph Contract',\n",
    "                    avatar_subgraph_contract_address: 'Avatar Subgraph Contract',\n",
    "                    proof_subgraph_contract_address: 'Proof Subgraph Contract'}\n",
    "    try:\n",
    "        return address_dict[contract_address]\n",
    "    except KeyError:\n",
    "        return contract_address\n",
    "\n",
    "\n",
    "def get_name_from_cid(ipfs_hash: str, row=None) -> str:\n",
    "    if row is None:\n",
    "        return ipfs_hash\n",
    "    cid_name_dict = {\n",
    "        row['avatar']: 'Avatar',\n",
    "        ipfs_client.add_str(row['nickname']): 'Nickname',\n",
    "        ipfs_client.add_str(row['ethereum_address']): 'Ethereum Address',\n",
    "        ipfs_client.add_str(row['cosmos_address']): 'Cosmos Address',\n",
    "        ipfs_client.add_str(WALLET_ADDRESS): 'Passport Owner Address'}\n",
    "    try:\n",
    "        return cid_name_dict[ipfs_hash]\n",
    "    except KeyError:\n",
    "        return ipfs_hash\n",
    "\n",
    "\n",
    "def parse_contract_execution_json(contract_execution_json: str, row=None) -> None:\n",
    "    print('\\nEvents')\n",
    "    if len(json.loads(contract_execution_json)['logs']) == 0:\n",
    "        print(json.loads(contract_execution_json)['raw_log'])\n",
    "    for log_item in json.loads(contract_execution_json)['logs']:\n",
    "        for event_item in log_item['events']:\n",
    "            print('')\n",
    "            if event_item['type'] == 'message':\n",
    "                if len(event_item[\"attributes\"]) == 3:\n",
    "                    print(f'message from {get_contract_name(event_item[\"attributes\"][-1][\"value\"])} {event_item[\"attributes\"][1][\"value\"]} {event_item[\"attributes\"][0][\"value\"]}')\n",
    "                else:\n",
    "                    print(event_item)\n",
    "            elif event_item['type'] == 'execute':\n",
    "                print('execute')\n",
    "                for attr_item in event_item[\"attributes\"]:\n",
    "                    if attr_item[\"key\"] == '_contract_address':\n",
    "                        print(f'\\texecute contract: {get_contract_name(attr_item[\"value\"])}')\n",
    "                    else:\n",
    "                        print(f'\\t{attr_item[\"key\"]}: {get_contract_name(attr_item[\"value\"])}')\n",
    "            elif event_item['type'] == 'reply':\n",
    "                print('reply')\n",
    "                for attr_item in event_item[\"attributes\"]:\n",
    "                    if attr_item[\"key\"] == '_contract_address':\n",
    "                        print(f'\\treply contract: {get_contract_name(attr_item[\"value\"])}')\n",
    "                    else:\n",
    "                        print(f'\\t{attr_item[\"key\"]}: {get_contract_name(attr_item[\"value\"])}')\n",
    "            elif event_item['type'] == 'cyberlink':\n",
    "                print('cyberlinks')\n",
    "                for i, attr_item in enumerate(event_item['attributes']):\n",
    "                    if attr_item['key'] == 'particleFrom':\n",
    "                        print(f'\\t{get_name_from_cid(attr_item[\"value\"], row=row)} -> {get_name_from_cid(event_item[\"attributes\"][i + 1][\"value\"], row=row)}')\n",
    "                    elif attr_item['key'] == 'particleTo':\n",
    "                        pass\n",
    "                    elif attr_item['key'] == 'neuron':\n",
    "                        print(f'\\tneuron: {get_contract_name(attr_item[\"value\"])}\\n')\n",
    "                    else:\n",
    "                        print(f'\\t{attr_item[\"key\"]}: {get_contract_name(attr_item[\"value\"])}')\n",
    "            elif event_item['type'] == 'coin_received':\n",
    "                print('coin received')\n",
    "                for attr_item in event_item[\"attributes\"]:\n",
    "                    print(f'\\t{attr_item[\"key\"]}: {get_contract_name(attr_item[\"value\"])}')\n",
    "            elif event_item['type'] == 'coin_spent':\n",
    "                print('coin spent')\n",
    "                for attr_item in event_item[\"attributes\"]:\n",
    "                    print(f'\\t{attr_item[\"key\"]}: {get_contract_name(attr_item[\"value\"])}')\n",
    "            elif event_item['type'] == 'wasm':\n",
    "                print('wasm')\n",
    "                for attr_item in event_item[\"attributes\"]:\n",
    "                    print(f'\\t{attr_item[\"key\"]}: {get_contract_name(attr_item[\"value\"])}')\n",
    "            elif event_item['type'] == 'transfer':\n",
    "                print('transfer')\n",
    "                for attr_item in event_item[\"attributes\"]:\n",
    "                    print(f'\\t{attr_item[\"key\"]}: {get_contract_name(attr_item[\"value\"])}')\n",
    "            else:\n",
    "                print(event_item)"
   ],
   "metadata": {
    "collapsed": false,
    "pycharm": {
     "name": "#%%\n"
    }
   }
  },
  {
   "cell_type": "markdown",
   "source": [],
   "metadata": {
    "collapsed": false,
    "pycharm": {
     "name": "#%% md\n"
    }
   }
  },
  {
   "cell_type": "markdown",
   "source": [
    "### Create Merkle Root"
   ],
   "metadata": {
    "collapsed": false,
    "pycharm": {
     "name": "#%% md\n"
    }
   }
  },
  {
   "cell_type": "code",
   "execution_count": 8,
   "outputs": [],
   "source": [
    "root_source_list = [{'address': _item['ethereum_address'],\n",
    "                     'amount': str(_item['amount'])} for _item in claims_list]+ \\\n",
    "                    [{'address': _item['cosmos_address'],\n",
    "                      'amount': str(_item['amount'])} for _item in claims_list]\n",
    "root_source_list.append({'address': '0xF2749114FeaAD68854E01C8eE762C7170532FdfD'.lower(), 'amount': '10000000'})\n",
    "with open(ROOT_SOURCE_FILE_NAME, 'w') as outfile:\n",
    "    outfile.write(str(root_source_list).replace(\"'\", '\"'))"
   ],
   "metadata": {
    "collapsed": false,
    "pycharm": {
     "name": "#%%\n"
    }
   }
  },
  {
   "cell_type": "code",
   "execution_count": 9,
   "outputs": [
    {
     "data": {
      "text/plain": "[{'address': '0x4878aae4c66be69d15c590dac467692337e5b0cf',\n  'amount': '1000000'},\n {'address': '0x744443c73710d15eb9970ce7ebf470d36569176b',\n  'amount': '1000000'},\n {'address': '0x15720b613d56c03d0a2a7f0690ff21fbcc03f9b4',\n  'amount': '1000000'},\n {'address': 'cosmos1aw9qyjhmm8krtggpx728uutegazlq3lw7pl9a3',\n  'amount': '1000000'},\n {'address': 'cosmos1z55mxwhr9j287hzt60y90mvueyrs3480ladq4q',\n  'amount': '1000000'},\n {'address': 'cosmos1f3wzccz56d8c48tuldchxf57878kx88wm5xyjs',\n  'amount': '1000000'},\n {'address': '0xf2749114feaad68854e01c8ee762c7170532fdfd',\n  'amount': '10000000'}]"
     },
     "execution_count": 9,
     "metadata": {},
     "output_type": "execute_result"
    }
   ],
   "source": [
    "root_source_list"
   ],
   "metadata": {
    "collapsed": false,
    "pycharm": {
     "name": "#%%\n"
    }
   }
  },
  {
   "cell_type": "code",
   "execution_count": 10,
   "outputs": [
    {
     "name": "stdout",
     "output_type": "stream",
     "text": [
      "Merkle root: 725942cbb284688da040f146cb3441852460f6d8034896768a7f5c1e87f7d14a\n"
     ]
    }
   ],
   "source": [
    "execute_bash(f'rm {ROOT_FILE_NAME}')\n",
    "root_output, root_error = execute_bash(\n",
    "    f'merkle-airdrop-cli generateRoot --file {ROOT_SOURCE_FILE_NAME} >> {ROOT_FILE_NAME} && cat {ROOT_FILE_NAME}')\n",
    "root = root_output.replace('\\n', '')\n",
    "print(f'Merkle root: {root}')"
   ],
   "metadata": {
    "collapsed": false,
    "pycharm": {
     "name": "#%%\n"
    }
   }
  },
  {
   "cell_type": "code",
   "execution_count": 11,
   "outputs": [
    {
     "name": "stdout",
     "output_type": "stream",
     "text": [
      "\n",
      "Events\n",
      "\n",
      "execute\n",
      "\texecute contract: Gift Contract\n",
      "\n",
      "message from Passport Owner Address wasm /cosmwasm.wasm.v1.MsgExecuteContract\n",
      "\n",
      "wasm\n",
      "\t_contract_address: Gift Contract\n",
      "\taction: register_merkle_root\n",
      "\tmerkle_root: 725942cbb284688da040f146cb3441852460f6d8034896768a7f5c1e87f7d14a\n"
     ]
    }
   ],
   "source": [
    "root_register_output = execute_contract(execute_query=f'''{{\"register_merkle_root\":{{\"merkle_root\":\"{root}\"}}}}''',\n",
    "                                        contract_address=gift_contract_address)\n",
    "parse_contract_execution_json(root_register_output)"
   ],
   "metadata": {
    "collapsed": false,
    "pycharm": {
     "name": "#%%\n"
    }
   }
  },
  {
   "cell_type": "markdown",
   "source": [
    "#### Get Merkle Root form the Gift Contract"
   ],
   "metadata": {
    "collapsed": false,
    "pycharm": {
     "name": "#%% md\n"
    }
   },
   "execution_count": 156
  },
  {
   "cell_type": "code",
   "execution_count": 12,
   "outputs": [
    {
     "name": "stdout",
     "output_type": "stream",
     "text": [
      "{'data': {'merkle_root': '725942cbb284688da040f146cb3441852460f6d8034896768a7f5c1e87f7d14a'}}\n"
     ]
    }
   ],
   "source": [
    "print(query_contract(query='''{\"merkle_root\": {}}''',\n",
    "                     contract_address=gift_contract_address))"
   ],
   "metadata": {
    "collapsed": false,
    "pycharm": {
     "name": "#%%\n"
    }
   }
  },
  {
   "cell_type": "markdown",
   "source": [],
   "metadata": {
    "collapsed": false,
    "pycharm": {
     "name": "#%% md\n"
    }
   }
  },
  {
   "cell_type": "code",
   "execution_count": 13,
   "outputs": [
    {
     "data": {
      "text/plain": "    amount         nickname                                          avatar  \\\n0  1000000  john16474127780  QmZVpc2G8oV5ghDoWsVC8znfn1EjgiAvGrYS3KfNLymsrp   \n1  1000000  john16474127781  QmX7VAaprn4xonSTt1d51K7Uf71ZfnkJzajgpdZ3HpE4oD   \n2  1000000  john16474127782  QmcCbZ86xHNaa2cgSvN5JmcFAvYxB9GdmggQUGPGxFBos6   \n\n                             ethereum_address  \\\n0  0x4878aae4c66be69d15c590dac467692337e5b0cf   \n1  0x744443c73710d15eb9970ce7ebf470d36569176b   \n2  0x15720b613d56c03d0a2a7f0690ff21fbcc03f9b4   \n\n                                ethereum_private_key  \\\n0  0x2ca0986d548ab75ad252cbe701d7393df117468ba5e4...   \n1  0x0d2abf8b07d08932a44f6fe95b729a6b3651f6d07616...   \n2  0xbc5fce7dfbe0d75c0044109ba5fd5b9f8513b7603a31...   \n\n                                  bostrom_address  \\\n0  bostrom1aw9qyjhmm8krtggpx728uutegazlq3lwajtkrk   \n1  bostrom1z55mxwhr9j287hzt60y90mvueyrs3480uwent8   \n2  bostrom1f3wzccz56d8c48tuldchxf57878kx88wc8jhvh   \n\n                                  cosmos_address  \\\n0  cosmos1aw9qyjhmm8krtggpx728uutegazlq3lw7pl9a3   \n1  cosmos1z55mxwhr9j287hzt60y90mvueyrs3480ladq4q   \n2  cosmos1f3wzccz56d8c48tuldchxf57878kx88wm5xyjs   \n\n                                         cosmos_seed  \\\n0  success clog skill length already armed entry ...   \n1  village have emotion large august merry escape...   \n2  dress tobacco ignore cinnamon party isolate ca...   \n\n                                             message  \\\n0  bostrom135ca8hdpy9sk0ntwqzpzsvatyl48ptx5j359lz...   \n1  bostrom135ca8hdpy9sk0ntwqzpzsvatyl48ptx5j359lz...   \n2  bostrom135ca8hdpy9sk0ntwqzpzsvatyl48ptx5j359lz...   \n\n                          ethereum_message_signature  \\\n0  0x6a1a572b734e7626e85cc33fccf5db6e3c7b8ccc05f3...   \n1  0x7631668215a5b300662228dafa47f08d87c797a4ea09...   \n2  0x342d548d44fd16875b7e91b2427a4aa33108f5633647...   \n\n                           cosmos_message_signed_row  \\\n0  {'pub_key': 'AiPJ68b+MkLs9faOtLGNOOEK23SduB41Z...   \n1  {'pub_key': 'AkkM9ngmwB05rEDTAaAUMz8C3oR1GqKXm...   \n2  {'pub_key': 'A0gTMu4ihLFsg/gDG7e5uAD5BLrmGUe6B...   \n\n                            cosmos_message_signature  \\\n0  eyJwdWJfa2V5IjoiQWlQSjY4YitNa0xzOWZhT3RMR05PT0...   \n1  eyJwdWJfa2V5IjoiQWtrTTluZ213QjA1ckVEVEFhQVVNej...   \n2  eyJwdWJfa2V5IjoiQTBnVE11NGloTEZzZy9nREc3ZTV1QU...   \n\n                                      ethereum_proof  \\\n0  [\"f164f48466bb32f66eabed8fbb52de5953bb1b4e756e...   \n1  [\"78900d7c06c43ae20970087421f80e49257815363f6a...   \n2  [\"3e3c9fa66f3317f6bfd46130ae15b61227730b12f820...   \n\n                                        cosmos_proof  \n0  [\"0ea5afdcea05b78568ba41aa3b120c669db9fc111445...  \n1  [\"cf75dec9a3423593845301454490058e275aba2beb5d...  \n2  [\"84daa30ce2e40d0ed2745dd96dff99e0fd3d42ada1fa...  ",
      "text/html": "<div>\n<style scoped>\n    .dataframe tbody tr th:only-of-type {\n        vertical-align: middle;\n    }\n\n    .dataframe tbody tr th {\n        vertical-align: top;\n    }\n\n    .dataframe thead th {\n        text-align: right;\n    }\n</style>\n<table border=\"1\" class=\"dataframe\">\n  <thead>\n    <tr style=\"text-align: right;\">\n      <th></th>\n      <th>amount</th>\n      <th>nickname</th>\n      <th>avatar</th>\n      <th>ethereum_address</th>\n      <th>ethereum_private_key</th>\n      <th>bostrom_address</th>\n      <th>cosmos_address</th>\n      <th>cosmos_seed</th>\n      <th>message</th>\n      <th>ethereum_message_signature</th>\n      <th>cosmos_message_signed_row</th>\n      <th>cosmos_message_signature</th>\n      <th>ethereum_proof</th>\n      <th>cosmos_proof</th>\n    </tr>\n  </thead>\n  <tbody>\n    <tr>\n      <th>0</th>\n      <td>1000000</td>\n      <td>john16474127780</td>\n      <td>QmZVpc2G8oV5ghDoWsVC8znfn1EjgiAvGrYS3KfNLymsrp</td>\n      <td>0x4878aae4c66be69d15c590dac467692337e5b0cf</td>\n      <td>0x2ca0986d548ab75ad252cbe701d7393df117468ba5e4...</td>\n      <td>bostrom1aw9qyjhmm8krtggpx728uutegazlq3lwajtkrk</td>\n      <td>cosmos1aw9qyjhmm8krtggpx728uutegazlq3lw7pl9a3</td>\n      <td>success clog skill length already armed entry ...</td>\n      <td>bostrom135ca8hdpy9sk0ntwqzpzsvatyl48ptx5j359lz...</td>\n      <td>0x6a1a572b734e7626e85cc33fccf5db6e3c7b8ccc05f3...</td>\n      <td>{'pub_key': 'AiPJ68b+MkLs9faOtLGNOOEK23SduB41Z...</td>\n      <td>eyJwdWJfa2V5IjoiQWlQSjY4YitNa0xzOWZhT3RMR05PT0...</td>\n      <td>[\"f164f48466bb32f66eabed8fbb52de5953bb1b4e756e...</td>\n      <td>[\"0ea5afdcea05b78568ba41aa3b120c669db9fc111445...</td>\n    </tr>\n    <tr>\n      <th>1</th>\n      <td>1000000</td>\n      <td>john16474127781</td>\n      <td>QmX7VAaprn4xonSTt1d51K7Uf71ZfnkJzajgpdZ3HpE4oD</td>\n      <td>0x744443c73710d15eb9970ce7ebf470d36569176b</td>\n      <td>0x0d2abf8b07d08932a44f6fe95b729a6b3651f6d07616...</td>\n      <td>bostrom1z55mxwhr9j287hzt60y90mvueyrs3480uwent8</td>\n      <td>cosmos1z55mxwhr9j287hzt60y90mvueyrs3480ladq4q</td>\n      <td>village have emotion large august merry escape...</td>\n      <td>bostrom135ca8hdpy9sk0ntwqzpzsvatyl48ptx5j359lz...</td>\n      <td>0x7631668215a5b300662228dafa47f08d87c797a4ea09...</td>\n      <td>{'pub_key': 'AkkM9ngmwB05rEDTAaAUMz8C3oR1GqKXm...</td>\n      <td>eyJwdWJfa2V5IjoiQWtrTTluZ213QjA1ckVEVEFhQVVNej...</td>\n      <td>[\"78900d7c06c43ae20970087421f80e49257815363f6a...</td>\n      <td>[\"cf75dec9a3423593845301454490058e275aba2beb5d...</td>\n    </tr>\n    <tr>\n      <th>2</th>\n      <td>1000000</td>\n      <td>john16474127782</td>\n      <td>QmcCbZ86xHNaa2cgSvN5JmcFAvYxB9GdmggQUGPGxFBos6</td>\n      <td>0x15720b613d56c03d0a2a7f0690ff21fbcc03f9b4</td>\n      <td>0xbc5fce7dfbe0d75c0044109ba5fd5b9f8513b7603a31...</td>\n      <td>bostrom1f3wzccz56d8c48tuldchxf57878kx88wc8jhvh</td>\n      <td>cosmos1f3wzccz56d8c48tuldchxf57878kx88wm5xyjs</td>\n      <td>dress tobacco ignore cinnamon party isolate ca...</td>\n      <td>bostrom135ca8hdpy9sk0ntwqzpzsvatyl48ptx5j359lz...</td>\n      <td>0x342d548d44fd16875b7e91b2427a4aa33108f5633647...</td>\n      <td>{'pub_key': 'A0gTMu4ihLFsg/gDG7e5uAD5BLrmGUe6B...</td>\n      <td>eyJwdWJfa2V5IjoiQTBnVE11NGloTEZzZy9nREc3ZTV1QU...</td>\n      <td>[\"3e3c9fa66f3317f6bfd46130ae15b61227730b12f820...</td>\n      <td>[\"84daa30ce2e40d0ed2745dd96dff99e0fd3d42ada1fa...</td>\n    </tr>\n  </tbody>\n</table>\n</div>"
     },
     "execution_count": 13,
     "metadata": {},
     "output_type": "execute_result"
    }
   ],
   "source": [
    "def generate_proof(claim_row: pd.Series, network: str = 'ethereum', display_data: bool = False):\n",
    "    _proof_output, _ = execute_bash(f'merkle-airdrop-cli generateProofs --file {ROOT_SOURCE_FILE_NAME} --address {claim_row[network + \"_address\"]} --amount {claim_row.amount}',\n",
    "                                   display_data=display_data)\n",
    "    return _proof_output.replace('\\n','').replace(\" \",'').replace(\"'\", '\"')\n",
    "\n",
    "claims_df.loc[:, 'ethereum_proof'] = claims_df.apply(lambda x: generate_proof(x), axis=1)\n",
    "claims_df.loc[:, 'cosmos_proof'] = claims_df.apply(lambda x: generate_proof(x, network='cosmos'), axis=1)\n",
    "claims_df.to_csv('claims_ethereum_test_data_' + str(NUMBER_OF_PARTICIPANTS) + '_addresses.csv')\n",
    "claims_df"
   ],
   "metadata": {
    "collapsed": false,
    "pycharm": {
     "name": "#%%\n"
    }
   }
  },
  {
   "cell_type": "code",
   "execution_count": 14,
   "outputs": [
    {
     "data": {
      "text/plain": "'[\"82ff93c206404af75c9add59e997d3e2adb90f217c9532941a713ea6d851cacd\",\"39b2d510f6915efa477b25c813366807b4cbea928649381f068eace67c643354\",\"01e792d24b7dd735767c69605e131d51db5a770d21ff4f144f29424ef9a5b1f1\"]'"
     },
     "execution_count": 14,
     "metadata": {},
     "output_type": "execute_result"
    }
   ],
   "source": [
    "proof_output, _ = execute_bash(f'merkle-airdrop-cli generateProofs --file {ROOT_SOURCE_FILE_NAME} --address {\"0xF2749114FeaAD68854E01C8eE762C7170532FdfD\".lower()} --amount 10000000',\n",
    "                                   display_data=False)\n",
    "proof_output.replace('\\n','').replace(\" \",'').replace(\"'\", '\"')"
   ],
   "metadata": {
    "collapsed": false,
    "pycharm": {
     "name": "#%%\n"
    }
   }
  },
  {
   "cell_type": "code",
   "execution_count": 15,
   "outputs": [
    {
     "data": {
      "text/plain": "'0xf2749114feaad68854e01c8ee762c7170532fdfd'"
     },
     "execution_count": 15,
     "metadata": {},
     "output_type": "execute_result"
    }
   ],
   "source": [
    "\"0xF2749114FeaAD68854E01C8eE762C7170532FdfD\".lower()"
   ],
   "metadata": {
    "collapsed": false,
    "pycharm": {
     "name": "#%%\n"
    }
   }
  },
  {
   "cell_type": "markdown",
   "source": [
    "### Create Passports"
   ],
   "metadata": {
    "collapsed": false,
    "pycharm": {
     "name": "#%% md\n"
    }
   }
  },
  {
   "cell_type": "code",
   "execution_count": 16,
   "outputs": [
    {
     "data": {
      "text/plain": "0it [00:00, ?it/s]",
      "application/vnd.jupyter.widget-view+json": {
       "version_major": 2,
       "version_minor": 0,
       "model_id": "3b86235cac824f1bbe61385ada3e1032"
      }
     },
     "metadata": {},
     "output_type": "display_data"
    },
    {
     "name": "stdout",
     "output_type": "stream",
     "text": [
      "\n",
      "Events\n",
      "\n",
      "cyberlinks\n",
      "\tPassport Owner Address -> Nickname\n",
      "\tNickname -> Passport Owner Address\n",
      "\tneuron: Name Subgraph Contract\n",
      "\n",
      "\tPassport Owner Address -> Avatar\n",
      "\tAvatar -> Passport Owner Address\n",
      "\tneuron: Avatar Subgraph Contract\n",
      "\n",
      "\n",
      "execute\n",
      "\texecute contract: Passport Contract\n",
      "\texecute contract: Name Subgraph Contract\n",
      "\texecute contract: Avatar Subgraph Contract\n",
      "\n",
      "message from Passport Owner Address wasm /cosmwasm.wasm.v1.MsgExecuteContract\n",
      "\n",
      "reply\n",
      "\treply contract: Passport Contract\n",
      "\treply contract: Passport Contract\n",
      "\n",
      "wasm\n",
      "\t_contract_address: Passport Contract\n",
      "\taction: mint\n",
      "\tminter: Passport Contract\n",
      "\ttoken_id: 49\n"
     ]
    }
   ],
   "source": [
    "def create_passport(claim_row: pd.Series, display_data: bool = False):\n",
    "    return execute_contract(execute_query=f'''{{\"create_passport\":{{\"avatar\":\"{claim_row[\"avatar\"]}\", \"nickname\":\"{claim_row[\"nickname\"]}\"}}}}''',\n",
    "                            contract_address=passport_contract_address,\n",
    "                            gas=600000,\n",
    "                            display_data=display_data)\n",
    "\n",
    "for index, row in tqdm(claims_df[:NUMBER_OF_ACTIVATED_PARTICIPANTS].iterrows()):\n",
    "    if index == 0:\n",
    "        create_passport_json = create_passport(row, display_data=DISPLAY_TX_EXECUTION)\n",
    "        parse_contract_execution_json(create_passport_json, row=row)\n",
    "    else:\n",
    "        create_passport(row)"
   ],
   "metadata": {
    "collapsed": false,
    "pycharm": {
     "name": "#%%\n"
    }
   }
  },
  {
   "cell_type": "markdown",
   "source": [
    "### Proof (Add) Address to Passports"
   ],
   "metadata": {
    "collapsed": false,
    "pycharm": {
     "name": "#%% md\n"
    }
   }
  },
  {
   "cell_type": "code",
   "execution_count": 17,
   "outputs": [
    {
     "data": {
      "text/plain": "0it [00:00, ?it/s]",
      "application/vnd.jupyter.widget-view+json": {
       "version_major": 2,
       "version_minor": 0,
       "model_id": "b8d2532f7db74ea7bd94fa850f7b9766"
      }
     },
     "metadata": {},
     "output_type": "display_data"
    },
    {
     "name": "stdout",
     "output_type": "stream",
     "text": [
      "\n",
      "Events\n",
      "\n",
      "cyberlinks\n",
      "\tPassport Owner Address -> Ethereum Address\n",
      "\tEthereum Address -> Passport Owner Address\n",
      "\tneuron: Proof Subgraph Contract\n",
      "\n",
      "\n",
      "execute\n",
      "\texecute contract: Passport Contract\n",
      "\texecute contract: Proof Subgraph Contract\n",
      "\n",
      "message from Passport Owner Address wasm /cosmwasm.wasm.v1.MsgExecuteContract\n",
      "\n",
      "reply\n",
      "\treply contract: Passport Contract\n",
      "\n",
      "wasm\n",
      "\t_contract_address: Passport Contract\n",
      "\taction: proof_address\n",
      "\tnickname: john16474127781\n",
      "\taddress: 0x744443c73710d15eb9970ce7ebf470d36569176b\n",
      "\n",
      "Events\n",
      "\n",
      "cyberlinks\n",
      "\tPassport Owner Address -> Cosmos Address\n",
      "\tCosmos Address -> Passport Owner Address\n",
      "\tneuron: Proof Subgraph Contract\n",
      "\n",
      "\n",
      "execute\n",
      "\texecute contract: Passport Contract\n",
      "\texecute contract: Proof Subgraph Contract\n",
      "\n",
      "message from Passport Owner Address wasm /cosmwasm.wasm.v1.MsgExecuteContract\n",
      "\n",
      "reply\n",
      "\treply contract: Passport Contract\n",
      "\n",
      "wasm\n",
      "\t_contract_address: Passport Contract\n",
      "\taction: proof_address\n",
      "\tnickname: john16474127781\n",
      "\taddress: cosmos1z55mxwhr9j287hzt60y90mvueyrs3480ladq4q\n"
     ]
    }
   ],
   "source": [
    "def proof_address(claim_row: pd.Series, network: str = 'ethereum', display_data: bool = False):\n",
    "    return execute_contract(execute_query=f'''{{\"proof_address\":{{\"address\":\"{claim_row[network + \"_address\"]}\", \"nickname\":\"{claim_row[\"nickname\"]}\", \"signature\":\"{claim_row[network + \"_message_signature\"]}\"}}}}''',\n",
    "                            contract_address=passport_contract_address,\n",
    "                            gas=400000,\n",
    "                            display_data=display_data)\n",
    "\n",
    "for index, row in tqdm(claims_df[:NUMBER_OF_ACTIVATED_PARTICIPANTS].iterrows()):\n",
    "    if index == 1:\n",
    "        proof_ethereum_address_json = proof_address(row, display_data=DISPLAY_TX_EXECUTION)\n",
    "        parse_contract_execution_json(proof_ethereum_address_json, row=row)\n",
    "\n",
    "        proof_cosmos_address_json = proof_address(row, network='cosmos', display_data=DISPLAY_TX_EXECUTION)\n",
    "        parse_contract_execution_json(proof_cosmos_address_json, row=row)\n",
    "    else:\n",
    "        proof_address(row)\n",
    "        proof_address(row, network='cosmos')"
   ],
   "metadata": {
    "collapsed": false,
    "pycharm": {
     "name": "#%%\n"
    }
   }
  },
  {
   "cell_type": "markdown",
   "source": [
    "### Claim"
   ],
   "metadata": {
    "collapsed": false,
    "pycharm": {
     "name": "#%% md\n"
    }
   }
  },
  {
   "cell_type": "code",
   "execution_count": 18,
   "outputs": [
    {
     "data": {
      "text/plain": "0it [00:00, ?it/s]",
      "application/vnd.jupyter.widget-view+json": {
       "version_major": 2,
       "version_minor": 0,
       "model_id": "e308b7f5d856416e956b08f262dde894"
      }
     },
     "metadata": {},
     "output_type": "display_data"
    },
    {
     "name": "stdout",
     "output_type": "stream",
     "text": [
      "\n",
      "Events\n",
      "\n",
      "coin received\n",
      "\treceiver: Passport Owner Address\n",
      "\tamount: 100000boot\n",
      "\n",
      "coin spent\n",
      "\tspender: Gift Contract\n",
      "\tamount: 100000boot\n",
      "\n",
      "execute\n",
      "\texecute contract: Gift Contract\n",
      "\n",
      "message from Passport Owner Address wasm /cosmwasm.wasm.v1.MsgExecuteContract\n",
      "\n",
      "transfer\n",
      "\trecipient: Passport Owner Address\n",
      "\tsender: Gift Contract\n",
      "\tamount: 100000boot\n",
      "\n",
      "wasm\n",
      "\t_contract_address: Gift Contract\n",
      "\taction: claim\n",
      "\toriginal: 0x4878aae4c66be69d15c590dac467692337e5b0cf\n",
      "\ttarget: Passport Owner Address\n",
      "\tamount: 20000000\n",
      "\n",
      "Events\n",
      "\n",
      "coin received\n",
      "\treceiver: Passport Owner Address\n",
      "\tamount: 100000boot\n",
      "\n",
      "coin spent\n",
      "\tspender: Gift Contract\n",
      "\tamount: 100000boot\n",
      "\n",
      "execute\n",
      "\texecute contract: Gift Contract\n",
      "\n",
      "message from Passport Owner Address wasm /cosmwasm.wasm.v1.MsgExecuteContract\n",
      "\n",
      "transfer\n",
      "\trecipient: Passport Owner Address\n",
      "\tsender: Gift Contract\n",
      "\tamount: 100000boot\n",
      "\n",
      "wasm\n",
      "\t_contract_address: Gift Contract\n",
      "\taction: claim\n",
      "\toriginal: cosmos1aw9qyjhmm8krtggpx728uutegazlq3lw7pl9a3\n",
      "\ttarget: Passport Owner Address\n",
      "\tamount: 20000000\n",
      "\n",
      "Events\n",
      "\n",
      "coin received\n",
      "\treceiver: Passport Owner Address\n",
      "\tamount: 100000boot\n",
      "\n",
      "coin spent\n",
      "\tspender: Gift Contract\n",
      "\tamount: 100000boot\n",
      "\n",
      "execute\n",
      "\texecute contract: Gift Contract\n",
      "\n",
      "message from Passport Owner Address wasm /cosmwasm.wasm.v1.MsgExecuteContract\n",
      "\n",
      "transfer\n",
      "\trecipient: Passport Owner Address\n",
      "\tsender: Gift Contract\n",
      "\tamount: 100000boot\n",
      "\n",
      "wasm\n",
      "\t_contract_address: Gift Contract\n",
      "\taction: claim\n",
      "\toriginal: 0x744443c73710d15eb9970ce7ebf470d36569176b\n",
      "\ttarget: Passport Owner Address\n",
      "\tamount: 19700000\n",
      "\n",
      "Events\n",
      "\n",
      "coin received\n",
      "\treceiver: Passport Owner Address\n",
      "\tamount: 100000boot\n",
      "\n",
      "coin spent\n",
      "\tspender: Gift Contract\n",
      "\tamount: 100000boot\n",
      "\n",
      "execute\n",
      "\texecute contract: Gift Contract\n",
      "\n",
      "message from Passport Owner Address wasm /cosmwasm.wasm.v1.MsgExecuteContract\n",
      "\n",
      "transfer\n",
      "\trecipient: Passport Owner Address\n",
      "\tsender: Gift Contract\n",
      "\tamount: 100000boot\n",
      "\n",
      "wasm\n",
      "\t_contract_address: Gift Contract\n",
      "\taction: claim\n",
      "\toriginal: cosmos1z55mxwhr9j287hzt60y90mvueyrs3480ladq4q\n",
      "\ttarget: Passport Owner Address\n",
      "\tamount: 19400000\n"
     ]
    }
   ],
   "source": [
    "def claim(claim_row: pd.Series, network: str = 'ethereum', display_data: bool = False):\n",
    "    return execute_contract(execute_query=f'''{{\"claim\":{{\"nickname\":\"{claim_row['nickname']}\", \"gift_claiming_address\":\"{claim_row[network + \"_address\"]}\", \"gift_amount\":\"{claim_row.amount}\", \"proof\":{claim_row[network + \"_proof\"]}}}}}''',\n",
    "                            contract_address=gift_contract_address,\n",
    "                            gas=400000,\n",
    "                            display_data=display_data)\n",
    "\n",
    "for index, row in tqdm(claims_df[:NUMBER_OF_ACTIVATED_PARTICIPANTS].iterrows()):\n",
    "    if index == 0:\n",
    "        claim_ethereum_json = claim(row, display_data=DISPLAY_TX_EXECUTION)\n",
    "        parse_contract_execution_json(claim_ethereum_json)\n",
    "\n",
    "        claim_cosmos_json = claim(row, network='cosmos', display_data=DISPLAY_TX_EXECUTION)\n",
    "        parse_contract_execution_json(claim_cosmos_json)\n",
    "    else:\n",
    "        claim_ethereum_json_2 = claim(row)\n",
    "        parse_contract_execution_json(claim_ethereum_json_2)\n",
    "\n",
    "        claim_cosmos_json_2 = claim(row, network='cosmos')\n",
    "        parse_contract_execution_json(claim_cosmos_json_2)"
   ],
   "metadata": {
    "collapsed": false,
    "pycharm": {
     "name": "#%%\n"
    }
   }
  },
  {
   "cell_type": "markdown",
   "source": [
    "### Release Gift"
   ],
   "metadata": {
    "collapsed": false,
    "pycharm": {
     "name": "#%% md\n"
    }
   },
   "execution_count": 11
  },
  {
   "cell_type": "code",
   "execution_count": 19,
   "outputs": [
    {
     "data": {
      "text/plain": "0it [00:00, ?it/s]",
      "application/vnd.jupyter.widget-view+json": {
       "version_major": 2,
       "version_minor": 0,
       "model_id": "c1e8d3469ba442bba241a84750f62498"
      }
     },
     "metadata": {},
     "output_type": "display_data"
    },
    {
     "name": "stdout",
     "output_type": "stream",
     "text": [
      "\n",
      "Events\n",
      "\n",
      "coin received\n",
      "\treceiver: Passport Owner Address\n",
      "\tamount: 1990000boot\n",
      "\n",
      "coin spent\n",
      "\tspender: Gift Contract\n",
      "\tamount: 1990000boot\n",
      "\n",
      "execute\n",
      "\texecute contract: Gift Contract\n",
      "\n",
      "message from Passport Owner Address wasm /cosmwasm.wasm.v1.MsgExecuteContract\n",
      "\n",
      "transfer\n",
      "\trecipient: Passport Owner Address\n",
      "\tsender: Gift Contract\n",
      "\tamount: 1990000boot\n",
      "\n",
      "wasm\n",
      "\t_contract_address: Gift Contract\n",
      "\taction: release\n",
      "\taddress: Passport Owner Address\n",
      "\tgift_address: 0x4878aae4c66be69d15c590dac467692337e5b0cf\n",
      "\tstage: 9\n",
      "\tamount: 1990000\n",
      "\n",
      "Events\n",
      "\n",
      "coin received\n",
      "\treceiver: Passport Owner Address\n",
      "\tamount: 1990000boot\n",
      "\n",
      "coin spent\n",
      "\tspender: Gift Contract\n",
      "\tamount: 1990000boot\n",
      "\n",
      "execute\n",
      "\texecute contract: Gift Contract\n",
      "\n",
      "message from Passport Owner Address wasm /cosmwasm.wasm.v1.MsgExecuteContract\n",
      "\n",
      "transfer\n",
      "\trecipient: Passport Owner Address\n",
      "\tsender: Gift Contract\n",
      "\tamount: 1990000boot\n",
      "\n",
      "wasm\n",
      "\t_contract_address: Gift Contract\n",
      "\taction: release\n",
      "\taddress: Passport Owner Address\n",
      "\tgift_address: cosmos1aw9qyjhmm8krtggpx728uutegazlq3lw7pl9a3\n",
      "\tstage: 9\n",
      "\tamount: 1990000\n"
     ]
    }
   ],
   "source": [
    "def release(claim_row: pd.Series, network: str = 'ethereum', display_data: bool = False):\n",
    "    return execute_contract(execute_query=f'''{{\"release\":{{\"gift_address\":\"{claim_row[network + \"_address\"]}\"}}}}''',\n",
    "                            contract_address=gift_contract_address,\n",
    "                            gas=400000,\n",
    "                            display_data=display_data)\n",
    "\n",
    "for index, row in tqdm(claims_df[:NUMBER_OF_ACTIVATED_PARTICIPANTS].iterrows()):\n",
    "    if index == 0:\n",
    "        release_ethereum_json = release(row, display_data=DISPLAY_TX_EXECUTION)\n",
    "        parse_contract_execution_json(release_ethereum_json)\n",
    "\n",
    "        release_cosmos_json = release(row, network='cosmos', display_data=DISPLAY_TX_EXECUTION)\n",
    "        parse_contract_execution_json(release_cosmos_json)\n",
    "    else:\n",
    "        release(row)\n",
    "        release(row, network='cosmos')\n"
   ],
   "metadata": {
    "collapsed": false,
    "pycharm": {
     "name": "#%%\n"
    }
   }
  },
  {
   "cell_type": "markdown",
   "source": [
    "## Passport NFT testing\n",
    "### Transfer Passport"
   ],
   "metadata": {
    "collapsed": false,
    "pycharm": {
     "name": "#%% md\n"
    }
   }
  },
  {
   "cell_type": "code",
   "execution_count": 20,
   "outputs": [
    {
     "data": {
      "text/plain": "50"
     },
     "execution_count": 20,
     "metadata": {},
     "output_type": "execute_result"
    }
   ],
   "source": [
    "def get_passport_id(bostrom_address: str) -> str:\n",
    "    return query_contract(query=f'''{{\"portid\": {{\"portid\": \"{bostrom_address}\"}}}}''',\n",
    "                          contract_address=passport_contract_address)['data']['portid']\n",
    "get_passport_id(WALLET_ADDRESS)"
   ],
   "metadata": {
    "collapsed": false,
    "pycharm": {
     "name": "#%%\n"
    }
   }
  },
  {
   "cell_type": "code",
   "execution_count": 21,
   "outputs": [
    {
     "data": {
      "text/plain": "0it [00:00, ?it/s]",
      "application/vnd.jupyter.widget-view+json": {
       "version_major": 2,
       "version_minor": 0,
       "model_id": "e4b1378298c642fd97ca3c7321043e8d"
      }
     },
     "metadata": {},
     "output_type": "display_data"
    },
    {
     "name": "stdout",
     "output_type": "stream",
     "text": [
      "\n",
      "Events\n",
      "failed to execute message; message index: 0: dispatch: submessages: dispatch: submessages: your cyberlink already exists\n"
     ]
    }
   ],
   "source": [
    "def transfer_passport(claim_row: pd.Series, token_id: str,  to_address: str = '', display_data: bool = False):\n",
    "    if to_address == '':\n",
    "        to_address = claim_row['bostrom_address']\n",
    "    return execute_contract(execute_query=f'''{{\"transfer_nft\":{{\"recipient\":\"{to_address}\", \"token_id\":\"{token_id}\"}}}}''',\n",
    "                            contract_address=passport_contract_address,\n",
    "                            gas=600000,\n",
    "                            display_data=display_data)\n",
    "\n",
    "\n",
    "for index, row in tqdm(claims_df[:NUMBER_OF_ACTIVATED_PARTICIPANTS].iterrows()):\n",
    "    if index == 0:\n",
    "        create_passport_json = transfer_passport(row, token_id=get_passport_id(WALLET_ADDRESS), display_data=DISPLAY_TX_EXECUTION)\n",
    "        parse_contract_execution_json(create_passport_json, row=row)\n",
    "        break\n",
    "    else:\n",
    "        create_passport_json = transfer_passport(row, token_id=get_passport_id(WALLET_ADDRESS))"
   ],
   "metadata": {
    "collapsed": false,
    "pycharm": {
     "name": "#%%\n"
    }
   }
  },
  {
   "cell_type": "markdown",
   "source": [
    "### Burn"
   ],
   "metadata": {
    "collapsed": false,
    "pycharm": {
     "name": "#%% md\n"
    }
   }
  },
  {
   "cell_type": "code",
   "execution_count": 22,
   "outputs": [
    {
     "data": {
      "text/plain": "0it [00:00, ?it/s]",
      "application/vnd.jupyter.widget-view+json": {
       "version_major": 2,
       "version_minor": 0,
       "model_id": "3be258be03084cb2a6fd061cfcfebed3"
      }
     },
     "metadata": {},
     "output_type": "display_data"
    },
    {
     "name": "stdout",
     "output_type": "stream",
     "text": [
      "\n",
      "Events\n",
      "\n",
      "cyberlinks\n",
      "\tQmTkBzFu3KPH8VKb1zmGkMzkWey6EkbQnPKLRU43fRhMDs -> QmRjw7ZB1SN3c7F6K921zfmQdmqAAFGnQjKQWJnhqB2TSH\n",
      "\tQmRjw7ZB1SN3c7F6K921zfmQdmqAAFGnQjKQWJnhqB2TSH -> QmTkBzFu3KPH8VKb1zmGkMzkWey6EkbQnPKLRU43fRhMDs\n",
      "\tneuron: Name Subgraph Contract\n",
      "\n",
      "\tQmTkBzFu3KPH8VKb1zmGkMzkWey6EkbQnPKLRU43fRhMDs -> QmX7VAaprn4xonSTt1d51K7Uf71ZfnkJzajgpdZ3HpE4oD\n",
      "\tQmX7VAaprn4xonSTt1d51K7Uf71ZfnkJzajgpdZ3HpE4oD -> QmTkBzFu3KPH8VKb1zmGkMzkWey6EkbQnPKLRU43fRhMDs\n",
      "\tneuron: Avatar Subgraph Contract\n",
      "\n",
      "\n",
      "execute\n",
      "\texecute contract: Passport Contract\n",
      "\texecute contract: Name Subgraph Contract\n",
      "\texecute contract: Avatar Subgraph Contract\n",
      "\n",
      "message from Passport Owner Address wasm /cosmwasm.wasm.v1.MsgExecuteContract\n",
      "\n",
      "reply\n",
      "\treply contract: Passport Contract\n",
      "\treply contract: Passport Contract\n",
      "\n",
      "wasm\n",
      "\t_contract_address: Passport Contract\n",
      "\taction: burn\n",
      "\tsender: Passport Owner Address\n",
      "\ttoken_id: 50\n"
     ]
    }
   ],
   "source": [
    "def burn_passport(claim_row: pd.Series, token_id: str,  display_data: bool = False):\n",
    "    return execute_contract(execute_query=f'''{{\"burn\":{{\"token_id\":\"{token_id}\"}}}}''',\n",
    "                            contract_address=passport_contract_address,\n",
    "                            gas=400000,\n",
    "                            display_data=display_data)\n",
    "\n",
    "for index, row in tqdm(claims_df[:NUMBER_OF_ACTIVATED_PARTICIPANTS].iterrows()):\n",
    "    if index == 0:\n",
    "        burn_passport_json = burn_passport(row, token_id=get_passport_id(WALLET_ADDRESS), display_data=DISPLAY_TX_EXECUTION)\n",
    "        parse_contract_execution_json(burn_passport_json, row=row)\n",
    "        break\n",
    "    else:\n",
    "        create_passport_json = burn_passport(row, token_id=get_passport_id(WALLET_ADDRESS))"
   ],
   "metadata": {
    "collapsed": false,
    "pycharm": {
     "name": "#%%\n"
    }
   }
  },
  {
   "cell_type": "code",
   "execution_count": 22,
   "outputs": [],
   "source": [],
   "metadata": {
    "collapsed": false,
    "pycharm": {
     "name": "#%%\n"
    }
   }
  },
  {
   "cell_type": "markdown",
   "source": [
    "### Add tests for Passport contract\n",
    "#### create_passport +\n",
    "#### update_name\n",
    "#### update_avatar\n",
    "#### proof_address +\n",
    "#### remove_address\n",
    "#### set_minter\n",
    "#### set_owner\n",
    "#### set_active\n",
    "#### set_subgraphs\n",
    "#### transfer_nft +\n",
    "#### send_nft\n",
    "#### mint\n",
    "#### burn +\n",
    "#### approve\n",
    "#### approve_all\n",
    "#### revoke\n",
    "#### revoke_all\n",
    "#### Expirations\n",
    "##### at_height\n",
    "##### at_time\n",
    "##### never\n",
    "\n",
    "### Add tests for Gift contract\n",
    "#### update_owner\n",
    "#### update_passport_addr\n",
    "#### update_target\n",
    "#### register_merkle_root +\n",
    "#### claim +\n",
    "#### release +\n",
    "\n",
    "### Add tests for subgraph contract\n",
    "#### update_owner\n",
    "#### update_executer +"
   ],
   "metadata": {
    "collapsed": false,
    "pycharm": {
     "name": "#%% md\n"
    }
   }
  },
  {
   "cell_type": "code",
   "execution_count": 22,
   "outputs": [],
   "source": [],
   "metadata": {
    "collapsed": false,
    "pycharm": {
     "name": "#%%\n"
    }
   }
  }
 ],
 "metadata": {
  "kernelspec": {
   "display_name": "Python 3",
   "language": "python",
   "name": "python3"
  },
  "language_info": {
   "codemirror_mode": {
    "name": "ipython",
    "version": 2
   },
   "file_extension": ".py",
   "mimetype": "text/x-python",
   "name": "python",
   "nbconvert_exporter": "python",
   "pygments_lexer": "ipython2",
   "version": "2.7.6"
  }
 },
 "nbformat": 4,
 "nbformat_minor": 0
}