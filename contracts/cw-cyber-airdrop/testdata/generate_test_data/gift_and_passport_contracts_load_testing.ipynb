{
 "cells": [
  {
   "cell_type": "markdown",
   "source": [
    "## Gift Contract Testing"
   ],
   "metadata": {
    "collapsed": false
   }
  },
  {
   "cell_type": "code",
   "execution_count": 1,
   "outputs": [
    {
     "name": "stderr",
     "output_type": "stream",
     "text": [
      "/home/grovybear/.local/lib/python3.9/site-packages/ipfshttpclient/client/__init__.py:75: VersionMismatch: Unsupported daemon version '0.12.2' (not in range: 0.5.0 ≤ … < 0.9.0)\n",
      "  warnings.warn(exceptions.VersionMismatch(version, minimum, maximum))\n"
     ]
    }
   ],
   "source": [
    "from web3.auto import w3\n",
    "import pandas as pd\n",
    "from cyberpy import generate_wallet, address_to_address\n",
    "from cyberpy._message_signer import Message\n",
    "from cyberpy._wallet import seed_to_privkey\n",
    "from eth_account.messages import encode_defunct\n",
    "import json\n",
    "from pprint import pprint\n",
    "from time import time\n",
    "import ipfshttpclient\n",
    "from tqdm.notebook import tqdm\n",
    "from base64 import b64encode\n",
    "from multiprocess import Pool\n",
    "from math import ceil\n",
    "from dotenv import dotenv_values\n",
    "from IPython.display import display, HTML\n",
    "\n",
    "from contract_utils import execute_bash, instantiate_contract, execute_contract_bash, query_contract, get_ipfs_cid_from_str, get_proofs, ContractUtils\n",
    "\n",
    "\n",
    "ipfs_client = ipfshttpclient.connect()\n",
    "\n",
    "NUMBER_OF_PARTICIPANTS = 10\n",
    "NUMBER_OF_ACTIVATED_PARTICIPANTS = 5\n",
    "NUMBER_OF_THREADS = 100\n",
    "KEY_PHRASE = 'KEY PHRASE'\n",
    "NICKNAME_LIST = [f'john{round(time())}{number}' for number in range(NUMBER_OF_PARTICIPANTS)]\n",
    "AVATAR_CID_LIST = [get_ipfs_cid_from_str(_nickname + '_avatar') for _nickname in NICKNAME_LIST]\n",
    "CLAIM_AMOUNT_LIST = [20_000] * NUMBER_OF_PARTICIPANTS\n",
    "\n",
    "INITIAL_BALANCE = str(1_000_000_000)\n",
    "COEF_UP = str(13)\n",
    "COEF_DOWN = str(7)\n",
    "TARGET_CLAIM = str(2)\n",
    "\n",
    "WALLET_ADDRESS = dotenv_values('.env')['WALLET_ADDRESS']\n",
    "WALLET_SEED = dotenv_values('.env')['WALLET_SEED']\n",
    "PYTHON_PATH = dotenv_values('.env')['PYTHON_PATH']\n",
    "\n",
    "DISPLAY_TX_EXECUTION = False\n",
    "CALCULATE_ADDRESS_SET = True\n",
    "CALCULATE_PROOFS = True\n",
    "SEND_COINS = True\n",
    "PREFIX = 'terra'\n",
    "\n",
    "INIT_SUBGRAPH_CONTRACTS = False\n",
    "SUBGRAPH_CODE_ID = str(40)\n",
    "NAME_SUBGRAPH_CONTRACT_ADDRESS = 'bostrom1rncw9n73gm30vhrv6e4p603hav0gue8y5y9fgqa84k4atf5pqvfqcrnpl6'\n",
    "AVATAR_SUBGRAPH_CONTRACT_ADDRESS = 'bostrom164w2vl7z7lpuvex6z3ru0v55fgq3dmvxuqt0aejp49w7fyc8g6kshreggq'\n",
    "PROOF_SUBGRAPH_CONTRACT_ADDRESS = 'bostrom1543j9n7slzff3curyac7ylf2ctg7rk9zjf9ehj08eqx57xj33zzqdy6ga4'\n",
    "\n",
    "INIT_PASSPORT_CONTRACT = False\n",
    "PASSPORT_CODE_ID = str(43)\n",
    "PASSPORT_CONTRACT_ADDRESS = 'bostrom1g59m935w4kxmtfx5hhykre7w9q497ptp66asspz76vhgarss5ensdy35s8'\n",
    "\n",
    "INIT_GIFT_CONTRACT = True\n",
    "GIFT_CODE_ID = str(20)\n",
    "GIFT_CONTRACT_ADDRESS = 'bostrom14swjuycwxmvghd9hgr3f3755388g6xkaqpn2dxcf700fzcwdm2nqum7453'\n",
    "\n",
    "PARTICIPANTS_FILE_NAME = 'participants_test_data_' + str(NUMBER_OF_PARTICIPANTS) + '_addresses.csv'\n",
    "ROOT_SOURCE_FILE_NAME = 'root_testing_source_' + str(NUMBER_OF_PARTICIPANTS) + '_addresses.json'\n",
    "PROOF_FILE_NAME = 'proof_testing_' + str(NUMBER_OF_PARTICIPANTS) + '_addresses.json'\n",
    "ROOT_FILE_NAME = 'root_testing_' + str(NUMBER_OF_PARTICIPANTS) + '_addresses'"
   ],
   "metadata": {
    "collapsed": false,
    "pycharm": {
     "name": "#%%\n"
    }
   }
  },
  {
   "cell_type": "markdown",
   "source": [
    "### Generate addresses and sign messages"
   ],
   "metadata": {
    "collapsed": false
   }
  },
  {
   "cell_type": "code",
   "execution_count": 2,
   "outputs": [
    {
     "name": "stdout",
     "output_type": "stream",
     "text": [
      "Number of tasks: 10\n",
      "Number of threads: 100\n"
     ]
    },
    {
     "data": {
      "text/plain": "  0%|          | 0/10 [00:00<?, ?it/s]",
      "application/vnd.jupyter.widget-view+json": {
       "version_major": 2,
       "version_minor": 0,
       "model_id": "f04592ac977c4ba887d8379b2f01b43f"
      }
     },
     "metadata": {},
     "output_type": "display_data"
    },
    {
     "data": {
      "text/plain": "   amount         nickname                                          avatar  \\\n0   20000  john16504256240  QmP4nToEBpi6uiWj5Nb2au4dR17tkYy15fXgXqEYGBusJm   \n1   20000  john16504256241  Qme38z9BvkBasFUNrhn8TVvrWD8ePpGkpNx8v7WJWvyTHt   \n2   20000  john16504256242  QmVmT11r27GhwMitNCiP6WM2nRDsizZZazRRFBD4QBwWre   \n3   20000  john16504256243  QmPyJz5gJmVZkNHnjLtssqufLwQaQw7FPDgD7CY5uHfHNc   \n4   20000  john16504256244  QmT2u7k3buV7Nhii1NoyoJNp8j1PskgzcynisqPX5vhGFR   \n\n                             ethereum_address  \\\n0  0x9a5f0bbf5c11d6a529cd8117554a8081027846fb   \n1  0xafd2bdcfb28b845c92f4ece5a6c44fdbceba1b61   \n2  0x905a168d90cff99902baf6297f682a0a1727cef2   \n3  0xb70ed2815618997c30da21244583e6c6401af6cb   \n4  0x88688c62f9343cbc8135046f38d64c905e11c5d9   \n\n                                ethereum_private_key  \\\n0  0xfe86a12db9a254e9d218ad1ea5fea014689a02e3b8f6...   \n1  0xf184592e269f930ed1211e5953c4c5703fbf283c05a1...   \n2  0xc36d13f58573be843be6d38ef21ed71bebf6fc37ef3a...   \n3  0x0d1d64c44de49655fcfeafd45194cc2cfdca0d652fb7...   \n4  0x4c9e62a47f27b72a2f287f8ca80b22dbc4d66bd406a1...   \n\n                                  bostrom_address  \\\n0  bostrom1mpxadqzwgfahat2u8ch5lf398sw3gyggtqlww6   \n1  bostrom144tp5hje0eflst8eg8py8jg0r4lhfyjhrsxyuq   \n2  bostrom1dzkua4flhf5g5vkzc37ne3dwzwf2pry7ugklh8   \n3  bostrom1pnnyyhz95r3ne0vqpwx5m7d0g7xvwr6gfq6c6k   \n4  bostrom1ng4677w8sq48dsvhxpqqrs07enqn43v5fhtt7s   \n\n                                 cosmos_address  \\\n0  terra1mpxadqzwgfahat2u8ch5lf398sw3gyggwh3aja   \n1  terra144tp5hje0eflst8eg8py8jg0r4lhfyjhx8ghq8   \n2  terra1dzkua4flhf5g5vkzc37ne3dwzwf2pry7elcvtq   \n3  terra1pnnyyhz95r3ne0vqpwx5m7d0g7xvwr6gvh5tx3   \n4  terra1ng4677w8sq48dsvhxpqqrs07enqn43v5vq9czh   \n\n                                         cosmos_seed  \\\n0  card choose elevator truly lottery write denia...   \n1  ability hour sleep stem jewel industry respons...   \n2  fog screen cluster vivid exhibit violin myth e...   \n3  huge arch muscle wrestle pig party mouse stree...   \n4  lab tone caught reunion urban another loyal sk...   \n\n                                             message  \\\n0  bostrom1mpxadqzwgfahat2u8ch5lf398sw3gyggtqlww6...   \n1  bostrom144tp5hje0eflst8eg8py8jg0r4lhfyjhrsxyuq...   \n2  bostrom1dzkua4flhf5g5vkzc37ne3dwzwf2pry7ugklh8...   \n3  bostrom1pnnyyhz95r3ne0vqpwx5m7d0g7xvwr6gfq6c6k...   \n4  bostrom1ng4677w8sq48dsvhxpqqrs07enqn43v5fhtt7s...   \n\n                          ethereum_message_signature  \\\n0  0xd5cd520a249cfb60ccea30795d65765e652525f2e5db...   \n1  0x95bb7ad4e0ff4e8ff1a95515d9eaf0467aef73abe253...   \n2  0xd7df657766b823f958f2ac687c13cdf47aab36546e1f...   \n3  0x09aef9028c2ac4737068427a2ce96ff2b82718d494f4...   \n4  0x3ca4073a15d383f44bf852294bbb155d689dbcdbde02...   \n\n                           cosmos_message_signed_row  \\\n0  {'pub_key': 'As9N9jZB+OnV7elydUz7l0sHCp1g0Qyn/...   \n1  {'pub_key': 'At1Gc8lVuvPmiY3cBO3n2NBIUK/qak6fy...   \n2  {'pub_key': 'AjXCkZZoFKOjTXZ5B1RHjqE9ntRHRSsED...   \n3  {'pub_key': 'AlIlP/46XgHznglIjjoOOy9IAKv00CHdM...   \n4  {'pub_key': 'A8aj971kLRSLraxvGk2CO6x7T0CibPf5R...   \n\n                            cosmos_message_signature  \n0  eyJwdWJfa2V5IjoiQXM5TjlqWkIrT25WN2VseWRVejdsMH...  \n1  eyJwdWJfa2V5IjoiQXQxR2M4bFZ1dlBtaVkzY0JPM24yTk...  \n2  eyJwdWJfa2V5IjoiQWpYQ2taWm9GS09qVFhaNUIxUkhqcU...  \n3  eyJwdWJfa2V5IjoiQWxJbFAvNDZYZ0h6bmdsSWpqb09PeT...  \n4  eyJwdWJfa2V5IjoiQThhajk3MWtMUlNMcmF4dkdrMkNPNn...  ",
      "text/html": "<div>\n<style scoped>\n    .dataframe tbody tr th:only-of-type {\n        vertical-align: middle;\n    }\n\n    .dataframe tbody tr th {\n        vertical-align: top;\n    }\n\n    .dataframe thead th {\n        text-align: right;\n    }\n</style>\n<table border=\"1\" class=\"dataframe\">\n  <thead>\n    <tr style=\"text-align: right;\">\n      <th></th>\n      <th>amount</th>\n      <th>nickname</th>\n      <th>avatar</th>\n      <th>ethereum_address</th>\n      <th>ethereum_private_key</th>\n      <th>bostrom_address</th>\n      <th>cosmos_address</th>\n      <th>cosmos_seed</th>\n      <th>message</th>\n      <th>ethereum_message_signature</th>\n      <th>cosmos_message_signed_row</th>\n      <th>cosmos_message_signature</th>\n    </tr>\n  </thead>\n  <tbody>\n    <tr>\n      <th>0</th>\n      <td>20000</td>\n      <td>john16504256240</td>\n      <td>QmP4nToEBpi6uiWj5Nb2au4dR17tkYy15fXgXqEYGBusJm</td>\n      <td>0x9a5f0bbf5c11d6a529cd8117554a8081027846fb</td>\n      <td>0xfe86a12db9a254e9d218ad1ea5fea014689a02e3b8f6...</td>\n      <td>bostrom1mpxadqzwgfahat2u8ch5lf398sw3gyggtqlww6</td>\n      <td>terra1mpxadqzwgfahat2u8ch5lf398sw3gyggwh3aja</td>\n      <td>card choose elevator truly lottery write denia...</td>\n      <td>bostrom1mpxadqzwgfahat2u8ch5lf398sw3gyggtqlww6...</td>\n      <td>0xd5cd520a249cfb60ccea30795d65765e652525f2e5db...</td>\n      <td>{'pub_key': 'As9N9jZB+OnV7elydUz7l0sHCp1g0Qyn/...</td>\n      <td>eyJwdWJfa2V5IjoiQXM5TjlqWkIrT25WN2VseWRVejdsMH...</td>\n    </tr>\n    <tr>\n      <th>1</th>\n      <td>20000</td>\n      <td>john16504256241</td>\n      <td>Qme38z9BvkBasFUNrhn8TVvrWD8ePpGkpNx8v7WJWvyTHt</td>\n      <td>0xafd2bdcfb28b845c92f4ece5a6c44fdbceba1b61</td>\n      <td>0xf184592e269f930ed1211e5953c4c5703fbf283c05a1...</td>\n      <td>bostrom144tp5hje0eflst8eg8py8jg0r4lhfyjhrsxyuq</td>\n      <td>terra144tp5hje0eflst8eg8py8jg0r4lhfyjhx8ghq8</td>\n      <td>ability hour sleep stem jewel industry respons...</td>\n      <td>bostrom144tp5hje0eflst8eg8py8jg0r4lhfyjhrsxyuq...</td>\n      <td>0x95bb7ad4e0ff4e8ff1a95515d9eaf0467aef73abe253...</td>\n      <td>{'pub_key': 'At1Gc8lVuvPmiY3cBO3n2NBIUK/qak6fy...</td>\n      <td>eyJwdWJfa2V5IjoiQXQxR2M4bFZ1dlBtaVkzY0JPM24yTk...</td>\n    </tr>\n    <tr>\n      <th>2</th>\n      <td>20000</td>\n      <td>john16504256242</td>\n      <td>QmVmT11r27GhwMitNCiP6WM2nRDsizZZazRRFBD4QBwWre</td>\n      <td>0x905a168d90cff99902baf6297f682a0a1727cef2</td>\n      <td>0xc36d13f58573be843be6d38ef21ed71bebf6fc37ef3a...</td>\n      <td>bostrom1dzkua4flhf5g5vkzc37ne3dwzwf2pry7ugklh8</td>\n      <td>terra1dzkua4flhf5g5vkzc37ne3dwzwf2pry7elcvtq</td>\n      <td>fog screen cluster vivid exhibit violin myth e...</td>\n      <td>bostrom1dzkua4flhf5g5vkzc37ne3dwzwf2pry7ugklh8...</td>\n      <td>0xd7df657766b823f958f2ac687c13cdf47aab36546e1f...</td>\n      <td>{'pub_key': 'AjXCkZZoFKOjTXZ5B1RHjqE9ntRHRSsED...</td>\n      <td>eyJwdWJfa2V5IjoiQWpYQ2taWm9GS09qVFhaNUIxUkhqcU...</td>\n    </tr>\n    <tr>\n      <th>3</th>\n      <td>20000</td>\n      <td>john16504256243</td>\n      <td>QmPyJz5gJmVZkNHnjLtssqufLwQaQw7FPDgD7CY5uHfHNc</td>\n      <td>0xb70ed2815618997c30da21244583e6c6401af6cb</td>\n      <td>0x0d1d64c44de49655fcfeafd45194cc2cfdca0d652fb7...</td>\n      <td>bostrom1pnnyyhz95r3ne0vqpwx5m7d0g7xvwr6gfq6c6k</td>\n      <td>terra1pnnyyhz95r3ne0vqpwx5m7d0g7xvwr6gvh5tx3</td>\n      <td>huge arch muscle wrestle pig party mouse stree...</td>\n      <td>bostrom1pnnyyhz95r3ne0vqpwx5m7d0g7xvwr6gfq6c6k...</td>\n      <td>0x09aef9028c2ac4737068427a2ce96ff2b82718d494f4...</td>\n      <td>{'pub_key': 'AlIlP/46XgHznglIjjoOOy9IAKv00CHdM...</td>\n      <td>eyJwdWJfa2V5IjoiQWxJbFAvNDZYZ0h6bmdsSWpqb09PeT...</td>\n    </tr>\n    <tr>\n      <th>4</th>\n      <td>20000</td>\n      <td>john16504256244</td>\n      <td>QmT2u7k3buV7Nhii1NoyoJNp8j1PskgzcynisqPX5vhGFR</td>\n      <td>0x88688c62f9343cbc8135046f38d64c905e11c5d9</td>\n      <td>0x4c9e62a47f27b72a2f287f8ca80b22dbc4d66bd406a1...</td>\n      <td>bostrom1ng4677w8sq48dsvhxpqqrs07enqn43v5fhtt7s</td>\n      <td>terra1ng4677w8sq48dsvhxpqqrs07enqn43v5vq9czh</td>\n      <td>lab tone caught reunion urban another loyal sk...</td>\n      <td>bostrom1ng4677w8sq48dsvhxpqqrs07enqn43v5fhtt7s...</td>\n      <td>0x3ca4073a15d383f44bf852294bbb155d689dbcdbde02...</td>\n      <td>{'pub_key': 'A8aj971kLRSLraxvGk2CO6x7T0CibPf5R...</td>\n      <td>eyJwdWJfa2V5IjoiQThhajk3MWtMUlNMcmF4dkdrMkNPNn...</td>\n    </tr>\n  </tbody>\n</table>\n</div>"
     },
     "execution_count": 2,
     "metadata": {},
     "output_type": "execute_result"
    }
   ],
   "source": [
    "def generate_wallet_data(i: int, prefix: str = PREFIX) -> dict:\n",
    "\n",
    "    claim_item = {'amount': CLAIM_AMOUNT_LIST[i],\n",
    "              'nickname': NICKNAME_LIST[i],\n",
    "              'avatar': AVATAR_CID_LIST[i]}\n",
    "\n",
    "    # Generate Ethereum wallet\n",
    "    ethereum_wallet = w3.eth.account.create(KEY_PHRASE)\n",
    "    claim_item['ethereum_address'] = ethereum_wallet.address.lower()\n",
    "    claim_item['ethereum_private_key'] = ethereum_wallet.privateKey.hex()\n",
    "\n",
    "    # Generate Bostrom and Cosmos wallet\n",
    "    bostrom_wallet = generate_wallet()\n",
    "    claim_item['bostrom_address'] = bostrom_wallet['address']\n",
    "    claim_item['cosmos_address'] = address_to_address(bostrom_wallet['address'], prefix)\n",
    "    claim_item['cosmos_seed'] = bostrom_wallet['seed']\n",
    "\n",
    "    # Create message\n",
    "    claim_item['message'] = f\"{claim_item['bostrom_address']}:QmRX8qYgeZoYM3M5zzQaWEpVFdpin6FvVXvp6RPQK3oufV\"\n",
    "\n",
    "    # Sign message form Ethereum address\n",
    "    ethereum_signed_message = \\\n",
    "        w3.eth.account.sign_message(\n",
    "            signable_message=encode_defunct(text=claim_item['message']),\n",
    "            private_key=ethereum_wallet.privateKey)\n",
    "    claim_item['ethereum_message_signature'] = ethereum_signed_message.signature.hex()\n",
    "\n",
    "    # Sign message form Cosmos address\n",
    "    cosmos_msg = Message(privkey=seed_to_privkey(seed=claim_item['cosmos_seed']))\n",
    "    cosmos_msg.add_message(signing_message=claim_item['message'], signer_prefix=prefix)\n",
    "    claim_item['cosmos_message_signed_row'] = cosmos_msg.get_signed_message()\n",
    "    claim_item['cosmos_message_signature'] = b64encode(json.dumps(claim_item['cosmos_message_signed_row']).replace('\\n', '').replace(' ', '').encode('utf-8')).decode(\"utf-8\")\n",
    "\n",
    "    # Verify message\n",
    "    assert claim_item['ethereum_address'] == w3.eth.account.recover_message(\n",
    "        signable_message=encode_defunct(text=claim_item['message']),\n",
    "        signature=claim_item['ethereum_message_signature']).lower()\n",
    "\n",
    "    return claim_item\n",
    "\n",
    "\n",
    "if CALCULATE_ADDRESS_SET:\n",
    "\n",
    "    tasks = list(range(NUMBER_OF_PARTICIPANTS))\n",
    "    print(f'Number of tasks: {len(tasks)}')\n",
    "    print(f'Number of threads: {NUMBER_OF_THREADS}')\n",
    "    with Pool(processes=NUMBER_OF_THREADS) as pool:\n",
    "        claims_list = list(tqdm(pool.imap(generate_wallet_data, tasks), total=len(tasks)))\n",
    "\n",
    "    claims_df = pd.DataFrame(claims_list)\n",
    "    claims_df.to_csv('claims_ethereum_test_data_without_proof_' + str(NUMBER_OF_PARTICIPANTS) + '_addresses.csv')\n",
    "else:\n",
    "    claims_df = pd.read_csv('claims_ethereum_test_data_without_proof_' + str(NUMBER_OF_PARTICIPANTS) + '_addresses.csv')\n",
    "claims_df.head()"
   ],
   "metadata": {
    "collapsed": false,
    "pycharm": {
     "name": "#%%\n"
    }
   }
  },
  {
   "cell_type": "markdown",
   "source": [
    "### Create Merkle Tree, Get Root and Proofs"
   ],
   "metadata": {
    "collapsed": false,
    "pycharm": {
     "name": "#%% md\n"
    }
   }
  },
  {
   "cell_type": "code",
   "execution_count": 3,
   "outputs": [],
   "source": [
    "root_source_list = [{'address': _item[0],\n",
    "                     'amount': str(_item[1])} for _item in claims_df[['ethereum_address', 'amount']].values.tolist()]+ \\\n",
    "                    [{'address': _item[0],\n",
    "                      'amount': str(_item[1])} for _item in claims_df[['cosmos_address', 'amount']].values.tolist()]\n",
    "root_source_list.append({'address': '0xF2749114FeaAD68854E01C8eE762C7170532FdfD'.lower(), 'amount': '10000000'})\n",
    "with open(ROOT_SOURCE_FILE_NAME, 'w') as outfile:\n",
    "    outfile.write(str(root_source_list).replace(\"'\", '\"'))"
   ],
   "metadata": {
    "collapsed": false,
    "pycharm": {
     "name": "#%%\n"
    }
   }
  },
  {
   "cell_type": "code",
   "execution_count": 4,
   "outputs": [
    {
     "name": "stdout",
     "output_type": "stream",
     "text": [
      "{('root_testing_source_10_addresses.json', 'temp/proofs_0.json', 0, 21)}\n"
     ]
    },
    {
     "data": {
      "text/plain": "  0%|          | 0/1 [00:00<?, ?it/s]",
      "application/vnd.jupyter.widget-view+json": {
       "version_major": 2,
       "version_minor": 0,
       "model_id": "b99b0aaac6094d5eba281f8a9577cb8a"
      }
     },
     "metadata": {},
     "output_type": "display_data"
    },
    {
     "name": "stdout",
     "output_type": "stream",
     "text": [
      "yarn run v1.22.18\n",
      "$ ts-node index.ts --input root_testing_source_10_addresses.json --output temp/proofs_0.json --start_index 0 --end_index 21\n",
      "Merkle root: 38972df4bb090bf59f5f762d03683fe741f742ae66b0dc96906d02cc8b0be033\n",
      "Number of addresses in the Merkle tree: 21\n",
      "Done in 1.14s.\n",
      "\n"
     ]
    }
   ],
   "source": [
    "NUMBER_OF_THREADS = 15\n",
    "BASH_SIZE = 1000\n",
    "\n",
    "tasks = set(\n",
    "    (\n",
    "        (ROOT_SOURCE_FILE_NAME,\n",
    "         f'temp/proofs_{i}.json',\n",
    "         i * BASH_SIZE,\n",
    "         min(NUMBER_OF_PARTICIPANTS * 2 + 1, (i + 1) * BASH_SIZE + 1))\n",
    "        for i in range(ceil(2 * NUMBER_OF_PARTICIPANTS/BASH_SIZE))\n",
    "    )\n",
    ")\n",
    "if CALCULATE_PROOFS:\n",
    "    print(tasks)\n",
    "    with Pool(processes=NUMBER_OF_THREADS) as pool:\n",
    "        res = pool.starmap(get_proofs, tqdm(tasks, total=len(tasks)))\n",
    "    assert res == [True] * len(res)"
   ],
   "metadata": {
    "collapsed": false,
    "pycharm": {
     "name": "#%%\n"
    }
   }
  },
  {
   "cell_type": "code",
   "execution_count": 5,
   "outputs": [
    {
     "data": {
      "text/plain": "   amount         nickname                                          avatar  \\\n0   20000  john16504256240  QmP4nToEBpi6uiWj5Nb2au4dR17tkYy15fXgXqEYGBusJm   \n1   20000  john16504256241  Qme38z9BvkBasFUNrhn8TVvrWD8ePpGkpNx8v7WJWvyTHt   \n2   20000  john16504256242  QmVmT11r27GhwMitNCiP6WM2nRDsizZZazRRFBD4QBwWre   \n3   20000  john16504256243  QmPyJz5gJmVZkNHnjLtssqufLwQaQw7FPDgD7CY5uHfHNc   \n4   20000  john16504256244  QmT2u7k3buV7Nhii1NoyoJNp8j1PskgzcynisqPX5vhGFR   \n\n                             ethereum_address  \\\n0  0x9a5f0bbf5c11d6a529cd8117554a8081027846fb   \n1  0xafd2bdcfb28b845c92f4ece5a6c44fdbceba1b61   \n2  0x905a168d90cff99902baf6297f682a0a1727cef2   \n3  0xb70ed2815618997c30da21244583e6c6401af6cb   \n4  0x88688c62f9343cbc8135046f38d64c905e11c5d9   \n\n                                ethereum_private_key  \\\n0  0xfe86a12db9a254e9d218ad1ea5fea014689a02e3b8f6...   \n1  0xf184592e269f930ed1211e5953c4c5703fbf283c05a1...   \n2  0xc36d13f58573be843be6d38ef21ed71bebf6fc37ef3a...   \n3  0x0d1d64c44de49655fcfeafd45194cc2cfdca0d652fb7...   \n4  0x4c9e62a47f27b72a2f287f8ca80b22dbc4d66bd406a1...   \n\n                                  bostrom_address  \\\n0  bostrom1mpxadqzwgfahat2u8ch5lf398sw3gyggtqlww6   \n1  bostrom144tp5hje0eflst8eg8py8jg0r4lhfyjhrsxyuq   \n2  bostrom1dzkua4flhf5g5vkzc37ne3dwzwf2pry7ugklh8   \n3  bostrom1pnnyyhz95r3ne0vqpwx5m7d0g7xvwr6gfq6c6k   \n4  bostrom1ng4677w8sq48dsvhxpqqrs07enqn43v5fhtt7s   \n\n                                 cosmos_address  \\\n0  terra1mpxadqzwgfahat2u8ch5lf398sw3gyggwh3aja   \n1  terra144tp5hje0eflst8eg8py8jg0r4lhfyjhx8ghq8   \n2  terra1dzkua4flhf5g5vkzc37ne3dwzwf2pry7elcvtq   \n3  terra1pnnyyhz95r3ne0vqpwx5m7d0g7xvwr6gvh5tx3   \n4  terra1ng4677w8sq48dsvhxpqqrs07enqn43v5vq9czh   \n\n                                         cosmos_seed  \\\n0  card choose elevator truly lottery write denia...   \n1  ability hour sleep stem jewel industry respons...   \n2  fog screen cluster vivid exhibit violin myth e...   \n3  huge arch muscle wrestle pig party mouse stree...   \n4  lab tone caught reunion urban another loyal sk...   \n\n                                             message  \\\n0  bostrom1mpxadqzwgfahat2u8ch5lf398sw3gyggtqlww6...   \n1  bostrom144tp5hje0eflst8eg8py8jg0r4lhfyjhrsxyuq...   \n2  bostrom1dzkua4flhf5g5vkzc37ne3dwzwf2pry7ugklh8...   \n3  bostrom1pnnyyhz95r3ne0vqpwx5m7d0g7xvwr6gfq6c6k...   \n4  bostrom1ng4677w8sq48dsvhxpqqrs07enqn43v5fhtt7s...   \n\n                          ethereum_message_signature  \\\n0  0xd5cd520a249cfb60ccea30795d65765e652525f2e5db...   \n1  0x95bb7ad4e0ff4e8ff1a95515d9eaf0467aef73abe253...   \n2  0xd7df657766b823f958f2ac687c13cdf47aab36546e1f...   \n3  0x09aef9028c2ac4737068427a2ce96ff2b82718d494f4...   \n4  0x3ca4073a15d383f44bf852294bbb155d689dbcdbde02...   \n\n                           cosmos_message_signed_row  \\\n0  {'pub_key': 'As9N9jZB+OnV7elydUz7l0sHCp1g0Qyn/...   \n1  {'pub_key': 'At1Gc8lVuvPmiY3cBO3n2NBIUK/qak6fy...   \n2  {'pub_key': 'AjXCkZZoFKOjTXZ5B1RHjqE9ntRHRSsED...   \n3  {'pub_key': 'AlIlP/46XgHznglIjjoOOy9IAKv00CHdM...   \n4  {'pub_key': 'A8aj971kLRSLraxvGk2CO6x7T0CibPf5R...   \n\n                            cosmos_message_signature  \\\n0  eyJwdWJfa2V5IjoiQXM5TjlqWkIrT25WN2VseWRVejdsMH...   \n1  eyJwdWJfa2V5IjoiQXQxR2M4bFZ1dlBtaVkzY0JPM24yTk...   \n2  eyJwdWJfa2V5IjoiQWpYQ2taWm9GS09qVFhaNUIxUkhqcU...   \n3  eyJwdWJfa2V5IjoiQWxJbFAvNDZYZ0h6bmdsSWpqb09PeT...   \n4  eyJwdWJfa2V5IjoiQThhajk3MWtMUlNMcmF4dkdrMkNPNn...   \n\n                                      ethereum_proof  \\\n0  [c11b8fd1bf4acbb10d9a2938934798692f31eca0c5e98...   \n1  [a76348d8a6006c0d04fb046ebe968c80a9371ae1dc4a4...   \n2  [39e347286602d0d2ccb3ed52293967d23735e7648b4e9...   \n3  [17c7ae3fd12ce47596f08f97dfae61f0f8bc62d3e37bd...   \n4  [837f5204efbf16ba6ef9cf0680010f79876a313e9c811...   \n\n                                        cosmos_proof  \n0  [e30b13867a702d325c698dbf43db1229fb531d43d32e6...  \n1  [eb00b5aac8ff0113e4c011c2920ea161d10dab7cf48b5...  \n2  [8a28c78c36b5cd5f35dd0294a7d9ac3b27bea0cb8d23d...  \n3  [67c905493fb16671a33a7da378475269a41b66cdd4e14...  \n4  [a484f51b4afcea3792bf7f3f7864ddf2ec94774c243f5...  ",
      "text/html": "<div>\n<style scoped>\n    .dataframe tbody tr th:only-of-type {\n        vertical-align: middle;\n    }\n\n    .dataframe tbody tr th {\n        vertical-align: top;\n    }\n\n    .dataframe thead th {\n        text-align: right;\n    }\n</style>\n<table border=\"1\" class=\"dataframe\">\n  <thead>\n    <tr style=\"text-align: right;\">\n      <th></th>\n      <th>amount</th>\n      <th>nickname</th>\n      <th>avatar</th>\n      <th>ethereum_address</th>\n      <th>ethereum_private_key</th>\n      <th>bostrom_address</th>\n      <th>cosmos_address</th>\n      <th>cosmos_seed</th>\n      <th>message</th>\n      <th>ethereum_message_signature</th>\n      <th>cosmos_message_signed_row</th>\n      <th>cosmos_message_signature</th>\n      <th>ethereum_proof</th>\n      <th>cosmos_proof</th>\n    </tr>\n  </thead>\n  <tbody>\n    <tr>\n      <th>0</th>\n      <td>20000</td>\n      <td>john16504256240</td>\n      <td>QmP4nToEBpi6uiWj5Nb2au4dR17tkYy15fXgXqEYGBusJm</td>\n      <td>0x9a5f0bbf5c11d6a529cd8117554a8081027846fb</td>\n      <td>0xfe86a12db9a254e9d218ad1ea5fea014689a02e3b8f6...</td>\n      <td>bostrom1mpxadqzwgfahat2u8ch5lf398sw3gyggtqlww6</td>\n      <td>terra1mpxadqzwgfahat2u8ch5lf398sw3gyggwh3aja</td>\n      <td>card choose elevator truly lottery write denia...</td>\n      <td>bostrom1mpxadqzwgfahat2u8ch5lf398sw3gyggtqlww6...</td>\n      <td>0xd5cd520a249cfb60ccea30795d65765e652525f2e5db...</td>\n      <td>{'pub_key': 'As9N9jZB+OnV7elydUz7l0sHCp1g0Qyn/...</td>\n      <td>eyJwdWJfa2V5IjoiQXM5TjlqWkIrT25WN2VseWRVejdsMH...</td>\n      <td>[c11b8fd1bf4acbb10d9a2938934798692f31eca0c5e98...</td>\n      <td>[e30b13867a702d325c698dbf43db1229fb531d43d32e6...</td>\n    </tr>\n    <tr>\n      <th>1</th>\n      <td>20000</td>\n      <td>john16504256241</td>\n      <td>Qme38z9BvkBasFUNrhn8TVvrWD8ePpGkpNx8v7WJWvyTHt</td>\n      <td>0xafd2bdcfb28b845c92f4ece5a6c44fdbceba1b61</td>\n      <td>0xf184592e269f930ed1211e5953c4c5703fbf283c05a1...</td>\n      <td>bostrom144tp5hje0eflst8eg8py8jg0r4lhfyjhrsxyuq</td>\n      <td>terra144tp5hje0eflst8eg8py8jg0r4lhfyjhx8ghq8</td>\n      <td>ability hour sleep stem jewel industry respons...</td>\n      <td>bostrom144tp5hje0eflst8eg8py8jg0r4lhfyjhrsxyuq...</td>\n      <td>0x95bb7ad4e0ff4e8ff1a95515d9eaf0467aef73abe253...</td>\n      <td>{'pub_key': 'At1Gc8lVuvPmiY3cBO3n2NBIUK/qak6fy...</td>\n      <td>eyJwdWJfa2V5IjoiQXQxR2M4bFZ1dlBtaVkzY0JPM24yTk...</td>\n      <td>[a76348d8a6006c0d04fb046ebe968c80a9371ae1dc4a4...</td>\n      <td>[eb00b5aac8ff0113e4c011c2920ea161d10dab7cf48b5...</td>\n    </tr>\n    <tr>\n      <th>2</th>\n      <td>20000</td>\n      <td>john16504256242</td>\n      <td>QmVmT11r27GhwMitNCiP6WM2nRDsizZZazRRFBD4QBwWre</td>\n      <td>0x905a168d90cff99902baf6297f682a0a1727cef2</td>\n      <td>0xc36d13f58573be843be6d38ef21ed71bebf6fc37ef3a...</td>\n      <td>bostrom1dzkua4flhf5g5vkzc37ne3dwzwf2pry7ugklh8</td>\n      <td>terra1dzkua4flhf5g5vkzc37ne3dwzwf2pry7elcvtq</td>\n      <td>fog screen cluster vivid exhibit violin myth e...</td>\n      <td>bostrom1dzkua4flhf5g5vkzc37ne3dwzwf2pry7ugklh8...</td>\n      <td>0xd7df657766b823f958f2ac687c13cdf47aab36546e1f...</td>\n      <td>{'pub_key': 'AjXCkZZoFKOjTXZ5B1RHjqE9ntRHRSsED...</td>\n      <td>eyJwdWJfa2V5IjoiQWpYQ2taWm9GS09qVFhaNUIxUkhqcU...</td>\n      <td>[39e347286602d0d2ccb3ed52293967d23735e7648b4e9...</td>\n      <td>[8a28c78c36b5cd5f35dd0294a7d9ac3b27bea0cb8d23d...</td>\n    </tr>\n    <tr>\n      <th>3</th>\n      <td>20000</td>\n      <td>john16504256243</td>\n      <td>QmPyJz5gJmVZkNHnjLtssqufLwQaQw7FPDgD7CY5uHfHNc</td>\n      <td>0xb70ed2815618997c30da21244583e6c6401af6cb</td>\n      <td>0x0d1d64c44de49655fcfeafd45194cc2cfdca0d652fb7...</td>\n      <td>bostrom1pnnyyhz95r3ne0vqpwx5m7d0g7xvwr6gfq6c6k</td>\n      <td>terra1pnnyyhz95r3ne0vqpwx5m7d0g7xvwr6gvh5tx3</td>\n      <td>huge arch muscle wrestle pig party mouse stree...</td>\n      <td>bostrom1pnnyyhz95r3ne0vqpwx5m7d0g7xvwr6gfq6c6k...</td>\n      <td>0x09aef9028c2ac4737068427a2ce96ff2b82718d494f4...</td>\n      <td>{'pub_key': 'AlIlP/46XgHznglIjjoOOy9IAKv00CHdM...</td>\n      <td>eyJwdWJfa2V5IjoiQWxJbFAvNDZYZ0h6bmdsSWpqb09PeT...</td>\n      <td>[17c7ae3fd12ce47596f08f97dfae61f0f8bc62d3e37bd...</td>\n      <td>[67c905493fb16671a33a7da378475269a41b66cdd4e14...</td>\n    </tr>\n    <tr>\n      <th>4</th>\n      <td>20000</td>\n      <td>john16504256244</td>\n      <td>QmT2u7k3buV7Nhii1NoyoJNp8j1PskgzcynisqPX5vhGFR</td>\n      <td>0x88688c62f9343cbc8135046f38d64c905e11c5d9</td>\n      <td>0x4c9e62a47f27b72a2f287f8ca80b22dbc4d66bd406a1...</td>\n      <td>bostrom1ng4677w8sq48dsvhxpqqrs07enqn43v5fhtt7s</td>\n      <td>terra1ng4677w8sq48dsvhxpqqrs07enqn43v5vq9czh</td>\n      <td>lab tone caught reunion urban another loyal sk...</td>\n      <td>bostrom1ng4677w8sq48dsvhxpqqrs07enqn43v5fhtt7s...</td>\n      <td>0x3ca4073a15d383f44bf852294bbb155d689dbcdbde02...</td>\n      <td>{'pub_key': 'A8aj971kLRSLraxvGk2CO6x7T0CibPf5R...</td>\n      <td>eyJwdWJfa2V5IjoiQThhajk3MWtMUlNMcmF4dkdrMkNPNn...</td>\n      <td>[837f5204efbf16ba6ef9cf0680010f79876a313e9c811...</td>\n      <td>[a484f51b4afcea3792bf7f3f7864ddf2ec94774c243f5...</td>\n    </tr>\n  </tbody>\n</table>\n</div>"
     },
     "execution_count": 5,
     "metadata": {},
     "output_type": "execute_result"
    }
   ],
   "source": [
    "if CALCULATE_PROOFS:\n",
    "    roots = []\n",
    "    proofs_df = pd.DataFrame(columns=['address', 'amount', 'proof'])\n",
    "    for task in tasks:\n",
    "        with open(task[1], 'r') as proof_file:\n",
    "            root_and_proof_json = json.load(proof_file)\n",
    "        roots.append(root_and_proof_json['merkle_root'])\n",
    "        proofs_df = pd.concat([proofs_df, pd.DataFrame(root_and_proof_json['proofs'])], ignore_index=True)\n",
    "    assert roots == [roots[0]] * len(roots)\n",
    "    root = roots[0]\n",
    "\n",
    "    cosmos_proofs_df = proofs_df[proofs_df.address.str.startswith(PREFIX)][['address', 'proof']]\n",
    "    ethereum_proofs_df = proofs_df[proofs_df.address.str.startswith('0x')][['address', 'proof']]\n",
    "\n",
    "    claims_with_proofs_df = claims_df\\\n",
    "        .merge(\n",
    "            ethereum_proofs_df.rename(columns={'address': 'ethereum_address', 'proof': 'ethereum_proof'}),\n",
    "            how='left',\n",
    "            on='ethereum_address')\\\n",
    "        .merge(\n",
    "            cosmos_proofs_df.rename(columns={'address': 'cosmos_address', 'proof': 'cosmos_proof'}),\n",
    "            how='left',\n",
    "            on='cosmos_address')\n",
    "\n",
    "    claims_with_proofs_df.to_csv(PARTICIPANTS_FILE_NAME)\n",
    "else:\n",
    "    claims_with_proofs_df = pd.read_csv(PARTICIPANTS_FILE_NAME)\n",
    "    claims_with_proofs_df.loc[:, 'ethereum_proof'] = claims_with_proofs_df['ethereum_proof'].map(lambda x: x.replace('\\'', '').replace('[', '').replace(']', '').split(', '))\n",
    "    claims_with_proofs_df.loc[:, 'cosmos_proof'] = claims_with_proofs_df['cosmos_proof'].map(lambda x: x.replace('\\'', '').replace('[', '').replace(']', '').split(', '))\n",
    "    with open('temp/proofs_1.json', 'r') as proof_file:\n",
    "        root_and_proof_json = json.load(proof_file)\n",
    "    root = root_and_proof_json['merkle_root']\n",
    "claims_with_proofs_df.head()"
   ],
   "metadata": {
    "collapsed": false,
    "pycharm": {
     "name": "#%%\n"
    }
   }
  },
  {
   "cell_type": "code",
   "execution_count": 6,
   "outputs": [],
   "source": [
    "for i in range(ceil(NUMBER_OF_PARTICIPANTS/10_000)):\n",
    "    claims_with_proofs_df.loc[i*10_000:(i+1)*10_000,:].to_csv(f'temp/{i}_{PARTICIPANTS_FILE_NAME}')"
   ],
   "metadata": {
    "collapsed": false,
    "pycharm": {
     "name": "#%%\n"
    }
   }
  },
  {
   "cell_type": "markdown",
   "source": [
    "## Instantiate Contracts\n",
    "### Instantiate SUBGRAPH Contracts"
   ],
   "metadata": {
    "collapsed": false,
    "pycharm": {
     "name": "#%% md\n"
    }
   }
  },
  {
   "cell_type": "code",
   "execution_count": 7,
   "outputs": [
    {
     "name": "stdout",
     "output_type": "stream",
     "text": [
      "Name subgraph contract address: bostrom1rncw9n73gm30vhrv6e4p603hav0gue8y5y9fgqa84k4atf5pqvfqcrnpl6\n",
      "Avatar subgraph contract address: bostrom164w2vl7z7lpuvex6z3ru0v55fgq3dmvxuqt0aejp49w7fyc8g6kshreggq\n",
      "Proof subgraph contract address: bostrom1543j9n7slzff3curyac7ylf2ctg7rk9zjf9ehj08eqx57xj33zzqdy6ga4\n"
     ]
    }
   ],
   "source": [
    "if INIT_SUBGRAPH_CONTRACTS:\n",
    "    name_subgraph_contract_address = \\\n",
    "        instantiate_contract(\n",
    "            init_query=f'''{{\"owner\":\"{WALLET_ADDRESS}\", \"executer\":\"{WALLET_ADDRESS}\"}}''',\n",
    "            contract_code_id=SUBGRAPH_CODE_ID,\n",
    "            contract_label='test name subgraph')\n",
    "    avatar_subgraph_contract_address = \\\n",
    "        instantiate_contract(\n",
    "            init_query=f'''{{\"owner\":\"{WALLET_ADDRESS}\", \"executer\":\"{WALLET_ADDRESS}\"}}''',\n",
    "            contract_code_id=SUBGRAPH_CODE_ID,\n",
    "            contract_label='test avatar subgraph',\n",
    "            from_address=WALLET_ADDRESS)\n",
    "    proof_subgraph_contract_address = \\\n",
    "        instantiate_contract(\n",
    "            init_query=f'''{{\"owner\":\"{WALLET_ADDRESS}\", \"executer\":\"{WALLET_ADDRESS}\"}}''',\n",
    "            contract_code_id=SUBGRAPH_CODE_ID,\n",
    "            contract_label='test proof subgraph',\n",
    "            from_address=WALLET_ADDRESS)\n",
    "else:\n",
    "    name_subgraph_contract_address = NAME_SUBGRAPH_CONTRACT_ADDRESS\n",
    "    avatar_subgraph_contract_address = AVATAR_SUBGRAPH_CONTRACT_ADDRESS\n",
    "    proof_subgraph_contract_address = PROOF_SUBGRAPH_CONTRACT_ADDRESS\n",
    "print(f'Name subgraph contract address: {name_subgraph_contract_address}\\n'\n",
    "      f'Avatar subgraph contract address: {avatar_subgraph_contract_address}\\n'\n",
    "      f'Proof subgraph contract address: {proof_subgraph_contract_address}')"
   ],
   "metadata": {
    "collapsed": false,
    "pycharm": {
     "name": "#%%\n"
    }
   }
  },
  {
   "cell_type": "markdown",
   "source": [
    "### Instantiate Passport Contract"
   ],
   "metadata": {
    "collapsed": false,
    "pycharm": {
     "name": "#%% md\n"
    }
   }
  },
  {
   "cell_type": "code",
   "execution_count": 8,
   "outputs": [
    {
     "name": "stdout",
     "output_type": "stream",
     "text": [
      "Passport contract address: bostrom1g59m935w4kxmtfx5hhykre7w9q497ptp66asspz76vhgarss5ensdy35s8\n"
     ]
    }
   ],
   "source": [
    "if INIT_PASSPORT_CONTRACT:\n",
    "    passport_contract_address = \\\n",
    "        instantiate_contract(\n",
    "            init_query=f'''{{\"name\":\"CPT\", \"minter\":\"{WALLET_ADDRESS}\", \"owner\":\"{WALLET_ADDRESS}\", \"symbol\":\"CPT\", \"avatar_subgraph\": \"{avatar_subgraph_contract_address}\", \"name_subgraph\": \"{name_subgraph_contract_address}\", \"proof_subgraph\": \"{proof_subgraph_contract_address}\"}}''',\n",
    "            contract_code_id=PASSPORT_CODE_ID,\n",
    "            contract_label='test passport',\n",
    "            from_address=WALLET_ADDRESS)\n",
    "else:\n",
    "    passport_contract_address = PASSPORT_CONTRACT_ADDRESS\n",
    "print(f'Passport contract address: {passport_contract_address}')"
   ],
   "metadata": {
    "collapsed": false,
    "pycharm": {
     "name": "#%%\n"
    }
   }
  },
  {
   "cell_type": "markdown",
   "source": [
    "### Set executor in the Subgraph Contracts"
   ],
   "metadata": {
    "collapsed": false,
    "pycharm": {
     "name": "#%% md\n"
    }
   }
  },
  {
   "cell_type": "code",
   "execution_count": 9,
   "outputs": [],
   "source": [
    "def set_executor_subgraph(subgraph_contract_address: str, new_executor_address: str, display_data: bool = False):\n",
    "    return execute_contract_bash(execute_query=f'''{{\"update_executer\":{{\"new_executer\":\"{new_executor_address}\"}}}}''',\n",
    "                                 contract_address=subgraph_contract_address,\n",
    "                                 gas=600000,\n",
    "                                 display_data=display_data)\n",
    "\n",
    "if INIT_PASSPORT_CONTRACT or INIT_SUBGRAPH_CONTRACTS:\n",
    "    set_executor_subgraph(subgraph_contract_address=name_subgraph_contract_address, new_executor_address=passport_contract_address)\n",
    "    set_executor_subgraph(subgraph_contract_address=avatar_subgraph_contract_address, new_executor_address=passport_contract_address)\n",
    "    set_executor_subgraph(subgraph_contract_address=proof_subgraph_contract_address, new_executor_address=passport_contract_address)"
   ],
   "metadata": {
    "collapsed": false,
    "pycharm": {
     "name": "#%%\n"
    }
   }
  },
  {
   "cell_type": "markdown",
   "source": [
    "### Instantiate Gift Contract"
   ],
   "metadata": {
    "collapsed": false,
    "pycharm": {
     "name": "#%% md\n"
    }
   }
  },
  {
   "cell_type": "code",
   "execution_count": 10,
   "outputs": [
    {
     "name": "stdout",
     "output_type": "stream",
     "text": [
      "Gift contract address: bostrom1d53n4k00ywxu9al2g8a8wnjvp8cxdeu9w7vve96vw4raasf9arqqtp6xpj\n"
     ]
    }
   ],
   "source": [
    "if INIT_GIFT_CONTRACT:\n",
    "    gift_contract_address = \\\n",
    "        instantiate_contract(\n",
    "            init_query=f'''{{\"owner\":\"{WALLET_ADDRESS}\", \"passport\":\"{passport_contract_address}\", \"allowed_native\":\"boot\", \"initial_balance\":\"{INITIAL_BALANCE}\", \"coefficient_up\":\"{COEF_UP}\", \"coefficient_down\":\"{COEF_DOWN}\", \"coefficient\":\"{COEF_UP}\", \"target_claim\":\"{TARGET_CLAIM}\"}}''',\n",
    "            contract_code_id=GIFT_CODE_ID,\n",
    "            amount=INITIAL_BALANCE,\n",
    "            contract_label='test gift',\n",
    "            from_address=WALLET_ADDRESS,\n",
    "            display_data=False)\n",
    "else:\n",
    "    gift_contract_address = GIFT_CONTRACT_ADDRESS\n",
    "print(f'Gift contract address: {gift_contract_address}')"
   ],
   "metadata": {
    "collapsed": false,
    "pycharm": {
     "name": "#%%\n"
    }
   }
  },
  {
   "cell_type": "markdown",
   "source": [
    "### Initiate Class of Output Parsing"
   ],
   "metadata": {
    "collapsed": false,
    "pycharm": {
     "name": "#%% md\n"
    }
   }
  },
  {
   "cell_type": "code",
   "execution_count": 11,
   "outputs": [],
   "source": [
    "contract_utils = ContractUtils(ipfs_client=ipfs_client,\n",
    "                               address_dict= {\n",
    "                                   gift_contract_address: 'Gift Contract',\n",
    "                                   passport_contract_address: 'Passport Contract',\n",
    "                                   WALLET_ADDRESS: 'Passport Owner Address',\n",
    "                                   name_subgraph_contract_address: 'Name Subgraph Contract',\n",
    "                                   avatar_subgraph_contract_address: 'Avatar Subgraph Contract',\n",
    "proof_subgraph_contract_address: 'Proof Subgraph Contract'})"
   ],
   "metadata": {
    "collapsed": false,
    "pycharm": {
     "name": "#%%\n"
    }
   }
  },
  {
   "cell_type": "markdown",
   "source": [],
   "metadata": {
    "collapsed": false,
    "pycharm": {
     "name": "#%% md\n"
    }
   }
  },
  {
   "cell_type": "markdown",
   "source": [
    "### Register Merkle Root"
   ],
   "metadata": {
    "collapsed": false,
    "pycharm": {
     "name": "#%% md\n"
    }
   }
  },
  {
   "cell_type": "code",
   "execution_count": 12,
   "outputs": [
    {
     "name": "stdout",
     "output_type": "stream",
     "text": [
      "\n",
      "Events\n",
      "\n",
      "execute\n",
      "\texecute contract: Gift Contract\n",
      "\n",
      "message from Passport Owner Address wasm /cosmwasm.wasm.v1.MsgExecuteContract\n",
      "\n",
      "wasm\n",
      "\t_contract_address: Gift Contract\n",
      "\taction: register_merkle_root\n",
      "\tmerkle_root: 38972df4bb090bf59f5f762d03683fe741f742ae66b0dc96906d02cc8b0be033\n",
      "Gas used: 121,492\n",
      "Tx hash: 18BD6190A6CF7E929E2EE8777C4845479B6F94070CEFB5A81927F96259DF56A2\n"
     ]
    }
   ],
   "source": [
    "root_register_output = contract_utils.execute_contract(\n",
    "    execute_msg={\"register_merkle_root\": {\"merkle_root\": root}},\n",
    "    mnemonic=WALLET_SEED,\n",
    "    contract_address=gift_contract_address)\n",
    "contract_utils.parse_contract_execution_json(root_register_output)"
   ],
   "metadata": {
    "collapsed": false,
    "pycharm": {
     "name": "#%%\n"
    }
   }
  },
  {
   "cell_type": "markdown",
   "source": [
    "#### Get Merkle Root form the Gift Contract"
   ],
   "metadata": {
    "collapsed": false,
    "pycharm": {
     "name": "#%% md\n"
    }
   },
   "execution_count": 156
  },
  {
   "cell_type": "code",
   "execution_count": 13,
   "outputs": [
    {
     "name": "stdout",
     "output_type": "stream",
     "text": [
      "Gift contract bostrom1d53n4k00ywxu9al2g8a8wnjvp8cxdeu9w7vve96vw4raasf9arqqtp6xpj\n",
      "{'data': {'merkle_root': '38972df4bb090bf59f5f762d03683fe741f742ae66b0dc96906d02cc8b0be033'}}\n"
     ]
    }
   ],
   "source": [
    "print(f'Gift contract {gift_contract_address}')\n",
    "print(query_contract(query='''{\"merkle_root\": {}}''',\n",
    "                     contract_address=gift_contract_address))"
   ],
   "metadata": {
    "collapsed": false,
    "pycharm": {
     "name": "#%%\n"
    }
   }
  },
  {
   "cell_type": "markdown",
   "source": [],
   "metadata": {
    "collapsed": false,
    "pycharm": {
     "name": "#%% md\n"
    }
   }
  },
  {
   "cell_type": "markdown",
   "source": [
    "### Send coins to new addresses"
   ],
   "metadata": {
    "collapsed": false,
    "pycharm": {
     "name": "#%% md\n"
    }
   }
  },
  {
   "cell_type": "code",
   "execution_count": 14,
   "outputs": [
    {
     "data": {
      "text/plain": "  0%|          | 0/1 [00:00<?, ?it/s]",
      "application/vnd.jupyter.widget-view+json": {
       "version_major": 2,
       "version_minor": 0,
       "model_id": "c19b5fb163bd45afb79b00a60bc68907"
      }
     },
     "metadata": {},
     "output_type": "display_data"
    },
    {
     "name": "stdout",
     "output_type": "stream",
     "text": [
      "\n",
      "Events\n",
      "\n",
      "coin received\n",
      "\treceiver: bostrom1mpxadqzwgfahat2u8ch5lf398sw3gyggtqlww6\n",
      "\tamount: 1boot\n",
      "\treceiver: bostrom144tp5hje0eflst8eg8py8jg0r4lhfyjhrsxyuq\n",
      "\tamount: 1boot\n",
      "\treceiver: bostrom1dzkua4flhf5g5vkzc37ne3dwzwf2pry7ugklh8\n",
      "\tamount: 1boot\n",
      "\treceiver: bostrom1pnnyyhz95r3ne0vqpwx5m7d0g7xvwr6gfq6c6k\n",
      "\tamount: 1boot\n",
      "\treceiver: bostrom1ng4677w8sq48dsvhxpqqrs07enqn43v5fhtt7s\n",
      "\tamount: 1boot\n",
      "\treceiver: bostrom1rd69gcc3jyfj2tkev975aehdgc5vc39wgpf733\n",
      "\tamount: 1boot\n",
      "\treceiver: bostrom1uu2d4eujf9vvhjak7texgnxumdrzyxzzvsd3v4\n",
      "\tamount: 1boot\n",
      "\treceiver: bostrom10ymyd7z635s3v94n93tdc5084mfhxsyg6v42um\n",
      "\tamount: 1boot\n",
      "\treceiver: bostrom18v75rmhlpj2pkux4g0yghry656dr2qr8qszjvz\n",
      "\tamount: 1boot\n",
      "\treceiver: bostrom17nxuf2fsv09esy4p97zgnxkt4fsltyznfycrz8\n",
      "\tamount: 1boot\n",
      "\n",
      "coin spent\n",
      "\tspender: Passport Owner Address\n",
      "\tamount: 1boot\n",
      "\tspender: Passport Owner Address\n",
      "\tamount: 1boot\n",
      "\tspender: Passport Owner Address\n",
      "\tamount: 1boot\n",
      "\tspender: Passport Owner Address\n",
      "\tamount: 1boot\n",
      "\tspender: Passport Owner Address\n",
      "\tamount: 1boot\n",
      "\tspender: Passport Owner Address\n",
      "\tamount: 1boot\n",
      "\tspender: Passport Owner Address\n",
      "\tamount: 1boot\n",
      "\tspender: Passport Owner Address\n",
      "\tamount: 1boot\n",
      "\tspender: Passport Owner Address\n",
      "\tamount: 1boot\n",
      "\tspender: Passport Owner Address\n",
      "\tamount: 1boot\n",
      "\n",
      "{'attributes': [{'key': 'action', 'value': '/cosmos.bank.v1beta1.MsgMultiSend'}, {'key': 'sender', 'value': 'bostrom1mxdtr8lruutugqtxgpw2sf2tl2mhzlq5fd2du0'}, {'key': 'sender', 'value': 'bostrom1mxdtr8lruutugqtxgpw2sf2tl2mhzlq5fd2du0'}, {'key': 'sender', 'value': 'bostrom1mxdtr8lruutugqtxgpw2sf2tl2mhzlq5fd2du0'}, {'key': 'sender', 'value': 'bostrom1mxdtr8lruutugqtxgpw2sf2tl2mhzlq5fd2du0'}, {'key': 'sender', 'value': 'bostrom1mxdtr8lruutugqtxgpw2sf2tl2mhzlq5fd2du0'}, {'key': 'sender', 'value': 'bostrom1mxdtr8lruutugqtxgpw2sf2tl2mhzlq5fd2du0'}, {'key': 'sender', 'value': 'bostrom1mxdtr8lruutugqtxgpw2sf2tl2mhzlq5fd2du0'}, {'key': 'sender', 'value': 'bostrom1mxdtr8lruutugqtxgpw2sf2tl2mhzlq5fd2du0'}, {'key': 'sender', 'value': 'bostrom1mxdtr8lruutugqtxgpw2sf2tl2mhzlq5fd2du0'}, {'key': 'sender', 'value': 'bostrom1mxdtr8lruutugqtxgpw2sf2tl2mhzlq5fd2du0'}, {'key': 'module', 'value': 'bank'}], 'type': 'message'}\n",
      "\n",
      "transfer\n",
      "\trecipient: bostrom1mpxadqzwgfahat2u8ch5lf398sw3gyggtqlww6\n",
      "\tamount: 1boot\n",
      "\trecipient: bostrom144tp5hje0eflst8eg8py8jg0r4lhfyjhrsxyuq\n",
      "\tamount: 1boot\n",
      "\trecipient: bostrom1dzkua4flhf5g5vkzc37ne3dwzwf2pry7ugklh8\n",
      "\tamount: 1boot\n",
      "\trecipient: bostrom1pnnyyhz95r3ne0vqpwx5m7d0g7xvwr6gfq6c6k\n",
      "\tamount: 1boot\n",
      "\trecipient: bostrom1ng4677w8sq48dsvhxpqqrs07enqn43v5fhtt7s\n",
      "\tamount: 1boot\n",
      "\trecipient: bostrom1rd69gcc3jyfj2tkev975aehdgc5vc39wgpf733\n",
      "\tamount: 1boot\n",
      "\trecipient: bostrom1uu2d4eujf9vvhjak7texgnxumdrzyxzzvsd3v4\n",
      "\tamount: 1boot\n",
      "\trecipient: bostrom10ymyd7z635s3v94n93tdc5084mfhxsyg6v42um\n",
      "\tamount: 1boot\n",
      "\trecipient: bostrom18v75rmhlpj2pkux4g0yghry656dr2qr8qszjvz\n",
      "\tamount: 1boot\n",
      "\trecipient: bostrom17nxuf2fsv09esy4p97zgnxkt4fsltyznfycrz8\n",
      "\tamount: 1boot\n",
      "Gas used: 293,514\n",
      "Tx hash: 4C99CB2AA2BBAC709EB9BBF145B87DD992691D5827DBA5B304365565FBC82FFF\n"
     ]
    }
   ],
   "source": [
    "NUMBER_ADDRESSES_IN_SENDING_CHUNK = 750\n",
    "\n",
    "bostrom_addresses = claims_with_proofs_df.bostrom_address.to_list()\n",
    "bostrom_addresses_chunks = [bostrom_addresses[i: i+ NUMBER_ADDRESSES_IN_SENDING_CHUNK] for i in range(0, len(bostrom_addresses), NUMBER_ADDRESSES_IN_SENDING_CHUNK)]\n",
    "\n",
    "for bostrom_addresses_item in tqdm(bostrom_addresses_chunks):\n",
    "    send_output = contract_utils.send_coins(\n",
    "            from_seed=WALLET_SEED,\n",
    "            to_addresses=bostrom_addresses_item,\n",
    "            amounts=[1] * len(bostrom_addresses_item),\n",
    "            gas=min(100_000 + 25_000 * len(bostrom_addresses_item), int(24e6)),\n",
    "            display_data=DISPLAY_TX_EXECUTION)\n",
    "    contract_utils.parse_contract_execution_json(contract_execution_json=send_output)"
   ],
   "metadata": {
    "collapsed": false,
    "pycharm": {
     "name": "#%%\n"
    }
   }
  },
  {
   "cell_type": "markdown",
   "source": [
    "### Create Passports, Proof Addresses and Claim Gift"
   ],
   "metadata": {
    "collapsed": false,
    "pycharm": {
     "name": "#%% md\n"
    }
   }
  },
  {
   "cell_type": "code",
   "execution_count": 15,
   "outputs": [
    {
     "name": "stdout",
     "output_type": "stream",
     "text": [
      "Number of tasks: 5\n",
      "Number of threads: 100\n"
     ]
    },
    {
     "data": {
      "text/plain": "  0%|          | 0/5 [00:00<?, ?it/s]",
      "application/vnd.jupyter.widget-view+json": {
       "version_major": 2,
       "version_minor": 0,
       "model_id": "4c88d806532342babbb365706afe30f1"
      }
     },
     "metadata": {},
     "output_type": "display_data"
    }
   ],
   "source": [
    "def execute_participation(row_index: int) -> bool:\n",
    "    _output, _error = execute_bash(bash_command=f'{PYTHON_PATH} create_passport_and_claim_job.py temp/{row_index//10_000}_{PARTICIPANTS_FILE_NAME} {row_index} {gift_contract_address}')\n",
    "    if _output:\n",
    "        return _output\n",
    "    else:\n",
    "        return _error\n",
    "\n",
    "NUMBER_OF_THREADS = 100\n",
    "\n",
    "tasks = list(range(NUMBER_OF_ACTIVATED_PARTICIPANTS))\n",
    "print(f'Number of tasks: {len(tasks)}')\n",
    "print(f'Number of threads: {NUMBER_OF_THREADS}')\n",
    "\n",
    "\n",
    "with Pool(processes=NUMBER_OF_THREADS) as pool:\n",
    "    res_participation = list(tqdm(pool.imap(execute_participation, tasks), total=len(tasks)))"
   ],
   "metadata": {
    "collapsed": false,
    "pycharm": {
     "name": "#%%\n"
    }
   }
  },
  {
   "cell_type": "code",
   "execution_count": 16,
   "outputs": [],
   "source": [
    "with open('temp/contract_participation_execution_log_1.txt', 'r') as f:\n",
    "    data = json.load(f)"
   ],
   "metadata": {
    "collapsed": false,
    "pycharm": {
     "name": "#%%\n"
    }
   }
  },
  {
   "cell_type": "code",
   "execution_count": 17,
   "outputs": [
    {
     "name": "stdout",
     "output_type": "stream",
     "text": [
      "{'claim_cosmos': '{\"code\":0,\"codespace\":\"\",\"data\":null,\"gas_used\":314457,\"gas_wanted\":400000,\"height\":2297173,\"info\":null,\"logs\":[{\"events\":[{\"attributes\":[{\"key\":\"receiver\",\"value\":\"bostrom144tp5hje0eflst8eg8py8jg0r4lhfyjhrsxyuq\"},{\"key\":\"amount\",\"value\":\"100000boot\"}],\"type\":\"coin_received\"},{\"attributes\":[{\"key\":\"spender\",\"value\":\"bostrom1d53n4k00ywxu9al2g8a8wnjvp8cxdeu9w7vve96vw4raasf9arqqtp6xpj\"},{\"key\":\"amount\",\"value\":\"100000boot\"}],\"type\":\"coin_spent\"},{\"attributes\":[{\"key\":\"_contract_address\",\"value\":\"bostrom1d53n4k00ywxu9al2g8a8wnjvp8cxdeu9w7vve96vw4raasf9arqqtp6xpj\"}],\"type\":\"execute\"},{\"attributes\":[{\"key\":\"action\",\"value\":\"/cosmwasm.wasm.v1.MsgExecuteContract\"},{\"key\":\"module\",\"value\":\"wasm\"},{\"key\":\"sender\",\"value\":\"bostrom144tp5hje0eflst8eg8py8jg0r4lhfyjhrsxyuq\"}],\"type\":\"message\"},{\"attributes\":[{\"key\":\"recipient\",\"value\":\"bostrom144tp5hje0eflst8eg8py8jg0r4lhfyjhrsxyuq\"},{\"key\":\"sender\",\"value\":\"bostrom1d53n4k00ywxu9al2g8a8wnjvp8cxdeu9w7vve96vw4raasf9arqqtp6xpj\"},{\"key\":\"amount\",\"value\":\"100000boot\"}],\"type\":\"transfer\"},{\"attributes\":[{\"key\":\"_contract_address\",\"value\":\"bostrom1d53n4k00ywxu9al2g8a8wnjvp8cxdeu9w7vve96vw4raasf9arqqtp6xpj\"},{\"key\":\"action\",\"value\":\"claim\"},{\"key\":\"original\",\"value\":\"terra144tp5hje0eflst8eg8py8jg0r4lhfyjhx8ghq8\"},{\"key\":\"target\",\"value\":\"bostrom144tp5hje0eflst8eg8py8jg0r4lhfyjhrsxyuq\"},{\"key\":\"amount\",\"value\":\"259781\"}],\"type\":\"wasm\"}],\"events_by_type\":{\"coin_received\":{\"amount\":[\"100000boot\"],\"receiver\":[\"bostrom144tp5hje0eflst8eg8py8jg0r4lhfyjhrsxyuq\"]},\"coin_spent\":{\"amount\":[\"100000boot\"],\"spender\":[\"bostrom1d53n4k00ywxu9al2g8a8wnjvp8cxdeu9w7vve96vw4raasf9arqqtp6xpj\"]},\"execute\":{\"_contract_address\":[\"bostrom1d53n4k00ywxu9al2g8a8wnjvp8cxdeu9w7vve96vw4raasf9arqqtp6xpj\"]},\"message\":{\"action\":[\"/cosmwasm.wasm.v1.MsgExecuteContract\"],\"module\":[\"wasm\"],\"sender\":[\"bostrom144tp5hje0eflst8eg8py8jg0r4lhfyjhrsxyuq\"]},\"transfer\":{\"amount\":[\"100000boot\"],\"recipient\":[\"bostrom144tp5hje0eflst8eg8py8jg0r4lhfyjhrsxyuq\"],\"sender\":[\"bostrom1d53n4k00ywxu9al2g8a8wnjvp8cxdeu9w7vve96vw4raasf9arqqtp6xpj\"]},\"wasm\":{\"_contract_address\":[\"bostrom1d53n4k00ywxu9al2g8a8wnjvp8cxdeu9w7vve96vw4raasf9arqqtp6xpj\"],\"action\":[\"claim\"],\"amount\":[\"259781\"],\"original\":[\"terra144tp5hje0eflst8eg8py8jg0r4lhfyjhx8ghq8\"],\"target\":[\"bostrom144tp5hje0eflst8eg8py8jg0r4lhfyjhrsxyuq\"]}},\"log\":\"\",\"msg_index\":0}],\"raw_log\":\"[{\\\\\"events\\\\\":[{\\\\\"type\\\\\":\\\\\"coin_received\\\\\",\\\\\"attributes\\\\\":[{\\\\\"key\\\\\":\\\\\"receiver\\\\\",\\\\\"value\\\\\":\\\\\"bostrom144tp5hje0eflst8eg8py8jg0r4lhfyjhrsxyuq\\\\\"},{\\\\\"key\\\\\":\\\\\"amount\\\\\",\\\\\"value\\\\\":\\\\\"100000boot\\\\\"}]},{\\\\\"type\\\\\":\\\\\"coin_spent\\\\\",\\\\\"attributes\\\\\":[{\\\\\"key\\\\\":\\\\\"spender\\\\\",\\\\\"value\\\\\":\\\\\"bostrom1d53n4k00ywxu9al2g8a8wnjvp8cxdeu9w7vve96vw4raasf9arqqtp6xpj\\\\\"},{\\\\\"key\\\\\":\\\\\"amount\\\\\",\\\\\"value\\\\\":\\\\\"100000boot\\\\\"}]},{\\\\\"type\\\\\":\\\\\"execute\\\\\",\\\\\"attributes\\\\\":[{\\\\\"key\\\\\":\\\\\"_contract_address\\\\\",\\\\\"value\\\\\":\\\\\"bostrom1d53n4k00ywxu9al2g8a8wnjvp8cxdeu9w7vve96vw4raasf9arqqtp6xpj\\\\\"}]},{\\\\\"type\\\\\":\\\\\"message\\\\\",\\\\\"attributes\\\\\":[{\\\\\"key\\\\\":\\\\\"action\\\\\",\\\\\"value\\\\\":\\\\\"/cosmwasm.wasm.v1.MsgExecuteContract\\\\\"},{\\\\\"key\\\\\":\\\\\"module\\\\\",\\\\\"value\\\\\":\\\\\"wasm\\\\\"},{\\\\\"key\\\\\":\\\\\"sender\\\\\",\\\\\"value\\\\\":\\\\\"bostrom144tp5hje0eflst8eg8py8jg0r4lhfyjhrsxyuq\\\\\"}]},{\\\\\"type\\\\\":\\\\\"transfer\\\\\",\\\\\"attributes\\\\\":[{\\\\\"key\\\\\":\\\\\"recipient\\\\\",\\\\\"value\\\\\":\\\\\"bostrom144tp5hje0eflst8eg8py8jg0r4lhfyjhrsxyuq\\\\\"},{\\\\\"key\\\\\":\\\\\"sender\\\\\",\\\\\"value\\\\\":\\\\\"bostrom1d53n4k00ywxu9al2g8a8wnjvp8cxdeu9w7vve96vw4raasf9arqqtp6xpj\\\\\"},{\\\\\"key\\\\\":\\\\\"amount\\\\\",\\\\\"value\\\\\":\\\\\"100000boot\\\\\"}]},{\\\\\"type\\\\\":\\\\\"wasm\\\\\",\\\\\"attributes\\\\\":[{\\\\\"key\\\\\":\\\\\"_contract_address\\\\\",\\\\\"value\\\\\":\\\\\"bostrom1d53n4k00ywxu9al2g8a8wnjvp8cxdeu9w7vve96vw4raasf9arqqtp6xpj\\\\\"},{\\\\\"key\\\\\":\\\\\"action\\\\\",\\\\\"value\\\\\":\\\\\"claim\\\\\"},{\\\\\"key\\\\\":\\\\\"original\\\\\",\\\\\"value\\\\\":\\\\\"terra144tp5hje0eflst8eg8py8jg0r4lhfyjhx8ghq8\\\\\"},{\\\\\"key\\\\\":\\\\\"target\\\\\",\\\\\"value\\\\\":\\\\\"bostrom144tp5hje0eflst8eg8py8jg0r4lhfyjhrsxyuq\\\\\"},{\\\\\"key\\\\\":\\\\\"amount\\\\\",\\\\\"value\\\\\":\\\\\"259781\\\\\"}]}]}]\",\"timestamp\":null,\"txhash\":\"664139380EB6BA055A507BDAF9C645EE1AE08E7A2DFA3442A2CB7AB8FBD18297\"}',\n",
      " 'claim_ethereum': '{\"code\":0,\"codespace\":\"\",\"data\":null,\"gas_used\":315596,\"gas_wanted\":400000,\"height\":2297172,\"info\":null,\"logs\":[{\"events\":[{\"attributes\":[{\"key\":\"receiver\",\"value\":\"bostrom144tp5hje0eflst8eg8py8jg0r4lhfyjhrsxyuq\"},{\"key\":\"amount\",\"value\":\"100000boot\"}],\"type\":\"coin_received\"},{\"attributes\":[{\"key\":\"spender\",\"value\":\"bostrom1d53n4k00ywxu9al2g8a8wnjvp8cxdeu9w7vve96vw4raasf9arqqtp6xpj\"},{\"key\":\"amount\",\"value\":\"100000boot\"}],\"type\":\"coin_spent\"},{\"attributes\":[{\"key\":\"_contract_address\",\"value\":\"bostrom1d53n4k00ywxu9al2g8a8wnjvp8cxdeu9w7vve96vw4raasf9arqqtp6xpj\"}],\"type\":\"execute\"},{\"attributes\":[{\"key\":\"action\",\"value\":\"/cosmwasm.wasm.v1.MsgExecuteContract\"},{\"key\":\"module\",\"value\":\"wasm\"},{\"key\":\"sender\",\"value\":\"bostrom144tp5hje0eflst8eg8py8jg0r4lhfyjhrsxyuq\"}],\"type\":\"message\"},{\"attributes\":[{\"key\":\"recipient\",\"value\":\"bostrom144tp5hje0eflst8eg8py8jg0r4lhfyjhrsxyuq\"},{\"key\":\"sender\",\"value\":\"bostrom1d53n4k00ywxu9al2g8a8wnjvp8cxdeu9w7vve96vw4raasf9arqqtp6xpj\"},{\"key\":\"amount\",\"value\":\"100000boot\"}],\"type\":\"transfer\"},{\"attributes\":[{\"key\":\"_contract_address\",\"value\":\"bostrom1d53n4k00ywxu9al2g8a8wnjvp8cxdeu9w7vve96vw4raasf9arqqtp6xpj\"},{\"key\":\"action\",\"value\":\"claim\"},{\"key\":\"original\",\"value\":\"0xafd2bdcfb28b845c92f4ece5a6c44fdbceba1b61\"},{\"key\":\"target\",\"value\":\"bostrom144tp5hje0eflst8eg8py8jg0r4lhfyjhrsxyuq\"},{\"key\":\"amount\",\"value\":\"259906\"}],\"type\":\"wasm\"}],\"events_by_type\":{\"coin_received\":{\"amount\":[\"100000boot\"],\"receiver\":[\"bostrom144tp5hje0eflst8eg8py8jg0r4lhfyjhrsxyuq\"]},\"coin_spent\":{\"amount\":[\"100000boot\"],\"spender\":[\"bostrom1d53n4k00ywxu9al2g8a8wnjvp8cxdeu9w7vve96vw4raasf9arqqtp6xpj\"]},\"execute\":{\"_contract_address\":[\"bostrom1d53n4k00ywxu9al2g8a8wnjvp8cxdeu9w7vve96vw4raasf9arqqtp6xpj\"]},\"message\":{\"action\":[\"/cosmwasm.wasm.v1.MsgExecuteContract\"],\"module\":[\"wasm\"],\"sender\":[\"bostrom144tp5hje0eflst8eg8py8jg0r4lhfyjhrsxyuq\"]},\"transfer\":{\"amount\":[\"100000boot\"],\"recipient\":[\"bostrom144tp5hje0eflst8eg8py8jg0r4lhfyjhrsxyuq\"],\"sender\":[\"bostrom1d53n4k00ywxu9al2g8a8wnjvp8cxdeu9w7vve96vw4raasf9arqqtp6xpj\"]},\"wasm\":{\"_contract_address\":[\"bostrom1d53n4k00ywxu9al2g8a8wnjvp8cxdeu9w7vve96vw4raasf9arqqtp6xpj\"],\"action\":[\"claim\"],\"amount\":[\"259906\"],\"original\":[\"0xafd2bdcfb28b845c92f4ece5a6c44fdbceba1b61\"],\"target\":[\"bostrom144tp5hje0eflst8eg8py8jg0r4lhfyjhrsxyuq\"]}},\"log\":\"\",\"msg_index\":0}],\"raw_log\":\"[{\\\\\"events\\\\\":[{\\\\\"type\\\\\":\\\\\"coin_received\\\\\",\\\\\"attributes\\\\\":[{\\\\\"key\\\\\":\\\\\"receiver\\\\\",\\\\\"value\\\\\":\\\\\"bostrom144tp5hje0eflst8eg8py8jg0r4lhfyjhrsxyuq\\\\\"},{\\\\\"key\\\\\":\\\\\"amount\\\\\",\\\\\"value\\\\\":\\\\\"100000boot\\\\\"}]},{\\\\\"type\\\\\":\\\\\"coin_spent\\\\\",\\\\\"attributes\\\\\":[{\\\\\"key\\\\\":\\\\\"spender\\\\\",\\\\\"value\\\\\":\\\\\"bostrom1d53n4k00ywxu9al2g8a8wnjvp8cxdeu9w7vve96vw4raasf9arqqtp6xpj\\\\\"},{\\\\\"key\\\\\":\\\\\"amount\\\\\",\\\\\"value\\\\\":\\\\\"100000boot\\\\\"}]},{\\\\\"type\\\\\":\\\\\"execute\\\\\",\\\\\"attributes\\\\\":[{\\\\\"key\\\\\":\\\\\"_contract_address\\\\\",\\\\\"value\\\\\":\\\\\"bostrom1d53n4k00ywxu9al2g8a8wnjvp8cxdeu9w7vve96vw4raasf9arqqtp6xpj\\\\\"}]},{\\\\\"type\\\\\":\\\\\"message\\\\\",\\\\\"attributes\\\\\":[{\\\\\"key\\\\\":\\\\\"action\\\\\",\\\\\"value\\\\\":\\\\\"/cosmwasm.wasm.v1.MsgExecuteContract\\\\\"},{\\\\\"key\\\\\":\\\\\"module\\\\\",\\\\\"value\\\\\":\\\\\"wasm\\\\\"},{\\\\\"key\\\\\":\\\\\"sender\\\\\",\\\\\"value\\\\\":\\\\\"bostrom144tp5hje0eflst8eg8py8jg0r4lhfyjhrsxyuq\\\\\"}]},{\\\\\"type\\\\\":\\\\\"transfer\\\\\",\\\\\"attributes\\\\\":[{\\\\\"key\\\\\":\\\\\"recipient\\\\\",\\\\\"value\\\\\":\\\\\"bostrom144tp5hje0eflst8eg8py8jg0r4lhfyjhrsxyuq\\\\\"},{\\\\\"key\\\\\":\\\\\"sender\\\\\",\\\\\"value\\\\\":\\\\\"bostrom1d53n4k00ywxu9al2g8a8wnjvp8cxdeu9w7vve96vw4raasf9arqqtp6xpj\\\\\"},{\\\\\"key\\\\\":\\\\\"amount\\\\\",\\\\\"value\\\\\":\\\\\"100000boot\\\\\"}]},{\\\\\"type\\\\\":\\\\\"wasm\\\\\",\\\\\"attributes\\\\\":[{\\\\\"key\\\\\":\\\\\"_contract_address\\\\\",\\\\\"value\\\\\":\\\\\"bostrom1d53n4k00ywxu9al2g8a8wnjvp8cxdeu9w7vve96vw4raasf9arqqtp6xpj\\\\\"},{\\\\\"key\\\\\":\\\\\"action\\\\\",\\\\\"value\\\\\":\\\\\"claim\\\\\"},{\\\\\"key\\\\\":\\\\\"original\\\\\",\\\\\"value\\\\\":\\\\\"0xafd2bdcfb28b845c92f4ece5a6c44fdbceba1b61\\\\\"},{\\\\\"key\\\\\":\\\\\"target\\\\\",\\\\\"value\\\\\":\\\\\"bostrom144tp5hje0eflst8eg8py8jg0r4lhfyjhrsxyuq\\\\\"},{\\\\\"key\\\\\":\\\\\"amount\\\\\",\\\\\"value\\\\\":\\\\\"259906\\\\\"}]}]}]\",\"timestamp\":null,\"txhash\":\"4ADF43482F36060450419C0B8D9A17D68FBF0A196FC56B017CD48162A4968426\"}',\n",
      " 'create': '{\"code\":0,\"codespace\":\"\",\"data\":null,\"gas_used\":440639,\"gas_wanted\":500000,\"height\":2297169,\"info\":null,\"logs\":[{\"events\":[{\"attributes\":[{\"key\":\"particleFrom\",\"value\":\"QmNwfH86ac37xhBsKh4nHHAanv8jJeCRG5VEZG83EHvnQv\"},{\"key\":\"particleTo\",\"value\":\"QmXz6t1pY4oxu5gmX5wTc9URmmcJyokqT3LcBqr92aSbpY\"},{\"key\":\"particleFrom\",\"value\":\"QmXz6t1pY4oxu5gmX5wTc9URmmcJyokqT3LcBqr92aSbpY\"},{\"key\":\"particleTo\",\"value\":\"QmNwfH86ac37xhBsKh4nHHAanv8jJeCRG5VEZG83EHvnQv\"},{\"key\":\"neuron\",\"value\":\"bostrom1rncw9n73gm30vhrv6e4p603hav0gue8y5y9fgqa84k4atf5pqvfqcrnpl6\"},{\"key\":\"particleFrom\",\"value\":\"QmXz6t1pY4oxu5gmX5wTc9URmmcJyokqT3LcBqr92aSbpY\"},{\"key\":\"particleTo\",\"value\":\"Qme38z9BvkBasFUNrhn8TVvrWD8ePpGkpNx8v7WJWvyTHt\"},{\"key\":\"particleFrom\",\"value\":\"Qme38z9BvkBasFUNrhn8TVvrWD8ePpGkpNx8v7WJWvyTHt\"},{\"key\":\"particleTo\",\"value\":\"QmXz6t1pY4oxu5gmX5wTc9URmmcJyokqT3LcBqr92aSbpY\"},{\"key\":\"neuron\",\"value\":\"bostrom164w2vl7z7lpuvex6z3ru0v55fgq3dmvxuqt0aejp49w7fyc8g6kshreggq\"}],\"type\":\"cyberlink\"},{\"attributes\":[{\"key\":\"_contract_address\",\"value\":\"bostrom1g59m935w4kxmtfx5hhykre7w9q497ptp66asspz76vhgarss5ensdy35s8\"},{\"key\":\"_contract_address\",\"value\":\"bostrom1rncw9n73gm30vhrv6e4p603hav0gue8y5y9fgqa84k4atf5pqvfqcrnpl6\"},{\"key\":\"_contract_address\",\"value\":\"bostrom164w2vl7z7lpuvex6z3ru0v55fgq3dmvxuqt0aejp49w7fyc8g6kshreggq\"}],\"type\":\"execute\"},{\"attributes\":[{\"key\":\"action\",\"value\":\"/cosmwasm.wasm.v1.MsgExecuteContract\"},{\"key\":\"module\",\"value\":\"wasm\"},{\"key\":\"sender\",\"value\":\"bostrom144tp5hje0eflst8eg8py8jg0r4lhfyjhrsxyuq\"}],\"type\":\"message\"},{\"attributes\":[{\"key\":\"_contract_address\",\"value\":\"bostrom1g59m935w4kxmtfx5hhykre7w9q497ptp66asspz76vhgarss5ensdy35s8\"},{\"key\":\"action\",\"value\":\"mint\"},{\"key\":\"minter\",\"value\":\"bostrom1g59m935w4kxmtfx5hhykre7w9q497ptp66asspz76vhgarss5ensdy35s8\"},{\"key\":\"token_id\",\"value\":\"273396\"}],\"type\":\"wasm\"}],\"events_by_type\":{\"cyberlink\":{\"neuron\":[\"bostrom1rncw9n73gm30vhrv6e4p603hav0gue8y5y9fgqa84k4atf5pqvfqcrnpl6\",\"bostrom164w2vl7z7lpuvex6z3ru0v55fgq3dmvxuqt0aejp49w7fyc8g6kshreggq\"],\"particleFrom\":[\"QmNwfH86ac37xhBsKh4nHHAanv8jJeCRG5VEZG83EHvnQv\",\"QmXz6t1pY4oxu5gmX5wTc9URmmcJyokqT3LcBqr92aSbpY\",\"QmXz6t1pY4oxu5gmX5wTc9URmmcJyokqT3LcBqr92aSbpY\",\"Qme38z9BvkBasFUNrhn8TVvrWD8ePpGkpNx8v7WJWvyTHt\"],\"particleTo\":[\"QmXz6t1pY4oxu5gmX5wTc9URmmcJyokqT3LcBqr92aSbpY\",\"QmNwfH86ac37xhBsKh4nHHAanv8jJeCRG5VEZG83EHvnQv\",\"Qme38z9BvkBasFUNrhn8TVvrWD8ePpGkpNx8v7WJWvyTHt\",\"QmXz6t1pY4oxu5gmX5wTc9URmmcJyokqT3LcBqr92aSbpY\"]},\"execute\":{\"_contract_address\":[\"bostrom1g59m935w4kxmtfx5hhykre7w9q497ptp66asspz76vhgarss5ensdy35s8\",\"bostrom1rncw9n73gm30vhrv6e4p603hav0gue8y5y9fgqa84k4atf5pqvfqcrnpl6\",\"bostrom164w2vl7z7lpuvex6z3ru0v55fgq3dmvxuqt0aejp49w7fyc8g6kshreggq\"]},\"message\":{\"action\":[\"/cosmwasm.wasm.v1.MsgExecuteContract\"],\"module\":[\"wasm\"],\"sender\":[\"bostrom144tp5hje0eflst8eg8py8jg0r4lhfyjhrsxyuq\"]},\"wasm\":{\"_contract_address\":[\"bostrom1g59m935w4kxmtfx5hhykre7w9q497ptp66asspz76vhgarss5ensdy35s8\"],\"action\":[\"mint\"],\"minter\":[\"bostrom1g59m935w4kxmtfx5hhykre7w9q497ptp66asspz76vhgarss5ensdy35s8\"],\"token_id\":[\"273396\"]}},\"log\":\"\",\"msg_index\":0}],\"raw_log\":\"[{\\\\\"events\\\\\":[{\\\\\"type\\\\\":\\\\\"cyberlink\\\\\",\\\\\"attributes\\\\\":[{\\\\\"key\\\\\":\\\\\"particleFrom\\\\\",\\\\\"value\\\\\":\\\\\"QmNwfH86ac37xhBsKh4nHHAanv8jJeCRG5VEZG83EHvnQv\\\\\"},{\\\\\"key\\\\\":\\\\\"particleTo\\\\\",\\\\\"value\\\\\":\\\\\"QmXz6t1pY4oxu5gmX5wTc9URmmcJyokqT3LcBqr92aSbpY\\\\\"},{\\\\\"key\\\\\":\\\\\"particleFrom\\\\\",\\\\\"value\\\\\":\\\\\"QmXz6t1pY4oxu5gmX5wTc9URmmcJyokqT3LcBqr92aSbpY\\\\\"},{\\\\\"key\\\\\":\\\\\"particleTo\\\\\",\\\\\"value\\\\\":\\\\\"QmNwfH86ac37xhBsKh4nHHAanv8jJeCRG5VEZG83EHvnQv\\\\\"},{\\\\\"key\\\\\":\\\\\"neuron\\\\\",\\\\\"value\\\\\":\\\\\"bostrom1rncw9n73gm30vhrv6e4p603hav0gue8y5y9fgqa84k4atf5pqvfqcrnpl6\\\\\"},{\\\\\"key\\\\\":\\\\\"particleFrom\\\\\",\\\\\"value\\\\\":\\\\\"QmXz6t1pY4oxu5gmX5wTc9URmmcJyokqT3LcBqr92aSbpY\\\\\"},{\\\\\"key\\\\\":\\\\\"particleTo\\\\\",\\\\\"value\\\\\":\\\\\"Qme38z9BvkBasFUNrhn8TVvrWD8ePpGkpNx8v7WJWvyTHt\\\\\"},{\\\\\"key\\\\\":\\\\\"particleFrom\\\\\",\\\\\"value\\\\\":\\\\\"Qme38z9BvkBasFUNrhn8TVvrWD8ePpGkpNx8v7WJWvyTHt\\\\\"},{\\\\\"key\\\\\":\\\\\"particleTo\\\\\",\\\\\"value\\\\\":\\\\\"QmXz6t1pY4oxu5gmX5wTc9URmmcJyokqT3LcBqr92aSbpY\\\\\"},{\\\\\"key\\\\\":\\\\\"neuron\\\\\",\\\\\"value\\\\\":\\\\\"bostrom164w2vl7z7lpuvex6z3ru0v55fgq3dmvxuqt0aejp49w7fyc8g6kshreggq\\\\\"}]},{\\\\\"type\\\\\":\\\\\"execute\\\\\",\\\\\"attributes\\\\\":[{\\\\\"key\\\\\":\\\\\"_contract_address\\\\\",\\\\\"value\\\\\":\\\\\"bostrom1g59m935w4kxmtfx5hhykre7w9q497ptp66asspz76vhgarss5ensdy35s8\\\\\"},{\\\\\"key\\\\\":\\\\\"_contract_address\\\\\",\\\\\"value\\\\\":\\\\\"bostrom1rncw9n73gm30vhrv6e4p603hav0gue8y5y9fgqa84k4atf5pqvfqcrnpl6\\\\\"},{\\\\\"key\\\\\":\\\\\"_contract_address\\\\\",\\\\\"value\\\\\":\\\\\"bostrom164w2vl7z7lpuvex6z3ru0v55fgq3dmvxuqt0aejp49w7fyc8g6kshreggq\\\\\"}]},{\\\\\"type\\\\\":\\\\\"message\\\\\",\\\\\"attributes\\\\\":[{\\\\\"key\\\\\":\\\\\"action\\\\\",\\\\\"value\\\\\":\\\\\"/cosmwasm.wasm.v1.MsgExecuteContract\\\\\"},{\\\\\"key\\\\\":\\\\\"module\\\\\",\\\\\"value\\\\\":\\\\\"wasm\\\\\"},{\\\\\"key\\\\\":\\\\\"sender\\\\\",\\\\\"value\\\\\":\\\\\"bostrom144tp5hje0eflst8eg8py8jg0r4lhfyjhrsxyuq\\\\\"}]},{\\\\\"type\\\\\":\\\\\"wasm\\\\\",\\\\\"attributes\\\\\":[{\\\\\"key\\\\\":\\\\\"_contract_address\\\\\",\\\\\"value\\\\\":\\\\\"bostrom1g59m935w4kxmtfx5hhykre7w9q497ptp66asspz76vhgarss5ensdy35s8\\\\\"},{\\\\\"key\\\\\":\\\\\"action\\\\\",\\\\\"value\\\\\":\\\\\"mint\\\\\"},{\\\\\"key\\\\\":\\\\\"minter\\\\\",\\\\\"value\\\\\":\\\\\"bostrom1g59m935w4kxmtfx5hhykre7w9q497ptp66asspz76vhgarss5ensdy35s8\\\\\"},{\\\\\"key\\\\\":\\\\\"token_id\\\\\",\\\\\"value\\\\\":\\\\\"273396\\\\\"}]}]}]\",\"timestamp\":null,\"txhash\":\"AEB78D27926A2870BF0290A90D3CA7B949196FE2521119BA16117A5C6D105D5D\"}',\n",
      " 'proof_cosmos': '{\"code\":0,\"codespace\":\"\",\"data\":null,\"gas_used\":284668,\"gas_wanted\":400000,\"height\":2297171,\"info\":null,\"logs\":[{\"events\":[{\"attributes\":[{\"key\":\"particleFrom\",\"value\":\"QmXz6t1pY4oxu5gmX5wTc9URmmcJyokqT3LcBqr92aSbpY\"},{\"key\":\"particleTo\",\"value\":\"QmTFdFAmuRSK5JvYZT9Tphf5CBzDPtWUNJP5NgEuvKP1DZ\"},{\"key\":\"particleFrom\",\"value\":\"QmTFdFAmuRSK5JvYZT9Tphf5CBzDPtWUNJP5NgEuvKP1DZ\"},{\"key\":\"particleTo\",\"value\":\"QmXz6t1pY4oxu5gmX5wTc9URmmcJyokqT3LcBqr92aSbpY\"},{\"key\":\"neuron\",\"value\":\"bostrom1543j9n7slzff3curyac7ylf2ctg7rk9zjf9ehj08eqx57xj33zzqdy6ga4\"}],\"type\":\"cyberlink\"},{\"attributes\":[{\"key\":\"_contract_address\",\"value\":\"bostrom1g59m935w4kxmtfx5hhykre7w9q497ptp66asspz76vhgarss5ensdy35s8\"},{\"key\":\"_contract_address\",\"value\":\"bostrom1543j9n7slzff3curyac7ylf2ctg7rk9zjf9ehj08eqx57xj33zzqdy6ga4\"}],\"type\":\"execute\"},{\"attributes\":[{\"key\":\"action\",\"value\":\"/cosmwasm.wasm.v1.MsgExecuteContract\"},{\"key\":\"module\",\"value\":\"wasm\"},{\"key\":\"sender\",\"value\":\"bostrom144tp5hje0eflst8eg8py8jg0r4lhfyjhrsxyuq\"}],\"type\":\"message\"},{\"attributes\":[{\"key\":\"_contract_address\",\"value\":\"bostrom1g59m935w4kxmtfx5hhykre7w9q497ptp66asspz76vhgarss5ensdy35s8\"},{\"key\":\"action\",\"value\":\"proof_address\"},{\"key\":\"nickname\",\"value\":\"john16504256241\"},{\"key\":\"address\",\"value\":\"terra144tp5hje0eflst8eg8py8jg0r4lhfyjhx8ghq8\"}],\"type\":\"wasm\"}],\"events_by_type\":{\"cyberlink\":{\"neuron\":[\"bostrom1543j9n7slzff3curyac7ylf2ctg7rk9zjf9ehj08eqx57xj33zzqdy6ga4\"],\"particleFrom\":[\"QmXz6t1pY4oxu5gmX5wTc9URmmcJyokqT3LcBqr92aSbpY\",\"QmTFdFAmuRSK5JvYZT9Tphf5CBzDPtWUNJP5NgEuvKP1DZ\"],\"particleTo\":[\"QmTFdFAmuRSK5JvYZT9Tphf5CBzDPtWUNJP5NgEuvKP1DZ\",\"QmXz6t1pY4oxu5gmX5wTc9URmmcJyokqT3LcBqr92aSbpY\"]},\"execute\":{\"_contract_address\":[\"bostrom1g59m935w4kxmtfx5hhykre7w9q497ptp66asspz76vhgarss5ensdy35s8\",\"bostrom1543j9n7slzff3curyac7ylf2ctg7rk9zjf9ehj08eqx57xj33zzqdy6ga4\"]},\"message\":{\"action\":[\"/cosmwasm.wasm.v1.MsgExecuteContract\"],\"module\":[\"wasm\"],\"sender\":[\"bostrom144tp5hje0eflst8eg8py8jg0r4lhfyjhrsxyuq\"]},\"wasm\":{\"_contract_address\":[\"bostrom1g59m935w4kxmtfx5hhykre7w9q497ptp66asspz76vhgarss5ensdy35s8\"],\"action\":[\"proof_address\"],\"address\":[\"terra144tp5hje0eflst8eg8py8jg0r4lhfyjhx8ghq8\"],\"nickname\":[\"john16504256241\"]}},\"log\":\"\",\"msg_index\":0}],\"raw_log\":\"[{\\\\\"events\\\\\":[{\\\\\"type\\\\\":\\\\\"cyberlink\\\\\",\\\\\"attributes\\\\\":[{\\\\\"key\\\\\":\\\\\"particleFrom\\\\\",\\\\\"value\\\\\":\\\\\"QmXz6t1pY4oxu5gmX5wTc9URmmcJyokqT3LcBqr92aSbpY\\\\\"},{\\\\\"key\\\\\":\\\\\"particleTo\\\\\",\\\\\"value\\\\\":\\\\\"QmTFdFAmuRSK5JvYZT9Tphf5CBzDPtWUNJP5NgEuvKP1DZ\\\\\"},{\\\\\"key\\\\\":\\\\\"particleFrom\\\\\",\\\\\"value\\\\\":\\\\\"QmTFdFAmuRSK5JvYZT9Tphf5CBzDPtWUNJP5NgEuvKP1DZ\\\\\"},{\\\\\"key\\\\\":\\\\\"particleTo\\\\\",\\\\\"value\\\\\":\\\\\"QmXz6t1pY4oxu5gmX5wTc9URmmcJyokqT3LcBqr92aSbpY\\\\\"},{\\\\\"key\\\\\":\\\\\"neuron\\\\\",\\\\\"value\\\\\":\\\\\"bostrom1543j9n7slzff3curyac7ylf2ctg7rk9zjf9ehj08eqx57xj33zzqdy6ga4\\\\\"}]},{\\\\\"type\\\\\":\\\\\"execute\\\\\",\\\\\"attributes\\\\\":[{\\\\\"key\\\\\":\\\\\"_contract_address\\\\\",\\\\\"value\\\\\":\\\\\"bostrom1g59m935w4kxmtfx5hhykre7w9q497ptp66asspz76vhgarss5ensdy35s8\\\\\"},{\\\\\"key\\\\\":\\\\\"_contract_address\\\\\",\\\\\"value\\\\\":\\\\\"bostrom1543j9n7slzff3curyac7ylf2ctg7rk9zjf9ehj08eqx57xj33zzqdy6ga4\\\\\"}]},{\\\\\"type\\\\\":\\\\\"message\\\\\",\\\\\"attributes\\\\\":[{\\\\\"key\\\\\":\\\\\"action\\\\\",\\\\\"value\\\\\":\\\\\"/cosmwasm.wasm.v1.MsgExecuteContract\\\\\"},{\\\\\"key\\\\\":\\\\\"module\\\\\",\\\\\"value\\\\\":\\\\\"wasm\\\\\"},{\\\\\"key\\\\\":\\\\\"sender\\\\\",\\\\\"value\\\\\":\\\\\"bostrom144tp5hje0eflst8eg8py8jg0r4lhfyjhrsxyuq\\\\\"}]},{\\\\\"type\\\\\":\\\\\"wasm\\\\\",\\\\\"attributes\\\\\":[{\\\\\"key\\\\\":\\\\\"_contract_address\\\\\",\\\\\"value\\\\\":\\\\\"bostrom1g59m935w4kxmtfx5hhykre7w9q497ptp66asspz76vhgarss5ensdy35s8\\\\\"},{\\\\\"key\\\\\":\\\\\"action\\\\\",\\\\\"value\\\\\":\\\\\"proof_address\\\\\"},{\\\\\"key\\\\\":\\\\\"nickname\\\\\",\\\\\"value\\\\\":\\\\\"john16504256241\\\\\"},{\\\\\"key\\\\\":\\\\\"address\\\\\",\\\\\"value\\\\\":\\\\\"terra144tp5hje0eflst8eg8py8jg0r4lhfyjhx8ghq8\\\\\"}]}]}]\",\"timestamp\":null,\"txhash\":\"282376D133C956370A4F3F6F658A3724BBD2F7ADAEB113580B7E1708A8B6DBEF\"}',\n",
      " 'proof_ethereum': '{\"code\":0,\"codespace\":\"\",\"data\":null,\"gas_used\":281286,\"gas_wanted\":400000,\"height\":2297170,\"info\":null,\"logs\":[{\"events\":[{\"attributes\":[{\"key\":\"particleFrom\",\"value\":\"QmXz6t1pY4oxu5gmX5wTc9URmmcJyokqT3LcBqr92aSbpY\"},{\"key\":\"particleTo\",\"value\":\"QmdatLam7fTHVEdWD7y394gNQhX4Y4iBiWSSJq5UGWX5xn\"},{\"key\":\"particleFrom\",\"value\":\"QmdatLam7fTHVEdWD7y394gNQhX4Y4iBiWSSJq5UGWX5xn\"},{\"key\":\"particleTo\",\"value\":\"QmXz6t1pY4oxu5gmX5wTc9URmmcJyokqT3LcBqr92aSbpY\"},{\"key\":\"neuron\",\"value\":\"bostrom1543j9n7slzff3curyac7ylf2ctg7rk9zjf9ehj08eqx57xj33zzqdy6ga4\"}],\"type\":\"cyberlink\"},{\"attributes\":[{\"key\":\"_contract_address\",\"value\":\"bostrom1g59m935w4kxmtfx5hhykre7w9q497ptp66asspz76vhgarss5ensdy35s8\"},{\"key\":\"_contract_address\",\"value\":\"bostrom1543j9n7slzff3curyac7ylf2ctg7rk9zjf9ehj08eqx57xj33zzqdy6ga4\"}],\"type\":\"execute\"},{\"attributes\":[{\"key\":\"action\",\"value\":\"/cosmwasm.wasm.v1.MsgExecuteContract\"},{\"key\":\"module\",\"value\":\"wasm\"},{\"key\":\"sender\",\"value\":\"bostrom144tp5hje0eflst8eg8py8jg0r4lhfyjhrsxyuq\"}],\"type\":\"message\"},{\"attributes\":[{\"key\":\"_contract_address\",\"value\":\"bostrom1g59m935w4kxmtfx5hhykre7w9q497ptp66asspz76vhgarss5ensdy35s8\"},{\"key\":\"action\",\"value\":\"proof_address\"},{\"key\":\"nickname\",\"value\":\"john16504256241\"},{\"key\":\"address\",\"value\":\"0xafd2bdcfb28b845c92f4ece5a6c44fdbceba1b61\"}],\"type\":\"wasm\"}],\"events_by_type\":{\"cyberlink\":{\"neuron\":[\"bostrom1543j9n7slzff3curyac7ylf2ctg7rk9zjf9ehj08eqx57xj33zzqdy6ga4\"],\"particleFrom\":[\"QmXz6t1pY4oxu5gmX5wTc9URmmcJyokqT3LcBqr92aSbpY\",\"QmdatLam7fTHVEdWD7y394gNQhX4Y4iBiWSSJq5UGWX5xn\"],\"particleTo\":[\"QmdatLam7fTHVEdWD7y394gNQhX4Y4iBiWSSJq5UGWX5xn\",\"QmXz6t1pY4oxu5gmX5wTc9URmmcJyokqT3LcBqr92aSbpY\"]},\"execute\":{\"_contract_address\":[\"bostrom1g59m935w4kxmtfx5hhykre7w9q497ptp66asspz76vhgarss5ensdy35s8\",\"bostrom1543j9n7slzff3curyac7ylf2ctg7rk9zjf9ehj08eqx57xj33zzqdy6ga4\"]},\"message\":{\"action\":[\"/cosmwasm.wasm.v1.MsgExecuteContract\"],\"module\":[\"wasm\"],\"sender\":[\"bostrom144tp5hje0eflst8eg8py8jg0r4lhfyjhrsxyuq\"]},\"wasm\":{\"_contract_address\":[\"bostrom1g59m935w4kxmtfx5hhykre7w9q497ptp66asspz76vhgarss5ensdy35s8\"],\"action\":[\"proof_address\"],\"address\":[\"0xafd2bdcfb28b845c92f4ece5a6c44fdbceba1b61\"],\"nickname\":[\"john16504256241\"]}},\"log\":\"\",\"msg_index\":0}],\"raw_log\":\"[{\\\\\"events\\\\\":[{\\\\\"type\\\\\":\\\\\"cyberlink\\\\\",\\\\\"attributes\\\\\":[{\\\\\"key\\\\\":\\\\\"particleFrom\\\\\",\\\\\"value\\\\\":\\\\\"QmXz6t1pY4oxu5gmX5wTc9URmmcJyokqT3LcBqr92aSbpY\\\\\"},{\\\\\"key\\\\\":\\\\\"particleTo\\\\\",\\\\\"value\\\\\":\\\\\"QmdatLam7fTHVEdWD7y394gNQhX4Y4iBiWSSJq5UGWX5xn\\\\\"},{\\\\\"key\\\\\":\\\\\"particleFrom\\\\\",\\\\\"value\\\\\":\\\\\"QmdatLam7fTHVEdWD7y394gNQhX4Y4iBiWSSJq5UGWX5xn\\\\\"},{\\\\\"key\\\\\":\\\\\"particleTo\\\\\",\\\\\"value\\\\\":\\\\\"QmXz6t1pY4oxu5gmX5wTc9URmmcJyokqT3LcBqr92aSbpY\\\\\"},{\\\\\"key\\\\\":\\\\\"neuron\\\\\",\\\\\"value\\\\\":\\\\\"bostrom1543j9n7slzff3curyac7ylf2ctg7rk9zjf9ehj08eqx57xj33zzqdy6ga4\\\\\"}]},{\\\\\"type\\\\\":\\\\\"execute\\\\\",\\\\\"attributes\\\\\":[{\\\\\"key\\\\\":\\\\\"_contract_address\\\\\",\\\\\"value\\\\\":\\\\\"bostrom1g59m935w4kxmtfx5hhykre7w9q497ptp66asspz76vhgarss5ensdy35s8\\\\\"},{\\\\\"key\\\\\":\\\\\"_contract_address\\\\\",\\\\\"value\\\\\":\\\\\"bostrom1543j9n7slzff3curyac7ylf2ctg7rk9zjf9ehj08eqx57xj33zzqdy6ga4\\\\\"}]},{\\\\\"type\\\\\":\\\\\"message\\\\\",\\\\\"attributes\\\\\":[{\\\\\"key\\\\\":\\\\\"action\\\\\",\\\\\"value\\\\\":\\\\\"/cosmwasm.wasm.v1.MsgExecuteContract\\\\\"},{\\\\\"key\\\\\":\\\\\"module\\\\\",\\\\\"value\\\\\":\\\\\"wasm\\\\\"},{\\\\\"key\\\\\":\\\\\"sender\\\\\",\\\\\"value\\\\\":\\\\\"bostrom144tp5hje0eflst8eg8py8jg0r4lhfyjhrsxyuq\\\\\"}]},{\\\\\"type\\\\\":\\\\\"wasm\\\\\",\\\\\"attributes\\\\\":[{\\\\\"key\\\\\":\\\\\"_contract_address\\\\\",\\\\\"value\\\\\":\\\\\"bostrom1g59m935w4kxmtfx5hhykre7w9q497ptp66asspz76vhgarss5ensdy35s8\\\\\"},{\\\\\"key\\\\\":\\\\\"action\\\\\",\\\\\"value\\\\\":\\\\\"proof_address\\\\\"},{\\\\\"key\\\\\":\\\\\"nickname\\\\\",\\\\\"value\\\\\":\\\\\"john16504256241\\\\\"},{\\\\\"key\\\\\":\\\\\"address\\\\\",\\\\\"value\\\\\":\\\\\"0xafd2bdcfb28b845c92f4ece5a6c44fdbceba1b61\\\\\"}]}]}]\",\"timestamp\":null,\"txhash\":\"973AF4CA217BB50BB033322D058100164714CEBC7B3D03059300C0C2C90D93EE\"}'}\n"
     ]
    }
   ],
   "source": [
    "pprint(data)"
   ],
   "metadata": {
    "collapsed": false,
    "pycharm": {
     "name": "#%%\n"
    }
   }
  },
  {
   "cell_type": "code",
   "execution_count": 18,
   "outputs": [
    {
     "name": "stdout",
     "output_type": "stream",
     "text": [
      "\n",
      "Events\n",
      "\n",
      "cyberlinks\n",
      "\tQmNwfH86ac37xhBsKh4nHHAanv8jJeCRG5VEZG83EHvnQv -> QmXz6t1pY4oxu5gmX5wTc9URmmcJyokqT3LcBqr92aSbpY\n",
      "\tQmXz6t1pY4oxu5gmX5wTc9URmmcJyokqT3LcBqr92aSbpY -> QmNwfH86ac37xhBsKh4nHHAanv8jJeCRG5VEZG83EHvnQv\n",
      "\tneuron: Name Subgraph Contract\n",
      "\n",
      "\tQmXz6t1pY4oxu5gmX5wTc9URmmcJyokqT3LcBqr92aSbpY -> Qme38z9BvkBasFUNrhn8TVvrWD8ePpGkpNx8v7WJWvyTHt\n",
      "\tQme38z9BvkBasFUNrhn8TVvrWD8ePpGkpNx8v7WJWvyTHt -> QmXz6t1pY4oxu5gmX5wTc9URmmcJyokqT3LcBqr92aSbpY\n",
      "\tneuron: Avatar Subgraph Contract\n",
      "\n",
      "\n",
      "execute\n",
      "\texecute contract: Passport Contract\n",
      "\texecute contract: Name Subgraph Contract\n",
      "\texecute contract: Avatar Subgraph Contract\n",
      "\n",
      "message from bostrom144tp5hje0eflst8eg8py8jg0r4lhfyjhrsxyuq wasm /cosmwasm.wasm.v1.MsgExecuteContract\n",
      "\n",
      "wasm\n",
      "\t_contract_address: Passport Contract\n",
      "\taction: mint\n",
      "\tminter: Passport Contract\n",
      "\ttoken_id: 273396\n",
      "Gas used: 440,639\n",
      "Tx hash: AEB78D27926A2870BF0290A90D3CA7B949196FE2521119BA16117A5C6D105D5D\n"
     ]
    }
   ],
   "source": [
    "contract_utils.parse_contract_execution_json(data['create'])"
   ],
   "metadata": {
    "collapsed": false,
    "pycharm": {
     "name": "#%%\n"
    }
   }
  },
  {
   "cell_type": "code",
   "execution_count": 19,
   "outputs": [
    {
     "name": "stdout",
     "output_type": "stream",
     "text": [
      "\n",
      "Events\n",
      "\n",
      "cyberlinks\n",
      "\tQmXz6t1pY4oxu5gmX5wTc9URmmcJyokqT3LcBqr92aSbpY -> QmTFdFAmuRSK5JvYZT9Tphf5CBzDPtWUNJP5NgEuvKP1DZ\n",
      "\tQmTFdFAmuRSK5JvYZT9Tphf5CBzDPtWUNJP5NgEuvKP1DZ -> QmXz6t1pY4oxu5gmX5wTc9URmmcJyokqT3LcBqr92aSbpY\n",
      "\tneuron: Proof Subgraph Contract\n",
      "\n",
      "\n",
      "execute\n",
      "\texecute contract: Passport Contract\n",
      "\texecute contract: Proof Subgraph Contract\n",
      "\n",
      "message from bostrom144tp5hje0eflst8eg8py8jg0r4lhfyjhrsxyuq wasm /cosmwasm.wasm.v1.MsgExecuteContract\n",
      "\n",
      "wasm\n",
      "\t_contract_address: Passport Contract\n",
      "\taction: proof_address\n",
      "\tnickname: john16504256241\n",
      "\taddress: terra144tp5hje0eflst8eg8py8jg0r4lhfyjhx8ghq8\n",
      "Gas used: 284,668\n",
      "Tx hash: 282376D133C956370A4F3F6F658A3724BBD2F7ADAEB113580B7E1708A8B6DBEF\n"
     ]
    }
   ],
   "source": [
    "contract_utils.parse_contract_execution_json(data['proof_cosmos'])"
   ],
   "metadata": {
    "collapsed": false,
    "pycharm": {
     "name": "#%%\n"
    }
   }
  },
  {
   "cell_type": "code",
   "execution_count": 20,
   "outputs": [
    {
     "name": "stdout",
     "output_type": "stream",
     "text": [
      "\n",
      "Events\n",
      "\n",
      "coin received\n",
      "\treceiver: bostrom144tp5hje0eflst8eg8py8jg0r4lhfyjhrsxyuq\n",
      "\tamount: 100000boot\n",
      "\n",
      "coin spent\n",
      "\tspender: Gift Contract\n",
      "\tamount: 100000boot\n",
      "\n",
      "execute\n",
      "\texecute contract: Gift Contract\n",
      "\n",
      "message from bostrom144tp5hje0eflst8eg8py8jg0r4lhfyjhrsxyuq wasm /cosmwasm.wasm.v1.MsgExecuteContract\n",
      "\n",
      "transfer\n",
      "\trecipient: bostrom144tp5hje0eflst8eg8py8jg0r4lhfyjhrsxyuq\n",
      "\tsender: Gift Contract\n",
      "\tamount: 100000boot\n",
      "\n",
      "wasm\n",
      "\t_contract_address: Gift Contract\n",
      "\taction: claim\n",
      "\toriginal: terra144tp5hje0eflst8eg8py8jg0r4lhfyjhx8ghq8\n",
      "\ttarget: bostrom144tp5hje0eflst8eg8py8jg0r4lhfyjhrsxyuq\n",
      "\tamount: 259,781\n",
      "Gas used: 314,457\n",
      "Tx hash: 664139380EB6BA055A507BDAF9C645EE1AE08E7A2DFA3442A2CB7AB8FBD18297\n"
     ]
    }
   ],
   "source": [
    "contract_utils.parse_contract_execution_json(data['claim_cosmos'])"
   ],
   "metadata": {
    "collapsed": false,
    "pycharm": {
     "name": "#%%\n"
    }
   }
  },
  {
   "cell_type": "code",
   "execution_count": 21,
   "outputs": [
    {
     "name": "stdout",
     "output_type": "stream",
     "text": [
      "Number of tasks: 5\n",
      "Number of threads: 100\n"
     ]
    },
    {
     "data": {
      "text/plain": "  0%|          | 0/5 [00:00<?, ?it/s]",
      "application/vnd.jupyter.widget-view+json": {
       "version_major": 2,
       "version_minor": 0,
       "model_id": "2f79d72d145d44e4a6a5261a25875bf8"
      }
     },
     "metadata": {},
     "output_type": "display_data"
    }
   ],
   "source": [
    "def execute_release(row_index: int) -> bool:\n",
    "    _output, _error = execute_bash(bash_command=f'{PYTHON_PATH} create_passport_and_claim_job.py temp/{row_index//10_000}_{PARTICIPANTS_FILE_NAME} {row_index} {gift_contract_address} True')\n",
    "    if _output:\n",
    "        return _output\n",
    "    else:\n",
    "        return _error\n",
    "\n",
    "\n",
    "NUMBER_OF_THREADS = 100\n",
    "\n",
    "tasks = list(range(NUMBER_OF_ACTIVATED_PARTICIPANTS))\n",
    "print(f'Number of tasks: {len(tasks)}')\n",
    "print(f'Number of threads: {NUMBER_OF_THREADS}')\n",
    "\n",
    "\n",
    "with Pool(processes=NUMBER_OF_THREADS) as pool:\n",
    "    res_release = list(tqdm(pool.imap(execute_release, tasks), total=len(tasks)))"
   ],
   "metadata": {
    "collapsed": false,
    "pycharm": {
     "name": "#%%\n"
    }
   }
  },
  {
   "cell_type": "code",
   "execution_count": 22,
   "outputs": [],
   "source": [
    "with open('temp/contract_release_execution_log_1.txt', 'r') as f:\n",
    "    release_data = json.load(f)"
   ],
   "metadata": {
    "collapsed": false,
    "pycharm": {
     "name": "#%%\n"
    }
   }
  },
  {
   "cell_type": "code",
   "execution_count": 23,
   "outputs": [
    {
     "name": "stdout",
     "output_type": "stream",
     "text": [
      "\n",
      "Events\n",
      "\n",
      "coin received\n",
      "\treceiver: bostrom144tp5hje0eflst8eg8py8jg0r4lhfyjhrsxyuq\n",
      "\tamount: 15990boot\n",
      "\n",
      "coin spent\n",
      "\tspender: Gift Contract\n",
      "\tamount: 15990boot\n",
      "\n",
      "execute\n",
      "\texecute contract: Gift Contract\n",
      "\n",
      "message from bostrom144tp5hje0eflst8eg8py8jg0r4lhfyjhrsxyuq wasm /cosmwasm.wasm.v1.MsgExecuteContract\n",
      "\n",
      "transfer\n",
      "\trecipient: bostrom144tp5hje0eflst8eg8py8jg0r4lhfyjhrsxyuq\n",
      "\tsender: Gift Contract\n",
      "\tamount: 15990boot\n",
      "\n",
      "wasm\n",
      "\t_contract_address: Gift Contract\n",
      "\taction: release\n",
      "\taddress: bostrom144tp5hje0eflst8eg8py8jg0r4lhfyjhrsxyuq\n",
      "\tgift_address: 0xafd2bdcfb28b845c92f4ece5a6c44fdbceba1b61\n",
      "\tstage: 9\n",
      "\tamount: 15,990\n",
      "Gas used: 157,447\n",
      "Tx hash: 5D59183EE4403DB7425BA8A87BD93AF1BD59CB2FC81931FA542813B5C0326ACA\n"
     ]
    }
   ],
   "source": [
    "contract_utils.parse_contract_execution_json(release_data['release_ethereum'])"
   ],
   "metadata": {
    "collapsed": false,
    "pycharm": {
     "name": "#%%\n"
    }
   }
  },
  {
   "cell_type": "markdown",
   "source": [
    "## Passport NFT testing\n",
    "### Transfer Passport"
   ],
   "metadata": {
    "collapsed": false,
    "pycharm": {
     "name": "#%% md\n"
    }
   }
  },
  {
   "cell_type": "code",
   "execution_count": 24,
   "outputs": [],
   "source": [
    "def get_passport_id(bostrom_address: str) -> str:\n",
    "    return query_contract(query=f'''{{\"tokens\": {{\"owner\": \"{bostrom_address}\"}}}}''',\n",
    "                          contract_address=passport_contract_address)['data']['tokens'][0]"
   ],
   "metadata": {
    "collapsed": false,
    "pycharm": {
     "name": "#%%\n"
    }
   }
  },
  {
   "cell_type": "code",
   "execution_count": 25,
   "outputs": [
    {
     "data": {
      "text/plain": "0it [00:00, ?it/s]",
      "application/vnd.jupyter.widget-view+json": {
       "version_major": 2,
       "version_minor": 0,
       "model_id": "ea297965f0ef47868d18d531c68e8ad5"
      }
     },
     "metadata": {},
     "output_type": "display_data"
    },
    {
     "name": "stdout",
     "output_type": "stream",
     "text": [
      "\n",
      "Events\n",
      "\n",
      "cyberlinks\n",
      "\tQmPcFZbajorUYkkdeowYUD1zJRAWA13N4Koy4rLeZ4cDji -> Nickname\n",
      "\tNickname -> QmPcFZbajorUYkkdeowYUD1zJRAWA13N4Koy4rLeZ4cDji\n",
      "\tneuron: Name Subgraph Contract\n",
      "\n",
      "\n",
      "execute\n",
      "\texecute contract: Passport Contract\n",
      "\texecute contract: Name Subgraph Contract\n",
      "\texecute contract: Avatar Subgraph Contract\n",
      "\n",
      "message from bostrom144tp5hje0eflst8eg8py8jg0r4lhfyjhrsxyuq wasm /cosmwasm.wasm.v1.MsgExecuteContract\n",
      "\n",
      "reply\n",
      "\treply contract: Avatar Subgraph Contract\n",
      "\n",
      "wasm\n",
      "\t_contract_address: Passport Contract\n",
      "\taction: transfer_nft\n",
      "\tsender: bostrom144tp5hje0eflst8eg8py8jg0r4lhfyjhrsxyuq\n",
      "\trecipient: Passport Owner Address\n",
      "\ttoken_id: 273396\n",
      "Gas used: 386,223\n",
      "Tx hash: BD20CBEF172D95F75E69EE7AB14AC3C36287B4E25AD9B1B1EC79776A34115A40\n"
     ]
    }
   ],
   "source": [
    "for index, row in tqdm(claims_with_proofs_df[:4].iterrows()):\n",
    "    if index == 1:\n",
    "        transfer_passport_json = contract_utils.transfer_passport(\n",
    "            row,\n",
    "            token_id=get_passport_id(row['bostrom_address']),\n",
    "            to_address=WALLET_ADDRESS,\n",
    "            display_data=DISPLAY_TX_EXECUTION)\n",
    "        contract_utils.parse_contract_execution_json(\n",
    "            transfer_passport_json,\n",
    "            row=row)\n",
    "    else:\n",
    "        pass"
   ],
   "metadata": {
    "collapsed": false,
    "pycharm": {
     "name": "#%%\n"
    }
   }
  },
  {
   "cell_type": "markdown",
   "source": [
    "### Burn"
   ],
   "metadata": {
    "collapsed": false,
    "pycharm": {
     "name": "#%% md\n"
    }
   }
  },
  {
   "cell_type": "code",
   "execution_count": 26,
   "outputs": [
    {
     "data": {
      "text/plain": "0it [00:00, ?it/s]",
      "application/vnd.jupyter.widget-view+json": {
       "version_major": 2,
       "version_minor": 0,
       "model_id": "4f7bb38f174e4abe8ed5bb8d98100d92"
      }
     },
     "metadata": {},
     "output_type": "display_data"
    },
    {
     "name": "stdout",
     "output_type": "stream",
     "text": [
      "\n",
      "Events\n",
      "\n",
      "cyberlinks\n",
      "\tcyberhole -> Nickname\n",
      "\tNickname -> cyberhole\n",
      "\tneuron: Name Subgraph Contract\n",
      "\n",
      "\tcyberhole -> Avatar\n",
      "\tAvatar -> cyberhole\n",
      "\tneuron: Avatar Subgraph Contract\n",
      "\n",
      "\n",
      "execute\n",
      "\texecute contract: Passport Contract\n",
      "\texecute contract: Name Subgraph Contract\n",
      "\texecute contract: Avatar Subgraph Contract\n",
      "\n",
      "message from bostrom1dzkua4flhf5g5vkzc37ne3dwzwf2pry7ugklh8 wasm /cosmwasm.wasm.v1.MsgExecuteContract\n",
      "\n",
      "wasm\n",
      "\t_contract_address: Passport Contract\n",
      "\taction: burn\n",
      "\tsender: bostrom1dzkua4flhf5g5vkzc37ne3dwzwf2pry7ugklh8\n",
      "\ttoken_id: 273395\n",
      "Gas used: 382,058\n",
      "Tx hash: B5B341737C1C79EC63923DAC82F2EC5538ED2E1456C27B396CFDBE87065FF0DB\n"
     ]
    }
   ],
   "source": [
    "for index, row in tqdm(claims_with_proofs_df[2:6].iterrows()):\n",
    "    if index == 2:\n",
    "        burn_passport_json = contract_utils.burn_passport(row, token_id=get_passport_id(row['bostrom_address']), display_data=DISPLAY_TX_EXECUTION)\n",
    "        contract_utils.parse_contract_execution_json(burn_passport_json, row=row)\n",
    "    else:\n",
    "        pass"
   ],
   "metadata": {
    "collapsed": false,
    "pycharm": {
     "name": "#%%\n"
    }
   }
  },
  {
   "cell_type": "markdown",
   "source": [
    "### Add tests for Passport contract\n",
    "#### create_passport +\n",
    "#### update_name\n",
    "#### update_avatar\n",
    "#### proof_address +\n",
    "#### remove_address\n",
    "#### set_minter\n",
    "#### set_owner\n",
    "#### set_active\n",
    "#### set_subgraphs\n",
    "#### transfer_nft +\n",
    "#### send_nft\n",
    "#### mint\n",
    "#### burn +\n",
    "#### approve\n",
    "#### approve_all\n",
    "#### revoke\n",
    "#### revoke_all\n",
    "#### Expirations\n",
    "##### at_height\n",
    "##### at_time\n",
    "##### never\n",
    "\n",
    "### Add tests for Gift contract\n",
    "#### update_owner\n",
    "#### update_passport_addr\n",
    "#### update_target\n",
    "#### register_merkle_root +\n",
    "#### claim +\n",
    "#### release +\n",
    "\n",
    "### Add tests for subgraph contract\n",
    "#### update_owner\n",
    "#### update_executer +\n"
   ],
   "metadata": {
    "collapsed": false,
    "pycharm": {
     "name": "#%% md\n"
    }
   }
  }
 ],
 "metadata": {
  "kernelspec": {
   "display_name": "Python 3",
   "language": "python",
   "name": "python3"
  },
  "language_info": {
   "codemirror_mode": {
    "name": "ipython",
    "version": 2
   },
   "file_extension": ".py",
   "mimetype": "text/x-python",
   "name": "python",
   "nbconvert_exporter": "python",
   "pygments_lexer": "ipython2",
   "version": "2.7.6"
  }
 },
 "nbformat": 4,
 "nbformat_minor": 0
}