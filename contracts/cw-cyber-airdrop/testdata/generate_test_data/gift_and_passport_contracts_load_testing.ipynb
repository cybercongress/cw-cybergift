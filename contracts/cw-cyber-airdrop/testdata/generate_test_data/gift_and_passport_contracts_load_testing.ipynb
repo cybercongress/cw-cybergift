{
 "cells": [
  {
   "cell_type": "markdown",
   "source": [
    "## Gift Contract Testing"
   ],
   "metadata": {
    "collapsed": false
   }
  },
  {
   "cell_type": "code",
   "execution_count": 1,
   "outputs": [
    {
     "name": "stderr",
     "output_type": "stream",
     "text": [
      "/home/grovybear/.local/lib/python3.9/site-packages/ipfshttpclient/client/__init__.py:75: VersionMismatch: Unsupported daemon version '0.12.2' (not in range: 0.5.0 ≤ … < 0.9.0)\n",
      "  warnings.warn(exceptions.VersionMismatch(version, minimum, maximum))\n"
     ]
    }
   ],
   "source": [
    "from web3.auto import w3\n",
    "import pandas as pd\n",
    "from cyberpy import generate_wallet, address_to_address\n",
    "from cyberpy._message_signer import Message\n",
    "from cyberpy._wallet import seed_to_privkey\n",
    "from eth_account.messages import encode_defunct\n",
    "import json\n",
    "import random\n",
    "from time import time, sleep\n",
    "import ipfshttpclient\n",
    "from tqdm.notebook import tqdm\n",
    "from base64 import b64encode\n",
    "from multiprocess import Pool\n",
    "from math import ceil\n",
    "from dotenv import dotenv_values\n",
    "from itertools import chain\n",
    "\n",
    "from contract_utils import execute_bash, instantiate_contract, execute_contract_bash, query_contract, get_ipfs_cid_from_str, get_proofs, ContractUtils\n",
    "\n",
    "\n",
    "ipfs_client = ipfshttpclient.connect()\n",
    "\n",
    "NUMBER_OF_PARTICIPANTS = 100\n",
    "NUMBER_OF_ACTIVATED_PARTICIPANTS = 20\n",
    "INITIAL_BALANCE = str(110_000_000)\n",
    "COEF_UP = str(13)\n",
    "COEF_DOWN = str(7)\n",
    "TARGET_CLAIM = str(2)\n",
    "CLAIM_AMOUNT_LIST = [int(round(20_000 * random.random(), -3)) + 20_000 for _ in range(NUMBER_OF_PARTICIPANTS)]\n",
    "\n",
    "NUMBER_OF_THREADS = 100\n",
    "KEY_PHRASE = 'KEY PHRASE'\n",
    "NICKNAME_LIST = [f'john{round(time())}{number}' for number in range(NUMBER_OF_PARTICIPANTS)]\n",
    "AVATAR_CID_LIST = [get_ipfs_cid_from_str(_nickname + '_avatar') for _nickname in NICKNAME_LIST]\n",
    "PREFIXES = ['cosmos', 'osmo', 'terra']\n",
    "\n",
    "WALLET_ADDRESS = dotenv_values('.env')['WALLET_ADDRESS']\n",
    "WALLET_SEED = dotenv_values('.env')['WALLET_SEED']\n",
    "PYTHON_PATH = dotenv_values('.env')['PYTHON_PATH']\n",
    "\n",
    "DISPLAY_TX_EXECUTION = False\n",
    "CALCULATE_ADDRESS_SET = True\n",
    "CALCULATE_PROOFS = True\n",
    "SEND_COINS = True\n",
    "\n",
    "INIT_SUBGRAPH_CONTRACTS = False\n",
    "SUBGRAPH_CODE_ID = str(3)\n",
    "NAME_SUBGRAPH_CONTRACT_ADDRESS = 'bostrom1qg5ega6dykkxc307y25pecuufrjkxkaggkkxh7nad0vhyhtuhw3sp98tza'\n",
    "AVATAR_SUBGRAPH_CONTRACT_ADDRESS = 'bostrom17p9rzwnnfxcjp32un9ug7yhhzgtkhvl9jfksztgw5uh69wac2pgs6qwudf'\n",
    "PROOF_SUBGRAPH_CONTRACT_ADDRESS = 'bostrom1unyuj8qnmygvzuex3dwmg9yzt9alhvyeat0uu0jedg2wj33efl5qpj0rgp'\n",
    "\n",
    "INIT_PASSPORT_CONTRACT = False\n",
    "PASSPORT_CODE_ID = str(2)\n",
    "PASSPORT_CONTRACT_ADDRESS = 'bostrom1hulx7cgvpfcvg83wk5h96sedqgn72n026w6nl47uht554xhvj9nsjxcwgf'\n",
    "\n",
    "INIT_TREASURY_CONTRACT = True\n",
    "TREASURY_CODE_ID = str(4)\n",
    "TREASURY_CONTRACT_ADDRESS = 'bostrom18cszlvm6pze0x9sz32qnjq4vtd45xehqs8dq7cwy8yhq35wfnn3q9u647v'\n",
    "\n",
    "INIT_GIFT_CONTRACT = True\n",
    "GIFT_CODE_ID = str(1)\n",
    "GIFT_CONTRACT_ADDRESS = 'bostrom14swjuycwxmvghd9hgr3f3755388g6xkaqpn2dxcf700fzcwdm2nqum7453'\n",
    "\n",
    "PARTICIPANTS_FILE_NAME = 'participants_test_data_' + str(NUMBER_OF_PARTICIPANTS) + '_addresses.csv'\n",
    "ROOT_SOURCE_FILE_NAME = 'root_testing_source_' + str(NUMBER_OF_PARTICIPANTS) + '_addresses.json'\n",
    "PROOF_FILE_NAME = 'proof_testing_' + str(NUMBER_OF_PARTICIPANTS) + '_addresses.json'\n",
    "ROOT_FILE_NAME = 'root_testing_' + str(NUMBER_OF_PARTICIPANTS) + '_addresses'"
   ],
   "metadata": {
    "collapsed": false,
    "pycharm": {
     "name": "#%%\n"
    }
   }
  },
  {
   "cell_type": "markdown",
   "source": [
    "### Generate addresses and sign messages"
   ],
   "metadata": {
    "collapsed": false
   }
  },
  {
   "cell_type": "code",
   "execution_count": 2,
   "outputs": [
    {
     "name": "stdout",
     "output_type": "stream",
     "text": [
      "Number of tasks: 100\n",
      "Number of threads: 100\n"
     ]
    },
    {
     "data": {
      "text/plain": "  0%|          | 0/100 [00:00<?, ?it/s]",
      "application/vnd.jupyter.widget-view+json": {
       "version_major": 2,
       "version_minor": 0,
       "model_id": "a4477e2f2236456588a5194b4236f454"
      }
     },
     "metadata": {},
     "output_type": "display_data"
    },
    {
     "data": {
      "text/plain": "   amount         nickname                                          avatar  \\\n0   39000  john16524446570  QmPoZoWScNbRC1cqMDfwFk4srgJWajp4LUnzpZnCQq1G73   \n1   22000  john16524446571  QmU2wN9M9ue2mTvZ1e6EGw8prtQjUTfkuR7cKCvMPLSZuY   \n2   28000  john16524446572  QmP1PnnK1EWzD5VheBrdPBKydRZdvqrVWLXhTak1WpjuMw   \n3   27000  john16524446573  QmWkjPj9Rf5RtJcAm2EFL1iWTxRGWHYxhszxHckRKHDcqe   \n4   37000  john16524446574  QmV2AUTLGbzRdhFNgCaM9eaucRUSpSF7NuzKoJCvcZdJh2   \n\n                             ethereum_address  \\\n0  0x77733286f58e09dd27229a4c43aa8c589c055b09   \n1  0x38c94ad36f6d99affde350f6d458dd851be95c88   \n2  0xafcfc121796b6c1ee89e432a15793f2efa7e130c   \n3  0xffe9bee97bf5b4cfde050cbd7e4cfefec41f37fa   \n4  0xeabaee4f86d50c6fbb4f5925e649c864d684d6cc   \n\n                                ethereum_private_key  \\\n0  0xda59de6877336a18c1ddb0bcce1c9e12ba6e5ce7dc6c...   \n1  0x03e5f19ded2a4b31fecb75e9a57abe40d0bdd6edf484...   \n2  0x7a6ae4502055818a38cb4f19103f77f65036904ff609...   \n3  0xe5c340540f74cc190afc2a5bc37038bab1c3c7f32e2a...   \n4  0x7a0bc17c08f9e25771a2016b7c6ca562a84306fd6d90...   \n\n                                  bostrom_address  \\\n0  bostrom1xmdpqy8mlwnud5whzgsva38tws29qwhluftw4x   \n1  bostrom1shgxepz7m5dycfmd0gd8vxxvp8uelx6pxfxf0v   \n2  bostrom19ssajxkwu8kvff9um8nmhr4kfnptpp8vevrzw4   \n3  bostrom1eqdfdkllfpcnlcwrpppuq8v0z3j20aqereh3v4   \n4  bostrom1f7s9vzv79ewa6htzd0gzhrdxf9p45luxvjtjhv   \n\n                                  cosmos_address  \\\n0  cosmos1xmdpqy8mlwnud5whzgsva38tws29qwhll6latp   \n1  cosmos1shgxepz7m5dycfmd0gd8vxxvp8uelx6p96j63t   \n2  cosmos19ssajxkwu8kvff9um8nmhr4kfnptpp8v6lh3sj   \n3  cosmos1eqdfdkllfpcnlcwrpppuq8v0z3j20aqeq2rzjj   \n4    osmo1f7s9vzv79ewa6htzd0gzhrdxf9p45lux86v3le   \n\n                                         cosmos_seed  \\\n0  fiber awkward industry race design bird transf...   \n1  wink box during grief liquid maid faint donate...   \n2  half famous helmet oil expand gold barely stor...   \n3  hold predict empower display clog panic entire...   \n4  strong air mosquito police behind pear warfare...   \n\n                                             message  \\\n0  bostrom1xmdpqy8mlwnud5whzgsva38tws29qwhluftw4x...   \n1  bostrom1shgxepz7m5dycfmd0gd8vxxvp8uelx6pxfxf0v...   \n2  bostrom19ssajxkwu8kvff9um8nmhr4kfnptpp8vevrzw4...   \n3  bostrom1eqdfdkllfpcnlcwrpppuq8v0z3j20aqereh3v4...   \n4  bostrom1f7s9vzv79ewa6htzd0gzhrdxf9p45luxvjtjhv...   \n\n                          ethereum_message_signature  \\\n0  0x30d7ee1f90e75cbb42180b675658190f7afce4846157...   \n1  0x4f84ef6848c70cddb5e66ff78038c3f030fadb08cbbd...   \n2  0x876a2ee206f67f0898686ed7e3768aec1d4ab72ed47f...   \n3  0x5e7608320377526131ef41a46c4a71c6e5df98d874e3...   \n4  0x92fc66a16e33c62edf7aefcf0f934889501b3bb355ec...   \n\n                           cosmos_message_signed_row  \\\n0  {'pub_key': 'AqFUzM7XjyUgIzkaJ3xsNiM33/hhI2A2K...   \n1  {'pub_key': 'AhsicgXQ9qnBrDIpMdCC+ft3GsqGnne+/...   \n2  {'pub_key': 'A6ZRALY1N25cUS2bhLSTG+Bd703Zev3qe...   \n3  {'pub_key': 'AlFr40raiXo1Q/E20X193lGDzRc1xfeT3...   \n4  {'pub_key': 'AwR4kuj4TZnKMvDbFEO6Tgv/CRW5eriKp...   \n\n                            cosmos_message_signature  \n0  eyJwdWJfa2V5IjoiQXFGVXpNN1hqeVVnSXprYUozeHNOaU...  \n1  eyJwdWJfa2V5IjoiQWhzaWNnWFE5cW5CckRJcE1kQ0MrZn...  \n2  eyJwdWJfa2V5IjoiQTZaUkFMWTFOMjVjVVMyYmhMU1RHK0...  \n3  eyJwdWJfa2V5IjoiQWxGcjQwcmFpWG8xUS9FMjBYMTkzbE...  \n4  eyJwdWJfa2V5IjoiQXdSNGt1ajRUWm5LTXZEYkZFTzZUZ3...  ",
      "text/html": "<div>\n<style scoped>\n    .dataframe tbody tr th:only-of-type {\n        vertical-align: middle;\n    }\n\n    .dataframe tbody tr th {\n        vertical-align: top;\n    }\n\n    .dataframe thead th {\n        text-align: right;\n    }\n</style>\n<table border=\"1\" class=\"dataframe\">\n  <thead>\n    <tr style=\"text-align: right;\">\n      <th></th>\n      <th>amount</th>\n      <th>nickname</th>\n      <th>avatar</th>\n      <th>ethereum_address</th>\n      <th>ethereum_private_key</th>\n      <th>bostrom_address</th>\n      <th>cosmos_address</th>\n      <th>cosmos_seed</th>\n      <th>message</th>\n      <th>ethereum_message_signature</th>\n      <th>cosmos_message_signed_row</th>\n      <th>cosmos_message_signature</th>\n    </tr>\n  </thead>\n  <tbody>\n    <tr>\n      <th>0</th>\n      <td>39000</td>\n      <td>john16524446570</td>\n      <td>QmPoZoWScNbRC1cqMDfwFk4srgJWajp4LUnzpZnCQq1G73</td>\n      <td>0x77733286f58e09dd27229a4c43aa8c589c055b09</td>\n      <td>0xda59de6877336a18c1ddb0bcce1c9e12ba6e5ce7dc6c...</td>\n      <td>bostrom1xmdpqy8mlwnud5whzgsva38tws29qwhluftw4x</td>\n      <td>cosmos1xmdpqy8mlwnud5whzgsva38tws29qwhll6latp</td>\n      <td>fiber awkward industry race design bird transf...</td>\n      <td>bostrom1xmdpqy8mlwnud5whzgsva38tws29qwhluftw4x...</td>\n      <td>0x30d7ee1f90e75cbb42180b675658190f7afce4846157...</td>\n      <td>{'pub_key': 'AqFUzM7XjyUgIzkaJ3xsNiM33/hhI2A2K...</td>\n      <td>eyJwdWJfa2V5IjoiQXFGVXpNN1hqeVVnSXprYUozeHNOaU...</td>\n    </tr>\n    <tr>\n      <th>1</th>\n      <td>22000</td>\n      <td>john16524446571</td>\n      <td>QmU2wN9M9ue2mTvZ1e6EGw8prtQjUTfkuR7cKCvMPLSZuY</td>\n      <td>0x38c94ad36f6d99affde350f6d458dd851be95c88</td>\n      <td>0x03e5f19ded2a4b31fecb75e9a57abe40d0bdd6edf484...</td>\n      <td>bostrom1shgxepz7m5dycfmd0gd8vxxvp8uelx6pxfxf0v</td>\n      <td>cosmos1shgxepz7m5dycfmd0gd8vxxvp8uelx6p96j63t</td>\n      <td>wink box during grief liquid maid faint donate...</td>\n      <td>bostrom1shgxepz7m5dycfmd0gd8vxxvp8uelx6pxfxf0v...</td>\n      <td>0x4f84ef6848c70cddb5e66ff78038c3f030fadb08cbbd...</td>\n      <td>{'pub_key': 'AhsicgXQ9qnBrDIpMdCC+ft3GsqGnne+/...</td>\n      <td>eyJwdWJfa2V5IjoiQWhzaWNnWFE5cW5CckRJcE1kQ0MrZn...</td>\n    </tr>\n    <tr>\n      <th>2</th>\n      <td>28000</td>\n      <td>john16524446572</td>\n      <td>QmP1PnnK1EWzD5VheBrdPBKydRZdvqrVWLXhTak1WpjuMw</td>\n      <td>0xafcfc121796b6c1ee89e432a15793f2efa7e130c</td>\n      <td>0x7a6ae4502055818a38cb4f19103f77f65036904ff609...</td>\n      <td>bostrom19ssajxkwu8kvff9um8nmhr4kfnptpp8vevrzw4</td>\n      <td>cosmos19ssajxkwu8kvff9um8nmhr4kfnptpp8v6lh3sj</td>\n      <td>half famous helmet oil expand gold barely stor...</td>\n      <td>bostrom19ssajxkwu8kvff9um8nmhr4kfnptpp8vevrzw4...</td>\n      <td>0x876a2ee206f67f0898686ed7e3768aec1d4ab72ed47f...</td>\n      <td>{'pub_key': 'A6ZRALY1N25cUS2bhLSTG+Bd703Zev3qe...</td>\n      <td>eyJwdWJfa2V5IjoiQTZaUkFMWTFOMjVjVVMyYmhMU1RHK0...</td>\n    </tr>\n    <tr>\n      <th>3</th>\n      <td>27000</td>\n      <td>john16524446573</td>\n      <td>QmWkjPj9Rf5RtJcAm2EFL1iWTxRGWHYxhszxHckRKHDcqe</td>\n      <td>0xffe9bee97bf5b4cfde050cbd7e4cfefec41f37fa</td>\n      <td>0xe5c340540f74cc190afc2a5bc37038bab1c3c7f32e2a...</td>\n      <td>bostrom1eqdfdkllfpcnlcwrpppuq8v0z3j20aqereh3v4</td>\n      <td>cosmos1eqdfdkllfpcnlcwrpppuq8v0z3j20aqeq2rzjj</td>\n      <td>hold predict empower display clog panic entire...</td>\n      <td>bostrom1eqdfdkllfpcnlcwrpppuq8v0z3j20aqereh3v4...</td>\n      <td>0x5e7608320377526131ef41a46c4a71c6e5df98d874e3...</td>\n      <td>{'pub_key': 'AlFr40raiXo1Q/E20X193lGDzRc1xfeT3...</td>\n      <td>eyJwdWJfa2V5IjoiQWxGcjQwcmFpWG8xUS9FMjBYMTkzbE...</td>\n    </tr>\n    <tr>\n      <th>4</th>\n      <td>37000</td>\n      <td>john16524446574</td>\n      <td>QmV2AUTLGbzRdhFNgCaM9eaucRUSpSF7NuzKoJCvcZdJh2</td>\n      <td>0xeabaee4f86d50c6fbb4f5925e649c864d684d6cc</td>\n      <td>0x7a0bc17c08f9e25771a2016b7c6ca562a84306fd6d90...</td>\n      <td>bostrom1f7s9vzv79ewa6htzd0gzhrdxf9p45luxvjtjhv</td>\n      <td>osmo1f7s9vzv79ewa6htzd0gzhrdxf9p45lux86v3le</td>\n      <td>strong air mosquito police behind pear warfare...</td>\n      <td>bostrom1f7s9vzv79ewa6htzd0gzhrdxf9p45luxvjtjhv...</td>\n      <td>0x92fc66a16e33c62edf7aefcf0f934889501b3bb355ec...</td>\n      <td>{'pub_key': 'AwR4kuj4TZnKMvDbFEO6Tgv/CRW5eriKp...</td>\n      <td>eyJwdWJfa2V5IjoiQXdSNGt1ajRUWm5LTXZEYkZFTzZUZ3...</td>\n    </tr>\n  </tbody>\n</table>\n</div>"
     },
     "execution_count": 2,
     "metadata": {},
     "output_type": "execute_result"
    }
   ],
   "source": [
    "def generate_wallet_data(i: int, prefixes: list = PREFIXES) -> dict:\n",
    "\n",
    "    prefix = random.choice(prefixes)\n",
    "\n",
    "    claim_item = {'amount': CLAIM_AMOUNT_LIST[i],\n",
    "              'nickname': NICKNAME_LIST[i],\n",
    "              'avatar': AVATAR_CID_LIST[i]}\n",
    "\n",
    "    # Generate Ethereum wallet\n",
    "    ethereum_wallet = w3.eth.account.create(KEY_PHRASE)\n",
    "    claim_item['ethereum_address'] = ethereum_wallet.address.lower()\n",
    "    claim_item['ethereum_private_key'] = ethereum_wallet.privateKey.hex()\n",
    "\n",
    "    # Generate Bostrom and Cosmos wallet\n",
    "    bostrom_wallet = generate_wallet()\n",
    "    claim_item['bostrom_address'] = bostrom_wallet['address']\n",
    "    claim_item['cosmos_address'] = address_to_address(bostrom_wallet['address'], prefix)\n",
    "    claim_item['cosmos_seed'] = bostrom_wallet['seed']\n",
    "\n",
    "    # Create message\n",
    "    claim_item['message'] = f\"{claim_item['bostrom_address']}:QmRX8qYgeZoYM3M5zzQaWEpVFdpin6FvVXvp6RPQK3oufV\"\n",
    "\n",
    "    # Sign message form Ethereum address\n",
    "    ethereum_signed_message = \\\n",
    "        w3.eth.account.sign_message(\n",
    "            signable_message=encode_defunct(text=claim_item['message']),\n",
    "            private_key=ethereum_wallet.privateKey)\n",
    "    claim_item['ethereum_message_signature'] = ethereum_signed_message.signature.hex()\n",
    "\n",
    "    # Sign message form Cosmos address\n",
    "    cosmos_msg = Message(privkey=seed_to_privkey(seed=claim_item['cosmos_seed']))\n",
    "    cosmos_msg.add_message(signing_message=claim_item['message'], signer_prefix=prefix)\n",
    "    claim_item['cosmos_message_signed_row'] = cosmos_msg.get_signed_message()\n",
    "    claim_item['cosmos_message_signature'] = b64encode(json.dumps(claim_item['cosmos_message_signed_row']).replace('\\n', '').replace(' ', '').encode('utf-8')).decode(\"utf-8\")\n",
    "\n",
    "    # Verify message\n",
    "    assert claim_item['ethereum_address'] == w3.eth.account.recover_message(\n",
    "        signable_message=encode_defunct(text=claim_item['message']),\n",
    "        signature=claim_item['ethereum_message_signature']).lower()\n",
    "\n",
    "    return claim_item\n",
    "\n",
    "\n",
    "if CALCULATE_ADDRESS_SET:\n",
    "\n",
    "    tasks = list(range(NUMBER_OF_PARTICIPANTS))\n",
    "    print(f'Number of tasks: {len(tasks)}')\n",
    "    print(f'Number of threads: {NUMBER_OF_THREADS}')\n",
    "    with Pool(processes=NUMBER_OF_THREADS) as pool:\n",
    "        claims_list = list(tqdm(pool.imap(generate_wallet_data, tasks), total=len(tasks)))\n",
    "\n",
    "    claims_df = pd.DataFrame(claims_list)\n",
    "    claims_df.to_csv('claims_ethereum_test_data_without_proof_' + str(NUMBER_OF_PARTICIPANTS) + '_addresses.csv')\n",
    "else:\n",
    "    claims_df = pd.read_csv('claims_ethereum_test_data_without_proof_' + str(NUMBER_OF_PARTICIPANTS) + '_addresses.csv')\n",
    "claims_df.head()"
   ],
   "metadata": {
    "collapsed": false,
    "pycharm": {
     "name": "#%%\n"
    }
   }
  },
  {
   "cell_type": "markdown",
   "source": [
    "### Create Merkle Tree, Get Root and Proofs"
   ],
   "metadata": {
    "collapsed": false,
    "pycharm": {
     "name": "#%% md\n"
    }
   }
  },
  {
   "cell_type": "code",
   "execution_count": 3,
   "outputs": [],
   "source": [
    "root_source_list_ethereum = \\\n",
    "    [{'address': _item[0],\n",
    "      'amount': str(_item[1])}\n",
    "     for _item in claims_df.loc[:, ['ethereum_address', 'amount']].values.tolist()]\n",
    "root_source_list_cosmos = \\\n",
    "    [{'address': _item[0],\n",
    "      'amount': str(_item[1])}\n",
    "     for _item in claims_df.loc[:, ['cosmos_address', 'amount']].values.tolist()]\n",
    "root_source_list = list(chain.from_iterable(zip(root_source_list_ethereum, root_source_list_cosmos)))\n",
    "\n",
    "with open(ROOT_SOURCE_FILE_NAME, 'w') as outfile:\n",
    "    outfile.write(str(root_source_list).replace(\"'\", '\"'))"
   ],
   "metadata": {
    "collapsed": false,
    "pycharm": {
     "name": "#%%\n"
    }
   }
  },
  {
   "cell_type": "code",
   "execution_count": 4,
   "outputs": [
    {
     "name": "stdout",
     "output_type": "stream",
     "text": [
      "Number of addresses: 200\n",
      "Number of activated participants: 20\n",
      "Number of threads: 30\n",
      "Bash size: 2,000\n",
      "Number of tasks: 1\n"
     ]
    },
    {
     "data": {
      "text/plain": "  0%|          | 0/1 [00:00<?, ?it/s]",
      "application/vnd.jupyter.widget-view+json": {
       "version_major": 2,
       "version_minor": 0,
       "model_id": "d46d0fcae0f74f80b392fc0ccda4bec6"
      }
     },
     "metadata": {},
     "output_type": "display_data"
    },
    {
     "name": "stdout",
     "output_type": "stream",
     "text": [
      "yarn run v1.22.18\n",
      "$ ts-node index.ts --input root_testing_source_100_addresses.json --output temp/proofs_0.json --start_index 0 --end_index 41\n",
      "Merkle root: 262b663b1158c081791de9d0a24c09dd2129fba74e28c4efe8d03928d64fb437\n",
      "Number of addresses in the Merkle tree: 41\n",
      "Done in 1.18s.\n",
      "\n"
     ]
    }
   ],
   "source": [
    "NUMBER_OF_THREADS = 30\n",
    "BASH_SIZE = 2000\n",
    "\n",
    "tasks = set(\n",
    "    (\n",
    "        (ROOT_SOURCE_FILE_NAME,\n",
    "         f'temp/proofs_{i}.json',\n",
    "         i * BASH_SIZE,\n",
    "         min(NUMBER_OF_ACTIVATED_PARTICIPANTS * 2 + 1, (i + 1) * BASH_SIZE + 1))\n",
    "        for i in range(ceil(2 * NUMBER_OF_ACTIVATED_PARTICIPANTS/BASH_SIZE))\n",
    "    )\n",
    ")\n",
    "if CALCULATE_PROOFS:\n",
    "    print(f'Number of addresses: {2 * NUMBER_OF_PARTICIPANTS:>,}\\nNumber of activated participants: {NUMBER_OF_ACTIVATED_PARTICIPANTS:>,}\\nNumber of threads: {NUMBER_OF_THREADS:>,}\\nBash size: {BASH_SIZE:>,}\\nNumber of tasks: {len(tasks):>,}')\n",
    "    with Pool(processes=NUMBER_OF_THREADS) as pool:\n",
    "        res = pool.starmap(get_proofs, tqdm(tasks, total=len(tasks)))\n",
    "    assert res == [True] * len(res)"
   ],
   "metadata": {
    "collapsed": false,
    "pycharm": {
     "name": "#%%\n"
    }
   }
  },
  {
   "cell_type": "code",
   "execution_count": 5,
   "outputs": [
    {
     "data": {
      "text/plain": "   amount         nickname                                          avatar  \\\n0   39000  john16524446570  QmPoZoWScNbRC1cqMDfwFk4srgJWajp4LUnzpZnCQq1G73   \n1   22000  john16524446571  QmU2wN9M9ue2mTvZ1e6EGw8prtQjUTfkuR7cKCvMPLSZuY   \n2   28000  john16524446572  QmP1PnnK1EWzD5VheBrdPBKydRZdvqrVWLXhTak1WpjuMw   \n3   27000  john16524446573  QmWkjPj9Rf5RtJcAm2EFL1iWTxRGWHYxhszxHckRKHDcqe   \n4   37000  john16524446574  QmV2AUTLGbzRdhFNgCaM9eaucRUSpSF7NuzKoJCvcZdJh2   \n\n                             ethereum_address  \\\n0  0x77733286f58e09dd27229a4c43aa8c589c055b09   \n1  0x38c94ad36f6d99affde350f6d458dd851be95c88   \n2  0xafcfc121796b6c1ee89e432a15793f2efa7e130c   \n3  0xffe9bee97bf5b4cfde050cbd7e4cfefec41f37fa   \n4  0xeabaee4f86d50c6fbb4f5925e649c864d684d6cc   \n\n                                ethereum_private_key  \\\n0  0xda59de6877336a18c1ddb0bcce1c9e12ba6e5ce7dc6c...   \n1  0x03e5f19ded2a4b31fecb75e9a57abe40d0bdd6edf484...   \n2  0x7a6ae4502055818a38cb4f19103f77f65036904ff609...   \n3  0xe5c340540f74cc190afc2a5bc37038bab1c3c7f32e2a...   \n4  0x7a0bc17c08f9e25771a2016b7c6ca562a84306fd6d90...   \n\n                                  bostrom_address  \\\n0  bostrom1xmdpqy8mlwnud5whzgsva38tws29qwhluftw4x   \n1  bostrom1shgxepz7m5dycfmd0gd8vxxvp8uelx6pxfxf0v   \n2  bostrom19ssajxkwu8kvff9um8nmhr4kfnptpp8vevrzw4   \n3  bostrom1eqdfdkllfpcnlcwrpppuq8v0z3j20aqereh3v4   \n4  bostrom1f7s9vzv79ewa6htzd0gzhrdxf9p45luxvjtjhv   \n\n                                  cosmos_address  \\\n0  cosmos1xmdpqy8mlwnud5whzgsva38tws29qwhll6latp   \n1  cosmos1shgxepz7m5dycfmd0gd8vxxvp8uelx6p96j63t   \n2  cosmos19ssajxkwu8kvff9um8nmhr4kfnptpp8v6lh3sj   \n3  cosmos1eqdfdkllfpcnlcwrpppuq8v0z3j20aqeq2rzjj   \n4    osmo1f7s9vzv79ewa6htzd0gzhrdxf9p45lux86v3le   \n\n                                         cosmos_seed  \\\n0  fiber awkward industry race design bird transf...   \n1  wink box during grief liquid maid faint donate...   \n2  half famous helmet oil expand gold barely stor...   \n3  hold predict empower display clog panic entire...   \n4  strong air mosquito police behind pear warfare...   \n\n                                             message  \\\n0  bostrom1xmdpqy8mlwnud5whzgsva38tws29qwhluftw4x...   \n1  bostrom1shgxepz7m5dycfmd0gd8vxxvp8uelx6pxfxf0v...   \n2  bostrom19ssajxkwu8kvff9um8nmhr4kfnptpp8vevrzw4...   \n3  bostrom1eqdfdkllfpcnlcwrpppuq8v0z3j20aqereh3v4...   \n4  bostrom1f7s9vzv79ewa6htzd0gzhrdxf9p45luxvjtjhv...   \n\n                          ethereum_message_signature  \\\n0  0x30d7ee1f90e75cbb42180b675658190f7afce4846157...   \n1  0x4f84ef6848c70cddb5e66ff78038c3f030fadb08cbbd...   \n2  0x876a2ee206f67f0898686ed7e3768aec1d4ab72ed47f...   \n3  0x5e7608320377526131ef41a46c4a71c6e5df98d874e3...   \n4  0x92fc66a16e33c62edf7aefcf0f934889501b3bb355ec...   \n\n                           cosmos_message_signed_row  \\\n0  {'pub_key': 'AqFUzM7XjyUgIzkaJ3xsNiM33/hhI2A2K...   \n1  {'pub_key': 'AhsicgXQ9qnBrDIpMdCC+ft3GsqGnne+/...   \n2  {'pub_key': 'A6ZRALY1N25cUS2bhLSTG+Bd703Zev3qe...   \n3  {'pub_key': 'AlFr40raiXo1Q/E20X193lGDzRc1xfeT3...   \n4  {'pub_key': 'AwR4kuj4TZnKMvDbFEO6Tgv/CRW5eriKp...   \n\n                            cosmos_message_signature  \\\n0  eyJwdWJfa2V5IjoiQXFGVXpNN1hqeVVnSXprYUozeHNOaU...   \n1  eyJwdWJfa2V5IjoiQWhzaWNnWFE5cW5CckRJcE1kQ0MrZn...   \n2  eyJwdWJfa2V5IjoiQTZaUkFMWTFOMjVjVVMyYmhMU1RHK0...   \n3  eyJwdWJfa2V5IjoiQWxGcjQwcmFpWG8xUS9FMjBYMTkzbE...   \n4  eyJwdWJfa2V5IjoiQXdSNGt1ajRUWm5LTXZEYkZFTzZUZ3...   \n\n                                      ethereum_proof  \\\n0  [a53ec1fe56e5d811717a6094a58a7de639a68f75bfe0e...   \n1  [12a8de125cbf3ef5b253dd22dd48b2e47d909245942ab...   \n2  [f134ebdd5b30a07f715cc1d3a4aec8c8f6afb2bf0584e...   \n3  [da3ee3cbb3abec0f903a5d35e01430612b79426f52f72...   \n4  [058db2378e06ddb5bda7d217bec41c356d11e1fff2161...   \n\n                                        cosmos_proof  \n0  [3f9ba271dd2fd7f4c8efeb867fd038e5d3730fc2497e5...  \n1  [11134c99cc32ad3d35894f454196872926bed1b983a82...  \n2  [128880e27967800ebc916608fc66df0c9c3108f448be5...  \n3  [9146ef5d2c6679e6711cdd4c4245428e10d09914dc3e3...  \n4  [652e447ac6f4d4d409b84bc3ace2103d692cb3ab78a1c...  ",
      "text/html": "<div>\n<style scoped>\n    .dataframe tbody tr th:only-of-type {\n        vertical-align: middle;\n    }\n\n    .dataframe tbody tr th {\n        vertical-align: top;\n    }\n\n    .dataframe thead th {\n        text-align: right;\n    }\n</style>\n<table border=\"1\" class=\"dataframe\">\n  <thead>\n    <tr style=\"text-align: right;\">\n      <th></th>\n      <th>amount</th>\n      <th>nickname</th>\n      <th>avatar</th>\n      <th>ethereum_address</th>\n      <th>ethereum_private_key</th>\n      <th>bostrom_address</th>\n      <th>cosmos_address</th>\n      <th>cosmos_seed</th>\n      <th>message</th>\n      <th>ethereum_message_signature</th>\n      <th>cosmos_message_signed_row</th>\n      <th>cosmos_message_signature</th>\n      <th>ethereum_proof</th>\n      <th>cosmos_proof</th>\n    </tr>\n  </thead>\n  <tbody>\n    <tr>\n      <th>0</th>\n      <td>39000</td>\n      <td>john16524446570</td>\n      <td>QmPoZoWScNbRC1cqMDfwFk4srgJWajp4LUnzpZnCQq1G73</td>\n      <td>0x77733286f58e09dd27229a4c43aa8c589c055b09</td>\n      <td>0xda59de6877336a18c1ddb0bcce1c9e12ba6e5ce7dc6c...</td>\n      <td>bostrom1xmdpqy8mlwnud5whzgsva38tws29qwhluftw4x</td>\n      <td>cosmos1xmdpqy8mlwnud5whzgsva38tws29qwhll6latp</td>\n      <td>fiber awkward industry race design bird transf...</td>\n      <td>bostrom1xmdpqy8mlwnud5whzgsva38tws29qwhluftw4x...</td>\n      <td>0x30d7ee1f90e75cbb42180b675658190f7afce4846157...</td>\n      <td>{'pub_key': 'AqFUzM7XjyUgIzkaJ3xsNiM33/hhI2A2K...</td>\n      <td>eyJwdWJfa2V5IjoiQXFGVXpNN1hqeVVnSXprYUozeHNOaU...</td>\n      <td>[a53ec1fe56e5d811717a6094a58a7de639a68f75bfe0e...</td>\n      <td>[3f9ba271dd2fd7f4c8efeb867fd038e5d3730fc2497e5...</td>\n    </tr>\n    <tr>\n      <th>1</th>\n      <td>22000</td>\n      <td>john16524446571</td>\n      <td>QmU2wN9M9ue2mTvZ1e6EGw8prtQjUTfkuR7cKCvMPLSZuY</td>\n      <td>0x38c94ad36f6d99affde350f6d458dd851be95c88</td>\n      <td>0x03e5f19ded2a4b31fecb75e9a57abe40d0bdd6edf484...</td>\n      <td>bostrom1shgxepz7m5dycfmd0gd8vxxvp8uelx6pxfxf0v</td>\n      <td>cosmos1shgxepz7m5dycfmd0gd8vxxvp8uelx6p96j63t</td>\n      <td>wink box during grief liquid maid faint donate...</td>\n      <td>bostrom1shgxepz7m5dycfmd0gd8vxxvp8uelx6pxfxf0v...</td>\n      <td>0x4f84ef6848c70cddb5e66ff78038c3f030fadb08cbbd...</td>\n      <td>{'pub_key': 'AhsicgXQ9qnBrDIpMdCC+ft3GsqGnne+/...</td>\n      <td>eyJwdWJfa2V5IjoiQWhzaWNnWFE5cW5CckRJcE1kQ0MrZn...</td>\n      <td>[12a8de125cbf3ef5b253dd22dd48b2e47d909245942ab...</td>\n      <td>[11134c99cc32ad3d35894f454196872926bed1b983a82...</td>\n    </tr>\n    <tr>\n      <th>2</th>\n      <td>28000</td>\n      <td>john16524446572</td>\n      <td>QmP1PnnK1EWzD5VheBrdPBKydRZdvqrVWLXhTak1WpjuMw</td>\n      <td>0xafcfc121796b6c1ee89e432a15793f2efa7e130c</td>\n      <td>0x7a6ae4502055818a38cb4f19103f77f65036904ff609...</td>\n      <td>bostrom19ssajxkwu8kvff9um8nmhr4kfnptpp8vevrzw4</td>\n      <td>cosmos19ssajxkwu8kvff9um8nmhr4kfnptpp8v6lh3sj</td>\n      <td>half famous helmet oil expand gold barely stor...</td>\n      <td>bostrom19ssajxkwu8kvff9um8nmhr4kfnptpp8vevrzw4...</td>\n      <td>0x876a2ee206f67f0898686ed7e3768aec1d4ab72ed47f...</td>\n      <td>{'pub_key': 'A6ZRALY1N25cUS2bhLSTG+Bd703Zev3qe...</td>\n      <td>eyJwdWJfa2V5IjoiQTZaUkFMWTFOMjVjVVMyYmhMU1RHK0...</td>\n      <td>[f134ebdd5b30a07f715cc1d3a4aec8c8f6afb2bf0584e...</td>\n      <td>[128880e27967800ebc916608fc66df0c9c3108f448be5...</td>\n    </tr>\n    <tr>\n      <th>3</th>\n      <td>27000</td>\n      <td>john16524446573</td>\n      <td>QmWkjPj9Rf5RtJcAm2EFL1iWTxRGWHYxhszxHckRKHDcqe</td>\n      <td>0xffe9bee97bf5b4cfde050cbd7e4cfefec41f37fa</td>\n      <td>0xe5c340540f74cc190afc2a5bc37038bab1c3c7f32e2a...</td>\n      <td>bostrom1eqdfdkllfpcnlcwrpppuq8v0z3j20aqereh3v4</td>\n      <td>cosmos1eqdfdkllfpcnlcwrpppuq8v0z3j20aqeq2rzjj</td>\n      <td>hold predict empower display clog panic entire...</td>\n      <td>bostrom1eqdfdkllfpcnlcwrpppuq8v0z3j20aqereh3v4...</td>\n      <td>0x5e7608320377526131ef41a46c4a71c6e5df98d874e3...</td>\n      <td>{'pub_key': 'AlFr40raiXo1Q/E20X193lGDzRc1xfeT3...</td>\n      <td>eyJwdWJfa2V5IjoiQWxGcjQwcmFpWG8xUS9FMjBYMTkzbE...</td>\n      <td>[da3ee3cbb3abec0f903a5d35e01430612b79426f52f72...</td>\n      <td>[9146ef5d2c6679e6711cdd4c4245428e10d09914dc3e3...</td>\n    </tr>\n    <tr>\n      <th>4</th>\n      <td>37000</td>\n      <td>john16524446574</td>\n      <td>QmV2AUTLGbzRdhFNgCaM9eaucRUSpSF7NuzKoJCvcZdJh2</td>\n      <td>0xeabaee4f86d50c6fbb4f5925e649c864d684d6cc</td>\n      <td>0x7a0bc17c08f9e25771a2016b7c6ca562a84306fd6d90...</td>\n      <td>bostrom1f7s9vzv79ewa6htzd0gzhrdxf9p45luxvjtjhv</td>\n      <td>osmo1f7s9vzv79ewa6htzd0gzhrdxf9p45lux86v3le</td>\n      <td>strong air mosquito police behind pear warfare...</td>\n      <td>bostrom1f7s9vzv79ewa6htzd0gzhrdxf9p45luxvjtjhv...</td>\n      <td>0x92fc66a16e33c62edf7aefcf0f934889501b3bb355ec...</td>\n      <td>{'pub_key': 'AwR4kuj4TZnKMvDbFEO6Tgv/CRW5eriKp...</td>\n      <td>eyJwdWJfa2V5IjoiQXdSNGt1ajRUWm5LTXZEYkZFTzZUZ3...</td>\n      <td>[058db2378e06ddb5bda7d217bec41c356d11e1fff2161...</td>\n      <td>[652e447ac6f4d4d409b84bc3ace2103d692cb3ab78a1c...</td>\n    </tr>\n  </tbody>\n</table>\n</div>"
     },
     "execution_count": 5,
     "metadata": {},
     "output_type": "execute_result"
    }
   ],
   "source": [
    "if CALCULATE_PROOFS:\n",
    "    roots = []\n",
    "    proofs_df = pd.DataFrame(columns=['address', 'amount', 'proof'])\n",
    "    for task in tasks:\n",
    "        with open(task[1], 'r') as proof_file:\n",
    "            root_and_proof_json = json.load(proof_file)\n",
    "        roots.append(root_and_proof_json['merkle_root'])\n",
    "        proofs_df = pd.concat([proofs_df, pd.DataFrame(root_and_proof_json['proofs'])], ignore_index=True)\n",
    "    assert roots == [roots[0]] * len(roots)\n",
    "    root = roots[0]\n",
    "\n",
    "    cosmos_proofs_df = proofs_df[~proofs_df.address.str.startswith('0x')][['address', 'proof']]\n",
    "    ethereum_proofs_df = proofs_df[proofs_df.address.str.startswith('0x')][['address', 'proof']]\n",
    "\n",
    "    claims_with_proofs_df = claims_df\\\n",
    "        .merge(\n",
    "            ethereum_proofs_df.rename(columns={'address': 'ethereum_address', 'proof': 'ethereum_proof'}),\n",
    "            how='inner',\n",
    "            on='ethereum_address')\\\n",
    "        .merge(\n",
    "            cosmos_proofs_df.rename(columns={'address': 'cosmos_address', 'proof': 'cosmos_proof'}),\n",
    "            how='inner',\n",
    "            on='cosmos_address')\n",
    "\n",
    "    claims_with_proofs_df.to_csv(PARTICIPANTS_FILE_NAME)\n",
    "else:\n",
    "    claims_with_proofs_df = pd.read_csv(PARTICIPANTS_FILE_NAME)\n",
    "    claims_with_proofs_df.loc[:, 'ethereum_proof'] = claims_with_proofs_df['ethereum_proof'].map(lambda x: x.replace('\\'', '').replace('[', '').replace(']', '').split(', '))\n",
    "    claims_with_proofs_df.loc[:, 'cosmos_proof'] = claims_with_proofs_df['cosmos_proof'].map(lambda x: x.replace('\\'', '').replace('[', '').replace(']', '').split(', '))\n",
    "    with open('temp/proofs_1.json', 'r') as proof_file:\n",
    "        root_and_proof_json = json.load(proof_file)\n",
    "    root = root_and_proof_json['merkle_root']\n",
    "claims_with_proofs_df.head()"
   ],
   "metadata": {
    "collapsed": false,
    "pycharm": {
     "name": "#%%\n"
    }
   }
  },
  {
   "cell_type": "code",
   "execution_count": 6,
   "outputs": [],
   "source": [
    "for i in range(ceil(NUMBER_OF_ACTIVATED_PARTICIPANTS/10_000)):\n",
    "    claims_with_proofs_df.loc[i*10_000:(i+1)*10_000,:].to_csv(f'temp/{i}_{PARTICIPANTS_FILE_NAME}')"
   ],
   "metadata": {
    "collapsed": false,
    "pycharm": {
     "name": "#%%\n"
    }
   }
  },
  {
   "cell_type": "markdown",
   "source": [
    "## Instantiate Contracts\n",
    "### Instantiate SUBGRAPH Contracts"
   ],
   "metadata": {
    "collapsed": false,
    "pycharm": {
     "name": "#%% md\n"
    }
   }
  },
  {
   "cell_type": "code",
   "execution_count": 7,
   "outputs": [
    {
     "name": "stdout",
     "output_type": "stream",
     "text": [
      "Name subgraph contract address: bostrom1qg5ega6dykkxc307y25pecuufrjkxkaggkkxh7nad0vhyhtuhw3sp98tza\n",
      "Avatar subgraph contract address: bostrom17p9rzwnnfxcjp32un9ug7yhhzgtkhvl9jfksztgw5uh69wac2pgs6qwudf\n",
      "Proof subgraph contract address: bostrom1unyuj8qnmygvzuex3dwmg9yzt9alhvyeat0uu0jedg2wj33efl5qpj0rgp\n"
     ]
    }
   ],
   "source": [
    "if INIT_SUBGRAPH_CONTRACTS:\n",
    "    name_subgraph_contract_address = \\\n",
    "        instantiate_contract(\n",
    "            init_query=f'''{{\"owner\":\"{WALLET_ADDRESS}\", \"executer\":\"{WALLET_ADDRESS}\"}}''',\n",
    "            contract_code_id=SUBGRAPH_CODE_ID,\n",
    "            contract_label='test name subgraph')\n",
    "    avatar_subgraph_contract_address = \\\n",
    "        instantiate_contract(\n",
    "            init_query=f'''{{\"owner\":\"{WALLET_ADDRESS}\", \"executer\":\"{WALLET_ADDRESS}\"}}''',\n",
    "            contract_code_id=SUBGRAPH_CODE_ID,\n",
    "            contract_label='test avatar subgraph',\n",
    "            from_address=WALLET_ADDRESS)\n",
    "    proof_subgraph_contract_address = \\\n",
    "        instantiate_contract(\n",
    "            init_query=f'''{{\"owner\":\"{WALLET_ADDRESS}\", \"executer\":\"{WALLET_ADDRESS}\"}}''',\n",
    "            contract_code_id=SUBGRAPH_CODE_ID,\n",
    "            contract_label='test proof subgraph',\n",
    "            from_address=WALLET_ADDRESS)\n",
    "else:\n",
    "    name_subgraph_contract_address = NAME_SUBGRAPH_CONTRACT_ADDRESS\n",
    "    avatar_subgraph_contract_address = AVATAR_SUBGRAPH_CONTRACT_ADDRESS\n",
    "    proof_subgraph_contract_address = PROOF_SUBGRAPH_CONTRACT_ADDRESS\n",
    "print(f'Name subgraph contract address: {name_subgraph_contract_address}\\n'\n",
    "      f'Avatar subgraph contract address: {avatar_subgraph_contract_address}\\n'\n",
    "      f'Proof subgraph contract address: {proof_subgraph_contract_address}')"
   ],
   "metadata": {
    "collapsed": false,
    "pycharm": {
     "name": "#%%\n"
    }
   }
  },
  {
   "cell_type": "markdown",
   "source": [
    "### Instantiate Passport Contract"
   ],
   "metadata": {
    "collapsed": false,
    "pycharm": {
     "name": "#%% md\n"
    }
   }
  },
  {
   "cell_type": "code",
   "execution_count": 8,
   "outputs": [
    {
     "name": "stdout",
     "output_type": "stream",
     "text": [
      "Passport contract address: bostrom1hulx7cgvpfcvg83wk5h96sedqgn72n026w6nl47uht554xhvj9nsjxcwgf\n"
     ]
    }
   ],
   "source": [
    "if INIT_PASSPORT_CONTRACT:\n",
    "    passport_contract_address = \\\n",
    "        instantiate_contract(\n",
    "            init_query=f'''{{\"name\":\"CPT\", \"minter\":\"{WALLET_ADDRESS}\", \"owner\":\"{WALLET_ADDRESS}\", \"symbol\":\"CPT\", \"avatar_subgraph\": \"{avatar_subgraph_contract_address}\", \"name_subgraph\": \"{name_subgraph_contract_address}\", \"proof_subgraph\": \"{proof_subgraph_contract_address}\"}}''',\n",
    "            contract_code_id=PASSPORT_CODE_ID,\n",
    "            contract_label='test passport',\n",
    "            from_address=WALLET_ADDRESS)\n",
    "else:\n",
    "    passport_contract_address = PASSPORT_CONTRACT_ADDRESS\n",
    "print(f'Passport contract address: {passport_contract_address}')"
   ],
   "metadata": {
    "collapsed": false,
    "pycharm": {
     "name": "#%%\n"
    }
   }
  },
  {
   "cell_type": "markdown",
   "source": [
    "### Set executor in the Subgraph Contracts"
   ],
   "metadata": {
    "collapsed": false,
    "pycharm": {
     "name": "#%% md\n"
    }
   }
  },
  {
   "cell_type": "code",
   "execution_count": 9,
   "outputs": [],
   "source": [
    "def set_executor_subgraph(subgraph_contract_address: str, new_executor_address: str, display_data: bool = False):\n",
    "    return execute_contract_bash(execute_query=f'''{{\"update_executer\":{{\"new_executer\":\"{new_executor_address}\"}}}}''',\n",
    "                                 contract_address=subgraph_contract_address,\n",
    "                                 gas=600000,\n",
    "                                 display_data=display_data)\n",
    "\n",
    "if INIT_PASSPORT_CONTRACT or INIT_SUBGRAPH_CONTRACTS:\n",
    "    set_executor_subgraph(subgraph_contract_address=name_subgraph_contract_address, new_executor_address=passport_contract_address)\n",
    "    set_executor_subgraph(subgraph_contract_address=avatar_subgraph_contract_address, new_executor_address=passport_contract_address)\n",
    "    set_executor_subgraph(subgraph_contract_address=proof_subgraph_contract_address, new_executor_address=passport_contract_address)"
   ],
   "metadata": {
    "collapsed": false,
    "pycharm": {
     "name": "#%%\n"
    }
   }
  },
  {
   "cell_type": "markdown",
   "source": [
    "### Instantiate Treasury Contract"
   ],
   "metadata": {
    "collapsed": false,
    "pycharm": {
     "name": "#%% md\n"
    }
   }
  },
  {
   "cell_type": "code",
   "execution_count": 10,
   "outputs": [
    {
     "name": "stdout",
     "output_type": "stream",
     "text": [
      "Treasury contract address: bostrom199j0396e5rsdjp49v492l75u82xtgsuxl74jswawvefjggpj5ctsua2nl6\n"
     ]
    }
   ],
   "source": [
    "if INIT_TREASURY_CONTRACT:\n",
    "    treasury_contract_address = \\\n",
    "        instantiate_contract(\n",
    "            init_query=f'''{{\"admins\": [\"{WALLET_ADDRESS}\"], \"mutable\": true}}''',\n",
    "            contract_code_id=TREASURY_CODE_ID,\n",
    "            amount=INITIAL_BALANCE,\n",
    "            contract_label='test treasury',\n",
    "            from_address=WALLET_ADDRESS,\n",
    "            display_data=False)\n",
    "else:\n",
    "    treasury_contract_address = TREASURY_CONTRACT_ADDRESS\n",
    "print(f'Treasury contract address: {treasury_contract_address}')"
   ],
   "metadata": {
    "collapsed": false,
    "pycharm": {
     "name": "#%%\n"
    }
   }
  },
  {
   "cell_type": "markdown",
   "source": [
    "### Instantiate Gift Contract"
   ],
   "metadata": {
    "collapsed": false,
    "pycharm": {
     "name": "#%% md\n"
    }
   }
  },
  {
   "cell_type": "code",
   "execution_count": 11,
   "outputs": [
    {
     "name": "stdout",
     "output_type": "stream",
     "text": [
      "Gift contract address: bostrom1pv56ghmgnt9sv0ry6fg3rqf6wgfnckksppltamwsdnd0e0e0kfms92ntpq\n"
     ]
    }
   ],
   "source": [
    "if INIT_GIFT_CONTRACT:\n",
    "    gift_contract_address = \\\n",
    "        instantiate_contract(\n",
    "            init_query=f'''{{\"owner\":\"{WALLET_ADDRESS}\", \"passport\":\"{passport_contract_address}\", \"treasury\":\"{treasury_contract_address}\", \"allowed_native\":\"boot\", \"initial_balance\":\"{INITIAL_BALANCE}\", \"coefficient_up\":\"{COEF_UP}\", \"coefficient_down\":\"{COEF_DOWN}\", \"coefficient\":\"{COEF_UP}\", \"target_claim\":\"{TARGET_CLAIM}\"}}''',\n",
    "            contract_code_id=GIFT_CODE_ID,\n",
    "            contract_label='test gift',\n",
    "            from_address=WALLET_ADDRESS,\n",
    "            display_data=False)\n",
    "else:\n",
    "    gift_contract_address = GIFT_CONTRACT_ADDRESS\n",
    "print(f'Gift contract address: {gift_contract_address}')"
   ],
   "metadata": {
    "collapsed": false,
    "pycharm": {
     "name": "#%%\n"
    }
   }
  },
  {
   "cell_type": "markdown",
   "source": [
    "### Initiate Class of Output Parsing"
   ],
   "metadata": {
    "collapsed": false,
    "pycharm": {
     "name": "#%% md\n"
    }
   }
  },
  {
   "cell_type": "code",
   "execution_count": 12,
   "outputs": [],
   "source": [
    "contract_utils = ContractUtils(ipfs_client=ipfs_client,\n",
    "                               address_dict= {\n",
    "                                   gift_contract_address: 'Gift Contract',\n",
    "                                   passport_contract_address: 'Passport Contract',\n",
    "                                   treasury_contract_address: 'Treasury Contract',\n",
    "                                   WALLET_ADDRESS: 'Passport Owner Address',\n",
    "                                   name_subgraph_contract_address: 'Name Subgraph Contract',\n",
    "                                   avatar_subgraph_contract_address: 'Avatar Subgraph Contract',\n",
    "                                   proof_subgraph_contract_address: 'Proof Subgraph Contract'})"
   ],
   "metadata": {
    "collapsed": false,
    "pycharm": {
     "name": "#%%\n"
    }
   }
  },
  {
   "cell_type": "markdown",
   "source": [
    "### Set Allowance in Treasury contract"
   ],
   "metadata": {
    "collapsed": false,
    "pycharm": {
     "name": "#%% md\n"
    }
   }
  },
  {
   "cell_type": "code",
   "execution_count": 13,
   "outputs": [
    {
     "name": "stdout",
     "output_type": "stream",
     "text": [
      "\n",
      "Events\n",
      "\n",
      "coin received\n",
      "\treceiver: Treasury Contract\n",
      "\tamount: 110000000boot\n",
      "\n",
      "coin spent\n",
      "\tspender: Passport Owner Address\n",
      "\tamount: 110000000boot\n",
      "\n",
      "message from bank bostrom1mxdtr8lruutugqtxgpw2sf2tl2mhzlq5fd2du0 /cosmos.bank.v1beta1.MsgMultiSend\n",
      "\n",
      "transfer\n",
      "\trecipient: Treasury Contract\n",
      "\tamount: 110000000boot\n",
      "Gas used: 73,150\n",
      "Tx hash: 355AD13B48082E233292A4E767EF8C5307ABA054C5D14272FFEF3821888479C0\n"
     ]
    }
   ],
   "source": [
    "contract_utils.parse_contract_execution_json(\n",
    "    contract_utils.send_coins(\n",
    "        from_seed=WALLET_SEED,\n",
    "        to_addresses=[treasury_contract_address],\n",
    "        amounts=[INITIAL_BALANCE],\n",
    "        gas=min(100_000 + 25_000, int(20e6)),\n",
    "        display_data=DISPLAY_TX_EXECUTION))"
   ],
   "metadata": {
    "collapsed": false,
    "pycharm": {
     "name": "#%%\n"
    }
   }
  },
  {
   "cell_type": "code",
   "execution_count": 14,
   "outputs": [
    {
     "name": "stdout",
     "output_type": "stream",
     "text": [
      "\n",
      "Events\n",
      "\n",
      "execute\n",
      "\texecute contract: Treasury Contract\n",
      "\n",
      "message from Passport Owner Address wasm /cosmwasm.wasm.v1.MsgExecuteContract\n",
      "\n",
      "wasm\n",
      "\t_contract_address: Treasury Contract\n",
      "\taction: increase_allowance\n",
      "\towner: Passport Owner Address\n",
      "\tspender: Gift Contract\n",
      "\tdenomination: boot\n",
      "\tamount: 110,000,000\n",
      "Gas used: 135,284\n",
      "Tx hash: 90612CA9717CD059FC09821D723DEF4BEB8C2FE234B99B1A4C75B50185903558\n"
     ]
    }
   ],
   "source": [
    "def set_allowance(amount: str = INITIAL_BALANCE, display_data: bool = False):\n",
    "    return contract_utils.execute_contract(\n",
    "        execute_msg={\"increase_allowance\": {\"spender\": gift_contract_address, \"amount\": {\"amount\": amount, \"denom\": 'boot'}}},\n",
    "        contract_address=treasury_contract_address,\n",
    "        mnemonic=WALLET_SEED,\n",
    "        gas=600000,\n",
    "        display_data=display_data)\n",
    "\n",
    "contract_utils.parse_contract_execution_json(\n",
    "    set_allowance(display_data=False))"
   ],
   "metadata": {
    "collapsed": false,
    "pycharm": {
     "name": "#%%\n"
    }
   }
  },
  {
   "cell_type": "markdown",
   "source": [],
   "metadata": {
    "collapsed": false,
    "pycharm": {
     "name": "#%% md\n"
    }
   }
  },
  {
   "cell_type": "markdown",
   "source": [
    "### Register Merkle Root"
   ],
   "metadata": {
    "collapsed": false,
    "pycharm": {
     "name": "#%% md\n"
    }
   }
  },
  {
   "cell_type": "code",
   "execution_count": 15,
   "outputs": [
    {
     "name": "stdout",
     "output_type": "stream",
     "text": [
      "\n",
      "Events\n",
      "\n",
      "execute\n",
      "\texecute contract: Gift Contract\n",
      "\n",
      "message from Passport Owner Address wasm /cosmwasm.wasm.v1.MsgExecuteContract\n",
      "\n",
      "wasm\n",
      "\t_contract_address: Gift Contract\n",
      "\taction: register_merkle_root\n",
      "\tmerkle_root: 262b663b1158c081791de9d0a24c09dd2129fba74e28c4efe8d03928d64fb437\n",
      "Gas used: 131,251\n",
      "Tx hash: AC0A3CDBDED5ACB837ED3533EB13E6A9F08BFBC9B4B58A35B2164C1C9AAFF08C\n"
     ]
    }
   ],
   "source": [
    "root_register_output = contract_utils.execute_contract(\n",
    "    execute_msg={\"register_merkle_root\": {\"merkle_root\": root}},\n",
    "    mnemonic=WALLET_SEED,\n",
    "    contract_address=gift_contract_address)\n",
    "contract_utils.parse_contract_execution_json(root_register_output)"
   ],
   "metadata": {
    "collapsed": false,
    "pycharm": {
     "name": "#%%\n"
    }
   }
  },
  {
   "cell_type": "markdown",
   "source": [
    "#### Get Merkle Root form the Gift Contract"
   ],
   "metadata": {
    "collapsed": false,
    "pycharm": {
     "name": "#%% md\n"
    }
   },
   "execution_count": 156
  },
  {
   "cell_type": "code",
   "execution_count": 16,
   "outputs": [
    {
     "name": "stdout",
     "output_type": "stream",
     "text": [
      "Gift contract bostrom1pv56ghmgnt9sv0ry6fg3rqf6wgfnckksppltamwsdnd0e0e0kfms92ntpq\n",
      "{'data': {'merkle_root': '262b663b1158c081791de9d0a24c09dd2129fba74e28c4efe8d03928d64fb437'}}\n"
     ]
    }
   ],
   "source": [
    "print(f'Gift contract {gift_contract_address}')\n",
    "print(query_contract(query='''{\"merkle_root\": {}}''',\n",
    "                     contract_address=gift_contract_address))"
   ],
   "metadata": {
    "collapsed": false,
    "pycharm": {
     "name": "#%%\n"
    }
   }
  },
  {
   "cell_type": "markdown",
   "source": [],
   "metadata": {
    "collapsed": false,
    "pycharm": {
     "name": "#%% md\n"
    }
   }
  },
  {
   "cell_type": "markdown",
   "source": [
    "### Send coins to new addresses"
   ],
   "metadata": {
    "collapsed": false,
    "pycharm": {
     "name": "#%% md\n"
    }
   }
  },
  {
   "cell_type": "code",
   "execution_count": 17,
   "outputs": [
    {
     "data": {
      "text/plain": "0it [00:00, ?it/s]",
      "application/vnd.jupyter.widget-view+json": {
       "version_major": 2,
       "version_minor": 0,
       "model_id": "f5339d8483a04beb9210f40243a8dbc6"
      }
     },
     "metadata": {},
     "output_type": "display_data"
    }
   ],
   "source": [
    "NUMBER_ADDRESSES_IN_SENDING_CHUNK = 900\n",
    "\n",
    "bostrom_addresses = claims_with_proofs_df.bostrom_address.to_list()\n",
    "bostrom_addresses_chunks = [bostrom_addresses[i: i+ NUMBER_ADDRESSES_IN_SENDING_CHUNK] for i in range(0, len(bostrom_addresses), NUMBER_ADDRESSES_IN_SENDING_CHUNK)]\n",
    "\n",
    "send_output = []\n",
    "for i, bostrom_addresses_item in tqdm(enumerate(bostrom_addresses_chunks)):\n",
    "    try:\n",
    "        send_output.append(\n",
    "            contract_utils.send_coins(\n",
    "                from_seed=WALLET_SEED,\n",
    "                to_addresses=bostrom_addresses_item,\n",
    "                amounts=[1] * len(bostrom_addresses_item),\n",
    "                gas=min(150_000 + 30_000 * len(bostrom_addresses_item), int(24e6)),\n",
    "                display_data=DISPLAY_TX_EXECUTION))\n",
    "    except Exception as e:\n",
    "        print(f'Error in the {i} chunk: {e}')\n",
    "        sleep(15)"
   ],
   "metadata": {
    "collapsed": false,
    "pycharm": {
     "name": "#%%\n"
    }
   }
  },
  {
   "cell_type": "code",
   "execution_count": 18,
   "outputs": [
    {
     "name": "stdout",
     "output_type": "stream",
     "text": [
      "\n",
      "Events\n",
      "\n",
      "coin received\n",
      "\treceiver: bostrom1xmdpqy8mlwnud5whzgsva38tws29qwhluftw4x\n",
      "\tamount: 1boot\n",
      "\treceiver: bostrom1shgxepz7m5dycfmd0gd8vxxvp8uelx6pxfxf0v\n",
      "\tamount: 1boot\n",
      "\treceiver: bostrom19ssajxkwu8kvff9um8nmhr4kfnptpp8vevrzw4\n",
      "\tamount: 1boot\n",
      "\treceiver: bostrom1eqdfdkllfpcnlcwrpppuq8v0z3j20aqereh3v4\n",
      "\tamount: 1boot\n",
      "\treceiver: bostrom1f7s9vzv79ewa6htzd0gzhrdxf9p45luxvjtjhv\n",
      "\tamount: 1boot\n",
      "\treceiver: bostrom1lefp47zz6r4tzmy7f6sr4ns85jtj7k6gyq82p4\n",
      "\tamount: 1boot\n",
      "\treceiver: bostrom14x74gw7ukhyntwgp46dzz5gjv022hra4pthm74\n",
      "\tamount: 1boot\n",
      "\treceiver: bostrom1fmszqsz52cg4ez05du8lxmrllhzmgfehdn4v5f\n",
      "\tamount: 1boot\n",
      "\treceiver: bostrom1mplmd4h768z98ftzztwdrldswvws3xg6jzv524\n",
      "\tamount: 1boot\n",
      "\treceiver: bostrom16xhjx3v840m8p466pzq6n7zja67c4vggrvvk5g\n",
      "\tamount: 1boot\n",
      "\treceiver: bostrom1lvnud0sdnavg5mp9p2rvnndqvmlae4n37tmz7u\n",
      "\tamount: 1boot\n",
      "\treceiver: bostrom1xp30e4lrl3775wa7e3zqyls33q3xc3vtnt3kjr\n",
      "\tamount: 1boot\n",
      "\treceiver: bostrom1jd6jjaxhxapw0gsva6s5pnelyw6u330t3fzkrp\n",
      "\tamount: 1boot\n",
      "\treceiver: bostrom1ez2xefskr2yszx38jr5jdqfyjpy8avutresxw3\n",
      "\tamount: 1boot\n",
      "\treceiver: bostrom1u4mh92dn4e0gzp5x8s9fh9p40vrg26k26tx2rd\n",
      "\tamount: 1boot\n",
      "\treceiver: bostrom1h2c4xqkcpcdmz747ryf40ex6tg8f0afrepv4vv\n",
      "\tamount: 1boot\n",
      "\treceiver: bostrom1h26f0uyukrghtzxpmanzg7ccay79v2sc4s395s\n",
      "\tamount: 1boot\n",
      "\treceiver: bostrom137m08t8mx9j3zm72eqe2syh7v7409w7wls5cps\n",
      "\tamount: 1boot\n",
      "\treceiver: bostrom1jua7m5xwqa3yvmva66dgavhvk0d4lfzy0rwu2j\n",
      "\tamount: 1boot\n",
      "\treceiver: bostrom1t0sf2yg5rqehtwj80uypmfs7t29x8n58fctz2z\n",
      "\tamount: 1boot\n",
      "\n",
      "coin spent\n",
      "\tspender: Passport Owner Address\n",
      "\tamount: 1boot\n",
      "\tspender: Passport Owner Address\n",
      "\tamount: 1boot\n",
      "\tspender: Passport Owner Address\n",
      "\tamount: 1boot\n",
      "\tspender: Passport Owner Address\n",
      "\tamount: 1boot\n",
      "\tspender: Passport Owner Address\n",
      "\tamount: 1boot\n",
      "\tspender: Passport Owner Address\n",
      "\tamount: 1boot\n",
      "\tspender: Passport Owner Address\n",
      "\tamount: 1boot\n",
      "\tspender: Passport Owner Address\n",
      "\tamount: 1boot\n",
      "\tspender: Passport Owner Address\n",
      "\tamount: 1boot\n",
      "\tspender: Passport Owner Address\n",
      "\tamount: 1boot\n",
      "\tspender: Passport Owner Address\n",
      "\tamount: 1boot\n",
      "\tspender: Passport Owner Address\n",
      "\tamount: 1boot\n",
      "\tspender: Passport Owner Address\n",
      "\tamount: 1boot\n",
      "\tspender: Passport Owner Address\n",
      "\tamount: 1boot\n",
      "\tspender: Passport Owner Address\n",
      "\tamount: 1boot\n",
      "\tspender: Passport Owner Address\n",
      "\tamount: 1boot\n",
      "\tspender: Passport Owner Address\n",
      "\tamount: 1boot\n",
      "\tspender: Passport Owner Address\n",
      "\tamount: 1boot\n",
      "\tspender: Passport Owner Address\n",
      "\tamount: 1boot\n",
      "\tspender: Passport Owner Address\n",
      "\tamount: 1boot\n",
      "\n",
      "{'attributes': [{'key': 'action', 'value': '/cosmos.bank.v1beta1.MsgMultiSend'}, {'key': 'sender', 'value': 'bostrom1mxdtr8lruutugqtxgpw2sf2tl2mhzlq5fd2du0'}, {'key': 'sender', 'value': 'bostrom1mxdtr8lruutugqtxgpw2sf2tl2mhzlq5fd2du0'}, {'key': 'sender', 'value': 'bostrom1mxdtr8lruutugqtxgpw2sf2tl2mhzlq5fd2du0'}, {'key': 'sender', 'value': 'bostrom1mxdtr8lruutugqtxgpw2sf2tl2mhzlq5fd2du0'}, {'key': 'sender', 'value': 'bostrom1mxdtr8lruutugqtxgpw2sf2tl2mhzlq5fd2du0'}, {'key': 'sender', 'value': 'bostrom1mxdtr8lruutugqtxgpw2sf2tl2mhzlq5fd2du0'}, {'key': 'sender', 'value': 'bostrom1mxdtr8lruutugqtxgpw2sf2tl2mhzlq5fd2du0'}, {'key': 'sender', 'value': 'bostrom1mxdtr8lruutugqtxgpw2sf2tl2mhzlq5fd2du0'}, {'key': 'sender', 'value': 'bostrom1mxdtr8lruutugqtxgpw2sf2tl2mhzlq5fd2du0'}, {'key': 'sender', 'value': 'bostrom1mxdtr8lruutugqtxgpw2sf2tl2mhzlq5fd2du0'}, {'key': 'sender', 'value': 'bostrom1mxdtr8lruutugqtxgpw2sf2tl2mhzlq5fd2du0'}, {'key': 'sender', 'value': 'bostrom1mxdtr8lruutugqtxgpw2sf2tl2mhzlq5fd2du0'}, {'key': 'sender', 'value': 'bostrom1mxdtr8lruutugqtxgpw2sf2tl2mhzlq5fd2du0'}, {'key': 'sender', 'value': 'bostrom1mxdtr8lruutugqtxgpw2sf2tl2mhzlq5fd2du0'}, {'key': 'sender', 'value': 'bostrom1mxdtr8lruutugqtxgpw2sf2tl2mhzlq5fd2du0'}, {'key': 'sender', 'value': 'bostrom1mxdtr8lruutugqtxgpw2sf2tl2mhzlq5fd2du0'}, {'key': 'sender', 'value': 'bostrom1mxdtr8lruutugqtxgpw2sf2tl2mhzlq5fd2du0'}, {'key': 'sender', 'value': 'bostrom1mxdtr8lruutugqtxgpw2sf2tl2mhzlq5fd2du0'}, {'key': 'sender', 'value': 'bostrom1mxdtr8lruutugqtxgpw2sf2tl2mhzlq5fd2du0'}, {'key': 'sender', 'value': 'bostrom1mxdtr8lruutugqtxgpw2sf2tl2mhzlq5fd2du0'}, {'key': 'module', 'value': 'bank'}], 'type': 'message'}\n",
      "\n",
      "transfer\n",
      "\trecipient: bostrom1xmdpqy8mlwnud5whzgsva38tws29qwhluftw4x\n",
      "\tamount: 1boot\n",
      "\trecipient: bostrom1shgxepz7m5dycfmd0gd8vxxvp8uelx6pxfxf0v\n",
      "\tamount: 1boot\n",
      "\trecipient: bostrom19ssajxkwu8kvff9um8nmhr4kfnptpp8vevrzw4\n",
      "\tamount: 1boot\n",
      "\trecipient: bostrom1eqdfdkllfpcnlcwrpppuq8v0z3j20aqereh3v4\n",
      "\tamount: 1boot\n",
      "\trecipient: bostrom1f7s9vzv79ewa6htzd0gzhrdxf9p45luxvjtjhv\n",
      "\tamount: 1boot\n",
      "\trecipient: bostrom1lefp47zz6r4tzmy7f6sr4ns85jtj7k6gyq82p4\n",
      "\tamount: 1boot\n",
      "\trecipient: bostrom14x74gw7ukhyntwgp46dzz5gjv022hra4pthm74\n",
      "\tamount: 1boot\n",
      "\trecipient: bostrom1fmszqsz52cg4ez05du8lxmrllhzmgfehdn4v5f\n",
      "\tamount: 1boot\n",
      "\trecipient: bostrom1mplmd4h768z98ftzztwdrldswvws3xg6jzv524\n",
      "\tamount: 1boot\n",
      "\trecipient: bostrom16xhjx3v840m8p466pzq6n7zja67c4vggrvvk5g\n",
      "\tamount: 1boot\n",
      "\trecipient: bostrom1lvnud0sdnavg5mp9p2rvnndqvmlae4n37tmz7u\n",
      "\tamount: 1boot\n",
      "\trecipient: bostrom1xp30e4lrl3775wa7e3zqyls33q3xc3vtnt3kjr\n",
      "\tamount: 1boot\n",
      "\trecipient: bostrom1jd6jjaxhxapw0gsva6s5pnelyw6u330t3fzkrp\n",
      "\tamount: 1boot\n",
      "\trecipient: bostrom1ez2xefskr2yszx38jr5jdqfyjpy8avutresxw3\n",
      "\tamount: 1boot\n",
      "\trecipient: bostrom1u4mh92dn4e0gzp5x8s9fh9p40vrg26k26tx2rd\n",
      "\tamount: 1boot\n",
      "\trecipient: bostrom1h2c4xqkcpcdmz747ryf40ex6tg8f0afrepv4vv\n",
      "\tamount: 1boot\n",
      "\trecipient: bostrom1h26f0uyukrghtzxpmanzg7ccay79v2sc4s395s\n",
      "\tamount: 1boot\n",
      "\trecipient: bostrom137m08t8mx9j3zm72eqe2syh7v7409w7wls5cps\n",
      "\tamount: 1boot\n",
      "\trecipient: bostrom1jua7m5xwqa3yvmva66dgavhvk0d4lfzy0rwu2j\n",
      "\tamount: 1boot\n",
      "\trecipient: bostrom1t0sf2yg5rqehtwj80uypmfs7t29x8n58fctz2z\n",
      "\tamount: 1boot\n",
      "Gas used: 564,949\n",
      "Tx hash: 41A8F4B834F5A98553600C497BBFB46C3DBC6FAD95A29BA7A7DA80BB62F46E2A\n"
     ]
    }
   ],
   "source": [
    "contract_utils.parse_contract_execution_json(contract_execution_json=send_output[0])"
   ],
   "metadata": {
    "collapsed": false,
    "pycharm": {
     "name": "#%%\n"
    }
   }
  },
  {
   "cell_type": "markdown",
   "source": [
    "### Create Passports, Proof Addresses and Claim Gift"
   ],
   "metadata": {
    "collapsed": false,
    "pycharm": {
     "name": "#%% md\n"
    }
   }
  },
  {
   "cell_type": "code",
   "execution_count": 19,
   "outputs": [
    {
     "name": "stdout",
     "output_type": "stream",
     "text": [
      "Number of tasks: 20\n",
      "Number of threads: 100\n"
     ]
    },
    {
     "data": {
      "text/plain": "  0%|          | 0/20 [00:00<?, ?it/s]",
      "application/vnd.jupyter.widget-view+json": {
       "version_major": 2,
       "version_minor": 0,
       "model_id": "b995fc3a458d49599c0434b8dd1911b5"
      }
     },
     "metadata": {},
     "output_type": "display_data"
    }
   ],
   "source": [
    "def execute_participation(row_index: int) -> bool:\n",
    "    _output, _error = execute_bash(bash_command=f'{PYTHON_PATH} create_passport_and_claim_job.py temp/{row_index//10_000}_{PARTICIPANTS_FILE_NAME} {row_index} {gift_contract_address}')\n",
    "    if _output:\n",
    "        return _output\n",
    "    else:\n",
    "        return _error\n",
    "\n",
    "NUMBER_OF_THREADS = 100\n",
    "\n",
    "tasks = list(range(NUMBER_OF_ACTIVATED_PARTICIPANTS))\n",
    "print(f'Number of tasks: {len(tasks):>,}')\n",
    "print(f'Number of threads: {NUMBER_OF_THREADS:>,}')\n",
    "\n",
    "\n",
    "with Pool(processes=NUMBER_OF_THREADS) as pool:\n",
    "    res_participation = list(tqdm(pool.imap(execute_participation, tasks), total=len(tasks)))"
   ],
   "metadata": {
    "collapsed": false,
    "pycharm": {
     "name": "#%%\n"
    }
   }
  },
  {
   "cell_type": "code",
   "execution_count": 20,
   "outputs": [],
   "source": [
    "with open('temp/contract_participation_execution_log_10000.txt', 'r') as f:\n",
    "    data = json.load(f)"
   ],
   "metadata": {
    "collapsed": false,
    "pycharm": {
     "name": "#%%\n"
    }
   }
  },
  {
   "cell_type": "code",
   "execution_count": 21,
   "outputs": [
    {
     "name": "stdout",
     "output_type": "stream",
     "text": [
      "\n",
      "Events\n",
      "\n",
      "execute\n",
      "\texecute contract: Passport Contract\n",
      "\texecute contract: Name Subgraph Contract\n",
      "\texecute contract: Avatar Subgraph Contract\n",
      "\n",
      "message from bostrom18x96qyxfj9kxnqerj5ye4430gl4mdm00jecv9n wasm /cosmwasm.wasm.v1.MsgExecuteContract\n",
      "\n",
      "reply\n",
      "\treply contract: Name Subgraph Contract\n",
      "\treply contract: Avatar Subgraph Contract\n",
      "\n",
      "wasm\n",
      "\t_contract_address: Passport Contract\n",
      "\taction: mint\n",
      "\tminter: Passport Contract\n",
      "\towner: bostrom18x96qyxfj9kxnqerj5ye4430gl4mdm00jecv9n\n",
      "\ttoken_id: 518458\n",
      "Gas used: 342,373\n",
      "Tx hash: 5828264EA6AB3B89BFDDB4BDD9F93B97D3AB52DF0C7715712C73044D3864B339\n"
     ]
    }
   ],
   "source": [
    "contract_utils.parse_contract_execution_json(data['create'], row=claims_with_proofs_df.loc[1,:])"
   ],
   "metadata": {
    "collapsed": false,
    "pycharm": {
     "name": "#%%\n"
    }
   }
  },
  {
   "cell_type": "code",
   "execution_count": 22,
   "outputs": [
    {
     "name": "stdout",
     "output_type": "stream",
     "text": [
      "\n",
      "Events\n",
      "\n",
      "execute\n",
      "\texecute contract: Passport Contract\n",
      "\texecute contract: Proof Subgraph Contract\n",
      "\n",
      "message from bostrom18x96qyxfj9kxnqerj5ye4430gl4mdm00jecv9n wasm /cosmwasm.wasm.v1.MsgExecuteContract\n",
      "\n",
      "reply\n",
      "\treply contract: Proof Subgraph Contract\n",
      "\n",
      "wasm\n",
      "\t_contract_address: Passport Contract\n",
      "\taction: proof_address\n",
      "\tnickname: john16524182639991\n",
      "\taddress: 0x18fb581ee5d55bdbb4628490fcc323a8683e0182\n",
      "Gas used: 237,523\n",
      "Tx hash: 2487472AC6E27B38D36E7488464426BD4E606C06CF6393D2E3EE072A8C441043\n"
     ]
    }
   ],
   "source": [
    "contract_utils.parse_contract_execution_json(data['proof_ethereum'], row=claims_with_proofs_df.loc[1,:])"
   ],
   "metadata": {
    "collapsed": false,
    "pycharm": {
     "name": "#%%\n"
    }
   }
  },
  {
   "cell_type": "code",
   "execution_count": 23,
   "outputs": [
    {
     "name": "stdout",
     "output_type": "stream",
     "text": [
      "\n",
      "Events\n",
      "\n",
      "execute\n",
      "\texecute contract: Passport Contract\n",
      "\texecute contract: Proof Subgraph Contract\n",
      "\n",
      "message from bostrom18x96qyxfj9kxnqerj5ye4430gl4mdm00jecv9n wasm /cosmwasm.wasm.v1.MsgExecuteContract\n",
      "\n",
      "reply\n",
      "\treply contract: Proof Subgraph Contract\n",
      "\n",
      "wasm\n",
      "\t_contract_address: Passport Contract\n",
      "\taction: proof_address\n",
      "\tnickname: john16524182639991\n",
      "\taddress: cosmos18x96qyxfj9kxnqerj5ye4430gl4mdm0032vlm5\n",
      "Gas used: 240,955\n",
      "Tx hash: 17522237555D106CABA1FB0E454803AB674B8C7A408CC6BC36907254841DE6ED\n"
     ]
    }
   ],
   "source": [
    "contract_utils.parse_contract_execution_json(data['proof_cosmos'], row=claims_with_proofs_df.loc[1,:])"
   ],
   "metadata": {
    "collapsed": false,
    "pycharm": {
     "name": "#%%\n"
    }
   }
  },
  {
   "cell_type": "code",
   "execution_count": 24,
   "outputs": [
    {
     "name": "stdout",
     "output_type": "stream",
     "text": [
      "\n",
      "Events\n",
      "\n",
      "coin received\n",
      "\treceiver: bostrom18x96qyxfj9kxnqerj5ye4430gl4mdm00jecv9n\n",
      "\tamount: 100000boot\n",
      "\n",
      "coin spent\n",
      "\tspender: bostrom1nfktgkcdysf38rx6wcycfwz5yhuw6cq9el970p845sj9nm5c99sq6qs023\n",
      "\tamount: 100000boot\n",
      "\n",
      "execute\n",
      "\texecute contract: bostrom1zvjnc08uy0zz43m0nlh9f5aetpa3amn6a034yqvmsgvzshk9cldsqf2n5c\n",
      "\texecute contract: bostrom1nfktgkcdysf38rx6wcycfwz5yhuw6cq9el970p845sj9nm5c99sq6qs023\n",
      "\n",
      "message from bostrom18x96qyxfj9kxnqerj5ye4430gl4mdm00jecv9n wasm /cosmwasm.wasm.v1.MsgExecuteContract\n",
      "\n",
      "transfer\n",
      "\trecipient: bostrom18x96qyxfj9kxnqerj5ye4430gl4mdm00jecv9n\n",
      "\tsender: bostrom1nfktgkcdysf38rx6wcycfwz5yhuw6cq9el970p845sj9nm5c99sq6qs023\n",
      "\tamount: 100000boot\n",
      "\n",
      "wasm\n",
      "\t_contract_address: bostrom1zvjnc08uy0zz43m0nlh9f5aetpa3amn6a034yqvmsgvzshk9cldsqf2n5c\n",
      "\taction: claim\n",
      "\toriginal: cosmos18x96qyxfj9kxnqerj5ye4430gl4mdm0032vlm5\n",
      "\ttarget: bostrom18x96qyxfj9kxnqerj5ye4430gl4mdm00jecv9n\n",
      "\tamount: 264,200\n",
      "\t_contract_address: bostrom1nfktgkcdysf38rx6wcycfwz5yhuw6cq9el970p845sj9nm5c99sq6qs023\n",
      "\taction: execute\n",
      "\towner: bostrom1zvjnc08uy0zz43m0nlh9f5aetpa3amn6a034yqvmsgvzshk9cldsqf2n5c\n",
      "Gas used: 397,959\n",
      "Tx hash: 959556655E6A91D3F40FB4E25EC3CB0E642F39D31460AB686E5DBA075CF2F255\n"
     ]
    }
   ],
   "source": [
    "contract_utils.parse_contract_execution_json(data['claim_cosmos'], row=claims_with_proofs_df.loc[1,:])"
   ],
   "metadata": {
    "collapsed": false,
    "pycharm": {
     "name": "#%%\n"
    }
   }
  },
  {
   "cell_type": "markdown",
   "source": [
    "### Release Gift"
   ],
   "metadata": {
    "collapsed": false,
    "pycharm": {
     "name": "#%% md\n"
    }
   }
  },
  {
   "cell_type": "code",
   "execution_count": 25,
   "outputs": [
    {
     "name": "stdout",
     "output_type": "stream",
     "text": [
      "Number of tasks: 20\n",
      "Number of threads: 100\n"
     ]
    },
    {
     "data": {
      "text/plain": "  0%|          | 0/20 [00:00<?, ?it/s]",
      "application/vnd.jupyter.widget-view+json": {
       "version_major": 2,
       "version_minor": 0,
       "model_id": "bf6fc2d3d6e84502959307c0744a5696"
      }
     },
     "metadata": {},
     "output_type": "display_data"
    }
   ],
   "source": [
    "def execute_release(row_index: int) -> bool:\n",
    "    _output, _error = execute_bash(bash_command=f'{PYTHON_PATH} create_passport_and_claim_job.py temp/{row_index//10_000}_{PARTICIPANTS_FILE_NAME} {row_index} {gift_contract_address} True')\n",
    "    if _output:\n",
    "        return _output\n",
    "    else:\n",
    "        return _error\n",
    "\n",
    "\n",
    "NUMBER_OF_THREADS = 100\n",
    "\n",
    "tasks = list(range(NUMBER_OF_ACTIVATED_PARTICIPANTS))\n",
    "print(f'Number of tasks: {len(tasks):>,}')\n",
    "print(f'Number of threads: {NUMBER_OF_THREADS:>,}')\n",
    "\n",
    "\n",
    "with Pool(processes=NUMBER_OF_THREADS) as pool:\n",
    "    res_release = list(tqdm(pool.imap(execute_release, tasks), total=len(tasks)))"
   ],
   "metadata": {
    "collapsed": false,
    "pycharm": {
     "name": "#%%\n"
    }
   }
  },
  {
   "cell_type": "code",
   "execution_count": 26,
   "outputs": [],
   "source": [
    "with open('temp/contract_release_execution_log_1.txt', 'r') as f:\n",
    "    release_data = json.load(f)"
   ],
   "metadata": {
    "collapsed": false,
    "pycharm": {
     "name": "#%%\n"
    }
   }
  },
  {
   "cell_type": "code",
   "execution_count": 27,
   "outputs": [
    {
     "name": "stdout",
     "output_type": "stream",
     "text": [
      "\n",
      "Events\n",
      "\n",
      "coin received\n",
      "\treceiver: bostrom1shgxepz7m5dycfmd0gd8vxxvp8uelx6pxfxf0v\n",
      "\tamount: 18336boot\n",
      "\n",
      "coin spent\n",
      "\tspender: Treasury Contract\n",
      "\tamount: 18336boot\n",
      "\n",
      "execute\n",
      "\texecute contract: Gift Contract\n",
      "\texecute contract: Treasury Contract\n",
      "\n",
      "message from bostrom1shgxepz7m5dycfmd0gd8vxxvp8uelx6pxfxf0v wasm /cosmwasm.wasm.v1.MsgExecuteContract\n",
      "\n",
      "transfer\n",
      "\trecipient: bostrom1shgxepz7m5dycfmd0gd8vxxvp8uelx6pxfxf0v\n",
      "\tsender: Treasury Contract\n",
      "\tamount: 18336boot\n",
      "\n",
      "wasm\n",
      "\t_contract_address: Gift Contract\n",
      "\taction: release\n",
      "\taddress: bostrom1shgxepz7m5dycfmd0gd8vxxvp8uelx6pxfxf0v\n",
      "\tgift_address: 0x38c94ad36f6d99affde350f6d458dd851be95c88\n",
      "\tstage: 9\n",
      "\tamount: 18,336\n",
      "\t_contract_address: Treasury Contract\n",
      "\taction: execute\n",
      "\towner: Gift Contract\n",
      "Gas used: 230,301\n",
      "Tx hash: 6493B9D0BBF3FF00D69730BFD1144C990EBCCF9341970125DD8C15D4E98831A0\n"
     ]
    }
   ],
   "source": [
    "contract_utils.parse_contract_execution_json(release_data['release_ethereum'], row=claims_with_proofs_df.loc[1,:])"
   ],
   "metadata": {
    "collapsed": false,
    "pycharm": {
     "name": "#%%\n"
    }
   }
  },
  {
   "cell_type": "code",
   "execution_count": 28,
   "outputs": [
    {
     "name": "stdout",
     "output_type": "stream",
     "text": [
      "\n",
      "Events\n",
      "\n",
      "coin received\n",
      "\treceiver: bostrom1shgxepz7m5dycfmd0gd8vxxvp8uelx6pxfxf0v\n",
      "\tamount: 17587boot\n",
      "\n",
      "coin spent\n",
      "\tspender: Treasury Contract\n",
      "\tamount: 17587boot\n",
      "\n",
      "execute\n",
      "\texecute contract: Gift Contract\n",
      "\texecute contract: Treasury Contract\n",
      "\n",
      "message from bostrom1shgxepz7m5dycfmd0gd8vxxvp8uelx6pxfxf0v wasm /cosmwasm.wasm.v1.MsgExecuteContract\n",
      "\n",
      "transfer\n",
      "\trecipient: bostrom1shgxepz7m5dycfmd0gd8vxxvp8uelx6pxfxf0v\n",
      "\tsender: Treasury Contract\n",
      "\tamount: 17587boot\n",
      "\n",
      "wasm\n",
      "\t_contract_address: Gift Contract\n",
      "\taction: release\n",
      "\taddress: bostrom1shgxepz7m5dycfmd0gd8vxxvp8uelx6pxfxf0v\n",
      "\tgift_address: cosmos1shgxepz7m5dycfmd0gd8vxxvp8uelx6p96j63t\n",
      "\tstage: 9\n",
      "\tamount: 17,587\n",
      "\t_contract_address: Treasury Contract\n",
      "\taction: execute\n",
      "\towner: Gift Contract\n",
      "Gas used: 230,516\n",
      "Tx hash: B502CF29760065754C45C0F70B3B076667432BF17B0A95FFECC115567F0AB074\n"
     ]
    }
   ],
   "source": [
    "contract_utils.parse_contract_execution_json(release_data['release_cosmos'], row=claims_with_proofs_df.loc[1,:])"
   ],
   "metadata": {
    "collapsed": false,
    "pycharm": {
     "name": "#%%\n"
    }
   }
  },
  {
   "cell_type": "markdown",
   "source": [
    "## Passport NFT testing"
   ],
   "metadata": {
    "collapsed": false,
    "pycharm": {
     "name": "#%% md\n"
    }
   }
  },
  {
   "cell_type": "code",
   "execution_count": 29,
   "outputs": [],
   "source": [
    "def get_passport_id(bostrom_address: str) -> str:\n",
    "    return query_contract(query=f'''{{\"tokens\": {{\"owner\": \"{bostrom_address}\"}}}}''',\n",
    "                          contract_address=passport_contract_address)['data']['tokens'][0]"
   ],
   "metadata": {
    "collapsed": false,
    "pycharm": {
     "name": "#%%\n"
    }
   }
  },
  {
   "cell_type": "code",
   "execution_count": 30,
   "outputs": [
    {
     "data": {
      "text/plain": "0it [00:00, ?it/s]",
      "application/vnd.jupyter.widget-view+json": {
       "version_major": 2,
       "version_minor": 0,
       "model_id": "323fc54f956345679af00e72955644d2"
      }
     },
     "metadata": {},
     "output_type": "display_data"
    },
    {
     "name": "stdout",
     "output_type": "stream",
     "text": [
      "\n",
      "TRANSFER\n",
      "\n",
      "Events\n",
      "\n",
      "cyberlinks\n",
      "\tQmPcFZbajorUYkkdeowYUD1zJRAWA13N4Koy4rLeZ4cDji -> Nickname\n",
      "\tNickname -> QmPcFZbajorUYkkdeowYUD1zJRAWA13N4Koy4rLeZ4cDji\n",
      "\tneuron: Name Subgraph Contract\n",
      "\n",
      "\tNickname -> Avatar\n",
      "\tAvatar -> Nickname\n",
      "\tneuron: Avatar Subgraph Contract\n",
      "\n",
      "\n",
      "execute\n",
      "\texecute contract: Passport Contract\n",
      "\texecute contract: Name Subgraph Contract\n",
      "\texecute contract: Avatar Subgraph Contract\n",
      "\n",
      "message from bostrom1shgxepz7m5dycfmd0gd8vxxvp8uelx6pxfxf0v wasm /cosmwasm.wasm.v1.MsgExecuteContract\n",
      "\n",
      "wasm\n",
      "\t_contract_address: Passport Contract\n",
      "\taction: transfer_nft\n",
      "\tsender: bostrom1shgxepz7m5dycfmd0gd8vxxvp8uelx6pxfxf0v\n",
      "\trecipient: Passport Owner Address\n",
      "\ttoken_id: 542447\n",
      "Gas used: 433,764\n",
      "Tx hash: 74C08EC0EB7D6898DEB4B27F95528CBBC363AC5D114977C7E5399A1FADD7000C\n",
      "\n",
      "BURN\n",
      "\n",
      "Events\n",
      "\n",
      "cyberlinks\n",
      "\tcyberhole -> Avatar\n",
      "\tAvatar -> cyberhole\n",
      "\tneuron: Avatar Subgraph Contract\n",
      "\n",
      "\n",
      "execute\n",
      "\texecute contract: Passport Contract\n",
      "\texecute contract: Name Subgraph Contract\n",
      "\texecute contract: Avatar Subgraph Contract\n",
      "\n",
      "message from bostrom19ssajxkwu8kvff9um8nmhr4kfnptpp8vevrzw4 wasm /cosmwasm.wasm.v1.MsgExecuteContract\n",
      "\n",
      "reply\n",
      "\treply contract: Name Subgraph Contract\n",
      "\n",
      "wasm\n",
      "\t_contract_address: Passport Contract\n",
      "\taction: burn\n",
      "\tsender: bostrom19ssajxkwu8kvff9um8nmhr4kfnptpp8vevrzw4\n",
      "\ttoken_id: 542444\n",
      "Gas used: 357,526\n",
      "Tx hash: 2A389F7EFD4296EE9F0386117C63F51C5A39E65E2F8532752AE1A3AEA93FCD1A\n",
      "\n",
      "UPDATE NAME\n",
      "\n",
      "Events\n",
      "\n",
      "execute\n",
      "\texecute contract: Passport Contract\n",
      "\texecute contract: Name Subgraph Contract\n",
      "\n",
      "message from bostrom1eqdfdkllfpcnlcwrpppuq8v0z3j20aqereh3v4 wasm /cosmwasm.wasm.v1.MsgExecuteContract\n",
      "\n",
      "reply\n",
      "\treply contract: Name Subgraph Contract\n",
      "\n",
      "wasm\n",
      "\t_contract_address: Passport Contract\n",
      "\taction: update_nickname\n",
      "\told_name: john16524446573\n",
      "\tnew_name: john16524446573_new\n",
      "Gas used: 241,412\n",
      "Tx hash: 70129048ACC2A62E8225B4198545A3864BAD9D4E135CA713EFDCFB91FB2CB948\n"
     ]
    }
   ],
   "source": [
    "for index, row in tqdm(claims_with_proofs_df[:4].iterrows()):\n",
    "    if index == 1:\n",
    "        transfer_passport_json = contract_utils.transfer_passport(\n",
    "            row,\n",
    "            token_id=get_passport_id(row['bostrom_address']),\n",
    "            to_address=WALLET_ADDRESS,\n",
    "            display_data=DISPLAY_TX_EXECUTION)\n",
    "        print('\\nTRANSFER')\n",
    "        contract_utils.parse_contract_execution_json(transfer_passport_json, row=row)\n",
    "    elif index == 2:\n",
    "        burn_passport_json = contract_utils.burn_passport(\n",
    "            row,\n",
    "            token_id=get_passport_id(row['bostrom_address']),\n",
    "            display_data=DISPLAY_TX_EXECUTION)\n",
    "        print('\\nBURN')\n",
    "        contract_utils.parse_contract_execution_json(burn_passport_json, row=row)\n",
    "    elif index == 3:\n",
    "        update_name_json = contract_utils.update_name(\n",
    "            row,\n",
    "            new_nickname=row['nickname'] + '_new',\n",
    "            display_data=DISPLAY_TX_EXECUTION)\n",
    "        print('\\nUPDATE NAME')\n",
    "        contract_utils.parse_contract_execution_json(update_name_json, row=row)\n",
    "    elif index == 4:\n",
    "        update_avatar_json = contract_utils.update_avatar(\n",
    "            row,\n",
    "            new_avatar=get_ipfs_cid_from_str(row['nickname'] + '_new_avatar'),\n",
    "            token_id=get_passport_id(row['bostrom_address']),\n",
    "            display_data=DISPLAY_TX_EXECUTION)\n",
    "        print('\\nUPDATE AVATAR')\n",
    "        contract_utils.parse_contract_execution_json(update_avatar_json, row=row)\n",
    "    elif index == 5:\n",
    "        delete_address_json = contract_utils.delete_address(\n",
    "            row,\n",
    "            removed_address=row['cosmos_address'],\n",
    "            token_id=get_passport_id(row['bostrom_address']),\n",
    "            display_data=DISPLAY_TX_EXECUTION)\n",
    "        print('\\nDELETE ADDRESS')\n",
    "        contract_utils.parse_contract_execution_json(delete_address_json, row=row)"
   ],
   "metadata": {
    "collapsed": false,
    "pycharm": {
     "name": "#%%\n"
    }
   }
  },
  {
   "cell_type": "markdown",
   "source": [],
   "metadata": {
    "collapsed": false,
    "pycharm": {
     "name": "#%% md\n"
    }
   }
  },
  {
   "cell_type": "markdown",
   "source": [
    "### Add tests for Passport contract\n",
    "#### create_passport +\n",
    "#### update_name +\n",
    "#### update_avatar +\n",
    "#### proof_address +\n",
    "#### remove_address +\n",
    "#### set_minter\n",
    "#### set_owner\n",
    "#### set_active\n",
    "#### set_subgraphs\n",
    "#### transfer_nft +\n",
    "#### send_nft\n",
    "#### mint\n",
    "#### burn +\n",
    "#### approve\n",
    "#### approve_all\n",
    "#### revoke\n",
    "#### revoke_all\n",
    "#### Expirations\n",
    "##### at_height\n",
    "##### at_time\n",
    "##### never\n",
    "\n",
    "### Add tests for Gift contract\n",
    "#### update_owner\n",
    "#### update_passport_addr\n",
    "#### update_target\n",
    "#### register_merkle_root +\n",
    "#### claim +\n",
    "#### release +\n",
    "\n",
    "### Add tests for subgraph contract\n",
    "#### update_owner\n",
    "#### update_executer +"
   ],
   "metadata": {
    "collapsed": false,
    "pycharm": {
     "name": "#%% md\n"
    }
   }
  },
  {
   "cell_type": "code",
   "execution_count": 30,
   "outputs": [],
   "source": [],
   "metadata": {
    "collapsed": false,
    "pycharm": {
     "name": "#%%\n"
    }
   }
  }
 ],
 "metadata": {
  "kernelspec": {
   "display_name": "Python 3",
   "language": "python",
   "name": "python3"
  },
  "language_info": {
   "codemirror_mode": {
    "name": "ipython",
    "version": 2
   },
   "file_extension": ".py",
   "mimetype": "text/x-python",
   "name": "python",
   "nbconvert_exporter": "python",
   "pygments_lexer": "ipython2",
   "version": "2.7.6"
  }
 },
 "nbformat": 4,
 "nbformat_minor": 0
}