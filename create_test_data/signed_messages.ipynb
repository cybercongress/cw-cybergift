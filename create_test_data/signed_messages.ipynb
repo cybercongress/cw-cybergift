{
 "cells": [
  {
   "cell_type": "markdown",
   "metadata": {
    "collapsed": true,
    "pycharm": {
     "name": "#%% md\n"
    }
   },
   "source": [
    "\n",
    "### Sign message form Ethereum address"
   ]
  },
  {
   "cell_type": "code",
   "execution_count": 1,
   "outputs": [
    {
     "name": "stdout",
     "output_type": "stream",
     "text": [
      "Ethereum address 0x663EDbA36E88aDF88E4C2C88eDf773F2D1B1caDD\n",
      "private key: 0xde1295a4448e59c40e714ebda6034f50f74f30f18543ba8b95c4ae8797ecd8c8\n",
      "\n",
      "Bostrom address: bostrom125k2af750p7m3n333v3q6h5vt5pcckmwrlvgcr\n",
      "Cosmos address: cosmos125k2af750p7m3n333v3q6h5vt5pcckmwqvcmxy\n",
      "Seed: 'lounge fantasy empty review just pyramid any swear belt glass certain rail injury crop bulk cheap title split egg conduct habit thank exile year'\n",
      "\n",
      "message: {\"nickname\": \"john\", \"avatar_cid\": \"QmNqdEgYJwe8QSZvcpBXqcNoG9BRoSf71q6mJLe3aRhZAW\", \"gift_claiming_address_type\": \"ethereum\", \"gift_claiming_address\": \"0x663EDbA36E88aDF88E4C2C88eDf773F2D1B1caDD\", \"target_address\": \"bostrom125k2af750p7m3n333v3q6h5vt5pcckmwrlvgcr\", \"relay_reward\": \"0.01\"}\n",
      "message signature: 0xb51e04fbd0644c15917cff3f8c01eb25f0208671b2cd63091eda6b21fb9fc87239c1f009a65b4a5078389c77915bff1282183113b5bca78566cfbdf23bf0bd351b\n"
     ]
    }
   ],
   "source": [
    "from web3.auto import w3\n",
    "from cyberpy import generate_wallet, address_to_address\n",
    "from eth_account.messages import encode_defunct\n",
    "import json\n",
    "\n",
    "# Generate Ethereum wallet\n",
    "ethereum_wallet = w3.eth.account.create('KEY PHRASE')\n",
    "print(f'Ethereum address {ethereum_wallet.address}\\nprivate key: {ethereum_wallet.privateKey.hex()}')\n",
    "# Generate Bostrom and Cosmos wallet\n",
    "bostrom_wallet = generate_wallet()\n",
    "bostrom_wallet['cosmos_address'] = address_to_address(bostrom_wallet['address'], 'cosmos')\n",
    "print(f\"\\nBostrom address: {bostrom_wallet['address']}\\nCosmos address: {bostrom_wallet['cosmos_address']}\\nSeed: '{bostrom_wallet['seed']}'\")\n",
    "# Create message\n",
    "message_json = {\n",
    "    \"nickname\": \"john\",\n",
    "    \"avatar_cid\": \"QmNqdEgYJwe8QSZvcpBXqcNoG9BRoSf71q6mJLe3aRhZAW\",\n",
    "    \"gift_claiming_address_type\": \"ethereum\",\n",
    "    \"gift_claiming_address\": ethereum_wallet.address,\n",
    "    \"target_address\": bostrom_wallet['address'],\n",
    "    \"relay_reward\": \"0.01\"\n",
    "}\n",
    "message = json.dumps(message_json)\n",
    "# Sign message form Ethereum address\n",
    "signed_message = \\\n",
    "    w3.eth.account.sign_message(\n",
    "        signable_message=encode_defunct(text=message),\n",
    "        private_key=ethereum_wallet.privateKey)\n",
    "print(f'\\nmessage: {message}\\nmessage signature: {signed_message.signature.hex()}')"
   ],
   "metadata": {
    "collapsed": false,
    "pycharm": {
     "name": "#%%\n"
    }
   }
  },
  {
   "cell_type": "code",
   "execution_count": null,
   "outputs": [],
   "source": [],
   "metadata": {
    "collapsed": false,
    "pycharm": {
     "name": "#%%\n"
    }
   }
  }
 ],
 "metadata": {
  "kernelspec": {
   "display_name": "Python 3",
   "language": "python",
   "name": "python3"
  },
  "language_info": {
   "codemirror_mode": {
    "name": "ipython",
    "version": 2
   },
   "file_extension": ".py",
   "mimetype": "text/x-python",
   "name": "python",
   "nbconvert_exporter": "python",
   "pygments_lexer": "ipython2",
   "version": "2.7.6"
  }
 },
 "nbformat": 4,
 "nbformat_minor": 0
}